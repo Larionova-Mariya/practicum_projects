{
 "cells": [
  {
   "cell_type": "markdown",
   "metadata": {},
   "source": [
    "# Исследование надёжности заёмщиков\n",
    "\n",
    "Заказчик — кредитный отдел банка. Нужно разобраться, влияет ли семейное положение и количество детей клиента на факт погашения кредита в срок. Входные данные от банка — статистика о платёжеспособности клиентов.\n",
    "\n",
    "Результаты исследования будут учтены при построении модели **кредитного скоринга** — специальной системы, которая оценивает способность потенциального заёмщика вернуть кредит банку."
   ]
  },
  {
   "cell_type": "markdown",
   "metadata": {},
   "source": [
    "## Шаг 1. Изучение данных"
   ]
  },
  {
   "cell_type": "code",
   "execution_count": 1,
   "metadata": {},
   "outputs": [
    {
     "name": "stdout",
     "output_type": "stream",
     "text": [
      "Collecting pymystem3\n",
      "  Downloading pymystem3-0.2.0-py3-none-any.whl (10 kB)\n",
      "Collecting requests\n",
      "  Downloading requests-2.27.1-py2.py3-none-any.whl (63 kB)\n",
      "     |████████████████████████████████| 63 kB 438 kB/s            \n",
      "\u001b[?25hCollecting urllib3<1.27,>=1.21.1\n",
      "  Downloading urllib3-1.26.8-py2.py3-none-any.whl (138 kB)\n",
      "     |████████████████████████████████| 138 kB 2.5 MB/s            \n",
      "\u001b[?25hCollecting idna<4,>=2.5\n",
      "  Downloading idna-3.3-py3-none-any.whl (61 kB)\n",
      "     |████████████████████████████████| 61 kB 1.9 MB/s            \n",
      "\u001b[?25hCollecting charset-normalizer~=2.0.0\n",
      "  Downloading charset_normalizer-2.0.10-py3-none-any.whl (39 kB)\n",
      "Collecting certifi>=2017.4.17\n",
      "  Downloading certifi-2021.10.8-py2.py3-none-any.whl (149 kB)\n",
      "     |████████████████████████████████| 149 kB 4.8 MB/s            \n",
      "\u001b[?25hInstalling collected packages: urllib3, idna, charset-normalizer, certifi, requests, pymystem3\n",
      "Successfully installed certifi-2021.10.8 charset-normalizer-2.0.10 idna-3.3 pymystem3-0.2.0 requests-2.27.1 urllib3-1.26.8\n",
      "Note: you may need to restart the kernel to use updated packages.\n"
     ]
    }
   ],
   "source": [
    "pip install pymystem3"
   ]
  },
  {
   "cell_type": "code",
   "execution_count": 3,
   "metadata": {},
   "outputs": [
    {
     "name": "stdout",
     "output_type": "stream",
     "text": [
      "Collecting pandas\n",
      "  Downloading pandas-1.1.5-cp36-cp36m-manylinux1_x86_64.whl (9.5 MB)\n",
      "     |████████████████████████████████| 9.5 MB 1.5 MB/s            \n",
      "\u001b[?25hCollecting numpy>=1.15.4\n",
      "  Downloading numpy-1.19.5-cp36-cp36m-manylinux2010_x86_64.whl (14.8 MB)\n",
      "     |████████████████████████████████| 14.8 MB 180 kB/s            \n",
      "\u001b[?25hCollecting pytz>=2017.2\n",
      "  Downloading pytz-2021.3-py2.py3-none-any.whl (503 kB)\n",
      "     |████████████████████████████████| 503 kB 1.6 MB/s            \n",
      "\u001b[?25hRequirement already satisfied: python-dateutil>=2.7.3 in ./my_projects_env/lib/python3.6/site-packages (from pandas) (2.8.2)\n",
      "Requirement already satisfied: six>=1.5 in ./my_projects_env/lib/python3.6/site-packages (from python-dateutil>=2.7.3->pandas) (1.16.0)\n",
      "Installing collected packages: pytz, numpy, pandas\n",
      "Successfully installed numpy-1.19.5 pandas-1.1.5 pytz-2021.3\n",
      "Note: you may need to restart the kernel to use updated packages.\n"
     ]
    }
   ],
   "source": [
    "pip install pandas"
   ]
  },
  {
   "cell_type": "code",
   "execution_count": 6,
   "metadata": {},
   "outputs": [
    {
     "name": "stdout",
     "output_type": "stream",
     "text": [
      "Collecting fsspec\n",
      "  Downloading fsspec-2022.1.0-py3-none-any.whl (133 kB)\n",
      "     |████████████████████████████████| 133 kB 738 kB/s            \n",
      "\u001b[?25hInstalling collected packages: fsspec\n",
      "Successfully installed fsspec-2022.1.0\n",
      "Note: you may need to restart the kernel to use updated packages.\n"
     ]
    }
   ],
   "source": [
    "pip install fsspec"
   ]
  },
  {
   "cell_type": "code",
   "execution_count": 4,
   "metadata": {},
   "outputs": [
    {
     "name": "stderr",
     "output_type": "stream",
     "text": [
      "Installing mystem to /home/mary/.local/bin/mystem from http://download.cdn.yandex.net/mystem/mystem-3.1-linux-64bit.tar.gz\n"
     ]
    }
   ],
   "source": [
    "import pandas as pd\n",
    "from pymystem3 import Mystem\n",
    "m = Mystem()"
   ]
  },
  {
   "cell_type": "code",
   "execution_count": 9,
   "metadata": {},
   "outputs": [
    {
     "name": "stdout",
     "output_type": "stream",
     "text": [
      "<class 'pandas.core.frame.DataFrame'>\n",
      "RangeIndex: 21525 entries, 0 to 21524\n",
      "Data columns (total 12 columns):\n",
      " #   Column            Non-Null Count  Dtype  \n",
      "---  ------            --------------  -----  \n",
      " 0   children          21525 non-null  int64  \n",
      " 1   days_employed     19351 non-null  float64\n",
      " 2   dob_years         21525 non-null  int64  \n",
      " 3   education         21525 non-null  object \n",
      " 4   education_id      21525 non-null  int64  \n",
      " 5   family_status     21525 non-null  object \n",
      " 6   family_status_id  21525 non-null  int64  \n",
      " 7   gender            21525 non-null  object \n",
      " 8   income_type       21525 non-null  object \n",
      " 9   debt              21525 non-null  int64  \n",
      " 10  total_income      19351 non-null  float64\n",
      " 11  purpose           21525 non-null  object \n",
      "dtypes: float64(2), int64(5), object(5)\n",
      "memory usage: 2.0+ MB\n"
     ]
    }
   ],
   "source": [
    "try:\n",
    "    data = pd.read_csv('data.csv')\n",
    "except:\n",
    "    data = pd.read_csv('C://Users/Мария/Documents/Мария/Яндекс.Практикум/Анализ_данных/портфолио/1p_data.csv')\n",
    "data.info()"
   ]
  },
  {
   "cell_type": "markdown",
   "metadata": {},
   "source": [
    "### Вывод\n",
    "\n",
    "В столбце 'days_employed' есть отрицательные значения. В столбцах 'days_employed' и 'total_income' (количественные переменные) есть пропущенные значения. Т.к. объём пропущенных значений - 10%, их нельзя удалять, нужно заменить на характерные (средние или медианные). Формат столба 'days_employed' - вещественные числа, нужно заменить на целочисленные."
   ]
  },
  {
   "cell_type": "markdown",
   "metadata": {},
   "source": [
    "## Шаг 2. Предобработка данных"
   ]
  },
  {
   "cell_type": "markdown",
   "metadata": {},
   "source": [
    "### Обработка пропусков"
   ]
  },
  {
   "cell_type": "code",
   "execution_count": 10,
   "metadata": {},
   "outputs": [
    {
     "data": {
      "text/plain": [
       "children               0\n",
       "days_employed       2174\n",
       "dob_years              0\n",
       "education              0\n",
       "education_id           0\n",
       "family_status          0\n",
       "family_status_id       0\n",
       "gender                 0\n",
       "income_type            0\n",
       "debt                   0\n",
       "total_income        2174\n",
       "purpose                0\n",
       "dtype: int64"
      ]
     },
     "execution_count": 10,
     "metadata": {},
     "output_type": "execute_result"
    }
   ],
   "source": [
    "data.isnull().sum()"
   ]
  },
  {
   "cell_type": "markdown",
   "metadata": {},
   "source": [
    "Количество пропусков в обих столбцах одинаковое, нужно проверить все ли значения пропущены в одних и тех же строках."
   ]
  },
  {
   "cell_type": "code",
   "execution_count": 11,
   "metadata": {},
   "outputs": [
    {
     "name": "stdout",
     "output_type": "stream",
     "text": [
      "children            2174\n",
      "days_employed          0\n",
      "dob_years           2174\n",
      "education           2174\n",
      "education_id        2174\n",
      "family_status       2174\n",
      "family_status_id    2174\n",
      "gender              2174\n",
      "income_type         2174\n",
      "debt                2174\n",
      "total_income           0\n",
      "purpose             2174\n",
      "dtype: int64\n"
     ]
    }
   ],
   "source": [
    "print(data[(data['days_employed'].isna()) & (data['total_income'].isna())].count())"
   ]
  },
  {
   "cell_type": "code",
   "execution_count": 12,
   "metadata": {},
   "outputs": [],
   "source": [
    "de_median = data['days_employed'].median()\n",
    "ti_median = data['total_income'].median()\n",
    "data.fillna({'days_employed': de_median, 'total_income': ti_median}, inplace=True)"
   ]
  },
  {
   "cell_type": "code",
   "execution_count": 13,
   "metadata": {},
   "outputs": [
    {
     "data": {
      "text/plain": [
       "children            0\n",
       "days_employed       0\n",
       "dob_years           0\n",
       "education           0\n",
       "education_id        0\n",
       "family_status       0\n",
       "family_status_id    0\n",
       "gender              0\n",
       "income_type         0\n",
       "debt                0\n",
       "total_income        0\n",
       "purpose             0\n",
       "dtype: int64"
      ]
     },
     "execution_count": 13,
     "metadata": {},
     "output_type": "execute_result"
    }
   ],
   "source": [
    "data.isnull().sum()"
   ]
  },
  {
   "cell_type": "markdown",
   "metadata": {},
   "source": [
    "#### Вывод\n",
    "\n",
    "Значения прорущены в одних и тех же строках, возможно, были проблемы с выгрузкой. Или с формами для сбора данных, если эти данные получены в одно и то же время.\n",
    "Пропущенные значения количественных переменных заменены на медианные, потому что трудовой стаж и доход могут очень сильно различаться, средние значения больше медианных."
   ]
  },
  {
   "cell_type": "markdown",
   "metadata": {},
   "source": [
    "### Замена типа данных"
   ]
  },
  {
   "cell_type": "code",
   "execution_count": 14,
   "metadata": {},
   "outputs": [],
   "source": [
    "data['days_employed'] = data['days_employed'].astype('int')\n",
    "data['total_income'] = data['total_income'].astype('int')"
   ]
  },
  {
   "cell_type": "code",
   "execution_count": 15,
   "metadata": {},
   "outputs": [
    {
     "name": "stdout",
     "output_type": "stream",
     "text": [
      "<class 'pandas.core.frame.DataFrame'>\n",
      "RangeIndex: 21525 entries, 0 to 21524\n",
      "Data columns (total 12 columns):\n",
      " #   Column            Non-Null Count  Dtype \n",
      "---  ------            --------------  ----- \n",
      " 0   children          21525 non-null  int64 \n",
      " 1   days_employed     21525 non-null  int64 \n",
      " 2   dob_years         21525 non-null  int64 \n",
      " 3   education         21525 non-null  object\n",
      " 4   education_id      21525 non-null  int64 \n",
      " 5   family_status     21525 non-null  object\n",
      " 6   family_status_id  21525 non-null  int64 \n",
      " 7   gender            21525 non-null  object\n",
      " 8   income_type       21525 non-null  object\n",
      " 9   debt              21525 non-null  int64 \n",
      " 10  total_income      21525 non-null  int64 \n",
      " 11  purpose           21525 non-null  object\n",
      "dtypes: int64(7), object(5)\n",
      "memory usage: 2.0+ MB\n"
     ]
    }
   ],
   "source": [
    "data.info()"
   ]
  },
  {
   "cell_type": "markdown",
   "metadata": {},
   "source": [
    "#### Вывод\n",
    "\n",
    "Вещественный тип данных изменён на целочисленный. Для изменения типа данных используется метод astype. Он позволяет превращать одно число в другое."
   ]
  },
  {
   "cell_type": "markdown",
   "metadata": {},
   "source": [
    "### Обработка дубликатов"
   ]
  },
  {
   "cell_type": "code",
   "execution_count": 16,
   "metadata": {},
   "outputs": [
    {
     "data": {
      "text/plain": [
       "0                       покупка жилья\n",
       "1             приобретение автомобиля\n",
       "2                       покупка жилья\n",
       "3          дополнительное образование\n",
       "4                     сыграть свадьбу\n",
       "                     ...             \n",
       "21520               операции с жильем\n",
       "21521            сделка с автомобилем\n",
       "21522                    недвижимость\n",
       "21523    на покупку своего автомобиля\n",
       "21524           на покупку автомобиля\n",
       "Name: purpose, Length: 21525, dtype: object"
      ]
     },
     "execution_count": 16,
     "metadata": {},
     "output_type": "execute_result"
    }
   ],
   "source": [
    "data['education'].str.lower()\n",
    "data['family_status'].str.lower()\n",
    "data['gender'].str.lower()\n",
    "data['income_type'].str.lower()\n",
    "data['purpose'].str.lower()"
   ]
  },
  {
   "cell_type": "code",
   "execution_count": 17,
   "metadata": {},
   "outputs": [
    {
     "data": {
      "text/plain": [
       "54"
      ]
     },
     "execution_count": 17,
     "metadata": {},
     "output_type": "execute_result"
    }
   ],
   "source": [
    "data.duplicated().sum()"
   ]
  },
  {
   "cell_type": "code",
   "execution_count": 18,
   "metadata": {},
   "outputs": [],
   "source": [
    "data = data.drop_duplicates().reset_index(drop = True)"
   ]
  },
  {
   "cell_type": "code",
   "execution_count": 19,
   "metadata": {},
   "outputs": [
    {
     "data": {
      "text/plain": [
       "0"
      ]
     },
     "execution_count": 19,
     "metadata": {},
     "output_type": "execute_result"
    }
   ],
   "source": [
    "data.duplicated().sum()"
   ]
  },
  {
   "cell_type": "markdown",
   "metadata": {},
   "source": [
    "#### Вывод\n",
    "\n",
    "Дубликаты удалены. Для поиска дубликатов используется метод duplicated(), удаления дубликатов использован метод drop_duplicates() с методом reset_index(drop = True), чтобы не сохранять в отдельный столбец старые индексы. Дубликаты могли появиться из-за проблем с выгрузкой или с формой для сбора данных, если данные вводились повторно после собщения о том, что они не были сохранены, когда на самом деле они были сохранены."
   ]
  },
  {
   "cell_type": "markdown",
   "metadata": {},
   "source": [
    "### Лемматизация"
   ]
  },
  {
   "cell_type": "code",
   "execution_count": 20,
   "metadata": {},
   "outputs": [],
   "source": [
    "def purpose_category(row):\n",
    "    lemmas = m.lemmatize(row)\n",
    "    for row in lemmas:\n",
    "        for goal in ['автомобиль', 'свадьба', 'ремонт', 'образование']:\n",
    "            if goal in row:\n",
    "                return goal\n",
    "        if 'жилье' in row:\n",
    "            return 'недвижимость'\n",
    "        if 'недвижимость' in row:\n",
    "            return 'недвижимость'\n",
    "        if 'строительство' in row:\n",
    "            return 'недвижимость'"
   ]
  },
  {
   "cell_type": "code",
   "execution_count": 21,
   "metadata": {},
   "outputs": [
    {
     "data": {
      "text/plain": [
       "недвижимость    10207\n",
       "автомобиль       4308\n",
       "образование      4014\n",
       "свадьба          2335\n",
       "ремонт            607\n",
       "Name: purpose_category, dtype: int64"
      ]
     },
     "execution_count": 21,
     "metadata": {},
     "output_type": "execute_result"
    }
   ],
   "source": [
    "data['purpose_category'] = data['purpose'].apply(purpose_category)\n",
    "data['purpose_category'].value_counts()"
   ]
  },
  {
   "cell_type": "markdown",
   "metadata": {},
   "source": [
    "#### Вывод\n",
    "\n",
    "С помощью лемматизации выделены основные цели кредитов. Для лемматизации использован метод библиотеки pymystem3. Сначала определены все возможные леммы, потом выбраны те, которые подходят под описание целей, и написана функция для распределения по категориям. "
   ]
  },
  {
   "cell_type": "markdown",
   "metadata": {},
   "source": [
    "### Категоризация данных"
   ]
  },
  {
   "cell_type": "code",
   "execution_count": 22,
   "metadata": {},
   "outputs": [
    {
     "data": {
      "text/plain": [
       " 0     14107\n",
       " 1      4809\n",
       " 2      2052\n",
       " 3       330\n",
       " 20       76\n",
       "-1        47\n",
       " 4        41\n",
       " 5         9\n",
       "Name: children, dtype: int64"
      ]
     },
     "execution_count": 22,
     "metadata": {},
     "output_type": "execute_result"
    }
   ],
   "source": [
    "data['children'].value_counts()"
   ]
  },
  {
   "cell_type": "code",
   "execution_count": 23,
   "metadata": {},
   "outputs": [
    {
     "data": {
      "text/plain": [
       "нет      14107\n",
       "один      4856\n",
       "много     2508\n",
       "Name: children_category, dtype: int64"
      ]
     },
     "execution_count": 23,
     "metadata": {},
     "output_type": "execute_result"
    }
   ],
   "source": [
    "data['children'] = data['children'].replace(-1, 1)\n",
    "def children_category(children):\n",
    "    if children == 0:\n",
    "        return 'нет'\n",
    "    if children >= 2:\n",
    "        return 'много'\n",
    "    return 'один'\n",
    "data['children_category'] = data['children'].apply(children_category)\n",
    "data['children_category'].value_counts()"
   ]
  },
  {
   "cell_type": "code",
   "execution_count": 24,
   "metadata": {},
   "outputs": [
    {
     "data": {
      "text/plain": [
       "женат / замужем          12344\n",
       "гражданский брак          4163\n",
       "Не женат / не замужем     2810\n",
       "в разводе                 1195\n",
       "вдовец / вдова             959\n",
       "Name: family_status, dtype: int64"
      ]
     },
     "execution_count": 24,
     "metadata": {},
     "output_type": "execute_result"
    }
   ],
   "source": [
    "data['family_status'].value_counts()"
   ]
  },
  {
   "cell_type": "code",
   "execution_count": 25,
   "metadata": {},
   "outputs": [
    {
     "data": {
      "text/plain": [
       "0    19730\n",
       "1     1741\n",
       "Name: debt, dtype: int64"
      ]
     },
     "execution_count": 25,
     "metadata": {},
     "output_type": "execute_result"
    }
   ],
   "source": [
    "data['debt'].value_counts()"
   ]
  },
  {
   "cell_type": "code",
   "execution_count": 26,
   "metadata": {},
   "outputs": [
    {
     "data": {
      "text/plain": [
       "101 тысяча - 200 тысяч    11942\n",
       "51 - 100 тысяч             4091\n",
       "201 тысяча - 300 тысяч     3584\n",
       "301 тысяча - 500 тысяч     1260\n",
       "50 тысяч и меньше           372\n",
       "больше 500 тысяч            222\n",
       "Name: income_category, dtype: int64"
      ]
     },
     "execution_count": 26,
     "metadata": {},
     "output_type": "execute_result"
    }
   ],
   "source": [
    "data.sort_values('total_income')\n",
    "def income_category(income):\n",
    "    if income <= 50000:\n",
    "        return '50 тысяч и меньше'\n",
    "    if income <= 100000:\n",
    "        return '51 - 100 тысяч'\n",
    "    if income <= 200000:\n",
    "        return '101 тысяча - 200 тысяч'\n",
    "    if income <= 300000:\n",
    "        return '201 тысяча - 300 тысяч'\n",
    "    if income <= 500000:\n",
    "        return '301 тысяча - 500 тысяч'\n",
    "    return 'больше 500 тысяч'\n",
    "data['income_category'] = data['total_income'].apply(income_category)\n",
    "data['income_category'].value_counts()"
   ]
  },
  {
   "cell_type": "code",
   "execution_count": 27,
   "metadata": {},
   "outputs": [],
   "source": [
    "data_dict = data[['debt', 'children_category', 'family_status', 'income_category', 'purpose_category']]"
   ]
  },
  {
   "cell_type": "markdown",
   "metadata": {},
   "source": [
    "#### Вывод\n",
    "\n",
    "Дети и уровень дохода разделены по категориям. Сначала подсчитано количество значений в столбце с детьми. Т.к. больше всего людей без детей и с одним ребёнком, все остальные отнесены в одну категорию (2 и больше). Есть 76 людей с 20 детьми, что, возможно ошибка. По уровню дохода выделены категории с очень маленьким и очень большим доходом, остальные разбиты на категории с шагом 100 тысяч. Цели распределены по категориям в предыдущем шаге."
   ]
  },
  {
   "cell_type": "markdown",
   "metadata": {},
   "source": [
    "## Шаг 3. Ответы на вопросы"
   ]
  },
  {
   "cell_type": "markdown",
   "metadata": {},
   "source": [
    "### Есть ли зависимость между наличием детей и возвратом кредита в срок?"
   ]
  },
  {
   "cell_type": "code",
   "execution_count": 28,
   "metadata": {},
   "outputs": [
    {
     "name": "stdout",
     "output_type": "stream",
     "text": [
      "                   debt    all  probability_debt\n",
      "children_category                               \n",
      "много               233   2508          0.092903\n",
      "один                445   4856          0.091639\n",
      "нет                1063  14107          0.075353\n"
     ]
    }
   ],
   "source": [
    "data_pivot = data.pivot_table(index=['children_category'], values='debt', aggfunc='sum')\n",
    "data_pivot['all'] = data_dict.groupby('children_category')['debt'].count()\n",
    "data_pivot['probability_debt'] = data_pivot['debt'] / data_pivot['all']\n",
    "print(data_pivot.sort_values(by = 'probability_debt', ascending = False)) "
   ]
  },
  {
   "cell_type": "markdown",
   "metadata": {},
   "source": [
    "#### Вывод\n",
    "\n",
    "Люди без детей с большей вероятностью вернут кредит в срок, чем люди с детьми."
   ]
  },
  {
   "cell_type": "markdown",
   "metadata": {},
   "source": [
    "### Есть ли зависимость между семейным положением и возвратом кредита в срок?"
   ]
  },
  {
   "cell_type": "code",
   "execution_count": 29,
   "metadata": {},
   "outputs": [
    {
     "name": "stdout",
     "output_type": "stream",
     "text": [
      "                       debt    all  probability_debt\n",
      "family_status                                       \n",
      "Не женат / не замужем   274   2810          0.097509\n",
      "гражданский брак        388   4163          0.093202\n",
      "женат / замужем         931  12344          0.075421\n",
      "в разводе                85   1195          0.071130\n",
      "вдовец / вдова           63    959          0.065693\n"
     ]
    }
   ],
   "source": [
    "data_pivot = data.pivot_table(index=['family_status'], values='debt', aggfunc='sum')\n",
    "data_pivot['all'] = data_dict.groupby('family_status')['debt'].count()\n",
    "data_pivot['probability_debt'] = data_pivot['debt'] / data_pivot['all']\n",
    "print(data_pivot.sort_values(by = 'probability_debt', ascending = False)) "
   ]
  },
  {
   "cell_type": "markdown",
   "metadata": {},
   "source": [
    "#### Вывод\n",
    "\n",
    "Никогда не состоявшие в браке или состоящие в гражанском браке люди с большей вероятностью не вернут кредит в срок."
   ]
  },
  {
   "cell_type": "markdown",
   "metadata": {},
   "source": [
    "### Есть ли зависимость между уровнем дохода и возвратом кредита в срок?"
   ]
  },
  {
   "cell_type": "code",
   "execution_count": 30,
   "metadata": {},
   "outputs": [
    {
     "name": "stdout",
     "output_type": "stream",
     "text": [
      "                        debt    all  probability_debt\n",
      "income_category                                      \n",
      "101 тысяча - 200 тысяч  1029  11942          0.086166\n",
      "51 - 100 тысяч           331   4091          0.080909\n",
      "301 тысяча - 500 тысяч    92   1260          0.073016\n",
      "201 тысяча - 300 тысяч   252   3584          0.070312\n",
      "больше 500 тысяч          14    222          0.063063\n",
      "50 тысяч и меньше         23    372          0.061828\n"
     ]
    }
   ],
   "source": [
    "data_pivot = data.pivot_table(index=['income_category'], values='debt', aggfunc='sum')\n",
    "data_pivot['all'] = data_dict.groupby('income_category')['debt'].count()\n",
    "data_pivot['probability_debt'] = data_pivot['debt'] / data_pivot['all']\n",
    "print(data_pivot.sort_values(by = 'probability_debt', ascending = False))"
   ]
  },
  {
   "cell_type": "markdown",
   "metadata": {},
   "source": [
    "#### Вывод\n",
    "\n",
    "Люди с доходом от 100 до 200 тысяч реже возвращают кредит в срок, чем люди с другим доходом. Люди с самым маленьким и самым большим доходом чаще возвращают кредит в срок."
   ]
  },
  {
   "cell_type": "markdown",
   "metadata": {},
   "source": [
    "### Как разные цели кредита влияют на его возврат в срок?"
   ]
  },
  {
   "cell_type": "code",
   "execution_count": 31,
   "metadata": {},
   "outputs": [
    {
     "name": "stdout",
     "output_type": "stream",
     "text": [
      "                  debt    all  probability_debt\n",
      "purpose_category                               \n",
      "автомобиль         403   4308          0.093547\n",
      "образование        370   4014          0.092177\n",
      "свадьба            186   2335          0.079657\n",
      "недвижимость       747  10207          0.073185\n",
      "ремонт              35    607          0.057661\n"
     ]
    }
   ],
   "source": [
    "data_pivot = data.pivot_table(index=['purpose_category'], values='debt', aggfunc='sum')\n",
    "data_pivot['all'] = data_dict.groupby('purpose_category')['debt'].count()\n",
    "data_pivot['probability_debt'] = data_pivot['debt'] / data_pivot['all']\n",
    "print(data_pivot.sort_values(by = 'probability_debt', ascending = False))"
   ]
  },
  {
   "cell_type": "markdown",
   "metadata": {},
   "source": [
    "#### Вывод\n",
    "\n",
    "Люди, которые берут кредит на покупку автомобиля или обучение, с меньшей вероятностью вернут кредит в срок."
   ]
  },
  {
   "cell_type": "markdown",
   "metadata": {},
   "source": [
    "## Шаг 4. Общий вывод"
   ]
  },
  {
   "cell_type": "markdown",
   "metadata": {},
   "source": [
    "- Люди без детей с большей вероятностью вернут кредит в срок, чем люди с детьми.\n",
    "    \n",
    "- Никогда не состоявшие в браке или состоящие в гражанском браке люди с большей вероятностью не вернут кредит в срок.\n",
    "    \n",
    "- Люди с дохдом от 100 до 200 тысяч реже возвращают кредит в срок, чем люди с другим доходом. Вероятность не вернуть кредит вовремя у людей с доходом от 51 до 100 тысяч чуть меньше. Возможно, людей с доходом от 51 до 200 тысяч можно было бы отнести в одну категорию. Люди с самым маленьким и самым большим доходом чаще возвращают кредит в срок.\n",
    "    \n",
    "- Люди, которые берут кредит на покупку автомобиля или обучение, с меньшей вероятностью вернут кредит в срок."
   ]
  }
 ],
 "metadata": {
  "ExecuteTimeLog": [
   {
    "duration": 671,
    "start_time": "2021-08-14T15:30:24.294Z"
   },
   {
    "duration": 2750,
    "start_time": "2021-08-14T15:30:43.913Z"
   },
   {
    "duration": 2291,
    "start_time": "2021-08-14T15:31:00.340Z"
   },
   {
    "duration": 675,
    "start_time": "2021-08-14T15:31:09.172Z"
   },
   {
    "duration": 2214,
    "start_time": "2021-08-14T15:32:48.452Z"
   },
   {
    "duration": 2502,
    "start_time": "2021-08-14T15:33:33.421Z"
   },
   {
    "duration": 716,
    "start_time": "2021-08-14T15:34:19.193Z"
   },
   {
    "duration": 1950,
    "start_time": "2021-08-14T15:35:55.866Z"
   },
   {
    "duration": 237,
    "start_time": "2021-08-14T15:38:34.745Z"
   },
   {
    "duration": 200,
    "start_time": "2021-08-14T15:38:54.951Z"
   },
   {
    "duration": 201,
    "start_time": "2021-08-14T15:39:57.206Z"
   },
   {
    "duration": 19,
    "start_time": "2021-08-14T15:44:26.577Z"
   },
   {
    "duration": 27,
    "start_time": "2021-08-14T15:46:21.228Z"
   },
   {
    "duration": 27,
    "start_time": "2021-08-14T15:46:33.270Z"
   },
   {
    "duration": 7,
    "start_time": "2021-08-14T15:47:16.028Z"
   },
   {
    "duration": 27,
    "start_time": "2021-08-14T15:47:33.930Z"
   },
   {
    "duration": 13,
    "start_time": "2021-08-14T15:47:55.934Z"
   },
   {
    "duration": 88,
    "start_time": "2021-08-14T15:49:27.866Z"
   },
   {
    "duration": 7,
    "start_time": "2021-08-14T15:49:35.499Z"
   },
   {
    "duration": 7,
    "start_time": "2021-08-14T15:49:47.489Z"
   },
   {
    "duration": 733,
    "start_time": "2021-08-14T15:54:27.736Z"
   },
   {
    "duration": 7,
    "start_time": "2021-08-14T15:54:42.153Z"
   },
   {
    "duration": 8,
    "start_time": "2021-08-14T15:55:00.976Z"
   },
   {
    "duration": 13,
    "start_time": "2021-08-14T15:55:26.880Z"
   },
   {
    "duration": 12,
    "start_time": "2021-08-14T15:55:47.522Z"
   },
   {
    "duration": 37,
    "start_time": "2021-08-14T15:56:21.867Z"
   },
   {
    "duration": 8,
    "start_time": "2021-08-14T15:57:57.889Z"
   },
   {
    "duration": 41,
    "start_time": "2021-08-14T15:59:31.889Z"
   },
   {
    "duration": 39,
    "start_time": "2021-08-14T15:59:46.405Z"
   },
   {
    "duration": 40,
    "start_time": "2021-08-14T16:00:07.783Z"
   },
   {
    "duration": 42,
    "start_time": "2021-08-14T16:00:19.988Z"
   },
   {
    "duration": 9,
    "start_time": "2021-08-14T16:00:33.611Z"
   },
   {
    "duration": 38,
    "start_time": "2021-08-14T16:01:29.414Z"
   },
   {
    "duration": 58,
    "start_time": "2021-08-14T16:03:47.134Z"
   },
   {
    "duration": 7454,
    "start_time": "2021-08-14T16:08:28.815Z"
   },
   {
    "duration": 14,
    "start_time": "2021-08-14T16:09:12.937Z"
   },
   {
    "duration": 26,
    "start_time": "2021-08-14T16:10:18.160Z"
   },
   {
    "duration": 11,
    "start_time": "2021-08-14T16:10:37.405Z"
   },
   {
    "duration": 26,
    "start_time": "2021-08-14T16:11:23.687Z"
   },
   {
    "duration": 24,
    "start_time": "2021-08-14T16:11:50.809Z"
   },
   {
    "duration": 94,
    "start_time": "2021-08-14T16:15:32.768Z"
   },
   {
    "duration": 121,
    "start_time": "2021-08-14T16:15:38.517Z"
   },
   {
    "duration": 8,
    "start_time": "2021-08-14T16:16:35.320Z"
   },
   {
    "duration": 14,
    "start_time": "2021-08-14T16:17:02.550Z"
   },
   {
    "duration": 16,
    "start_time": "2021-08-14T16:17:27.827Z"
   },
   {
    "duration": 14,
    "start_time": "2021-08-14T16:17:41.441Z"
   },
   {
    "duration": 8,
    "start_time": "2021-08-14T16:17:59.690Z"
   },
   {
    "duration": 13,
    "start_time": "2021-08-14T16:18:04.696Z"
   },
   {
    "duration": 6,
    "start_time": "2021-08-14T16:35:28.866Z"
   },
   {
    "duration": 7,
    "start_time": "2021-08-14T16:35:37.579Z"
   },
   {
    "duration": 7,
    "start_time": "2021-08-14T16:35:48.383Z"
   },
   {
    "duration": 7,
    "start_time": "2021-08-14T16:37:57.378Z"
   },
   {
    "duration": 91,
    "start_time": "2021-08-14T16:39:53.399Z"
   },
   {
    "duration": 7,
    "start_time": "2021-08-14T16:40:00.095Z"
   },
   {
    "duration": 7,
    "start_time": "2021-08-14T16:41:47.548Z"
   },
   {
    "duration": 7,
    "start_time": "2021-08-14T16:42:29.754Z"
   },
   {
    "duration": 6,
    "start_time": "2021-08-14T16:43:49.112Z"
   },
   {
    "duration": 22,
    "start_time": "2021-08-14T16:45:34.423Z"
   },
   {
    "duration": 25,
    "start_time": "2021-08-14T16:45:58.443Z"
   },
   {
    "duration": 19,
    "start_time": "2021-08-14T16:49:02.980Z"
   },
   {
    "duration": 23,
    "start_time": "2021-08-14T16:49:55.706Z"
   },
   {
    "duration": 22,
    "start_time": "2021-08-14T16:50:08.817Z"
   },
   {
    "duration": 100,
    "start_time": "2021-08-14T16:52:51.103Z"
   },
   {
    "duration": 6735,
    "start_time": "2021-08-14T16:53:21.568Z"
   },
   {
    "duration": 7266,
    "start_time": "2021-08-14T16:54:39.584Z"
   },
   {
    "duration": 31,
    "start_time": "2021-08-14T16:54:55.014Z"
   },
   {
    "duration": 39,
    "start_time": "2021-08-14T16:55:02.244Z"
   },
   {
    "duration": 8,
    "start_time": "2021-08-14T16:56:11.399Z"
   },
   {
    "duration": 13,
    "start_time": "2021-08-14T16:56:15.093Z"
   },
   {
    "duration": 7,
    "start_time": "2021-08-14T17:19:13.249Z"
   },
   {
    "duration": 12,
    "start_time": "2021-08-14T17:19:18.543Z"
   },
   {
    "duration": 5,
    "start_time": "2021-08-14T17:20:16.196Z"
   },
   {
    "duration": 16,
    "start_time": "2021-08-14T17:20:30.055Z"
   },
   {
    "duration": 19,
    "start_time": "2021-08-14T17:20:32.462Z"
   },
   {
    "duration": 16,
    "start_time": "2021-08-14T17:21:09.591Z"
   },
   {
    "duration": 14,
    "start_time": "2021-08-14T17:21:10.522Z"
   },
   {
    "duration": 18,
    "start_time": "2021-08-14T17:22:03.008Z"
   },
   {
    "duration": 14,
    "start_time": "2021-08-14T17:22:03.809Z"
   },
   {
    "duration": 252,
    "start_time": "2021-08-14T17:23:45.138Z"
   },
   {
    "duration": 13,
    "start_time": "2021-08-14T17:23:45.392Z"
   },
   {
    "duration": 10,
    "start_time": "2021-08-14T17:23:45.408Z"
   },
   {
    "duration": 76,
    "start_time": "2021-08-14T17:23:45.421Z"
   },
   {
    "duration": 272,
    "start_time": "2021-08-14T17:23:45.499Z"
   },
   {
    "duration": -1725,
    "start_time": "2021-08-14T17:23:47.499Z"
   },
   {
    "duration": 18,
    "start_time": "2021-08-14T17:24:45.601Z"
   },
   {
    "duration": 12,
    "start_time": "2021-08-14T17:25:18.830Z"
   },
   {
    "duration": 11,
    "start_time": "2021-08-14T17:25:21.089Z"
   },
   {
    "duration": 35,
    "start_time": "2021-08-14T17:25:26.686Z"
   },
   {
    "duration": 13,
    "start_time": "2021-08-14T17:25:27.904Z"
   },
   {
    "duration": 8,
    "start_time": "2021-08-14T17:26:27.679Z"
   },
   {
    "duration": 13,
    "start_time": "2021-08-14T17:26:28.718Z"
   },
   {
    "duration": 201,
    "start_time": "2021-08-14T17:26:48.973Z"
   },
   {
    "duration": 12,
    "start_time": "2021-08-14T17:26:49.176Z"
   },
   {
    "duration": 19,
    "start_time": "2021-08-14T17:26:49.191Z"
   },
   {
    "duration": 9,
    "start_time": "2021-08-14T17:26:49.213Z"
   },
   {
    "duration": 41,
    "start_time": "2021-08-14T17:26:49.224Z"
   },
   {
    "duration": 21,
    "start_time": "2021-08-14T17:26:49.268Z"
   },
   {
    "duration": 18,
    "start_time": "2021-08-14T17:26:49.292Z"
   },
   {
    "duration": 271,
    "start_time": "2021-08-14T17:27:43.550Z"
   },
   {
    "duration": 13,
    "start_time": "2021-08-14T17:27:44.368Z"
   },
   {
    "duration": 11,
    "start_time": "2021-08-14T17:30:13.722Z"
   },
   {
    "duration": 12,
    "start_time": "2021-08-14T17:30:52.527Z"
   },
   {
    "duration": 277,
    "start_time": "2021-08-14T17:31:28.194Z"
   },
   {
    "duration": 288,
    "start_time": "2021-08-14T17:31:35.502Z"
   },
   {
    "duration": 13,
    "start_time": "2021-08-14T17:31:35.793Z"
   },
   {
    "duration": 27,
    "start_time": "2021-08-14T17:31:35.809Z"
   },
   {
    "duration": 26,
    "start_time": "2021-08-14T17:31:35.839Z"
   },
   {
    "duration": 30,
    "start_time": "2021-08-14T17:31:35.868Z"
   },
   {
    "duration": 23,
    "start_time": "2021-08-14T17:31:35.901Z"
   },
   {
    "duration": 33,
    "start_time": "2021-08-14T17:31:35.926Z"
   },
   {
    "duration": 7,
    "start_time": "2021-08-14T17:32:24.876Z"
   },
   {
    "duration": 30,
    "start_time": "2021-08-14T17:32:25.780Z"
   },
   {
    "duration": 50,
    "start_time": "2021-08-14T17:34:35.325Z"
   },
   {
    "duration": 75,
    "start_time": "2021-08-14T17:35:58.730Z"
   },
   {
    "duration": 23,
    "start_time": "2021-08-14T17:37:33.692Z"
   },
   {
    "duration": 27,
    "start_time": "2021-08-14T17:37:45.926Z"
   },
   {
    "duration": 25,
    "start_time": "2021-08-14T17:37:46.838Z"
   },
   {
    "duration": 286,
    "start_time": "2021-08-15T09:36:09.890Z"
   },
   {
    "duration": 677,
    "start_time": "2021-08-15T09:36:17.945Z"
   },
   {
    "duration": 12,
    "start_time": "2021-08-15T09:36:18.624Z"
   },
   {
    "duration": 10,
    "start_time": "2021-08-15T09:36:18.638Z"
   },
   {
    "duration": 5,
    "start_time": "2021-08-15T09:36:18.649Z"
   },
   {
    "duration": 8,
    "start_time": "2021-08-15T09:36:18.656Z"
   },
   {
    "duration": 6,
    "start_time": "2021-08-15T09:36:18.665Z"
   },
   {
    "duration": 23,
    "start_time": "2021-08-15T09:36:18.672Z"
   },
   {
    "duration": 14,
    "start_time": "2021-08-15T09:36:18.697Z"
   },
   {
    "duration": 12,
    "start_time": "2021-08-15T09:36:18.712Z"
   },
   {
    "duration": 241,
    "start_time": "2021-08-15T09:36:18.726Z"
   },
   {
    "duration": 4087,
    "start_time": "2021-08-15T09:38:12.941Z"
   },
   {
    "duration": 4296,
    "start_time": "2021-08-15T09:39:55.809Z"
   },
   {
    "duration": 3240,
    "start_time": "2021-08-15T09:46:03.021Z"
   },
   {
    "duration": 3042,
    "start_time": "2021-08-15T09:46:16.334Z"
   },
   {
    "duration": 100,
    "start_time": "2021-08-15T09:54:13.207Z"
   },
   {
    "duration": 938,
    "start_time": "2021-08-15T09:54:40.978Z"
   },
   {
    "duration": 69551,
    "start_time": "2021-08-15T09:55:11.358Z"
   },
   {
    "duration": 3090,
    "start_time": "2021-08-15T09:57:23.514Z"
   },
   {
    "duration": 3264,
    "start_time": "2021-08-15T09:58:15.936Z"
   },
   {
    "duration": 1102,
    "start_time": "2021-08-15T09:59:36.946Z"
   },
   {
    "duration": 74,
    "start_time": "2021-08-15T10:00:16.322Z"
   },
   {
    "duration": 1084,
    "start_time": "2021-08-15T10:00:31.025Z"
   },
   {
    "duration": 1085,
    "start_time": "2021-08-15T10:02:02.929Z"
   },
   {
    "duration": 1039,
    "start_time": "2021-08-15T10:05:16.222Z"
   },
   {
    "duration": 3399,
    "start_time": "2021-08-15T10:06:45.552Z"
   },
   {
    "duration": 3181,
    "start_time": "2021-08-15T10:06:59.562Z"
   },
   {
    "duration": 3329,
    "start_time": "2021-08-15T10:07:13.872Z"
   },
   {
    "duration": 3161,
    "start_time": "2021-08-15T10:08:25.045Z"
   },
   {
    "duration": 3186,
    "start_time": "2021-08-15T10:08:36.751Z"
   },
   {
    "duration": 3056,
    "start_time": "2021-08-15T10:09:01.436Z"
   },
   {
    "duration": 3160,
    "start_time": "2021-08-15T10:09:17.067Z"
   },
   {
    "duration": 3185,
    "start_time": "2021-08-15T10:10:45.316Z"
   },
   {
    "duration": 397,
    "start_time": "2021-08-15T10:11:07.351Z"
   },
   {
    "duration": 232,
    "start_time": "2021-08-15T10:13:38.628Z"
   },
   {
    "duration": 361,
    "start_time": "2021-08-15T10:13:54.800Z"
   },
   {
    "duration": 3262,
    "start_time": "2021-08-15T10:14:43.650Z"
   },
   {
    "duration": 3307,
    "start_time": "2021-08-15T10:14:50.559Z"
   },
   {
    "duration": 81,
    "start_time": "2021-08-15T10:16:10.848Z"
   },
   {
    "duration": 1732,
    "start_time": "2021-08-15T10:16:33.422Z"
   },
   {
    "duration": 3276,
    "start_time": "2021-08-15T10:17:16.444Z"
   },
   {
    "duration": 3225,
    "start_time": "2021-08-15T10:21:08.188Z"
   },
   {
    "duration": 3238,
    "start_time": "2021-08-15T10:21:21.199Z"
   },
   {
    "duration": 3497,
    "start_time": "2021-08-15T10:23:27.147Z"
   },
   {
    "duration": 3324,
    "start_time": "2021-08-15T10:23:53.927Z"
   },
   {
    "duration": 3524,
    "start_time": "2021-08-15T10:24:03.936Z"
   },
   {
    "duration": 2884,
    "start_time": "2021-08-15T10:29:07.917Z"
   },
   {
    "duration": 2945,
    "start_time": "2021-08-15T10:29:32.453Z"
   },
   {
    "duration": 3711,
    "start_time": "2021-08-15T10:30:54.057Z"
   },
   {
    "duration": 3365,
    "start_time": "2021-08-15T10:31:30.475Z"
   },
   {
    "duration": 3106,
    "start_time": "2021-08-15T10:32:28.258Z"
   },
   {
    "duration": 3104,
    "start_time": "2021-08-15T10:32:52.037Z"
   },
   {
    "duration": 3312,
    "start_time": "2021-08-15T10:33:25.054Z"
   },
   {
    "duration": 2506,
    "start_time": "2021-08-15T10:33:49.628Z"
   },
   {
    "duration": 3020,
    "start_time": "2021-08-15T10:35:20.133Z"
   },
   {
    "duration": 3154,
    "start_time": "2021-08-15T10:35:41.011Z"
   },
   {
    "duration": 3097,
    "start_time": "2021-08-15T10:36:18.943Z"
   },
   {
    "duration": 3467,
    "start_time": "2021-08-15T10:36:55.544Z"
   },
   {
    "duration": 3384,
    "start_time": "2021-08-15T10:37:17.052Z"
   },
   {
    "duration": 3672,
    "start_time": "2021-08-15T10:37:34.521Z"
   },
   {
    "duration": 3200,
    "start_time": "2021-08-15T10:39:34.329Z"
   },
   {
    "duration": 3173,
    "start_time": "2021-08-15T10:40:00.098Z"
   },
   {
    "duration": 3199,
    "start_time": "2021-08-15T10:40:26.395Z"
   },
   {
    "duration": 234,
    "start_time": "2021-08-15T10:40:42.818Z"
   },
   {
    "duration": 8,
    "start_time": "2021-08-15T10:40:43.054Z"
   },
   {
    "duration": 7,
    "start_time": "2021-08-15T10:40:43.063Z"
   },
   {
    "duration": 6,
    "start_time": "2021-08-15T10:40:43.072Z"
   },
   {
    "duration": 10,
    "start_time": "2021-08-15T10:40:43.079Z"
   },
   {
    "duration": 6,
    "start_time": "2021-08-15T10:40:43.091Z"
   },
   {
    "duration": 12,
    "start_time": "2021-08-15T10:40:43.098Z"
   },
   {
    "duration": 16,
    "start_time": "2021-08-15T10:40:43.112Z"
   },
   {
    "duration": 15,
    "start_time": "2021-08-15T10:40:43.129Z"
   },
   {
    "duration": 3248,
    "start_time": "2021-08-15T10:40:43.145Z"
   },
   {
    "duration": 2438,
    "start_time": "2021-08-15T10:40:46.395Z"
   },
   {
    "duration": 3114,
    "start_time": "2021-08-15T10:41:31.954Z"
   },
   {
    "duration": 3518,
    "start_time": "2021-08-15T10:47:00.241Z"
   },
   {
    "duration": 3364,
    "start_time": "2021-08-15T10:47:39.117Z"
   },
   {
    "duration": 6,
    "start_time": "2021-08-15T10:53:19.987Z"
   },
   {
    "duration": 20,
    "start_time": "2021-08-15T10:53:34.025Z"
   },
   {
    "duration": 6,
    "start_time": "2021-08-15T10:54:28.281Z"
   },
   {
    "duration": 988,
    "start_time": "2021-08-15T10:58:50.060Z"
   },
   {
    "duration": 995,
    "start_time": "2021-08-15T10:59:12.525Z"
   },
   {
    "duration": 12,
    "start_time": "2021-08-15T10:59:26.495Z"
   },
   {
    "duration": 20,
    "start_time": "2021-08-15T11:01:03.562Z"
   },
   {
    "duration": 5,
    "start_time": "2021-08-15T11:01:16.397Z"
   },
   {
    "duration": 6,
    "start_time": "2021-08-15T11:01:46.063Z"
   },
   {
    "duration": 202,
    "start_time": "2021-08-15T11:01:54.503Z"
   },
   {
    "duration": 9,
    "start_time": "2021-08-15T11:01:54.707Z"
   },
   {
    "duration": 8,
    "start_time": "2021-08-15T11:01:54.717Z"
   },
   {
    "duration": 5,
    "start_time": "2021-08-15T11:01:54.727Z"
   },
   {
    "duration": 8,
    "start_time": "2021-08-15T11:01:54.734Z"
   },
   {
    "duration": 4,
    "start_time": "2021-08-15T11:01:54.743Z"
   },
   {
    "duration": 10,
    "start_time": "2021-08-15T11:01:54.749Z"
   },
   {
    "duration": 44,
    "start_time": "2021-08-15T11:01:54.761Z"
   },
   {
    "duration": 14,
    "start_time": "2021-08-15T11:01:54.807Z"
   },
   {
    "duration": 3360,
    "start_time": "2021-08-15T11:01:54.822Z"
   },
   {
    "duration": 5,
    "start_time": "2021-08-15T11:01:58.191Z"
   },
   {
    "duration": 4,
    "start_time": "2021-08-15T11:01:58.198Z"
   },
   {
    "duration": 18,
    "start_time": "2021-08-15T11:02:18.236Z"
   },
   {
    "duration": 17,
    "start_time": "2021-08-15T11:02:27.022Z"
   },
   {
    "duration": 20,
    "start_time": "2021-08-15T11:02:49.765Z"
   },
   {
    "duration": 26,
    "start_time": "2021-08-15T11:03:05.689Z"
   },
   {
    "duration": 22,
    "start_time": "2021-08-15T11:03:19.489Z"
   },
   {
    "duration": 23,
    "start_time": "2021-08-15T11:03:40.342Z"
   },
   {
    "duration": 7,
    "start_time": "2021-08-15T11:06:32.881Z"
   },
   {
    "duration": 14,
    "start_time": "2021-08-15T11:07:42.873Z"
   },
   {
    "duration": 9,
    "start_time": "2021-08-15T11:08:08.664Z"
   },
   {
    "duration": 267,
    "start_time": "2021-08-15T11:10:32.754Z"
   },
   {
    "duration": 23,
    "start_time": "2021-08-15T11:10:40.188Z"
   },
   {
    "duration": 37,
    "start_time": "2021-08-15T11:11:37.342Z"
   },
   {
    "duration": 227,
    "start_time": "2021-08-15T11:11:44.142Z"
   },
   {
    "duration": 19,
    "start_time": "2021-08-15T11:11:57.149Z"
   },
   {
    "duration": 20,
    "start_time": "2021-08-15T11:12:07.717Z"
   },
   {
    "duration": 12,
    "start_time": "2021-08-15T11:14:00.255Z"
   },
   {
    "duration": 10,
    "start_time": "2021-08-15T11:14:19.847Z"
   },
   {
    "duration": 11,
    "start_time": "2021-08-15T11:14:45.760Z"
   },
   {
    "duration": 14,
    "start_time": "2021-08-15T11:14:56.376Z"
   },
   {
    "duration": 22,
    "start_time": "2021-08-15T11:15:48.324Z"
   },
   {
    "duration": 39,
    "start_time": "2021-08-15T11:15:55.817Z"
   },
   {
    "duration": 23,
    "start_time": "2021-08-15T11:15:57.241Z"
   },
   {
    "duration": 208,
    "start_time": "2021-08-15T11:16:02.510Z"
   },
   {
    "duration": 10,
    "start_time": "2021-08-15T11:16:02.720Z"
   },
   {
    "duration": 7,
    "start_time": "2021-08-15T11:16:02.732Z"
   },
   {
    "duration": 8,
    "start_time": "2021-08-15T11:16:02.741Z"
   },
   {
    "duration": 11,
    "start_time": "2021-08-15T11:16:02.751Z"
   },
   {
    "duration": 6,
    "start_time": "2021-08-15T11:16:02.792Z"
   },
   {
    "duration": 13,
    "start_time": "2021-08-15T11:16:02.800Z"
   },
   {
    "duration": 16,
    "start_time": "2021-08-15T11:16:02.815Z"
   },
   {
    "duration": 15,
    "start_time": "2021-08-15T11:16:02.833Z"
   },
   {
    "duration": 3275,
    "start_time": "2021-08-15T11:16:02.850Z"
   },
   {
    "duration": 6,
    "start_time": "2021-08-15T11:16:06.127Z"
   },
   {
    "duration": 25,
    "start_time": "2021-08-15T11:16:06.135Z"
   },
   {
    "duration": 43,
    "start_time": "2021-08-15T11:16:06.162Z"
   },
   {
    "duration": 7,
    "start_time": "2021-08-15T11:16:31.847Z"
   },
   {
    "duration": 46,
    "start_time": "2021-08-15T11:17:16.094Z"
   },
   {
    "duration": 23,
    "start_time": "2021-08-15T11:17:44.823Z"
   },
   {
    "duration": 21,
    "start_time": "2021-08-15T11:17:53.983Z"
   },
   {
    "duration": 154,
    "start_time": "2021-08-15T11:18:01.152Z"
   },
   {
    "duration": 8,
    "start_time": "2021-08-15T11:18:01.308Z"
   },
   {
    "duration": 19,
    "start_time": "2021-08-15T11:18:01.318Z"
   },
   {
    "duration": 9,
    "start_time": "2021-08-15T11:18:01.339Z"
   },
   {
    "duration": 16,
    "start_time": "2021-08-15T11:18:01.350Z"
   },
   {
    "duration": 8,
    "start_time": "2021-08-15T11:18:01.368Z"
   },
   {
    "duration": 20,
    "start_time": "2021-08-15T11:18:01.378Z"
   },
   {
    "duration": 16,
    "start_time": "2021-08-15T11:18:01.400Z"
   },
   {
    "duration": 12,
    "start_time": "2021-08-15T11:18:01.418Z"
   },
   {
    "duration": 3618,
    "start_time": "2021-08-15T11:18:01.432Z"
   },
   {
    "duration": 6,
    "start_time": "2021-08-15T11:18:05.052Z"
   },
   {
    "duration": 46,
    "start_time": "2021-08-15T11:18:05.059Z"
   },
   {
    "duration": 48,
    "start_time": "2021-08-15T11:18:05.106Z"
   },
   {
    "duration": 35,
    "start_time": "2021-08-15T11:18:05.156Z"
   },
   {
    "duration": 34,
    "start_time": "2021-08-15T11:18:37.267Z"
   },
   {
    "duration": 15,
    "start_time": "2021-08-15T11:18:38.364Z"
   },
   {
    "duration": 11,
    "start_time": "2021-08-15T11:20:35.027Z"
   },
   {
    "duration": 31,
    "start_time": "2021-08-15T11:21:00.495Z"
   },
   {
    "duration": 15,
    "start_time": "2021-08-15T11:21:02.750Z"
   },
   {
    "duration": 203,
    "start_time": "2021-08-15T11:22:03.856Z"
   },
   {
    "duration": 7,
    "start_time": "2021-08-15T11:22:04.061Z"
   },
   {
    "duration": 7,
    "start_time": "2021-08-15T11:22:04.070Z"
   },
   {
    "duration": 6,
    "start_time": "2021-08-15T11:22:04.078Z"
   },
   {
    "duration": 12,
    "start_time": "2021-08-15T11:22:04.085Z"
   },
   {
    "duration": 4,
    "start_time": "2021-08-15T11:22:04.098Z"
   },
   {
    "duration": 11,
    "start_time": "2021-08-15T11:22:04.103Z"
   },
   {
    "duration": 13,
    "start_time": "2021-08-15T11:22:04.116Z"
   },
   {
    "duration": 14,
    "start_time": "2021-08-15T11:22:04.130Z"
   },
   {
    "duration": 12,
    "start_time": "2021-08-15T11:22:04.145Z"
   },
   {
    "duration": 3380,
    "start_time": "2021-08-15T11:22:04.158Z"
   },
   {
    "duration": 5,
    "start_time": "2021-08-15T11:22:07.540Z"
   },
   {
    "duration": 25,
    "start_time": "2021-08-15T11:22:07.547Z"
   },
   {
    "duration": 30,
    "start_time": "2021-08-15T11:22:07.573Z"
   },
   {
    "duration": 30,
    "start_time": "2021-08-15T11:22:07.605Z"
   },
   {
    "duration": 12,
    "start_time": "2021-08-15T11:22:07.637Z"
   },
   {
    "duration": 22,
    "start_time": "2021-08-15T11:22:50.795Z"
   },
   {
    "duration": 11,
    "start_time": "2021-08-15T11:22:51.867Z"
   },
   {
    "duration": 15,
    "start_time": "2021-08-15T11:22:58.728Z"
   },
   {
    "duration": 30,
    "start_time": "2021-08-15T11:23:32.136Z"
   },
   {
    "duration": 32,
    "start_time": "2021-08-15T11:24:40.323Z"
   },
   {
    "duration": 14,
    "start_time": "2021-08-15T11:24:45.230Z"
   },
   {
    "duration": 14,
    "start_time": "2021-08-15T11:24:57.640Z"
   },
   {
    "duration": 13,
    "start_time": "2021-08-15T11:25:04.936Z"
   },
   {
    "duration": 13,
    "start_time": "2021-08-15T11:25:48.628Z"
   },
   {
    "duration": 29,
    "start_time": "2021-08-15T11:25:53.072Z"
   },
   {
    "duration": 14,
    "start_time": "2021-08-15T11:25:58.075Z"
   },
   {
    "duration": 27,
    "start_time": "2021-08-15T11:26:43.726Z"
   },
   {
    "duration": 15,
    "start_time": "2021-08-15T11:26:44.779Z"
   },
   {
    "duration": 157,
    "start_time": "2021-08-15T11:26:54.440Z"
   },
   {
    "duration": 8,
    "start_time": "2021-08-15T11:26:54.599Z"
   },
   {
    "duration": 12,
    "start_time": "2021-08-15T11:26:54.609Z"
   },
   {
    "duration": 7,
    "start_time": "2021-08-15T11:26:54.623Z"
   },
   {
    "duration": 13,
    "start_time": "2021-08-15T11:26:54.631Z"
   },
   {
    "duration": 11,
    "start_time": "2021-08-15T11:26:54.646Z"
   },
   {
    "duration": 16,
    "start_time": "2021-08-15T11:26:54.659Z"
   },
   {
    "duration": 16,
    "start_time": "2021-08-15T11:26:54.677Z"
   },
   {
    "duration": 13,
    "start_time": "2021-08-15T11:26:54.695Z"
   },
   {
    "duration": 13,
    "start_time": "2021-08-15T11:26:54.710Z"
   },
   {
    "duration": 3167,
    "start_time": "2021-08-15T11:26:54.724Z"
   },
   {
    "duration": 5,
    "start_time": "2021-08-15T11:26:57.893Z"
   },
   {
    "duration": 42,
    "start_time": "2021-08-15T11:26:57.899Z"
   },
   {
    "duration": 12,
    "start_time": "2021-08-15T11:26:57.943Z"
   },
   {
    "duration": 17,
    "start_time": "2021-08-15T11:26:57.957Z"
   },
   {
    "duration": 37,
    "start_time": "2021-08-15T11:26:57.976Z"
   },
   {
    "duration": 12,
    "start_time": "2021-08-15T11:26:58.015Z"
   },
   {
    "duration": 5,
    "start_time": "2021-08-15T11:27:41.179Z"
   },
   {
    "duration": 203,
    "start_time": "2021-08-15T11:27:45.467Z"
   },
   {
    "duration": 8,
    "start_time": "2021-08-15T11:27:45.672Z"
   },
   {
    "duration": 7,
    "start_time": "2021-08-15T11:27:45.682Z"
   },
   {
    "duration": 5,
    "start_time": "2021-08-15T11:27:45.691Z"
   },
   {
    "duration": 8,
    "start_time": "2021-08-15T11:27:45.697Z"
   },
   {
    "duration": 4,
    "start_time": "2021-08-15T11:27:45.707Z"
   },
   {
    "duration": 12,
    "start_time": "2021-08-15T11:27:45.712Z"
   },
   {
    "duration": 5,
    "start_time": "2021-08-15T11:27:45.726Z"
   },
   {
    "duration": 15,
    "start_time": "2021-08-15T11:27:45.732Z"
   },
   {
    "duration": 42,
    "start_time": "2021-08-15T11:27:45.749Z"
   },
   {
    "duration": 14,
    "start_time": "2021-08-15T11:27:45.792Z"
   },
   {
    "duration": 3294,
    "start_time": "2021-08-15T11:27:45.807Z"
   },
   {
    "duration": 5,
    "start_time": "2021-08-15T11:27:49.103Z"
   },
   {
    "duration": 25,
    "start_time": "2021-08-15T11:27:49.110Z"
   },
   {
    "duration": 13,
    "start_time": "2021-08-15T11:27:49.136Z"
   },
   {
    "duration": 13,
    "start_time": "2021-08-15T11:27:49.151Z"
   },
   {
    "duration": 51,
    "start_time": "2021-08-15T11:27:49.165Z"
   },
   {
    "duration": 11,
    "start_time": "2021-08-15T11:27:49.218Z"
   },
   {
    "duration": 6,
    "start_time": "2021-08-15T11:28:18.858Z"
   },
   {
    "duration": 14,
    "start_time": "2021-08-15T11:28:20.395Z"
   },
   {
    "duration": 147,
    "start_time": "2021-08-15T11:28:25.738Z"
   },
   {
    "duration": 8,
    "start_time": "2021-08-15T11:28:25.887Z"
   },
   {
    "duration": 7,
    "start_time": "2021-08-15T11:28:25.897Z"
   },
   {
    "duration": 5,
    "start_time": "2021-08-15T11:28:25.906Z"
   },
   {
    "duration": 9,
    "start_time": "2021-08-15T11:28:25.913Z"
   },
   {
    "duration": 9,
    "start_time": "2021-08-15T11:28:25.924Z"
   },
   {
    "duration": 12,
    "start_time": "2021-08-15T11:28:25.934Z"
   },
   {
    "duration": 8,
    "start_time": "2021-08-15T11:28:25.948Z"
   },
   {
    "duration": 34,
    "start_time": "2021-08-15T11:28:25.957Z"
   },
   {
    "duration": 12,
    "start_time": "2021-08-15T11:28:25.993Z"
   },
   {
    "duration": 11,
    "start_time": "2021-08-15T11:28:26.007Z"
   },
   {
    "duration": 17,
    "start_time": "2021-08-15T11:28:26.020Z"
   },
   {
    "duration": 1722,
    "start_time": "2021-08-15T11:28:26.038Z"
   },
   {
    "duration": -75,
    "start_time": "2021-08-15T11:28:27.837Z"
   },
   {
    "duration": -102,
    "start_time": "2021-08-15T11:28:27.865Z"
   },
   {
    "duration": -121,
    "start_time": "2021-08-15T11:28:27.885Z"
   },
   {
    "duration": -139,
    "start_time": "2021-08-15T11:28:27.904Z"
   },
   {
    "duration": -165,
    "start_time": "2021-08-15T11:28:27.930Z"
   },
   {
    "duration": -180,
    "start_time": "2021-08-15T11:28:27.947Z"
   },
   {
    "duration": 8,
    "start_time": "2021-08-15T11:29:59.234Z"
   },
   {
    "duration": 12,
    "start_time": "2021-08-15T11:30:48.509Z"
   },
   {
    "duration": 141,
    "start_time": "2021-08-15T11:31:05.016Z"
   },
   {
    "duration": 8,
    "start_time": "2021-08-15T11:31:05.159Z"
   },
   {
    "duration": 9,
    "start_time": "2021-08-15T11:31:05.169Z"
   },
   {
    "duration": 9,
    "start_time": "2021-08-15T11:31:05.180Z"
   },
   {
    "duration": 9,
    "start_time": "2021-08-15T11:31:05.191Z"
   },
   {
    "duration": 4,
    "start_time": "2021-08-15T11:31:05.201Z"
   },
   {
    "duration": 15,
    "start_time": "2021-08-15T11:31:05.206Z"
   },
   {
    "duration": 5,
    "start_time": "2021-08-15T11:31:05.223Z"
   },
   {
    "duration": 14,
    "start_time": "2021-08-15T11:31:05.229Z"
   },
   {
    "duration": 6,
    "start_time": "2021-08-15T11:31:05.245Z"
   },
   {
    "duration": 41,
    "start_time": "2021-08-15T11:31:05.252Z"
   },
   {
    "duration": 14,
    "start_time": "2021-08-15T11:31:05.294Z"
   },
   {
    "duration": 12,
    "start_time": "2021-08-15T11:31:05.309Z"
   },
   {
    "duration": 11,
    "start_time": "2021-08-15T11:31:05.322Z"
   },
   {
    "duration": 1635,
    "start_time": "2021-08-15T11:31:05.334Z"
   },
   {
    "duration": -74,
    "start_time": "2021-08-15T11:31:07.045Z"
   },
   {
    "duration": -82,
    "start_time": "2021-08-15T11:31:07.054Z"
   },
   {
    "duration": -89,
    "start_time": "2021-08-15T11:31:07.062Z"
   },
   {
    "duration": -96,
    "start_time": "2021-08-15T11:31:07.070Z"
   },
   {
    "duration": -103,
    "start_time": "2021-08-15T11:31:07.077Z"
   },
   {
    "duration": -111,
    "start_time": "2021-08-15T11:31:07.086Z"
   },
   {
    "duration": 123,
    "start_time": "2021-08-15T11:32:53.165Z"
   },
   {
    "duration": 9,
    "start_time": "2021-08-15T11:32:53.290Z"
   },
   {
    "duration": 7,
    "start_time": "2021-08-15T11:32:53.301Z"
   },
   {
    "duration": 5,
    "start_time": "2021-08-15T11:32:53.310Z"
   },
   {
    "duration": 8,
    "start_time": "2021-08-15T11:32:53.316Z"
   },
   {
    "duration": 3,
    "start_time": "2021-08-15T11:32:53.326Z"
   },
   {
    "duration": 10,
    "start_time": "2021-08-15T11:32:53.331Z"
   },
   {
    "duration": 5,
    "start_time": "2021-08-15T11:32:53.343Z"
   },
   {
    "duration": 49,
    "start_time": "2021-08-15T11:32:53.350Z"
   },
   {
    "duration": 11,
    "start_time": "2021-08-15T11:32:53.401Z"
   },
   {
    "duration": 11,
    "start_time": "2021-08-15T11:32:53.414Z"
   },
   {
    "duration": 11,
    "start_time": "2021-08-15T11:32:53.427Z"
   },
   {
    "duration": 6,
    "start_time": "2021-08-15T11:32:53.439Z"
   },
   {
    "duration": 15,
    "start_time": "2021-08-15T11:32:53.447Z"
   },
   {
    "duration": 1709,
    "start_time": "2021-08-15T11:32:53.463Z"
   },
   {
    "duration": -75,
    "start_time": "2021-08-15T11:32:55.248Z"
   },
   {
    "duration": -81,
    "start_time": "2021-08-15T11:32:55.255Z"
   },
   {
    "duration": -87,
    "start_time": "2021-08-15T11:32:55.262Z"
   },
   {
    "duration": -130,
    "start_time": "2021-08-15T11:32:55.306Z"
   },
   {
    "duration": -165,
    "start_time": "2021-08-15T11:32:55.342Z"
   },
   {
    "duration": -211,
    "start_time": "2021-08-15T11:32:55.389Z"
   },
   {
    "duration": 142,
    "start_time": "2021-08-15T11:34:13.410Z"
   },
   {
    "duration": 8,
    "start_time": "2021-08-15T11:34:13.554Z"
   },
   {
    "duration": 10,
    "start_time": "2021-08-15T11:34:13.564Z"
   },
   {
    "duration": 5,
    "start_time": "2021-08-15T11:34:13.576Z"
   },
   {
    "duration": 11,
    "start_time": "2021-08-15T11:34:13.583Z"
   },
   {
    "duration": 4,
    "start_time": "2021-08-15T11:34:13.595Z"
   },
   {
    "duration": 14,
    "start_time": "2021-08-15T11:34:13.600Z"
   },
   {
    "duration": 5,
    "start_time": "2021-08-15T11:34:13.616Z"
   },
   {
    "duration": 5,
    "start_time": "2021-08-15T11:34:13.623Z"
   },
   {
    "duration": 20,
    "start_time": "2021-08-15T11:34:13.629Z"
   },
   {
    "duration": 14,
    "start_time": "2021-08-15T11:34:13.651Z"
   },
   {
    "duration": 33,
    "start_time": "2021-08-15T11:34:13.667Z"
   },
   {
    "duration": 7,
    "start_time": "2021-08-15T11:34:13.702Z"
   },
   {
    "duration": 8,
    "start_time": "2021-08-15T11:34:13.710Z"
   },
   {
    "duration": 3086,
    "start_time": "2021-08-15T11:34:13.720Z"
   },
   {
    "duration": 6,
    "start_time": "2021-08-15T11:34:16.808Z"
   },
   {
    "duration": 25,
    "start_time": "2021-08-15T11:34:16.815Z"
   },
   {
    "duration": 13,
    "start_time": "2021-08-15T11:34:16.841Z"
   },
   {
    "duration": 38,
    "start_time": "2021-08-15T11:34:16.856Z"
   },
   {
    "duration": 29,
    "start_time": "2021-08-15T11:34:16.895Z"
   },
   {
    "duration": 12,
    "start_time": "2021-08-15T11:34:16.926Z"
   },
   {
    "duration": 7,
    "start_time": "2021-08-15T11:35:07.117Z"
   },
   {
    "duration": 157,
    "start_time": "2021-08-15T11:35:20.368Z"
   },
   {
    "duration": 9,
    "start_time": "2021-08-15T11:35:20.527Z"
   },
   {
    "duration": 10,
    "start_time": "2021-08-15T11:35:20.538Z"
   },
   {
    "duration": 5,
    "start_time": "2021-08-15T11:35:20.550Z"
   },
   {
    "duration": 9,
    "start_time": "2021-08-15T11:35:20.556Z"
   },
   {
    "duration": 4,
    "start_time": "2021-08-15T11:35:20.566Z"
   },
   {
    "duration": 29,
    "start_time": "2021-08-15T11:35:20.572Z"
   },
   {
    "duration": 4,
    "start_time": "2021-08-15T11:35:20.603Z"
   },
   {
    "duration": 5,
    "start_time": "2021-08-15T11:35:20.609Z"
   },
   {
    "duration": 19,
    "start_time": "2021-08-15T11:35:20.615Z"
   },
   {
    "duration": 14,
    "start_time": "2021-08-15T11:35:20.635Z"
   },
   {
    "duration": 20,
    "start_time": "2021-08-15T11:35:20.650Z"
   },
   {
    "duration": 22,
    "start_time": "2021-08-15T11:35:20.672Z"
   },
   {
    "duration": 11,
    "start_time": "2021-08-15T11:35:20.696Z"
   },
   {
    "duration": 9,
    "start_time": "2021-08-15T11:35:20.708Z"
   },
   {
    "duration": 3128,
    "start_time": "2021-08-15T11:35:20.718Z"
   },
   {
    "duration": 5,
    "start_time": "2021-08-15T11:35:23.847Z"
   },
   {
    "duration": 40,
    "start_time": "2021-08-15T11:35:23.853Z"
   },
   {
    "duration": 15,
    "start_time": "2021-08-15T11:35:23.895Z"
   },
   {
    "duration": 13,
    "start_time": "2021-08-15T11:35:23.912Z"
   },
   {
    "duration": 28,
    "start_time": "2021-08-15T11:35:23.926Z"
   },
   {
    "duration": 37,
    "start_time": "2021-08-15T11:35:23.955Z"
   },
   {
    "duration": 144,
    "start_time": "2021-08-15T11:36:23.922Z"
   },
   {
    "duration": 8,
    "start_time": "2021-08-15T11:36:24.068Z"
   },
   {
    "duration": 8,
    "start_time": "2021-08-15T11:36:24.078Z"
   },
   {
    "duration": 5,
    "start_time": "2021-08-15T11:36:24.088Z"
   },
   {
    "duration": 8,
    "start_time": "2021-08-15T11:36:24.094Z"
   },
   {
    "duration": 7,
    "start_time": "2021-08-15T11:36:24.104Z"
   },
   {
    "duration": 11,
    "start_time": "2021-08-15T11:36:24.112Z"
   },
   {
    "duration": 5,
    "start_time": "2021-08-15T11:36:24.125Z"
   },
   {
    "duration": 23,
    "start_time": "2021-08-15T11:36:24.132Z"
   },
   {
    "duration": 13,
    "start_time": "2021-08-15T11:36:24.157Z"
   },
   {
    "duration": 25,
    "start_time": "2021-08-15T11:36:24.172Z"
   },
   {
    "duration": 8,
    "start_time": "2021-08-15T11:36:24.199Z"
   },
   {
    "duration": 10,
    "start_time": "2021-08-15T11:36:24.209Z"
   },
   {
    "duration": 9,
    "start_time": "2021-08-15T11:36:24.220Z"
   },
   {
    "duration": 17,
    "start_time": "2021-08-15T11:36:24.230Z"
   },
   {
    "duration": 1651,
    "start_time": "2021-08-15T11:36:24.248Z"
   },
   {
    "duration": -143,
    "start_time": "2021-08-15T11:36:26.044Z"
   },
   {
    "duration": -192,
    "start_time": "2021-08-15T11:36:26.094Z"
   },
   {
    "duration": -200,
    "start_time": "2021-08-15T11:36:26.103Z"
   },
   {
    "duration": -208,
    "start_time": "2021-08-15T11:36:26.112Z"
   },
   {
    "duration": -216,
    "start_time": "2021-08-15T11:36:26.121Z"
   },
   {
    "duration": -223,
    "start_time": "2021-08-15T11:36:26.129Z"
   },
   {
    "duration": 7,
    "start_time": "2021-08-15T11:36:49.102Z"
   },
   {
    "duration": 14,
    "start_time": "2021-08-15T11:37:22.488Z"
   },
   {
    "duration": 14,
    "start_time": "2021-08-15T11:37:40.832Z"
   },
   {
    "duration": 13,
    "start_time": "2021-08-15T11:37:52.504Z"
   },
   {
    "duration": 1681,
    "start_time": "2021-08-15T11:37:58.321Z"
   },
   {
    "duration": 12,
    "start_time": "2021-08-15T11:38:28.828Z"
   },
   {
    "duration": 6,
    "start_time": "2021-08-15T11:40:46.850Z"
   },
   {
    "duration": 6,
    "start_time": "2021-08-15T11:40:48.772Z"
   },
   {
    "duration": 12,
    "start_time": "2021-08-15T11:40:50.559Z"
   },
   {
    "duration": 14,
    "start_time": "2021-08-15T11:40:51.647Z"
   },
   {
    "duration": 14,
    "start_time": "2021-08-15T11:40:52.779Z"
   },
   {
    "duration": 11,
    "start_time": "2021-08-15T11:40:54.196Z"
   },
   {
    "duration": 135,
    "start_time": "2021-08-15T11:41:11.849Z"
   },
   {
    "duration": 8,
    "start_time": "2021-08-15T11:41:11.985Z"
   },
   {
    "duration": 7,
    "start_time": "2021-08-15T11:41:11.995Z"
   },
   {
    "duration": 5,
    "start_time": "2021-08-15T11:41:12.004Z"
   },
   {
    "duration": 8,
    "start_time": "2021-08-15T11:41:12.011Z"
   },
   {
    "duration": 4,
    "start_time": "2021-08-15T11:41:12.020Z"
   },
   {
    "duration": 114,
    "start_time": "2021-08-15T11:41:12.025Z"
   },
   {
    "duration": 5,
    "start_time": "2021-08-15T11:41:12.141Z"
   },
   {
    "duration": 16,
    "start_time": "2021-08-15T11:41:12.147Z"
   },
   {
    "duration": 31,
    "start_time": "2021-08-15T11:41:12.165Z"
   },
   {
    "duration": 13,
    "start_time": "2021-08-15T11:41:12.198Z"
   },
   {
    "duration": 7,
    "start_time": "2021-08-15T11:41:12.213Z"
   },
   {
    "duration": 11,
    "start_time": "2021-08-15T11:41:12.221Z"
   },
   {
    "duration": 6,
    "start_time": "2021-08-15T11:41:12.234Z"
   },
   {
    "duration": 5,
    "start_time": "2021-08-15T11:41:12.242Z"
   },
   {
    "duration": 6,
    "start_time": "2021-08-15T11:41:12.248Z"
   },
   {
    "duration": 47,
    "start_time": "2021-08-15T11:41:12.255Z"
   },
   {
    "duration": 15,
    "start_time": "2021-08-15T11:41:12.304Z"
   },
   {
    "duration": 13,
    "start_time": "2021-08-15T11:41:12.320Z"
   },
   {
    "duration": 8,
    "start_time": "2021-08-15T11:41:12.335Z"
   },
   {
    "duration": 3338,
    "start_time": "2021-08-15T11:41:12.344Z"
   },
   {
    "duration": 5,
    "start_time": "2021-08-15T11:41:15.692Z"
   },
   {
    "duration": 25,
    "start_time": "2021-08-15T11:41:15.699Z"
   },
   {
    "duration": 14,
    "start_time": "2021-08-15T11:41:15.726Z"
   },
   {
    "duration": 13,
    "start_time": "2021-08-15T11:41:15.741Z"
   },
   {
    "duration": 27,
    "start_time": "2021-08-15T11:41:15.756Z"
   },
   {
    "duration": 12,
    "start_time": "2021-08-15T11:41:15.792Z"
   },
   {
    "duration": 6,
    "start_time": "2021-08-15T11:41:54.069Z"
   },
   {
    "duration": 15,
    "start_time": "2021-08-15T11:41:55.729Z"
   },
   {
    "duration": 18,
    "start_time": "2021-08-15T11:41:56.933Z"
   },
   {
    "duration": 14,
    "start_time": "2021-08-15T11:41:58.405Z"
   },
   {
    "duration": 12,
    "start_time": "2021-08-15T11:41:59.560Z"
   },
   {
    "duration": 153,
    "start_time": "2021-08-15T11:42:06.765Z"
   },
   {
    "duration": 10,
    "start_time": "2021-08-15T11:42:06.920Z"
   },
   {
    "duration": 8,
    "start_time": "2021-08-15T11:42:06.933Z"
   },
   {
    "duration": 7,
    "start_time": "2021-08-15T11:42:06.943Z"
   },
   {
    "duration": 10,
    "start_time": "2021-08-15T11:42:06.951Z"
   },
   {
    "duration": 36,
    "start_time": "2021-08-15T11:42:06.962Z"
   },
   {
    "duration": 11,
    "start_time": "2021-08-15T11:42:07.000Z"
   },
   {
    "duration": 6,
    "start_time": "2021-08-15T11:42:07.013Z"
   },
   {
    "duration": 13,
    "start_time": "2021-08-15T11:42:07.021Z"
   },
   {
    "duration": 15,
    "start_time": "2021-08-15T11:42:07.035Z"
   },
   {
    "duration": 40,
    "start_time": "2021-08-15T11:42:07.052Z"
   },
   {
    "duration": 7,
    "start_time": "2021-08-15T11:42:07.093Z"
   },
   {
    "duration": 11,
    "start_time": "2021-08-15T11:42:07.102Z"
   },
   {
    "duration": 6,
    "start_time": "2021-08-15T11:42:07.115Z"
   },
   {
    "duration": 7,
    "start_time": "2021-08-15T11:42:07.122Z"
   },
   {
    "duration": 7,
    "start_time": "2021-08-15T11:42:07.131Z"
   },
   {
    "duration": 16,
    "start_time": "2021-08-15T11:42:07.140Z"
   },
   {
    "duration": 37,
    "start_time": "2021-08-15T11:42:07.158Z"
   },
   {
    "duration": 13,
    "start_time": "2021-08-15T11:42:07.196Z"
   },
   {
    "duration": 7,
    "start_time": "2021-08-15T11:42:07.211Z"
   },
   {
    "duration": 3228,
    "start_time": "2021-08-15T11:42:07.220Z"
   },
   {
    "duration": 6,
    "start_time": "2021-08-15T11:42:10.450Z"
   },
   {
    "duration": 42,
    "start_time": "2021-08-15T11:42:10.459Z"
   },
   {
    "duration": 12,
    "start_time": "2021-08-15T11:42:10.503Z"
   },
   {
    "duration": 14,
    "start_time": "2021-08-15T11:42:10.517Z"
   },
   {
    "duration": 27,
    "start_time": "2021-08-15T11:42:10.532Z"
   },
   {
    "duration": 33,
    "start_time": "2021-08-15T11:42:10.560Z"
   },
   {
    "duration": 231,
    "start_time": "2021-08-15T11:43:24.123Z"
   },
   {
    "duration": 22,
    "start_time": "2021-08-15T11:43:32.326Z"
   },
   {
    "duration": 6,
    "start_time": "2021-08-15T11:43:41.725Z"
   },
   {
    "duration": 14,
    "start_time": "2021-08-15T11:43:44.761Z"
   },
   {
    "duration": 17,
    "start_time": "2021-08-15T11:43:45.869Z"
   },
   {
    "duration": 16,
    "start_time": "2021-08-15T11:43:47.913Z"
   },
   {
    "duration": 12,
    "start_time": "2021-08-15T11:43:49.816Z"
   },
   {
    "duration": 6,
    "start_time": "2021-08-15T11:44:57.702Z"
   },
   {
    "duration": 8,
    "start_time": "2021-08-15T11:44:59.043Z"
   },
   {
    "duration": 147,
    "start_time": "2021-08-15T11:45:06.321Z"
   },
   {
    "duration": 9,
    "start_time": "2021-08-15T11:45:06.470Z"
   },
   {
    "duration": 8,
    "start_time": "2021-08-15T11:45:06.480Z"
   },
   {
    "duration": 11,
    "start_time": "2021-08-15T11:45:06.489Z"
   },
   {
    "duration": 12,
    "start_time": "2021-08-15T11:45:06.502Z"
   },
   {
    "duration": 5,
    "start_time": "2021-08-15T11:45:06.515Z"
   },
   {
    "duration": 12,
    "start_time": "2021-08-15T11:45:06.522Z"
   },
   {
    "duration": 6,
    "start_time": "2021-08-15T11:45:06.537Z"
   },
   {
    "duration": 16,
    "start_time": "2021-08-15T11:45:06.545Z"
   },
   {
    "duration": 37,
    "start_time": "2021-08-15T11:45:06.563Z"
   },
   {
    "duration": 15,
    "start_time": "2021-08-15T11:45:06.601Z"
   },
   {
    "duration": 7,
    "start_time": "2021-08-15T11:45:06.618Z"
   },
   {
    "duration": 9,
    "start_time": "2021-08-15T11:45:06.627Z"
   },
   {
    "duration": 7,
    "start_time": "2021-08-15T11:45:06.638Z"
   },
   {
    "duration": 46,
    "start_time": "2021-08-15T11:45:06.646Z"
   },
   {
    "duration": 19,
    "start_time": "2021-08-15T11:45:06.694Z"
   },
   {
    "duration": 4,
    "start_time": "2021-08-15T11:45:06.715Z"
   },
   {
    "duration": 14,
    "start_time": "2021-08-15T11:45:06.721Z"
   },
   {
    "duration": 14,
    "start_time": "2021-08-15T11:45:06.736Z"
   },
   {
    "duration": 41,
    "start_time": "2021-08-15T11:45:06.752Z"
   },
   {
    "duration": 8,
    "start_time": "2021-08-15T11:45:06.795Z"
   },
   {
    "duration": 3355,
    "start_time": "2021-08-15T11:45:06.804Z"
   },
   {
    "duration": 5,
    "start_time": "2021-08-15T11:45:10.163Z"
   },
   {
    "duration": 41,
    "start_time": "2021-08-15T11:45:10.169Z"
   },
   {
    "duration": 12,
    "start_time": "2021-08-15T11:45:10.212Z"
   },
   {
    "duration": 14,
    "start_time": "2021-08-15T11:45:10.226Z"
   },
   {
    "duration": 27,
    "start_time": "2021-08-15T11:45:10.241Z"
   },
   {
    "duration": 32,
    "start_time": "2021-08-15T11:45:10.270Z"
   },
   {
    "duration": 21,
    "start_time": "2021-08-15T11:45:48.352Z"
   },
   {
    "duration": 7,
    "start_time": "2021-08-15T11:45:54.680Z"
   },
   {
    "duration": 15,
    "start_time": "2021-08-15T11:45:59.254Z"
   },
   {
    "duration": 18,
    "start_time": "2021-08-15T11:46:00.451Z"
   },
   {
    "duration": 14,
    "start_time": "2021-08-15T11:46:01.307Z"
   },
   {
    "duration": 12,
    "start_time": "2021-08-15T11:46:02.156Z"
   },
   {
    "duration": 146,
    "start_time": "2021-08-15T11:46:09.087Z"
   },
   {
    "duration": 8,
    "start_time": "2021-08-15T11:46:09.235Z"
   },
   {
    "duration": 7,
    "start_time": "2021-08-15T11:46:09.245Z"
   },
   {
    "duration": 5,
    "start_time": "2021-08-15T11:46:09.254Z"
   },
   {
    "duration": 8,
    "start_time": "2021-08-15T11:46:09.261Z"
   },
   {
    "duration": 24,
    "start_time": "2021-08-15T11:46:09.270Z"
   },
   {
    "duration": 13,
    "start_time": "2021-08-15T11:46:09.295Z"
   },
   {
    "duration": 5,
    "start_time": "2021-08-15T11:46:09.310Z"
   },
   {
    "duration": 15,
    "start_time": "2021-08-15T11:46:09.317Z"
   },
   {
    "duration": 15,
    "start_time": "2021-08-15T11:46:09.334Z"
   },
   {
    "duration": 13,
    "start_time": "2021-08-15T11:46:09.350Z"
   },
   {
    "duration": 8,
    "start_time": "2021-08-15T11:46:09.392Z"
   },
   {
    "duration": 10,
    "start_time": "2021-08-15T11:46:09.401Z"
   },
   {
    "duration": 7,
    "start_time": "2021-08-15T11:46:09.412Z"
   },
   {
    "duration": 21,
    "start_time": "2021-08-15T11:46:09.420Z"
   },
   {
    "duration": 22,
    "start_time": "2021-08-15T11:46:09.443Z"
   },
   {
    "duration": 28,
    "start_time": "2021-08-15T11:46:09.467Z"
   },
   {
    "duration": 13,
    "start_time": "2021-08-15T11:46:09.496Z"
   },
   {
    "duration": 17,
    "start_time": "2021-08-15T11:46:09.511Z"
   },
   {
    "duration": 14,
    "start_time": "2021-08-15T11:46:09.529Z"
   },
   {
    "duration": 8,
    "start_time": "2021-08-15T11:46:09.544Z"
   },
   {
    "duration": 3468,
    "start_time": "2021-08-15T11:46:09.554Z"
   },
   {
    "duration": 5,
    "start_time": "2021-08-15T11:46:13.025Z"
   },
   {
    "duration": 34,
    "start_time": "2021-08-15T11:46:13.032Z"
   },
   {
    "duration": 26,
    "start_time": "2021-08-15T11:46:13.067Z"
   },
   {
    "duration": 17,
    "start_time": "2021-08-15T11:46:13.095Z"
   },
   {
    "duration": 32,
    "start_time": "2021-08-15T11:46:13.113Z"
   },
   {
    "duration": 15,
    "start_time": "2021-08-15T11:46:13.146Z"
   },
   {
    "duration": 8,
    "start_time": "2021-08-15T11:47:30.402Z"
   },
   {
    "duration": 7,
    "start_time": "2021-08-15T11:49:52.072Z"
   },
   {
    "duration": 5432,
    "start_time": "2021-08-15T11:52:08.902Z"
   },
   {
    "duration": 4,
    "start_time": "2021-08-15T11:52:36.442Z"
   },
   {
    "duration": 9,
    "start_time": "2021-08-15T11:52:54.284Z"
   },
   {
    "duration": 9,
    "start_time": "2021-08-15T11:53:08.510Z"
   },
   {
    "duration": 15,
    "start_time": "2021-08-15T11:53:52.415Z"
   },
   {
    "duration": 11,
    "start_time": "2021-08-15T11:54:16.820Z"
   },
   {
    "duration": 12,
    "start_time": "2021-08-15T11:54:46.333Z"
   },
   {
    "duration": 9,
    "start_time": "2021-08-15T11:55:21.706Z"
   },
   {
    "duration": 10,
    "start_time": "2021-08-15T11:56:52.508Z"
   },
   {
    "duration": 237,
    "start_time": "2021-08-15T11:57:20.443Z"
   },
   {
    "duration": 11,
    "start_time": "2021-08-15T11:57:34.157Z"
   },
   {
    "duration": 10,
    "start_time": "2021-08-15T11:57:49.872Z"
   },
   {
    "duration": 6,
    "start_time": "2021-08-15T11:59:01.186Z"
   },
   {
    "duration": 10,
    "start_time": "2021-08-15T11:59:11.150Z"
   },
   {
    "duration": 13,
    "start_time": "2021-08-15T12:00:30.093Z"
   },
   {
    "duration": 12,
    "start_time": "2021-08-15T12:00:42.903Z"
   },
   {
    "duration": 9,
    "start_time": "2021-08-15T12:01:19.751Z"
   },
   {
    "duration": 12,
    "start_time": "2021-08-15T12:02:06.677Z"
   },
   {
    "duration": 4,
    "start_time": "2021-08-15T12:03:31.793Z"
   },
   {
    "duration": 10,
    "start_time": "2021-08-15T12:05:16.250Z"
   },
   {
    "duration": 201,
    "start_time": "2021-08-15T12:22:13.661Z"
   },
   {
    "duration": 10,
    "start_time": "2021-08-15T12:22:13.864Z"
   },
   {
    "duration": 8,
    "start_time": "2021-08-15T12:22:13.876Z"
   },
   {
    "duration": 5,
    "start_time": "2021-08-15T12:22:13.886Z"
   },
   {
    "duration": 8,
    "start_time": "2021-08-15T12:22:13.893Z"
   },
   {
    "duration": 5,
    "start_time": "2021-08-15T12:22:13.902Z"
   },
   {
    "duration": 12,
    "start_time": "2021-08-15T12:22:13.908Z"
   },
   {
    "duration": 13,
    "start_time": "2021-08-15T12:22:13.922Z"
   },
   {
    "duration": 14,
    "start_time": "2021-08-15T12:22:13.936Z"
   },
   {
    "duration": 40,
    "start_time": "2021-08-15T12:22:13.952Z"
   },
   {
    "duration": 3257,
    "start_time": "2021-08-15T12:22:13.993Z"
   },
   {
    "duration": 5,
    "start_time": "2021-08-15T12:22:17.252Z"
   },
   {
    "duration": 14,
    "start_time": "2021-08-15T12:22:17.259Z"
   },
   {
    "duration": 6,
    "start_time": "2021-08-15T12:22:17.291Z"
   },
   {
    "duration": 5,
    "start_time": "2021-08-15T12:22:17.299Z"
   },
   {
    "duration": 12,
    "start_time": "2021-08-15T12:22:17.306Z"
   },
   {
    "duration": 9,
    "start_time": "2021-08-15T12:22:17.319Z"
   },
   {
    "duration": 6,
    "start_time": "2021-08-15T12:22:57.465Z"
   },
   {
    "duration": 13,
    "start_time": "2021-08-15T12:22:58.948Z"
   },
   {
    "duration": 6,
    "start_time": "2021-08-15T12:22:59.895Z"
   },
   {
    "duration": 213,
    "start_time": "2021-08-15T12:23:12.212Z"
   },
   {
    "duration": 10,
    "start_time": "2021-08-15T12:23:12.426Z"
   },
   {
    "duration": 6,
    "start_time": "2021-08-15T12:23:12.438Z"
   },
   {
    "duration": 5,
    "start_time": "2021-08-15T12:23:12.446Z"
   },
   {
    "duration": 8,
    "start_time": "2021-08-15T12:23:12.452Z"
   },
   {
    "duration": 3,
    "start_time": "2021-08-15T12:23:12.462Z"
   },
   {
    "duration": 33,
    "start_time": "2021-08-15T12:23:12.466Z"
   },
   {
    "duration": 13,
    "start_time": "2021-08-15T12:23:12.501Z"
   },
   {
    "duration": 14,
    "start_time": "2021-08-15T12:23:12.515Z"
   },
   {
    "duration": 13,
    "start_time": "2021-08-15T12:23:12.531Z"
   },
   {
    "duration": 3296,
    "start_time": "2021-08-15T12:23:12.546Z"
   },
   {
    "duration": 6,
    "start_time": "2021-08-15T12:23:15.843Z"
   },
   {
    "duration": 13,
    "start_time": "2021-08-15T12:23:15.850Z"
   },
   {
    "duration": 6,
    "start_time": "2021-08-15T12:23:15.864Z"
   },
   {
    "duration": 10,
    "start_time": "2021-08-15T12:23:15.871Z"
   },
   {
    "duration": 12,
    "start_time": "2021-08-15T12:23:15.883Z"
   },
   {
    "duration": 9,
    "start_time": "2021-08-15T12:23:15.896Z"
   },
   {
    "duration": 11,
    "start_time": "2021-08-15T12:26:21.304Z"
   },
   {
    "duration": 16,
    "start_time": "2021-08-15T12:36:47.837Z"
   },
   {
    "duration": 150,
    "start_time": "2021-08-15T12:37:04.457Z"
   },
   {
    "duration": 9,
    "start_time": "2021-08-15T12:37:04.609Z"
   },
   {
    "duration": 7,
    "start_time": "2021-08-15T12:37:04.620Z"
   },
   {
    "duration": 5,
    "start_time": "2021-08-15T12:37:04.629Z"
   },
   {
    "duration": 9,
    "start_time": "2021-08-15T12:37:04.635Z"
   },
   {
    "duration": 6,
    "start_time": "2021-08-15T12:37:04.645Z"
   },
   {
    "duration": 42,
    "start_time": "2021-08-15T12:37:04.653Z"
   },
   {
    "duration": 14,
    "start_time": "2021-08-15T12:37:04.697Z"
   },
   {
    "duration": 15,
    "start_time": "2021-08-15T12:37:04.712Z"
   },
   {
    "duration": 13,
    "start_time": "2021-08-15T12:37:04.728Z"
   },
   {
    "duration": 3309,
    "start_time": "2021-08-15T12:37:04.743Z"
   },
   {
    "duration": 4,
    "start_time": "2021-08-15T12:37:08.054Z"
   },
   {
    "duration": 12,
    "start_time": "2021-08-15T12:37:08.060Z"
   },
   {
    "duration": 22,
    "start_time": "2021-08-15T12:37:08.073Z"
   },
   {
    "duration": 8,
    "start_time": "2021-08-15T12:37:08.096Z"
   },
   {
    "duration": 11,
    "start_time": "2021-08-15T12:37:08.106Z"
   },
   {
    "duration": 8,
    "start_time": "2021-08-15T12:37:08.119Z"
   },
   {
    "duration": 74,
    "start_time": "2021-08-15T12:37:08.128Z"
   },
   {
    "duration": -116,
    "start_time": "2021-08-15T12:37:08.319Z"
   },
   {
    "duration": 18,
    "start_time": "2021-08-15T12:37:29.155Z"
   },
   {
    "duration": 25,
    "start_time": "2021-08-15T12:37:43.147Z"
   },
   {
    "duration": 24,
    "start_time": "2021-08-15T12:37:53.229Z"
   },
   {
    "duration": 146,
    "start_time": "2021-08-15T12:38:01.671Z"
   },
   {
    "duration": 8,
    "start_time": "2021-08-15T12:38:01.819Z"
   },
   {
    "duration": 14,
    "start_time": "2021-08-15T12:38:01.829Z"
   },
   {
    "duration": 12,
    "start_time": "2021-08-15T12:38:01.845Z"
   },
   {
    "duration": 13,
    "start_time": "2021-08-15T12:38:01.859Z"
   },
   {
    "duration": 28,
    "start_time": "2021-08-15T12:38:01.873Z"
   },
   {
    "duration": 26,
    "start_time": "2021-08-15T12:38:01.902Z"
   },
   {
    "duration": 15,
    "start_time": "2021-08-15T12:38:01.933Z"
   },
   {
    "duration": 18,
    "start_time": "2021-08-15T12:38:01.950Z"
   },
   {
    "duration": 15,
    "start_time": "2021-08-15T12:38:01.970Z"
   },
   {
    "duration": 3240,
    "start_time": "2021-08-15T12:38:01.986Z"
   },
   {
    "duration": 5,
    "start_time": "2021-08-15T12:38:05.228Z"
   },
   {
    "duration": 14,
    "start_time": "2021-08-15T12:38:05.234Z"
   },
   {
    "duration": 5,
    "start_time": "2021-08-15T12:38:05.250Z"
   },
   {
    "duration": 6,
    "start_time": "2021-08-15T12:38:05.257Z"
   },
   {
    "duration": 34,
    "start_time": "2021-08-15T12:38:05.264Z"
   },
   {
    "duration": 10,
    "start_time": "2021-08-15T12:38:05.299Z"
   },
   {
    "duration": 21,
    "start_time": "2021-08-15T12:38:05.310Z"
   },
   {
    "duration": 140,
    "start_time": "2021-08-15T12:43:10.381Z"
   },
   {
    "duration": 8,
    "start_time": "2021-08-15T12:43:10.523Z"
   },
   {
    "duration": 8,
    "start_time": "2021-08-15T12:43:10.533Z"
   },
   {
    "duration": 6,
    "start_time": "2021-08-15T12:43:10.543Z"
   },
   {
    "duration": 8,
    "start_time": "2021-08-15T12:43:10.550Z"
   },
   {
    "duration": 4,
    "start_time": "2021-08-15T12:43:10.559Z"
   },
   {
    "duration": 32,
    "start_time": "2021-08-15T12:43:10.564Z"
   },
   {
    "duration": 13,
    "start_time": "2021-08-15T12:43:10.599Z"
   },
   {
    "duration": 14,
    "start_time": "2021-08-15T12:43:10.614Z"
   },
   {
    "duration": 13,
    "start_time": "2021-08-15T12:43:10.629Z"
   },
   {
    "duration": 3298,
    "start_time": "2021-08-15T12:43:10.643Z"
   },
   {
    "duration": 5,
    "start_time": "2021-08-15T12:43:13.943Z"
   },
   {
    "duration": 13,
    "start_time": "2021-08-15T12:43:13.949Z"
   },
   {
    "duration": 5,
    "start_time": "2021-08-15T12:43:13.964Z"
   },
   {
    "duration": 26,
    "start_time": "2021-08-15T12:43:13.971Z"
   },
   {
    "duration": 21,
    "start_time": "2021-08-15T12:43:13.999Z"
   },
   {
    "duration": 12,
    "start_time": "2021-08-15T12:43:14.021Z"
   },
   {
    "duration": 10,
    "start_time": "2021-08-15T12:43:14.034Z"
   },
   {
    "duration": 12,
    "start_time": "2021-08-15T12:43:14.046Z"
   },
   {
    "duration": 20,
    "start_time": "2021-08-15T12:44:50.146Z"
   },
   {
    "duration": 20,
    "start_time": "2021-08-15T12:44:58.499Z"
   },
   {
    "duration": 11,
    "start_time": "2021-08-15T12:46:45.912Z"
   },
   {
    "duration": 18,
    "start_time": "2021-08-15T13:14:40.543Z"
   },
   {
    "duration": 21,
    "start_time": "2021-08-15T13:15:14.138Z"
   },
   {
    "duration": 11,
    "start_time": "2021-08-15T13:17:43.876Z"
   },
   {
    "duration": 11,
    "start_time": "2021-08-15T13:20:02.300Z"
   },
   {
    "duration": 198,
    "start_time": "2021-08-15T13:26:46.699Z"
   },
   {
    "duration": 10,
    "start_time": "2021-08-15T13:26:46.899Z"
   },
   {
    "duration": 15,
    "start_time": "2021-08-15T13:26:46.910Z"
   },
   {
    "duration": 10,
    "start_time": "2021-08-15T13:26:46.927Z"
   },
   {
    "duration": 13,
    "start_time": "2021-08-15T13:26:46.938Z"
   },
   {
    "duration": 9,
    "start_time": "2021-08-15T13:26:46.952Z"
   },
   {
    "duration": 11,
    "start_time": "2021-08-15T13:26:46.963Z"
   },
   {
    "duration": 25,
    "start_time": "2021-08-15T13:26:46.977Z"
   },
   {
    "duration": 14,
    "start_time": "2021-08-15T13:26:47.003Z"
   },
   {
    "duration": 13,
    "start_time": "2021-08-15T13:26:47.018Z"
   },
   {
    "duration": 3131,
    "start_time": "2021-08-15T13:26:47.032Z"
   },
   {
    "duration": 5,
    "start_time": "2021-08-15T13:26:50.164Z"
   },
   {
    "duration": 25,
    "start_time": "2021-08-15T13:26:50.171Z"
   },
   {
    "duration": 6,
    "start_time": "2021-08-15T13:26:50.197Z"
   },
   {
    "duration": 7,
    "start_time": "2021-08-15T13:26:50.204Z"
   },
   {
    "duration": 20,
    "start_time": "2021-08-15T13:26:50.212Z"
   },
   {
    "duration": 5,
    "start_time": "2021-08-15T13:26:50.234Z"
   },
   {
    "duration": 9,
    "start_time": "2021-08-15T13:26:50.240Z"
   },
   {
    "duration": 10,
    "start_time": "2021-08-15T13:26:50.251Z"
   },
   {
    "duration": 10,
    "start_time": "2021-08-15T13:26:50.291Z"
   },
   {
    "duration": 9,
    "start_time": "2021-08-15T13:26:50.303Z"
   },
   {
    "duration": 215,
    "start_time": "2021-08-15T13:27:33.701Z"
   },
   {
    "duration": 10,
    "start_time": "2021-08-15T13:27:59.157Z"
   },
   {
    "duration": 1101,
    "start_time": "2021-08-15T17:10:20.294Z"
   },
   {
    "duration": 30,
    "start_time": "2021-08-15T17:10:21.398Z"
   },
   {
    "duration": 11,
    "start_time": "2021-08-15T17:10:21.433Z"
   },
   {
    "duration": 9,
    "start_time": "2021-08-15T17:10:21.448Z"
   },
   {
    "duration": 43,
    "start_time": "2021-08-15T17:10:21.459Z"
   },
   {
    "duration": 7,
    "start_time": "2021-08-15T17:10:21.504Z"
   },
   {
    "duration": 17,
    "start_time": "2021-08-15T17:10:21.513Z"
   },
   {
    "duration": 19,
    "start_time": "2021-08-15T17:10:21.534Z"
   },
   {
    "duration": 60,
    "start_time": "2021-08-15T17:10:21.555Z"
   },
   {
    "duration": 21,
    "start_time": "2021-08-15T17:10:21.617Z"
   },
   {
    "duration": 4839,
    "start_time": "2021-08-15T17:10:21.641Z"
   },
   {
    "duration": 23,
    "start_time": "2021-08-15T17:10:26.482Z"
   },
   {
    "duration": 20,
    "start_time": "2021-08-15T17:10:26.507Z"
   },
   {
    "duration": 8,
    "start_time": "2021-08-15T17:10:26.530Z"
   },
   {
    "duration": 8,
    "start_time": "2021-08-15T17:10:26.540Z"
   },
   {
    "duration": 72,
    "start_time": "2021-08-15T17:10:26.551Z"
   },
   {
    "duration": 11,
    "start_time": "2021-08-15T17:10:26.625Z"
   },
   {
    "duration": 21,
    "start_time": "2021-08-15T17:10:26.638Z"
   },
   {
    "duration": 40,
    "start_time": "2021-08-15T17:10:26.661Z"
   },
   {
    "duration": 17,
    "start_time": "2021-08-15T17:10:26.704Z"
   },
   {
    "duration": 16,
    "start_time": "2021-08-15T17:10:26.723Z"
   },
   {
    "duration": 420,
    "start_time": "2021-08-16T17:57:06.946Z"
   },
   {
    "duration": 1118,
    "start_time": "2021-08-16T17:57:13.877Z"
   },
   {
    "duration": 20,
    "start_time": "2021-08-16T17:57:14.998Z"
   },
   {
    "duration": 19,
    "start_time": "2021-08-16T17:57:15.021Z"
   },
   {
    "duration": 17,
    "start_time": "2021-08-16T17:57:15.043Z"
   },
   {
    "duration": 12,
    "start_time": "2021-08-16T17:57:15.063Z"
   },
   {
    "duration": 9,
    "start_time": "2021-08-16T17:57:15.077Z"
   },
   {
    "duration": 22,
    "start_time": "2021-08-16T17:57:15.088Z"
   },
   {
    "duration": 48,
    "start_time": "2021-08-16T17:57:15.114Z"
   },
   {
    "duration": 23,
    "start_time": "2021-08-16T17:57:15.165Z"
   },
   {
    "duration": 19,
    "start_time": "2021-08-16T17:57:15.191Z"
   },
   {
    "duration": 4524,
    "start_time": "2021-08-16T17:57:15.213Z"
   },
   {
    "duration": 21,
    "start_time": "2021-08-16T17:57:19.739Z"
   },
   {
    "duration": 21,
    "start_time": "2021-08-16T17:57:19.763Z"
   },
   {
    "duration": 9,
    "start_time": "2021-08-16T17:57:19.786Z"
   },
   {
    "duration": 16,
    "start_time": "2021-08-16T17:57:19.797Z"
   },
   {
    "duration": 56,
    "start_time": "2021-08-16T17:57:19.816Z"
   },
   {
    "duration": 11,
    "start_time": "2021-08-16T17:57:19.874Z"
   },
   {
    "duration": 23,
    "start_time": "2021-08-16T17:57:19.887Z"
   },
   {
    "duration": 58,
    "start_time": "2021-08-16T17:57:19.912Z"
   },
   {
    "duration": 16,
    "start_time": "2021-08-16T17:57:19.972Z"
   },
   {
    "duration": 19,
    "start_time": "2021-08-16T17:57:19.990Z"
   },
   {
    "duration": 20,
    "start_time": "2021-08-16T17:57:20.011Z"
   },
   {
    "duration": 33,
    "start_time": "2021-08-16T17:58:46.996Z"
   },
   {
    "duration": 26,
    "start_time": "2021-08-16T18:01:06.236Z"
   },
   {
    "duration": 19,
    "start_time": "2021-08-16T18:06:07.582Z"
   },
   {
    "duration": 24,
    "start_time": "2021-08-16T18:06:36.874Z"
   },
   {
    "duration": 16,
    "start_time": "2021-08-16T18:07:25.562Z"
   },
   {
    "duration": 5,
    "start_time": "2021-08-16T18:13:37.269Z"
   },
   {
    "duration": 5,
    "start_time": "2021-08-16T18:13:46.619Z"
   },
   {
    "duration": 9,
    "start_time": "2021-08-16T18:13:58.779Z"
   },
   {
    "duration": 17,
    "start_time": "2021-08-16T18:15:47.613Z"
   },
   {
    "duration": 13,
    "start_time": "2021-08-16T18:16:06.141Z"
   },
   {
    "duration": 11,
    "start_time": "2021-08-16T18:17:23.978Z"
   },
   {
    "duration": 22,
    "start_time": "2021-08-16T18:18:23.502Z"
   },
   {
    "duration": 18,
    "start_time": "2021-08-16T18:18:53.393Z"
   },
   {
    "duration": 319,
    "start_time": "2021-08-16T18:21:25.797Z"
   },
   {
    "duration": 18,
    "start_time": "2021-08-16T18:21:32.368Z"
   },
   {
    "duration": 256,
    "start_time": "2021-08-16T18:22:06.889Z"
   },
   {
    "duration": 13,
    "start_time": "2021-08-16T18:22:07.147Z"
   },
   {
    "duration": 11,
    "start_time": "2021-08-16T18:22:07.163Z"
   },
   {
    "duration": 8,
    "start_time": "2021-08-16T18:22:07.177Z"
   },
   {
    "duration": 12,
    "start_time": "2021-08-16T18:22:07.187Z"
   },
   {
    "duration": 7,
    "start_time": "2021-08-16T18:22:07.201Z"
   },
   {
    "duration": 57,
    "start_time": "2021-08-16T18:22:07.210Z"
   },
   {
    "duration": 24,
    "start_time": "2021-08-16T18:22:07.271Z"
   },
   {
    "duration": 23,
    "start_time": "2021-08-16T18:22:07.298Z"
   },
   {
    "duration": 49,
    "start_time": "2021-08-16T18:22:07.324Z"
   },
   {
    "duration": 4434,
    "start_time": "2021-08-16T18:22:07.376Z"
   },
   {
    "duration": 8,
    "start_time": "2021-08-16T18:22:11.812Z"
   },
   {
    "duration": 44,
    "start_time": "2021-08-16T18:22:11.822Z"
   },
   {
    "duration": 11,
    "start_time": "2021-08-16T18:22:11.869Z"
   },
   {
    "duration": 13,
    "start_time": "2021-08-16T18:22:11.882Z"
   },
   {
    "duration": 58,
    "start_time": "2021-08-16T18:22:11.897Z"
   },
   {
    "duration": 10,
    "start_time": "2021-08-16T18:22:11.958Z"
   },
   {
    "duration": 16,
    "start_time": "2021-08-16T18:22:11.970Z"
   },
   {
    "duration": 15,
    "start_time": "2021-08-16T18:22:11.988Z"
   },
   {
    "duration": 51,
    "start_time": "2021-08-16T18:22:12.006Z"
   },
   {
    "duration": 20,
    "start_time": "2021-08-16T18:22:12.059Z"
   },
   {
    "duration": 20,
    "start_time": "2021-08-16T18:22:12.081Z"
   },
   {
    "duration": 58,
    "start_time": "2021-08-16T18:22:12.105Z"
   },
   {
    "duration": 18,
    "start_time": "2021-08-16T18:22:31.986Z"
   },
   {
    "duration": 17,
    "start_time": "2021-08-16T18:24:49.988Z"
   },
   {
    "duration": 6641,
    "start_time": "2021-08-16T18:26:02.004Z"
   },
   {
    "duration": 20,
    "start_time": "2021-08-16T18:26:56.368Z"
   },
   {
    "duration": 20,
    "start_time": "2021-08-16T18:27:12.317Z"
   },
   {
    "duration": 22,
    "start_time": "2021-08-16T18:27:35.084Z"
   },
   {
    "duration": 30,
    "start_time": "2021-08-16T18:29:20.016Z"
   },
   {
    "duration": 22,
    "start_time": "2021-08-16T18:33:21.333Z"
   },
   {
    "duration": 25,
    "start_time": "2021-08-16T18:33:57.166Z"
   },
   {
    "duration": 26,
    "start_time": "2021-08-16T18:34:49.216Z"
   },
   {
    "duration": 24,
    "start_time": "2021-08-16T18:35:35.501Z"
   },
   {
    "duration": 26,
    "start_time": "2021-08-16T18:45:05.273Z"
   },
   {
    "duration": 27,
    "start_time": "2021-08-16T18:46:57.495Z"
   },
   {
    "duration": 36,
    "start_time": "2021-08-16T19:01:52.337Z"
   },
   {
    "duration": 17,
    "start_time": "2021-08-16T19:02:07.920Z"
   },
   {
    "duration": 264,
    "start_time": "2021-08-16T19:02:21.316Z"
   },
   {
    "duration": 13,
    "start_time": "2021-08-16T19:02:21.583Z"
   },
   {
    "duration": 20,
    "start_time": "2021-08-16T19:02:21.598Z"
   },
   {
    "duration": 46,
    "start_time": "2021-08-16T19:02:21.620Z"
   },
   {
    "duration": 12,
    "start_time": "2021-08-16T19:02:21.668Z"
   },
   {
    "duration": 429,
    "start_time": "2021-08-16T19:02:21.683Z"
   },
   {
    "duration": -3067,
    "start_time": "2021-08-16T19:02:25.182Z"
   },
   {
    "duration": -3076,
    "start_time": "2021-08-16T19:02:25.193Z"
   },
   {
    "duration": -3085,
    "start_time": "2021-08-16T19:02:25.203Z"
   },
   {
    "duration": -3093,
    "start_time": "2021-08-16T19:02:25.213Z"
   },
   {
    "duration": -3103,
    "start_time": "2021-08-16T19:02:25.224Z"
   },
   {
    "duration": -3112,
    "start_time": "2021-08-16T19:02:25.235Z"
   },
   {
    "duration": -3122,
    "start_time": "2021-08-16T19:02:25.246Z"
   },
   {
    "duration": -3129,
    "start_time": "2021-08-16T19:02:25.255Z"
   },
   {
    "duration": -3138,
    "start_time": "2021-08-16T19:02:25.265Z"
   },
   {
    "duration": -3166,
    "start_time": "2021-08-16T19:02:25.295Z"
   },
   {
    "duration": -3179,
    "start_time": "2021-08-16T19:02:25.309Z"
   },
   {
    "duration": -3189,
    "start_time": "2021-08-16T19:02:25.321Z"
   },
   {
    "duration": -3198,
    "start_time": "2021-08-16T19:02:25.332Z"
   },
   {
    "duration": -3208,
    "start_time": "2021-08-16T19:02:25.343Z"
   },
   {
    "duration": -3218,
    "start_time": "2021-08-16T19:02:25.354Z"
   },
   {
    "duration": -3227,
    "start_time": "2021-08-16T19:02:25.365Z"
   },
   {
    "duration": -3241,
    "start_time": "2021-08-16T19:02:25.380Z"
   },
   {
    "duration": -3252,
    "start_time": "2021-08-16T19:02:25.393Z"
   },
   {
    "duration": -3286,
    "start_time": "2021-08-16T19:02:25.428Z"
   },
   {
    "duration": -3298,
    "start_time": "2021-08-16T19:02:25.441Z"
   },
   {
    "duration": 40,
    "start_time": "2021-08-16T19:03:41.919Z"
   },
   {
    "duration": 12,
    "start_time": "2021-08-16T19:03:48.142Z"
   },
   {
    "duration": 40,
    "start_time": "2021-08-16T19:04:20.566Z"
   },
   {
    "duration": 13,
    "start_time": "2021-08-16T19:04:29.801Z"
   },
   {
    "duration": 37,
    "start_time": "2021-08-16T19:05:00.997Z"
   },
   {
    "duration": 13,
    "start_time": "2021-08-16T19:05:08.579Z"
   },
   {
    "duration": 27,
    "start_time": "2021-08-16T19:05:37.660Z"
   },
   {
    "duration": 360,
    "start_time": "2021-08-16T19:06:01.443Z"
   },
   {
    "duration": 347,
    "start_time": "2021-08-16T19:06:43.784Z"
   },
   {
    "duration": 254,
    "start_time": "2021-08-16T19:06:57.327Z"
   },
   {
    "duration": 10,
    "start_time": "2021-08-16T19:06:57.584Z"
   },
   {
    "duration": 14,
    "start_time": "2021-08-16T19:06:57.597Z"
   },
   {
    "duration": 48,
    "start_time": "2021-08-16T19:06:57.613Z"
   },
   {
    "duration": 11,
    "start_time": "2021-08-16T19:06:57.664Z"
   },
   {
    "duration": 1007,
    "start_time": "2021-08-16T19:06:57.677Z"
   },
   {
    "duration": -1663,
    "start_time": "2021-08-16T19:07:00.351Z"
   },
   {
    "duration": -1680,
    "start_time": "2021-08-16T19:07:00.369Z"
   },
   {
    "duration": -1693,
    "start_time": "2021-08-16T19:07:00.384Z"
   },
   {
    "duration": -1707,
    "start_time": "2021-08-16T19:07:00.400Z"
   },
   {
    "duration": -1719,
    "start_time": "2021-08-16T19:07:00.413Z"
   },
   {
    "duration": -1733,
    "start_time": "2021-08-16T19:07:00.429Z"
   },
   {
    "duration": -1768,
    "start_time": "2021-08-16T19:07:00.465Z"
   },
   {
    "duration": -1782,
    "start_time": "2021-08-16T19:07:00.480Z"
   },
   {
    "duration": -1792,
    "start_time": "2021-08-16T19:07:00.492Z"
   },
   {
    "duration": -1802,
    "start_time": "2021-08-16T19:07:00.503Z"
   },
   {
    "duration": -1812,
    "start_time": "2021-08-16T19:07:00.514Z"
   },
   {
    "duration": -1830,
    "start_time": "2021-08-16T19:07:00.534Z"
   },
   {
    "duration": -1842,
    "start_time": "2021-08-16T19:07:00.547Z"
   },
   {
    "duration": -1865,
    "start_time": "2021-08-16T19:07:00.571Z"
   },
   {
    "duration": -1876,
    "start_time": "2021-08-16T19:07:00.584Z"
   },
   {
    "duration": -1894,
    "start_time": "2021-08-16T19:07:00.603Z"
   },
   {
    "duration": -1902,
    "start_time": "2021-08-16T19:07:00.613Z"
   },
   {
    "duration": -1914,
    "start_time": "2021-08-16T19:07:00.626Z"
   },
   {
    "duration": -1925,
    "start_time": "2021-08-16T19:07:00.638Z"
   },
   {
    "duration": -1936,
    "start_time": "2021-08-16T19:07:00.650Z"
   },
   {
    "duration": 275,
    "start_time": "2021-08-16T19:07:27.992Z"
   },
   {
    "duration": 642,
    "start_time": "2021-08-16T19:07:52.398Z"
   },
   {
    "duration": 275,
    "start_time": "2021-08-16T19:08:19.062Z"
   },
   {
    "duration": 294,
    "start_time": "2021-08-16T19:11:23.597Z"
   },
   {
    "duration": 219,
    "start_time": "2021-08-16T19:11:36.593Z"
   },
   {
    "duration": 11,
    "start_time": "2021-08-16T19:11:36.815Z"
   },
   {
    "duration": 28,
    "start_time": "2021-08-16T19:11:36.829Z"
   },
   {
    "duration": 9,
    "start_time": "2021-08-16T19:11:36.859Z"
   },
   {
    "duration": 27,
    "start_time": "2021-08-16T19:11:36.870Z"
   },
   {
    "duration": 26,
    "start_time": "2021-08-16T19:11:36.900Z"
   },
   {
    "duration": 43,
    "start_time": "2021-08-16T19:11:36.929Z"
   },
   {
    "duration": 20,
    "start_time": "2021-08-16T19:11:36.975Z"
   },
   {
    "duration": 27,
    "start_time": "2021-08-16T19:11:36.999Z"
   },
   {
    "duration": 43,
    "start_time": "2021-08-16T19:11:37.029Z"
   },
   {
    "duration": 4529,
    "start_time": "2021-08-16T19:11:37.074Z"
   },
   {
    "duration": 8,
    "start_time": "2021-08-16T19:11:41.605Z"
   },
   {
    "duration": 42,
    "start_time": "2021-08-16T19:11:41.615Z"
   },
   {
    "duration": 10,
    "start_time": "2021-08-16T19:11:41.659Z"
   },
   {
    "duration": 12,
    "start_time": "2021-08-16T19:11:41.672Z"
   },
   {
    "duration": 70,
    "start_time": "2021-08-16T19:11:41.687Z"
   },
   {
    "duration": 12,
    "start_time": "2021-08-16T19:11:41.760Z"
   },
   {
    "duration": 19,
    "start_time": "2021-08-16T19:11:41.774Z"
   },
   {
    "duration": 18,
    "start_time": "2021-08-16T19:11:41.795Z"
   },
   {
    "duration": 63,
    "start_time": "2021-08-16T19:11:41.816Z"
   },
   {
    "duration": 18,
    "start_time": "2021-08-16T19:11:41.882Z"
   },
   {
    "duration": 68,
    "start_time": "2021-08-16T19:11:41.902Z"
   },
   {
    "duration": 16,
    "start_time": "2021-08-16T19:11:41.976Z"
   },
   {
    "duration": 26,
    "start_time": "2021-08-16T19:11:41.996Z"
   },
   {
    "duration": 46,
    "start_time": "2021-08-16T19:11:42.024Z"
   },
   {
    "duration": 25,
    "start_time": "2021-08-16T19:11:42.073Z"
   },
   {
    "duration": 20,
    "start_time": "2021-08-16T19:13:32.823Z"
   },
   {
    "duration": 30,
    "start_time": "2021-08-16T19:14:19.186Z"
   },
   {
    "duration": 65,
    "start_time": "2021-08-16T19:16:04.593Z"
   },
   {
    "duration": 31,
    "start_time": "2021-08-16T19:16:13.067Z"
   },
   {
    "duration": 246,
    "start_time": "2021-08-16T19:20:01.073Z"
   },
   {
    "duration": 12,
    "start_time": "2021-08-16T19:20:01.321Z"
   },
   {
    "duration": 19,
    "start_time": "2021-08-16T19:20:01.336Z"
   },
   {
    "duration": 43,
    "start_time": "2021-08-16T19:20:01.358Z"
   },
   {
    "duration": 22,
    "start_time": "2021-08-16T19:20:01.403Z"
   },
   {
    "duration": 82,
    "start_time": "2021-08-16T19:20:01.427Z"
   },
   {
    "duration": 51,
    "start_time": "2021-08-16T19:20:01.511Z"
   },
   {
    "duration": 24,
    "start_time": "2021-08-16T19:20:01.567Z"
   },
   {
    "duration": 23,
    "start_time": "2021-08-16T19:20:01.594Z"
   },
   {
    "duration": 48,
    "start_time": "2021-08-16T19:20:01.619Z"
   },
   {
    "duration": 70,
    "start_time": "2021-08-16T19:20:01.669Z"
   },
   {
    "duration": 4529,
    "start_time": "2021-08-16T19:20:01.741Z"
   },
   {
    "duration": 11,
    "start_time": "2021-08-16T19:20:06.273Z"
   },
   {
    "duration": 22,
    "start_time": "2021-08-16T19:20:06.287Z"
   },
   {
    "duration": 46,
    "start_time": "2021-08-16T19:20:06.312Z"
   },
   {
    "duration": 8,
    "start_time": "2021-08-16T19:20:06.360Z"
   },
   {
    "duration": 33,
    "start_time": "2021-08-16T19:20:06.370Z"
   },
   {
    "duration": 9,
    "start_time": "2021-08-16T19:20:06.405Z"
   },
   {
    "duration": 52,
    "start_time": "2021-08-16T19:20:06.416Z"
   },
   {
    "duration": 16,
    "start_time": "2021-08-16T19:20:06.470Z"
   },
   {
    "duration": 26,
    "start_time": "2021-08-16T19:20:06.488Z"
   },
   {
    "duration": 48,
    "start_time": "2021-08-16T19:20:06.517Z"
   },
   {
    "duration": 25,
    "start_time": "2021-08-16T19:20:06.569Z"
   },
   {
    "duration": 16,
    "start_time": "2021-08-16T19:20:06.596Z"
   },
   {
    "duration": 59,
    "start_time": "2021-08-16T19:20:06.615Z"
   },
   {
    "duration": 15,
    "start_time": "2021-08-16T19:20:06.677Z"
   },
   {
    "duration": 25,
    "start_time": "2021-08-16T19:20:06.694Z"
   }
  ],
  "kernelspec": {
   "display_name": "Python 3",
   "language": "python",
   "name": "python3"
  },
  "language_info": {
   "codemirror_mode": {
    "name": "ipython",
    "version": 3
   },
   "file_extension": ".py",
   "mimetype": "text/x-python",
   "name": "python",
   "nbconvert_exporter": "python",
   "pygments_lexer": "ipython3",
   "version": "3.6.9"
  },
  "toc": {
   "base_numbering": 1,
   "nav_menu": {
    "height": "49.9826px",
    "width": "175.486px"
   },
   "number_sections": true,
   "sideBar": true,
   "skip_h1_title": true,
   "title_cell": "Table of Contents",
   "title_sidebar": "Contents",
   "toc_cell": false,
   "toc_position": {},
   "toc_section_display": true,
   "toc_window_display": false
  }
 },
 "nbformat": 4,
 "nbformat_minor": 2
}
