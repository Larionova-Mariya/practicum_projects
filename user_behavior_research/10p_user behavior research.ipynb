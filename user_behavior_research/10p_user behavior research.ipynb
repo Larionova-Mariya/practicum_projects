{
 "cells": [
  {
   "cell_type": "markdown",
   "metadata": {
    "cellId": "zxwjbgedsj85fm7z8wclb"
   },
   "source": [
    "Привет! Ты теперь находишься на территории код-ревьюеров. У нас тут своя атмосфера и правила:  \n",
    "1. Меня зовут Алексей Свирин. Я работаю продуктовым аналитиком, поэтому мои комментарии больше ориентированы на визуальную и смысловую часть проекта, которая ориентирована на внешних пользователей, и меньше на сам код, его чистоту и оптимизацию. \n",
    "2. Общаемся на ты.  \n",
    "3. Хочешь мне написать — пиши. Только нужно выбрать свой цвет для комментария.  \n",
    "4. Это учебный проект, тут можно не бояться сделать ошибку, но все остальное как в жизни, может быть сложно.  \n",
    "5. У тебя бесконечное количество ~~жизней~~ попыток для сдачи проекта.  \n",
    "6. Поехали!  \n",
    "\n",
    "---\n",
    "\n",
    "Я буду красить комментарии цветом, пожалуйста, не удаляй их:\n",
    "\n",
    "<div class=\"alert alert-block alert-danger\">\n",
    "    \n",
    "\n",
    "__Комментарий от ревьюера №1__\n",
    "\n",
    "Такой комментарий нужно исправить обязательно, он критически влияет на удачное выполнение проекта.\n",
    "</div>\n",
    "    \n",
    "---\n",
    "\n",
    "<div class=\"alert alert-block alert-warning\">\n",
    "    \n",
    "\n",
    "__Комментарий от ревьюера №1__\n",
    "\n",
    "\n",
    "Такой комментарий является рекомендацией или советом. Можешь использовать их на своё усмотрение.\n",
    "</div>\n",
    "\n",
    "---\n",
    "\n",
    "<div class=\"alert alert-block alert-success\">\n",
    "    \n",
    "\n",
    "__Комментарий от ревьюера №1__\n",
    "\n",
    "Такой комментарий  говорит о том, что было сделано что-то качественное и правильное =)\n",
    "</div>\n",
    "\n",
    "---"
   ]
  },
  {
   "cell_type": "markdown",
   "metadata": {
    "cellId": "y2und42r9es4om41v2y56b"
   },
   "source": [
    "<div class=\"alert alert-block alert-info\">\n",
    "    \n",
    "\n",
    "__Комментарий от ревьюера №1__\n",
    "\n",
    "Хороший вариант проекта для первой итерации, нужно будет поправить функцию в тесте, дописать выводы и оформить графики.\n",
    "</div>"
   ]
  },
  {
   "cell_type": "markdown",
   "metadata": {},
   "source": [
    "<div class=\"alert alert-block alert-info\">\n",
    "    \n",
    "\n",
    "__Комментарий от ревьюера №2__\n",
    "\n",
    "Привет. Проект хорошо поправлен, правильно проведен А/Б-тест, найдены все конверсии по воронке и в целом проанализирован датасет. Проект принят!\n",
    "</div>"
   ]
  },
  {
   "cell_type": "markdown",
   "metadata": {},
   "source": [
    "<div class=\"alert alert-block alert-info\">\n",
    "    \n",
    "\n",
    "__Комментарий от ревьюера по новому проекту__\n",
    "\n",
    "Новый проект будет связан с визуализацией данных и презентацией. Ты можешь заранее к нему подготовиться:  \n",
    "1) вот тут можно почитать об основах визуализации в Tableau — https://stepik.org/course/56280/promo  \n",
    "2) а вот тут ты можешь пройти новый бесплатный курс от Яндекс.Практикума по презентациям — https://praktikum.yandex.ru/profile/visual-presentation/    \n",
    "\n",
    "</div>"
   ]
  },
  {
   "cell_type": "markdown",
   "metadata": {
    "cellId": "cfie3iub5s93pzkeikouda"
   },
   "source": [
    "# Анализ поведения пользователей мобильного приложения"
   ]
  },
  {
   "cell_type": "markdown",
   "metadata": {
    "cellId": "g1qxnqg9zxwxod9vrxlts"
   },
   "source": [
    "Дизайнеры захотели поменять шрифты во всём приложении, а менеджеры испугались, что пользователям будет непривычно. Договорились принять решение по результатам A/A/B-теста. Пользователей разбили на 3 группы: 2 контрольные со старыми шрифтами и одну экспериментальную — с новыми. Нужно выяснить, какой шрифт лучше."
   ]
  },
  {
   "cell_type": "markdown",
   "metadata": {
    "cellId": "h6xba8nfowd5eikfn099t"
   },
   "source": [
    "1. [Предобработка данных](#start)\n",
    "    * [Вывод](#conclusion1)\n",
    "2. [Изучение данных](#data)\n",
    "    * [Вывод](#conclusion2)\n",
    "3. [Изучение воронки событий](#funnel)\n",
    "    * [Вывод](#conclusion3)\n",
    "4. [Изучение результатов эксперимента](#results)\n",
    "    * [Вывод](#conclusion4)\n",
    "5. [Общий вывод](#conclusions)"
   ]
  },
  {
   "cell_type": "code",
   "execution_count": 1,
   "metadata": {
    "cellId": "jdvarx8gtodio7hcqpdcw"
   },
   "outputs": [
    {
     "name": "stdout",
     "output_type": "stream",
     "text": [
      "\u001b[31mERROR: Could not open requirements file: [Errno 2] No such file or directory: 'requirements.txt'\u001b[0m\n",
      "Note: you may need to restart the kernel to use updated packages.\n"
     ]
    }
   ],
   "source": [
    "#!c1.8\n",
    "%pip install -q -r requirements.txt"
   ]
  },
  {
   "cell_type": "code",
   "execution_count": 1,
   "metadata": {
    "cellId": "x993vdinbm31hvm1eqbte"
   },
   "outputs": [],
   "source": [
    "#!c1.8\n",
    "import pandas as pd\n",
    "import datetime as dt\n",
    "import matplotlib.pyplot as plt\n",
    "import numpy as np\n",
    "from plotly import graph_objects as go\n",
    "from scipy import stats as st\n",
    "import math as mth"
   ]
  },
  {
   "cell_type": "code",
   "execution_count": 2,
   "metadata": {
    "cellId": "g6rwm1n3gvqzw93vlg49vi"
   },
   "outputs": [],
   "source": [
    "#!c1.8\n",
    "from pandas.plotting import register_matplotlib_converters\n",
    "register_matplotlib_converters()"
   ]
  },
  {
   "cell_type": "markdown",
   "metadata": {
    "cellId": "xca6gggusxjrxomj223lpi"
   },
   "source": [
    "<a id=\"start\"></a> \n",
    "## Предобработка данных"
   ]
  },
  {
   "cell_type": "code",
   "execution_count": 3,
   "metadata": {
    "cellId": "11ak06sut4pi797574f7768"
   },
   "outputs": [],
   "source": [
    "#!c1.8\n",
    "try:\n",
    "    data = pd.read_csv('logs_exp.csv', sep='\\t')\n",
    "except:\n",
    "    data = pd.read_csv('/datasets/logs_exp.csv', sep='\\t')"
   ]
  },
  {
   "cell_type": "code",
   "execution_count": 4,
   "metadata": {
    "cellId": "qdecqnit93nhrl4kf5s5od"
   },
   "outputs": [],
   "source": [
    "#!c1.8\n",
    "data.columns = ['event_name', 'user_id', 'event_timestamp', 'group_id']"
   ]
  },
  {
   "cell_type": "code",
   "execution_count": 5,
   "metadata": {
    "cellId": "3jlei171mao04tgmg05bhkj"
   },
   "outputs": [
    {
     "data": {
      "text/html": [
       "<div>\n",
       "<style scoped>\n",
       "    .dataframe tbody tr th:only-of-type {\n",
       "        vertical-align: middle;\n",
       "    }\n",
       "\n",
       "    .dataframe tbody tr th {\n",
       "        vertical-align: top;\n",
       "    }\n",
       "\n",
       "    .dataframe thead th {\n",
       "        text-align: right;\n",
       "    }\n",
       "</style>\n",
       "<table border=\"1\" class=\"dataframe\">\n",
       "  <thead>\n",
       "    <tr style=\"text-align: right;\">\n",
       "      <th></th>\n",
       "      <th>event_name</th>\n",
       "      <th>user_id</th>\n",
       "      <th>event_timestamp</th>\n",
       "      <th>group_id</th>\n",
       "    </tr>\n",
       "  </thead>\n",
       "  <tbody>\n",
       "    <tr>\n",
       "      <td>220160</td>\n",
       "      <td>MainScreenAppear</td>\n",
       "      <td>2706335667397018846</td>\n",
       "      <td>1565166484</td>\n",
       "      <td>248</td>\n",
       "    </tr>\n",
       "    <tr>\n",
       "      <td>110122</td>\n",
       "      <td>CartScreenAppear</td>\n",
       "      <td>2056649048651349082</td>\n",
       "      <td>1564896221</td>\n",
       "      <td>247</td>\n",
       "    </tr>\n",
       "    <tr>\n",
       "      <td>211873</td>\n",
       "      <td>PaymentScreenSuccessful</td>\n",
       "      <td>8309980273750324949</td>\n",
       "      <td>1565123892</td>\n",
       "      <td>246</td>\n",
       "    </tr>\n",
       "    <tr>\n",
       "      <td>133491</td>\n",
       "      <td>CartScreenAppear</td>\n",
       "      <td>5996739817823449506</td>\n",
       "      <td>1564937677</td>\n",
       "      <td>248</td>\n",
       "    </tr>\n",
       "    <tr>\n",
       "      <td>233457</td>\n",
       "      <td>PaymentScreenSuccessful</td>\n",
       "      <td>6987317229889528118</td>\n",
       "      <td>1565190839</td>\n",
       "      <td>247</td>\n",
       "    </tr>\n",
       "    <tr>\n",
       "      <td>71271</td>\n",
       "      <td>PaymentScreenSuccessful</td>\n",
       "      <td>1100162414441257562</td>\n",
       "      <td>1564774056</td>\n",
       "      <td>246</td>\n",
       "    </tr>\n",
       "    <tr>\n",
       "      <td>203692</td>\n",
       "      <td>CartScreenAppear</td>\n",
       "      <td>5858656528858890652</td>\n",
       "      <td>1565109123</td>\n",
       "      <td>247</td>\n",
       "    </tr>\n",
       "    <tr>\n",
       "      <td>29228</td>\n",
       "      <td>OffersScreenAppear</td>\n",
       "      <td>7238309430968098875</td>\n",
       "      <td>1564676978</td>\n",
       "      <td>248</td>\n",
       "    </tr>\n",
       "    <tr>\n",
       "      <td>202700</td>\n",
       "      <td>MainScreenAppear</td>\n",
       "      <td>3059176892016404589</td>\n",
       "      <td>1565107745</td>\n",
       "      <td>246</td>\n",
       "    </tr>\n",
       "    <tr>\n",
       "      <td>81888</td>\n",
       "      <td>MainScreenAppear</td>\n",
       "      <td>6664988900969927561</td>\n",
       "      <td>1564821760</td>\n",
       "      <td>246</td>\n",
       "    </tr>\n",
       "  </tbody>\n",
       "</table>\n",
       "</div>"
      ],
      "text/plain": [
       "                     event_name              user_id  event_timestamp  \\\n",
       "220160         MainScreenAppear  2706335667397018846       1565166484   \n",
       "110122         CartScreenAppear  2056649048651349082       1564896221   \n",
       "211873  PaymentScreenSuccessful  8309980273750324949       1565123892   \n",
       "133491         CartScreenAppear  5996739817823449506       1564937677   \n",
       "233457  PaymentScreenSuccessful  6987317229889528118       1565190839   \n",
       "71271   PaymentScreenSuccessful  1100162414441257562       1564774056   \n",
       "203692         CartScreenAppear  5858656528858890652       1565109123   \n",
       "29228        OffersScreenAppear  7238309430968098875       1564676978   \n",
       "202700         MainScreenAppear  3059176892016404589       1565107745   \n",
       "81888          MainScreenAppear  6664988900969927561       1564821760   \n",
       "\n",
       "        group_id  \n",
       "220160       248  \n",
       "110122       247  \n",
       "211873       246  \n",
       "133491       248  \n",
       "233457       247  \n",
       "71271        246  \n",
       "203692       247  \n",
       "29228        248  \n",
       "202700       246  \n",
       "81888        246  "
      ]
     },
     "execution_count": 5,
     "metadata": {},
     "output_type": "execute_result"
    }
   ],
   "source": [
    "#!c1.8\n",
    "data.sample(10)"
   ]
  },
  {
   "cell_type": "code",
   "execution_count": 6,
   "metadata": {
    "cellId": "6772lvavx5pli4gnodyqy"
   },
   "outputs": [
    {
     "name": "stdout",
     "output_type": "stream",
     "text": [
      "<class 'pandas.core.frame.DataFrame'>\n",
      "RangeIndex: 244126 entries, 0 to 244125\n",
      "Data columns (total 4 columns):\n",
      "event_name         244126 non-null object\n",
      "user_id            244126 non-null int64\n",
      "event_timestamp    244126 non-null int64\n",
      "group_id           244126 non-null int64\n",
      "dtypes: int64(3), object(1)\n",
      "memory usage: 7.5+ MB\n"
     ]
    }
   ],
   "source": [
    "#!c1.8\n",
    "data.info()"
   ]
  },
  {
   "cell_type": "code",
   "execution_count": 7,
   "metadata": {
    "cellId": "rc8u6x2wftalqxjtiqsxpl"
   },
   "outputs": [
    {
     "data": {
      "text/plain": [
       "413"
      ]
     },
     "execution_count": 7,
     "metadata": {},
     "output_type": "execute_result"
    }
   ],
   "source": [
    "#!c1.8\n",
    "data['event_name'] = data['event_name'].str.lower()\n",
    "data.duplicated().sum()"
   ]
  },
  {
   "cell_type": "code",
   "execution_count": 8,
   "metadata": {
    "cellId": "i981daujnaqs1j6xgxyh3"
   },
   "outputs": [],
   "source": [
    "#!c1.8\n",
    "data.drop_duplicates(inplace=True)"
   ]
  },
  {
   "cell_type": "code",
   "execution_count": 9,
   "metadata": {
    "cellId": "mviep5izh9dbjpzadsztae"
   },
   "outputs": [],
   "source": [
    "#!c1.8\n",
    "data.loc[data['event_name'] == 'mainscreenappear', ['event_name']] = 'main_screen_appear'\n",
    "data.loc[data['event_name'] == 'offersscreenappear', ['event_name']] = 'offers_screen_appear'\n",
    "data.loc[data['event_name'] == 'cartscreenappear', ['event_name']] = 'cart_screen_appear'\n",
    "data.loc[data['event_name'] == 'paymentscreensuccessful', ['event_name']] = 'payment_screen_successful'"
   ]
  },
  {
   "cell_type": "code",
   "execution_count": 10,
   "metadata": {
    "cellId": "ir1fcsy06jgqm1qershy1d"
   },
   "outputs": [],
   "source": [
    "data['event_datetime'] = pd.to_datetime(data['event_timestamp'], unit='s')"
   ]
  },
  {
   "cell_type": "code",
   "execution_count": 11,
   "metadata": {
    "cellId": "3up4fa6wm7mr6vqepwmcff"
   },
   "outputs": [],
   "source": [
    "data['event_date'] = data['event_datetime'].dt.date"
   ]
  },
  {
   "cell_type": "markdown",
   "metadata": {
    "cellId": "js2zl7wgq3umoawkd1vd"
   },
   "source": [
    "<a id=\"conclusion1\"></a> \n",
    "### Вывод\n",
    "\n",
    "<p>Пропусков в данных нет.</p>\n",
    "<p>Дубликаты удалены.</p>\n",
    "<p>Добавлены столбы с датой и временем ('event_datetime') и с датой ('event_date').</p>"
   ]
  },
  {
   "cell_type": "markdown",
   "metadata": {
    "cellId": "xx2ghvyejs88rdrl7zhse4"
   },
   "source": [
    "<div class=\"alert alert-block alert-success\">\n",
    "    \n",
    "\n",
    "__Комментарий от ревьюера №1 (OK)__\n",
    "\n",
    "Первый раздела сделан хорошо. Проверены основные возможные проблемы в данных.\n",
    "</div>"
   ]
  },
  {
   "cell_type": "markdown",
   "metadata": {
    "cellId": "o97e5rd9homn0iiymutsp"
   },
   "source": [
    "<a id=\"data\"></a> \n",
    "## Изучение данных"
   ]
  },
  {
   "cell_type": "code",
   "execution_count": 12,
   "metadata": {
    "cellId": "szwjtuskejsieb21es1l"
   },
   "outputs": [
    {
     "data": {
      "text/plain": [
       "main_screen_appear           119101\n",
       "offers_screen_appear          46808\n",
       "cart_screen_appear            42668\n",
       "payment_screen_successful     34118\n",
       "tutorial                       1018\n",
       "Name: event_name, dtype: int64"
      ]
     },
     "execution_count": 12,
     "metadata": {},
     "output_type": "execute_result"
    }
   ],
   "source": [
    "#!c1.8\n",
    "data['event_name'].value_counts()"
   ]
  },
  {
   "cell_type": "code",
   "execution_count": 13,
   "metadata": {
    "cellId": "3mj3to6zytjc57hqu01rn"
   },
   "outputs": [
    {
     "data": {
      "text/plain": [
       "243713"
      ]
     },
     "execution_count": 13,
     "metadata": {},
     "output_type": "execute_result"
    }
   ],
   "source": [
    "#!c1.8\n",
    "data['event_name'].count()"
   ]
  },
  {
   "cell_type": "code",
   "execution_count": 14,
   "metadata": {
    "cellId": "r8og12shqjt7tasj7mevh"
   },
   "outputs": [
    {
     "data": {
      "text/plain": [
       "7551"
      ]
     },
     "execution_count": 14,
     "metadata": {},
     "output_type": "execute_result"
    }
   ],
   "source": [
    "#!c1.8\n",
    "data['user_id'].nunique()"
   ]
  },
  {
   "cell_type": "code",
   "execution_count": 15,
   "metadata": {
    "cellId": "qb2jhs63yglkwm8oa2gxw"
   },
   "outputs": [
    {
     "data": {
      "text/plain": [
       "32.27559263673685"
      ]
     },
     "execution_count": 15,
     "metadata": {},
     "output_type": "execute_result"
    }
   ],
   "source": [
    "#!c1.8\n",
    "data.groupby('user_id', as_index=False).agg({'event_name': 'count'})['event_name'].mean()"
   ]
  },
  {
   "cell_type": "markdown",
   "metadata": {
    "cellId": "tcsdkl2nzbszljxjkpmbqq"
   },
   "source": [
    "<p>В логе четыре вида событий, общее количество событий - 243 713. Уникальных пользователей - 7 551. На одного пользователя приходится в среднем 32 события.</p>"
   ]
  },
  {
   "cell_type": "code",
   "execution_count": 16,
   "metadata": {
    "cellId": "k9qya6bbaz2lx3t0f852t"
   },
   "outputs": [
    {
     "data": {
      "text/plain": [
       "20.0"
      ]
     },
     "metadata": {},
     "output_type": "display_data"
    },
    {
     "data": {
      "text/plain": [
       "0    5\n",
       "dtype: int64"
      ]
     },
     "metadata": {},
     "output_type": "display_data"
    },
    {
     "data": {
      "image/png": "[encoded data removed]",
      "text/plain": [
       "<Figure size 432x288 with 1 Axes>"
      ]
     },
     "metadata": {
      "needs_background": "light"
     },
     "output_type": "display_data"
    }
   ],
   "source": [
    "#!c1.8\n",
    "display(data.groupby('user_id', as_index=False).agg({'event_name': 'count'})['event_name'].median())\n",
    "display(data.groupby('user_id', as_index=False).agg({'event_name': 'count'})['event_name'].mode())\n",
    "plt.title('Распределение событий')\n",
    "plt.xlabel('Количество событий')\n",
    "plt.ylabel('Частота')\n",
    "data.groupby('user_id', as_index=False).agg({'event_name': 'count'})['event_name'].hist(bins=100);"
   ]
  },
  {
   "cell_type": "markdown",
   "metadata": {
    "cellId": "9gcx0s5sy8dp9txhke1zc"
   },
   "source": [
    "<div class=\"alert alert-block alert-warning\">\n",
    "    \n",
    "\n",
    "__Комментарий от ревьюера №1 (можно лучше)__\n",
    "\n",
    "В этом моменте можно было еще посмотреть на медиану и моду. И сделать вывод о распределении наших данных.\n",
    "\n",
    "</div>"
   ]
  },
  {
   "cell_type": "markdown",
   "metadata": {
    "cellId": "qw7bo36xkq8zac13uwve5"
   },
   "source": [
    "<div class=\"alert alert-info\" style=\"border-radius: 15px; box-shadow: 4px 4px 4px; border: 1px solid \">\n",
    "Распределение событий отличается от нормального, небольшое количество пользователей совершает много событий.\n",
    "</div>"
   ]
  },
  {
   "cell_type": "markdown",
   "metadata": {},
   "source": [
    "<div class=\"alert alert-block alert-success\">\n",
    "    \n",
    "\n",
    "__Комментарий от ревьюера №2  (OK)__\n",
    "\n",
    "👍\n",
    "</div>"
   ]
  },
  {
   "cell_type": "code",
   "execution_count": 17,
   "metadata": {
    "cellId": "gz3u4iuf2zteknuss4rvs"
   },
   "outputs": [
    {
     "data": {
      "text/plain": [
       "Timestamp('2019-08-07 21:15:17')"
      ]
     },
     "metadata": {},
     "output_type": "display_data"
    },
    {
     "data": {
      "text/plain": [
       "Timestamp('2019-07-25 04:43:36')"
      ]
     },
     "metadata": {},
     "output_type": "display_data"
    },
    {
     "data": {
      "text/plain": [
       "datetime.timedelta(days=13)"
      ]
     },
     "metadata": {},
     "output_type": "display_data"
    }
   ],
   "source": [
    "#!c1.8\n",
    "display(data['event_datetime'].max())\n",
    "display(data['event_datetime'].min())\n",
    "display(data['event_date'].max() - data['event_date'].min())"
   ]
  },
  {
   "cell_type": "markdown",
   "metadata": {
    "cellId": "stheg2k7p1pz0zyt1r8v5g"
   },
   "source": [
    "<p>Располагаем данными за 13 дней.</p>"
   ]
  },
  {
   "cell_type": "code",
   "execution_count": 18,
   "metadata": {
    "cellId": "dlod5foqcmdhjgvmcuct9a"
   },
   "outputs": [
    {
     "data": {
      "image/png": "[encoded data removed]",
      "text/plain": [
       "<Figure size 1080x360 with 1 Axes>"
      ]
     },
     "metadata": {
      "needs_background": "light"
     },
     "output_type": "display_data"
    }
   ],
   "source": [
    "#!c1.8\n",
    "plt.figure(figsize=(15, 5))\n",
    "plt.title('Распределение событий по времени')\n",
    "plt.xlabel('Дата')\n",
    "plt.ylabel('Частота события')\n",
    "data['event_datetime'].hist();"
   ]
  },
  {
   "cell_type": "markdown",
   "metadata": {
    "cellId": "tpg3o3i3x1hwc4aj3emae"
   },
   "source": [
    "<div class=\"alert alert-block alert-warning\">\n",
    "    \n",
    "\n",
    "__Комментарий от ревьюера №1 (нужно переделать)__\n",
    "\n",
    "Проверь, пожалуйста, на всех графиках в проекте наличие заголовков и подписей осей. Не забудь давать заголовкам и подписям осознанные и понятные значения с указанием размерности (шт., млн. и т.д.). Желательно, чтобы заголовок и название осей были на одном языке.\n",
    "\n",
    "</div>"
   ]
  },
  {
   "cell_type": "markdown",
   "metadata": {},
   "source": [
    "<div class=\"alert alert-block alert-success\">\n",
    "    \n",
    "\n",
    "__Комментарий от ревьюера №2  (OK)__\n",
    "\n",
    "👍\n",
    "</div>"
   ]
  },
  {
   "cell_type": "markdown",
   "metadata": {
    "cellId": "zxppkzh0g6nnticv0hqtxo"
   },
   "source": [
    "Данных за июль очень мало, их можно отбросить."
   ]
  },
  {
   "cell_type": "markdown",
   "metadata": {
    "cellId": "hmammjrilse0gcu137tma5m"
   },
   "source": [
    "<div class=\"alert alert-block alert-warning\">\n",
    "    \n",
    "__Комментарий от ревьюера №1 (можно лучше)__\n",
    "\n",
    "В данном случае можно было бы подробнее расмотреть данные за 31 июля и 1 августа и понять когда был точно по часам запущен тест.\n",
    "</div>"
   ]
  },
  {
   "cell_type": "code",
   "execution_count": 19,
   "metadata": {
    "cellId": "zl636v732ideqfhk66ryd"
   },
   "outputs": [],
   "source": [
    "#!c1.8\n",
    "data = data[data['event_datetime'] >= '2019-08-01']"
   ]
  },
  {
   "cell_type": "code",
   "execution_count": 20,
   "metadata": {
    "cellId": "epnqfgtu641v0po10b2tu"
   },
   "outputs": [
    {
     "data": {
      "text/plain": [
       "datetime.timedelta(days=6)"
      ]
     },
     "execution_count": 20,
     "metadata": {},
     "output_type": "execute_result"
    }
   ],
   "source": [
    "#!c1.8\n",
    "data['event_date'].max() - data['event_date'].min()"
   ]
  },
  {
   "cell_type": "code",
   "execution_count": 21,
   "metadata": {
    "cellId": "jemn01grbsm7o7foaf05m"
   },
   "outputs": [
    {
     "name": "stdout",
     "output_type": "stream",
     "text": [
      "осталось пользователей: 7534\n",
      "осталось событий: 240887\n"
     ]
    }
   ],
   "source": [
    "#!c1.8\n",
    "print('осталось пользователей:', data['user_id'].nunique())\n",
    "print('осталось событий:', data['event_name'].count())"
   ]
  },
  {
   "cell_type": "markdown",
   "metadata": {
    "cellId": "xd8yksz1x4wbv2p6u636"
   },
   "source": [
    "В результате уменьшения временного периода (потому что данных за июль очень мало), период уменьшился до 6 дней, количество пользователей - на 17, событий - на 2826."
   ]
  },
  {
   "cell_type": "code",
   "execution_count": 22,
   "metadata": {
    "cellId": "ocrugwk5udahfqc0uk5h6t"
   },
   "outputs": [
    {
     "data": {
      "text/html": [
       "<div>\n",
       "<style scoped>\n",
       "    .dataframe tbody tr th:only-of-type {\n",
       "        vertical-align: middle;\n",
       "    }\n",
       "\n",
       "    .dataframe tbody tr th {\n",
       "        vertical-align: top;\n",
       "    }\n",
       "\n",
       "    .dataframe thead th {\n",
       "        text-align: right;\n",
       "    }\n",
       "</style>\n",
       "<table border=\"1\" class=\"dataframe\">\n",
       "  <thead>\n",
       "    <tr style=\"text-align: right;\">\n",
       "      <th></th>\n",
       "      <th>events</th>\n",
       "      <th>users</th>\n",
       "    </tr>\n",
       "    <tr>\n",
       "      <th>group_id</th>\n",
       "      <th></th>\n",
       "      <th></th>\n",
       "    </tr>\n",
       "  </thead>\n",
       "  <tbody>\n",
       "    <tr>\n",
       "      <td>246</td>\n",
       "      <td>79302</td>\n",
       "      <td>2484</td>\n",
       "    </tr>\n",
       "    <tr>\n",
       "      <td>247</td>\n",
       "      <td>77022</td>\n",
       "      <td>2513</td>\n",
       "    </tr>\n",
       "    <tr>\n",
       "      <td>248</td>\n",
       "      <td>84563</td>\n",
       "      <td>2537</td>\n",
       "    </tr>\n",
       "  </tbody>\n",
       "</table>\n",
       "</div>"
      ],
      "text/plain": [
       "          events  users\n",
       "group_id               \n",
       "246        79302   2484\n",
       "247        77022   2513\n",
       "248        84563   2537"
      ]
     },
     "execution_count": 22,
     "metadata": {},
     "output_type": "execute_result"
    }
   ],
   "source": [
    "#!c1.8\n",
    "data.pivot_table(index='group_id', values='user_id', aggfunc=('count', 'nunique')).rename(columns={'count': 'events', 'nunique': 'users'})"
   ]
  },
  {
   "cell_type": "markdown",
   "metadata": {
    "cellId": "tjjwk5yp0nkj6uy4zllhb"
   },
   "source": [
    "<div class=\"alert alert-block alert-warning\">\n",
    "    \n",
    "__Комментарий от ревьюера №1 (нужно переделать)__\n",
    "\n",
    "В данном пункте ты делаешь проверку на наличие событий в группах, но у нас может быть так, что в одной группе мало пользователей, но они генерируют много событий. Можешь в таблицу включить информацию по пользователям в группах?\n",
    "</div>"
   ]
  },
  {
   "cell_type": "markdown",
   "metadata": {
    "cellId": "ynjmuq7wc9nyxnvg8gf9gc"
   },
   "source": [
    "<div class=\"alert alert-info\" style=\"border-radius: 15px; box-shadow: 4px 4px 4px; border: 1px solid \">\n",
    "Добавила. Пользователей и событий примерно одинаково в разных группах.\n",
    "</div>"
   ]
  },
  {
   "cell_type": "markdown",
   "metadata": {},
   "source": [
    "<div class=\"alert alert-block alert-success\">\n",
    "    \n",
    "\n",
    "__Комментарий от ревьюера №2  (OK)__\n",
    "\n",
    "👍\n",
    "</div>"
   ]
  },
  {
   "cell_type": "code",
   "execution_count": 23,
   "metadata": {
    "cellId": "5tsjxqhjw5pxscifp9ln"
   },
   "outputs": [],
   "source": [
    "#!c1.8\n",
    "users_248 = data.query('group_id == 248')['user_id'].unique()\n",
    "users_246 = data.query('group_id == 246')['user_id'].unique()\n",
    "users_247 = data.query('group_id == 247')['user_id'].unique()"
   ]
  },
  {
   "cell_type": "code",
   "execution_count": 24,
   "metadata": {
    "cellId": "9hm5kwnzckopdgx07jz1h"
   },
   "outputs": [
    {
     "data": {
      "text/plain": [
       "set()"
      ]
     },
     "metadata": {},
     "output_type": "display_data"
    },
    {
     "data": {
      "text/plain": [
       "set()"
      ]
     },
     "metadata": {},
     "output_type": "display_data"
    },
    {
     "data": {
      "text/plain": [
       "set()"
      ]
     },
     "metadata": {},
     "output_type": "display_data"
    }
   ],
   "source": [
    "#!c1.8\n",
    "display(set(users_248) & set(users_247))\n",
    "display(set(users_248) & set(users_246))\n",
    "display(set(users_246) & set(users_247))"
   ]
  },
  {
   "cell_type": "markdown",
   "metadata": {
    "cellId": "9ujuu9izf6jvla7x57ainf"
   },
   "source": [
    "В оставшихся данных есть пользователи из всех трёх групп.\n",
    "\n",
    "Нет пользователей, которые попали в несколько групп."
   ]
  },
  {
   "cell_type": "markdown",
   "metadata": {
    "cellId": "iplemuy3p4ms2bzkttc9u"
   },
   "source": [
    "<a id=\"conclusion2\"></a> \n",
    "### Вывод\n",
    "<p>В логе четыре вида событий, общее количество событий - 240 887. Уникальных пользователей - 7 354. На одного пользователя приходится в среднем 33 события.</p>\n",
    "<p>Располагаем данными за 6 дней.</p>\n",
    "<p>Нет пользвателей, которые попали в несколько групп.</p>"
   ]
  },
  {
   "cell_type": "markdown",
   "metadata": {
    "cellId": "geed9rrjjtraj4yn2c2hi"
   },
   "source": [
    "<a id=\"funnel\"></a> \n",
    "## Изучение воронки событий"
   ]
  },
  {
   "cell_type": "code",
   "execution_count": null,
   "metadata": {
    "cellId": "6qhuu3lbgp2xoyosxn7q6"
   },
   "outputs": [],
   "source": [
    "#!c1.8\n",
    "plt.figure(figsize=(15, 5))\n",
    "plt.title('Распределение событий')\n",
    "plt.xlabel('Событие')\n",
    "plt.ylabel('Частота')\n",
    "data['event_name'].hist();"
   ]
  },
  {
   "cell_type": "markdown",
   "metadata": {
    "cellId": "yefuculswhyhcob9cbit9"
   },
   "source": [
    "В данных есть события:\n",
    "\n",
    "- tutorial (руководство)\n",
    "- main_screen_appear (появление главного экрана)\n",
    "- offers_screen_appear (появление экрана оплаты)\n",
    "- cart_screen_appear (появление экрана ввода карты)\n",
    "- payment_screen_successful (появление экрана успешной оплаты)\n",
    "\n",
    "Реже всего встречается событие tutorial, чаще всего - main_screen_appear. Различия в частотах остальных событий небольшие."
   ]
  },
  {
   "cell_type": "code",
   "execution_count": 25,
   "metadata": {
    "cellId": "qiemfe3ty42p9adatpf7k"
   },
   "outputs": [
    {
     "data": {
      "text/html": [
       "<div>\n",
       "<style scoped>\n",
       "    .dataframe tbody tr th:only-of-type {\n",
       "        vertical-align: middle;\n",
       "    }\n",
       "\n",
       "    .dataframe tbody tr th {\n",
       "        vertical-align: top;\n",
       "    }\n",
       "\n",
       "    .dataframe thead th {\n",
       "        text-align: right;\n",
       "    }\n",
       "</style>\n",
       "<table border=\"1\" class=\"dataframe\">\n",
       "  <thead>\n",
       "    <tr style=\"text-align: right;\">\n",
       "      <th></th>\n",
       "      <th>event_name</th>\n",
       "      <th>unique_users</th>\n",
       "      <th>share</th>\n",
       "    </tr>\n",
       "  </thead>\n",
       "  <tbody>\n",
       "    <tr>\n",
       "      <td>1</td>\n",
       "      <td>main_screen_appear</td>\n",
       "      <td>7419</td>\n",
       "      <td>0.984736</td>\n",
       "    </tr>\n",
       "    <tr>\n",
       "      <td>2</td>\n",
       "      <td>offers_screen_appear</td>\n",
       "      <td>4593</td>\n",
       "      <td>0.609636</td>\n",
       "    </tr>\n",
       "    <tr>\n",
       "      <td>0</td>\n",
       "      <td>cart_screen_appear</td>\n",
       "      <td>3734</td>\n",
       "      <td>0.495620</td>\n",
       "    </tr>\n",
       "    <tr>\n",
       "      <td>3</td>\n",
       "      <td>payment_screen_successful</td>\n",
       "      <td>3539</td>\n",
       "      <td>0.469737</td>\n",
       "    </tr>\n",
       "    <tr>\n",
       "      <td>4</td>\n",
       "      <td>tutorial</td>\n",
       "      <td>840</td>\n",
       "      <td>0.111495</td>\n",
       "    </tr>\n",
       "  </tbody>\n",
       "</table>\n",
       "</div>"
      ],
      "text/plain": [
       "                  event_name  unique_users     share\n",
       "1         main_screen_appear          7419  0.984736\n",
       "2       offers_screen_appear          4593  0.609636\n",
       "0         cart_screen_appear          3734  0.495620\n",
       "3  payment_screen_successful          3539  0.469737\n",
       "4                   tutorial           840  0.111495"
      ]
     },
     "execution_count": 25,
     "metadata": {},
     "output_type": "execute_result"
    }
   ],
   "source": [
    "#!c1.8\n",
    "event_by_users = data.groupby('event_name', as_index=False).agg({'user_id': 'nunique'}).rename(columns={'user_id': 'unique_users'}).sort_values(by='unique_users', ascending=False)\n",
    "all_users = data['user_id'].nunique()\n",
    "event_by_users['share'] = event_by_users['unique_users'] / all_users\n",
    "event_by_users"
   ]
  },
  {
   "cell_type": "markdown",
   "metadata": {
    "cellId": "t0dtzzs32a9hc6vaf9ptap"
   },
   "source": [
    "Последовательность событий:\n",
    "\n",
    "main_screen_appear -> offers_screen_appear -> cart_screen_appear -> payment_screen_successful.\n",
    "\n",
    "Событие tutorial совершали 11% пользователей, его не нужно учитывать в воронке."
   ]
  },
  {
   "cell_type": "markdown",
   "metadata": {
    "cellId": "crxbi9asvb7vu8ubzqreqh"
   },
   "source": [
    "<div class=\"alert alert-block alert-success\">\n",
    "    \n",
    "\n",
    "__Комментарий от ревьюера №1  (OK)__\n",
    "\n",
    "Воронка найдена верно.\n",
    "</div>"
   ]
  },
  {
   "cell_type": "code",
   "execution_count": 26,
   "metadata": {
    "cellId": "l3755055tmcajdooh75ic"
   },
   "outputs": [],
   "source": [
    "#!c1.8\n",
    "event_by_users = event_by_users.drop(4)"
   ]
  },
  {
   "cell_type": "code",
   "execution_count": 29,
   "metadata": {
    "cellId": "z602f7j8vamcda2k9idfsk"
   },
   "outputs": [
    {
     "data": {
      "application/vnd.plotly.v1+json": {
       "config": {
        "plotlyServerURL": "https://plot.ly"
       },
       "data": [
        {
         "hoverinfo": "percent initial+percent previous",
         "textinfo": "value+percent previous",
         "type": "funnel",
         "x": [
          7419,
          4593,
          3734,
          3539
         ],
         "y": [
          "main_screen_appear",
          "offers_screen_appear",
          "cart_screen_appear",
          "payment_screen_successful"
         ]
        }
       ],
       "layout": {
        "template": {
         "data": {
          "bar": [
           {
            "error_x": {
             "color": "#2a3f5f"
            },
            "error_y": {
             "color": "#2a3f5f"
            },
            "marker": {
             "line": {
              "color": "#E5ECF6",
              "width": 0.5
             }
            },
            "type": "bar"
           }
          ],
          "barpolar": [
           {
            "marker": {
             "line": {
              "color": "#E5ECF6",
              "width": 0.5
             }
            },
            "type": "barpolar"
           }
          ],
          "carpet": [
           {
            "aaxis": {
             "endlinecolor": "#2a3f5f",
             "gridcolor": "white",
             "linecolor": "white",
             "minorgridcolor": "white",
             "startlinecolor": "#2a3f5f"
            },
            "baxis": {
             "endlinecolor": "#2a3f5f",
             "gridcolor": "white",
             "linecolor": "white",
             "minorgridcolor": "white",
             "startlinecolor": "#2a3f5f"
            },
            "type": "carpet"
           }
          ],
          "choropleth": [
           {
            "colorbar": {
             "outlinewidth": 0,
             "ticks": ""
            },
            "type": "choropleth"
           }
          ],
          "contour": [
           {
            "colorbar": {
             "outlinewidth": 0,
             "ticks": ""
            },
            "colorscale": [
             [
              0,
              "#0d0887"
             ],
             [
              0.1111111111111111,
              "#46039f"
             ],
             [
              0.2222222222222222,
              "#7201a8"
             ],
             [
              0.3333333333333333,
              "#9c179e"
             ],
             [
              0.4444444444444444,
              "#bd3786"
             ],
             [
              0.5555555555555556,
              "#d8576b"
             ],
             [
              0.6666666666666666,
              "#ed7953"
             ],
             [
              0.7777777777777778,
              "#fb9f3a"
             ],
             [
              0.8888888888888888,
              "#fdca26"
             ],
             [
              1,
              "#f0f921"
             ]
            ],
            "type": "contour"
           }
          ],
          "contourcarpet": [
           {
            "colorbar": {
             "outlinewidth": 0,
             "ticks": ""
            },
            "type": "contourcarpet"
           }
          ],
          "heatmap": [
           {
            "colorbar": {
             "outlinewidth": 0,
             "ticks": ""
            },
            "colorscale": [
             [
              0,
              "#0d0887"
             ],
             [
              0.1111111111111111,
              "#46039f"
             ],
             [
              0.2222222222222222,
              "#7201a8"
             ],
             [
              0.3333333333333333,
              "#9c179e"
             ],
             [
              0.4444444444444444,
              "#bd3786"
             ],
             [
              0.5555555555555556,
              "#d8576b"
             ],
             [
              0.6666666666666666,
              "#ed7953"
             ],
             [
              0.7777777777777778,
              "#fb9f3a"
             ],
             [
              0.8888888888888888,
              "#fdca26"
             ],
             [
              1,
              "#f0f921"
             ]
            ],
            "type": "heatmap"
           }
          ],
          "heatmapgl": [
           {
            "colorbar": {
             "outlinewidth": 0,
             "ticks": ""
            },
            "colorscale": [
             [
              0,
              "#0d0887"
             ],
             [
              0.1111111111111111,
              "#46039f"
             ],
             [
              0.2222222222222222,
              "#7201a8"
             ],
             [
              0.3333333333333333,
              "#9c179e"
             ],
             [
              0.4444444444444444,
              "#bd3786"
             ],
             [
              0.5555555555555556,
              "#d8576b"
             ],
             [
              0.6666666666666666,
              "#ed7953"
             ],
             [
              0.7777777777777778,
              "#fb9f3a"
             ],
             [
              0.8888888888888888,
              "#fdca26"
             ],
             [
              1,
              "#f0f921"
             ]
            ],
            "type": "heatmapgl"
           }
          ],
          "histogram": [
           {
            "marker": {
             "colorbar": {
              "outlinewidth": 0,
              "ticks": ""
             }
            },
            "type": "histogram"
           }
          ],
          "histogram2d": [
           {
            "colorbar": {
             "outlinewidth": 0,
             "ticks": ""
            },
            "colorscale": [
             [
              0,
              "#0d0887"
             ],
             [
              0.1111111111111111,
              "#46039f"
             ],
             [
              0.2222222222222222,
              "#7201a8"
             ],
             [
              0.3333333333333333,
              "#9c179e"
             ],
             [
              0.4444444444444444,
              "#bd3786"
             ],
             [
              0.5555555555555556,
              "#d8576b"
             ],
             [
              0.6666666666666666,
              "#ed7953"
             ],
             [
              0.7777777777777778,
              "#fb9f3a"
             ],
             [
              0.8888888888888888,
              "#fdca26"
             ],
             [
              1,
              "#f0f921"
             ]
            ],
            "type": "histogram2d"
           }
          ],
          "histogram2dcontour": [
           {
            "colorbar": {
             "outlinewidth": 0,
             "ticks": ""
            },
            "colorscale": [
             [
              0,
              "#0d0887"
             ],
             [
              0.1111111111111111,
              "#46039f"
             ],
             [
              0.2222222222222222,
              "#7201a8"
             ],
             [
              0.3333333333333333,
              "#9c179e"
             ],
             [
              0.4444444444444444,
              "#bd3786"
             ],
             [
              0.5555555555555556,
              "#d8576b"
             ],
             [
              0.6666666666666666,
              "#ed7953"
             ],
             [
              0.7777777777777778,
              "#fb9f3a"
             ],
             [
              0.8888888888888888,
              "#fdca26"
             ],
             [
              1,
              "#f0f921"
             ]
            ],
            "type": "histogram2dcontour"
           }
          ],
          "mesh3d": [
           {
            "colorbar": {
             "outlinewidth": 0,
             "ticks": ""
            },
            "type": "mesh3d"
           }
          ],
          "parcoords": [
           {
            "line": {
             "colorbar": {
              "outlinewidth": 0,
              "ticks": ""
             }
            },
            "type": "parcoords"
           }
          ],
          "scatter": [
           {
            "marker": {
             "colorbar": {
              "outlinewidth": 0,
              "ticks": ""
             }
            },
            "type": "scatter"
           }
          ],
          "scatter3d": [
           {
            "line": {
             "colorbar": {
              "outlinewidth": 0,
              "ticks": ""
             }
            },
            "marker": {
             "colorbar": {
              "outlinewidth": 0,
              "ticks": ""
             }
            },
            "type": "scatter3d"
           }
          ],
          "scattercarpet": [
           {
            "marker": {
             "colorbar": {
              "outlinewidth": 0,
              "ticks": ""
             }
            },
            "type": "scattercarpet"
           }
          ],
          "scattergeo": [
           {
            "marker": {
             "colorbar": {
              "outlinewidth": 0,
              "ticks": ""
             }
            },
            "type": "scattergeo"
           }
          ],
          "scattergl": [
           {
            "marker": {
             "colorbar": {
              "outlinewidth": 0,
              "ticks": ""
             }
            },
            "type": "scattergl"
           }
          ],
          "scattermapbox": [
           {
            "marker": {
             "colorbar": {
              "outlinewidth": 0,
              "ticks": ""
             }
            },
            "type": "scattermapbox"
           }
          ],
          "scatterpolar": [
           {
            "marker": {
             "colorbar": {
              "outlinewidth": 0,
              "ticks": ""
             }
            },
            "type": "scatterpolar"
           }
          ],
          "scatterpolargl": [
           {
            "marker": {
             "colorbar": {
              "outlinewidth": 0,
              "ticks": ""
             }
            },
            "type": "scatterpolargl"
           }
          ],
          "scatterternary": [
           {
            "marker": {
             "colorbar": {
              "outlinewidth": 0,
              "ticks": ""
             }
            },
            "type": "scatterternary"
           }
          ],
          "surface": [
           {
            "colorbar": {
             "outlinewidth": 0,
             "ticks": ""
            },
            "colorscale": [
             [
              0,
              "#0d0887"
             ],
             [
              0.1111111111111111,
              "#46039f"
             ],
             [
              0.2222222222222222,
              "#7201a8"
             ],
             [
              0.3333333333333333,
              "#9c179e"
             ],
             [
              0.4444444444444444,
              "#bd3786"
             ],
             [
              0.5555555555555556,
              "#d8576b"
             ],
             [
              0.6666666666666666,
              "#ed7953"
             ],
             [
              0.7777777777777778,
              "#fb9f3a"
             ],
             [
              0.8888888888888888,
              "#fdca26"
             ],
             [
              1,
              "#f0f921"
             ]
            ],
            "type": "surface"
           }
          ],
          "table": [
           {
            "cells": {
             "fill": {
              "color": "#EBF0F8"
             },
             "line": {
              "color": "white"
             }
            },
            "header": {
             "fill": {
              "color": "#C8D4E3"
             },
             "line": {
              "color": "white"
             }
            },
            "type": "table"
           }
          ]
         },
         "layout": {
          "annotationdefaults": {
           "arrowcolor": "#2a3f5f",
           "arrowhead": 0,
           "arrowwidth": 1
          },
          "colorscale": {
           "diverging": [
            [
             0,
             "#8e0152"
            ],
            [
             0.1,
             "#c51b7d"
            ],
            [
             0.2,
             "#de77ae"
            ],
            [
             0.3,
             "#f1b6da"
            ],
            [
             0.4,
             "#fde0ef"
            ],
            [
             0.5,
             "#f7f7f7"
            ],
            [
             0.6,
             "#e6f5d0"
            ],
            [
             0.7,
             "#b8e186"
            ],
            [
             0.8,
             "#7fbc41"
            ],
            [
             0.9,
             "#4d9221"
            ],
            [
             1,
             "#276419"
            ]
           ],
           "sequential": [
            [
             0,
             "#0d0887"
            ],
            [
             0.1111111111111111,
             "#46039f"
            ],
            [
             0.2222222222222222,
             "#7201a8"
            ],
            [
             0.3333333333333333,
             "#9c179e"
            ],
            [
             0.4444444444444444,
             "#bd3786"
            ],
            [
             0.5555555555555556,
             "#d8576b"
            ],
            [
             0.6666666666666666,
             "#ed7953"
            ],
            [
             0.7777777777777778,
             "#fb9f3a"
            ],
            [
             0.8888888888888888,
             "#fdca26"
            ],
            [
             1,
             "#f0f921"
            ]
           ],
           "sequentialminus": [
            [
             0,
             "#0d0887"
            ],
            [
             0.1111111111111111,
             "#46039f"
            ],
            [
             0.2222222222222222,
             "#7201a8"
            ],
            [
             0.3333333333333333,
             "#9c179e"
            ],
            [
             0.4444444444444444,
             "#bd3786"
            ],
            [
             0.5555555555555556,
             "#d8576b"
            ],
            [
             0.6666666666666666,
             "#ed7953"
            ],
            [
             0.7777777777777778,
             "#fb9f3a"
            ],
            [
             0.8888888888888888,
             "#fdca26"
            ],
            [
             1,
             "#f0f921"
            ]
           ]
          },
          "colorway": [
           "#636efa",
           "#EF553B",
           "#00cc96",
           "#ab63fa",
           "#FFA15A",
           "#19d3f3",
           "#FF6692",
           "#B6E880",
           "#FF97FF",
           "#FECB52"
          ],
          "font": {
           "color": "#2a3f5f"
          },
          "geo": {
           "bgcolor": "white",
           "lakecolor": "white",
           "landcolor": "#E5ECF6",
           "showlakes": true,
           "showland": true,
           "subunitcolor": "white"
          },
          "hoverlabel": {
           "align": "left"
          },
          "hovermode": "closest",
          "mapbox": {
           "style": "light"
          },
          "paper_bgcolor": "white",
          "plot_bgcolor": "#E5ECF6",
          "polar": {
           "angularaxis": {
            "gridcolor": "white",
            "linecolor": "white",
            "ticks": ""
           },
           "bgcolor": "#E5ECF6",
           "radialaxis": {
            "gridcolor": "white",
            "linecolor": "white",
            "ticks": ""
           }
          },
          "scene": {
           "xaxis": {
            "backgroundcolor": "#E5ECF6",
            "gridcolor": "white",
            "gridwidth": 2,
            "linecolor": "white",
            "showbackground": true,
            "ticks": "",
            "zerolinecolor": "white"
           },
           "yaxis": {
            "backgroundcolor": "#E5ECF6",
            "gridcolor": "white",
            "gridwidth": 2,
            "linecolor": "white",
            "showbackground": true,
            "ticks": "",
            "zerolinecolor": "white"
           },
           "zaxis": {
            "backgroundcolor": "#E5ECF6",
            "gridcolor": "white",
            "gridwidth": 2,
            "linecolor": "white",
            "showbackground": true,
            "ticks": "",
            "zerolinecolor": "white"
           }
          },
          "shapedefaults": {
           "line": {
            "color": "#2a3f5f"
           }
          },
          "ternary": {
           "aaxis": {
            "gridcolor": "white",
            "linecolor": "white",
            "ticks": ""
           },
           "baxis": {
            "gridcolor": "white",
            "linecolor": "white",
            "ticks": ""
           },
           "bgcolor": "#E5ECF6",
           "caxis": {
            "gridcolor": "white",
            "linecolor": "white",
            "ticks": ""
           }
          },
          "title": {
           "x": 0.05
          },
          "xaxis": {
           "automargin": true,
           "gridcolor": "white",
           "linecolor": "white",
           "ticks": "",
           "zerolinecolor": "white",
           "zerolinewidth": 2
          },
          "yaxis": {
           "automargin": true,
           "gridcolor": "white",
           "linecolor": "white",
           "ticks": "",
           "zerolinecolor": "white",
           "zerolinewidth": 2
          }
         }
        },
        "title": {
         "text": "Воронка событий"
        }
       }
      },
      "text/html": [
       "<div>\n",
       "        \n",
       "        \n",
       "            <div id=\"9f8a0a00-0863-4521-8f4b-ab3bdf193fcf\" class=\"plotly-graph-div\" style=\"height:525px; width:100%;\"></div>\n",
       "            <script type=\"text/javascript\">\n",
       "                require([\"plotly\"], function(Plotly) {\n",
       "                    window.PLOTLYENV=window.PLOTLYENV || {};\n",
       "                    \n",
       "                if (document.getElementById(\"9f8a0a00-0863-4521-8f4b-ab3bdf193fcf\")) {\n",
       "                    Plotly.newPlot(\n",
       "                        '9f8a0a00-0863-4521-8f4b-ab3bdf193fcf',\n",
       "                        [{\"hoverinfo\": \"percent initial+percent previous\", \"textinfo\": \"value+percent previous\", \"type\": \"funnel\", \"x\": [7419, 4593, 3734, 3539], \"y\": [\"main_screen_appear\", \"offers_screen_appear\", \"cart_screen_appear\", \"payment_screen_successful\"]}],\n",
       "                        {\"template\": {\"data\": {\"bar\": [{\"error_x\": {\"color\": \"#2a3f5f\"}, \"error_y\": {\"color\": \"#2a3f5f\"}, \"marker\": {\"line\": {\"color\": \"#E5ECF6\", \"width\": 0.5}}, \"type\": \"bar\"}], \"barpolar\": [{\"marker\": {\"line\": {\"color\": \"#E5ECF6\", \"width\": 0.5}}, \"type\": \"barpolar\"}], \"carpet\": [{\"aaxis\": {\"endlinecolor\": \"#2a3f5f\", \"gridcolor\": \"white\", \"linecolor\": \"white\", \"minorgridcolor\": \"white\", \"startlinecolor\": \"#2a3f5f\"}, \"baxis\": {\"endlinecolor\": \"#2a3f5f\", \"gridcolor\": \"white\", \"linecolor\": \"white\", \"minorgridcolor\": \"white\", \"startlinecolor\": \"#2a3f5f\"}, \"type\": \"carpet\"}], \"choropleth\": [{\"colorbar\": {\"outlinewidth\": 0, \"ticks\": \"\"}, \"type\": \"choropleth\"}], \"contour\": [{\"colorbar\": {\"outlinewidth\": 0, \"ticks\": \"\"}, \"colorscale\": [[0.0, \"#0d0887\"], [0.1111111111111111, \"#46039f\"], [0.2222222222222222, \"#7201a8\"], [0.3333333333333333, \"#9c179e\"], [0.4444444444444444, \"#bd3786\"], [0.5555555555555556, \"#d8576b\"], [0.6666666666666666, \"#ed7953\"], [0.7777777777777778, \"#fb9f3a\"], [0.8888888888888888, \"#fdca26\"], [1.0, \"#f0f921\"]], \"type\": \"contour\"}], \"contourcarpet\": [{\"colorbar\": {\"outlinewidth\": 0, \"ticks\": \"\"}, \"type\": \"contourcarpet\"}], \"heatmap\": [{\"colorbar\": {\"outlinewidth\": 0, \"ticks\": \"\"}, \"colorscale\": [[0.0, \"#0d0887\"], [0.1111111111111111, \"#46039f\"], [0.2222222222222222, \"#7201a8\"], [0.3333333333333333, \"#9c179e\"], [0.4444444444444444, \"#bd3786\"], [0.5555555555555556, \"#d8576b\"], [0.6666666666666666, \"#ed7953\"], [0.7777777777777778, \"#fb9f3a\"], [0.8888888888888888, \"#fdca26\"], [1.0, \"#f0f921\"]], \"type\": \"heatmap\"}], \"heatmapgl\": [{\"colorbar\": {\"outlinewidth\": 0, \"ticks\": \"\"}, \"colorscale\": [[0.0, \"#0d0887\"], [0.1111111111111111, \"#46039f\"], [0.2222222222222222, \"#7201a8\"], [0.3333333333333333, \"#9c179e\"], [0.4444444444444444, \"#bd3786\"], [0.5555555555555556, \"#d8576b\"], [0.6666666666666666, \"#ed7953\"], [0.7777777777777778, \"#fb9f3a\"], [0.8888888888888888, \"#fdca26\"], [1.0, \"#f0f921\"]], \"type\": \"heatmapgl\"}], \"histogram\": [{\"marker\": {\"colorbar\": {\"outlinewidth\": 0, \"ticks\": \"\"}}, \"type\": \"histogram\"}], \"histogram2d\": [{\"colorbar\": {\"outlinewidth\": 0, \"ticks\": \"\"}, \"colorscale\": [[0.0, \"#0d0887\"], [0.1111111111111111, \"#46039f\"], [0.2222222222222222, \"#7201a8\"], [0.3333333333333333, \"#9c179e\"], [0.4444444444444444, \"#bd3786\"], [0.5555555555555556, \"#d8576b\"], [0.6666666666666666, \"#ed7953\"], [0.7777777777777778, \"#fb9f3a\"], [0.8888888888888888, \"#fdca26\"], [1.0, \"#f0f921\"]], \"type\": \"histogram2d\"}], \"histogram2dcontour\": [{\"colorbar\": {\"outlinewidth\": 0, \"ticks\": \"\"}, \"colorscale\": [[0.0, \"#0d0887\"], [0.1111111111111111, \"#46039f\"], [0.2222222222222222, \"#7201a8\"], [0.3333333333333333, \"#9c179e\"], [0.4444444444444444, \"#bd3786\"], [0.5555555555555556, \"#d8576b\"], [0.6666666666666666, \"#ed7953\"], [0.7777777777777778, \"#fb9f3a\"], [0.8888888888888888, \"#fdca26\"], [1.0, \"#f0f921\"]], \"type\": \"histogram2dcontour\"}], \"mesh3d\": [{\"colorbar\": {\"outlinewidth\": 0, \"ticks\": \"\"}, \"type\": \"mesh3d\"}], \"parcoords\": [{\"line\": {\"colorbar\": {\"outlinewidth\": 0, \"ticks\": \"\"}}, \"type\": \"parcoords\"}], \"scatter\": [{\"marker\": {\"colorbar\": {\"outlinewidth\": 0, \"ticks\": \"\"}}, \"type\": \"scatter\"}], \"scatter3d\": [{\"line\": {\"colorbar\": {\"outlinewidth\": 0, \"ticks\": \"\"}}, \"marker\": {\"colorbar\": {\"outlinewidth\": 0, \"ticks\": \"\"}}, \"type\": \"scatter3d\"}], \"scattercarpet\": [{\"marker\": {\"colorbar\": {\"outlinewidth\": 0, \"ticks\": \"\"}}, \"type\": \"scattercarpet\"}], \"scattergeo\": [{\"marker\": {\"colorbar\": {\"outlinewidth\": 0, \"ticks\": \"\"}}, \"type\": \"scattergeo\"}], \"scattergl\": [{\"marker\": {\"colorbar\": {\"outlinewidth\": 0, \"ticks\": \"\"}}, \"type\": \"scattergl\"}], \"scattermapbox\": [{\"marker\": {\"colorbar\": {\"outlinewidth\": 0, \"ticks\": \"\"}}, \"type\": \"scattermapbox\"}], \"scatterpolar\": [{\"marker\": {\"colorbar\": {\"outlinewidth\": 0, \"ticks\": \"\"}}, \"type\": \"scatterpolar\"}], \"scatterpolargl\": [{\"marker\": {\"colorbar\": {\"outlinewidth\": 0, \"ticks\": \"\"}}, \"type\": \"scatterpolargl\"}], \"scatterternary\": [{\"marker\": {\"colorbar\": {\"outlinewidth\": 0, \"ticks\": \"\"}}, \"type\": \"scatterternary\"}], \"surface\": [{\"colorbar\": {\"outlinewidth\": 0, \"ticks\": \"\"}, \"colorscale\": [[0.0, \"#0d0887\"], [0.1111111111111111, \"#46039f\"], [0.2222222222222222, \"#7201a8\"], [0.3333333333333333, \"#9c179e\"], [0.4444444444444444, \"#bd3786\"], [0.5555555555555556, \"#d8576b\"], [0.6666666666666666, \"#ed7953\"], [0.7777777777777778, \"#fb9f3a\"], [0.8888888888888888, \"#fdca26\"], [1.0, \"#f0f921\"]], \"type\": \"surface\"}], \"table\": [{\"cells\": {\"fill\": {\"color\": \"#EBF0F8\"}, \"line\": {\"color\": \"white\"}}, \"header\": {\"fill\": {\"color\": \"#C8D4E3\"}, \"line\": {\"color\": \"white\"}}, \"type\": \"table\"}]}, \"layout\": {\"annotationdefaults\": {\"arrowcolor\": \"#2a3f5f\", \"arrowhead\": 0, \"arrowwidth\": 1}, \"colorscale\": {\"diverging\": [[0, \"#8e0152\"], [0.1, \"#c51b7d\"], [0.2, \"#de77ae\"], [0.3, \"#f1b6da\"], [0.4, \"#fde0ef\"], [0.5, \"#f7f7f7\"], [0.6, \"#e6f5d0\"], [0.7, \"#b8e186\"], [0.8, \"#7fbc41\"], [0.9, \"#4d9221\"], [1, \"#276419\"]], \"sequential\": [[0.0, \"#0d0887\"], [0.1111111111111111, \"#46039f\"], [0.2222222222222222, \"#7201a8\"], [0.3333333333333333, \"#9c179e\"], [0.4444444444444444, \"#bd3786\"], [0.5555555555555556, \"#d8576b\"], [0.6666666666666666, \"#ed7953\"], [0.7777777777777778, \"#fb9f3a\"], [0.8888888888888888, \"#fdca26\"], [1.0, \"#f0f921\"]], \"sequentialminus\": [[0.0, \"#0d0887\"], [0.1111111111111111, \"#46039f\"], [0.2222222222222222, \"#7201a8\"], [0.3333333333333333, \"#9c179e\"], [0.4444444444444444, \"#bd3786\"], [0.5555555555555556, \"#d8576b\"], [0.6666666666666666, \"#ed7953\"], [0.7777777777777778, \"#fb9f3a\"], [0.8888888888888888, \"#fdca26\"], [1.0, \"#f0f921\"]]}, \"colorway\": [\"#636efa\", \"#EF553B\", \"#00cc96\", \"#ab63fa\", \"#FFA15A\", \"#19d3f3\", \"#FF6692\", \"#B6E880\", \"#FF97FF\", \"#FECB52\"], \"font\": {\"color\": \"#2a3f5f\"}, \"geo\": {\"bgcolor\": \"white\", \"lakecolor\": \"white\", \"landcolor\": \"#E5ECF6\", \"showlakes\": true, \"showland\": true, \"subunitcolor\": \"white\"}, \"hoverlabel\": {\"align\": \"left\"}, \"hovermode\": \"closest\", \"mapbox\": {\"style\": \"light\"}, \"paper_bgcolor\": \"white\", \"plot_bgcolor\": \"#E5ECF6\", \"polar\": {\"angularaxis\": {\"gridcolor\": \"white\", \"linecolor\": \"white\", \"ticks\": \"\"}, \"bgcolor\": \"#E5ECF6\", \"radialaxis\": {\"gridcolor\": \"white\", \"linecolor\": \"white\", \"ticks\": \"\"}}, \"scene\": {\"xaxis\": {\"backgroundcolor\": \"#E5ECF6\", \"gridcolor\": \"white\", \"gridwidth\": 2, \"linecolor\": \"white\", \"showbackground\": true, \"ticks\": \"\", \"zerolinecolor\": \"white\"}, \"yaxis\": {\"backgroundcolor\": \"#E5ECF6\", \"gridcolor\": \"white\", \"gridwidth\": 2, \"linecolor\": \"white\", \"showbackground\": true, \"ticks\": \"\", \"zerolinecolor\": \"white\"}, \"zaxis\": {\"backgroundcolor\": \"#E5ECF6\", \"gridcolor\": \"white\", \"gridwidth\": 2, \"linecolor\": \"white\", \"showbackground\": true, \"ticks\": \"\", \"zerolinecolor\": \"white\"}}, \"shapedefaults\": {\"line\": {\"color\": \"#2a3f5f\"}}, \"ternary\": {\"aaxis\": {\"gridcolor\": \"white\", \"linecolor\": \"white\", \"ticks\": \"\"}, \"baxis\": {\"gridcolor\": \"white\", \"linecolor\": \"white\", \"ticks\": \"\"}, \"bgcolor\": \"#E5ECF6\", \"caxis\": {\"gridcolor\": \"white\", \"linecolor\": \"white\", \"ticks\": \"\"}}, \"title\": {\"x\": 0.05}, \"xaxis\": {\"automargin\": true, \"gridcolor\": \"white\", \"linecolor\": \"white\", \"ticks\": \"\", \"zerolinecolor\": \"white\", \"zerolinewidth\": 2}, \"yaxis\": {\"automargin\": true, \"gridcolor\": \"white\", \"linecolor\": \"white\", \"ticks\": \"\", \"zerolinecolor\": \"white\", \"zerolinewidth\": 2}}}, \"title\": {\"text\": \"\\u0412\\u043e\\u0440\\u043e\\u043d\\u043a\\u0430 \\u0441\\u043e\\u0431\\u044b\\u0442\\u0438\\u0439\"}},\n",
       "                        {\"responsive\": true}\n",
       "                    ).then(function(){\n",
       "                            \n",
       "var gd = document.getElementById('9f8a0a00-0863-4521-8f4b-ab3bdf193fcf');\n",
       "var x = new MutationObserver(function (mutations, observer) {{\n",
       "        var display = window.getComputedStyle(gd).display;\n",
       "        if (!display || display === 'none') {{\n",
       "            console.log([gd, 'removed!']);\n",
       "            Plotly.purge(gd);\n",
       "            observer.disconnect();\n",
       "        }}\n",
       "}});\n",
       "\n",
       "// Listen for the removal of the full notebook cells\n",
       "var notebookContainer = gd.closest('#notebook-container');\n",
       "if (notebookContainer) {{\n",
       "    x.observe(notebookContainer, {childList: true});\n",
       "}}\n",
       "\n",
       "// Listen for the clearing of the current output cell\n",
       "var outputEl = gd.closest('.output');\n",
       "if (outputEl) {{\n",
       "    x.observe(outputEl, {childList: true});\n",
       "}}\n",
       "\n",
       "                        })\n",
       "                };\n",
       "                });\n",
       "            </script>\n",
       "        </div>"
      ]
     },
     "metadata": {},
     "output_type": "display_data"
    }
   ],
   "source": [
    "#!c1.8\n",
    "fig = go.Figure(go.Funnel(y=event_by_users['event_name'], x=event_by_users['unique_users'], textinfo = \"value+percent previous\", hoverinfo = \"percent initial+percent previous\"))\n",
    "fig.update_layout(title='Воронка событий')\n",
    "fig.show()"
   ]
  },
  {
   "cell_type": "markdown",
   "metadata": {
    "cellId": "zk05vemtzv2dgrc6v2lcz"
   },
   "source": [
    "<div class=\"alert alert-block alert-warning\">\n",
    "    \n",
    "__Комментарий от ревьюера №1 (нужно переделать)__\n",
    "\n",
    "Данному графику нужен заголовок + у тебя неверная информация выводится при наведении на этап воронки в графе ...% of total. У нас физически в воронке на каждом этапе пользователи повторяются, а это метрика считается автоматически без учеты физического смысла в данных. Вот тут разбираются варианты, как это можно поправить — https://github.com/plotly/plotly.py/issues/1644  С помощью параметра hoverinfo можешь сделать вывод только двух параметров + можешь добавить параметр textinfo, который может отобразить информацию на графике.\n",
    "\n",
    "</div>"
   ]
  },
  {
   "cell_type": "markdown",
   "metadata": {
    "cellId": "cpy9snvdme4dm3t8jq2spj"
   },
   "source": [
    "<div class=\"alert alert-info\" style=\"border-radius: 15px; box-shadow: 4px 4px 4px; border: 1px solid \">\n",
    "Исправила. Есть способ расположить заголовок по центру?\n",
    "</div>"
   ]
  },
  {
   "cell_type": "markdown",
   "metadata": {},
   "source": [
    "<div class=\"alert alert-block alert-warning\">\n",
    "    \n",
    "__Комментарий от ревьюера №2__\n",
    "\n",
    "Да, вот тут есть варианты с заголовком по центру — https://plotly.com/python/funnel-charts/ Но в немного другом исполнении заголовка.\n",
    "\n",
    "</div>"
   ]
  },
  {
   "cell_type": "markdown",
   "metadata": {
    "cellId": "aipscxu6fvpsa2dhyd8s9q"
   },
   "source": [
    "Больше всего пользователей (38%) теряется при переходе от главного экрана к экрану оплаты. От первого события (main_screen_appear) до успешной оплаты (payment_screen_successful) доходит 48% пользователей."
   ]
  },
  {
   "cell_type": "markdown",
   "metadata": {
    "cellId": "bfw9l39keb1kofxun7ll1"
   },
   "source": [
    "<a id=\"conclusion3\"></a> \n",
    "### Вывод\n",
    "<p>В данных есть события:</p>\n",
    "\n",
    "- tutorial (руководство)\n",
    "- main_screen_appear (появление главного экрана)\n",
    "- offers_screen_appear (появление экрана оплаты)\n",
    "- cart_screen_appear (появление экрана ввода карты)\n",
    "- payment_screen_successful (появление экрана успешной оплаты)\n",
    "\n",
    "<p>Реже всего встречается событие tutorial, чаще всего - main_screen_appear. Различия в частотах остальных событий небольшие.</p>\n",
    "<p>Последовательность событий: main_screen_appear -> offers_screen_appear -> cart_screen_appear -> payment_screen_successful.</p>\n",
    "<p>Событие tutorial совершали 11% пользователей, его не нужно учитывать в воронке.</p>\n",
    "<p>Больше всего пользователей (38%) теряется при переходе от главного экрана к экрану оплаты. От первого события (main_screen_appear) до успешной оплаты (payment_screen_successful) доходит 48% пользователей.</p>"
   ]
  },
  {
   "cell_type": "markdown",
   "metadata": {
    "cellId": "d64l6mua2tvrjtp18a1b"
   },
   "source": [
    "<div class=\"alert alert-block alert-success\">\n",
    "    \n",
    "\n",
    "__Комментарий от ревьюера №1  (OK)__\n",
    "\n",
    "Этот раздел сделан хорошо.\n",
    "</div>"
   ]
  },
  {
   "cell_type": "markdown",
   "metadata": {
    "cellId": "nxz888kulzuoh7vpf81s"
   },
   "source": [
    "<a id=\"results\"></a> \n",
    "## Изучение результатов эксперимента"
   ]
  },
  {
   "cell_type": "code",
   "execution_count": 30,
   "metadata": {
    "cellId": "x61klzwgedu1k3xl8y4lm"
   },
   "outputs": [
    {
     "name": "stdout",
     "output_type": "stream",
     "text": [
      "Количество пользователей в разных группах\n"
     ]
    },
    {
     "data": {
      "text/plain": [
       "group_id\n",
       "246    2484\n",
       "247    2513\n",
       "248    2537\n",
       "Name: user_id, dtype: int64"
      ]
     },
     "execution_count": 30,
     "metadata": {},
     "output_type": "execute_result"
    }
   ],
   "source": [
    "#!c1.8\n",
    "print('Количество пользователей в разных группах')\n",
    "data.groupby('group_id')['user_id'].nunique()"
   ]
  },
  {
   "cell_type": "code",
   "execution_count": 31,
   "metadata": {
    "cellId": "glsf8y07bfstrg48tywj4k"
   },
   "outputs": [],
   "source": [
    "#!c1.8\n",
    "def funnel(data, group):\n",
    "    funnel = data.query('group_id == @group').groupby('event_name').agg({'user_id': 'nunique'}).rename(columns={'user_id': 'users'}).sort_values(by='users', ascending=False).reset_index().drop(4)\n",
    "    funnel['final_conversion'] = funnel['users'] / funnel.loc[0, 'users']\n",
    "    for i in range(1, 4):\n",
    "        funnel.loc[i, 'previous_step_conversion'] = funnel.loc[i, 'users'] / funnel.loc[i-1, 'users']\n",
    "    funnel.loc[0, 'previous_step_conversion'] = 1\n",
    "    return funnel"
   ]
  },
  {
   "cell_type": "code",
   "execution_count": 32,
   "metadata": {
    "cellId": "5w7zm5txug8cuhpa6zej36"
   },
   "outputs": [
    {
     "data": {
      "text/plain": [
       "'group:'"
      ]
     },
     "metadata": {},
     "output_type": "display_data"
    },
    {
     "data": {
      "text/plain": [
       "246"
      ]
     },
     "metadata": {},
     "output_type": "display_data"
    },
    {
     "data": {
      "text/html": [
       "<div>\n",
       "<style scoped>\n",
       "    .dataframe tbody tr th:only-of-type {\n",
       "        vertical-align: middle;\n",
       "    }\n",
       "\n",
       "    .dataframe tbody tr th {\n",
       "        vertical-align: top;\n",
       "    }\n",
       "\n",
       "    .dataframe thead th {\n",
       "        text-align: right;\n",
       "    }\n",
       "</style>\n",
       "<table border=\"1\" class=\"dataframe\">\n",
       "  <thead>\n",
       "    <tr style=\"text-align: right;\">\n",
       "      <th></th>\n",
       "      <th>event_name</th>\n",
       "      <th>users</th>\n",
       "      <th>final_conversion</th>\n",
       "      <th>previous_step_conversion</th>\n",
       "    </tr>\n",
       "  </thead>\n",
       "  <tbody>\n",
       "    <tr>\n",
       "      <td>0</td>\n",
       "      <td>main_screen_appear</td>\n",
       "      <td>2450</td>\n",
       "      <td>1.000000</td>\n",
       "      <td>1.000000</td>\n",
       "    </tr>\n",
       "    <tr>\n",
       "      <td>1</td>\n",
       "      <td>offers_screen_appear</td>\n",
       "      <td>1542</td>\n",
       "      <td>0.629388</td>\n",
       "      <td>0.629388</td>\n",
       "    </tr>\n",
       "    <tr>\n",
       "      <td>2</td>\n",
       "      <td>cart_screen_appear</td>\n",
       "      <td>1266</td>\n",
       "      <td>0.516735</td>\n",
       "      <td>0.821012</td>\n",
       "    </tr>\n",
       "    <tr>\n",
       "      <td>3</td>\n",
       "      <td>payment_screen_successful</td>\n",
       "      <td>1200</td>\n",
       "      <td>0.489796</td>\n",
       "      <td>0.947867</td>\n",
       "    </tr>\n",
       "  </tbody>\n",
       "</table>\n",
       "</div>"
      ],
      "text/plain": [
       "                  event_name  users  final_conversion  \\\n",
       "0         main_screen_appear   2450          1.000000   \n",
       "1       offers_screen_appear   1542          0.629388   \n",
       "2         cart_screen_appear   1266          0.516735   \n",
       "3  payment_screen_successful   1200          0.489796   \n",
       "\n",
       "   previous_step_conversion  \n",
       "0                  1.000000  \n",
       "1                  0.629388  \n",
       "2                  0.821012  \n",
       "3                  0.947867  "
      ]
     },
     "metadata": {},
     "output_type": "display_data"
    },
    {
     "data": {
      "text/plain": [
       "'group:'"
      ]
     },
     "metadata": {},
     "output_type": "display_data"
    },
    {
     "data": {
      "text/plain": [
       "247"
      ]
     },
     "metadata": {},
     "output_type": "display_data"
    },
    {
     "data": {
      "text/html": [
       "<div>\n",
       "<style scoped>\n",
       "    .dataframe tbody tr th:only-of-type {\n",
       "        vertical-align: middle;\n",
       "    }\n",
       "\n",
       "    .dataframe tbody tr th {\n",
       "        vertical-align: top;\n",
       "    }\n",
       "\n",
       "    .dataframe thead th {\n",
       "        text-align: right;\n",
       "    }\n",
       "</style>\n",
       "<table border=\"1\" class=\"dataframe\">\n",
       "  <thead>\n",
       "    <tr style=\"text-align: right;\">\n",
       "      <th></th>\n",
       "      <th>event_name</th>\n",
       "      <th>users</th>\n",
       "      <th>final_conversion</th>\n",
       "      <th>previous_step_conversion</th>\n",
       "    </tr>\n",
       "  </thead>\n",
       "  <tbody>\n",
       "    <tr>\n",
       "      <td>0</td>\n",
       "      <td>main_screen_appear</td>\n",
       "      <td>2476</td>\n",
       "      <td>1.000000</td>\n",
       "      <td>1.000000</td>\n",
       "    </tr>\n",
       "    <tr>\n",
       "      <td>1</td>\n",
       "      <td>offers_screen_appear</td>\n",
       "      <td>1520</td>\n",
       "      <td>0.613893</td>\n",
       "      <td>0.613893</td>\n",
       "    </tr>\n",
       "    <tr>\n",
       "      <td>2</td>\n",
       "      <td>cart_screen_appear</td>\n",
       "      <td>1238</td>\n",
       "      <td>0.500000</td>\n",
       "      <td>0.814474</td>\n",
       "    </tr>\n",
       "    <tr>\n",
       "      <td>3</td>\n",
       "      <td>payment_screen_successful</td>\n",
       "      <td>1158</td>\n",
       "      <td>0.467690</td>\n",
       "      <td>0.935380</td>\n",
       "    </tr>\n",
       "  </tbody>\n",
       "</table>\n",
       "</div>"
      ],
      "text/plain": [
       "                  event_name  users  final_conversion  \\\n",
       "0         main_screen_appear   2476          1.000000   \n",
       "1       offers_screen_appear   1520          0.613893   \n",
       "2         cart_screen_appear   1238          0.500000   \n",
       "3  payment_screen_successful   1158          0.467690   \n",
       "\n",
       "   previous_step_conversion  \n",
       "0                  1.000000  \n",
       "1                  0.613893  \n",
       "2                  0.814474  \n",
       "3                  0.935380  "
      ]
     },
     "metadata": {},
     "output_type": "display_data"
    },
    {
     "data": {
      "text/plain": [
       "'group:'"
      ]
     },
     "metadata": {},
     "output_type": "display_data"
    },
    {
     "data": {
      "text/plain": [
       "248"
      ]
     },
     "metadata": {},
     "output_type": "display_data"
    },
    {
     "data": {
      "text/html": [
       "<div>\n",
       "<style scoped>\n",
       "    .dataframe tbody tr th:only-of-type {\n",
       "        vertical-align: middle;\n",
       "    }\n",
       "\n",
       "    .dataframe tbody tr th {\n",
       "        vertical-align: top;\n",
       "    }\n",
       "\n",
       "    .dataframe thead th {\n",
       "        text-align: right;\n",
       "    }\n",
       "</style>\n",
       "<table border=\"1\" class=\"dataframe\">\n",
       "  <thead>\n",
       "    <tr style=\"text-align: right;\">\n",
       "      <th></th>\n",
       "      <th>event_name</th>\n",
       "      <th>users</th>\n",
       "      <th>final_conversion</th>\n",
       "      <th>previous_step_conversion</th>\n",
       "    </tr>\n",
       "  </thead>\n",
       "  <tbody>\n",
       "    <tr>\n",
       "      <td>0</td>\n",
       "      <td>main_screen_appear</td>\n",
       "      <td>2493</td>\n",
       "      <td>1.000000</td>\n",
       "      <td>1.000000</td>\n",
       "    </tr>\n",
       "    <tr>\n",
       "      <td>1</td>\n",
       "      <td>offers_screen_appear</td>\n",
       "      <td>1531</td>\n",
       "      <td>0.614120</td>\n",
       "      <td>0.614120</td>\n",
       "    </tr>\n",
       "    <tr>\n",
       "      <td>2</td>\n",
       "      <td>cart_screen_appear</td>\n",
       "      <td>1230</td>\n",
       "      <td>0.493381</td>\n",
       "      <td>0.803396</td>\n",
       "    </tr>\n",
       "    <tr>\n",
       "      <td>3</td>\n",
       "      <td>payment_screen_successful</td>\n",
       "      <td>1181</td>\n",
       "      <td>0.473726</td>\n",
       "      <td>0.960163</td>\n",
       "    </tr>\n",
       "  </tbody>\n",
       "</table>\n",
       "</div>"
      ],
      "text/plain": [
       "                  event_name  users  final_conversion  \\\n",
       "0         main_screen_appear   2493          1.000000   \n",
       "1       offers_screen_appear   1531          0.614120   \n",
       "2         cart_screen_appear   1230          0.493381   \n",
       "3  payment_screen_successful   1181          0.473726   \n",
       "\n",
       "   previous_step_conversion  \n",
       "0                  1.000000  \n",
       "1                  0.614120  \n",
       "2                  0.803396  \n",
       "3                  0.960163  "
      ]
     },
     "metadata": {},
     "output_type": "display_data"
    }
   ],
   "source": [
    "#!c1.8\n",
    "for i in data['group_id'].unique():\n",
    "    display('group:', i) \n",
    "    display(funnel(data, i))"
   ]
  },
  {
   "cell_type": "code",
   "execution_count": 33,
   "metadata": {
    "cellId": "v43nyk6w435cxmzsxjxtm"
   },
   "outputs": [
    {
     "name": "stdout",
     "output_type": "stream",
     "text": [
      "tutorial\n",
      "main_screen_appear\n",
      "offers_screen_appear\n",
      "cart_screen_appear\n",
      "payment_screen_successful\n"
     ]
    }
   ],
   "source": [
    "#!c1.8\n",
    "for i in data['event_name'].unique():\n",
    "    print(i)"
   ]
  },
  {
   "cell_type": "markdown",
   "metadata": {
    "cellId": "c3r3xom9eyhtdi2n2t4ul"
   },
   "source": [
    "<div class=\"alert alert-block alert-warning\">\n",
    "    \n",
    "__Комментарий от ревьюера №1 (нужно переделать)__\n",
    "\n",
    "Нужно сформулировать гипотезы перед тестом, иначе что мы проверяем? Примерно так:  \n",
    "1. Нулевая гипотеза: ...  \n",
    "2. Обратная гипотеза: ...  \n",
    "    \n",
    "Так сторонний наблюдатель поймет что ты проверяешь.  \n",
    "  \n",
    "А вот в [этой статье](https://ru.qwe.wiki/wiki/Null_hypothesis) можно почитать в целом о формулировании гипотез и как всё это дело началось)\n",
    "</div>"
   ]
  },
  {
   "cell_type": "markdown",
   "metadata": {
    "cellId": "nxwokbume9a9xnk14a25s"
   },
   "source": [
    "<div class=\"alert alert-info\" style=\"border-radius: 15px; box-shadow: 4px 4px 4px; border: 1px solid \">\n",
    "<p>Проверяем гипотезы о равенстве долей в группах. Сравниваем контрольные группы друг с другом, потом с экспериментальной.</p>\n",
    "<p>Нулевая гипотеза - между долями нет значимой разницы, обратная гипотеза - между долями есть значимая разница.</p>\n",
    "</div>"
   ]
  },
  {
   "cell_type": "markdown",
   "metadata": {},
   "source": [
    "<div class=\"alert alert-block alert-success\">\n",
    "    \n",
    "\n",
    "__Комментарий от ревьюера №2  (OK)__\n",
    "\n",
    "👍\n",
    "</div>"
   ]
  },
  {
   "cell_type": "code",
   "execution_count": 34,
   "metadata": {
    "cellId": "8ylepjb5m2mh0qf8njl5"
   },
   "outputs": [],
   "source": [
    "#!c1.8\n",
    "def group_comparison(data, gr1, gr2):\n",
    "    print('Сравнение групп', gr1, 'и', gr2)\n",
    "    for i in data['event_name'].unique():\n",
    "        successes_1 = data.query('group_id == @gr1 & event_name == @i')['user_id'].nunique()\n",
    "        trials_1 = data.query('group_id == @gr1')['user_id'].nunique()\n",
    "        successes_2 = data.query('group_id == @gr2 & event_name == @i')['user_id'].nunique()\n",
    "        trials_2 = data.query('group_id == @gr2')['user_id'].nunique()\n",
    "        p1 = successes_1 / trials_1\n",
    "        p2 = successes_2 / trials_2\n",
    "        p_combined = (successes_1 + successes_2) / (trials_1 + trials_2)\n",
    "        difference = p1 - p2\n",
    "        z_value = difference / mth.sqrt(p_combined * (1 - p_combined) * (1/trials_1 + 1/trials_2))\n",
    "        distr = st.norm(0, 1)\n",
    "        p_value = (1 - distr.cdf(abs(z_value))) * 2\n",
    "        alpha = 0.05\n",
    "        print('событие:', i)\n",
    "        print('p-значение: ', p_value)\n",
    "        if p_value < alpha:\n",
    "            print('Отвергаем нулевую гипотезу: между долями есть значимая разница')\n",
    "        else:\n",
    "            print('Не получилось отвергнуть нулевую гипотезу, нет оснований считать доли разными') "
   ]
  },
  {
   "cell_type": "markdown",
   "metadata": {
    "cellId": "0mtrzwsqzwknhzdqqyrqb26"
   },
   "source": [
    "<div class=\"alert alert-block alert-warning\">\n",
    "    \n",
    "__Комментарий от ревьюера №1 (нужно переделать)__\n",
    "    \n",
    "Перепроверь функцию расчета, тут есть ошибка.\n",
    "\n",
    "</div>"
   ]
  },
  {
   "cell_type": "code",
   "execution_count": 35,
   "metadata": {
    "cellId": "bgs2i8ywntjr0h1ti5lk"
   },
   "outputs": [
    {
     "name": "stdout",
     "output_type": "stream",
     "text": [
      "Сравнение групп 246 и 247\n",
      "событие: tutorial\n",
      "p-значение:  0.9376996189257114\n",
      "Не получилось отвергнуть нулевую гипотезу, нет оснований считать доли разными\n",
      "событие: main_screen_appear\n",
      "p-значение:  0.7570597232046099\n",
      "Не получилось отвергнуть нулевую гипотезу, нет оснований считать доли разными\n",
      "событие: offers_screen_appear\n",
      "p-значение:  0.2480954578522181\n",
      "Не получилось отвергнуть нулевую гипотезу, нет оснований считать доли разными\n",
      "событие: cart_screen_appear\n",
      "p-значение:  0.22883372237997213\n",
      "Не получилось отвергнуть нулевую гипотезу, нет оснований считать доли разными\n",
      "событие: payment_screen_successful\n",
      "p-значение:  0.11456679313141849\n",
      "Не получилось отвергнуть нулевую гипотезу, нет оснований считать доли разными\n"
     ]
    }
   ],
   "source": [
    "#!c1.8\n",
    "group_comparison(data, 246, 247)"
   ]
  },
  {
   "cell_type": "markdown",
   "metadata": {
    "cellId": "qjun6wtggptbg7n2w35no"
   },
   "source": [
    "Между контрольными группами статистически значимых различий нет."
   ]
  },
  {
   "cell_type": "code",
   "execution_count": 36,
   "metadata": {
    "cellId": "qebqevgrrb9oxnm470hw9n"
   },
   "outputs": [
    {
     "name": "stdout",
     "output_type": "stream",
     "text": [
      "Сравнение групп 246 и 248\n",
      "событие: tutorial\n",
      "p-значение:  0.8264294010087645\n",
      "Не получилось отвергнуть нулевую гипотезу, нет оснований считать доли разными\n",
      "событие: main_screen_appear\n",
      "p-значение:  0.2949721933554552\n",
      "Не получилось отвергнуть нулевую гипотезу, нет оснований считать доли разными\n",
      "событие: offers_screen_appear\n",
      "p-значение:  0.20836205402738917\n",
      "Не получилось отвергнуть нулевую гипотезу, нет оснований считать доли разными\n",
      "событие: cart_screen_appear\n",
      "p-значение:  0.07842923237520116\n",
      "Не получилось отвергнуть нулевую гипотезу, нет оснований считать доли разными\n",
      "событие: payment_screen_successful\n",
      "p-значение:  0.2122553275697796\n",
      "Не получилось отвергнуть нулевую гипотезу, нет оснований считать доли разными\n"
     ]
    }
   ],
   "source": [
    "#!c1.8\n",
    "group_comparison(data, 246, 248)"
   ]
  },
  {
   "cell_type": "code",
   "execution_count": 37,
   "metadata": {
    "cellId": "rx9z8nf20s7ttg6fxwfyp"
   },
   "outputs": [
    {
     "name": "stdout",
     "output_type": "stream",
     "text": [
      "Сравнение групп 248 и 247\n",
      "событие: tutorial\n",
      "p-значение:  0.765323922474501\n",
      "Не получилось отвергнуть нулевую гипотезу, нет оснований считать доли разными\n",
      "событие: main_screen_appear\n",
      "p-значение:  0.4587053616621515\n",
      "Не получилось отвергнуть нулевую гипотезу, нет оснований считать доли разными\n",
      "событие: offers_screen_appear\n",
      "p-значение:  0.9197817830592261\n",
      "Не получилось отвергнуть нулевую гипотезу, нет оснований считать доли разными\n",
      "событие: cart_screen_appear\n",
      "p-значение:  0.5786197879539783\n",
      "Не получилось отвергнуть нулевую гипотезу, нет оснований считать доли разными\n",
      "событие: payment_screen_successful\n",
      "p-значение:  0.7373415053803964\n",
      "Не получилось отвергнуть нулевую гипотезу, нет оснований считать доли разными\n"
     ]
    }
   ],
   "source": [
    "#!c1.8\n",
    "group_comparison(data, 248, 247)"
   ]
  },
  {
   "cell_type": "code",
   "execution_count": 38,
   "metadata": {
    "cellId": "qjpwm9rx6ke79ziapjise7"
   },
   "outputs": [
    {
     "name": "stdout",
     "output_type": "stream",
     "text": [
      "Сравнение групп 246 и 248\n",
      "событие: tutorial\n",
      "p-значение:  0.764862472531507\n",
      "Не получилось отвергнуть нулевую гипотезу, нет оснований считать доли разными\n",
      "событие: main_screen_appear\n",
      "p-значение:  0.29424526837179577\n",
      "Не получилось отвергнуть нулевую гипотезу, нет оснований считать доли разными\n",
      "событие: offers_screen_appear\n",
      "p-значение:  0.43425549655188256\n",
      "Не получилось отвергнуть нулевую гипотезу, нет оснований считать доли разными\n",
      "событие: cart_screen_appear\n",
      "p-значение:  0.18175875284404386\n",
      "Не получилось отвергнуть нулевую гипотезу, нет оснований считать доли разными\n",
      "событие: payment_screen_successful\n",
      "p-значение:  0.6004294282308704\n",
      "Не получилось отвергнуть нулевую гипотезу, нет оснований считать доли разными\n"
     ]
    }
   ],
   "source": [
    "#!c1.8\n",
    "unit_control_group = data.copy(deep=True)\n",
    "unit_control_group.loc[unit_control_group['group_id'] == 247, ['group_id']] = 246\n",
    "group_comparison(unit_control_group, 246, 248)"
   ]
  },
  {
   "cell_type": "markdown",
   "metadata": {
    "cellId": "raej4af7pij4l141vp5pyg"
   },
   "source": [
    "<a id=\"conclusion4\"></a>\n",
    "### Вывод \n",
    "\n",
    "<p>При уровне статистической значимоси в 5% между контрольными группами статистически значимых различий нет.</p>\n",
    "<p>При сравнении (уровень статистической значимости - 5%) экспериментальной группы с каждой из контрольных групп и с объединённой контрольной группой статистически значимые различия выявить не удалось.</p>"
   ]
  },
  {
   "cell_type": "markdown",
   "metadata": {
    "cellId": "8obozma6ot2zw439m8xnuk"
   },
   "source": [
    "<div class=\"alert alert-block alert-warning\">\n",
    "    \n",
    "__Комментарий от ревьюера №1 (нужно переделать)__\n",
    "    \n",
    "Тут еще нужно ответить на вопрос — Посчитайте, сколько проверок статистических гипотез вы сделали.\n",
    "\n",
    "</div>"
   ]
  },
  {
   "cell_type": "markdown",
   "metadata": {
    "cellId": "7118cx8efy2u0krgkgkvxi"
   },
   "source": [
    "<div class=\"alert alert-info\" style=\"border-radius: 15px; box-shadow: 4px 4px 4px; border: 1px solid \">\n",
    "20 проверок. 5 событий, четыре пары групп.\n",
    "</div>"
   ]
  },
  {
   "cell_type": "markdown",
   "metadata": {},
   "source": [
    "<div class=\"alert alert-block alert-success\">\n",
    "    \n",
    "\n",
    "__Комментарий от ревьюера №2  (OK)__\n",
    "\n",
    "А/Б-тест сделан хорошо. Так как у нас в рамках теста прошло много проверок, то есть вероятность получить ошибку первого рода в одном из тестов. Кратко об ошибках можно почитать в [Википедии](https://ru.wikipedia.org/wiki/%D0%9E%D1%88%D0%B8%D0%B1%D0%BA%D0%B8_%D0%BF%D0%B5%D1%80%D0%B2%D0%BE%D0%B3%D0%BE_%D0%B8_%D0%B2%D1%82%D0%BE%D1%80%D0%BE%D0%B3%D0%BE_%D1%80%D0%BE%D0%B4%D0%B0) \n",
    "Также можно посмотреть [короткие видео](https://stepik.org/lesson/8085/step/1?unit=1364) об ошибках.\n",
    "\n",
    "Как это можно решить? Использовать [разные вариации поправок](https://ru.wikipedia.org/wiki/%D0%9F%D0%BE%D0%BF%D1%80%D0%B0%D0%B2%D0%BA%D0%B0_%D0%BD%D0%B0_%D0%BC%D0%BD%D0%BE%D0%B6%D0%B5%D1%81%D1%82%D0%B2%D0%B5%D0%BD%D0%BD%D1%83%D1%8E_%D0%BF%D1%80%D0%BE%D0%B2%D0%B5%D1%80%D0%BA%D1%83_%D0%B3%D0%B8%D0%BF%D0%BE%D1%82%D0%B5%D0%B7) на количество тестов.\n",
    "</div>"
   ]
  },
  {
   "cell_type": "markdown",
   "metadata": {
    "cellId": "daofog07a1aaasw64tz3e"
   },
   "source": [
    "<a id=\"conclusions\"></a> \n",
    "## Общий вывод\n",
    "<div class=\"alert alert-info\" style=\"border-radius: 15px; box-shadow: 4px 4px 4px; border: 1px solid \">\n",
    "<p><b>Предобработка данных</b></p>\n",
    "<p>Пропусков в данных нет. Удалено 413 дубликатов. Тип данных в столбце 'event_timestamp' изменён на datetime, добавлены столбы с датой и временем ('event_datetime') и с датой ('event_date'). Удалены данные за июль: 17 пользователей, 2826 событий</p>\n",
    "</div>\n",
    "<p><b>Обзор данных</b></p>\n",
    "<p>В логе четыре вида событий, общее количество событий - 240 887. Уникальных пользователей - 7 354. На одного пользователя приходится в среднем 33 события.</p>\n",
    "<p>Располагаем данными за 6 дней.</p>\n",
    "<p><b>Обзор воронки событий</b></p>\n",
    "<p>Последовательность событий в воронке: main_screen_appear -> offers_screen_appear -> cart_screen_appear -> payment_screen_successful. Событие tutorial не учитываем.</p>\n",
    "<p>Больше всего пользователей (38%) теряется при переходе от главного экрана к экрану оплаты. От первого события (main_screen_appear) до успешной оплаты (payment_screen_successful) доходит 48% пользователей.</p>\n",
    "<p><b>Анализ результатов эксперимента</b></p>\n",
    "<p>При сравнении экспериментальной группы с каждой из контрольных групп и с объединённой контрольной группой статистически значимые различия выявить не удалось (уровень статистической значимости - 5%). Ввиду отстутсвия различий между группами, нельзя сказать, какой шрифт лучше.</p>"
   ]
  },
  {
   "cell_type": "markdown",
   "metadata": {
    "cellId": "g6wdkuucv7dj4avipyzf0o"
   },
   "source": [
    "<div class=\"alert alert-block alert-warning\">\n",
    "\n",
    "__Комментарий от ревьюера по общему выводу №1 (можно лучше)__\n",
    "\n",
    "Что точно нужно поправить:  \n",
    "— подробнее расписать этап предобработки, были ли дубликаты и сколько из было, сколько удалено юзеров за июль, какие данные были преобразованы в другой тип; \n",
    "\n",
    "Что сделано хорошо:  \n",
    "— представлены основные выводы со всех этапов анализа;  \n",
    "— расписаны результаты А/Б-теста.  \n",
    "— хорошее форматирование в выводе, его легко воспринимать.  \n",
    "</div>"
   ]
  },
  {
   "cell_type": "markdown",
   "metadata": {},
   "source": [
    "<div class=\"alert alert-block alert-success\">\n",
    "    \n",
    "\n",
    "__Комментарий от ревьюера №2  (OK)__\n",
    "\n",
    "👍\n",
    "</div>"
   ]
  },
  {
   "cell_type": "code",
   "execution_count": null,
   "metadata": {
    "cellId": "qe57456cl30qogfxllefu"
   },
   "outputs": [],
   "source": [
    "#!c1.8\n"
   ]
  }
 ],
 "metadata": {
  "ExecuteTimeLog": [
   {
    "duration": 4,
    "start_time": "2021-12-04T21:09:25.267Z"
   },
   {
    "duration": 1615,
    "start_time": "2021-12-04T21:09:25.273Z"
   },
   {
    "duration": 3,
    "start_time": "2021-12-04T21:09:26.891Z"
   },
   {
    "duration": 240,
    "start_time": "2021-12-04T21:09:26.896Z"
   },
   {
    "duration": 3,
    "start_time": "2021-12-04T21:09:27.138Z"
   },
   {
    "duration": 19,
    "start_time": "2021-12-04T21:09:27.143Z"
   },
   {
    "duration": 27,
    "start_time": "2021-12-04T21:09:27.164Z"
   },
   {
    "duration": 140,
    "start_time": "2021-12-04T21:09:27.193Z"
   },
   {
    "duration": 76,
    "start_time": "2021-12-04T21:09:27.336Z"
   },
   {
    "duration": 111,
    "start_time": "2021-12-04T21:09:27.414Z"
   },
   {
    "duration": 7,
    "start_time": "2021-12-04T21:09:27.527Z"
   },
   {
    "duration": 79,
    "start_time": "2021-12-04T21:09:27.536Z"
   },
   {
    "duration": 25,
    "start_time": "2021-12-04T21:09:27.617Z"
   },
   {
    "duration": 17,
    "start_time": "2021-12-04T21:09:27.643Z"
   },
   {
    "duration": 9,
    "start_time": "2021-12-04T21:09:27.662Z"
   },
   {
    "duration": 47,
    "start_time": "2021-12-04T21:09:27.673Z"
   },
   {
    "duration": 38,
    "start_time": "2021-12-04T21:09:27.722Z"
   },
   {
    "duration": 264,
    "start_time": "2021-12-04T21:09:27.762Z"
   },
   {
    "duration": 16,
    "start_time": "2021-12-04T21:09:28.029Z"
   },
   {
    "duration": 45,
    "start_time": "2021-12-04T21:09:28.047Z"
   },
   {
    "duration": 14,
    "start_time": "2021-12-04T21:09:28.094Z"
   },
   {
    "duration": 7,
    "start_time": "2021-12-04T21:09:28.109Z"
   },
   {
    "duration": 32,
    "start_time": "2021-12-04T21:09:28.117Z"
   },
   {
    "duration": 9,
    "start_time": "2021-12-04T21:09:28.150Z"
   },
   {
    "duration": 1477,
    "start_time": "2021-12-04T21:12:47.811Z"
   },
   {
    "duration": 2,
    "start_time": "2021-12-04T21:12:51.584Z"
   },
   {
    "duration": 225,
    "start_time": "2021-12-04T21:12:52.337Z"
   },
   {
    "duration": 3,
    "start_time": "2021-12-04T21:12:52.564Z"
   },
   {
    "duration": 18,
    "start_time": "2021-12-04T21:12:52.786Z"
   },
   {
    "duration": 16,
    "start_time": "2021-12-04T21:12:53.035Z"
   },
   {
    "duration": 133,
    "start_time": "2021-12-04T21:12:53.263Z"
   },
   {
    "duration": 67,
    "start_time": "2021-12-04T21:12:53.487Z"
   },
   {
    "duration": 112,
    "start_time": "2021-12-04T21:12:53.736Z"
   },
   {
    "duration": 11,
    "start_time": "2021-12-04T21:12:54.190Z"
   },
   {
    "duration": 74,
    "start_time": "2021-12-04T21:12:54.575Z"
   },
   {
    "duration": 21,
    "start_time": "2021-12-04T21:12:56.110Z"
   },
   {
    "duration": 11,
    "start_time": "2021-12-04T21:12:56.379Z"
   },
   {
    "duration": 6,
    "start_time": "2021-12-04T21:12:56.624Z"
   },
   {
    "duration": 33,
    "start_time": "2021-12-04T21:12:56.854Z"
   },
   {
    "duration": 36,
    "start_time": "2021-12-04T21:12:58.048Z"
   },
   {
    "duration": 245,
    "start_time": "2021-12-04T21:12:58.600Z"
   },
   {
    "duration": 18,
    "start_time": "2021-12-04T21:13:00.397Z"
   },
   {
    "duration": 32,
    "start_time": "2021-12-04T21:13:00.690Z"
   },
   {
    "duration": 14,
    "start_time": "2021-12-04T21:13:00.943Z"
   },
   {
    "duration": 8,
    "start_time": "2021-12-04T21:13:02.064Z"
   },
   {
    "duration": 31,
    "start_time": "2021-12-04T21:13:02.840Z"
   },
   {
    "duration": 11,
    "start_time": "2021-12-04T21:13:03.152Z"
   },
   {
    "duration": 50,
    "start_time": "2021-12-04T21:13:07.697Z"
   },
   {
    "duration": 4,
    "start_time": "2021-12-04T21:13:10.591Z"
   },
   {
    "duration": 508,
    "start_time": "2021-12-04T21:13:10.847Z"
   },
   {
    "duration": 28,
    "start_time": "2021-12-04T21:13:39.912Z"
   },
   {
    "duration": 5,
    "start_time": "2021-12-04T21:13:40.613Z"
   },
   {
    "duration": 111,
    "start_time": "2021-12-04T21:13:41.086Z"
   },
   {
    "duration": 14,
    "start_time": "2021-12-04T21:13:41.436Z"
   },
   {
    "duration": 5,
    "start_time": "2021-12-04T21:13:42.023Z"
   },
   {
    "duration": 186,
    "start_time": "2021-12-04T21:13:42.573Z"
   },
   {
    "duration": 194,
    "start_time": "2021-12-04T21:13:43.457Z"
   },
   {
    "duration": 210,
    "start_time": "2021-12-04T21:13:44.566Z"
   },
   {
    "duration": 269,
    "start_time": "2021-12-04T21:13:45.093Z"
   },
   {
    "duration": 5,
    "start_time": "2021-12-04T21:14:51.633Z"
   },
   {
    "duration": 188,
    "start_time": "2021-12-04T21:14:52.397Z"
   },
   {
    "duration": 208,
    "start_time": "2021-12-04T21:15:53.344Z"
   },
   {
    "duration": 192,
    "start_time": "2021-12-04T21:15:54.827Z"
   },
   {
    "duration": 257,
    "start_time": "2021-12-04T21:15:56.180Z"
   },
   {
    "duration": 6,
    "start_time": "2021-12-04T21:18:56.572Z"
   },
   {
    "duration": 54,
    "start_time": "2021-12-04T21:18:57.199Z"
   },
   {
    "duration": 737,
    "start_time": "2021-12-04T21:18:57.563Z"
   },
   {
    "duration": 5,
    "start_time": "2021-12-04T21:19:06.963Z"
   },
   {
    "duration": 189,
    "start_time": "2021-12-04T21:19:12.767Z"
   },
   {
    "duration": 6,
    "start_time": "2021-12-04T21:19:52.680Z"
   },
   {
    "duration": 191,
    "start_time": "2021-12-04T21:19:56.059Z"
   },
   {
    "duration": 53822,
    "start_time": "2021-12-06T21:41:38.699Z"
   },
   {
    "duration": 21464,
    "start_time": "2021-12-06T21:42:32.523Z"
   },
   {
    "duration": 2,
    "start_time": "2021-12-06T21:42:53.992Z"
   },
   {
    "duration": 450,
    "start_time": "2021-12-06T21:42:53.996Z"
   },
   {
    "duration": 3,
    "start_time": "2021-12-06T21:42:54.448Z"
   },
   {
    "duration": 24,
    "start_time": "2021-12-06T21:42:54.453Z"
   },
   {
    "duration": 17,
    "start_time": "2021-12-06T21:42:54.479Z"
   },
   {
    "duration": 166,
    "start_time": "2021-12-06T21:42:54.499Z"
   },
   {
    "duration": 77,
    "start_time": "2021-12-06T21:42:54.668Z"
   },
   {
    "duration": 169,
    "start_time": "2021-12-06T21:42:54.747Z"
   },
   {
    "duration": 10,
    "start_time": "2021-12-06T21:42:54.917Z"
   },
   {
    "duration": 85,
    "start_time": "2021-12-06T21:42:54.929Z"
   },
   {
    "duration": 24,
    "start_time": "2021-12-06T21:42:55.016Z"
   },
   {
    "duration": 28,
    "start_time": "2021-12-06T21:42:55.042Z"
   },
   {
    "duration": 9,
    "start_time": "2021-12-06T21:42:55.072Z"
   },
   {
    "duration": 43,
    "start_time": "2021-12-06T21:42:55.082Z"
   },
   {
    "duration": 389,
    "start_time": "2021-12-06T21:42:55.127Z"
   },
   {
    "duration": 55,
    "start_time": "2021-12-06T21:42:55.518Z"
   },
   {
    "duration": 261,
    "start_time": "2021-12-06T21:42:55.575Z"
   },
   {
    "duration": 27,
    "start_time": "2021-12-06T21:42:55.838Z"
   },
   {
    "duration": 35,
    "start_time": "2021-12-06T21:42:55.867Z"
   },
   {
    "duration": 14,
    "start_time": "2021-12-06T21:42:55.903Z"
   },
   {
    "duration": 79,
    "start_time": "2021-12-06T21:42:55.919Z"
   },
   {
    "duration": 40,
    "start_time": "2021-12-06T21:42:55.999Z"
   },
   {
    "duration": 8,
    "start_time": "2021-12-06T21:42:56.040Z"
   },
   {
    "duration": 18534,
    "start_time": "2021-12-06T21:49:17.851Z"
   },
   {
    "duration": 2,
    "start_time": "2021-12-06T21:49:36.388Z"
   },
   {
    "duration": 292,
    "start_time": "2021-12-06T21:49:36.393Z"
   },
   {
    "duration": 10,
    "start_time": "2021-12-06T21:49:36.688Z"
   },
   {
    "duration": 23,
    "start_time": "2021-12-06T21:49:36.700Z"
   },
   {
    "duration": 16,
    "start_time": "2021-12-06T21:49:36.725Z"
   },
   {
    "duration": 156,
    "start_time": "2021-12-06T21:49:36.743Z"
   },
   {
    "duration": 91,
    "start_time": "2021-12-06T21:49:36.902Z"
   },
   {
    "duration": 147,
    "start_time": "2021-12-06T21:49:36.995Z"
   },
   {
    "duration": 7,
    "start_time": "2021-12-06T21:49:37.144Z"
   },
   {
    "duration": 78,
    "start_time": "2021-12-06T21:49:37.153Z"
   },
   {
    "duration": 33,
    "start_time": "2021-12-06T21:49:37.233Z"
   },
   {
    "duration": 19,
    "start_time": "2021-12-06T21:49:37.268Z"
   },
   {
    "duration": 8,
    "start_time": "2021-12-06T21:49:37.289Z"
   },
   {
    "duration": 36,
    "start_time": "2021-12-06T21:49:37.298Z"
   },
   {
    "duration": 391,
    "start_time": "2021-12-06T21:49:37.335Z"
   },
   {
    "duration": 54,
    "start_time": "2021-12-06T21:49:37.728Z"
   },
   {
    "duration": 258,
    "start_time": "2021-12-06T21:49:37.784Z"
   },
   {
    "duration": 28,
    "start_time": "2021-12-06T21:49:38.044Z"
   },
   {
    "duration": 37,
    "start_time": "2021-12-06T21:49:38.073Z"
   },
   {
    "duration": 14,
    "start_time": "2021-12-06T21:49:38.112Z"
   },
   {
    "duration": 79,
    "start_time": "2021-12-06T21:49:38.128Z"
   },
   {
    "duration": 39,
    "start_time": "2021-12-06T21:49:38.213Z"
   },
   {
    "duration": 10,
    "start_time": "2021-12-06T21:49:38.430Z"
   },
   {
    "duration": 60,
    "start_time": "2021-12-06T21:49:43.388Z"
   },
   {
    "duration": 5,
    "start_time": "2021-12-06T21:49:46.566Z"
   },
   {
    "duration": 549,
    "start_time": "2021-12-06T21:49:47.348Z"
   },
   {
    "duration": 654,
    "start_time": "2021-12-06T21:50:27.663Z"
   },
   {
    "duration": 118,
    "start_time": "2021-12-06T21:50:49.875Z"
   },
   {
    "duration": 30,
    "start_time": "2021-12-06T21:51:23.944Z"
   },
   {
    "duration": 5,
    "start_time": "2021-12-06T21:51:24.200Z"
   },
   {
    "duration": 105,
    "start_time": "2021-12-06T21:51:24.383Z"
   },
   {
    "duration": 15,
    "start_time": "2021-12-06T21:51:24.624Z"
   },
   {
    "duration": 7,
    "start_time": "2021-12-06T21:51:25.410Z"
   },
   {
    "duration": 239,
    "start_time": "2021-12-06T21:51:25.790Z"
   },
   {
    "duration": 246,
    "start_time": "2021-12-06T21:51:26.152Z"
   },
   {
    "duration": 243,
    "start_time": "2021-12-06T21:51:26.400Z"
   },
   {
    "duration": 330,
    "start_time": "2021-12-06T21:51:26.645Z"
   }
  ],
  "kernelspec": {
   "display_name": "Python 3",
   "language": "python",
   "name": "python3"
  },
  "language_info": {
   "codemirror_mode": {
    "name": "ipython",
    "version": 3
   },
   "file_extension": ".py",
   "mimetype": "text/x-python",
   "name": "python",
   "nbconvert_exporter": "python",
   "pygments_lexer": "ipython3",
   "version": "3.7.8"
  },
  "notebookId": "04f05258-9e90-4432-bde3-6310156861b5",
  "notebookPath": "first_check.ipynb",
  "toc": {
   "base_numbering": 1,
   "nav_menu": {},
   "number_sections": true,
   "sideBar": true,
   "skip_h1_title": true,
   "title_cell": "Table of Contents",
   "title_sidebar": "Contents",
   "toc_cell": false,
   "toc_position": {},
   "toc_section_display": true,
   "toc_window_display": false
  }
 },
 "nbformat": 4,
 "nbformat_minor": 4
}
