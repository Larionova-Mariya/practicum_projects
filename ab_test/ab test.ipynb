{
 "cells": [
  {
   "cell_type": "markdown",
   "metadata": {},
   "source": [
    "# Аналитика интернет-магазина"
   ]
  },
  {
   "cell_type": "markdown",
   "metadata": {},
   "source": [
    "Задачи:\n",
    "\n",
    "- приоритизировать гипотезы, \n",
    "- запустить A/B-тест,\n",
    "- проанализировать результаты."
   ]
  },
  {
   "cell_type": "code",
   "execution_count": 368,
   "metadata": {},
   "outputs": [],
   "source": [
    "import pandas as pd\n",
    "import matplotlib.pyplot as plt\n",
    "import numpy as np\n",
    "import scipy.stats as st\n",
    "import seaborn as sns"
   ]
  },
  {
   "cell_type": "code",
   "execution_count": 369,
   "metadata": {},
   "outputs": [],
   "source": [
    "from pandas.plotting import register_matplotlib_converters\n",
    "register_matplotlib_converters()"
   ]
  },
  {
   "cell_type": "markdown",
   "metadata": {},
   "source": [
    "## Приоритизация гипотез"
   ]
  },
  {
   "cell_type": "code",
   "execution_count": 370,
   "metadata": {},
   "outputs": [],
   "source": [
    "hypothesis = pd.read_csv('/datasets/hypothesis.csv')"
   ]
  },
  {
   "cell_type": "code",
   "execution_count": 371,
   "metadata": {},
   "outputs": [
    {
     "data": {
      "text/html": [
       "<div>\n",
       "<style scoped>\n",
       "    .dataframe tbody tr th:only-of-type {\n",
       "        vertical-align: middle;\n",
       "    }\n",
       "\n",
       "    .dataframe tbody tr th {\n",
       "        vertical-align: top;\n",
       "    }\n",
       "\n",
       "    .dataframe thead th {\n",
       "        text-align: right;\n",
       "    }\n",
       "</style>\n",
       "<table border=\"1\" class=\"dataframe\">\n",
       "  <thead>\n",
       "    <tr style=\"text-align: right;\">\n",
       "      <th></th>\n",
       "      <th>Hypothesis</th>\n",
       "      <th>Reach</th>\n",
       "      <th>Impact</th>\n",
       "      <th>Confidence</th>\n",
       "      <th>Efforts</th>\n",
       "    </tr>\n",
       "  </thead>\n",
       "  <tbody>\n",
       "    <tr>\n",
       "      <td>0</td>\n",
       "      <td>Добавить два новых канала привлечения трафика, что позволит привлекать на 30% больше пользователей</td>\n",
       "      <td>3</td>\n",
       "      <td>10</td>\n",
       "      <td>8</td>\n",
       "      <td>6</td>\n",
       "    </tr>\n",
       "    <tr>\n",
       "      <td>1</td>\n",
       "      <td>Запустить собственную службу доставки, что сократит срок доставки заказов</td>\n",
       "      <td>2</td>\n",
       "      <td>5</td>\n",
       "      <td>4</td>\n",
       "      <td>10</td>\n",
       "    </tr>\n",
       "    <tr>\n",
       "      <td>2</td>\n",
       "      <td>Добавить блоки рекомендаций товаров на сайт интернет магазина, чтобы повысить конверсию и средний чек заказа</td>\n",
       "      <td>8</td>\n",
       "      <td>3</td>\n",
       "      <td>7</td>\n",
       "      <td>3</td>\n",
       "    </tr>\n",
       "    <tr>\n",
       "      <td>3</td>\n",
       "      <td>Изменить структура категорий, что увеличит конверсию, т.к. пользователи быстрее найдут нужный товар</td>\n",
       "      <td>8</td>\n",
       "      <td>3</td>\n",
       "      <td>3</td>\n",
       "      <td>8</td>\n",
       "    </tr>\n",
       "    <tr>\n",
       "      <td>4</td>\n",
       "      <td>Изменить цвет фона главной страницы, чтобы увеличить вовлеченность пользователей</td>\n",
       "      <td>3</td>\n",
       "      <td>1</td>\n",
       "      <td>1</td>\n",
       "      <td>1</td>\n",
       "    </tr>\n",
       "  </tbody>\n",
       "</table>\n",
       "</div>"
      ],
      "text/plain": [
       "                                                                                                     Hypothesis  \\\n",
       "0            Добавить два новых канала привлечения трафика, что позволит привлекать на 30% больше пользователей   \n",
       "1                                     Запустить собственную службу доставки, что сократит срок доставки заказов   \n",
       "2  Добавить блоки рекомендаций товаров на сайт интернет магазина, чтобы повысить конверсию и средний чек заказа   \n",
       "3           Изменить структура категорий, что увеличит конверсию, т.к. пользователи быстрее найдут нужный товар   \n",
       "4                              Изменить цвет фона главной страницы, чтобы увеличить вовлеченность пользователей   \n",
       "\n",
       "   Reach  Impact  Confidence  Efforts  \n",
       "0      3      10           8        6  \n",
       "1      2       5           4       10  \n",
       "2      8       3           7        3  \n",
       "3      8       3           3        8  \n",
       "4      3       1           1        1  "
      ]
     },
     "metadata": {},
     "output_type": "display_data"
    },
    {
     "data": {
      "text/html": [
       "<div>\n",
       "<style scoped>\n",
       "    .dataframe tbody tr th:only-of-type {\n",
       "        vertical-align: middle;\n",
       "    }\n",
       "\n",
       "    .dataframe tbody tr th {\n",
       "        vertical-align: top;\n",
       "    }\n",
       "\n",
       "    .dataframe thead th {\n",
       "        text-align: right;\n",
       "    }\n",
       "</style>\n",
       "<table border=\"1\" class=\"dataframe\">\n",
       "  <thead>\n",
       "    <tr style=\"text-align: right;\">\n",
       "      <th></th>\n",
       "      <th>Hypothesis</th>\n",
       "      <th>Reach</th>\n",
       "      <th>Impact</th>\n",
       "      <th>Confidence</th>\n",
       "      <th>Efforts</th>\n",
       "    </tr>\n",
       "  </thead>\n",
       "  <tbody>\n",
       "    <tr>\n",
       "      <td>4</td>\n",
       "      <td>Изменить цвет фона главной страницы, чтобы увеличить вовлеченность пользователей</td>\n",
       "      <td>3</td>\n",
       "      <td>1</td>\n",
       "      <td>1</td>\n",
       "      <td>1</td>\n",
       "    </tr>\n",
       "    <tr>\n",
       "      <td>5</td>\n",
       "      <td>Добавить страницу отзывов клиентов о магазине, что позволит увеличить количество заказов</td>\n",
       "      <td>3</td>\n",
       "      <td>2</td>\n",
       "      <td>2</td>\n",
       "      <td>3</td>\n",
       "    </tr>\n",
       "    <tr>\n",
       "      <td>6</td>\n",
       "      <td>Показать на главной странице баннеры с актуальными акциями и распродажами, чтобы увеличить конверсию</td>\n",
       "      <td>5</td>\n",
       "      <td>3</td>\n",
       "      <td>8</td>\n",
       "      <td>3</td>\n",
       "    </tr>\n",
       "    <tr>\n",
       "      <td>7</td>\n",
       "      <td>Добавить форму подписки на все основные страницы, чтобы собрать базу клиентов для email-рассылок</td>\n",
       "      <td>10</td>\n",
       "      <td>7</td>\n",
       "      <td>8</td>\n",
       "      <td>5</td>\n",
       "    </tr>\n",
       "    <tr>\n",
       "      <td>8</td>\n",
       "      <td>Запустить акцию, дающую скидку на товар в день рождения</td>\n",
       "      <td>1</td>\n",
       "      <td>9</td>\n",
       "      <td>9</td>\n",
       "      <td>5</td>\n",
       "    </tr>\n",
       "  </tbody>\n",
       "</table>\n",
       "</div>"
      ],
      "text/plain": [
       "                                                                                             Hypothesis  \\\n",
       "4                      Изменить цвет фона главной страницы, чтобы увеличить вовлеченность пользователей   \n",
       "5              Добавить страницу отзывов клиентов о магазине, что позволит увеличить количество заказов   \n",
       "6  Показать на главной странице баннеры с актуальными акциями и распродажами, чтобы увеличить конверсию   \n",
       "7      Добавить форму подписки на все основные страницы, чтобы собрать базу клиентов для email-рассылок   \n",
       "8                                               Запустить акцию, дающую скидку на товар в день рождения   \n",
       "\n",
       "   Reach  Impact  Confidence  Efforts  \n",
       "4      3       1           1        1  \n",
       "5      3       2           2        3  \n",
       "6      5       3           8        3  \n",
       "7     10       7           8        5  \n",
       "8      1       9           9        5  "
      ]
     },
     "metadata": {},
     "output_type": "display_data"
    },
    {
     "data": {
      "text/html": [
       "<div>\n",
       "<style scoped>\n",
       "    .dataframe tbody tr th:only-of-type {\n",
       "        vertical-align: middle;\n",
       "    }\n",
       "\n",
       "    .dataframe tbody tr th {\n",
       "        vertical-align: top;\n",
       "    }\n",
       "\n",
       "    .dataframe thead th {\n",
       "        text-align: right;\n",
       "    }\n",
       "</style>\n",
       "<table border=\"1\" class=\"dataframe\">\n",
       "  <thead>\n",
       "    <tr style=\"text-align: right;\">\n",
       "      <th></th>\n",
       "      <th>Hypothesis</th>\n",
       "      <th>Reach</th>\n",
       "      <th>Impact</th>\n",
       "      <th>Confidence</th>\n",
       "      <th>Efforts</th>\n",
       "    </tr>\n",
       "  </thead>\n",
       "  <tbody>\n",
       "    <tr>\n",
       "      <td>7</td>\n",
       "      <td>Добавить форму подписки на все основные страницы, чтобы собрать базу клиентов для email-рассылок</td>\n",
       "      <td>10</td>\n",
       "      <td>7</td>\n",
       "      <td>8</td>\n",
       "      <td>5</td>\n",
       "    </tr>\n",
       "    <tr>\n",
       "      <td>0</td>\n",
       "      <td>Добавить два новых канала привлечения трафика, что позволит привлекать на 30% больше пользователей</td>\n",
       "      <td>3</td>\n",
       "      <td>10</td>\n",
       "      <td>8</td>\n",
       "      <td>6</td>\n",
       "    </tr>\n",
       "    <tr>\n",
       "      <td>3</td>\n",
       "      <td>Изменить структура категорий, что увеличит конверсию, т.к. пользователи быстрее найдут нужный товар</td>\n",
       "      <td>8</td>\n",
       "      <td>3</td>\n",
       "      <td>3</td>\n",
       "      <td>8</td>\n",
       "    </tr>\n",
       "    <tr>\n",
       "      <td>6</td>\n",
       "      <td>Показать на главной странице баннеры с актуальными акциями и распродажами, чтобы увеличить конверсию</td>\n",
       "      <td>5</td>\n",
       "      <td>3</td>\n",
       "      <td>8</td>\n",
       "      <td>3</td>\n",
       "    </tr>\n",
       "    <tr>\n",
       "      <td>2</td>\n",
       "      <td>Добавить блоки рекомендаций товаров на сайт интернет магазина, чтобы повысить конверсию и средний чек заказа</td>\n",
       "      <td>8</td>\n",
       "      <td>3</td>\n",
       "      <td>7</td>\n",
       "      <td>3</td>\n",
       "    </tr>\n",
       "  </tbody>\n",
       "</table>\n",
       "</div>"
      ],
      "text/plain": [
       "                                                                                                     Hypothesis  \\\n",
       "7              Добавить форму подписки на все основные страницы, чтобы собрать базу клиентов для email-рассылок   \n",
       "0            Добавить два новых канала привлечения трафика, что позволит привлекать на 30% больше пользователей   \n",
       "3           Изменить структура категорий, что увеличит конверсию, т.к. пользователи быстрее найдут нужный товар   \n",
       "6          Показать на главной странице баннеры с актуальными акциями и распродажами, чтобы увеличить конверсию   \n",
       "2  Добавить блоки рекомендаций товаров на сайт интернет магазина, чтобы повысить конверсию и средний чек заказа   \n",
       "\n",
       "   Reach  Impact  Confidence  Efforts  \n",
       "7     10       7           8        5  \n",
       "0      3      10           8        6  \n",
       "3      8       3           3        8  \n",
       "6      5       3           8        3  \n",
       "2      8       3           7        3  "
      ]
     },
     "metadata": {},
     "output_type": "display_data"
    },
    {
     "name": "stdout",
     "output_type": "stream",
     "text": [
      "<class 'pandas.core.frame.DataFrame'>\n",
      "RangeIndex: 9 entries, 0 to 8\n",
      "Data columns (total 5 columns):\n",
      "Hypothesis    9 non-null object\n",
      "Reach         9 non-null int64\n",
      "Impact        9 non-null int64\n",
      "Confidence    9 non-null int64\n",
      "Efforts       9 non-null int64\n",
      "dtypes: int64(4), object(1)\n",
      "memory usage: 488.0+ bytes\n"
     ]
    },
    {
     "data": {
      "text/plain": [
       "None"
      ]
     },
     "metadata": {},
     "output_type": "display_data"
    },
    {
     "data": {
      "text/html": [
       "<div>\n",
       "<style scoped>\n",
       "    .dataframe tbody tr th:only-of-type {\n",
       "        vertical-align: middle;\n",
       "    }\n",
       "\n",
       "    .dataframe tbody tr th {\n",
       "        vertical-align: top;\n",
       "    }\n",
       "\n",
       "    .dataframe thead th {\n",
       "        text-align: right;\n",
       "    }\n",
       "</style>\n",
       "<table border=\"1\" class=\"dataframe\">\n",
       "  <thead>\n",
       "    <tr style=\"text-align: right;\">\n",
       "      <th></th>\n",
       "      <th>Reach</th>\n",
       "      <th>Impact</th>\n",
       "      <th>Confidence</th>\n",
       "      <th>Efforts</th>\n",
       "    </tr>\n",
       "  </thead>\n",
       "  <tbody>\n",
       "    <tr>\n",
       "      <td>count</td>\n",
       "      <td>9.000000</td>\n",
       "      <td>9.000000</td>\n",
       "      <td>9.000000</td>\n",
       "      <td>9.000000</td>\n",
       "    </tr>\n",
       "    <tr>\n",
       "      <td>mean</td>\n",
       "      <td>4.777778</td>\n",
       "      <td>4.777778</td>\n",
       "      <td>5.555556</td>\n",
       "      <td>4.888889</td>\n",
       "    </tr>\n",
       "    <tr>\n",
       "      <td>std</td>\n",
       "      <td>3.153481</td>\n",
       "      <td>3.192874</td>\n",
       "      <td>3.045944</td>\n",
       "      <td>2.803767</td>\n",
       "    </tr>\n",
       "    <tr>\n",
       "      <td>min</td>\n",
       "      <td>1.000000</td>\n",
       "      <td>1.000000</td>\n",
       "      <td>1.000000</td>\n",
       "      <td>1.000000</td>\n",
       "    </tr>\n",
       "    <tr>\n",
       "      <td>25%</td>\n",
       "      <td>3.000000</td>\n",
       "      <td>3.000000</td>\n",
       "      <td>3.000000</td>\n",
       "      <td>3.000000</td>\n",
       "    </tr>\n",
       "    <tr>\n",
       "      <td>50%</td>\n",
       "      <td>3.000000</td>\n",
       "      <td>3.000000</td>\n",
       "      <td>7.000000</td>\n",
       "      <td>5.000000</td>\n",
       "    </tr>\n",
       "    <tr>\n",
       "      <td>75%</td>\n",
       "      <td>8.000000</td>\n",
       "      <td>7.000000</td>\n",
       "      <td>8.000000</td>\n",
       "      <td>6.000000</td>\n",
       "    </tr>\n",
       "    <tr>\n",
       "      <td>max</td>\n",
       "      <td>10.000000</td>\n",
       "      <td>10.000000</td>\n",
       "      <td>9.000000</td>\n",
       "      <td>10.000000</td>\n",
       "    </tr>\n",
       "  </tbody>\n",
       "</table>\n",
       "</div>"
      ],
      "text/plain": [
       "           Reach     Impact  Confidence    Efforts\n",
       "count   9.000000   9.000000    9.000000   9.000000\n",
       "mean    4.777778   4.777778    5.555556   4.888889\n",
       "std     3.153481   3.192874    3.045944   2.803767\n",
       "min     1.000000   1.000000    1.000000   1.000000\n",
       "25%     3.000000   3.000000    3.000000   3.000000\n",
       "50%     3.000000   3.000000    7.000000   5.000000\n",
       "75%     8.000000   7.000000    8.000000   6.000000\n",
       "max    10.000000  10.000000    9.000000  10.000000"
      ]
     },
     "metadata": {},
     "output_type": "display_data"
    }
   ],
   "source": [
    "display(hypothesis.head(5))\n",
    "display(hypothesis.tail(5))\n",
    "display(hypothesis.sample(5))\n",
    "display(hypothesis.info())\n",
    "display(hypothesis.describe())"
   ]
  },
  {
   "cell_type": "code",
   "execution_count": 372,
   "metadata": {},
   "outputs": [],
   "source": [
    "hypothesis.columns = hypothesis.columns.str.lower()"
   ]
  },
  {
   "cell_type": "markdown",
   "metadata": {},
   "source": [
    "### Расчёт ICE и RICE"
   ]
  },
  {
   "cell_type": "code",
   "execution_count": 373,
   "metadata": {},
   "outputs": [],
   "source": [
    "hypothesis['rice'] = hypothesis['reach'] * hypothesis['impact'] * hypothesis['confidence'] / hypothesis['efforts']"
   ]
  },
  {
   "cell_type": "code",
   "execution_count": 374,
   "metadata": {},
   "outputs": [],
   "source": [
    "hypothesis['ice'] = hypothesis['impact'] * hypothesis['confidence'] / hypothesis['efforts']"
   ]
  },
  {
   "cell_type": "code",
   "execution_count": 375,
   "metadata": {},
   "outputs": [],
   "source": [
    "pd.set_option('display.max_columns', None)\n",
    "pd.options.display.max_colwidth = 150  "
   ]
  },
  {
   "cell_type": "code",
   "execution_count": 376,
   "metadata": {},
   "outputs": [
    {
     "data": {
      "text/html": [
       "<div>\n",
       "<style scoped>\n",
       "    .dataframe tbody tr th:only-of-type {\n",
       "        vertical-align: middle;\n",
       "    }\n",
       "\n",
       "    .dataframe tbody tr th {\n",
       "        vertical-align: top;\n",
       "    }\n",
       "\n",
       "    .dataframe thead th {\n",
       "        text-align: right;\n",
       "    }\n",
       "</style>\n",
       "<table border=\"1\" class=\"dataframe\">\n",
       "  <thead>\n",
       "    <tr style=\"text-align: right;\">\n",
       "      <th></th>\n",
       "      <th>hypothesis</th>\n",
       "      <th>rice</th>\n",
       "    </tr>\n",
       "  </thead>\n",
       "  <tbody>\n",
       "    <tr>\n",
       "      <td>7</td>\n",
       "      <td>Добавить форму подписки на все основные страницы, чтобы собрать базу клиентов для email-рассылок</td>\n",
       "      <td>112.0</td>\n",
       "    </tr>\n",
       "    <tr>\n",
       "      <td>2</td>\n",
       "      <td>Добавить блоки рекомендаций товаров на сайт интернет магазина, чтобы повысить конверсию и средний чек заказа</td>\n",
       "      <td>56.0</td>\n",
       "    </tr>\n",
       "    <tr>\n",
       "      <td>0</td>\n",
       "      <td>Добавить два новых канала привлечения трафика, что позволит привлекать на 30% больше пользователей</td>\n",
       "      <td>40.0</td>\n",
       "    </tr>\n",
       "    <tr>\n",
       "      <td>6</td>\n",
       "      <td>Показать на главной странице баннеры с актуальными акциями и распродажами, чтобы увеличить конверсию</td>\n",
       "      <td>40.0</td>\n",
       "    </tr>\n",
       "    <tr>\n",
       "      <td>8</td>\n",
       "      <td>Запустить акцию, дающую скидку на товар в день рождения</td>\n",
       "      <td>16.2</td>\n",
       "    </tr>\n",
       "    <tr>\n",
       "      <td>3</td>\n",
       "      <td>Изменить структура категорий, что увеличит конверсию, т.к. пользователи быстрее найдут нужный товар</td>\n",
       "      <td>9.0</td>\n",
       "    </tr>\n",
       "    <tr>\n",
       "      <td>1</td>\n",
       "      <td>Запустить собственную службу доставки, что сократит срок доставки заказов</td>\n",
       "      <td>4.0</td>\n",
       "    </tr>\n",
       "    <tr>\n",
       "      <td>5</td>\n",
       "      <td>Добавить страницу отзывов клиентов о магазине, что позволит увеличить количество заказов</td>\n",
       "      <td>4.0</td>\n",
       "    </tr>\n",
       "    <tr>\n",
       "      <td>4</td>\n",
       "      <td>Изменить цвет фона главной страницы, чтобы увеличить вовлеченность пользователей</td>\n",
       "      <td>3.0</td>\n",
       "    </tr>\n",
       "  </tbody>\n",
       "</table>\n",
       "</div>"
      ],
      "text/plain": [
       "                                                                                                     hypothesis  \\\n",
       "7              Добавить форму подписки на все основные страницы, чтобы собрать базу клиентов для email-рассылок   \n",
       "2  Добавить блоки рекомендаций товаров на сайт интернет магазина, чтобы повысить конверсию и средний чек заказа   \n",
       "0            Добавить два новых канала привлечения трафика, что позволит привлекать на 30% больше пользователей   \n",
       "6          Показать на главной странице баннеры с актуальными акциями и распродажами, чтобы увеличить конверсию   \n",
       "8                                                       Запустить акцию, дающую скидку на товар в день рождения   \n",
       "3           Изменить структура категорий, что увеличит конверсию, т.к. пользователи быстрее найдут нужный товар   \n",
       "1                                     Запустить собственную службу доставки, что сократит срок доставки заказов   \n",
       "5                      Добавить страницу отзывов клиентов о магазине, что позволит увеличить количество заказов   \n",
       "4                              Изменить цвет фона главной страницы, чтобы увеличить вовлеченность пользователей   \n",
       "\n",
       "    rice  \n",
       "7  112.0  \n",
       "2   56.0  \n",
       "0   40.0  \n",
       "6   40.0  \n",
       "8   16.2  \n",
       "3    9.0  \n",
       "1    4.0  \n",
       "5    4.0  \n",
       "4    3.0  "
      ]
     },
     "execution_count": 376,
     "metadata": {},
     "output_type": "execute_result"
    }
   ],
   "source": [
    "hypothesis.sort_values(by='rice', ascending=False)[['hypothesis', 'rice']]"
   ]
  },
  {
   "cell_type": "markdown",
   "metadata": {},
   "source": [
    "Приоритетные гипотезы по RICE: 7, 2, 0, 6, 8."
   ]
  },
  {
   "cell_type": "code",
   "execution_count": 377,
   "metadata": {},
   "outputs": [
    {
     "data": {
      "text/html": [
       "<div>\n",
       "<style scoped>\n",
       "    .dataframe tbody tr th:only-of-type {\n",
       "        vertical-align: middle;\n",
       "    }\n",
       "\n",
       "    .dataframe tbody tr th {\n",
       "        vertical-align: top;\n",
       "    }\n",
       "\n",
       "    .dataframe thead th {\n",
       "        text-align: right;\n",
       "    }\n",
       "</style>\n",
       "<table border=\"1\" class=\"dataframe\">\n",
       "  <thead>\n",
       "    <tr style=\"text-align: right;\">\n",
       "      <th></th>\n",
       "      <th>hypothesis</th>\n",
       "      <th>ice</th>\n",
       "    </tr>\n",
       "  </thead>\n",
       "  <tbody>\n",
       "    <tr>\n",
       "      <td>8</td>\n",
       "      <td>Запустить акцию, дающую скидку на товар в день рождения</td>\n",
       "      <td>16.0</td>\n",
       "    </tr>\n",
       "    <tr>\n",
       "      <td>0</td>\n",
       "      <td>Добавить два новых канала привлечения трафика, что позволит привлекать на 30% больше пользователей</td>\n",
       "      <td>13.0</td>\n",
       "    </tr>\n",
       "    <tr>\n",
       "      <td>7</td>\n",
       "      <td>Добавить форму подписки на все основные страницы, чтобы собрать базу клиентов для email-рассылок</td>\n",
       "      <td>11.0</td>\n",
       "    </tr>\n",
       "    <tr>\n",
       "      <td>6</td>\n",
       "      <td>Показать на главной странице баннеры с актуальными акциями и распродажами, чтобы увеличить конверсию</td>\n",
       "      <td>8.0</td>\n",
       "    </tr>\n",
       "    <tr>\n",
       "      <td>2</td>\n",
       "      <td>Добавить блоки рекомендаций товаров на сайт интернет магазина, чтобы повысить конверсию и средний чек заказа</td>\n",
       "      <td>7.0</td>\n",
       "    </tr>\n",
       "    <tr>\n",
       "      <td>1</td>\n",
       "      <td>Запустить собственную службу доставки, что сократит срок доставки заказов</td>\n",
       "      <td>2.0</td>\n",
       "    </tr>\n",
       "    <tr>\n",
       "      <td>3</td>\n",
       "      <td>Изменить структура категорий, что увеличит конверсию, т.к. пользователи быстрее найдут нужный товар</td>\n",
       "      <td>1.0</td>\n",
       "    </tr>\n",
       "    <tr>\n",
       "      <td>4</td>\n",
       "      <td>Изменить цвет фона главной страницы, чтобы увеличить вовлеченность пользователей</td>\n",
       "      <td>1.0</td>\n",
       "    </tr>\n",
       "    <tr>\n",
       "      <td>5</td>\n",
       "      <td>Добавить страницу отзывов клиентов о магазине, что позволит увеличить количество заказов</td>\n",
       "      <td>1.0</td>\n",
       "    </tr>\n",
       "  </tbody>\n",
       "</table>\n",
       "</div>"
      ],
      "text/plain": [
       "                                                                                                     hypothesis  \\\n",
       "8                                                       Запустить акцию, дающую скидку на товар в день рождения   \n",
       "0            Добавить два новых канала привлечения трафика, что позволит привлекать на 30% больше пользователей   \n",
       "7              Добавить форму подписки на все основные страницы, чтобы собрать базу клиентов для email-рассылок   \n",
       "6          Показать на главной странице баннеры с актуальными акциями и распродажами, чтобы увеличить конверсию   \n",
       "2  Добавить блоки рекомендаций товаров на сайт интернет магазина, чтобы повысить конверсию и средний чек заказа   \n",
       "1                                     Запустить собственную службу доставки, что сократит срок доставки заказов   \n",
       "3           Изменить структура категорий, что увеличит конверсию, т.к. пользователи быстрее найдут нужный товар   \n",
       "4                              Изменить цвет фона главной страницы, чтобы увеличить вовлеченность пользователей   \n",
       "5                      Добавить страницу отзывов клиентов о магазине, что позволит увеличить количество заказов   \n",
       "\n",
       "    ice  \n",
       "8  16.0  \n",
       "0  13.0  \n",
       "7  11.0  \n",
       "6   8.0  \n",
       "2   7.0  \n",
       "1   2.0  \n",
       "3   1.0  \n",
       "4   1.0  \n",
       "5   1.0  "
      ]
     },
     "execution_count": 377,
     "metadata": {},
     "output_type": "execute_result"
    }
   ],
   "source": [
    "hypothesis['ice'] = hypothesis['ice'].round()\n",
    "hypothesis.sort_values(by='ice', ascending=False)[['hypothesis', 'ice']]"
   ]
  },
  {
   "cell_type": "code",
   "execution_count": 378,
   "metadata": {},
   "outputs": [
    {
     "data": {
      "text/html": [
       "<style  type=\"text/css\" >\n",
       "    #T_8200a7e4_4306_11ec_bf58_02420a398ca6row0_col1 {\n",
       "            background-color:  #800080;\n",
       "            color:  #f1f1f1;\n",
       "        }    #T_8200a7e4_4306_11ec_bf58_02420a398ca6row0_col2 {\n",
       "            background-color:  #c780c7;\n",
       "            color:  #000000;\n",
       "        }    #T_8200a7e4_4306_11ec_bf58_02420a398ca6row1_col1 {\n",
       "            background-color:  #ca86ca;\n",
       "            color:  #000000;\n",
       "        }    #T_8200a7e4_4306_11ec_bf58_02420a398ca6row1_col2 {\n",
       "            background-color:  #ffe5ff;\n",
       "            color:  #000000;\n",
       "        }    #T_8200a7e4_4306_11ec_bf58_02420a398ca6row2_col1 {\n",
       "            background-color:  #e0ade0;\n",
       "            color:  #000000;\n",
       "        }    #T_8200a7e4_4306_11ec_bf58_02420a398ca6row2_col2 {\n",
       "            background-color:  #aa4daa;\n",
       "            color:  #f1f1f1;\n",
       "        }    #T_8200a7e4_4306_11ec_bf58_02420a398ca6row3_col1 {\n",
       "            background-color:  #e0ade0;\n",
       "            color:  #000000;\n",
       "        }    #T_8200a7e4_4306_11ec_bf58_02420a398ca6row3_col2 {\n",
       "            background-color:  #f1ccf1;\n",
       "            color:  #000000;\n",
       "        }    #T_8200a7e4_4306_11ec_bf58_02420a398ca6row4_col1 {\n",
       "            background-color:  #ffe5ff;\n",
       "            color:  #000000;\n",
       "        }    #T_8200a7e4_4306_11ec_bf58_02420a398ca6row4_col2 {\n",
       "            background-color:  #800080;\n",
       "            color:  #f1f1f1;\n",
       "        }</style><table id=\"T_8200a7e4_4306_11ec_bf58_02420a398ca6\" ><thead>    <tr>        <th class=\"blank level0\" ></th>        <th class=\"col_heading level0 col0\" >hypothesis</th>        <th class=\"col_heading level0 col1\" >rice</th>        <th class=\"col_heading level0 col2\" >ice</th>    </tr></thead><tbody>\n",
       "                <tr>\n",
       "                        <th id=\"T_8200a7e4_4306_11ec_bf58_02420a398ca6level0_row0\" class=\"row_heading level0 row0\" >7</th>\n",
       "                        <td id=\"T_8200a7e4_4306_11ec_bf58_02420a398ca6row0_col0\" class=\"data row0 col0\" >Добавить форму подписки на все основные страницы, чтобы собрать базу клиентов для email-рассылок</td>\n",
       "                        <td id=\"T_8200a7e4_4306_11ec_bf58_02420a398ca6row0_col1\" class=\"data row0 col1\" >112</td>\n",
       "                        <td id=\"T_8200a7e4_4306_11ec_bf58_02420a398ca6row0_col2\" class=\"data row0 col2\" >11</td>\n",
       "            </tr>\n",
       "            <tr>\n",
       "                        <th id=\"T_8200a7e4_4306_11ec_bf58_02420a398ca6level0_row1\" class=\"row_heading level0 row1\" >2</th>\n",
       "                        <td id=\"T_8200a7e4_4306_11ec_bf58_02420a398ca6row1_col0\" class=\"data row1 col0\" >Добавить блоки рекомендаций товаров на сайт интернет магазина, чтобы повысить конверсию и средний чек заказа</td>\n",
       "                        <td id=\"T_8200a7e4_4306_11ec_bf58_02420a398ca6row1_col1\" class=\"data row1 col1\" >56</td>\n",
       "                        <td id=\"T_8200a7e4_4306_11ec_bf58_02420a398ca6row1_col2\" class=\"data row1 col2\" >7</td>\n",
       "            </tr>\n",
       "            <tr>\n",
       "                        <th id=\"T_8200a7e4_4306_11ec_bf58_02420a398ca6level0_row2\" class=\"row_heading level0 row2\" >0</th>\n",
       "                        <td id=\"T_8200a7e4_4306_11ec_bf58_02420a398ca6row2_col0\" class=\"data row2 col0\" >Добавить два новых канала привлечения трафика, что позволит привлекать на 30% больше пользователей</td>\n",
       "                        <td id=\"T_8200a7e4_4306_11ec_bf58_02420a398ca6row2_col1\" class=\"data row2 col1\" >40</td>\n",
       "                        <td id=\"T_8200a7e4_4306_11ec_bf58_02420a398ca6row2_col2\" class=\"data row2 col2\" >13</td>\n",
       "            </tr>\n",
       "            <tr>\n",
       "                        <th id=\"T_8200a7e4_4306_11ec_bf58_02420a398ca6level0_row3\" class=\"row_heading level0 row3\" >6</th>\n",
       "                        <td id=\"T_8200a7e4_4306_11ec_bf58_02420a398ca6row3_col0\" class=\"data row3 col0\" >Показать на главной странице баннеры с актуальными акциями и распродажами, чтобы увеличить конверсию</td>\n",
       "                        <td id=\"T_8200a7e4_4306_11ec_bf58_02420a398ca6row3_col1\" class=\"data row3 col1\" >40</td>\n",
       "                        <td id=\"T_8200a7e4_4306_11ec_bf58_02420a398ca6row3_col2\" class=\"data row3 col2\" >8</td>\n",
       "            </tr>\n",
       "            <tr>\n",
       "                        <th id=\"T_8200a7e4_4306_11ec_bf58_02420a398ca6level0_row4\" class=\"row_heading level0 row4\" >8</th>\n",
       "                        <td id=\"T_8200a7e4_4306_11ec_bf58_02420a398ca6row4_col0\" class=\"data row4 col0\" >Запустить акцию, дающую скидку на товар в день рождения</td>\n",
       "                        <td id=\"T_8200a7e4_4306_11ec_bf58_02420a398ca6row4_col1\" class=\"data row4 col1\" >16.2</td>\n",
       "                        <td id=\"T_8200a7e4_4306_11ec_bf58_02420a398ca6row4_col2\" class=\"data row4 col2\" >16</td>\n",
       "            </tr>\n",
       "    </tbody></table>"
      ],
      "text/plain": [
       "<pandas.io.formats.style.Styler at 0x7f4ffc5ed410>"
      ]
     },
     "execution_count": 378,
     "metadata": {},
     "output_type": "execute_result"
    }
   ],
   "source": [
    "cm = sns.light_palette(\"purple\", as_cmap=True)\n",
    "hypothesis.sort_values(by='rice', ascending=False).head(5)[['hypothesis', 'rice', 'ice']].style.background_gradient(cmap=cm)"
   ]
  },
  {
   "cell_type": "markdown",
   "metadata": {},
   "source": [
    "Приоритетные гипотезы по ICE: 8, 0, 7, 6, 2."
   ]
  },
  {
   "cell_type": "markdown",
   "metadata": {},
   "source": [
    "И по RICE, и по ICE пять первых приоритетных гипотез одни и те же: 0, 2, 6, 7, 8. Изменяется их место в топе, потому что RICE учитывает количество пользователей, на которых повлияют изменения.\n",
    "\n",
    "Гипотеза 8 по RICE на последнем месте, а по ICE на первом, гипотеза 7 по RICE на первом месте, а по ICE на третьем, гипотеза 2 по ICE на последнем месте, а по RICE на втором. Гипотеза шесть на четвёртом месте и по RICE, и по ICE."
   ]
  },
  {
   "cell_type": "markdown",
   "metadata": {},
   "source": [
    "Приоритетные гипотезы по RICE:\n",
    "- Добавить форму подписки на все основные страницы, чтобы собрать базу клиентов для email-рассылок,\n",
    "- Добавить блоки рекомендаций товаров на сайт интернет магазина, чтобы повысить конверсию и средний чек заказа,\n",
    "- Добавить два новых канала привлечения трафика, что позволит привлекать на 30% больше пользователей,\n",
    "- Показать на главной странице баннеры с актуальными акциями и распродажами, чтобы увеличить конверсию,\n",
    "- Запустить акцию, дающую скидку на товар в день рождения.\n",
    "    \n",
    "Приоритетные гипотезы по ICE:\n",
    "- Запустить акцию, дающую скидку на товар в день рождения,\n",
    "- Добавить два новых канала привлечения трафика, что позволит привлекать на 30% больше пользователей,\n",
    "- Добавить форму подписки на все основные страницы, чтобы собрать базу клиентов для email-рассылок,\n",
    "- Показать на главной странице баннеры с актуальными акциями и распродажами, чтобы увеличить конверсию,\n",
    "- Добавить блоки рекомендаций товаров на сайт интернет магазина, чтобы повысить конверсию и средний чек заказа.\t"
   ]
  },
  {
   "cell_type": "markdown",
   "metadata": {},
   "source": [
    "## Анализ A/B-теста"
   ]
  },
  {
   "cell_type": "markdown",
   "metadata": {},
   "source": [
    "### Предобработка данных"
   ]
  },
  {
   "cell_type": "code",
   "execution_count": 379,
   "metadata": {},
   "outputs": [],
   "source": [
    "orders = pd.read_csv('/datasets/orders.csv')"
   ]
  },
  {
   "cell_type": "code",
   "execution_count": 380,
   "metadata": {},
   "outputs": [
    {
     "data": {
      "text/html": [
       "<div>\n",
       "<style scoped>\n",
       "    .dataframe tbody tr th:only-of-type {\n",
       "        vertical-align: middle;\n",
       "    }\n",
       "\n",
       "    .dataframe tbody tr th {\n",
       "        vertical-align: top;\n",
       "    }\n",
       "\n",
       "    .dataframe thead th {\n",
       "        text-align: right;\n",
       "    }\n",
       "</style>\n",
       "<table border=\"1\" class=\"dataframe\">\n",
       "  <thead>\n",
       "    <tr style=\"text-align: right;\">\n",
       "      <th></th>\n",
       "      <th>transactionId</th>\n",
       "      <th>visitorId</th>\n",
       "      <th>date</th>\n",
       "      <th>revenue</th>\n",
       "      <th>group</th>\n",
       "    </tr>\n",
       "  </thead>\n",
       "  <tbody>\n",
       "    <tr>\n",
       "      <td>0</td>\n",
       "      <td>3667963787</td>\n",
       "      <td>3312258926</td>\n",
       "      <td>2019-08-15</td>\n",
       "      <td>1650</td>\n",
       "      <td>B</td>\n",
       "    </tr>\n",
       "    <tr>\n",
       "      <td>1</td>\n",
       "      <td>2804400009</td>\n",
       "      <td>3642806036</td>\n",
       "      <td>2019-08-15</td>\n",
       "      <td>730</td>\n",
       "      <td>B</td>\n",
       "    </tr>\n",
       "    <tr>\n",
       "      <td>2</td>\n",
       "      <td>2961555356</td>\n",
       "      <td>4069496402</td>\n",
       "      <td>2019-08-15</td>\n",
       "      <td>400</td>\n",
       "      <td>A</td>\n",
       "    </tr>\n",
       "    <tr>\n",
       "      <td>3</td>\n",
       "      <td>3797467345</td>\n",
       "      <td>1196621759</td>\n",
       "      <td>2019-08-15</td>\n",
       "      <td>9759</td>\n",
       "      <td>B</td>\n",
       "    </tr>\n",
       "    <tr>\n",
       "      <td>4</td>\n",
       "      <td>2282983706</td>\n",
       "      <td>2322279887</td>\n",
       "      <td>2019-08-15</td>\n",
       "      <td>2308</td>\n",
       "      <td>B</td>\n",
       "    </tr>\n",
       "  </tbody>\n",
       "</table>\n",
       "</div>"
      ],
      "text/plain": [
       "   transactionId   visitorId        date  revenue group\n",
       "0     3667963787  3312258926  2019-08-15     1650     B\n",
       "1     2804400009  3642806036  2019-08-15      730     B\n",
       "2     2961555356  4069496402  2019-08-15      400     A\n",
       "3     3797467345  1196621759  2019-08-15     9759     B\n",
       "4     2282983706  2322279887  2019-08-15     2308     B"
      ]
     },
     "metadata": {},
     "output_type": "display_data"
    },
    {
     "data": {
      "text/html": [
       "<div>\n",
       "<style scoped>\n",
       "    .dataframe tbody tr th:only-of-type {\n",
       "        vertical-align: middle;\n",
       "    }\n",
       "\n",
       "    .dataframe tbody tr th {\n",
       "        vertical-align: top;\n",
       "    }\n",
       "\n",
       "    .dataframe thead th {\n",
       "        text-align: right;\n",
       "    }\n",
       "</style>\n",
       "<table border=\"1\" class=\"dataframe\">\n",
       "  <thead>\n",
       "    <tr style=\"text-align: right;\">\n",
       "      <th></th>\n",
       "      <th>transactionId</th>\n",
       "      <th>visitorId</th>\n",
       "      <th>date</th>\n",
       "      <th>revenue</th>\n",
       "      <th>group</th>\n",
       "    </tr>\n",
       "  </thead>\n",
       "  <tbody>\n",
       "    <tr>\n",
       "      <td>1192</td>\n",
       "      <td>2662137336</td>\n",
       "      <td>3733762160</td>\n",
       "      <td>2019-08-14</td>\n",
       "      <td>6490</td>\n",
       "      <td>B</td>\n",
       "    </tr>\n",
       "    <tr>\n",
       "      <td>1193</td>\n",
       "      <td>2203539145</td>\n",
       "      <td>370388673</td>\n",
       "      <td>2019-08-14</td>\n",
       "      <td>3190</td>\n",
       "      <td>A</td>\n",
       "    </tr>\n",
       "    <tr>\n",
       "      <td>1194</td>\n",
       "      <td>1807773912</td>\n",
       "      <td>573423106</td>\n",
       "      <td>2019-08-14</td>\n",
       "      <td>10550</td>\n",
       "      <td>A</td>\n",
       "    </tr>\n",
       "    <tr>\n",
       "      <td>1195</td>\n",
       "      <td>1947021204</td>\n",
       "      <td>1614305549</td>\n",
       "      <td>2019-08-14</td>\n",
       "      <td>100</td>\n",
       "      <td>A</td>\n",
       "    </tr>\n",
       "    <tr>\n",
       "      <td>1196</td>\n",
       "      <td>3936777065</td>\n",
       "      <td>2108080724</td>\n",
       "      <td>2019-08-15</td>\n",
       "      <td>202740</td>\n",
       "      <td>B</td>\n",
       "    </tr>\n",
       "  </tbody>\n",
       "</table>\n",
       "</div>"
      ],
      "text/plain": [
       "      transactionId   visitorId        date  revenue group\n",
       "1192     2662137336  3733762160  2019-08-14     6490     B\n",
       "1193     2203539145   370388673  2019-08-14     3190     A\n",
       "1194     1807773912   573423106  2019-08-14    10550     A\n",
       "1195     1947021204  1614305549  2019-08-14      100     A\n",
       "1196     3936777065  2108080724  2019-08-15   202740     B"
      ]
     },
     "metadata": {},
     "output_type": "display_data"
    },
    {
     "data": {
      "text/html": [
       "<div>\n",
       "<style scoped>\n",
       "    .dataframe tbody tr th:only-of-type {\n",
       "        vertical-align: middle;\n",
       "    }\n",
       "\n",
       "    .dataframe tbody tr th {\n",
       "        vertical-align: top;\n",
       "    }\n",
       "\n",
       "    .dataframe thead th {\n",
       "        text-align: right;\n",
       "    }\n",
       "</style>\n",
       "<table border=\"1\" class=\"dataframe\">\n",
       "  <thead>\n",
       "    <tr style=\"text-align: right;\">\n",
       "      <th></th>\n",
       "      <th>transactionId</th>\n",
       "      <th>visitorId</th>\n",
       "      <th>date</th>\n",
       "      <th>revenue</th>\n",
       "      <th>group</th>\n",
       "    </tr>\n",
       "  </thead>\n",
       "  <tbody>\n",
       "    <tr>\n",
       "      <td>39</td>\n",
       "      <td>1950404403</td>\n",
       "      <td>114507418</td>\n",
       "      <td>2019-08-15</td>\n",
       "      <td>610</td>\n",
       "      <td>B</td>\n",
       "    </tr>\n",
       "    <tr>\n",
       "      <td>823</td>\n",
       "      <td>2971973105</td>\n",
       "      <td>199603092</td>\n",
       "      <td>2019-08-27</td>\n",
       "      <td>2790</td>\n",
       "      <td>A</td>\n",
       "    </tr>\n",
       "    <tr>\n",
       "      <td>922</td>\n",
       "      <td>4223601037</td>\n",
       "      <td>1611907877</td>\n",
       "      <td>2019-08-10</td>\n",
       "      <td>2250</td>\n",
       "      <td>B</td>\n",
       "    </tr>\n",
       "    <tr>\n",
       "      <td>976</td>\n",
       "      <td>260086319</td>\n",
       "      <td>2156256996</td>\n",
       "      <td>2019-08-22</td>\n",
       "      <td>2907</td>\n",
       "      <td>B</td>\n",
       "    </tr>\n",
       "    <tr>\n",
       "      <td>587</td>\n",
       "      <td>1482923642</td>\n",
       "      <td>666694713</td>\n",
       "      <td>2019-08-20</td>\n",
       "      <td>1290</td>\n",
       "      <td>B</td>\n",
       "    </tr>\n",
       "  </tbody>\n",
       "</table>\n",
       "</div>"
      ],
      "text/plain": [
       "     transactionId   visitorId        date  revenue group\n",
       "39      1950404403   114507418  2019-08-15      610     B\n",
       "823     2971973105   199603092  2019-08-27     2790     A\n",
       "922     4223601037  1611907877  2019-08-10     2250     B\n",
       "976      260086319  2156256996  2019-08-22     2907     B\n",
       "587     1482923642   666694713  2019-08-20     1290     B"
      ]
     },
     "metadata": {},
     "output_type": "display_data"
    },
    {
     "name": "stdout",
     "output_type": "stream",
     "text": [
      "<class 'pandas.core.frame.DataFrame'>\n",
      "RangeIndex: 1197 entries, 0 to 1196\n",
      "Data columns (total 5 columns):\n",
      "transactionId    1197 non-null int64\n",
      "visitorId        1197 non-null int64\n",
      "date             1197 non-null object\n",
      "revenue          1197 non-null int64\n",
      "group            1197 non-null object\n",
      "dtypes: int64(3), object(2)\n",
      "memory usage: 46.9+ KB\n"
     ]
    },
    {
     "data": {
      "text/plain": [
       "None"
      ]
     },
     "metadata": {},
     "output_type": "display_data"
    },
    {
     "data": {
      "text/html": [
       "<div>\n",
       "<style scoped>\n",
       "    .dataframe tbody tr th:only-of-type {\n",
       "        vertical-align: middle;\n",
       "    }\n",
       "\n",
       "    .dataframe tbody tr th {\n",
       "        vertical-align: top;\n",
       "    }\n",
       "\n",
       "    .dataframe thead th {\n",
       "        text-align: right;\n",
       "    }\n",
       "</style>\n",
       "<table border=\"1\" class=\"dataframe\">\n",
       "  <thead>\n",
       "    <tr style=\"text-align: right;\">\n",
       "      <th></th>\n",
       "      <th>transactionId</th>\n",
       "      <th>visitorId</th>\n",
       "      <th>revenue</th>\n",
       "    </tr>\n",
       "  </thead>\n",
       "  <tbody>\n",
       "    <tr>\n",
       "      <td>count</td>\n",
       "      <td>1.197000e+03</td>\n",
       "      <td>1.197000e+03</td>\n",
       "      <td>1.197000e+03</td>\n",
       "    </tr>\n",
       "    <tr>\n",
       "      <td>mean</td>\n",
       "      <td>2.155621e+09</td>\n",
       "      <td>2.165960e+09</td>\n",
       "      <td>8.348006e+03</td>\n",
       "    </tr>\n",
       "    <tr>\n",
       "      <td>std</td>\n",
       "      <td>1.229085e+09</td>\n",
       "      <td>1.236014e+09</td>\n",
       "      <td>3.919113e+04</td>\n",
       "    </tr>\n",
       "    <tr>\n",
       "      <td>min</td>\n",
       "      <td>1.062393e+06</td>\n",
       "      <td>5.114589e+06</td>\n",
       "      <td>5.000000e+01</td>\n",
       "    </tr>\n",
       "    <tr>\n",
       "      <td>25%</td>\n",
       "      <td>1.166776e+09</td>\n",
       "      <td>1.111826e+09</td>\n",
       "      <td>1.220000e+03</td>\n",
       "    </tr>\n",
       "    <tr>\n",
       "      <td>50%</td>\n",
       "      <td>2.145194e+09</td>\n",
       "      <td>2.217985e+09</td>\n",
       "      <td>2.978000e+03</td>\n",
       "    </tr>\n",
       "    <tr>\n",
       "      <td>75%</td>\n",
       "      <td>3.237740e+09</td>\n",
       "      <td>3.177606e+09</td>\n",
       "      <td>8.290000e+03</td>\n",
       "    </tr>\n",
       "    <tr>\n",
       "      <td>max</td>\n",
       "      <td>4.293856e+09</td>\n",
       "      <td>4.283872e+09</td>\n",
       "      <td>1.294500e+06</td>\n",
       "    </tr>\n",
       "  </tbody>\n",
       "</table>\n",
       "</div>"
      ],
      "text/plain": [
       "       transactionId     visitorId       revenue\n",
       "count   1.197000e+03  1.197000e+03  1.197000e+03\n",
       "mean    2.155621e+09  2.165960e+09  8.348006e+03\n",
       "std     1.229085e+09  1.236014e+09  3.919113e+04\n",
       "min     1.062393e+06  5.114589e+06  5.000000e+01\n",
       "25%     1.166776e+09  1.111826e+09  1.220000e+03\n",
       "50%     2.145194e+09  2.217985e+09  2.978000e+03\n",
       "75%     3.237740e+09  3.177606e+09  8.290000e+03\n",
       "max     4.293856e+09  4.283872e+09  1.294500e+06"
      ]
     },
     "metadata": {},
     "output_type": "display_data"
    }
   ],
   "source": [
    "display(orders.head(5))\n",
    "display(orders.tail(5))\n",
    "display(orders.sample(5))\n",
    "display(orders.info())\n",
    "display(orders.describe())"
   ]
  },
  {
   "cell_type": "code",
   "execution_count": 381,
   "metadata": {},
   "outputs": [
    {
     "data": {
      "text/plain": [
       "0"
      ]
     },
     "execution_count": 381,
     "metadata": {},
     "output_type": "execute_result"
    }
   ],
   "source": [
    "orders.duplicated().sum()"
   ]
  },
  {
   "cell_type": "code",
   "execution_count": 382,
   "metadata": {},
   "outputs": [],
   "source": [
    "orders['date'] = pd.to_datetime(orders['date'], format='%Y-%m-%d')"
   ]
  },
  {
   "cell_type": "markdown",
   "metadata": {},
   "source": [
    "Пропусков и дубликатов в таблице orders нет. Тип данных в столбце ['date'] изменён на datetime."
   ]
  },
  {
   "cell_type": "code",
   "execution_count": 386,
   "metadata": {},
   "outputs": [
    {
     "data": {
      "text/plain": [
       "58"
      ]
     },
     "execution_count": 386,
     "metadata": {},
     "output_type": "execute_result"
    }
   ],
   "source": [
    "Abuyers = set(orders[orders['group'] == 'A']['visitorId'].unique())\n",
    "Bbuyers = set(orders[orders['group'] == 'B']['visitorId'].unique())\n",
    "ABbuyers = Abuyers & Bbuyers\n",
    "len(ABbuyers)"
   ]
  },
  {
   "cell_type": "markdown",
   "metadata": {},
   "source": [
    "58 пользователей попали в обе группы."
   ]
  },
  {
   "cell_type": "code",
   "execution_count": 388,
   "metadata": {},
   "outputs": [],
   "source": [
    "orders = orders[np.logical_not(orders['visitorId'].isin(ABbuyers))]"
   ]
  },
  {
   "cell_type": "code",
   "execution_count": 389,
   "metadata": {},
   "outputs": [
    {
     "data": {
      "text/html": [
       "<div>\n",
       "<style scoped>\n",
       "    .dataframe tbody tr th:only-of-type {\n",
       "        vertical-align: middle;\n",
       "    }\n",
       "\n",
       "    .dataframe tbody tr th {\n",
       "        vertical-align: top;\n",
       "    }\n",
       "\n",
       "    .dataframe thead th {\n",
       "        text-align: right;\n",
       "    }\n",
       "</style>\n",
       "<table border=\"1\" class=\"dataframe\">\n",
       "  <thead>\n",
       "    <tr style=\"text-align: right;\">\n",
       "      <th></th>\n",
       "      <th>transactionId</th>\n",
       "      <th>visitorId</th>\n",
       "      <th>date</th>\n",
       "      <th>revenue</th>\n",
       "      <th>group</th>\n",
       "    </tr>\n",
       "  </thead>\n",
       "  <tbody>\n",
       "    <tr>\n",
       "      <td>0</td>\n",
       "      <td>3667963787</td>\n",
       "      <td>3312258926</td>\n",
       "      <td>2019-08-15</td>\n",
       "      <td>1650</td>\n",
       "      <td>B</td>\n",
       "    </tr>\n",
       "    <tr>\n",
       "      <td>1</td>\n",
       "      <td>2804400009</td>\n",
       "      <td>3642806036</td>\n",
       "      <td>2019-08-15</td>\n",
       "      <td>730</td>\n",
       "      <td>B</td>\n",
       "    </tr>\n",
       "    <tr>\n",
       "      <td>3</td>\n",
       "      <td>3797467345</td>\n",
       "      <td>1196621759</td>\n",
       "      <td>2019-08-15</td>\n",
       "      <td>9759</td>\n",
       "      <td>B</td>\n",
       "    </tr>\n",
       "    <tr>\n",
       "      <td>4</td>\n",
       "      <td>2282983706</td>\n",
       "      <td>2322279887</td>\n",
       "      <td>2019-08-15</td>\n",
       "      <td>2308</td>\n",
       "      <td>B</td>\n",
       "    </tr>\n",
       "    <tr>\n",
       "      <td>5</td>\n",
       "      <td>182168103</td>\n",
       "      <td>935554773</td>\n",
       "      <td>2019-08-15</td>\n",
       "      <td>2210</td>\n",
       "      <td>B</td>\n",
       "    </tr>\n",
       "    <tr>\n",
       "      <td>...</td>\n",
       "      <td>...</td>\n",
       "      <td>...</td>\n",
       "      <td>...</td>\n",
       "      <td>...</td>\n",
       "      <td>...</td>\n",
       "    </tr>\n",
       "    <tr>\n",
       "      <td>1191</td>\n",
       "      <td>3592955527</td>\n",
       "      <td>608641596</td>\n",
       "      <td>2019-08-14</td>\n",
       "      <td>16490</td>\n",
       "      <td>B</td>\n",
       "    </tr>\n",
       "    <tr>\n",
       "      <td>1192</td>\n",
       "      <td>2662137336</td>\n",
       "      <td>3733762160</td>\n",
       "      <td>2019-08-14</td>\n",
       "      <td>6490</td>\n",
       "      <td>B</td>\n",
       "    </tr>\n",
       "    <tr>\n",
       "      <td>1193</td>\n",
       "      <td>2203539145</td>\n",
       "      <td>370388673</td>\n",
       "      <td>2019-08-14</td>\n",
       "      <td>3190</td>\n",
       "      <td>A</td>\n",
       "    </tr>\n",
       "    <tr>\n",
       "      <td>1194</td>\n",
       "      <td>1807773912</td>\n",
       "      <td>573423106</td>\n",
       "      <td>2019-08-14</td>\n",
       "      <td>10550</td>\n",
       "      <td>A</td>\n",
       "    </tr>\n",
       "    <tr>\n",
       "      <td>1196</td>\n",
       "      <td>3936777065</td>\n",
       "      <td>2108080724</td>\n",
       "      <td>2019-08-15</td>\n",
       "      <td>202740</td>\n",
       "      <td>B</td>\n",
       "    </tr>\n",
       "  </tbody>\n",
       "</table>\n",
       "<p>1016 rows × 5 columns</p>\n",
       "</div>"
      ],
      "text/plain": [
       "      transactionId   visitorId       date  revenue group\n",
       "0        3667963787  3312258926 2019-08-15     1650     B\n",
       "1        2804400009  3642806036 2019-08-15      730     B\n",
       "3        3797467345  1196621759 2019-08-15     9759     B\n",
       "4        2282983706  2322279887 2019-08-15     2308     B\n",
       "5         182168103   935554773 2019-08-15     2210     B\n",
       "...             ...         ...        ...      ...   ...\n",
       "1191     3592955527   608641596 2019-08-14    16490     B\n",
       "1192     2662137336  3733762160 2019-08-14     6490     B\n",
       "1193     2203539145   370388673 2019-08-14     3190     A\n",
       "1194     1807773912   573423106 2019-08-14    10550     A\n",
       "1196     3936777065  2108080724 2019-08-15   202740     B\n",
       "\n",
       "[1016 rows x 5 columns]"
      ]
     },
     "execution_count": 389,
     "metadata": {},
     "output_type": "execute_result"
    }
   ],
   "source": [
    "orders"
   ]
  },
  {
   "cell_type": "code",
   "execution_count": 390,
   "metadata": {},
   "outputs": [],
   "source": [
    "visitors = pd.read_csv('/datasets/visitors.csv')"
   ]
  },
  {
   "cell_type": "code",
   "execution_count": 391,
   "metadata": {},
   "outputs": [
    {
     "data": {
      "text/html": [
       "<div>\n",
       "<style scoped>\n",
       "    .dataframe tbody tr th:only-of-type {\n",
       "        vertical-align: middle;\n",
       "    }\n",
       "\n",
       "    .dataframe tbody tr th {\n",
       "        vertical-align: top;\n",
       "    }\n",
       "\n",
       "    .dataframe thead th {\n",
       "        text-align: right;\n",
       "    }\n",
       "</style>\n",
       "<table border=\"1\" class=\"dataframe\">\n",
       "  <thead>\n",
       "    <tr style=\"text-align: right;\">\n",
       "      <th></th>\n",
       "      <th>date</th>\n",
       "      <th>group</th>\n",
       "      <th>visitors</th>\n",
       "    </tr>\n",
       "  </thead>\n",
       "  <tbody>\n",
       "    <tr>\n",
       "      <td>0</td>\n",
       "      <td>2019-08-01</td>\n",
       "      <td>A</td>\n",
       "      <td>719</td>\n",
       "    </tr>\n",
       "    <tr>\n",
       "      <td>1</td>\n",
       "      <td>2019-08-02</td>\n",
       "      <td>A</td>\n",
       "      <td>619</td>\n",
       "    </tr>\n",
       "    <tr>\n",
       "      <td>2</td>\n",
       "      <td>2019-08-03</td>\n",
       "      <td>A</td>\n",
       "      <td>507</td>\n",
       "    </tr>\n",
       "    <tr>\n",
       "      <td>3</td>\n",
       "      <td>2019-08-04</td>\n",
       "      <td>A</td>\n",
       "      <td>717</td>\n",
       "    </tr>\n",
       "    <tr>\n",
       "      <td>4</td>\n",
       "      <td>2019-08-05</td>\n",
       "      <td>A</td>\n",
       "      <td>756</td>\n",
       "    </tr>\n",
       "  </tbody>\n",
       "</table>\n",
       "</div>"
      ],
      "text/plain": [
       "         date group  visitors\n",
       "0  2019-08-01     A       719\n",
       "1  2019-08-02     A       619\n",
       "2  2019-08-03     A       507\n",
       "3  2019-08-04     A       717\n",
       "4  2019-08-05     A       756"
      ]
     },
     "metadata": {},
     "output_type": "display_data"
    },
    {
     "data": {
      "text/html": [
       "<div>\n",
       "<style scoped>\n",
       "    .dataframe tbody tr th:only-of-type {\n",
       "        vertical-align: middle;\n",
       "    }\n",
       "\n",
       "    .dataframe tbody tr th {\n",
       "        vertical-align: top;\n",
       "    }\n",
       "\n",
       "    .dataframe thead th {\n",
       "        text-align: right;\n",
       "    }\n",
       "</style>\n",
       "<table border=\"1\" class=\"dataframe\">\n",
       "  <thead>\n",
       "    <tr style=\"text-align: right;\">\n",
       "      <th></th>\n",
       "      <th>date</th>\n",
       "      <th>group</th>\n",
       "      <th>visitors</th>\n",
       "    </tr>\n",
       "  </thead>\n",
       "  <tbody>\n",
       "    <tr>\n",
       "      <td>57</td>\n",
       "      <td>2019-08-27</td>\n",
       "      <td>B</td>\n",
       "      <td>720</td>\n",
       "    </tr>\n",
       "    <tr>\n",
       "      <td>58</td>\n",
       "      <td>2019-08-28</td>\n",
       "      <td>B</td>\n",
       "      <td>654</td>\n",
       "    </tr>\n",
       "    <tr>\n",
       "      <td>59</td>\n",
       "      <td>2019-08-29</td>\n",
       "      <td>B</td>\n",
       "      <td>531</td>\n",
       "    </tr>\n",
       "    <tr>\n",
       "      <td>60</td>\n",
       "      <td>2019-08-30</td>\n",
       "      <td>B</td>\n",
       "      <td>490</td>\n",
       "    </tr>\n",
       "    <tr>\n",
       "      <td>61</td>\n",
       "      <td>2019-08-31</td>\n",
       "      <td>B</td>\n",
       "      <td>718</td>\n",
       "    </tr>\n",
       "  </tbody>\n",
       "</table>\n",
       "</div>"
      ],
      "text/plain": [
       "          date group  visitors\n",
       "57  2019-08-27     B       720\n",
       "58  2019-08-28     B       654\n",
       "59  2019-08-29     B       531\n",
       "60  2019-08-30     B       490\n",
       "61  2019-08-31     B       718"
      ]
     },
     "metadata": {},
     "output_type": "display_data"
    },
    {
     "data": {
      "text/html": [
       "<div>\n",
       "<style scoped>\n",
       "    .dataframe tbody tr th:only-of-type {\n",
       "        vertical-align: middle;\n",
       "    }\n",
       "\n",
       "    .dataframe tbody tr th {\n",
       "        vertical-align: top;\n",
       "    }\n",
       "\n",
       "    .dataframe thead th {\n",
       "        text-align: right;\n",
       "    }\n",
       "</style>\n",
       "<table border=\"1\" class=\"dataframe\">\n",
       "  <thead>\n",
       "    <tr style=\"text-align: right;\">\n",
       "      <th></th>\n",
       "      <th>date</th>\n",
       "      <th>group</th>\n",
       "      <th>visitors</th>\n",
       "    </tr>\n",
       "  </thead>\n",
       "  <tbody>\n",
       "    <tr>\n",
       "      <td>28</td>\n",
       "      <td>2019-08-29</td>\n",
       "      <td>A</td>\n",
       "      <td>577</td>\n",
       "    </tr>\n",
       "    <tr>\n",
       "      <td>54</td>\n",
       "      <td>2019-08-24</td>\n",
       "      <td>B</td>\n",
       "      <td>378</td>\n",
       "    </tr>\n",
       "    <tr>\n",
       "      <td>44</td>\n",
       "      <td>2019-08-14</td>\n",
       "      <td>B</td>\n",
       "      <td>746</td>\n",
       "    </tr>\n",
       "    <tr>\n",
       "      <td>10</td>\n",
       "      <td>2019-08-11</td>\n",
       "      <td>A</td>\n",
       "      <td>718</td>\n",
       "    </tr>\n",
       "    <tr>\n",
       "      <td>9</td>\n",
       "      <td>2019-08-10</td>\n",
       "      <td>A</td>\n",
       "      <td>406</td>\n",
       "    </tr>\n",
       "  </tbody>\n",
       "</table>\n",
       "</div>"
      ],
      "text/plain": [
       "          date group  visitors\n",
       "28  2019-08-29     A       577\n",
       "54  2019-08-24     B       378\n",
       "44  2019-08-14     B       746\n",
       "10  2019-08-11     A       718\n",
       "9   2019-08-10     A       406"
      ]
     },
     "metadata": {},
     "output_type": "display_data"
    },
    {
     "name": "stdout",
     "output_type": "stream",
     "text": [
      "<class 'pandas.core.frame.DataFrame'>\n",
      "RangeIndex: 62 entries, 0 to 61\n",
      "Data columns (total 3 columns):\n",
      "date        62 non-null object\n",
      "group       62 non-null object\n",
      "visitors    62 non-null int64\n",
      "dtypes: int64(1), object(2)\n",
      "memory usage: 1.6+ KB\n"
     ]
    },
    {
     "data": {
      "text/plain": [
       "None"
      ]
     },
     "metadata": {},
     "output_type": "display_data"
    },
    {
     "data": {
      "text/html": [
       "<div>\n",
       "<style scoped>\n",
       "    .dataframe tbody tr th:only-of-type {\n",
       "        vertical-align: middle;\n",
       "    }\n",
       "\n",
       "    .dataframe tbody tr th {\n",
       "        vertical-align: top;\n",
       "    }\n",
       "\n",
       "    .dataframe thead th {\n",
       "        text-align: right;\n",
       "    }\n",
       "</style>\n",
       "<table border=\"1\" class=\"dataframe\">\n",
       "  <thead>\n",
       "    <tr style=\"text-align: right;\">\n",
       "      <th></th>\n",
       "      <th>visitors</th>\n",
       "    </tr>\n",
       "  </thead>\n",
       "  <tbody>\n",
       "    <tr>\n",
       "      <td>count</td>\n",
       "      <td>62.000000</td>\n",
       "    </tr>\n",
       "    <tr>\n",
       "      <td>mean</td>\n",
       "      <td>607.290323</td>\n",
       "    </tr>\n",
       "    <tr>\n",
       "      <td>std</td>\n",
       "      <td>114.400560</td>\n",
       "    </tr>\n",
       "    <tr>\n",
       "      <td>min</td>\n",
       "      <td>361.000000</td>\n",
       "    </tr>\n",
       "    <tr>\n",
       "      <td>25%</td>\n",
       "      <td>534.000000</td>\n",
       "    </tr>\n",
       "    <tr>\n",
       "      <td>50%</td>\n",
       "      <td>624.500000</td>\n",
       "    </tr>\n",
       "    <tr>\n",
       "      <td>75%</td>\n",
       "      <td>710.500000</td>\n",
       "    </tr>\n",
       "    <tr>\n",
       "      <td>max</td>\n",
       "      <td>770.000000</td>\n",
       "    </tr>\n",
       "  </tbody>\n",
       "</table>\n",
       "</div>"
      ],
      "text/plain": [
       "         visitors\n",
       "count   62.000000\n",
       "mean   607.290323\n",
       "std    114.400560\n",
       "min    361.000000\n",
       "25%    534.000000\n",
       "50%    624.500000\n",
       "75%    710.500000\n",
       "max    770.000000"
      ]
     },
     "metadata": {},
     "output_type": "display_data"
    }
   ],
   "source": [
    "display(visitors.head(5))\n",
    "display(visitors.tail(5))\n",
    "display(visitors.sample(5))\n",
    "display(visitors.info())\n",
    "display(visitors.describe())"
   ]
  },
  {
   "cell_type": "code",
   "execution_count": 392,
   "metadata": {},
   "outputs": [
    {
     "data": {
      "text/plain": [
       "0"
      ]
     },
     "execution_count": 392,
     "metadata": {},
     "output_type": "execute_result"
    }
   ],
   "source": [
    "visitors.duplicated().sum()"
   ]
  },
  {
   "cell_type": "code",
   "execution_count": 393,
   "metadata": {},
   "outputs": [],
   "source": [
    "visitors['date'] = pd.to_datetime(visitors['date'], format='%Y-%m-%d')"
   ]
  },
  {
   "cell_type": "markdown",
   "metadata": {},
   "source": [
    "Пропусков и дубликатов в таблице orders нет. Тип данных в столбце ['date'] изменён на datetime."
   ]
  },
  {
   "cell_type": "markdown",
   "metadata": {},
   "source": [
    "### Расчёт и анализ кумулятивных показателей"
   ]
  },
  {
   "cell_type": "code",
   "execution_count": 394,
   "metadata": {},
   "outputs": [],
   "source": [
    "datesGroups = orders[['date','group']].drop_duplicates()"
   ]
  },
  {
   "cell_type": "code",
   "execution_count": 395,
   "metadata": {},
   "outputs": [],
   "source": [
    "ordersAggregated = datesGroups.apply(lambda x: orders[np.logical_and(orders['date'] <= x['date'], orders['group'] == x['group'])].agg({'date' : 'max', 'group' : 'max', 'transactionId' : 'nunique', 'visitorId' : 'nunique', 'revenue' : 'sum'}), axis=1).sort_values(by=['date','group'])"
   ]
  },
  {
   "cell_type": "code",
   "execution_count": 396,
   "metadata": {},
   "outputs": [],
   "source": [
    "visitorsAggregated = datesGroups.apply(lambda x: visitors[np.logical_and(visitors['date'] <= x['date'], visitors['group'] == x['group'])].agg({'date': 'max', 'group': 'max', 'visitors': 'sum'}), axis=1).sort_values(by=['date', 'group'])"
   ]
  },
  {
   "cell_type": "code",
   "execution_count": 397,
   "metadata": {},
   "outputs": [],
   "source": [
    "cumulativeData = ordersAggregated.merge(visitorsAggregated, on=['date', 'group'])\n",
    "cumulativeData.columns = ['date', 'group', 'orders', 'buyers', 'revenue', 'visitors']"
   ]
  },
  {
   "cell_type": "code",
   "execution_count": 398,
   "metadata": {},
   "outputs": [],
   "source": [
    "cumulativeRevenueA = cumulativeData[cumulativeData['group'] == 'A'][['date', 'revenue', 'orders']]\n",
    "cumulativeRevenueB = cumulativeData[cumulativeData['group'] == 'B'][['date', 'revenue', 'orders']]"
   ]
  },
  {
   "cell_type": "code",
   "execution_count": 399,
   "metadata": {
    "scrolled": false
   },
   "outputs": [
    {
     "data": {
      "image/png": "[encoded data removed]",
      "text/plain": [
       "<Figure size 1080x360 with 1 Axes>"
      ]
     },
     "metadata": {
      "needs_background": "light"
     },
     "output_type": "display_data"
    }
   ],
   "source": [
    "plt.figure(figsize=(15, 5))\n",
    "plt.title('Кумулятивная выручка по группам')\n",
    "plt.plot(cumulativeRevenueA['date'], cumulativeRevenueA['revenue'], label='A');\n",
    "plt.plot(cumulativeRevenueB['date'], cumulativeRevenueB['revenue'], label='B');\n",
    "plt.xlabel('дата')\n",
    "plt.ylabel('у.е.')\n",
    "plt.legend();\n",
    "plt.annotate('скачок', xy=('2019-08-17', 2800000), xytext=('2019-08-10', 3500000), arrowprops=dict(facecolor='g'));\n",
    "plt.annotate('отрыв', xy=('2019-08-05', 800000), xytext=('2019-08-05', 2000000), arrowprops=dict(facecolor='g'));"
   ]
  },
  {
   "cell_type": "markdown",
   "metadata": {},
   "source": [
    "Выручка по обеим группе В больше, чем выручка по группе А."
   ]
  },
  {
   "cell_type": "code",
   "execution_count": 400,
   "metadata": {},
   "outputs": [
    {
     "data": {
      "image/png": "[encoded data removed]",
      "text/plain": [
       "<Figure size 720x360 with 1 Axes>"
      ]
     },
     "metadata": {
      "needs_background": "light"
     },
     "output_type": "display_data"
    }
   ],
   "source": [
    "plt.figure(figsize=(10, 5))\n",
    "plt.title('Кумулятивный средний чек по группам')\n",
    "plt.plot(cumulativeRevenueA['date'], cumulativeRevenueA['revenue']/cumulativeRevenueA['orders'], label='A');\n",
    "plt.plot(cumulativeRevenueB['date'], cumulativeRevenueB['revenue']/cumulativeRevenueB['orders'], label='B');\n",
    "plt.xlabel('дата')\n",
    "plt.ylabel('у.е')\n",
    "plt.legend();\n",
    "plt.annotate('скачок', xy=('2019-08-17', 7500), xytext=('2019-08-10', 9000), arrowprops=dict(facecolor='g'));"
   ]
  },
  {
   "cell_type": "markdown",
   "metadata": {},
   "source": [
    "Средний чек группы В больше, чем средний чек группы А. 18 августа наблюдается резкое увеличение среднего чека группы В, что может быть связано с единичными очень дорогими покупками."
   ]
  },
  {
   "cell_type": "code",
   "execution_count": 401,
   "metadata": {},
   "outputs": [],
   "source": [
    "mergedCumulativeRevenue = cumulativeRevenueA.merge(cumulativeRevenueB, on='date', suffixes=['A', 'B'])"
   ]
  },
  {
   "cell_type": "code",
   "execution_count": 402,
   "metadata": {},
   "outputs": [
    {
     "data": {
      "image/png": "[encoded data removed]",
      "text/plain": [
       "<Figure size 720x360 with 1 Axes>"
      ]
     },
     "metadata": {
      "needs_background": "light"
     },
     "output_type": "display_data"
    }
   ],
   "source": [
    "plt.figure(figsize=(10, 5))\n",
    "plt.title('Относительное изменение среднего чека группы В к группе А')\n",
    "plt.plot(mergedCumulativeRevenue['date'], (mergedCumulativeRevenue['revenueB'] / mergedCumulativeRevenue['ordersB']) / (mergedCumulativeRevenue['revenueA'] / mergedCumulativeRevenue['ordersA']) - 1);\n",
    "plt.xlabel('дата')\n",
    "plt.ylabel('коэффициент')\n",
    "plt.axhline(y=0, linestyle='--', color='black');"
   ]
  },
  {
   "cell_type": "markdown",
   "metadata": {},
   "source": [
    "Средний чек группы В больше, чем средний чек группы А. Наблюдается несколько пиков, значит, в данных есть большие заказы."
   ]
  },
  {
   "cell_type": "code",
   "execution_count": 403,
   "metadata": {},
   "outputs": [],
   "source": [
    "cumulativeData['conversion'] = cumulativeData['buyers'] / cumulativeData['visitors']\n",
    "cumulativeDataA = cumulativeData[cumulativeData['group'] == 'A']\n",
    "cumulativeDataB = cumulativeData[cumulativeData['group'] == 'B']"
   ]
  },
  {
   "cell_type": "code",
   "execution_count": 404,
   "metadata": {},
   "outputs": [
    {
     "data": {
      "image/png": "[encoded data removed]",
      "text/plain": [
       "<Figure size 720x360 with 1 Axes>"
      ]
     },
     "metadata": {
      "needs_background": "light"
     },
     "output_type": "display_data"
    }
   ],
   "source": [
    "plt.figure(figsize=(10, 5))\n",
    "plt.title('Кумулятивная конверсия по группам')\n",
    "plt.plot(cumulativeDataA['date'], cumulativeDataA['conversion'], label='A')\n",
    "plt.plot(cumulativeDataB['date'], cumulativeDataB['conversion'], label='B')\n",
    "plt.legend();\n",
    "plt.xlabel('дата')\n",
    "plt.ylabel('конверсия')\n",
    "plt.axis([\"2019-08-01\", '2019-08-15', 0, 0.05]);\n",
    "plt.annotate('отрыв', xy=('2019-08-05', 0.032), xytext=('2019-08-03', 0.04), arrowprops=dict(facecolor='g'));"
   ]
  },
  {
   "cell_type": "markdown",
   "metadata": {},
   "source": [
    "Коммулятивная конверсия в группе В больше, чем в группе А."
   ]
  },
  {
   "cell_type": "code",
   "execution_count": 405,
   "metadata": {},
   "outputs": [],
   "source": [
    "mergedCumulativeConversion = cumulativeDataA[['date', 'conversion']].merge(cumulativeDataB[['date', 'conversion']], on='date', suffixes=['A', 'B'])"
   ]
  },
  {
   "cell_type": "code",
   "execution_count": 406,
   "metadata": {},
   "outputs": [
    {
     "data": {
      "image/png": "[encoded data removed]",
      "text/plain": [
       "<Figure size 720x360 with 1 Axes>"
      ]
     },
     "metadata": {
      "needs_background": "light"
     },
     "output_type": "display_data"
    }
   ],
   "source": [
    "plt.figure(figsize=(10, 5))\n",
    "plt.title('Относительное изменение конверсии группы В к группе А')\n",
    "plt.plot(mergedCumulativeConversion['date'], mergedCumulativeConversion['conversionB'] / mergedCumulativeConversion['conversionA'] - 1);\n",
    "plt.axhline(y=0, linestyle='--', color='black');\n",
    "plt.xlabel('дата')\n",
    "plt.ylabel('коэффициент')\n",
    "plt.axis([\"2019-08-01\", '2019-08-15', -0.2, 0.5]); "
   ]
  },
  {
   "cell_type": "markdown",
   "metadata": {},
   "source": [
    "Конверсия группы В больше, чем конверсия группы А."
   ]
  },
  {
   "cell_type": "markdown",
   "metadata": {},
   "source": [
    "### Поиск аномалий"
   ]
  },
  {
   "cell_type": "code",
   "execution_count": 407,
   "metadata": {},
   "outputs": [],
   "source": [
    "cumulativeData['orders_per_buyers'] = cumulativeData['orders'] / cumulativeData['buyers']"
   ]
  },
  {
   "cell_type": "code",
   "execution_count": 409,
   "metadata": {
    "scrolled": true
   },
   "outputs": [
    {
     "data": {
      "image/png": "[encoded data removed]",
      "text/plain": [
       "<Figure size 432x288 with 1 Axes>"
      ]
     },
     "metadata": {
      "needs_background": "light"
     },
     "output_type": "display_data"
    }
   ],
   "source": [
    "ordersByUsers = orders.groupby('visitorId', as_index=False).agg({'transactionId': 'nunique'})\n",
    "ordersByUsers.columns = ['buyers', 'orders']\n",
    "ordersByUsers.plot(kind='scatter', x='buyers', y='orders', title=('Количество заказов по пользвателям'));"
   ]
  },
  {
   "cell_type": "code",
   "execution_count": 411,
   "metadata": {},
   "outputs": [
    {
     "data": {
      "text/plain": [
       "array([1., 2.])"
      ]
     },
     "execution_count": 411,
     "metadata": {},
     "output_type": "execute_result"
    }
   ],
   "source": [
    "np.percentile(ordersByUsers['orders'], [95, 99])"
   ]
  },
  {
   "cell_type": "markdown",
   "metadata": {},
   "source": [
    "5% пользователей сделали больше 2 заказов, а 1% - больше 4."
   ]
  },
  {
   "cell_type": "code",
   "execution_count": 412,
   "metadata": {},
   "outputs": [
    {
     "data": {
      "text/plain": [
       "0      1\n",
       "636    1\n",
       "637    1\n",
       "638    1\n",
       "639    1\n",
       "      ..\n",
       "138    3\n",
       "908    3\n",
       "632    3\n",
       "890    3\n",
       "55     3\n",
       "Name: orders, Length: 973, dtype: int64"
      ]
     },
     "execution_count": 412,
     "metadata": {},
     "output_type": "execute_result"
    }
   ],
   "source": [
    "ordersByUsers['orders'].sort_values()"
   ]
  },
  {
   "cell_type": "code",
   "execution_count": 415,
   "metadata": {},
   "outputs": [
    {
     "data": {
      "image/png": "[encoded data removed]",
      "text/plain": [
       "<Figure size 432x288 with 1 Axes>"
      ]
     },
     "metadata": {
      "needs_background": "light"
     },
     "output_type": "display_data"
    }
   ],
   "source": [
    "x_values = pd.Series(range(0,len(orders['revenue'])))\n",
    "plt.title('Стоимость заказов')\n",
    "plt.scatter(x_values, orders['revenue']);\n",
    "plt.xlabel('заказы');\n",
    "plt.ylabel('у.е');"
   ]
  },
  {
   "cell_type": "code",
   "execution_count": 416,
   "metadata": {},
   "outputs": [
    {
     "data": {
      "text/plain": [
       "array([26785., 53904.])"
      ]
     },
     "execution_count": 416,
     "metadata": {},
     "output_type": "execute_result"
    }
   ],
   "source": [
    "np.percentile(orders['revenue'], [95, 99])"
   ]
  },
  {
   "cell_type": "markdown",
   "metadata": {},
   "source": [
    "5% заказов дороже 27 460, а 1% - дороже 55 936."
   ]
  },
  {
   "cell_type": "markdown",
   "metadata": {},
   "source": [
    "### Анализ результатов A/B-теста"
   ]
  },
  {
   "cell_type": "markdown",
   "metadata": {},
   "source": [
    "#### По \"сырым\" данным"
   ]
  },
  {
   "cell_type": "code",
   "execution_count": 417,
   "metadata": {},
   "outputs": [],
   "source": [
    "visitorsADaily = visitors[visitors['group'] == 'A'][['date', 'visitors']]\n",
    "visitorsADaily.columns = ['date', 'visitorsPerDateA']\n",
    "visitorsCumulativeA = visitorsADaily.apply(lambda x: visitorsADaily[visitorsADaily['date'] <= x['date']].agg({'date': 'max', 'visitorsPerDateA': 'sum'}), axis=1)\n",
    "visitorsCumulativeA.columns = ['date', 'visitorsCumulativeA']\n",
    "ordersADaily = orders[orders['group'] == 'A'][['date', 'transactionId', 'visitorId', 'revenue']].groupby('date', as_index=False).agg({'transactionId': 'nunique', 'revenue': 'sum'})\n",
    "ordersADaily.columns = ['date', 'ordersPerDateA', 'revenuePerDateA']\n",
    "ordersACumulative = ordersADaily.apply(lambda x: ordersADaily[ordersADaily['date'] <= x['date']].agg({'date': 'max', 'ordersPerDateA': 'sum', 'revenuePerDateA': 'sum'}), axis=1).sort_values(by='date')\n",
    "ordersACumulative.columns = ['date', 'ordersCumulativeA', 'revenueCumulativeA']\n",
    "visitorsBDaily = visitors[visitors['group'] == 'B'][['date', 'visitors']]\n",
    "visitorsBDaily.columns = ['date', 'visitorsPerDateB']\n",
    "visitorsCumulativeB = visitorsBDaily.apply(lambda x: visitorsBDaily[visitorsBDaily['date'] <= x['date']].agg({'date': 'max', 'visitorsPerDateB': 'sum'}), axis=1)\n",
    "visitorsCumulativeB.columns = ['date', 'visitorsCumulativeB']\n",
    "ordersBDaily = orders[orders['group'] == 'B'][['date', 'transactionId', 'visitorId', 'revenue']].groupby('date', as_index=False).agg({'transactionId': 'nunique', 'revenue': 'sum'})\n",
    "ordersBDaily.columns = ['date', 'ordersPerDateB', 'revenuePerDateB']\n",
    "ordersBCumulative = ordersBDaily.apply(lambda x: ordersBDaily[ordersBDaily['date'] <= x['date']].agg({'date': 'max', 'ordersPerDateB': 'sum', 'revenuePerDateB': 'sum'}), axis=1).sort_values(by='date')\n",
    "ordersBCumulative.columns = ['date', 'ordersCumulativeB', 'revenueCumulativeB']"
   ]
  },
  {
   "cell_type": "code",
   "execution_count": 418,
   "metadata": {},
   "outputs": [
    {
     "data": {
      "text/html": [
       "<div>\n",
       "<style scoped>\n",
       "    .dataframe tbody tr th:only-of-type {\n",
       "        vertical-align: middle;\n",
       "    }\n",
       "\n",
       "    .dataframe tbody tr th {\n",
       "        vertical-align: top;\n",
       "    }\n",
       "\n",
       "    .dataframe thead th {\n",
       "        text-align: right;\n",
       "    }\n",
       "</style>\n",
       "<table border=\"1\" class=\"dataframe\">\n",
       "  <thead>\n",
       "    <tr style=\"text-align: right;\">\n",
       "      <th></th>\n",
       "      <th>date</th>\n",
       "      <th>ordersPerDateA</th>\n",
       "      <th>revenuePerDateA</th>\n",
       "      <th>ordersPerDateB</th>\n",
       "      <th>revenuePerDateB</th>\n",
       "      <th>ordersCumulativeA</th>\n",
       "      <th>revenueCumulativeA</th>\n",
       "      <th>ordersCumulativeB</th>\n",
       "      <th>revenueCumulativeB</th>\n",
       "      <th>visitorsPerDateA</th>\n",
       "      <th>visitorsPerDateB</th>\n",
       "      <th>visitorsCumulativeA</th>\n",
       "      <th>visitorsCumulativeB</th>\n",
       "    </tr>\n",
       "  </thead>\n",
       "  <tbody>\n",
       "    <tr>\n",
       "      <td>0</td>\n",
       "      <td>2019-08-01</td>\n",
       "      <td>23</td>\n",
       "      <td>142779</td>\n",
       "      <td>17</td>\n",
       "      <td>59758</td>\n",
       "      <td>23</td>\n",
       "      <td>142779</td>\n",
       "      <td>17</td>\n",
       "      <td>59758</td>\n",
       "      <td>719</td>\n",
       "      <td>713</td>\n",
       "      <td>719</td>\n",
       "      <td>713</td>\n",
       "    </tr>\n",
       "    <tr>\n",
       "      <td>1</td>\n",
       "      <td>2019-08-02</td>\n",
       "      <td>19</td>\n",
       "      <td>91602</td>\n",
       "      <td>23</td>\n",
       "      <td>162043</td>\n",
       "      <td>42</td>\n",
       "      <td>234381</td>\n",
       "      <td>40</td>\n",
       "      <td>221801</td>\n",
       "      <td>619</td>\n",
       "      <td>581</td>\n",
       "      <td>1338</td>\n",
       "      <td>1294</td>\n",
       "    </tr>\n",
       "    <tr>\n",
       "      <td>2</td>\n",
       "      <td>2019-08-03</td>\n",
       "      <td>24</td>\n",
       "      <td>112473</td>\n",
       "      <td>14</td>\n",
       "      <td>67049</td>\n",
       "      <td>66</td>\n",
       "      <td>346854</td>\n",
       "      <td>54</td>\n",
       "      <td>288850</td>\n",
       "      <td>507</td>\n",
       "      <td>509</td>\n",
       "      <td>1845</td>\n",
       "      <td>1803</td>\n",
       "    </tr>\n",
       "    <tr>\n",
       "      <td>3</td>\n",
       "      <td>2019-08-04</td>\n",
       "      <td>11</td>\n",
       "      <td>41176</td>\n",
       "      <td>14</td>\n",
       "      <td>96890</td>\n",
       "      <td>77</td>\n",
       "      <td>388030</td>\n",
       "      <td>68</td>\n",
       "      <td>385740</td>\n",
       "      <td>717</td>\n",
       "      <td>770</td>\n",
       "      <td>2562</td>\n",
       "      <td>2573</td>\n",
       "    </tr>\n",
       "    <tr>\n",
       "      <td>4</td>\n",
       "      <td>2019-08-05</td>\n",
       "      <td>22</td>\n",
       "      <td>86383</td>\n",
       "      <td>21</td>\n",
       "      <td>89908</td>\n",
       "      <td>99</td>\n",
       "      <td>474413</td>\n",
       "      <td>89</td>\n",
       "      <td>475648</td>\n",
       "      <td>756</td>\n",
       "      <td>707</td>\n",
       "      <td>3318</td>\n",
       "      <td>3280</td>\n",
       "    </tr>\n",
       "    <tr>\n",
       "      <td>5</td>\n",
       "      <td>2019-08-06</td>\n",
       "      <td>15</td>\n",
       "      <td>40919</td>\n",
       "      <td>23</td>\n",
       "      <td>214842</td>\n",
       "      <td>114</td>\n",
       "      <td>515332</td>\n",
       "      <td>112</td>\n",
       "      <td>690490</td>\n",
       "      <td>667</td>\n",
       "      <td>655</td>\n",
       "      <td>3985</td>\n",
       "      <td>3935</td>\n",
       "    </tr>\n",
       "    <tr>\n",
       "      <td>6</td>\n",
       "      <td>2019-08-07</td>\n",
       "      <td>16</td>\n",
       "      <td>123248</td>\n",
       "      <td>23</td>\n",
       "      <td>219164</td>\n",
       "      <td>130</td>\n",
       "      <td>638580</td>\n",
       "      <td>135</td>\n",
       "      <td>909654</td>\n",
       "      <td>644</td>\n",
       "      <td>709</td>\n",
       "      <td>4629</td>\n",
       "      <td>4644</td>\n",
       "    </tr>\n",
       "    <tr>\n",
       "      <td>7</td>\n",
       "      <td>2019-08-08</td>\n",
       "      <td>14</td>\n",
       "      <td>88639</td>\n",
       "      <td>22</td>\n",
       "      <td>150141</td>\n",
       "      <td>144</td>\n",
       "      <td>727219</td>\n",
       "      <td>157</td>\n",
       "      <td>1059795</td>\n",
       "      <td>610</td>\n",
       "      <td>654</td>\n",
       "      <td>5239</td>\n",
       "      <td>5298</td>\n",
       "    </tr>\n",
       "    <tr>\n",
       "      <td>8</td>\n",
       "      <td>2019-08-09</td>\n",
       "      <td>11</td>\n",
       "      <td>134237</td>\n",
       "      <td>19</td>\n",
       "      <td>103166</td>\n",
       "      <td>155</td>\n",
       "      <td>861456</td>\n",
       "      <td>176</td>\n",
       "      <td>1162961</td>\n",
       "      <td>617</td>\n",
       "      <td>610</td>\n",
       "      <td>5856</td>\n",
       "      <td>5908</td>\n",
       "    </tr>\n",
       "    <tr>\n",
       "      <td>9</td>\n",
       "      <td>2019-08-10</td>\n",
       "      <td>15</td>\n",
       "      <td>152275</td>\n",
       "      <td>22</td>\n",
       "      <td>105162</td>\n",
       "      <td>170</td>\n",
       "      <td>1013731</td>\n",
       "      <td>198</td>\n",
       "      <td>1268123</td>\n",
       "      <td>406</td>\n",
       "      <td>369</td>\n",
       "      <td>6262</td>\n",
       "      <td>6277</td>\n",
       "    </tr>\n",
       "  </tbody>\n",
       "</table>\n",
       "</div>"
      ],
      "text/plain": [
       "        date  ordersPerDateA  revenuePerDateA  ordersPerDateB  \\\n",
       "0 2019-08-01              23           142779              17   \n",
       "1 2019-08-02              19            91602              23   \n",
       "2 2019-08-03              24           112473              14   \n",
       "3 2019-08-04              11            41176              14   \n",
       "4 2019-08-05              22            86383              21   \n",
       "5 2019-08-06              15            40919              23   \n",
       "6 2019-08-07              16           123248              23   \n",
       "7 2019-08-08              14            88639              22   \n",
       "8 2019-08-09              11           134237              19   \n",
       "9 2019-08-10              15           152275              22   \n",
       "\n",
       "   revenuePerDateB  ordersCumulativeA  revenueCumulativeA  ordersCumulativeB  \\\n",
       "0            59758                 23              142779                 17   \n",
       "1           162043                 42              234381                 40   \n",
       "2            67049                 66              346854                 54   \n",
       "3            96890                 77              388030                 68   \n",
       "4            89908                 99              474413                 89   \n",
       "5           214842                114              515332                112   \n",
       "6           219164                130              638580                135   \n",
       "7           150141                144              727219                157   \n",
       "8           103166                155              861456                176   \n",
       "9           105162                170             1013731                198   \n",
       "\n",
       "   revenueCumulativeB  visitorsPerDateA  visitorsPerDateB  \\\n",
       "0               59758               719               713   \n",
       "1              221801               619               581   \n",
       "2              288850               507               509   \n",
       "3              385740               717               770   \n",
       "4              475648               756               707   \n",
       "5              690490               667               655   \n",
       "6              909654               644               709   \n",
       "7             1059795               610               654   \n",
       "8             1162961               617               610   \n",
       "9             1268123               406               369   \n",
       "\n",
       "   visitorsCumulativeA  visitorsCumulativeB  \n",
       "0                  719                  713  \n",
       "1                 1338                 1294  \n",
       "2                 1845                 1803  \n",
       "3                 2562                 2573  \n",
       "4                 3318                 3280  \n",
       "5                 3985                 3935  \n",
       "6                 4629                 4644  \n",
       "7                 5239                 5298  \n",
       "8                 5856                 5908  \n",
       "9                 6262                 6277  "
      ]
     },
     "execution_count": 418,
     "metadata": {},
     "output_type": "execute_result"
    }
   ],
   "source": [
    "data = ordersADaily.merge(ordersBDaily, on='date', how='left').merge(ordersACumulative, on='date', how='left').merge(ordersBCumulative, on='date', how='left').merge(visitorsADaily, on='date', how='left').merge(visitorsBDaily, on='date', how='left').merge(visitorsCumulativeA, on='date', how='left').merge(visitorsCumulativeB, on='date', how='left')\n",
    "data.head(10)"
   ]
  },
  {
   "cell_type": "code",
   "execution_count": 419,
   "metadata": {},
   "outputs": [],
   "source": [
    "ordersByUsersA = orders[orders['group'] == 'A'].groupby('visitorId', as_index=False).agg({'transactionId': 'nunique'})\n",
    "ordersByUsersA.columns = ['userId', 'orders']\n",
    "ordersByUsersB = orders[orders['group'] == 'B'].groupby('visitorId', as_index=False).agg({'transactionId': 'nunique'})\n",
    "ordersByUsersB.columns = ['userId', 'orders']"
   ]
  },
  {
   "cell_type": "code",
   "execution_count": 420,
   "metadata": {},
   "outputs": [],
   "source": [
    "sampleA = pd.concat([ordersByUsersA['orders'], pd.Series(0, index=np.arange(data['visitorsPerDateA'].sum() - len(ordersByUsersA['orders'])), name='orders')], axis=0)\n",
    "sampleB = pd.concat([ordersByUsersB['orders'], pd.Series(0, index=np.arange(data['visitorsPerDateB'].sum() - len(ordersByUsersB['orders'])), name='orders')], axis=0)"
   ]
  },
  {
   "cell_type": "markdown",
   "metadata": {},
   "source": [
    "Нулевая гипотеза - различие между конверсиями групп А и В статистически недостоверно.\n",
    "    \n",
    "Альтернативная гипотеза - различие между конверсиями статистически достоверно."
   ]
  },
  {
   "cell_type": "code",
   "execution_count": 421,
   "metadata": {},
   "outputs": [
    {
     "name": "stdout",
     "output_type": "stream",
     "text": [
      "0.011\n",
      "0.160\n"
     ]
    }
   ],
   "source": [
    "print('{0:.3f}'.format(st.mannwhitneyu(sampleA, sampleB, alternative = 'two-sided')[1]))\n",
    "print('{0:.3f}'.format(sampleB.mean() / sampleA.mean() - 1))"
   ]
  },
  {
   "cell_type": "markdown",
   "metadata": {},
   "source": [
    "p-value (0,011) меньше 0,05, конверсия групп А и В по \"сырым данным\" различается. Относительный прирост конверсии группы В относительно группы А - 16%."
   ]
  },
  {
   "cell_type": "markdown",
   "metadata": {},
   "source": [
    "Нулевая гипотеза - различие между средними чеками групп А и В статистически недостоверно.\n",
    "    \n",
    "Альтернативная гипотеза - различие между средними чеками статистически достоверно."
   ]
  },
  {
   "cell_type": "code",
   "execution_count": 422,
   "metadata": {},
   "outputs": [
    {
     "name": "stdout",
     "output_type": "stream",
     "text": [
      "0.829\n",
      "0.287\n"
     ]
    }
   ],
   "source": [
    "print('{0:.3f}'.format(st.mannwhitneyu(orders[orders['group'] == 'B']['revenue'], orders[orders['group'] == 'A']['revenue'], alternative = 'two-sided')[1]))\n",
    "print('{0:.3f}'.format(orders[orders['group'] == 'B']['revenue'].mean() / orders[orders['group'] == 'A']['revenue'].mean() - 1))"
   ]
  },
  {
   "cell_type": "markdown",
   "metadata": {},
   "source": [
    "p-value (0,829) больше 0,05, статистически значимой разницы между средними чеками группы А и В нет.\n",
    "Средний чек группы В на 29% больше, чем средний чек группы А."
   ]
  },
  {
   "cell_type": "markdown",
   "metadata": {},
   "source": [
    "#### По очищенным данным"
   ]
  },
  {
   "cell_type": "code",
   "execution_count": 423,
   "metadata": {},
   "outputs": [
    {
     "data": {
      "text/plain": [
       "1099    148427295\n",
       "33      249864742\n",
       "51      406208401\n",
       "67      522292794\n",
       "58      611059232\n",
       "dtype: int64"
      ]
     },
     "metadata": {},
     "output_type": "display_data"
    },
    {
     "data": {
      "text/plain": [
       "(32,)"
      ]
     },
     "metadata": {},
     "output_type": "display_data"
    }
   ],
   "source": [
    "usersWithManyOrders = pd.concat([ordersByUsersA[ordersByUsersA['orders'] > 2]['userId'], ordersByUsersB[ordersByUsersB['orders'] > 1.1]['userId']], axis=0)\n",
    "usersWithExpensiveOrders = orders[orders['revenue'] > 53904]['visitorId']\n",
    "abnormalUsers = (pd.concat([usersWithManyOrders, usersWithExpensiveOrders], axis=0).drop_duplicates().sort_values())\n",
    "display(abnormalUsers.head(5))\n",
    "display(abnormalUsers.shape)"
   ]
  },
  {
   "cell_type": "code",
   "execution_count": 424,
   "metadata": {},
   "outputs": [
    {
     "data": {
      "text/plain": [
       "973"
      ]
     },
     "execution_count": 424,
     "metadata": {},
     "output_type": "execute_result"
    }
   ],
   "source": [
    "orders['visitorId'].nunique()"
   ]
  },
  {
   "cell_type": "markdown",
   "metadata": {},
   "source": [
    "51 пользователь - это 5% от 996."
   ]
  },
  {
   "cell_type": "code",
   "execution_count": 425,
   "metadata": {},
   "outputs": [],
   "source": [
    "sampleAFiltred = pd.concat([ordersByUsersA[np.logical_not(ordersByUsersA['userId'].isin(abnormalUsers))]['orders'], pd.Series(0, index=np.arange(data['visitorsPerDateA'].sum() - len(ordersByUsersA['orders'])), name='orders')], axis=0)\n",
    "sampleBFiltred = pd.concat([ordersByUsersB[np.logical_not(ordersByUsersB['userId'].isin(abnormalUsers))]['orders'], pd.Series(0, index=np.arange(data['visitorsPerDateB'].sum() - len(ordersByUsersB['orders'])), name='orders')], axis=0)"
   ]
  },
  {
   "cell_type": "markdown",
   "metadata": {},
   "source": [
    "Нулевая гипотеза - различие между конверсиями групп А и В статистически недостоверно.\n",
    "    \n",
    "Альтернативная гипотеза - различие между конверсиями статистически достоверно."
   ]
  },
  {
   "cell_type": "code",
   "execution_count": 426,
   "metadata": {},
   "outputs": [
    {
     "name": "stdout",
     "output_type": "stream",
     "text": [
      "0.028\n",
      "0.119\n"
     ]
    }
   ],
   "source": [
    "print('{0:.3f}'.format(st.mannwhitneyu(sampleAFiltred, sampleBFiltred, alternative = 'two-sided')[1]))\n",
    "print('{0:.3f}'.format(sampleBFiltred.mean() / sampleAFiltred.mean() - 1))"
   ]
  },
  {
   "cell_type": "markdown",
   "metadata": {},
   "source": [
    "p-value увеличился с 0,011 до 0,028, но всё ещё меньше 0,05, значит различие между конверсиями групп А и В есть.\n",
    "\n",
    "Разница снизилась с 16 до 12%."
   ]
  },
  {
   "cell_type": "markdown",
   "metadata": {},
   "source": [
    "Нулевая гипотеза - различие между средними чеками групп А и В статистически недостоверно.\n",
    "    \n",
    "Альтернативная гипотеза - различие между средними чеками статистически достоверно."
   ]
  },
  {
   "cell_type": "code",
   "execution_count": 427,
   "metadata": {},
   "outputs": [
    {
     "name": "stdout",
     "output_type": "stream",
     "text": [
      "0.777\n",
      "-0.015\n"
     ]
    }
   ],
   "source": [
    "print('{0:.3f}'.format(st.mannwhitneyu(orders[np.logical_and(orders['group'] == 'B', np.logical_not(orders['visitorId'].isin(abnormalUsers)))]['revenue'], orders[np.logical_and(orders['group'] == 'A', np.logical_not(orders['visitorId'].isin(abnormalUsers)))]['revenue'], alternative = 'two-sided')[1]))\n",
    "print('{0:.3f}'.format(orders[np.logical_and(orders['group'] == 'B', np.logical_not(orders['visitorId'].isin(abnormalUsers)))]['revenue'].mean() / orders[np.logical_and(orders['group'] == 'A', np.logical_not(orders['visitorId'].isin(abnormalUsers)))]['revenue'].mean() - 1))"
   ]
  },
  {
   "cell_type": "markdown",
   "metadata": {},
   "source": [
    "p-value снизился с 0,829 до 0,777, но всё ещё больше 0,05, значит статистически значимого различия между средними чеками групп А и В нет.\n",
    "\n",
    "По \"сырым\" данным средний чек группы В больше, чем средний чек группы А на 29%, по очищенным данным - меньше на 1,5%."
   ]
  },
  {
   "cell_type": "markdown",
   "metadata": {},
   "source": [
    "Тест нужно остановить, группа В лучше группы А (разница конверсий достоверна как по \"сырым\", так и по очищенным данным; по графику конверсия группы В больше конверсии группы А и растёт; относительный прирост конверсии группы В к группе А положительный и растёт)."
   ]
  },
  {
   "cell_type": "markdown",
   "metadata": {},
   "source": [
    "## Общий вывод"
   ]
  },
  {
   "cell_type": "markdown",
   "metadata": {},
   "source": [
    "В данных нет пропусков и дубликатов. 35 пользователей из 1031 попали в обе групппы.\n",
    "\n",
    "И по RICE, и по ICE пять первых приоритетных гипотез одни и те же: 0, 2, 6, 7, 8. Изменяется их место в топе, потому что RICE учитывает количество пользователей, на которых повлияют изменения. Порядок приоритета по RICE: 7, 2, 0, 6, 8.\n",
    "\n",
    "Приоритетные гипотезы по RICE:\n",
    "- Добавить форму подписки на все основные страницы, чтобы собрать базу клиентов для email-рассылок,\n",
    "- Добавить блоки рекомендаций товаров на сайт интернет магазина, чтобы повысить конверсию и средний чек заказа,\n",
    "- Добавить два новых канала привлечения трафика, что позволит привлекать на 30% больше пользователей,\n",
    "- Показать на главной странице баннеры с актуальными акциями и распродажами, чтобы увеличить конверсию,\n",
    "- Запустить акцию, дающую скидку на товар в день рождения.\n",
    "    \n",
    "Приоритетные гипотезы по ICE:\n",
    "- Запустить акцию, дающую скидку на товар в день рождения,\n",
    "- Добавить два новых канала привлечения трафика, что позволит привлекать на 30% больше пользователей,\n",
    "- Добавить форму подписки на все основные страницы, чтобы собрать базу клиентов для email-рассылок,\n",
    "- Показать на главной странице баннеры с актуальными акциями и распродажами, чтобы увеличить конверсию,\n",
    "- Добавить блоки рекомендаций товаров на сайт интернет магазина, чтобы повысить конверсию и средний чек заказа.\n",
    "\n",
    "А/В-тест нужно остановить, группа В лучше группы А (разница конверсий достоверна как по \"сырым\" (p-value - 0,011), так и по очищенным данным (p-value - 0,028); по графику конверсия группы В больше конверсии группы А и растёт; относительный прирост конверсии группы В к группе А положительный и растёт).\n",
    "\n",
    "Если конверсия в группе В выше, чем в группе А, а средний чек не различается, значит пользователи группы В делают больше дешёвых заказов. Возможно, в будущем они будут делать и более дорогие заказы, потому что у них есть опыт взаимодействия с магазином. Возможно, было бы проще предположить, что даст победа группы В, если бы было известно какую гипотезу тестировали."
   ]
  }
 ],
 "metadata": {
  "ExecuteTimeLog": [
   {
    "duration": 911,
    "start_time": "2021-11-05T08:55:51.567Z"
   },
   {
    "duration": 20,
    "start_time": "2021-11-05T08:57:28.348Z"
   },
   {
    "duration": 499,
    "start_time": "2021-11-05T08:58:59.272Z"
   },
   {
    "duration": 57,
    "start_time": "2021-11-05T08:59:23.900Z"
   },
   {
    "duration": 6,
    "start_time": "2021-11-05T09:01:31.402Z"
   },
   {
    "duration": 387,
    "start_time": "2021-11-05T09:01:41.584Z"
   },
   {
    "duration": 18,
    "start_time": "2021-11-05T09:01:46.660Z"
   },
   {
    "duration": 5,
    "start_time": "2021-11-05T09:01:55.687Z"
   },
   {
    "duration": 16,
    "start_time": "2021-11-05T09:01:56.758Z"
   },
   {
    "duration": 12,
    "start_time": "2021-11-05T09:03:12.054Z"
   },
   {
    "duration": 5,
    "start_time": "2021-11-05T09:03:58.586Z"
   },
   {
    "duration": 15,
    "start_time": "2021-11-05T09:04:57.641Z"
   },
   {
    "duration": 15,
    "start_time": "2021-11-05T09:05:13.556Z"
   },
   {
    "duration": 8,
    "start_time": "2021-11-05T09:10:38.018Z"
   },
   {
    "duration": 82,
    "start_time": "2021-11-05T09:11:59.975Z"
   },
   {
    "duration": 74,
    "start_time": "2021-11-05T09:12:15.695Z"
   },
   {
    "duration": 80,
    "start_time": "2021-11-05T09:12:43.247Z"
   },
   {
    "duration": 377,
    "start_time": "2021-11-05T09:13:18.443Z"
   },
   {
    "duration": 12,
    "start_time": "2021-11-05T09:13:23.204Z"
   },
   {
    "duration": 388,
    "start_time": "2021-11-05T09:14:46.552Z"
   },
   {
    "duration": 7,
    "start_time": "2021-11-05T09:14:55.097Z"
   },
   {
    "duration": 375,
    "start_time": "2021-11-05T09:15:01.873Z"
   },
   {
    "duration": 9,
    "start_time": "2021-11-05T09:15:05.997Z"
   },
   {
    "duration": 17,
    "start_time": "2021-11-05T09:26:05.525Z"
   },
   {
    "duration": 112,
    "start_time": "2021-11-05T09:26:49.212Z"
   },
   {
    "duration": 42,
    "start_time": "2021-11-05T09:26:56.555Z"
   },
   {
    "duration": 7,
    "start_time": "2021-11-05T09:27:27.883Z"
   },
   {
    "duration": 7,
    "start_time": "2021-11-05T09:27:54.619Z"
   },
   {
    "duration": 374,
    "start_time": "2021-11-05T09:29:31.705Z"
   },
   {
    "duration": 391,
    "start_time": "2021-11-05T09:30:17.034Z"
   },
   {
    "duration": 19,
    "start_time": "2021-11-05T09:30:34.595Z"
   },
   {
    "duration": 419,
    "start_time": "2021-11-05T09:30:56.286Z"
   },
   {
    "duration": 434,
    "start_time": "2021-11-05T09:31:21.325Z"
   },
   {
    "duration": 948,
    "start_time": "2021-11-05T09:31:46.612Z"
   },
   {
    "duration": 376,
    "start_time": "2021-11-05T09:32:14.339Z"
   },
   {
    "duration": 3,
    "start_time": "2021-11-05T09:32:35.076Z"
   },
   {
    "duration": 317,
    "start_time": "2021-11-05T09:32:40.484Z"
   },
   {
    "duration": 670,
    "start_time": "2021-11-05T09:33:09.746Z"
   },
   {
    "duration": 384,
    "start_time": "2021-11-05T09:33:31.275Z"
   },
   {
    "duration": 663,
    "start_time": "2021-11-05T09:33:48.663Z"
   },
   {
    "duration": 688,
    "start_time": "2021-11-05T09:34:22.000Z"
   },
   {
    "duration": 1484,
    "start_time": "2021-11-05T09:44:05.455Z"
   },
   {
    "duration": 1452,
    "start_time": "2021-11-05T09:44:37.674Z"
   },
   {
    "duration": 1776,
    "start_time": "2021-11-05T09:45:11.039Z"
   },
   {
    "duration": 27,
    "start_time": "2021-11-05T09:46:00.690Z"
   },
   {
    "duration": 10507,
    "start_time": "2021-11-05T09:46:02.742Z"
   },
   {
    "duration": 28,
    "start_time": "2021-11-05T09:46:33.778Z"
   },
   {
    "duration": 667,
    "start_time": "2021-11-05T09:46:34.714Z"
   },
   {
    "duration": 686,
    "start_time": "2021-11-05T09:49:02.169Z"
   },
   {
    "duration": 793,
    "start_time": "2021-11-05T09:49:10.501Z"
   },
   {
    "duration": 761,
    "start_time": "2021-11-05T09:49:21.658Z"
   },
   {
    "duration": 684,
    "start_time": "2021-11-05T09:49:57.852Z"
   },
   {
    "duration": 753,
    "start_time": "2021-11-05T09:50:33.163Z"
   },
   {
    "duration": 641,
    "start_time": "2021-11-05T09:52:16.048Z"
   },
   {
    "duration": 643,
    "start_time": "2021-11-05T09:52:29.389Z"
   },
   {
    "duration": 1082,
    "start_time": "2021-11-05T09:54:37.599Z"
   },
   {
    "duration": 772,
    "start_time": "2021-11-05T09:54:52.017Z"
   },
   {
    "duration": 780,
    "start_time": "2021-11-05T09:55:11.324Z"
   },
   {
    "duration": 28,
    "start_time": "2021-11-05T10:01:09.804Z"
   },
   {
    "duration": 1522,
    "start_time": "2021-11-05T10:02:48.663Z"
   },
   {
    "duration": 35,
    "start_time": "2021-11-05T10:03:06.870Z"
   },
   {
    "duration": 43,
    "start_time": "2021-11-05T10:05:18.757Z"
   },
   {
    "duration": 704,
    "start_time": "2021-11-05T10:07:23.892Z"
   },
   {
    "duration": 680,
    "start_time": "2021-11-05T10:07:29.251Z"
   },
   {
    "duration": 794,
    "start_time": "2021-11-05T10:08:59.810Z"
   },
   {
    "duration": 10,
    "start_time": "2021-11-05T10:23:12.176Z"
   },
   {
    "duration": 629,
    "start_time": "2021-11-05T10:25:21.393Z"
   },
   {
    "duration": 4,
    "start_time": "2021-11-05T10:25:38.946Z"
   },
   {
    "duration": 321,
    "start_time": "2021-11-05T10:25:46.839Z"
   },
   {
    "duration": 273,
    "start_time": "2021-11-05T10:29:38.230Z"
   },
   {
    "duration": 25,
    "start_time": "2021-11-05T10:31:16.165Z"
   },
   {
    "duration": 9,
    "start_time": "2021-11-05T10:32:20.142Z"
   },
   {
    "duration": 11,
    "start_time": "2021-11-05T10:34:14.615Z"
   },
   {
    "duration": 700,
    "start_time": "2021-11-05T10:35:33.962Z"
   },
   {
    "duration": 957,
    "start_time": "2021-11-05T10:38:18.609Z"
   },
   {
    "duration": 2041,
    "start_time": "2021-11-05T10:43:56.868Z"
   },
   {
    "duration": 366,
    "start_time": "2021-11-05T10:44:01.282Z"
   },
   {
    "duration": 364,
    "start_time": "2021-11-05T10:44:45.784Z"
   },
   {
    "duration": 9,
    "start_time": "2021-11-05T10:45:06.043Z"
   },
   {
    "duration": 140,
    "start_time": "2021-11-05T10:45:36.402Z"
   },
   {
    "duration": 748,
    "start_time": "2021-11-05T10:45:58.001Z"
   },
   {
    "duration": 9,
    "start_time": "2021-11-05T10:50:36.374Z"
   },
   {
    "duration": 646,
    "start_time": "2021-11-05T10:51:09.225Z"
   },
   {
    "duration": 664,
    "start_time": "2021-11-05T10:53:20.081Z"
   },
   {
    "duration": 12,
    "start_time": "2021-11-05T10:57:13.725Z"
   },
   {
    "duration": 727,
    "start_time": "2021-11-05T10:58:08.076Z"
   },
   {
    "duration": 743,
    "start_time": "2021-11-05T11:00:04.604Z"
   },
   {
    "duration": 723,
    "start_time": "2021-11-05T11:00:20.237Z"
   },
   {
    "duration": 750,
    "start_time": "2021-11-05T11:00:46.001Z"
   },
   {
    "duration": 691,
    "start_time": "2021-11-05T19:08:39.145Z"
   },
   {
    "duration": 17,
    "start_time": "2021-11-05T19:08:39.838Z"
   },
   {
    "duration": 53,
    "start_time": "2021-11-05T19:08:39.857Z"
   },
   {
    "duration": 3,
    "start_time": "2021-11-05T19:08:39.912Z"
   },
   {
    "duration": 15,
    "start_time": "2021-11-05T19:08:39.917Z"
   },
   {
    "duration": 7,
    "start_time": "2021-11-05T19:08:39.934Z"
   },
   {
    "duration": 11,
    "start_time": "2021-11-05T19:08:39.943Z"
   },
   {
    "duration": 9,
    "start_time": "2021-11-05T19:08:39.957Z"
   },
   {
    "duration": 86,
    "start_time": "2021-11-05T19:08:39.968Z"
   },
   {
    "duration": 39,
    "start_time": "2021-11-05T19:08:40.056Z"
   },
   {
    "duration": 6,
    "start_time": "2021-11-05T19:08:40.096Z"
   },
   {
    "duration": 5,
    "start_time": "2021-11-05T19:08:40.104Z"
   },
   {
    "duration": 23,
    "start_time": "2021-11-05T19:08:40.111Z"
   },
   {
    "duration": 31,
    "start_time": "2021-11-05T19:08:40.135Z"
   },
   {
    "duration": 4,
    "start_time": "2021-11-05T19:08:40.168Z"
   },
   {
    "duration": 10,
    "start_time": "2021-11-05T19:08:40.174Z"
   },
   {
    "duration": 8,
    "start_time": "2021-11-05T19:08:40.186Z"
   },
   {
    "duration": 201,
    "start_time": "2021-11-05T19:08:40.195Z"
   },
   {
    "duration": 162,
    "start_time": "2021-11-05T19:08:40.398Z"
   },
   {
    "duration": 6,
    "start_time": "2021-11-05T19:08:40.562Z"
   },
   {
    "duration": 16,
    "start_time": "2021-11-05T19:08:40.570Z"
   },
   {
    "duration": 431,
    "start_time": "2021-11-05T19:08:40.587Z"
   },
   {
    "duration": 532,
    "start_time": "2021-11-05T19:08:41.022Z"
   },
   {
    "duration": 6,
    "start_time": "2021-11-05T19:08:41.556Z"
   },
   {
    "duration": 535,
    "start_time": "2021-11-05T19:08:41.563Z"
   },
   {
    "duration": 427,
    "start_time": "2021-11-05T19:08:42.100Z"
   },
   {
    "duration": -180,
    "start_time": "2021-11-05T19:08:42.710Z"
   },
   {
    "duration": -187,
    "start_time": "2021-11-05T19:08:42.718Z"
   },
   {
    "duration": -192,
    "start_time": "2021-11-05T19:08:42.724Z"
   },
   {
    "duration": 353,
    "start_time": "2021-11-05T19:09:34.698Z"
   },
   {
    "duration": 9,
    "start_time": "2021-11-05T19:09:51.141Z"
   },
   {
    "duration": 582,
    "start_time": "2021-11-05T19:09:57.677Z"
   },
   {
    "duration": 399,
    "start_time": "2021-11-05T19:10:13.490Z"
   },
   {
    "duration": 8,
    "start_time": "2021-11-05T19:10:31.925Z"
   },
   {
    "duration": 608,
    "start_time": "2021-11-05T19:10:34.139Z"
   },
   {
    "duration": 535,
    "start_time": "2021-11-05T19:10:53.883Z"
   },
   {
    "duration": 495,
    "start_time": "2021-11-05T19:11:08.668Z"
   },
   {
    "duration": 458,
    "start_time": "2021-11-05T19:11:17.095Z"
   },
   {
    "duration": 329,
    "start_time": "2021-11-05T19:11:27.268Z"
   },
   {
    "duration": 218,
    "start_time": "2021-11-05T19:11:37.717Z"
   },
   {
    "duration": 213,
    "start_time": "2021-11-05T19:11:55.689Z"
   },
   {
    "duration": 310,
    "start_time": "2021-11-05T19:12:12.060Z"
   },
   {
    "duration": 221,
    "start_time": "2021-11-05T19:12:23.063Z"
   },
   {
    "duration": 317,
    "start_time": "2021-11-05T19:12:36.178Z"
   },
   {
    "duration": 4,
    "start_time": "2021-11-05T19:14:01.190Z"
   },
   {
    "duration": 334,
    "start_time": "2021-11-05T19:14:42.064Z"
   },
   {
    "duration": 293,
    "start_time": "2021-11-05T19:15:11.730Z"
   },
   {
    "duration": 332,
    "start_time": "2021-11-05T19:15:57.096Z"
   },
   {
    "duration": 6,
    "start_time": "2021-11-05T19:25:00.209Z"
   },
   {
    "duration": 499,
    "start_time": "2021-11-05T19:28:29.253Z"
   },
   {
    "duration": 285,
    "start_time": "2021-11-05T19:28:35.012Z"
   },
   {
    "duration": 270,
    "start_time": "2021-11-05T19:29:19.323Z"
   },
   {
    "duration": 5,
    "start_time": "2021-11-05T19:32:25.843Z"
   },
   {
    "duration": 9,
    "start_time": "2021-11-05T19:37:31.018Z"
   },
   {
    "duration": 8,
    "start_time": "2021-11-05T19:37:51.345Z"
   },
   {
    "duration": 16,
    "start_time": "2021-11-05T19:43:18.317Z"
   },
   {
    "duration": 903,
    "start_time": "2021-11-07T08:49:32.136Z"
   },
   {
    "duration": 22,
    "start_time": "2021-11-07T08:49:33.042Z"
   },
   {
    "duration": 82,
    "start_time": "2021-11-07T08:49:33.068Z"
   },
   {
    "duration": 5,
    "start_time": "2021-11-07T08:49:33.154Z"
   },
   {
    "duration": 14,
    "start_time": "2021-11-07T08:49:33.162Z"
   },
   {
    "duration": 6,
    "start_time": "2021-11-07T08:49:33.178Z"
   },
   {
    "duration": 48,
    "start_time": "2021-11-07T08:49:33.187Z"
   },
   {
    "duration": 15,
    "start_time": "2021-11-07T08:49:33.241Z"
   },
   {
    "duration": 44,
    "start_time": "2021-11-07T08:49:33.259Z"
   },
   {
    "duration": 69,
    "start_time": "2021-11-07T08:49:33.305Z"
   },
   {
    "duration": 10,
    "start_time": "2021-11-07T08:49:33.377Z"
   },
   {
    "duration": 7,
    "start_time": "2021-11-07T08:49:33.423Z"
   },
   {
    "duration": 21,
    "start_time": "2021-11-07T08:49:33.432Z"
   },
   {
    "duration": 44,
    "start_time": "2021-11-07T08:49:33.455Z"
   },
   {
    "duration": 9,
    "start_time": "2021-11-07T08:49:33.524Z"
   },
   {
    "duration": 5,
    "start_time": "2021-11-07T08:49:33.536Z"
   },
   {
    "duration": 8,
    "start_time": "2021-11-07T08:49:33.544Z"
   },
   {
    "duration": 333,
    "start_time": "2021-11-07T08:49:33.554Z"
   },
   {
    "duration": 280,
    "start_time": "2021-11-07T08:49:33.889Z"
   },
   {
    "duration": 13,
    "start_time": "2021-11-07T08:49:34.171Z"
   },
   {
    "duration": 23,
    "start_time": "2021-11-07T08:49:34.186Z"
   },
   {
    "duration": 387,
    "start_time": "2021-11-07T08:49:34.211Z"
   },
   {
    "duration": 355,
    "start_time": "2021-11-07T08:49:34.603Z"
   },
   {
    "duration": 8,
    "start_time": "2021-11-07T08:49:34.961Z"
   },
   {
    "duration": 485,
    "start_time": "2021-11-07T08:49:34.972Z"
   },
   {
    "duration": 9,
    "start_time": "2021-11-07T08:49:35.459Z"
   },
   {
    "duration": 514,
    "start_time": "2021-11-07T08:49:35.471Z"
   },
   {
    "duration": 12,
    "start_time": "2021-11-07T08:49:35.988Z"
   },
   {
    "duration": 445,
    "start_time": "2021-11-07T08:49:36.003Z"
   },
   {
    "duration": 6,
    "start_time": "2021-11-07T08:49:36.451Z"
   },
   {
    "duration": 369,
    "start_time": "2021-11-07T08:49:36.459Z"
   },
   {
    "duration": 8,
    "start_time": "2021-11-07T08:49:36.831Z"
   },
   {
    "duration": 378,
    "start_time": "2021-11-07T08:49:36.842Z"
   },
   {
    "duration": 8,
    "start_time": "2021-11-07T08:49:37.223Z"
   },
   {
    "duration": 13,
    "start_time": "2021-11-07T08:49:37.234Z"
   },
   {
    "duration": 12,
    "start_time": "2021-11-07T08:49:37.250Z"
   },
   {
    "duration": 1238,
    "start_time": "2021-11-07T09:09:38.562Z"
   },
   {
    "duration": 756,
    "start_time": "2021-11-07T09:11:34.252Z"
   },
   {
    "duration": 824,
    "start_time": "2021-11-07T09:12:20.343Z"
   },
   {
    "duration": 394,
    "start_time": "2021-11-07T09:12:48.402Z"
   },
   {
    "duration": 51,
    "start_time": "2021-11-07T09:17:20.041Z"
   },
   {
    "duration": 270,
    "start_time": "2021-11-07T09:24:15.190Z"
   },
   {
    "duration": 16,
    "start_time": "2021-11-07T09:24:25.306Z"
   },
   {
    "duration": 17,
    "start_time": "2021-11-07T09:25:17.362Z"
   },
   {
    "duration": 15,
    "start_time": "2021-11-07T09:25:41.241Z"
   },
   {
    "duration": 291,
    "start_time": "2021-11-07T09:26:42.115Z"
   },
   {
    "duration": 265,
    "start_time": "2021-11-07T09:26:46.872Z"
   },
   {
    "duration": 412,
    "start_time": "2021-11-07T09:27:13.421Z"
   },
   {
    "duration": 8,
    "start_time": "2021-11-07T09:28:25.627Z"
   },
   {
    "duration": 6,
    "start_time": "2021-11-07T09:28:41.029Z"
   },
   {
    "duration": 6,
    "start_time": "2021-11-07T09:28:47.446Z"
   },
   {
    "duration": 12,
    "start_time": "2021-11-07T09:29:00.535Z"
   },
   {
    "duration": 6,
    "start_time": "2021-11-07T09:29:46.800Z"
   },
   {
    "duration": 29,
    "start_time": "2021-11-07T09:29:46.810Z"
   },
   {
    "duration": 100,
    "start_time": "2021-11-07T09:29:46.843Z"
   },
   {
    "duration": 5,
    "start_time": "2021-11-07T09:29:46.947Z"
   },
   {
    "duration": 10,
    "start_time": "2021-11-07T09:29:46.955Z"
   },
   {
    "duration": 8,
    "start_time": "2021-11-07T09:29:46.967Z"
   },
   {
    "duration": 53,
    "start_time": "2021-11-07T09:29:46.979Z"
   },
   {
    "duration": 14,
    "start_time": "2021-11-07T09:29:47.035Z"
   },
   {
    "duration": 43,
    "start_time": "2021-11-07T09:29:47.052Z"
   },
   {
    "duration": 65,
    "start_time": "2021-11-07T09:29:47.098Z"
   },
   {
    "duration": 9,
    "start_time": "2021-11-07T09:29:47.165Z"
   },
   {
    "duration": 7,
    "start_time": "2021-11-07T09:29:47.177Z"
   },
   {
    "duration": 53,
    "start_time": "2021-11-07T09:29:47.187Z"
   },
   {
    "duration": 49,
    "start_time": "2021-11-07T09:29:47.243Z"
   },
   {
    "duration": 28,
    "start_time": "2021-11-07T09:29:47.295Z"
   },
   {
    "duration": 6,
    "start_time": "2021-11-07T09:29:47.326Z"
   },
   {
    "duration": 11,
    "start_time": "2021-11-07T09:29:47.335Z"
   },
   {
    "duration": 339,
    "start_time": "2021-11-07T09:29:47.348Z"
   },
   {
    "duration": 284,
    "start_time": "2021-11-07T09:29:47.691Z"
   },
   {
    "duration": 10,
    "start_time": "2021-11-07T09:29:47.979Z"
   },
   {
    "duration": 30,
    "start_time": "2021-11-07T09:29:47.992Z"
   },
   {
    "duration": 387,
    "start_time": "2021-11-07T09:29:48.025Z"
   },
   {
    "duration": 548,
    "start_time": "2021-11-07T09:29:48.423Z"
   },
   {
    "duration": 10,
    "start_time": "2021-11-07T09:29:48.974Z"
   },
   {
    "duration": 483,
    "start_time": "2021-11-07T09:29:48.986Z"
   },
   {
    "duration": 13,
    "start_time": "2021-11-07T09:29:49.472Z"
   },
   {
    "duration": 556,
    "start_time": "2021-11-07T09:29:49.488Z"
   },
   {
    "duration": 18,
    "start_time": "2021-11-07T09:29:50.048Z"
   },
   {
    "duration": 481,
    "start_time": "2021-11-07T09:29:50.070Z"
   },
   {
    "duration": 5,
    "start_time": "2021-11-07T09:29:50.554Z"
   },
   {
    "duration": 378,
    "start_time": "2021-11-07T09:29:50.562Z"
   },
   {
    "duration": 9,
    "start_time": "2021-11-07T09:29:50.943Z"
   },
   {
    "duration": 368,
    "start_time": "2021-11-07T09:29:50.954Z"
   },
   {
    "duration": 7,
    "start_time": "2021-11-07T09:29:51.325Z"
   },
   {
    "duration": 416,
    "start_time": "2021-11-07T09:29:51.334Z"
   },
   {
    "duration": 53,
    "start_time": "2021-11-07T09:29:51.752Z"
   },
   {
    "duration": 16,
    "start_time": "2021-11-07T09:29:51.824Z"
   },
   {
    "duration": 13,
    "start_time": "2021-11-07T09:29:51.843Z"
   },
   {
    "duration": 13,
    "start_time": "2021-11-07T09:29:51.859Z"
   },
   {
    "duration": 404,
    "start_time": "2021-11-07T09:32:10.873Z"
   },
   {
    "duration": 51,
    "start_time": "2021-11-07T09:32:15.807Z"
   },
   {
    "duration": 19,
    "start_time": "2021-11-07T09:32:20.085Z"
   },
   {
    "duration": 14,
    "start_time": "2021-11-07T09:32:21.620Z"
   },
   {
    "duration": 8,
    "start_time": "2021-11-07T09:32:22.773Z"
   },
   {
    "duration": 14,
    "start_time": "2021-11-07T09:32:34.039Z"
   },
   {
    "duration": 51,
    "start_time": "2021-11-07T09:35:58.477Z"
   },
   {
    "duration": 14,
    "start_time": "2021-11-07T09:36:03.382Z"
   },
   {
    "duration": 7,
    "start_time": "2021-11-07T09:36:04.842Z"
   },
   {
    "duration": 8,
    "start_time": "2021-11-07T09:37:56.141Z"
   },
   {
    "duration": 6,
    "start_time": "2021-11-07T09:37:57.244Z"
   },
   {
    "duration": 7,
    "start_time": "2021-11-07T09:38:05.334Z"
   },
   {
    "duration": 6,
    "start_time": "2021-11-07T09:38:25.717Z"
   },
   {
    "duration": 7,
    "start_time": "2021-11-07T09:39:22.356Z"
   },
   {
    "duration": 8,
    "start_time": "2021-11-07T09:39:44.898Z"
   },
   {
    "duration": 7,
    "start_time": "2021-11-07T09:40:13.845Z"
   },
   {
    "duration": 6,
    "start_time": "2021-11-07T09:40:19.223Z"
   },
   {
    "duration": 8,
    "start_time": "2021-11-07T09:42:38.722Z"
   },
   {
    "duration": 8,
    "start_time": "2021-11-07T09:42:48.020Z"
   },
   {
    "duration": 6,
    "start_time": "2021-11-07T09:42:58.493Z"
   },
   {
    "duration": 6,
    "start_time": "2021-11-07T09:43:03.424Z"
   },
   {
    "duration": 10,
    "start_time": "2021-11-07T09:43:10.714Z"
   },
   {
    "duration": 17,
    "start_time": "2021-11-07T10:28:22.688Z"
   },
   {
    "duration": 324,
    "start_time": "2021-11-07T10:41:58.832Z"
   },
   {
    "duration": 366,
    "start_time": "2021-11-07T10:42:26.235Z"
   },
   {
    "duration": 300,
    "start_time": "2021-11-07T10:44:04.646Z"
   },
   {
    "duration": 13030,
    "start_time": "2021-11-07T10:45:03.962Z"
   },
   {
    "duration": 18,
    "start_time": "2021-11-07T10:45:34.982Z"
   },
   {
    "duration": 504,
    "start_time": "2021-11-07T10:46:02.605Z"
   },
   {
    "duration": 7290,
    "start_time": "2021-11-07T10:46:09.815Z"
   },
   {
    "duration": 6,
    "start_time": "2021-11-07T10:46:26.241Z"
   },
   {
    "duration": 12,
    "start_time": "2021-11-07T10:51:59.404Z"
   },
   {
    "duration": 11,
    "start_time": "2021-11-07T10:52:41.355Z"
   },
   {
    "duration": 32,
    "start_time": "2021-11-07T10:56:32.977Z"
   },
   {
    "duration": 450,
    "start_time": "2021-11-07T12:12:28.993Z"
   },
   {
    "duration": 443,
    "start_time": "2021-11-07T12:13:18.792Z"
   },
   {
    "duration": 644,
    "start_time": "2021-11-07T12:13:52.213Z"
   },
   {
    "duration": 4,
    "start_time": "2021-11-07T12:19:53.470Z"
   },
   {
    "duration": 22,
    "start_time": "2021-11-07T12:19:53.481Z"
   },
   {
    "duration": 66,
    "start_time": "2021-11-07T12:19:53.506Z"
   },
   {
    "duration": 3,
    "start_time": "2021-11-07T12:19:53.575Z"
   },
   {
    "duration": 7,
    "start_time": "2021-11-07T12:19:53.581Z"
   },
   {
    "duration": 10,
    "start_time": "2021-11-07T12:19:53.624Z"
   },
   {
    "duration": 15,
    "start_time": "2021-11-07T12:19:53.638Z"
   },
   {
    "duration": 14,
    "start_time": "2021-11-07T12:19:53.656Z"
   },
   {
    "duration": 90,
    "start_time": "2021-11-07T12:19:53.673Z"
   },
   {
    "duration": 59,
    "start_time": "2021-11-07T12:19:53.766Z"
   },
   {
    "duration": 11,
    "start_time": "2021-11-07T12:19:53.827Z"
   },
   {
    "duration": 7,
    "start_time": "2021-11-07T12:19:53.842Z"
   },
   {
    "duration": 20,
    "start_time": "2021-11-07T12:19:53.852Z"
   },
   {
    "duration": 81,
    "start_time": "2021-11-07T12:19:53.874Z"
   },
   {
    "duration": 7,
    "start_time": "2021-11-07T12:19:53.957Z"
   },
   {
    "duration": 9,
    "start_time": "2021-11-07T12:19:53.966Z"
   },
   {
    "duration": 9,
    "start_time": "2021-11-07T12:19:53.978Z"
   },
   {
    "duration": 372,
    "start_time": "2021-11-07T12:19:53.989Z"
   },
   {
    "duration": 296,
    "start_time": "2021-11-07T12:19:54.363Z"
   },
   {
    "duration": 14,
    "start_time": "2021-11-07T12:19:54.664Z"
   },
   {
    "duration": 14,
    "start_time": "2021-11-07T12:19:54.681Z"
   },
   {
    "duration": 451,
    "start_time": "2021-11-07T12:19:54.698Z"
   },
   {
    "duration": 399,
    "start_time": "2021-11-07T12:19:55.152Z"
   },
   {
    "duration": 9,
    "start_time": "2021-11-07T12:19:55.554Z"
   },
   {
    "duration": 542,
    "start_time": "2021-11-07T12:19:55.565Z"
   },
   {
    "duration": 21,
    "start_time": "2021-11-07T12:19:56.109Z"
   },
   {
    "duration": 392,
    "start_time": "2021-11-07T12:19:56.134Z"
   },
   {
    "duration": 16,
    "start_time": "2021-11-07T12:19:56.529Z"
   },
   {
    "duration": 466,
    "start_time": "2021-11-07T12:19:56.547Z"
   },
   {
    "duration": 9,
    "start_time": "2021-11-07T12:19:57.016Z"
   },
   {
    "duration": 416,
    "start_time": "2021-11-07T12:19:57.028Z"
   },
   {
    "duration": 6,
    "start_time": "2021-11-07T12:19:57.447Z"
   },
   {
    "duration": 408,
    "start_time": "2021-11-07T12:19:57.455Z"
   },
   {
    "duration": 7,
    "start_time": "2021-11-07T12:19:57.865Z"
   },
   {
    "duration": 451,
    "start_time": "2021-11-07T12:19:57.875Z"
   },
   {
    "duration": 49,
    "start_time": "2021-11-07T12:19:58.329Z"
   },
   {
    "duration": 16,
    "start_time": "2021-11-07T12:19:58.380Z"
   },
   {
    "duration": 12,
    "start_time": "2021-11-07T12:19:58.425Z"
   },
   {
    "duration": 10,
    "start_time": "2021-11-07T12:19:58.440Z"
   },
   {
    "duration": 16,
    "start_time": "2021-11-07T12:19:58.453Z"
   },
   {
    "duration": 55,
    "start_time": "2021-11-07T12:19:58.471Z"
   },
   {
    "duration": 8,
    "start_time": "2021-11-07T12:19:58.529Z"
   },
   {
    "duration": 15,
    "start_time": "2021-11-07T12:19:58.539Z"
   },
   {
    "duration": 11,
    "start_time": "2021-11-07T12:19:58.556Z"
   },
   {
    "duration": 55,
    "start_time": "2021-11-07T12:19:58.569Z"
   },
   {
    "duration": 424,
    "start_time": "2021-11-07T12:31:50.916Z"
   },
   {
    "duration": 460,
    "start_time": "2021-11-07T12:32:11.211Z"
   },
   {
    "duration": 632,
    "start_time": "2021-11-07T12:32:49.280Z"
   },
   {
    "duration": 553,
    "start_time": "2021-11-07T12:33:50.899Z"
   },
   {
    "duration": 10,
    "start_time": "2021-11-07T12:50:12.440Z"
   },
   {
    "duration": 11,
    "start_time": "2021-11-07T12:50:24.792Z"
   },
   {
    "duration": 4,
    "start_time": "2021-11-07T12:50:57.579Z"
   },
   {
    "duration": 23,
    "start_time": "2021-11-07T12:50:57.587Z"
   },
   {
    "duration": 84,
    "start_time": "2021-11-07T12:50:57.613Z"
   },
   {
    "duration": 5,
    "start_time": "2021-11-07T12:50:57.722Z"
   },
   {
    "duration": 11,
    "start_time": "2021-11-07T12:50:57.731Z"
   },
   {
    "duration": 7,
    "start_time": "2021-11-07T12:50:57.747Z"
   },
   {
    "duration": 17,
    "start_time": "2021-11-07T12:50:57.757Z"
   },
   {
    "duration": 18,
    "start_time": "2021-11-07T12:50:57.822Z"
   },
   {
    "duration": 43,
    "start_time": "2021-11-07T12:50:57.845Z"
   },
   {
    "duration": 82,
    "start_time": "2021-11-07T12:50:57.893Z"
   },
   {
    "duration": 10,
    "start_time": "2021-11-07T12:50:57.978Z"
   },
   {
    "duration": 37,
    "start_time": "2021-11-07T12:50:57.990Z"
   },
   {
    "duration": 21,
    "start_time": "2021-11-07T12:50:58.030Z"
   },
   {
    "duration": 46,
    "start_time": "2021-11-07T12:50:58.053Z"
   },
   {
    "duration": 13,
    "start_time": "2021-11-07T12:50:58.122Z"
   },
   {
    "duration": 9,
    "start_time": "2021-11-07T12:50:58.139Z"
   },
   {
    "duration": 11,
    "start_time": "2021-11-07T12:50:58.151Z"
   },
   {
    "duration": 471,
    "start_time": "2021-11-07T12:50:58.164Z"
   },
   {
    "duration": 362,
    "start_time": "2021-11-07T12:50:58.638Z"
   },
   {
    "duration": 19,
    "start_time": "2021-11-07T12:50:59.003Z"
   },
   {
    "duration": 18,
    "start_time": "2021-11-07T12:50:59.026Z"
   },
   {
    "duration": 465,
    "start_time": "2021-11-07T12:50:59.046Z"
   },
   {
    "duration": 397,
    "start_time": "2021-11-07T12:50:59.513Z"
   },
   {
    "duration": 17,
    "start_time": "2021-11-07T12:50:59.915Z"
   },
   {
    "duration": 502,
    "start_time": "2021-11-07T12:50:59.937Z"
   },
   {
    "duration": 10,
    "start_time": "2021-11-07T12:51:00.441Z"
   },
   {
    "duration": 400,
    "start_time": "2021-11-07T12:51:00.454Z"
   },
   {
    "duration": 13,
    "start_time": "2021-11-07T12:51:00.856Z"
   },
   {
    "duration": 542,
    "start_time": "2021-11-07T12:51:00.872Z"
   },
   {
    "duration": 5,
    "start_time": "2021-11-07T12:51:01.416Z"
   },
   {
    "duration": 464,
    "start_time": "2021-11-07T12:51:01.424Z"
   },
   {
    "duration": 7,
    "start_time": "2021-11-07T12:51:01.891Z"
   },
   {
    "duration": 439,
    "start_time": "2021-11-07T12:51:01.900Z"
   },
   {
    "duration": 6,
    "start_time": "2021-11-07T12:51:02.342Z"
   },
   {
    "duration": 440,
    "start_time": "2021-11-07T12:51:02.351Z"
   },
   {
    "duration": 79,
    "start_time": "2021-11-07T12:51:02.794Z"
   },
   {
    "duration": 23,
    "start_time": "2021-11-07T12:51:02.876Z"
   },
   {
    "duration": 26,
    "start_time": "2021-11-07T12:51:02.902Z"
   },
   {
    "duration": 18,
    "start_time": "2021-11-07T12:51:02.932Z"
   },
   {
    "duration": 20,
    "start_time": "2021-11-07T12:51:02.954Z"
   },
   {
    "duration": 58,
    "start_time": "2021-11-07T12:51:02.977Z"
   },
   {
    "duration": 8,
    "start_time": "2021-11-07T12:51:03.039Z"
   },
   {
    "duration": 14,
    "start_time": "2021-11-07T12:51:03.049Z"
   },
   {
    "duration": 13,
    "start_time": "2021-11-07T12:51:03.066Z"
   },
   {
    "duration": 31,
    "start_time": "2021-11-07T12:51:03.124Z"
   },
   {
    "duration": 1450,
    "start_time": "2021-11-07T18:37:50.382Z"
   },
   {
    "duration": 20,
    "start_time": "2021-11-07T18:37:51.835Z"
   },
   {
    "duration": 82,
    "start_time": "2021-11-07T18:37:51.859Z"
   },
   {
    "duration": 4,
    "start_time": "2021-11-07T18:37:51.943Z"
   },
   {
    "duration": 12,
    "start_time": "2021-11-07T18:37:51.949Z"
   },
   {
    "duration": 6,
    "start_time": "2021-11-07T18:37:51.963Z"
   },
   {
    "duration": 15,
    "start_time": "2021-11-07T18:37:52.001Z"
   },
   {
    "duration": 22,
    "start_time": "2021-11-07T18:37:52.018Z"
   },
   {
    "duration": 90,
    "start_time": "2021-11-07T18:37:52.043Z"
   },
   {
    "duration": 60,
    "start_time": "2021-11-07T18:37:52.136Z"
   },
   {
    "duration": 10,
    "start_time": "2021-11-07T18:37:52.199Z"
   },
   {
    "duration": 16,
    "start_time": "2021-11-07T18:37:52.211Z"
   },
   {
    "duration": 22,
    "start_time": "2021-11-07T18:37:52.229Z"
   },
   {
    "duration": 52,
    "start_time": "2021-11-07T18:37:52.254Z"
   },
   {
    "duration": 6,
    "start_time": "2021-11-07T18:37:52.309Z"
   },
   {
    "duration": 8,
    "start_time": "2021-11-07T18:37:52.318Z"
   },
   {
    "duration": 11,
    "start_time": "2021-11-07T18:37:52.328Z"
   },
   {
    "duration": 360,
    "start_time": "2021-11-07T18:37:52.342Z"
   },
   {
    "duration": 280,
    "start_time": "2021-11-07T18:37:52.704Z"
   },
   {
    "duration": 20,
    "start_time": "2021-11-07T18:37:52.986Z"
   },
   {
    "duration": 14,
    "start_time": "2021-11-07T18:37:53.008Z"
   },
   {
    "duration": 447,
    "start_time": "2021-11-07T18:37:53.024Z"
   },
   {
    "duration": 381,
    "start_time": "2021-11-07T18:37:53.474Z"
   },
   {
    "duration": 9,
    "start_time": "2021-11-07T18:37:53.857Z"
   },
   {
    "duration": 493,
    "start_time": "2021-11-07T18:37:53.868Z"
   },
   {
    "duration": 8,
    "start_time": "2021-11-07T18:37:54.363Z"
   },
   {
    "duration": 367,
    "start_time": "2021-11-07T18:37:54.376Z"
   },
   {
    "duration": 12,
    "start_time": "2021-11-07T18:37:54.746Z"
   },
   {
    "duration": 489,
    "start_time": "2021-11-07T18:37:54.760Z"
   },
   {
    "duration": 6,
    "start_time": "2021-11-07T18:37:55.251Z"
   },
   {
    "duration": 428,
    "start_time": "2021-11-07T18:37:55.259Z"
   },
   {
    "duration": 13,
    "start_time": "2021-11-07T18:37:55.689Z"
   },
   {
    "duration": 387,
    "start_time": "2021-11-07T18:37:55.704Z"
   },
   {
    "duration": 11,
    "start_time": "2021-11-07T18:37:56.094Z"
   },
   {
    "duration": 412,
    "start_time": "2021-11-07T18:37:56.107Z"
   },
   {
    "duration": 53,
    "start_time": "2021-11-07T18:37:56.521Z"
   },
   {
    "duration": 16,
    "start_time": "2021-11-07T18:37:56.601Z"
   },
   {
    "duration": 7,
    "start_time": "2021-11-07T18:37:56.620Z"
   },
   {
    "duration": 14,
    "start_time": "2021-11-07T18:37:56.629Z"
   },
   {
    "duration": 12,
    "start_time": "2021-11-07T18:37:56.646Z"
   },
   {
    "duration": 49,
    "start_time": "2021-11-07T18:37:56.660Z"
   },
   {
    "duration": 9,
    "start_time": "2021-11-07T18:37:56.711Z"
   },
   {
    "duration": 11,
    "start_time": "2021-11-07T18:37:56.723Z"
   },
   {
    "duration": 13,
    "start_time": "2021-11-07T18:37:56.736Z"
   },
   {
    "duration": 52,
    "start_time": "2021-11-07T18:37:56.751Z"
   },
   {
    "duration": 351,
    "start_time": "2021-11-08T17:52:42.928Z"
   },
   {
    "duration": 1330,
    "start_time": "2021-11-08T17:52:52.611Z"
   },
   {
    "duration": 18,
    "start_time": "2021-11-08T17:52:55.077Z"
   },
   {
    "duration": 66,
    "start_time": "2021-11-08T17:52:56.547Z"
   },
   {
    "duration": 4,
    "start_time": "2021-11-08T17:53:01.254Z"
   },
   {
    "duration": 13,
    "start_time": "2021-11-08T17:53:03.131Z"
   },
   {
    "duration": 6,
    "start_time": "2021-11-08T17:53:03.882Z"
   },
   {
    "duration": 13,
    "start_time": "2021-11-08T17:53:04.559Z"
   },
   {
    "duration": 13,
    "start_time": "2021-11-08T17:53:08.605Z"
   },
   {
    "duration": 3,
    "start_time": "2021-11-08T17:53:11.962Z"
   },
   {
    "duration": 13,
    "start_time": "2021-11-08T17:53:35.337Z"
   },
   {
    "duration": 3,
    "start_time": "2021-11-08T17:53:52.664Z"
   },
   {
    "duration": 13,
    "start_time": "2021-11-08T17:53:53.410Z"
   },
   {
    "duration": 14,
    "start_time": "2021-11-08T17:53:56.633Z"
   },
   {
    "duration": 13,
    "start_time": "2021-11-08T17:54:36.867Z"
   },
   {
    "duration": 7,
    "start_time": "2021-11-08T17:54:53.280Z"
   },
   {
    "duration": 115,
    "start_time": "2021-11-08T17:55:33.263Z"
   },
   {
    "duration": 15,
    "start_time": "2021-11-08T17:55:39.687Z"
   },
   {
    "duration": 4,
    "start_time": "2021-11-08T18:09:32.674Z"
   },
   {
    "duration": 3,
    "start_time": "2021-11-08T18:14:07.580Z"
   },
   {
    "duration": 3,
    "start_time": "2021-11-08T18:14:07.591Z"
   },
   {
    "duration": 17,
    "start_time": "2021-11-08T18:14:07.597Z"
   },
   {
    "duration": 86,
    "start_time": "2021-11-08T18:14:07.617Z"
   },
   {
    "duration": 4,
    "start_time": "2021-11-08T18:14:07.706Z"
   },
   {
    "duration": 8,
    "start_time": "2021-11-08T18:14:07.713Z"
   },
   {
    "duration": 9,
    "start_time": "2021-11-08T18:14:07.723Z"
   },
   {
    "duration": 47,
    "start_time": "2021-11-08T18:14:07.735Z"
   },
   {
    "duration": 14,
    "start_time": "2021-11-08T18:14:07.785Z"
   },
   {
    "duration": 15,
    "start_time": "2021-11-08T18:14:07.802Z"
   },
   {
    "duration": 46,
    "start_time": "2021-11-08T18:14:07.820Z"
   },
   {
    "duration": 64,
    "start_time": "2021-11-08T18:14:07.869Z"
   },
   {
    "duration": 49,
    "start_time": "2021-11-08T18:14:07.936Z"
   },
   {
    "duration": 7,
    "start_time": "2021-11-08T18:14:07.988Z"
   },
   {
    "duration": 19,
    "start_time": "2021-11-08T18:14:07.998Z"
   },
   {
    "duration": 73,
    "start_time": "2021-11-08T18:14:08.019Z"
   },
   {
    "duration": 7,
    "start_time": "2021-11-08T18:14:08.095Z"
   },
   {
    "duration": 11,
    "start_time": "2021-11-08T18:14:08.105Z"
   },
   {
    "duration": 10,
    "start_time": "2021-11-08T18:14:08.119Z"
   },
   {
    "duration": 348,
    "start_time": "2021-11-08T18:14:08.131Z"
   },
   {
    "duration": 273,
    "start_time": "2021-11-08T18:14:08.486Z"
   },
   {
    "duration": 24,
    "start_time": "2021-11-08T18:14:08.762Z"
   },
   {
    "duration": 13,
    "start_time": "2021-11-08T18:14:08.789Z"
   },
   {
    "duration": 548,
    "start_time": "2021-11-08T18:14:08.804Z"
   },
   {
    "duration": 379,
    "start_time": "2021-11-08T18:14:09.355Z"
   },
   {
    "duration": 9,
    "start_time": "2021-11-08T18:14:09.736Z"
   },
   {
    "duration": 511,
    "start_time": "2021-11-08T18:14:09.747Z"
   },
   {
    "duration": 8,
    "start_time": "2021-11-08T18:14:10.260Z"
   },
   {
    "duration": 368,
    "start_time": "2021-11-08T18:14:10.282Z"
   },
   {
    "duration": 12,
    "start_time": "2021-11-08T18:14:10.653Z"
   },
   {
    "duration": 469,
    "start_time": "2021-11-08T18:14:10.682Z"
   },
   {
    "duration": 5,
    "start_time": "2021-11-08T18:14:11.153Z"
   },
   {
    "duration": 359,
    "start_time": "2021-11-08T18:14:11.161Z"
   },
   {
    "duration": -1404,
    "start_time": "2021-11-08T18:14:12.926Z"
   },
   {
    "duration": -1422,
    "start_time": "2021-11-08T18:14:12.946Z"
   },
   {
    "duration": -1436,
    "start_time": "2021-11-08T18:14:12.961Z"
   },
   {
    "duration": -1446,
    "start_time": "2021-11-08T18:14:12.973Z"
   },
   {
    "duration": -1493,
    "start_time": "2021-11-08T18:14:13.021Z"
   },
   {
    "duration": -1504,
    "start_time": "2021-11-08T18:14:13.033Z"
   },
   {
    "duration": -1524,
    "start_time": "2021-11-08T18:14:13.054Z"
   },
   {
    "duration": -1537,
    "start_time": "2021-11-08T18:14:13.069Z"
   },
   {
    "duration": -1557,
    "start_time": "2021-11-08T18:14:13.090Z"
   },
   {
    "duration": -1572,
    "start_time": "2021-11-08T18:14:13.106Z"
   },
   {
    "duration": -1612,
    "start_time": "2021-11-08T18:14:13.148Z"
   },
   {
    "duration": -1628,
    "start_time": "2021-11-08T18:14:13.165Z"
   },
   {
    "duration": -1645,
    "start_time": "2021-11-08T18:14:13.183Z"
   },
   {
    "duration": -1659,
    "start_time": "2021-11-08T18:14:13.199Z"
   },
   {
    "duration": -1675,
    "start_time": "2021-11-08T18:14:13.216Z"
   },
   {
    "duration": -1688,
    "start_time": "2021-11-08T18:14:13.230Z"
   },
   {
    "duration": 293,
    "start_time": "2021-11-08T18:14:32.486Z"
   },
   {
    "duration": 402,
    "start_time": "2021-11-08T18:15:03.671Z"
   },
   {
    "duration": 404,
    "start_time": "2021-11-08T18:15:09.861Z"
   },
   {
    "duration": 7,
    "start_time": "2021-11-08T18:15:31.991Z"
   },
   {
    "duration": 405,
    "start_time": "2021-11-08T18:15:38.141Z"
   },
   {
    "duration": 7,
    "start_time": "2021-11-08T18:15:41.441Z"
   },
   {
    "duration": 395,
    "start_time": "2021-11-08T18:15:43.334Z"
   },
   {
    "duration": 54,
    "start_time": "2021-11-08T18:15:44.667Z"
   },
   {
    "duration": 16,
    "start_time": "2021-11-08T18:15:45.523Z"
   },
   {
    "duration": 9,
    "start_time": "2021-11-08T18:15:46.479Z"
   },
   {
    "duration": 12,
    "start_time": "2021-11-08T18:15:48.911Z"
   },
   {
    "duration": 15,
    "start_time": "2021-11-08T18:15:50.315Z"
   },
   {
    "duration": 17,
    "start_time": "2021-11-08T18:15:51.714Z"
   },
   {
    "duration": 7,
    "start_time": "2021-11-08T18:15:53.624Z"
   },
   {
    "duration": 12,
    "start_time": "2021-11-08T18:15:55.420Z"
   },
   {
    "duration": 11,
    "start_time": "2021-11-08T18:15:57.419Z"
   },
   {
    "duration": 21,
    "start_time": "2021-11-08T18:15:59.550Z"
   },
   {
    "duration": 8,
    "start_time": "2021-11-08T18:17:24.075Z"
   },
   {
    "duration": 211,
    "start_time": "2021-11-08T18:17:31.672Z"
   },
   {
    "duration": 279,
    "start_time": "2021-11-08T18:19:17.683Z"
   },
   {
    "duration": 332,
    "start_time": "2021-11-08T18:21:29.214Z"
   },
   {
    "duration": 755,
    "start_time": "2021-11-08T18:21:40.010Z"
   },
   {
    "duration": 2421,
    "start_time": "2021-11-08T18:22:25.224Z"
   },
   {
    "duration": 2507,
    "start_time": "2021-11-08T18:23:18.946Z"
   },
   {
    "duration": 2198,
    "start_time": "2021-11-08T18:23:49.003Z"
   },
   {
    "duration": 2211,
    "start_time": "2021-11-08T18:25:14.551Z"
   },
   {
    "duration": 286,
    "start_time": "2021-11-08T18:27:54.406Z"
   },
   {
    "duration": 2306,
    "start_time": "2021-11-08T18:27:59.627Z"
   },
   {
    "duration": 7,
    "start_time": "2021-11-08T18:28:02.037Z"
   },
   {
    "duration": 19,
    "start_time": "2021-11-08T18:28:10.634Z"
   },
   {
    "duration": 2224,
    "start_time": "2021-11-08T18:29:24.329Z"
   },
   {
    "duration": 6,
    "start_time": "2021-11-08T18:29:28.817Z"
   },
   {
    "duration": 19,
    "start_time": "2021-11-08T18:29:29.911Z"
   },
   {
    "duration": 9,
    "start_time": "2021-11-08T18:29:52.522Z"
   },
   {
    "duration": 302,
    "start_time": "2021-11-08T18:29:53.191Z"
   },
   {
    "duration": 275,
    "start_time": "2021-11-08T18:29:54.207Z"
   },
   {
    "duration": 11,
    "start_time": "2021-11-08T18:29:54.843Z"
   },
   {
    "duration": 11,
    "start_time": "2021-11-08T18:29:55.468Z"
   },
   {
    "duration": 398,
    "start_time": "2021-11-08T18:29:56.122Z"
   },
   {
    "duration": 355,
    "start_time": "2021-11-08T18:30:03.011Z"
   },
   {
    "duration": 453,
    "start_time": "2021-11-08T18:30:05.989Z"
   },
   {
    "duration": 9,
    "start_time": "2021-11-08T18:30:09.725Z"
   },
   {
    "duration": 333,
    "start_time": "2021-11-08T18:30:10.496Z"
   },
   {
    "duration": 11,
    "start_time": "2021-11-08T18:30:13.396Z"
   },
   {
    "duration": 453,
    "start_time": "2021-11-08T18:30:14.171Z"
   },
   {
    "duration": 5,
    "start_time": "2021-11-08T18:30:17.413Z"
   },
   {
    "duration": 470,
    "start_time": "2021-11-08T18:30:18.100Z"
   },
   {
    "duration": 8,
    "start_time": "2021-11-08T18:30:20.676Z"
   },
   {
    "duration": 384,
    "start_time": "2021-11-08T18:30:23.369Z"
   },
   {
    "duration": 7,
    "start_time": "2021-11-08T18:30:26.356Z"
   },
   {
    "duration": 414,
    "start_time": "2021-11-08T18:30:32.283Z"
   },
   {
    "duration": 50,
    "start_time": "2021-11-08T18:30:33.765Z"
   },
   {
    "duration": 16,
    "start_time": "2021-11-08T18:30:37.157Z"
   },
   {
    "duration": 8,
    "start_time": "2021-11-08T18:30:37.772Z"
   },
   {
    "duration": 9,
    "start_time": "2021-11-08T18:30:39.568Z"
   },
   {
    "duration": 15,
    "start_time": "2021-11-08T18:30:42.072Z"
   },
   {
    "duration": 15,
    "start_time": "2021-11-08T18:30:44.074Z"
   },
   {
    "duration": 6,
    "start_time": "2021-11-08T18:30:47.556Z"
   },
   {
    "duration": 11,
    "start_time": "2021-11-08T18:30:55.810Z"
   },
   {
    "duration": 9,
    "start_time": "2021-11-08T18:30:56.647Z"
   },
   {
    "duration": 19,
    "start_time": "2021-11-08T18:30:58.607Z"
   },
   {
    "duration": 417,
    "start_time": "2021-11-08T18:35:30.082Z"
   },
   {
    "duration": 370,
    "start_time": "2021-11-08T18:35:40.459Z"
   },
   {
    "duration": 357,
    "start_time": "2021-11-08T18:35:50.079Z"
   },
   {
    "duration": 23,
    "start_time": "2021-11-08T18:37:03.929Z"
   },
   {
    "duration": 6,
    "start_time": "2021-11-08T18:37:23.410Z"
   },
   {
    "duration": 6,
    "start_time": "2021-11-08T18:37:50.851Z"
   },
   {
    "duration": 281,
    "start_time": "2021-11-08T18:39:43.043Z"
   },
   {
    "duration": 295,
    "start_time": "2021-11-08T18:39:47.741Z"
   },
   {
    "duration": 330,
    "start_time": "2021-11-08T18:39:54.083Z"
   },
   {
    "duration": 300,
    "start_time": "2021-11-08T18:40:08.964Z"
   },
   {
    "duration": 377,
    "start_time": "2021-11-08T18:40:41.194Z"
   },
   {
    "duration": 444,
    "start_time": "2021-11-08T18:42:37.799Z"
   },
   {
    "duration": 373,
    "start_time": "2021-11-08T18:42:54.389Z"
   },
   {
    "duration": 390,
    "start_time": "2021-11-08T18:44:23.923Z"
   },
   {
    "duration": 384,
    "start_time": "2021-11-08T18:44:32.991Z"
   },
   {
    "duration": 383,
    "start_time": "2021-11-08T18:45:25.278Z"
   },
   {
    "duration": 7990,
    "start_time": "2021-11-08T18:46:12.453Z"
   },
   {
    "duration": 378,
    "start_time": "2021-11-08T18:46:37.614Z"
   },
   {
    "duration": 7,
    "start_time": "2021-11-08T18:48:25.644Z"
   },
   {
    "duration": 429,
    "start_time": "2021-11-08T19:49:47.668Z"
   },
   {
    "duration": 7,
    "start_time": "2021-11-08T19:50:17.116Z"
   },
   {
    "duration": 17,
    "start_time": "2021-11-08T19:53:10.416Z"
   },
   {
    "duration": 6,
    "start_time": "2021-11-08T19:53:18.198Z"
   },
   {
    "duration": 12,
    "start_time": "2021-11-08T19:54:27.802Z"
   },
   {
    "duration": 11,
    "start_time": "2021-11-08T19:54:28.751Z"
   },
   {
    "duration": 124,
    "start_time": "2021-11-08T19:54:31.835Z"
   },
   {
    "duration": 108,
    "start_time": "2021-11-08T19:58:33.561Z"
   },
   {
    "duration": 3,
    "start_time": "2021-11-09T18:37:45.721Z"
   },
   {
    "duration": 3,
    "start_time": "2021-11-09T18:37:46.424Z"
   },
   {
    "duration": 18,
    "start_time": "2021-11-09T18:37:47.913Z"
   },
   {
    "duration": 46,
    "start_time": "2021-11-09T18:37:48.773Z"
   },
   {
    "duration": 3,
    "start_time": "2021-11-09T18:37:55.205Z"
   },
   {
    "duration": 5,
    "start_time": "2021-11-09T18:37:56.587Z"
   },
   {
    "duration": 4,
    "start_time": "2021-11-09T18:37:57.202Z"
   },
   {
    "duration": 2,
    "start_time": "2021-11-09T18:37:57.781Z"
   },
   {
    "duration": 10,
    "start_time": "2021-11-09T18:37:58.807Z"
   },
   {
    "duration": 10,
    "start_time": "2021-11-09T18:38:02.744Z"
   },
   {
    "duration": 19,
    "start_time": "2021-11-09T18:38:12.839Z"
   },
   {
    "duration": 20,
    "start_time": "2021-11-09T18:39:03.122Z"
   },
   {
    "duration": 20,
    "start_time": "2021-11-09T18:39:15.545Z"
   },
   {
    "duration": 19,
    "start_time": "2021-11-09T18:39:31.188Z"
   },
   {
    "duration": 19,
    "start_time": "2021-11-09T18:39:38.268Z"
   },
   {
    "duration": 17,
    "start_time": "2021-11-09T18:40:07.976Z"
   },
   {
    "duration": 652,
    "start_time": "2021-11-09T18:42:02.158Z"
   },
   {
    "duration": 3,
    "start_time": "2021-11-09T18:42:07.346Z"
   },
   {
    "duration": 4,
    "start_time": "2021-11-09T18:42:07.354Z"
   },
   {
    "duration": 25,
    "start_time": "2021-11-09T18:42:07.360Z"
   },
   {
    "duration": 44,
    "start_time": "2021-11-09T18:42:07.387Z"
   },
   {
    "duration": 3,
    "start_time": "2021-11-09T18:42:07.432Z"
   },
   {
    "duration": 17,
    "start_time": "2021-11-09T18:42:07.437Z"
   },
   {
    "duration": 22,
    "start_time": "2021-11-09T18:42:07.456Z"
   },
   {
    "duration": 7,
    "start_time": "2021-11-09T18:42:07.481Z"
   },
   {
    "duration": 12,
    "start_time": "2021-11-09T18:42:07.490Z"
   },
   {
    "duration": 13,
    "start_time": "2021-11-09T18:42:07.506Z"
   },
   {
    "duration": 21,
    "start_time": "2021-11-09T18:42:07.521Z"
   },
   {
    "duration": 43,
    "start_time": "2021-11-09T18:42:07.543Z"
   },
   {
    "duration": 36,
    "start_time": "2021-11-09T18:42:07.589Z"
   },
   {
    "duration": 6,
    "start_time": "2021-11-09T18:42:07.626Z"
   },
   {
    "duration": 20,
    "start_time": "2021-11-09T18:42:07.634Z"
   },
   {
    "duration": 1388,
    "start_time": "2021-11-09T18:42:07.656Z"
   },
   {
    "duration": 5,
    "start_time": "2021-11-09T18:42:09.046Z"
   },
   {
    "duration": 18,
    "start_time": "2021-11-09T18:42:09.052Z"
   },
   {
    "duration": 18,
    "start_time": "2021-11-09T18:42:09.072Z"
   },
   {
    "duration": 38,
    "start_time": "2021-11-09T18:42:09.092Z"
   },
   {
    "duration": 5,
    "start_time": "2021-11-09T18:42:09.132Z"
   },
   {
    "duration": 6,
    "start_time": "2021-11-09T18:42:09.138Z"
   },
   {
    "duration": 11,
    "start_time": "2021-11-09T18:42:09.146Z"
   },
   {
    "duration": 228,
    "start_time": "2021-11-09T18:42:09.158Z"
   },
   {
    "duration": 171,
    "start_time": "2021-11-09T18:42:09.388Z"
   },
   {
    "duration": 6,
    "start_time": "2021-11-09T18:42:09.561Z"
   },
   {
    "duration": 20,
    "start_time": "2021-11-09T18:42:09.569Z"
   },
   {
    "duration": 407,
    "start_time": "2021-11-09T18:42:09.591Z"
   },
   {
    "duration": 247,
    "start_time": "2021-11-09T18:42:09.999Z"
   },
   {
    "duration": 7,
    "start_time": "2021-11-09T18:42:10.247Z"
   },
   {
    "duration": 390,
    "start_time": "2021-11-09T18:42:10.256Z"
   },
   {
    "duration": 6,
    "start_time": "2021-11-09T18:42:10.648Z"
   },
   {
    "duration": 236,
    "start_time": "2021-11-09T18:42:10.658Z"
   },
   {
    "duration": 13,
    "start_time": "2021-11-09T18:42:10.896Z"
   },
   {
    "duration": 340,
    "start_time": "2021-11-09T18:42:10.911Z"
   },
   {
    "duration": 5,
    "start_time": "2021-11-09T18:42:11.254Z"
   },
   {
    "duration": 282,
    "start_time": "2021-11-09T18:42:11.261Z"
   },
   {
    "duration": 276,
    "start_time": "2021-11-09T18:42:11.546Z"
   },
   {
    "duration": 7,
    "start_time": "2021-11-09T18:42:11.824Z"
   },
   {
    "duration": 7,
    "start_time": "2021-11-09T18:42:11.832Z"
   },
   {
    "duration": 415,
    "start_time": "2021-11-09T18:42:11.840Z"
   },
   {
    "duration": -374,
    "start_time": "2021-11-09T18:42:12.631Z"
   },
   {
    "duration": -386,
    "start_time": "2021-11-09T18:42:12.644Z"
   },
   {
    "duration": -399,
    "start_time": "2021-11-09T18:42:12.658Z"
   },
   {
    "duration": -410,
    "start_time": "2021-11-09T18:42:12.670Z"
   },
   {
    "duration": -423,
    "start_time": "2021-11-09T18:42:12.684Z"
   },
   {
    "duration": -434,
    "start_time": "2021-11-09T18:42:12.696Z"
   },
   {
    "duration": -447,
    "start_time": "2021-11-09T18:42:12.709Z"
   },
   {
    "duration": -458,
    "start_time": "2021-11-09T18:42:12.721Z"
   },
   {
    "duration": -485,
    "start_time": "2021-11-09T18:42:12.749Z"
   },
   {
    "duration": -497,
    "start_time": "2021-11-09T18:42:12.762Z"
   },
   {
    "duration": -509,
    "start_time": "2021-11-09T18:42:12.775Z"
   },
   {
    "duration": -521,
    "start_time": "2021-11-09T18:42:12.788Z"
   },
   {
    "duration": -534,
    "start_time": "2021-11-09T18:42:12.801Z"
   },
   {
    "duration": -546,
    "start_time": "2021-11-09T18:42:12.814Z"
   },
   {
    "duration": 310,
    "start_time": "2021-11-09T18:42:41.871Z"
   },
   {
    "duration": 5,
    "start_time": "2021-11-09T18:42:44.726Z"
   },
   {
    "duration": 313,
    "start_time": "2021-11-09T18:42:46.869Z"
   },
   {
    "duration": 5,
    "start_time": "2021-11-09T18:42:49.680Z"
   },
   {
    "duration": 247,
    "start_time": "2021-11-09T18:42:51.966Z"
   },
   {
    "duration": 35,
    "start_time": "2021-11-09T18:42:53.193Z"
   },
   {
    "duration": 12,
    "start_time": "2021-11-09T18:42:53.870Z"
   },
   {
    "duration": 7,
    "start_time": "2021-11-09T18:42:54.790Z"
   },
   {
    "duration": 10,
    "start_time": "2021-11-09T18:42:56.824Z"
   },
   {
    "duration": 11,
    "start_time": "2021-11-09T18:42:58.207Z"
   },
   {
    "duration": 13,
    "start_time": "2021-11-09T18:43:01.233Z"
   },
   {
    "duration": 5,
    "start_time": "2021-11-09T18:43:03.293Z"
   },
   {
    "duration": 10,
    "start_time": "2021-11-09T18:43:06.382Z"
   },
   {
    "duration": 9,
    "start_time": "2021-11-09T18:43:06.974Z"
   },
   {
    "duration": 14,
    "start_time": "2021-11-09T18:43:08.307Z"
   },
   {
    "duration": 330,
    "start_time": "2021-11-09T18:44:13.907Z"
   },
   {
    "duration": 275,
    "start_time": "2021-11-09T18:45:35.336Z"
   },
   {
    "duration": 268,
    "start_time": "2021-11-09T18:45:51.745Z"
   },
   {
    "duration": 358,
    "start_time": "2021-11-09T18:45:57.550Z"
   },
   {
    "duration": 264,
    "start_time": "2021-11-09T18:46:03.049Z"
   },
   {
    "duration": 257,
    "start_time": "2021-11-09T18:47:40.366Z"
   },
   {
    "duration": 250,
    "start_time": "2021-11-09T18:47:47.946Z"
   },
   {
    "duration": 250,
    "start_time": "2021-11-09T18:47:55.003Z"
   },
   {
    "duration": 258,
    "start_time": "2021-11-09T18:47:59.420Z"
   },
   {
    "duration": 259,
    "start_time": "2021-11-09T18:48:13.207Z"
   },
   {
    "duration": 285,
    "start_time": "2021-11-09T18:48:20.840Z"
   },
   {
    "duration": 250,
    "start_time": "2021-11-09T18:48:36.188Z"
   },
   {
    "duration": 255,
    "start_time": "2021-11-09T18:48:43.472Z"
   },
   {
    "duration": 16,
    "start_time": "2021-11-09T19:05:46.081Z"
   },
   {
    "duration": 15,
    "start_time": "2021-11-09T19:07:27.009Z"
   },
   {
    "duration": 8,
    "start_time": "2021-11-09T19:07:46.693Z"
   },
   {
    "duration": 7,
    "start_time": "2021-11-09T19:09:02.305Z"
   },
   {
    "duration": 6,
    "start_time": "2021-11-09T19:09:15.606Z"
   },
   {
    "duration": 8,
    "start_time": "2021-11-09T19:09:21.183Z"
   },
   {
    "duration": 7,
    "start_time": "2021-11-09T19:10:10.775Z"
   },
   {
    "duration": 14,
    "start_time": "2021-11-09T19:10:22.182Z"
   },
   {
    "duration": 7,
    "start_time": "2021-11-09T19:11:07.423Z"
   },
   {
    "duration": 10,
    "start_time": "2021-11-09T19:11:24.585Z"
   },
   {
    "duration": 2,
    "start_time": "2021-11-09T19:23:11.278Z"
   },
   {
    "duration": 10,
    "start_time": "2021-11-09T19:23:11.283Z"
   },
   {
    "duration": 21,
    "start_time": "2021-11-09T19:23:11.295Z"
   },
   {
    "duration": 46,
    "start_time": "2021-11-09T19:23:11.318Z"
   },
   {
    "duration": 3,
    "start_time": "2021-11-09T19:23:11.366Z"
   },
   {
    "duration": 11,
    "start_time": "2021-11-09T19:23:11.371Z"
   },
   {
    "duration": 23,
    "start_time": "2021-11-09T19:23:11.384Z"
   },
   {
    "duration": 10,
    "start_time": "2021-11-09T19:23:11.409Z"
   },
   {
    "duration": 21,
    "start_time": "2021-11-09T19:23:11.421Z"
   },
   {
    "duration": 15,
    "start_time": "2021-11-09T19:23:11.444Z"
   },
   {
    "duration": 23,
    "start_time": "2021-11-09T19:23:11.461Z"
   },
   {
    "duration": 43,
    "start_time": "2021-11-09T19:23:11.486Z"
   },
   {
    "duration": 43,
    "start_time": "2021-11-09T19:23:11.532Z"
   },
   {
    "duration": 7,
    "start_time": "2021-11-09T19:23:11.578Z"
   },
   {
    "duration": 7,
    "start_time": "2021-11-09T19:23:11.607Z"
   },
   {
    "duration": 1582,
    "start_time": "2021-11-09T19:23:11.616Z"
   },
   {
    "duration": 9,
    "start_time": "2021-11-09T19:23:13.200Z"
   },
   {
    "duration": 25,
    "start_time": "2021-11-09T19:23:13.211Z"
   },
   {
    "duration": 19,
    "start_time": "2021-11-09T19:23:13.238Z"
   },
   {
    "duration": 41,
    "start_time": "2021-11-09T19:23:13.259Z"
   },
   {
    "duration": 6,
    "start_time": "2021-11-09T19:23:13.302Z"
   },
   {
    "duration": 12,
    "start_time": "2021-11-09T19:23:13.309Z"
   },
   {
    "duration": 14,
    "start_time": "2021-11-09T19:23:13.323Z"
   },
   {
    "duration": 222,
    "start_time": "2021-11-09T19:23:13.339Z"
   },
   {
    "duration": 186,
    "start_time": "2021-11-09T19:23:13.563Z"
   },
   {
    "duration": 7,
    "start_time": "2021-11-09T19:23:13.751Z"
   },
   {
    "duration": 22,
    "start_time": "2021-11-09T19:23:13.759Z"
   },
   {
    "duration": 364,
    "start_time": "2021-11-09T19:23:13.785Z"
   },
   {
    "duration": 323,
    "start_time": "2021-11-09T19:23:14.151Z"
   },
   {
    "duration": 6,
    "start_time": "2021-11-09T19:23:14.476Z"
   },
   {
    "duration": 397,
    "start_time": "2021-11-09T19:23:14.484Z"
   },
   {
    "duration": 7,
    "start_time": "2021-11-09T19:23:14.883Z"
   },
   {
    "duration": 268,
    "start_time": "2021-11-09T19:23:14.892Z"
   },
   {
    "duration": 8,
    "start_time": "2021-11-09T19:23:15.162Z"
   },
   {
    "duration": 388,
    "start_time": "2021-11-09T19:23:15.172Z"
   },
   {
    "duration": 4,
    "start_time": "2021-11-09T19:23:15.562Z"
   },
   {
    "duration": 312,
    "start_time": "2021-11-09T19:23:15.568Z"
   },
   {
    "duration": 333,
    "start_time": "2021-11-09T19:23:15.882Z"
   },
   {
    "duration": 5,
    "start_time": "2021-11-09T19:23:16.217Z"
   },
   {
    "duration": 8,
    "start_time": "2021-11-09T19:23:16.224Z"
   },
   {
    "duration": 292,
    "start_time": "2021-11-09T19:23:16.234Z"
   },
   {
    "duration": 4,
    "start_time": "2021-11-09T19:23:16.528Z"
   },
   {
    "duration": 399,
    "start_time": "2021-11-09T19:23:16.534Z"
   },
   {
    "duration": 6,
    "start_time": "2021-11-09T19:23:16.935Z"
   },
   {
    "duration": 267,
    "start_time": "2021-11-09T19:23:16.943Z"
   },
   {
    "duration": 36,
    "start_time": "2021-11-09T19:23:17.212Z"
   },
   {
    "duration": 14,
    "start_time": "2021-11-09T19:23:17.251Z"
   },
   {
    "duration": 6,
    "start_time": "2021-11-09T19:23:17.267Z"
   },
   {
    "duration": 8,
    "start_time": "2021-11-09T19:23:17.275Z"
   },
   {
    "duration": 21,
    "start_time": "2021-11-09T19:23:17.285Z"
   },
   {
    "duration": 12,
    "start_time": "2021-11-09T19:23:17.308Z"
   },
   {
    "duration": 5,
    "start_time": "2021-11-09T19:23:17.322Z"
   },
   {
    "duration": 11,
    "start_time": "2021-11-09T19:23:17.329Z"
   },
   {
    "duration": 25,
    "start_time": "2021-11-09T19:23:17.341Z"
   },
   {
    "duration": 37,
    "start_time": "2021-11-09T19:23:17.367Z"
   },
   {
    "duration": 452,
    "start_time": "2021-11-09T20:46:53.902Z"
   },
   {
    "duration": 1513,
    "start_time": "2021-11-09T20:47:10.843Z"
   },
   {
    "duration": 4,
    "start_time": "2021-11-09T20:47:12.359Z"
   },
   {
    "duration": 20,
    "start_time": "2021-11-09T20:47:12.366Z"
   },
   {
    "duration": 62,
    "start_time": "2021-11-09T20:47:12.389Z"
   },
   {
    "duration": 28,
    "start_time": "2021-11-09T20:47:12.454Z"
   },
   {
    "duration": 11,
    "start_time": "2021-11-09T20:47:12.484Z"
   },
   {
    "duration": 6,
    "start_time": "2021-11-09T20:47:12.497Z"
   },
   {
    "duration": 6,
    "start_time": "2021-11-09T20:47:12.506Z"
   },
   {
    "duration": 14,
    "start_time": "2021-11-09T20:47:12.516Z"
   },
   {
    "duration": 58,
    "start_time": "2021-11-09T20:47:12.533Z"
   },
   {
    "duration": 90491,
    "start_time": "2021-11-09T20:47:12.593Z"
   },
   {
    "duration": 37,
    "start_time": "2021-11-09T20:48:43.088Z"
   },
   {
    "duration": 99,
    "start_time": "2021-11-09T20:48:43.129Z"
   },
   {
    "duration": 9,
    "start_time": "2021-11-09T20:48:43.231Z"
   },
   {
    "duration": 42,
    "start_time": "2021-11-09T20:48:43.243Z"
   },
   {
    "duration": 2259,
    "start_time": "2021-11-09T20:48:43.287Z"
   },
   {
    "duration": 6,
    "start_time": "2021-11-09T20:48:45.548Z"
   },
   {
    "duration": 31,
    "start_time": "2021-11-09T20:48:45.556Z"
   },
   {
    "duration": 19,
    "start_time": "2021-11-09T20:48:45.589Z"
   },
   {
    "duration": 72,
    "start_time": "2021-11-09T20:48:45.610Z"
   },
   {
    "duration": 8,
    "start_time": "2021-11-09T20:48:45.684Z"
   },
   {
    "duration": 16,
    "start_time": "2021-11-09T20:48:45.696Z"
   },
   {
    "duration": 13,
    "start_time": "2021-11-09T20:48:45.715Z"
   },
   {
    "duration": 425,
    "start_time": "2021-11-09T20:48:45.731Z"
   },
   {
    "duration": 284,
    "start_time": "2021-11-09T20:48:46.159Z"
   },
   {
    "duration": 9,
    "start_time": "2021-11-09T20:48:46.446Z"
   },
   {
    "duration": 30,
    "start_time": "2021-11-09T20:48:46.461Z"
   },
   {
    "duration": 525,
    "start_time": "2021-11-09T20:48:46.495Z"
   },
   {
    "duration": 536,
    "start_time": "2021-11-09T20:48:47.023Z"
   },
   {
    "duration": 20,
    "start_time": "2021-11-09T20:48:47.562Z"
   },
   {
    "duration": 549,
    "start_time": "2021-11-09T20:48:47.585Z"
   },
   {
    "duration": 9,
    "start_time": "2021-11-09T20:48:48.136Z"
   },
   {
    "duration": 401,
    "start_time": "2021-11-09T20:48:48.147Z"
   },
   {
    "duration": 12,
    "start_time": "2021-11-09T20:48:48.550Z"
   },
   {
    "duration": 537,
    "start_time": "2021-11-09T20:48:48.564Z"
   },
   {
    "duration": 5,
    "start_time": "2021-11-09T20:48:49.104Z"
   },
   {
    "duration": 400,
    "start_time": "2021-11-09T20:48:49.111Z"
   },
   {
    "duration": 378,
    "start_time": "2021-11-09T20:48:49.514Z"
   },
   {
    "duration": 6,
    "start_time": "2021-11-09T20:48:49.895Z"
   },
   {
    "duration": 8,
    "start_time": "2021-11-09T20:48:49.903Z"
   },
   {
    "duration": 9,
    "start_time": "2021-11-09T20:48:49.913Z"
   },
   {
    "duration": 428,
    "start_time": "2021-11-09T20:48:49.924Z"
   },
   {
    "duration": 8,
    "start_time": "2021-11-09T20:48:50.355Z"
   },
   {
    "duration": 394,
    "start_time": "2021-11-09T20:48:50.382Z"
   },
   {
    "duration": 8,
    "start_time": "2021-11-09T20:48:50.782Z"
   },
   {
    "duration": 425,
    "start_time": "2021-11-09T20:48:50.793Z"
   },
   {
    "duration": 66,
    "start_time": "2021-11-09T20:48:51.220Z"
   },
   {
    "duration": 21,
    "start_time": "2021-11-09T20:48:51.289Z"
   },
   {
    "duration": 8,
    "start_time": "2021-11-09T20:48:51.313Z"
   },
   {
    "duration": 13,
    "start_time": "2021-11-09T20:48:51.323Z"
   },
   {
    "duration": 44,
    "start_time": "2021-11-09T20:48:51.338Z"
   },
   {
    "duration": 14,
    "start_time": "2021-11-09T20:48:51.385Z"
   },
   {
    "duration": 6,
    "start_time": "2021-11-09T20:48:51.406Z"
   },
   {
    "duration": 11,
    "start_time": "2021-11-09T20:48:51.414Z"
   },
   {
    "duration": 15,
    "start_time": "2021-11-09T20:48:51.428Z"
   },
   {
    "duration": 54,
    "start_time": "2021-11-09T20:48:51.445Z"
   },
   {
    "duration": 9,
    "start_time": "2021-11-09T20:53:07.441Z"
   },
   {
    "duration": 326,
    "start_time": "2021-11-10T14:54:14.425Z"
   },
   {
    "duration": 1499,
    "start_time": "2021-11-10T14:54:18.711Z"
   },
   {
    "duration": 4,
    "start_time": "2021-11-10T14:54:20.213Z"
   },
   {
    "duration": 20,
    "start_time": "2021-11-10T14:54:20.224Z"
   },
   {
    "duration": 88,
    "start_time": "2021-11-10T14:54:20.247Z"
   },
   {
    "duration": 5,
    "start_time": "2021-11-10T14:54:20.337Z"
   },
   {
    "duration": 14,
    "start_time": "2021-11-10T14:54:20.344Z"
   },
   {
    "duration": 16,
    "start_time": "2021-11-10T14:54:20.360Z"
   },
   {
    "duration": 10,
    "start_time": "2021-11-10T14:54:20.380Z"
   },
   {
    "duration": 37,
    "start_time": "2021-11-10T14:54:20.393Z"
   },
   {
    "duration": 17,
    "start_time": "2021-11-10T14:54:20.433Z"
   },
   {
    "duration": 694,
    "start_time": "2021-11-10T14:54:20.452Z"
   },
   {
    "duration": 41,
    "start_time": "2021-11-10T14:54:21.149Z"
   },
   {
    "duration": 60,
    "start_time": "2021-11-10T14:54:21.193Z"
   },
   {
    "duration": 8,
    "start_time": "2021-11-10T14:54:21.256Z"
   },
   {
    "duration": 10,
    "start_time": "2021-11-10T14:54:21.267Z"
   },
   {
    "duration": 2274,
    "start_time": "2021-11-10T14:54:21.279Z"
   },
   {
    "duration": 12,
    "start_time": "2021-11-10T14:54:23.556Z"
   },
   {
    "duration": 7,
    "start_time": "2021-11-10T14:54:23.571Z"
   },
   {
    "duration": 47,
    "start_time": "2021-11-10T14:54:23.581Z"
   },
   {
    "duration": 19,
    "start_time": "2021-11-10T14:54:23.631Z"
   },
   {
    "duration": 72,
    "start_time": "2021-11-10T14:54:23.652Z"
   },
   {
    "duration": 8,
    "start_time": "2021-11-10T14:54:23.726Z"
   },
   {
    "duration": 6,
    "start_time": "2021-11-10T14:54:23.740Z"
   },
   {
    "duration": 10,
    "start_time": "2021-11-10T14:54:23.749Z"
   },
   {
    "duration": 362,
    "start_time": "2021-11-10T14:54:23.762Z"
   },
   {
    "duration": 296,
    "start_time": "2021-11-10T14:54:24.126Z"
   },
   {
    "duration": 9,
    "start_time": "2021-11-10T14:54:24.425Z"
   },
   {
    "duration": 14,
    "start_time": "2021-11-10T14:54:24.436Z"
   },
   {
    "duration": 528,
    "start_time": "2021-11-10T14:54:24.452Z"
   },
   {
    "duration": 529,
    "start_time": "2021-11-10T14:54:24.982Z"
   },
   {
    "duration": 14,
    "start_time": "2021-11-10T14:54:25.514Z"
   },
   {
    "duration": 554,
    "start_time": "2021-11-10T14:54:25.531Z"
   },
   {
    "duration": 10,
    "start_time": "2021-11-10T14:54:26.089Z"
   },
   {
    "duration": 420,
    "start_time": "2021-11-10T14:54:26.102Z"
   },
   {
    "duration": 12,
    "start_time": "2021-11-10T14:54:26.525Z"
   },
   {
    "duration": 444,
    "start_time": "2021-11-10T14:54:26.540Z"
   },
   {
    "duration": 6,
    "start_time": "2021-11-10T14:54:26.986Z"
   },
   {
    "duration": 414,
    "start_time": "2021-11-10T14:54:26.995Z"
   },
   {
    "duration": 401,
    "start_time": "2021-11-10T14:54:27.412Z"
   },
   {
    "duration": 11,
    "start_time": "2021-11-10T14:54:27.816Z"
   },
   {
    "duration": 8,
    "start_time": "2021-11-10T14:54:27.830Z"
   },
   {
    "duration": 9,
    "start_time": "2021-11-10T14:54:27.840Z"
   },
   {
    "duration": 374,
    "start_time": "2021-11-10T14:54:27.851Z"
   },
   {
    "duration": 7,
    "start_time": "2021-11-10T14:54:28.227Z"
   },
   {
    "duration": 394,
    "start_time": "2021-11-10T14:54:28.236Z"
   },
   {
    "duration": 7,
    "start_time": "2021-11-10T14:54:28.632Z"
   },
   {
    "duration": 424,
    "start_time": "2021-11-10T14:54:28.642Z"
   },
   {
    "duration": 63,
    "start_time": "2021-11-10T14:54:29.068Z"
   },
   {
    "duration": 16,
    "start_time": "2021-11-10T14:54:29.133Z"
   },
   {
    "duration": 8,
    "start_time": "2021-11-10T14:54:29.152Z"
   },
   {
    "duration": 12,
    "start_time": "2021-11-10T14:54:29.162Z"
   },
   {
    "duration": 54,
    "start_time": "2021-11-10T14:54:29.176Z"
   },
   {
    "duration": 17,
    "start_time": "2021-11-10T14:54:29.233Z"
   },
   {
    "duration": 6,
    "start_time": "2021-11-10T14:54:29.252Z"
   },
   {
    "duration": 12,
    "start_time": "2021-11-10T14:54:29.260Z"
   },
   {
    "duration": 51,
    "start_time": "2021-11-10T14:54:29.274Z"
   },
   {
    "duration": 21,
    "start_time": "2021-11-10T14:54:29.328Z"
   },
   {
    "duration": 8064,
    "start_time": "2021-11-10T14:56:37.038Z"
   },
   {
    "duration": 13,
    "start_time": "2021-11-10T14:57:07.812Z"
   },
   {
    "duration": 14,
    "start_time": "2021-11-10T14:57:51.365Z"
   },
   {
    "duration": 16,
    "start_time": "2021-11-10T14:58:05.638Z"
   },
   {
    "duration": 9,
    "start_time": "2021-11-10T14:58:36.212Z"
   },
   {
    "duration": 11,
    "start_time": "2021-11-10T14:58:42.725Z"
   },
   {
    "duration": 15,
    "start_time": "2021-11-10T14:59:39.424Z"
   },
   {
    "duration": 4308,
    "start_time": "2021-11-10T14:59:50.901Z"
   },
   {
    "duration": 11,
    "start_time": "2021-11-10T15:00:10.135Z"
   },
   {
    "duration": 12,
    "start_time": "2021-11-10T15:00:31.509Z"
   },
   {
    "duration": 91,
    "start_time": "2021-11-10T15:01:09.215Z"
   },
   {
    "duration": 14,
    "start_time": "2021-11-10T15:01:16.636Z"
   },
   {
    "duration": 14,
    "start_time": "2021-11-10T15:01:24.340Z"
   },
   {
    "duration": 15,
    "start_time": "2021-11-10T15:08:20.042Z"
   },
   {
    "duration": 12,
    "start_time": "2021-11-10T15:08:27.735Z"
   },
   {
    "duration": 9,
    "start_time": "2021-11-10T15:08:40.034Z"
   },
   {
    "duration": 7,
    "start_time": "2021-11-10T15:08:41.180Z"
   },
   {
    "duration": 22,
    "start_time": "2021-11-10T15:08:44.408Z"
   },
   {
    "duration": 95,
    "start_time": "2021-11-10T15:09:30.412Z"
   },
   {
    "duration": 8,
    "start_time": "2021-11-10T15:09:52.910Z"
   },
   {
    "duration": 336,
    "start_time": "2021-11-10T15:09:53.615Z"
   },
   {
    "duration": 285,
    "start_time": "2021-11-10T15:09:54.411Z"
   },
   {
    "duration": 10,
    "start_time": "2021-11-10T15:09:55.135Z"
   },
   {
    "duration": 11,
    "start_time": "2021-11-10T15:09:55.791Z"
   },
   {
    "duration": 524,
    "start_time": "2021-11-10T15:09:56.564Z"
   },
   {
    "duration": 431,
    "start_time": "2021-11-10T15:10:10.164Z"
   },
   {
    "duration": 9,
    "start_time": "2021-11-10T15:10:14.105Z"
   },
   {
    "duration": 459,
    "start_time": "2021-11-10T15:10:14.883Z"
   },
   {
    "duration": 9,
    "start_time": "2021-11-10T15:10:22.386Z"
   },
   {
    "duration": 426,
    "start_time": "2021-11-10T15:10:23.275Z"
   },
   {
    "duration": 12,
    "start_time": "2021-11-10T15:10:30.188Z"
   },
   {
    "duration": 544,
    "start_time": "2021-11-10T15:10:31.041Z"
   },
   {
    "duration": 9,
    "start_time": "2021-11-10T15:10:38.787Z"
   },
   {
    "duration": 378,
    "start_time": "2021-11-10T15:10:39.437Z"
   },
   {
    "duration": 477,
    "start_time": "2021-11-10T15:10:41.958Z"
   },
   {
    "duration": 6,
    "start_time": "2021-11-10T15:10:50.158Z"
   },
   {
    "duration": 8,
    "start_time": "2021-11-10T15:11:03.996Z"
   },
   {
    "duration": 10,
    "start_time": "2021-11-10T15:11:45.325Z"
   },
   {
    "duration": 378,
    "start_time": "2021-11-10T15:11:47.040Z"
   },
   {
    "duration": 7,
    "start_time": "2021-11-10T15:11:50.516Z"
   },
   {
    "duration": 420,
    "start_time": "2021-11-10T15:11:53.293Z"
   },
   {
    "duration": 7,
    "start_time": "2021-11-10T15:11:56.755Z"
   },
   {
    "duration": 405,
    "start_time": "2021-11-10T15:12:07.565Z"
   },
   {
    "duration": 53,
    "start_time": "2021-11-10T15:12:08.577Z"
   },
   {
    "duration": 19,
    "start_time": "2021-11-10T15:12:11.462Z"
   },
   {
    "duration": 8,
    "start_time": "2021-11-10T15:12:12.239Z"
   },
   {
    "duration": 11,
    "start_time": "2021-11-10T15:12:15.645Z"
   },
   {
    "duration": 16,
    "start_time": "2021-11-10T15:12:18.735Z"
   },
   {
    "duration": 20,
    "start_time": "2021-11-10T15:13:14.159Z"
   },
   {
    "duration": 6,
    "start_time": "2021-11-10T15:13:19.672Z"
   },
   {
    "duration": 16,
    "start_time": "2021-11-10T15:13:23.277Z"
   },
   {
    "duration": 10,
    "start_time": "2021-11-10T15:13:25.840Z"
   },
   {
    "duration": 22,
    "start_time": "2021-11-10T15:13:32.467Z"
   },
   {
    "duration": 4,
    "start_time": "2021-11-10T16:32:10.137Z"
   },
   {
    "duration": 4,
    "start_time": "2021-11-10T16:32:10.145Z"
   },
   {
    "duration": 18,
    "start_time": "2021-11-10T16:32:10.164Z"
   },
   {
    "duration": 63,
    "start_time": "2021-11-10T16:32:10.185Z"
   },
   {
    "duration": 4,
    "start_time": "2021-11-10T16:32:10.251Z"
   },
   {
    "duration": 6,
    "start_time": "2021-11-10T16:32:10.261Z"
   },
   {
    "duration": 6,
    "start_time": "2021-11-10T16:32:10.270Z"
   },
   {
    "duration": 4,
    "start_time": "2021-11-10T16:32:10.323Z"
   },
   {
    "duration": 22,
    "start_time": "2021-11-10T16:32:10.330Z"
   },
   {
    "duration": 18,
    "start_time": "2021-11-10T16:32:10.356Z"
   },
   {
    "duration": 56,
    "start_time": "2021-11-10T16:32:10.377Z"
   },
   {
    "duration": 39,
    "start_time": "2021-11-10T16:32:10.436Z"
   },
   {
    "duration": 67,
    "start_time": "2021-11-10T16:32:10.478Z"
   },
   {
    "duration": 9,
    "start_time": "2021-11-10T16:32:10.548Z"
   },
   {
    "duration": 7,
    "start_time": "2021-11-10T16:32:10.559Z"
   },
   {
    "duration": 2700,
    "start_time": "2021-11-10T16:32:10.570Z"
   },
   {
    "duration": 13,
    "start_time": "2021-11-10T16:32:13.273Z"
   },
   {
    "duration": 7,
    "start_time": "2021-11-10T16:32:13.289Z"
   },
   {
    "duration": 30,
    "start_time": "2021-11-10T16:32:13.298Z"
   },
   {
    "duration": 21,
    "start_time": "2021-11-10T16:32:13.331Z"
   },
   {
    "duration": 19,
    "start_time": "2021-11-10T16:32:13.355Z"
   },
   {
    "duration": 68,
    "start_time": "2021-11-10T16:32:13.376Z"
   },
   {
    "duration": 7,
    "start_time": "2021-11-10T16:32:13.446Z"
   },
   {
    "duration": 13,
    "start_time": "2021-11-10T16:32:13.456Z"
   },
   {
    "duration": 8,
    "start_time": "2021-11-10T16:32:13.472Z"
   },
   {
    "duration": 372,
    "start_time": "2021-11-10T16:32:13.483Z"
   },
   {
    "duration": 285,
    "start_time": "2021-11-10T16:32:13.857Z"
   },
   {
    "duration": 11,
    "start_time": "2021-11-10T16:32:14.146Z"
   },
   {
    "duration": 21,
    "start_time": "2021-11-10T16:32:14.160Z"
   },
   {
    "duration": 547,
    "start_time": "2021-11-10T16:32:14.184Z"
   },
   {
    "duration": 451,
    "start_time": "2021-11-10T16:32:14.734Z"
   },
   {
    "duration": 11,
    "start_time": "2021-11-10T16:32:15.188Z"
   },
   {
    "duration": 560,
    "start_time": "2021-11-10T16:32:15.202Z"
   },
   {
    "duration": 9,
    "start_time": "2021-11-10T16:32:15.768Z"
   },
   {
    "duration": 442,
    "start_time": "2021-11-10T16:32:15.780Z"
   },
   {
    "duration": 13,
    "start_time": "2021-11-10T16:32:16.224Z"
   },
   {
    "duration": 440,
    "start_time": "2021-11-10T16:32:16.239Z"
   },
   {
    "duration": 5,
    "start_time": "2021-11-10T16:32:16.682Z"
   },
   {
    "duration": 416,
    "start_time": "2021-11-10T16:32:16.690Z"
   },
   {
    "duration": 435,
    "start_time": "2021-11-10T16:32:17.109Z"
   },
   {
    "duration": 6,
    "start_time": "2021-11-10T16:32:17.547Z"
   },
   {
    "duration": 13,
    "start_time": "2021-11-10T16:32:17.556Z"
   },
   {
    "duration": 20,
    "start_time": "2021-11-10T16:32:17.571Z"
   },
   {
    "duration": 420,
    "start_time": "2021-11-10T16:32:17.594Z"
   },
   {
    "duration": 11,
    "start_time": "2021-11-10T16:32:18.016Z"
   },
   {
    "duration": 403,
    "start_time": "2021-11-10T16:32:18.030Z"
   },
   {
    "duration": 7,
    "start_time": "2021-11-10T16:32:18.436Z"
   },
   {
    "duration": 430,
    "start_time": "2021-11-10T16:32:18.446Z"
   },
   {
    "duration": 70,
    "start_time": "2021-11-10T16:32:18.879Z"
   },
   {
    "duration": 17,
    "start_time": "2021-11-10T16:32:18.951Z"
   },
   {
    "duration": 8,
    "start_time": "2021-11-10T16:32:18.971Z"
   },
   {
    "duration": 41,
    "start_time": "2021-11-10T16:32:18.982Z"
   },
   {
    "duration": 15,
    "start_time": "2021-11-10T16:32:19.026Z"
   },
   {
    "duration": 17,
    "start_time": "2021-11-10T16:32:19.043Z"
   },
   {
    "duration": 6,
    "start_time": "2021-11-10T16:32:19.063Z"
   },
   {
    "duration": 53,
    "start_time": "2021-11-10T16:32:19.071Z"
   },
   {
    "duration": 10,
    "start_time": "2021-11-10T16:32:19.127Z"
   },
   {
    "duration": 20,
    "start_time": "2021-11-10T16:32:19.139Z"
   },
   {
    "duration": 4,
    "start_time": "2021-11-10T16:41:20.725Z"
   },
   {
    "duration": 8,
    "start_time": "2021-11-10T16:41:20.733Z"
   },
   {
    "duration": 21,
    "start_time": "2021-11-10T16:41:20.744Z"
   },
   {
    "duration": 84,
    "start_time": "2021-11-10T16:41:20.767Z"
   },
   {
    "duration": 4,
    "start_time": "2021-11-10T16:41:20.854Z"
   },
   {
    "duration": 15,
    "start_time": "2021-11-10T16:41:20.861Z"
   },
   {
    "duration": 44,
    "start_time": "2021-11-10T16:41:20.879Z"
   },
   {
    "duration": 7,
    "start_time": "2021-11-10T16:41:20.926Z"
   },
   {
    "duration": 17,
    "start_time": "2021-11-10T16:41:20.935Z"
   },
   {
    "duration": 28,
    "start_time": "2021-11-10T16:41:20.956Z"
   },
   {
    "duration": 57,
    "start_time": "2021-11-10T16:41:20.987Z"
   },
   {
    "duration": 39,
    "start_time": "2021-11-10T16:41:21.046Z"
   },
   {
    "duration": 71,
    "start_time": "2021-11-10T16:41:21.087Z"
   },
   {
    "duration": 8,
    "start_time": "2021-11-10T16:41:21.161Z"
   },
   {
    "duration": 51,
    "start_time": "2021-11-10T16:41:21.172Z"
   },
   {
    "duration": 3197,
    "start_time": "2021-11-10T16:41:21.225Z"
   },
   {
    "duration": 16,
    "start_time": "2021-11-10T16:41:24.425Z"
   },
   {
    "duration": 7,
    "start_time": "2021-11-10T16:41:24.444Z"
   },
   {
    "duration": 11,
    "start_time": "2021-11-10T16:41:24.454Z"
   },
   {
    "duration": 21,
    "start_time": "2021-11-10T16:41:24.467Z"
   },
   {
    "duration": 39,
    "start_time": "2021-11-10T16:41:24.490Z"
   },
   {
    "duration": 47,
    "start_time": "2021-11-10T16:41:24.531Z"
   },
   {
    "duration": 7,
    "start_time": "2021-11-10T16:41:24.580Z"
   },
   {
    "duration": 6,
    "start_time": "2021-11-10T16:41:24.626Z"
   },
   {
    "duration": 9,
    "start_time": "2021-11-10T16:41:24.635Z"
   },
   {
    "duration": 350,
    "start_time": "2021-11-10T16:41:24.646Z"
   },
   {
    "duration": 284,
    "start_time": "2021-11-10T16:41:24.998Z"
   },
   {
    "duration": 11,
    "start_time": "2021-11-10T16:41:25.284Z"
   },
   {
    "duration": 29,
    "start_time": "2021-11-10T16:41:25.297Z"
   },
   {
    "duration": 611,
    "start_time": "2021-11-10T16:41:25.329Z"
   },
   {
    "duration": 480,
    "start_time": "2021-11-10T16:41:25.943Z"
   },
   {
    "duration": 10,
    "start_time": "2021-11-10T16:41:26.425Z"
   },
   {
    "duration": 450,
    "start_time": "2021-11-10T16:41:26.437Z"
   },
   {
    "duration": 9,
    "start_time": "2021-11-10T16:41:26.890Z"
   },
   {
    "duration": 534,
    "start_time": "2021-11-10T16:41:26.902Z"
   },
   {
    "duration": 14,
    "start_time": "2021-11-10T16:41:27.438Z"
   },
   {
    "duration": 559,
    "start_time": "2021-11-10T16:41:27.454Z"
   },
   {
    "duration": 9,
    "start_time": "2021-11-10T16:41:28.016Z"
   },
   {
    "duration": 378,
    "start_time": "2021-11-10T16:41:28.028Z"
   },
   {
    "duration": 428,
    "start_time": "2021-11-10T16:41:28.409Z"
   },
   {
    "duration": 7,
    "start_time": "2021-11-10T16:41:28.840Z"
   },
   {
    "duration": 10,
    "start_time": "2021-11-10T16:41:28.850Z"
   },
   {
    "duration": 25,
    "start_time": "2021-11-10T16:41:28.863Z"
   },
   {
    "duration": 516,
    "start_time": "2021-11-10T16:41:28.891Z"
   },
   {
    "duration": 15,
    "start_time": "2021-11-10T16:41:29.410Z"
   },
   {
    "duration": 398,
    "start_time": "2021-11-10T16:41:29.428Z"
   },
   {
    "duration": 6,
    "start_time": "2021-11-10T16:41:29.828Z"
   },
   {
    "duration": 429,
    "start_time": "2021-11-10T16:41:29.836Z"
   },
   {
    "duration": 68,
    "start_time": "2021-11-10T16:41:30.267Z"
   },
   {
    "duration": 16,
    "start_time": "2021-11-10T16:41:30.338Z"
   },
   {
    "duration": 8,
    "start_time": "2021-11-10T16:41:30.357Z"
   },
   {
    "duration": 26,
    "start_time": "2021-11-10T16:41:30.368Z"
   },
   {
    "duration": 37,
    "start_time": "2021-11-10T16:41:30.397Z"
   },
   {
    "duration": 20,
    "start_time": "2021-11-10T16:41:30.437Z"
   },
   {
    "duration": 9,
    "start_time": "2021-11-10T16:41:30.460Z"
   },
   {
    "duration": 55,
    "start_time": "2021-11-10T16:41:30.472Z"
   },
   {
    "duration": 9,
    "start_time": "2021-11-10T16:41:30.529Z"
   },
   {
    "duration": 20,
    "start_time": "2021-11-10T16:41:30.540Z"
   },
   {
    "duration": 1148,
    "start_time": "2021-11-10T20:18:23.284Z"
   },
   {
    "duration": 2,
    "start_time": "2021-11-10T20:18:24.434Z"
   },
   {
    "duration": 18,
    "start_time": "2021-11-10T20:18:24.440Z"
   },
   {
    "duration": 40,
    "start_time": "2021-11-10T20:18:24.460Z"
   },
   {
    "duration": 3,
    "start_time": "2021-11-10T20:18:24.502Z"
   },
   {
    "duration": 13,
    "start_time": "2021-11-10T20:18:24.506Z"
   },
   {
    "duration": 5,
    "start_time": "2021-11-10T20:18:24.521Z"
   },
   {
    "duration": 4,
    "start_time": "2021-11-10T20:18:24.529Z"
   },
   {
    "duration": 33,
    "start_time": "2021-11-10T20:18:24.536Z"
   },
   {
    "duration": 10,
    "start_time": "2021-11-10T20:18:24.571Z"
   },
   {
    "duration": 55611,
    "start_time": "2021-11-10T20:18:24.582Z"
   },
   {
    "duration": 37,
    "start_time": "2021-11-10T20:19:20.195Z"
   },
   {
    "duration": 48,
    "start_time": "2021-11-10T20:19:20.234Z"
   },
   {
    "duration": 5,
    "start_time": "2021-11-10T20:19:20.284Z"
   },
   {
    "duration": 6,
    "start_time": "2021-11-10T20:19:20.291Z"
   },
   {
    "duration": 1301,
    "start_time": "2021-11-10T20:19:20.299Z"
   },
   {
    "duration": 8,
    "start_time": "2021-11-10T20:19:21.602Z"
   },
   {
    "duration": 8,
    "start_time": "2021-11-10T20:19:21.612Z"
   },
   {
    "duration": 22,
    "start_time": "2021-11-10T20:19:21.621Z"
   },
   {
    "duration": 30,
    "start_time": "2021-11-10T20:19:21.644Z"
   },
   {
    "duration": 43,
    "start_time": "2021-11-10T20:19:21.675Z"
   },
   {
    "duration": 34,
    "start_time": "2021-11-10T20:19:21.720Z"
   },
   {
    "duration": 6,
    "start_time": "2021-11-10T20:19:21.756Z"
   },
   {
    "duration": 6,
    "start_time": "2021-11-10T20:19:21.764Z"
   },
   {
    "duration": 8,
    "start_time": "2021-11-10T20:19:21.772Z"
   },
   {
    "duration": 187,
    "start_time": "2021-11-10T20:19:21.784Z"
   },
   {
    "duration": 163,
    "start_time": "2021-11-10T20:19:21.973Z"
   },
   {
    "duration": 7,
    "start_time": "2021-11-10T20:19:22.138Z"
   },
   {
    "duration": 17,
    "start_time": "2021-11-10T20:19:22.147Z"
   },
   {
    "duration": 325,
    "start_time": "2021-11-10T20:19:22.166Z"
   },
   {
    "duration": 342,
    "start_time": "2021-11-10T20:19:22.493Z"
   },
   {
    "duration": 7,
    "start_time": "2021-11-10T20:19:22.837Z"
   },
   {
    "duration": 393,
    "start_time": "2021-11-10T20:19:22.846Z"
   },
   {
    "duration": 6,
    "start_time": "2021-11-10T20:19:23.241Z"
   },
   {
    "duration": 250,
    "start_time": "2021-11-10T20:19:23.249Z"
   },
   {
    "duration": 7,
    "start_time": "2021-11-10T20:19:23.502Z"
   },
   {
    "duration": 301,
    "start_time": "2021-11-10T20:19:23.511Z"
   },
   {
    "duration": 4,
    "start_time": "2021-11-10T20:19:23.815Z"
   },
   {
    "duration": 324,
    "start_time": "2021-11-10T20:19:23.821Z"
   },
   {
    "duration": 335,
    "start_time": "2021-11-10T20:19:24.147Z"
   },
   {
    "duration": 6,
    "start_time": "2021-11-10T20:19:24.485Z"
   },
   {
    "duration": 7,
    "start_time": "2021-11-10T20:19:24.492Z"
   },
   {
    "duration": 9,
    "start_time": "2021-11-10T20:19:24.501Z"
   },
   {
    "duration": 274,
    "start_time": "2021-11-10T20:19:24.512Z"
   },
   {
    "duration": 5,
    "start_time": "2021-11-10T20:19:24.787Z"
   },
   {
    "duration": 275,
    "start_time": "2021-11-10T20:19:24.793Z"
   },
   {
    "duration": 5,
    "start_time": "2021-11-10T20:19:25.070Z"
   },
   {
    "duration": 248,
    "start_time": "2021-11-10T20:19:25.077Z"
   },
   {
    "duration": 39,
    "start_time": "2021-11-10T20:19:25.327Z"
   },
   {
    "duration": 10,
    "start_time": "2021-11-10T20:19:25.367Z"
   },
   {
    "duration": 6,
    "start_time": "2021-11-10T20:19:25.378Z"
   },
   {
    "duration": 14,
    "start_time": "2021-11-10T20:19:25.385Z"
   },
   {
    "duration": 11,
    "start_time": "2021-11-10T20:19:25.401Z"
   },
   {
    "duration": 12,
    "start_time": "2021-11-10T20:19:25.414Z"
   },
   {
    "duration": 37,
    "start_time": "2021-11-10T20:19:25.428Z"
   },
   {
    "duration": 10,
    "start_time": "2021-11-10T20:19:25.467Z"
   },
   {
    "duration": 14,
    "start_time": "2021-11-10T20:19:25.479Z"
   },
   {
    "duration": 15,
    "start_time": "2021-11-10T20:19:25.496Z"
   },
   {
    "duration": 1448,
    "start_time": "2021-11-11T15:27:32.364Z"
   },
   {
    "duration": 3,
    "start_time": "2021-11-11T15:27:33.814Z"
   },
   {
    "duration": 24,
    "start_time": "2021-11-11T15:27:33.820Z"
   },
   {
    "duration": 84,
    "start_time": "2021-11-11T15:27:33.847Z"
   },
   {
    "duration": 4,
    "start_time": "2021-11-11T15:27:33.933Z"
   },
   {
    "duration": 10,
    "start_time": "2021-11-11T15:27:33.940Z"
   },
   {
    "duration": 6,
    "start_time": "2021-11-11T15:27:33.952Z"
   },
   {
    "duration": 4,
    "start_time": "2021-11-11T15:27:33.962Z"
   },
   {
    "duration": 19,
    "start_time": "2021-11-11T15:27:33.969Z"
   },
   {
    "duration": 15,
    "start_time": "2021-11-11T15:27:34.030Z"
   },
   {
    "duration": 594,
    "start_time": "2021-11-11T15:27:34.047Z"
   },
   {
    "duration": 34,
    "start_time": "2021-11-11T15:27:34.644Z"
   },
   {
    "duration": 71,
    "start_time": "2021-11-11T15:27:34.680Z"
   },
   {
    "duration": 9,
    "start_time": "2021-11-11T15:27:34.754Z"
   },
   {
    "duration": 7,
    "start_time": "2021-11-11T15:27:34.765Z"
   },
   {
    "duration": 2228,
    "start_time": "2021-11-11T15:27:34.774Z"
   },
   {
    "duration": 11,
    "start_time": "2021-11-11T15:27:37.004Z"
   },
   {
    "duration": 7,
    "start_time": "2021-11-11T15:27:37.029Z"
   },
   {
    "duration": 22,
    "start_time": "2021-11-11T15:27:37.038Z"
   },
   {
    "duration": 6,
    "start_time": "2021-11-11T15:27:37.063Z"
   },
   {
    "duration": 20,
    "start_time": "2021-11-11T15:27:37.072Z"
   },
   {
    "duration": 36,
    "start_time": "2021-11-11T15:27:37.094Z"
   },
   {
    "duration": 43,
    "start_time": "2021-11-11T15:27:37.136Z"
   },
   {
    "duration": 6,
    "start_time": "2021-11-11T15:27:37.183Z"
   },
   {
    "duration": 37,
    "start_time": "2021-11-11T15:27:37.192Z"
   },
   {
    "duration": 12,
    "start_time": "2021-11-11T15:27:37.232Z"
   },
   {
    "duration": 330,
    "start_time": "2021-11-11T15:27:37.247Z"
   },
   {
    "duration": 279,
    "start_time": "2021-11-11T15:27:37.579Z"
   },
   {
    "duration": 9,
    "start_time": "2021-11-11T15:27:37.861Z"
   },
   {
    "duration": 14,
    "start_time": "2021-11-11T15:27:37.873Z"
   },
   {
    "duration": 545,
    "start_time": "2021-11-11T15:27:37.889Z"
   },
   {
    "duration": 558,
    "start_time": "2021-11-11T15:27:38.436Z"
   },
   {
    "duration": 9,
    "start_time": "2021-11-11T15:27:38.997Z"
   },
   {
    "duration": 525,
    "start_time": "2021-11-11T15:27:39.009Z"
   },
   {
    "duration": 9,
    "start_time": "2021-11-11T15:27:39.537Z"
   },
   {
    "duration": 407,
    "start_time": "2021-11-11T15:27:39.548Z"
   },
   {
    "duration": 11,
    "start_time": "2021-11-11T15:27:39.957Z"
   },
   {
    "duration": 429,
    "start_time": "2021-11-11T15:27:39.970Z"
   },
   {
    "duration": 5,
    "start_time": "2021-11-11T15:27:40.401Z"
   },
   {
    "duration": 396,
    "start_time": "2021-11-11T15:27:40.408Z"
   },
   {
    "duration": 447,
    "start_time": "2021-11-11T15:27:40.806Z"
   },
   {
    "duration": 7,
    "start_time": "2021-11-11T15:27:41.256Z"
   },
   {
    "duration": 9,
    "start_time": "2021-11-11T15:27:41.266Z"
   },
   {
    "duration": 9,
    "start_time": "2021-11-11T15:27:41.278Z"
   },
   {
    "duration": 394,
    "start_time": "2021-11-11T15:27:41.330Z"
   },
   {
    "duration": 7,
    "start_time": "2021-11-11T15:27:41.728Z"
   },
   {
    "duration": 396,
    "start_time": "2021-11-11T15:27:41.737Z"
   },
   {
    "duration": 9,
    "start_time": "2021-11-11T15:27:42.136Z"
   },
   {
    "duration": 434,
    "start_time": "2021-11-11T15:27:42.148Z"
   },
   {
    "duration": 69,
    "start_time": "2021-11-11T15:27:42.584Z"
   },
   {
    "duration": 18,
    "start_time": "2021-11-11T15:27:42.656Z"
   },
   {
    "duration": 18,
    "start_time": "2021-11-11T15:27:42.676Z"
   },
   {
    "duration": 39,
    "start_time": "2021-11-11T15:27:42.696Z"
   },
   {
    "duration": 16,
    "start_time": "2021-11-11T15:27:42.738Z"
   },
   {
    "duration": 16,
    "start_time": "2021-11-11T15:27:42.756Z"
   },
   {
    "duration": 7,
    "start_time": "2021-11-11T15:27:42.774Z"
   },
   {
    "duration": 51,
    "start_time": "2021-11-11T15:27:42.783Z"
   },
   {
    "duration": 9,
    "start_time": "2021-11-11T15:27:42.837Z"
   },
   {
    "duration": 20,
    "start_time": "2021-11-11T15:27:42.849Z"
   },
   {
    "duration": 4,
    "start_time": "2021-11-11T15:29:20.895Z"
   },
   {
    "duration": 4,
    "start_time": "2021-11-11T15:29:20.905Z"
   },
   {
    "duration": 19,
    "start_time": "2021-11-11T15:29:20.912Z"
   },
   {
    "duration": 67,
    "start_time": "2021-11-11T15:29:20.934Z"
   },
   {
    "duration": 26,
    "start_time": "2021-11-11T15:29:21.004Z"
   },
   {
    "duration": 12,
    "start_time": "2021-11-11T15:29:21.032Z"
   },
   {
    "duration": 7,
    "start_time": "2021-11-11T15:29:21.047Z"
   },
   {
    "duration": 8,
    "start_time": "2021-11-11T15:29:21.057Z"
   },
   {
    "duration": 21,
    "start_time": "2021-11-11T15:29:21.067Z"
   },
   {
    "duration": 43,
    "start_time": "2021-11-11T15:29:21.091Z"
   },
   {
    "duration": 31,
    "start_time": "2021-11-11T15:29:21.137Z"
   },
   {
    "duration": 36,
    "start_time": "2021-11-11T15:29:21.171Z"
   },
   {
    "duration": 71,
    "start_time": "2021-11-11T15:29:21.210Z"
   },
   {
    "duration": 47,
    "start_time": "2021-11-11T15:29:21.283Z"
   },
   {
    "duration": 7,
    "start_time": "2021-11-11T15:29:21.335Z"
   },
   {
    "duration": 2406,
    "start_time": "2021-11-11T15:29:21.345Z"
   },
   {
    "duration": 13,
    "start_time": "2021-11-11T15:29:23.754Z"
   },
   {
    "duration": 35,
    "start_time": "2021-11-11T15:29:23.769Z"
   },
   {
    "duration": 73,
    "start_time": "2021-11-11T15:29:23.806Z"
   },
   {
    "duration": 8,
    "start_time": "2021-11-11T15:29:23.882Z"
   },
   {
    "duration": 53,
    "start_time": "2021-11-11T15:29:23.893Z"
   },
   {
    "duration": 35,
    "start_time": "2021-11-11T15:29:23.948Z"
   },
   {
    "duration": 72,
    "start_time": "2021-11-11T15:29:23.986Z"
   },
   {
    "duration": 7,
    "start_time": "2021-11-11T15:29:24.060Z"
   },
   {
    "duration": 10,
    "start_time": "2021-11-11T15:29:24.070Z"
   },
   {
    "duration": 19,
    "start_time": "2021-11-11T15:29:24.083Z"
   },
   {
    "duration": 338,
    "start_time": "2021-11-11T15:29:24.104Z"
   },
   {
    "duration": 286,
    "start_time": "2021-11-11T15:29:24.445Z"
   },
   {
    "duration": 10,
    "start_time": "2021-11-11T15:29:24.733Z"
   },
   {
    "duration": 14,
    "start_time": "2021-11-11T15:29:24.745Z"
   },
   {
    "duration": 542,
    "start_time": "2021-11-11T15:29:24.762Z"
   },
   {
    "duration": 422,
    "start_time": "2021-11-11T15:29:25.307Z"
   },
   {
    "duration": 8,
    "start_time": "2021-11-11T15:29:25.731Z"
   },
   {
    "duration": 445,
    "start_time": "2021-11-11T15:29:25.742Z"
   },
   {
    "duration": 9,
    "start_time": "2021-11-11T15:29:26.189Z"
   },
   {
    "duration": 413,
    "start_time": "2021-11-11T15:29:26.200Z"
   },
   {
    "duration": 21,
    "start_time": "2021-11-11T15:29:26.618Z"
   },
   {
    "duration": 442,
    "start_time": "2021-11-11T15:29:26.642Z"
   },
   {
    "duration": 5,
    "start_time": "2021-11-11T15:29:27.086Z"
   },
   {
    "duration": 405,
    "start_time": "2021-11-11T15:29:27.093Z"
   },
   {
    "duration": 429,
    "start_time": "2021-11-11T15:29:27.500Z"
   },
   {
    "duration": 7,
    "start_time": "2021-11-11T15:29:27.932Z"
   },
   {
    "duration": 8,
    "start_time": "2021-11-11T15:29:27.941Z"
   },
   {
    "duration": 11,
    "start_time": "2021-11-11T15:29:27.951Z"
   },
   {
    "duration": 470,
    "start_time": "2021-11-11T15:29:27.965Z"
   },
   {
    "duration": 8,
    "start_time": "2021-11-11T15:29:28.438Z"
   },
   {
    "duration": 393,
    "start_time": "2021-11-11T15:29:28.449Z"
   },
   {
    "duration": 6,
    "start_time": "2021-11-11T15:29:28.845Z"
   },
   {
    "duration": 415,
    "start_time": "2021-11-11T15:29:28.853Z"
   },
   {
    "duration": 68,
    "start_time": "2021-11-11T15:29:29.270Z"
   },
   {
    "duration": 16,
    "start_time": "2021-11-11T15:29:29.340Z"
   },
   {
    "duration": 7,
    "start_time": "2021-11-11T15:29:29.359Z"
   },
   {
    "duration": 11,
    "start_time": "2021-11-11T15:29:29.368Z"
   },
   {
    "duration": 48,
    "start_time": "2021-11-11T15:29:29.381Z"
   },
   {
    "duration": 17,
    "start_time": "2021-11-11T15:29:29.431Z"
   },
   {
    "duration": 6,
    "start_time": "2021-11-11T15:29:29.450Z"
   },
   {
    "duration": 13,
    "start_time": "2021-11-11T15:29:29.458Z"
   },
   {
    "duration": 14,
    "start_time": "2021-11-11T15:29:29.473Z"
   },
   {
    "duration": 56,
    "start_time": "2021-11-11T15:29:29.490Z"
   },
   {
    "duration": 4,
    "start_time": "2021-11-11T15:31:06.776Z"
   },
   {
    "duration": 9,
    "start_time": "2021-11-11T15:31:06.784Z"
   },
   {
    "duration": 16,
    "start_time": "2021-11-11T15:31:06.796Z"
   },
   {
    "duration": 66,
    "start_time": "2021-11-11T15:31:06.815Z"
   },
   {
    "duration": 4,
    "start_time": "2021-11-11T15:31:06.883Z"
   },
   {
    "duration": 39,
    "start_time": "2021-11-11T15:31:06.890Z"
   },
   {
    "duration": 18,
    "start_time": "2021-11-11T15:31:06.932Z"
   },
   {
    "duration": 6,
    "start_time": "2021-11-11T15:31:06.953Z"
   },
   {
    "duration": 22,
    "start_time": "2021-11-11T15:31:06.961Z"
   },
   {
    "duration": 16,
    "start_time": "2021-11-11T15:31:06.986Z"
   },
   {
    "duration": 47,
    "start_time": "2021-11-11T15:31:07.004Z"
   },
   {
    "duration": 37,
    "start_time": "2021-11-11T15:31:07.053Z"
   },
   {
    "duration": 63,
    "start_time": "2021-11-11T15:31:07.094Z"
   },
   {
    "duration": 10,
    "start_time": "2021-11-11T15:31:07.160Z"
   },
   {
    "duration": 6,
    "start_time": "2021-11-11T15:31:07.173Z"
   },
   {
    "duration": 2461,
    "start_time": "2021-11-11T15:31:07.181Z"
   },
   {
    "duration": 11,
    "start_time": "2021-11-11T15:31:09.645Z"
   },
   {
    "duration": 7,
    "start_time": "2021-11-11T15:31:09.659Z"
   },
   {
    "duration": 26,
    "start_time": "2021-11-11T15:31:09.668Z"
   },
   {
    "duration": 33,
    "start_time": "2021-11-11T15:31:09.696Z"
   },
   {
    "duration": 18,
    "start_time": "2021-11-11T15:31:09.731Z"
   },
   {
    "duration": 21,
    "start_time": "2021-11-11T15:31:09.751Z"
   },
   {
    "duration": 71,
    "start_time": "2021-11-11T15:31:09.775Z"
   },
   {
    "duration": 9,
    "start_time": "2021-11-11T15:31:09.849Z"
   },
   {
    "duration": 11,
    "start_time": "2021-11-11T15:31:09.860Z"
   },
   {
    "duration": 19,
    "start_time": "2021-11-11T15:31:09.874Z"
   },
   {
    "duration": 348,
    "start_time": "2021-11-11T15:31:09.896Z"
   },
   {
    "duration": 297,
    "start_time": "2021-11-11T15:31:10.247Z"
   },
   {
    "duration": 10,
    "start_time": "2021-11-11T15:31:10.546Z"
   },
   {
    "duration": 14,
    "start_time": "2021-11-11T15:31:10.559Z"
   },
   {
    "duration": 528,
    "start_time": "2021-11-11T15:31:10.576Z"
   },
   {
    "duration": 451,
    "start_time": "2021-11-11T15:31:11.109Z"
   },
   {
    "duration": 9,
    "start_time": "2021-11-11T15:31:11.563Z"
   },
   {
    "duration": 481,
    "start_time": "2021-11-11T15:31:11.574Z"
   },
   {
    "duration": 9,
    "start_time": "2021-11-11T15:31:12.057Z"
   },
   {
    "duration": 407,
    "start_time": "2021-11-11T15:31:12.068Z"
   },
   {
    "duration": 10,
    "start_time": "2021-11-11T15:31:12.478Z"
   },
   {
    "duration": 495,
    "start_time": "2021-11-11T15:31:12.491Z"
   },
   {
    "duration": 5,
    "start_time": "2021-11-11T15:31:12.988Z"
   },
   {
    "duration": 455,
    "start_time": "2021-11-11T15:31:12.995Z"
   },
   {
    "duration": 389,
    "start_time": "2021-11-11T15:31:13.452Z"
   },
   {
    "duration": 6,
    "start_time": "2021-11-11T15:31:13.843Z"
   },
   {
    "duration": 29,
    "start_time": "2021-11-11T15:31:13.851Z"
   },
   {
    "duration": 22,
    "start_time": "2021-11-11T15:31:13.882Z"
   },
   {
    "duration": 401,
    "start_time": "2021-11-11T15:31:13.906Z"
   },
   {
    "duration": 18,
    "start_time": "2021-11-11T15:31:14.310Z"
   },
   {
    "duration": 400,
    "start_time": "2021-11-11T15:31:14.331Z"
   },
   {
    "duration": 7,
    "start_time": "2021-11-11T15:31:14.734Z"
   },
   {
    "duration": 408,
    "start_time": "2021-11-11T15:31:14.744Z"
   },
   {
    "duration": 54,
    "start_time": "2021-11-11T15:31:15.155Z"
   },
   {
    "duration": 17,
    "start_time": "2021-11-11T15:31:15.229Z"
   },
   {
    "duration": 11,
    "start_time": "2021-11-11T15:31:15.248Z"
   },
   {
    "duration": 20,
    "start_time": "2021-11-11T15:31:15.261Z"
   },
   {
    "duration": 25,
    "start_time": "2021-11-11T15:31:15.283Z"
   },
   {
    "duration": 29,
    "start_time": "2021-11-11T15:31:15.310Z"
   },
   {
    "duration": 6,
    "start_time": "2021-11-11T15:31:15.342Z"
   },
   {
    "duration": 13,
    "start_time": "2021-11-11T15:31:15.350Z"
   },
   {
    "duration": 10,
    "start_time": "2021-11-11T15:31:15.366Z"
   },
   {
    "duration": 65,
    "start_time": "2021-11-11T15:31:15.379Z"
   },
   {
    "duration": 16,
    "start_time": "2021-11-11T15:31:39.268Z"
   },
   {
    "duration": 14,
    "start_time": "2021-11-11T15:31:53.762Z"
   },
   {
    "duration": 4,
    "start_time": "2021-11-11T15:32:23.505Z"
   },
   {
    "duration": 4,
    "start_time": "2021-11-11T15:32:23.514Z"
   },
   {
    "duration": 17,
    "start_time": "2021-11-11T15:32:23.523Z"
   },
   {
    "duration": 98,
    "start_time": "2021-11-11T15:32:23.543Z"
   },
   {
    "duration": 4,
    "start_time": "2021-11-11T15:32:23.644Z"
   },
   {
    "duration": 8,
    "start_time": "2021-11-11T15:32:23.650Z"
   },
   {
    "duration": 12,
    "start_time": "2021-11-11T15:32:23.661Z"
   },
   {
    "duration": 10,
    "start_time": "2021-11-11T15:32:23.675Z"
   },
   {
    "duration": 45,
    "start_time": "2021-11-11T15:32:23.688Z"
   },
   {
    "duration": 15,
    "start_time": "2021-11-11T15:32:23.738Z"
   },
   {
    "duration": 30,
    "start_time": "2021-11-11T15:32:23.756Z"
   },
   {
    "duration": 48,
    "start_time": "2021-11-11T15:32:23.788Z"
   },
   {
    "duration": 102,
    "start_time": "2021-11-11T15:32:23.840Z"
   },
   {
    "duration": 7,
    "start_time": "2021-11-11T15:32:23.944Z"
   },
   {
    "duration": 7,
    "start_time": "2021-11-11T15:32:23.953Z"
   },
   {
    "duration": 2340,
    "start_time": "2021-11-11T15:32:23.963Z"
   },
   {
    "duration": 11,
    "start_time": "2021-11-11T15:32:26.306Z"
   },
   {
    "duration": 6,
    "start_time": "2021-11-11T15:32:26.329Z"
   },
   {
    "duration": 15,
    "start_time": "2021-11-11T15:32:26.338Z"
   },
   {
    "duration": 3,
    "start_time": "2021-11-11T15:32:26.355Z"
   },
   {
    "duration": 20,
    "start_time": "2021-11-11T15:32:26.362Z"
   },
   {
    "duration": 44,
    "start_time": "2021-11-11T15:32:26.385Z"
   },
   {
    "duration": 43,
    "start_time": "2021-11-11T15:32:26.432Z"
   },
   {
    "duration": 8,
    "start_time": "2021-11-11T15:32:26.478Z"
   },
   {
    "duration": 40,
    "start_time": "2021-11-11T15:32:26.489Z"
   },
   {
    "duration": 17,
    "start_time": "2021-11-11T15:32:26.532Z"
   },
   {
    "duration": 317,
    "start_time": "2021-11-11T15:32:26.551Z"
   },
   {
    "duration": 282,
    "start_time": "2021-11-11T15:32:26.870Z"
   },
   {
    "duration": 9,
    "start_time": "2021-11-11T15:32:27.154Z"
   },
   {
    "duration": 14,
    "start_time": "2021-11-11T15:32:27.165Z"
   },
   {
    "duration": 542,
    "start_time": "2021-11-11T15:32:27.181Z"
   },
   {
    "duration": 443,
    "start_time": "2021-11-11T15:32:27.728Z"
   },
   {
    "duration": 8,
    "start_time": "2021-11-11T15:32:28.173Z"
   },
   {
    "duration": 521,
    "start_time": "2021-11-11T15:32:28.183Z"
   },
   {
    "duration": 9,
    "start_time": "2021-11-11T15:32:28.706Z"
   },
   {
    "duration": 415,
    "start_time": "2021-11-11T15:32:28.718Z"
   },
   {
    "duration": 13,
    "start_time": "2021-11-11T15:32:29.135Z"
   },
   {
    "duration": 457,
    "start_time": "2021-11-11T15:32:29.150Z"
   },
   {
    "duration": 6,
    "start_time": "2021-11-11T15:32:29.609Z"
   },
   {
    "duration": 412,
    "start_time": "2021-11-11T15:32:29.617Z"
   },
   {
    "duration": 384,
    "start_time": "2021-11-11T15:32:30.032Z"
   },
   {
    "duration": 12,
    "start_time": "2021-11-11T15:32:30.421Z"
   },
   {
    "duration": 30,
    "start_time": "2021-11-11T15:32:30.435Z"
   },
   {
    "duration": 28,
    "start_time": "2021-11-11T15:32:30.467Z"
   },
   {
    "duration": 425,
    "start_time": "2021-11-11T15:32:30.498Z"
   },
   {
    "duration": 7,
    "start_time": "2021-11-11T15:32:30.928Z"
   },
   {
    "duration": 507,
    "start_time": "2021-11-11T15:32:30.937Z"
   },
   {
    "duration": 7,
    "start_time": "2021-11-11T15:32:31.446Z"
   },
   {
    "duration": 422,
    "start_time": "2021-11-11T15:32:31.456Z"
   },
   {
    "duration": 66,
    "start_time": "2021-11-11T15:32:31.881Z"
   },
   {
    "duration": 18,
    "start_time": "2021-11-11T15:32:31.950Z"
   },
   {
    "duration": 7,
    "start_time": "2021-11-11T15:32:31.971Z"
   },
   {
    "duration": 12,
    "start_time": "2021-11-11T15:32:31.981Z"
   },
   {
    "duration": 16,
    "start_time": "2021-11-11T15:32:32.028Z"
   },
   {
    "duration": 16,
    "start_time": "2021-11-11T15:32:32.046Z"
   },
   {
    "duration": 5,
    "start_time": "2021-11-11T15:32:32.065Z"
   },
   {
    "duration": 11,
    "start_time": "2021-11-11T15:32:32.073Z"
   },
   {
    "duration": 9,
    "start_time": "2021-11-11T15:32:32.130Z"
   },
   {
    "duration": 19,
    "start_time": "2021-11-11T15:32:32.142Z"
   },
   {
    "duration": 95,
    "start_time": "2021-11-11T15:34:37.357Z"
   },
   {
    "duration": 15,
    "start_time": "2021-11-11T15:35:08.059Z"
   },
   {
    "duration": 12,
    "start_time": "2021-11-11T15:35:39.063Z"
   },
   {
    "duration": 8,
    "start_time": "2021-11-11T15:35:46.487Z"
   },
   {
    "duration": 18,
    "start_time": "2021-11-11T15:35:47.992Z"
   },
   {
    "duration": 461,
    "start_time": "2021-11-11T15:40:34.332Z"
   },
   {
    "duration": 11,
    "start_time": "2021-11-11T15:40:53.763Z"
   },
   {
    "duration": 3,
    "start_time": "2021-11-11T15:41:01.704Z"
   },
   {
    "duration": 17,
    "start_time": "2021-11-11T15:41:01.713Z"
   },
   {
    "duration": 25,
    "start_time": "2021-11-11T15:41:01.733Z"
   },
   {
    "duration": 84,
    "start_time": "2021-11-11T15:41:01.762Z"
   },
   {
    "duration": 4,
    "start_time": "2021-11-11T15:41:01.849Z"
   },
   {
    "duration": 30,
    "start_time": "2021-11-11T15:41:01.855Z"
   },
   {
    "duration": 18,
    "start_time": "2021-11-11T15:41:01.887Z"
   },
   {
    "duration": 22,
    "start_time": "2021-11-11T15:41:01.908Z"
   },
   {
    "duration": 44,
    "start_time": "2021-11-11T15:41:01.934Z"
   },
   {
    "duration": 31,
    "start_time": "2021-11-11T15:41:01.981Z"
   },
   {
    "duration": 47,
    "start_time": "2021-11-11T15:41:02.014Z"
   },
   {
    "duration": 42,
    "start_time": "2021-11-11T15:41:02.064Z"
   },
   {
    "duration": 83,
    "start_time": "2021-11-11T15:41:02.109Z"
   },
   {
    "duration": 9,
    "start_time": "2021-11-11T15:41:02.194Z"
   },
   {
    "duration": 7,
    "start_time": "2021-11-11T15:41:02.230Z"
   },
   {
    "duration": 2299,
    "start_time": "2021-11-11T15:41:02.239Z"
   },
   {
    "duration": 12,
    "start_time": "2021-11-11T15:41:04.541Z"
   },
   {
    "duration": 9,
    "start_time": "2021-11-11T15:41:04.556Z"
   },
   {
    "duration": 13,
    "start_time": "2021-11-11T15:41:04.568Z"
   },
   {
    "duration": 50,
    "start_time": "2021-11-11T15:41:04.584Z"
   },
   {
    "duration": 4,
    "start_time": "2021-11-11T15:41:04.636Z"
   },
   {
    "duration": 19,
    "start_time": "2021-11-11T15:41:04.648Z"
   },
   {
    "duration": 26,
    "start_time": "2021-11-11T15:41:04.672Z"
   },
   {
    "duration": 71,
    "start_time": "2021-11-11T15:41:04.700Z"
   },
   {
    "duration": 6,
    "start_time": "2021-11-11T15:41:04.773Z"
   },
   {
    "duration": 25,
    "start_time": "2021-11-11T15:41:04.781Z"
   },
   {
    "duration": 26,
    "start_time": "2021-11-11T15:41:04.808Z"
   },
   {
    "duration": 317,
    "start_time": "2021-11-11T15:41:04.836Z"
   },
   {
    "duration": 284,
    "start_time": "2021-11-11T15:41:05.156Z"
   },
   {
    "duration": 10,
    "start_time": "2021-11-11T15:41:05.442Z"
   },
   {
    "duration": 13,
    "start_time": "2021-11-11T15:41:05.454Z"
   },
   {
    "duration": 533,
    "start_time": "2021-11-11T15:41:05.469Z"
   },
   {
    "duration": 430,
    "start_time": "2021-11-11T15:41:06.004Z"
   },
   {
    "duration": 8,
    "start_time": "2021-11-11T15:41:06.437Z"
   },
   {
    "duration": 455,
    "start_time": "2021-11-11T15:41:06.447Z"
   },
   {
    "duration": 9,
    "start_time": "2021-11-11T15:41:06.904Z"
   },
   {
    "duration": 414,
    "start_time": "2021-11-11T15:41:06.915Z"
   },
   {
    "duration": 12,
    "start_time": "2021-11-11T15:41:07.331Z"
   },
   {
    "duration": 438,
    "start_time": "2021-11-11T15:41:07.345Z"
   },
   {
    "duration": 5,
    "start_time": "2021-11-11T15:41:07.785Z"
   },
   {
    "duration": 443,
    "start_time": "2021-11-11T15:41:07.792Z"
   },
   {
    "duration": 469,
    "start_time": "2021-11-11T15:41:08.238Z"
   },
   {
    "duration": 6,
    "start_time": "2021-11-11T15:41:08.710Z"
   },
   {
    "duration": 7,
    "start_time": "2021-11-11T15:41:08.729Z"
   },
   {
    "duration": 11,
    "start_time": "2021-11-11T15:41:08.738Z"
   },
   {
    "duration": 380,
    "start_time": "2021-11-11T15:41:08.751Z"
   },
   {
    "duration": 6,
    "start_time": "2021-11-11T15:41:09.134Z"
   },
   {
    "duration": 400,
    "start_time": "2021-11-11T15:41:09.142Z"
   },
   {
    "duration": 6,
    "start_time": "2021-11-11T15:41:09.544Z"
   },
   {
    "duration": 399,
    "start_time": "2021-11-11T15:41:09.552Z"
   },
   {
    "duration": 53,
    "start_time": "2021-11-11T15:41:09.954Z"
   },
   {
    "duration": 20,
    "start_time": "2021-11-11T15:41:10.030Z"
   },
   {
    "duration": 8,
    "start_time": "2021-11-11T15:41:10.053Z"
   },
   {
    "duration": 23,
    "start_time": "2021-11-11T15:41:10.064Z"
   },
   {
    "duration": 47,
    "start_time": "2021-11-11T15:41:10.090Z"
   },
   {
    "duration": 19,
    "start_time": "2021-11-11T15:41:10.140Z"
   },
   {
    "duration": 8,
    "start_time": "2021-11-11T15:41:10.161Z"
   },
   {
    "duration": 12,
    "start_time": "2021-11-11T15:41:10.172Z"
   },
   {
    "duration": 47,
    "start_time": "2021-11-11T15:41:10.186Z"
   },
   {
    "duration": 19,
    "start_time": "2021-11-11T15:41:10.240Z"
   },
   {
    "duration": 9,
    "start_time": "2021-11-11T15:41:44.360Z"
   },
   {
    "duration": 12,
    "start_time": "2021-11-11T15:41:57.247Z"
   },
   {
    "duration": 4,
    "start_time": "2021-11-11T15:44:00.779Z"
   },
   {
    "duration": 43,
    "start_time": "2021-11-11T15:44:00.792Z"
   },
   {
    "duration": 45,
    "start_time": "2021-11-11T15:44:00.839Z"
   },
   {
    "duration": 98,
    "start_time": "2021-11-11T15:44:00.888Z"
   },
   {
    "duration": 4,
    "start_time": "2021-11-11T15:44:00.990Z"
   },
   {
    "duration": 37,
    "start_time": "2021-11-11T15:44:00.996Z"
   },
   {
    "duration": 16,
    "start_time": "2021-11-11T15:44:01.035Z"
   },
   {
    "duration": 20,
    "start_time": "2021-11-11T15:44:01.053Z"
   },
   {
    "duration": 30,
    "start_time": "2021-11-11T15:44:01.075Z"
   },
   {
    "duration": 33,
    "start_time": "2021-11-11T15:44:01.109Z"
   },
   {
    "duration": 32,
    "start_time": "2021-11-11T15:44:01.145Z"
   },
   {
    "duration": 50,
    "start_time": "2021-11-11T15:44:01.179Z"
   },
   {
    "duration": 74,
    "start_time": "2021-11-11T15:44:01.232Z"
   },
   {
    "duration": 27,
    "start_time": "2021-11-11T15:44:01.308Z"
   },
   {
    "duration": 39,
    "start_time": "2021-11-11T15:44:01.337Z"
   },
   {
    "duration": 2323,
    "start_time": "2021-11-11T15:44:01.378Z"
   },
   {
    "duration": 13,
    "start_time": "2021-11-11T15:44:03.703Z"
   },
   {
    "duration": 11,
    "start_time": "2021-11-11T15:44:03.729Z"
   },
   {
    "duration": 18,
    "start_time": "2021-11-11T15:44:03.742Z"
   },
   {
    "duration": 16,
    "start_time": "2021-11-11T15:44:03.762Z"
   },
   {
    "duration": 5,
    "start_time": "2021-11-11T15:44:03.781Z"
   },
   {
    "duration": 41,
    "start_time": "2021-11-11T15:44:03.788Z"
   },
   {
    "duration": 16,
    "start_time": "2021-11-11T15:44:03.831Z"
   },
   {
    "duration": 48,
    "start_time": "2021-11-11T15:44:03.849Z"
   },
   {
    "duration": 7,
    "start_time": "2021-11-11T15:44:03.899Z"
   },
   {
    "duration": 6,
    "start_time": "2021-11-11T15:44:03.929Z"
   },
   {
    "duration": 29,
    "start_time": "2021-11-11T15:44:03.937Z"
   },
   {
    "duration": 301,
    "start_time": "2021-11-11T15:44:03.972Z"
   },
   {
    "duration": 286,
    "start_time": "2021-11-11T15:44:04.276Z"
   },
   {
    "duration": 8,
    "start_time": "2021-11-11T15:44:04.565Z"
   },
   {
    "duration": 31,
    "start_time": "2021-11-11T15:44:04.576Z"
   },
   {
    "duration": 522,
    "start_time": "2021-11-11T15:44:04.610Z"
   },
   {
    "duration": 435,
    "start_time": "2021-11-11T15:44:05.135Z"
   },
   {
    "duration": 10,
    "start_time": "2021-11-11T15:44:05.573Z"
   },
   {
    "duration": 480,
    "start_time": "2021-11-11T15:44:05.585Z"
   },
   {
    "duration": 9,
    "start_time": "2021-11-11T15:44:06.067Z"
   },
   {
    "duration": 411,
    "start_time": "2021-11-11T15:44:06.078Z"
   },
   {
    "duration": 11,
    "start_time": "2021-11-11T15:44:06.492Z"
   },
   {
    "duration": 556,
    "start_time": "2021-11-11T15:44:06.506Z"
   },
   {
    "duration": 5,
    "start_time": "2021-11-11T15:44:07.065Z"
   },
   {
    "duration": 381,
    "start_time": "2021-11-11T15:44:07.072Z"
   },
   {
    "duration": 390,
    "start_time": "2021-11-11T15:44:07.455Z"
   },
   {
    "duration": 7,
    "start_time": "2021-11-11T15:44:07.847Z"
   },
   {
    "duration": 26,
    "start_time": "2021-11-11T15:44:07.856Z"
   },
   {
    "duration": 18,
    "start_time": "2021-11-11T15:44:07.884Z"
   },
   {
    "duration": 402,
    "start_time": "2021-11-11T15:44:07.904Z"
   },
   {
    "duration": 6,
    "start_time": "2021-11-11T15:44:08.309Z"
   },
   {
    "duration": 404,
    "start_time": "2021-11-11T15:44:08.329Z"
   },
   {
    "duration": 7,
    "start_time": "2021-11-11T15:44:08.737Z"
   },
   {
    "duration": 434,
    "start_time": "2021-11-11T15:44:08.746Z"
   },
   {
    "duration": 66,
    "start_time": "2021-11-11T15:44:09.183Z"
   },
   {
    "duration": 18,
    "start_time": "2021-11-11T15:44:09.251Z"
   },
   {
    "duration": 21,
    "start_time": "2021-11-11T15:44:09.271Z"
   },
   {
    "duration": 19,
    "start_time": "2021-11-11T15:44:09.295Z"
   },
   {
    "duration": 23,
    "start_time": "2021-11-11T15:44:09.316Z"
   },
   {
    "duration": 19,
    "start_time": "2021-11-11T15:44:09.341Z"
   },
   {
    "duration": 22,
    "start_time": "2021-11-11T15:44:09.362Z"
   },
   {
    "duration": 22,
    "start_time": "2021-11-11T15:44:09.386Z"
   },
   {
    "duration": 37,
    "start_time": "2021-11-11T15:44:09.410Z"
   },
   {
    "duration": 21,
    "start_time": "2021-11-11T15:44:09.450Z"
   },
   {
    "duration": 4,
    "start_time": "2021-11-11T15:46:16.842Z"
   },
   {
    "duration": 8,
    "start_time": "2021-11-11T15:46:16.852Z"
   },
   {
    "duration": 22,
    "start_time": "2021-11-11T15:46:16.863Z"
   },
   {
    "duration": 80,
    "start_time": "2021-11-11T15:46:16.888Z"
   },
   {
    "duration": 5,
    "start_time": "2021-11-11T15:46:16.971Z"
   },
   {
    "duration": 53,
    "start_time": "2021-11-11T15:46:16.979Z"
   },
   {
    "duration": 13,
    "start_time": "2021-11-11T15:46:17.035Z"
   },
   {
    "duration": 6,
    "start_time": "2021-11-11T15:46:17.052Z"
   },
   {
    "duration": 17,
    "start_time": "2021-11-11T15:46:17.061Z"
   },
   {
    "duration": 50,
    "start_time": "2021-11-11T15:46:17.081Z"
   },
   {
    "duration": 30,
    "start_time": "2021-11-11T15:46:17.134Z"
   },
   {
    "duration": 41,
    "start_time": "2021-11-11T15:46:17.167Z"
   },
   {
    "duration": 74,
    "start_time": "2021-11-11T15:46:17.210Z"
   },
   {
    "duration": 7,
    "start_time": "2021-11-11T15:46:17.287Z"
   },
   {
    "duration": 36,
    "start_time": "2021-11-11T15:46:17.296Z"
   },
   {
    "duration": 2256,
    "start_time": "2021-11-11T15:46:17.334Z"
   },
   {
    "duration": 12,
    "start_time": "2021-11-11T15:46:19.592Z"
   },
   {
    "duration": 24,
    "start_time": "2021-11-11T15:46:19.606Z"
   },
   {
    "duration": 16,
    "start_time": "2021-11-11T15:46:19.635Z"
   },
   {
    "duration": 12,
    "start_time": "2021-11-11T15:46:19.654Z"
   },
   {
    "duration": 11,
    "start_time": "2021-11-11T15:46:19.669Z"
   },
   {
    "duration": 30,
    "start_time": "2021-11-11T15:46:19.682Z"
   },
   {
    "duration": 29,
    "start_time": "2021-11-11T15:46:19.714Z"
   },
   {
    "duration": 42,
    "start_time": "2021-11-11T15:46:19.746Z"
   },
   {
    "duration": 39,
    "start_time": "2021-11-11T15:46:19.790Z"
   },
   {
    "duration": 5,
    "start_time": "2021-11-11T15:46:19.832Z"
   },
   {
    "duration": 24,
    "start_time": "2021-11-11T15:46:19.840Z"
   },
   {
    "duration": 320,
    "start_time": "2021-11-11T15:46:19.867Z"
   },
   {
    "duration": 290,
    "start_time": "2021-11-11T15:46:20.190Z"
   },
   {
    "duration": 9,
    "start_time": "2021-11-11T15:46:20.482Z"
   },
   {
    "duration": 17,
    "start_time": "2021-11-11T15:46:20.493Z"
   },
   {
    "duration": 530,
    "start_time": "2021-11-11T15:46:20.530Z"
   },
   {
    "duration": 430,
    "start_time": "2021-11-11T15:46:21.062Z"
   },
   {
    "duration": 9,
    "start_time": "2021-11-11T15:46:21.494Z"
   },
   {
    "duration": 556,
    "start_time": "2021-11-11T15:46:21.505Z"
   },
   {
    "duration": 8,
    "start_time": "2021-11-11T15:46:22.064Z"
   },
   {
    "duration": 399,
    "start_time": "2021-11-11T15:46:22.074Z"
   },
   {
    "duration": 12,
    "start_time": "2021-11-11T15:46:22.475Z"
   },
   {
    "duration": 484,
    "start_time": "2021-11-11T15:46:22.489Z"
   },
   {
    "duration": 5,
    "start_time": "2021-11-11T15:46:22.976Z"
   },
   {
    "duration": 384,
    "start_time": "2021-11-11T15:46:22.984Z"
   },
   {
    "duration": 429,
    "start_time": "2021-11-11T15:46:23.371Z"
   },
   {
    "duration": 8,
    "start_time": "2021-11-11T15:46:23.803Z"
   },
   {
    "duration": 8,
    "start_time": "2021-11-11T15:46:23.830Z"
   },
   {
    "duration": 11,
    "start_time": "2021-11-11T15:46:23.840Z"
   },
   {
    "duration": 371,
    "start_time": "2021-11-11T15:46:23.853Z"
   },
   {
    "duration": 7,
    "start_time": "2021-11-11T15:46:24.228Z"
   },
   {
    "duration": 390,
    "start_time": "2021-11-11T15:46:24.237Z"
   },
   {
    "duration": 7,
    "start_time": "2021-11-11T15:46:24.629Z"
   },
   {
    "duration": 413,
    "start_time": "2021-11-11T15:46:24.638Z"
   },
   {
    "duration": 50,
    "start_time": "2021-11-11T15:46:25.053Z"
   },
   {
    "duration": 17,
    "start_time": "2021-11-11T15:46:25.129Z"
   },
   {
    "duration": 8,
    "start_time": "2021-11-11T15:46:25.148Z"
   },
   {
    "duration": 10,
    "start_time": "2021-11-11T15:46:25.158Z"
   },
   {
    "duration": 13,
    "start_time": "2021-11-11T15:46:25.170Z"
   },
   {
    "duration": 47,
    "start_time": "2021-11-11T15:46:25.185Z"
   },
   {
    "duration": 5,
    "start_time": "2021-11-11T15:46:25.234Z"
   },
   {
    "duration": 15,
    "start_time": "2021-11-11T15:46:25.241Z"
   },
   {
    "duration": 22,
    "start_time": "2021-11-11T15:46:25.258Z"
   },
   {
    "duration": 20,
    "start_time": "2021-11-11T15:46:25.282Z"
   }
  ],
  "kernelspec": {
   "display_name": "Python 3",
   "language": "python",
   "name": "python3"
  },
  "language_info": {
   "codemirror_mode": {
    "name": "ipython",
    "version": 3
   },
   "file_extension": ".py",
   "mimetype": "text/x-python",
   "name": "python",
   "nbconvert_exporter": "python",
   "pygments_lexer": "ipython3",
   "version": "3.8.8"
  },
  "toc": {
   "base_numbering": 1,
   "nav_menu": {},
   "number_sections": true,
   "sideBar": true,
   "skip_h1_title": true,
   "title_cell": "Table of Contents",
   "title_sidebar": "Contents",
   "toc_cell": false,
   "toc_position": {},
   "toc_section_display": true,
   "toc_window_display": false
  }
 },
 "nbformat": 4,
 "nbformat_minor": 2
}
