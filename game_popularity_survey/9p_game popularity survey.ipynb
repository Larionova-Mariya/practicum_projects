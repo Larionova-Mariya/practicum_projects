{
 "cells": [
  {
   "cell_type": "markdown",
   "metadata": {},
   "source": [
    "# Выявление определяющих успешность игры закономерностей"
   ]
  },
  {
   "cell_type": "markdown",
   "metadata": {},
   "source": [
    "Из открытых источников доступны исторические данные о продажах игр, оценки пользователей и экспертов, жанры и платформы (например, Xbox или PlayStation). \n",
    "\n",
    "Нужно выявить определяющие успешность игры закономерности. \n",
    "\n",
    "Это позволит сделать ставку на потенциально популярный продукт и спланировать рекламные кампании.\n",
    "\n",
    "Шаг 1. Открыть файл с данными и изучить общую информацию\n",
    "\n",
    "Шаг 2. Подготовить данные\n",
    "\n",
    "Шаг 3. Провести исследовательский анализ данных\n",
    "\n",
    "Шаг 4. Составить портрет пользователя каждого региона\n",
    "\n",
    "Шаг 5. Проверить гипотезы\n",
    "\n",
    "Шаг 6. Написать общий вывод"
   ]
  },
  {
   "cell_type": "code",
   "execution_count": 60,
   "metadata": {},
   "outputs": [],
   "source": [
    "import pandas as pd\n",
    "import matplotlib.pyplot as plt\n",
    "import seaborn as sns\n",
    "from scipy import stats as st"
   ]
  },
  {
   "cell_type": "markdown",
   "metadata": {},
   "source": [
    "# Шаг 1. Открыть файл с данными и изучить общую информацию"
   ]
  },
  {
   "cell_type": "code",
   "execution_count": 61,
   "metadata": {},
   "outputs": [],
   "source": [
    "df = pd.read_csv('/datasets/games.csv')"
   ]
  },
  {
   "cell_type": "code",
   "execution_count": 62,
   "metadata": {
    "scrolled": true
   },
   "outputs": [
    {
     "name": "stdout",
     "output_type": "stream",
     "text": [
      "<class 'pandas.core.frame.DataFrame'>\n",
      "RangeIndex: 16715 entries, 0 to 16714\n",
      "Data columns (total 11 columns):\n",
      "Name               16713 non-null object\n",
      "Platform           16715 non-null object\n",
      "Year_of_Release    16446 non-null float64\n",
      "Genre              16713 non-null object\n",
      "NA_sales           16715 non-null float64\n",
      "EU_sales           16715 non-null float64\n",
      "JP_sales           16715 non-null float64\n",
      "Other_sales        16715 non-null float64\n",
      "Critic_Score       8137 non-null float64\n",
      "User_Score         10014 non-null object\n",
      "Rating             9949 non-null object\n",
      "dtypes: float64(6), object(5)\n",
      "memory usage: 1.4+ MB\n"
     ]
    },
    {
     "data": {
      "text/plain": [
       "None"
      ]
     },
     "metadata": {},
     "output_type": "display_data"
    },
    {
     "data": {
      "text/html": [
       "<div>\n",
       "<style scoped>\n",
       "    .dataframe tbody tr th:only-of-type {\n",
       "        vertical-align: middle;\n",
       "    }\n",
       "\n",
       "    .dataframe tbody tr th {\n",
       "        vertical-align: top;\n",
       "    }\n",
       "\n",
       "    .dataframe thead th {\n",
       "        text-align: right;\n",
       "    }\n",
       "</style>\n",
       "<table border=\"1\" class=\"dataframe\">\n",
       "  <thead>\n",
       "    <tr style=\"text-align: right;\">\n",
       "      <th></th>\n",
       "      <th>Name</th>\n",
       "      <th>Platform</th>\n",
       "      <th>Year_of_Release</th>\n",
       "      <th>Genre</th>\n",
       "      <th>NA_sales</th>\n",
       "      <th>EU_sales</th>\n",
       "      <th>JP_sales</th>\n",
       "      <th>Other_sales</th>\n",
       "      <th>Critic_Score</th>\n",
       "      <th>User_Score</th>\n",
       "      <th>Rating</th>\n",
       "    </tr>\n",
       "  </thead>\n",
       "  <tbody>\n",
       "    <tr>\n",
       "      <td>0</td>\n",
       "      <td>Wii Sports</td>\n",
       "      <td>Wii</td>\n",
       "      <td>2006.0</td>\n",
       "      <td>Sports</td>\n",
       "      <td>41.36</td>\n",
       "      <td>28.96</td>\n",
       "      <td>3.77</td>\n",
       "      <td>8.45</td>\n",
       "      <td>76.0</td>\n",
       "      <td>8</td>\n",
       "      <td>E</td>\n",
       "    </tr>\n",
       "    <tr>\n",
       "      <td>1</td>\n",
       "      <td>Super Mario Bros.</td>\n",
       "      <td>NES</td>\n",
       "      <td>1985.0</td>\n",
       "      <td>Platform</td>\n",
       "      <td>29.08</td>\n",
       "      <td>3.58</td>\n",
       "      <td>6.81</td>\n",
       "      <td>0.77</td>\n",
       "      <td>NaN</td>\n",
       "      <td>NaN</td>\n",
       "      <td>NaN</td>\n",
       "    </tr>\n",
       "    <tr>\n",
       "      <td>2</td>\n",
       "      <td>Mario Kart Wii</td>\n",
       "      <td>Wii</td>\n",
       "      <td>2008.0</td>\n",
       "      <td>Racing</td>\n",
       "      <td>15.68</td>\n",
       "      <td>12.76</td>\n",
       "      <td>3.79</td>\n",
       "      <td>3.29</td>\n",
       "      <td>82.0</td>\n",
       "      <td>8.3</td>\n",
       "      <td>E</td>\n",
       "    </tr>\n",
       "    <tr>\n",
       "      <td>3</td>\n",
       "      <td>Wii Sports Resort</td>\n",
       "      <td>Wii</td>\n",
       "      <td>2009.0</td>\n",
       "      <td>Sports</td>\n",
       "      <td>15.61</td>\n",
       "      <td>10.93</td>\n",
       "      <td>3.28</td>\n",
       "      <td>2.95</td>\n",
       "      <td>80.0</td>\n",
       "      <td>8</td>\n",
       "      <td>E</td>\n",
       "    </tr>\n",
       "    <tr>\n",
       "      <td>4</td>\n",
       "      <td>Pokemon Red/Pokemon Blue</td>\n",
       "      <td>GB</td>\n",
       "      <td>1996.0</td>\n",
       "      <td>Role-Playing</td>\n",
       "      <td>11.27</td>\n",
       "      <td>8.89</td>\n",
       "      <td>10.22</td>\n",
       "      <td>1.00</td>\n",
       "      <td>NaN</td>\n",
       "      <td>NaN</td>\n",
       "      <td>NaN</td>\n",
       "    </tr>\n",
       "    <tr>\n",
       "      <td>5</td>\n",
       "      <td>Tetris</td>\n",
       "      <td>GB</td>\n",
       "      <td>1989.0</td>\n",
       "      <td>Puzzle</td>\n",
       "      <td>23.20</td>\n",
       "      <td>2.26</td>\n",
       "      <td>4.22</td>\n",
       "      <td>0.58</td>\n",
       "      <td>NaN</td>\n",
       "      <td>NaN</td>\n",
       "      <td>NaN</td>\n",
       "    </tr>\n",
       "    <tr>\n",
       "      <td>6</td>\n",
       "      <td>New Super Mario Bros.</td>\n",
       "      <td>DS</td>\n",
       "      <td>2006.0</td>\n",
       "      <td>Platform</td>\n",
       "      <td>11.28</td>\n",
       "      <td>9.14</td>\n",
       "      <td>6.50</td>\n",
       "      <td>2.88</td>\n",
       "      <td>89.0</td>\n",
       "      <td>8.5</td>\n",
       "      <td>E</td>\n",
       "    </tr>\n",
       "    <tr>\n",
       "      <td>7</td>\n",
       "      <td>Wii Play</td>\n",
       "      <td>Wii</td>\n",
       "      <td>2006.0</td>\n",
       "      <td>Misc</td>\n",
       "      <td>13.96</td>\n",
       "      <td>9.18</td>\n",
       "      <td>2.93</td>\n",
       "      <td>2.84</td>\n",
       "      <td>58.0</td>\n",
       "      <td>6.6</td>\n",
       "      <td>E</td>\n",
       "    </tr>\n",
       "    <tr>\n",
       "      <td>8</td>\n",
       "      <td>New Super Mario Bros. Wii</td>\n",
       "      <td>Wii</td>\n",
       "      <td>2009.0</td>\n",
       "      <td>Platform</td>\n",
       "      <td>14.44</td>\n",
       "      <td>6.94</td>\n",
       "      <td>4.70</td>\n",
       "      <td>2.24</td>\n",
       "      <td>87.0</td>\n",
       "      <td>8.4</td>\n",
       "      <td>E</td>\n",
       "    </tr>\n",
       "    <tr>\n",
       "      <td>9</td>\n",
       "      <td>Duck Hunt</td>\n",
       "      <td>NES</td>\n",
       "      <td>1984.0</td>\n",
       "      <td>Shooter</td>\n",
       "      <td>26.93</td>\n",
       "      <td>0.63</td>\n",
       "      <td>0.28</td>\n",
       "      <td>0.47</td>\n",
       "      <td>NaN</td>\n",
       "      <td>NaN</td>\n",
       "      <td>NaN</td>\n",
       "    </tr>\n",
       "  </tbody>\n",
       "</table>\n",
       "</div>"
      ],
      "text/plain": [
       "                        Name Platform  Year_of_Release         Genre  \\\n",
       "0                 Wii Sports      Wii           2006.0        Sports   \n",
       "1          Super Mario Bros.      NES           1985.0      Platform   \n",
       "2             Mario Kart Wii      Wii           2008.0        Racing   \n",
       "3          Wii Sports Resort      Wii           2009.0        Sports   \n",
       "4   Pokemon Red/Pokemon Blue       GB           1996.0  Role-Playing   \n",
       "5                     Tetris       GB           1989.0        Puzzle   \n",
       "6      New Super Mario Bros.       DS           2006.0      Platform   \n",
       "7                   Wii Play      Wii           2006.0          Misc   \n",
       "8  New Super Mario Bros. Wii      Wii           2009.0      Platform   \n",
       "9                  Duck Hunt      NES           1984.0       Shooter   \n",
       "\n",
       "   NA_sales  EU_sales  JP_sales  Other_sales  Critic_Score User_Score Rating  \n",
       "0     41.36     28.96      3.77         8.45          76.0          8      E  \n",
       "1     29.08      3.58      6.81         0.77           NaN        NaN    NaN  \n",
       "2     15.68     12.76      3.79         3.29          82.0        8.3      E  \n",
       "3     15.61     10.93      3.28         2.95          80.0          8      E  \n",
       "4     11.27      8.89     10.22         1.00           NaN        NaN    NaN  \n",
       "5     23.20      2.26      4.22         0.58           NaN        NaN    NaN  \n",
       "6     11.28      9.14      6.50         2.88          89.0        8.5      E  \n",
       "7     13.96      9.18      2.93         2.84          58.0        6.6      E  \n",
       "8     14.44      6.94      4.70         2.24          87.0        8.4      E  \n",
       "9     26.93      0.63      0.28         0.47           NaN        NaN    NaN  "
      ]
     },
     "metadata": {},
     "output_type": "display_data"
    },
    {
     "data": {
      "text/html": [
       "<div>\n",
       "<style scoped>\n",
       "    .dataframe tbody tr th:only-of-type {\n",
       "        vertical-align: middle;\n",
       "    }\n",
       "\n",
       "    .dataframe tbody tr th {\n",
       "        vertical-align: top;\n",
       "    }\n",
       "\n",
       "    .dataframe thead th {\n",
       "        text-align: right;\n",
       "    }\n",
       "</style>\n",
       "<table border=\"1\" class=\"dataframe\">\n",
       "  <thead>\n",
       "    <tr style=\"text-align: right;\">\n",
       "      <th></th>\n",
       "      <th>Name</th>\n",
       "      <th>Platform</th>\n",
       "      <th>Year_of_Release</th>\n",
       "      <th>Genre</th>\n",
       "      <th>NA_sales</th>\n",
       "      <th>EU_sales</th>\n",
       "      <th>JP_sales</th>\n",
       "      <th>Other_sales</th>\n",
       "      <th>Critic_Score</th>\n",
       "      <th>User_Score</th>\n",
       "      <th>Rating</th>\n",
       "    </tr>\n",
       "  </thead>\n",
       "  <tbody>\n",
       "    <tr>\n",
       "      <td>16705</td>\n",
       "      <td>15 Days</td>\n",
       "      <td>PC</td>\n",
       "      <td>2009.0</td>\n",
       "      <td>Adventure</td>\n",
       "      <td>0.00</td>\n",
       "      <td>0.01</td>\n",
       "      <td>0.00</td>\n",
       "      <td>0.0</td>\n",
       "      <td>63.0</td>\n",
       "      <td>5.8</td>\n",
       "      <td>NaN</td>\n",
       "    </tr>\n",
       "    <tr>\n",
       "      <td>16706</td>\n",
       "      <td>Men in Black II: Alien Escape</td>\n",
       "      <td>GC</td>\n",
       "      <td>2003.0</td>\n",
       "      <td>Shooter</td>\n",
       "      <td>0.01</td>\n",
       "      <td>0.00</td>\n",
       "      <td>0.00</td>\n",
       "      <td>0.0</td>\n",
       "      <td>NaN</td>\n",
       "      <td>tbd</td>\n",
       "      <td>T</td>\n",
       "    </tr>\n",
       "    <tr>\n",
       "      <td>16707</td>\n",
       "      <td>Aiyoku no Eustia</td>\n",
       "      <td>PSV</td>\n",
       "      <td>2014.0</td>\n",
       "      <td>Misc</td>\n",
       "      <td>0.00</td>\n",
       "      <td>0.00</td>\n",
       "      <td>0.01</td>\n",
       "      <td>0.0</td>\n",
       "      <td>NaN</td>\n",
       "      <td>NaN</td>\n",
       "      <td>NaN</td>\n",
       "    </tr>\n",
       "    <tr>\n",
       "      <td>16708</td>\n",
       "      <td>Woody Woodpecker in Crazy Castle 5</td>\n",
       "      <td>GBA</td>\n",
       "      <td>2002.0</td>\n",
       "      <td>Platform</td>\n",
       "      <td>0.01</td>\n",
       "      <td>0.00</td>\n",
       "      <td>0.00</td>\n",
       "      <td>0.0</td>\n",
       "      <td>NaN</td>\n",
       "      <td>NaN</td>\n",
       "      <td>NaN</td>\n",
       "    </tr>\n",
       "    <tr>\n",
       "      <td>16709</td>\n",
       "      <td>SCORE International Baja 1000: The Official Game</td>\n",
       "      <td>PS2</td>\n",
       "      <td>2008.0</td>\n",
       "      <td>Racing</td>\n",
       "      <td>0.00</td>\n",
       "      <td>0.00</td>\n",
       "      <td>0.00</td>\n",
       "      <td>0.0</td>\n",
       "      <td>NaN</td>\n",
       "      <td>NaN</td>\n",
       "      <td>NaN</td>\n",
       "    </tr>\n",
       "    <tr>\n",
       "      <td>16710</td>\n",
       "      <td>Samurai Warriors: Sanada Maru</td>\n",
       "      <td>PS3</td>\n",
       "      <td>2016.0</td>\n",
       "      <td>Action</td>\n",
       "      <td>0.00</td>\n",
       "      <td>0.00</td>\n",
       "      <td>0.01</td>\n",
       "      <td>0.0</td>\n",
       "      <td>NaN</td>\n",
       "      <td>NaN</td>\n",
       "      <td>NaN</td>\n",
       "    </tr>\n",
       "    <tr>\n",
       "      <td>16711</td>\n",
       "      <td>LMA Manager 2007</td>\n",
       "      <td>X360</td>\n",
       "      <td>2006.0</td>\n",
       "      <td>Sports</td>\n",
       "      <td>0.00</td>\n",
       "      <td>0.01</td>\n",
       "      <td>0.00</td>\n",
       "      <td>0.0</td>\n",
       "      <td>NaN</td>\n",
       "      <td>NaN</td>\n",
       "      <td>NaN</td>\n",
       "    </tr>\n",
       "    <tr>\n",
       "      <td>16712</td>\n",
       "      <td>Haitaka no Psychedelica</td>\n",
       "      <td>PSV</td>\n",
       "      <td>2016.0</td>\n",
       "      <td>Adventure</td>\n",
       "      <td>0.00</td>\n",
       "      <td>0.00</td>\n",
       "      <td>0.01</td>\n",
       "      <td>0.0</td>\n",
       "      <td>NaN</td>\n",
       "      <td>NaN</td>\n",
       "      <td>NaN</td>\n",
       "    </tr>\n",
       "    <tr>\n",
       "      <td>16713</td>\n",
       "      <td>Spirits &amp; Spells</td>\n",
       "      <td>GBA</td>\n",
       "      <td>2003.0</td>\n",
       "      <td>Platform</td>\n",
       "      <td>0.01</td>\n",
       "      <td>0.00</td>\n",
       "      <td>0.00</td>\n",
       "      <td>0.0</td>\n",
       "      <td>NaN</td>\n",
       "      <td>NaN</td>\n",
       "      <td>NaN</td>\n",
       "    </tr>\n",
       "    <tr>\n",
       "      <td>16714</td>\n",
       "      <td>Winning Post 8 2016</td>\n",
       "      <td>PSV</td>\n",
       "      <td>2016.0</td>\n",
       "      <td>Simulation</td>\n",
       "      <td>0.00</td>\n",
       "      <td>0.00</td>\n",
       "      <td>0.01</td>\n",
       "      <td>0.0</td>\n",
       "      <td>NaN</td>\n",
       "      <td>NaN</td>\n",
       "      <td>NaN</td>\n",
       "    </tr>\n",
       "  </tbody>\n",
       "</table>\n",
       "</div>"
      ],
      "text/plain": [
       "                                                   Name Platform  \\\n",
       "16705                                           15 Days       PC   \n",
       "16706                     Men in Black II: Alien Escape       GC   \n",
       "16707                                  Aiyoku no Eustia      PSV   \n",
       "16708                Woody Woodpecker in Crazy Castle 5      GBA   \n",
       "16709  SCORE International Baja 1000: The Official Game      PS2   \n",
       "16710                     Samurai Warriors: Sanada Maru      PS3   \n",
       "16711                                  LMA Manager 2007     X360   \n",
       "16712                           Haitaka no Psychedelica      PSV   \n",
       "16713                                  Spirits & Spells      GBA   \n",
       "16714                               Winning Post 8 2016      PSV   \n",
       "\n",
       "       Year_of_Release       Genre  NA_sales  EU_sales  JP_sales  Other_sales  \\\n",
       "16705           2009.0   Adventure      0.00      0.01      0.00          0.0   \n",
       "16706           2003.0     Shooter      0.01      0.00      0.00          0.0   \n",
       "16707           2014.0        Misc      0.00      0.00      0.01          0.0   \n",
       "16708           2002.0    Platform      0.01      0.00      0.00          0.0   \n",
       "16709           2008.0      Racing      0.00      0.00      0.00          0.0   \n",
       "16710           2016.0      Action      0.00      0.00      0.01          0.0   \n",
       "16711           2006.0      Sports      0.00      0.01      0.00          0.0   \n",
       "16712           2016.0   Adventure      0.00      0.00      0.01          0.0   \n",
       "16713           2003.0    Platform      0.01      0.00      0.00          0.0   \n",
       "16714           2016.0  Simulation      0.00      0.00      0.01          0.0   \n",
       "\n",
       "       Critic_Score User_Score Rating  \n",
       "16705          63.0        5.8    NaN  \n",
       "16706           NaN        tbd      T  \n",
       "16707           NaN        NaN    NaN  \n",
       "16708           NaN        NaN    NaN  \n",
       "16709           NaN        NaN    NaN  \n",
       "16710           NaN        NaN    NaN  \n",
       "16711           NaN        NaN    NaN  \n",
       "16712           NaN        NaN    NaN  \n",
       "16713           NaN        NaN    NaN  \n",
       "16714           NaN        NaN    NaN  "
      ]
     },
     "metadata": {},
     "output_type": "display_data"
    },
    {
     "data": {
      "text/html": [
       "<div>\n",
       "<style scoped>\n",
       "    .dataframe tbody tr th:only-of-type {\n",
       "        vertical-align: middle;\n",
       "    }\n",
       "\n",
       "    .dataframe tbody tr th {\n",
       "        vertical-align: top;\n",
       "    }\n",
       "\n",
       "    .dataframe thead th {\n",
       "        text-align: right;\n",
       "    }\n",
       "</style>\n",
       "<table border=\"1\" class=\"dataframe\">\n",
       "  <thead>\n",
       "    <tr style=\"text-align: right;\">\n",
       "      <th></th>\n",
       "      <th>Name</th>\n",
       "      <th>Platform</th>\n",
       "      <th>Year_of_Release</th>\n",
       "      <th>Genre</th>\n",
       "      <th>NA_sales</th>\n",
       "      <th>EU_sales</th>\n",
       "      <th>JP_sales</th>\n",
       "      <th>Other_sales</th>\n",
       "      <th>Critic_Score</th>\n",
       "      <th>User_Score</th>\n",
       "      <th>Rating</th>\n",
       "    </tr>\n",
       "  </thead>\n",
       "  <tbody>\n",
       "    <tr>\n",
       "      <td>10522</td>\n",
       "      <td>The King of Fighters: Dream Match 1999</td>\n",
       "      <td>DC</td>\n",
       "      <td>1999.0</td>\n",
       "      <td>Fighting</td>\n",
       "      <td>0.00</td>\n",
       "      <td>0.00</td>\n",
       "      <td>0.10</td>\n",
       "      <td>0.00</td>\n",
       "      <td>NaN</td>\n",
       "      <td>NaN</td>\n",
       "      <td>NaN</td>\n",
       "    </tr>\n",
       "    <tr>\n",
       "      <td>15971</td>\n",
       "      <td>Star Trek: Legacy</td>\n",
       "      <td>PC</td>\n",
       "      <td>2006.0</td>\n",
       "      <td>Simulation</td>\n",
       "      <td>0.00</td>\n",
       "      <td>0.01</td>\n",
       "      <td>0.00</td>\n",
       "      <td>0.00</td>\n",
       "      <td>56.0</td>\n",
       "      <td>4</td>\n",
       "      <td>E10+</td>\n",
       "    </tr>\n",
       "    <tr>\n",
       "      <td>6477</td>\n",
       "      <td>Tom and Jerry in War of the Whiskers</td>\n",
       "      <td>PS2</td>\n",
       "      <td>2002.0</td>\n",
       "      <td>Fighting</td>\n",
       "      <td>0.13</td>\n",
       "      <td>0.10</td>\n",
       "      <td>0.00</td>\n",
       "      <td>0.03</td>\n",
       "      <td>NaN</td>\n",
       "      <td>NaN</td>\n",
       "      <td>NaN</td>\n",
       "    </tr>\n",
       "    <tr>\n",
       "      <td>296</td>\n",
       "      <td>Namco Museum Vol.3</td>\n",
       "      <td>PS</td>\n",
       "      <td>1996.0</td>\n",
       "      <td>Misc</td>\n",
       "      <td>2.28</td>\n",
       "      <td>1.55</td>\n",
       "      <td>0.16</td>\n",
       "      <td>0.06</td>\n",
       "      <td>NaN</td>\n",
       "      <td>NaN</td>\n",
       "      <td>NaN</td>\n",
       "    </tr>\n",
       "    <tr>\n",
       "      <td>4662</td>\n",
       "      <td>Wheel of Fortune</td>\n",
       "      <td>DS</td>\n",
       "      <td>2010.0</td>\n",
       "      <td>Misc</td>\n",
       "      <td>0.39</td>\n",
       "      <td>0.00</td>\n",
       "      <td>0.00</td>\n",
       "      <td>0.03</td>\n",
       "      <td>NaN</td>\n",
       "      <td>tbd</td>\n",
       "      <td>E</td>\n",
       "    </tr>\n",
       "    <tr>\n",
       "      <td>11434</td>\n",
       "      <td>Seven Samurai 20XX</td>\n",
       "      <td>PS2</td>\n",
       "      <td>2004.0</td>\n",
       "      <td>Action</td>\n",
       "      <td>0.04</td>\n",
       "      <td>0.03</td>\n",
       "      <td>0.00</td>\n",
       "      <td>0.01</td>\n",
       "      <td>52.0</td>\n",
       "      <td>7</td>\n",
       "      <td>T</td>\n",
       "    </tr>\n",
       "    <tr>\n",
       "      <td>4047</td>\n",
       "      <td>Backyard Baseball</td>\n",
       "      <td>PS2</td>\n",
       "      <td>2004.0</td>\n",
       "      <td>Sports</td>\n",
       "      <td>0.24</td>\n",
       "      <td>0.19</td>\n",
       "      <td>0.00</td>\n",
       "      <td>0.06</td>\n",
       "      <td>NaN</td>\n",
       "      <td>7.2</td>\n",
       "      <td>E</td>\n",
       "    </tr>\n",
       "    <tr>\n",
       "      <td>1742</td>\n",
       "      <td>Tom Clancy's Ghost Recon: Jungle Storm</td>\n",
       "      <td>PS2</td>\n",
       "      <td>2004.0</td>\n",
       "      <td>Shooter</td>\n",
       "      <td>0.57</td>\n",
       "      <td>0.44</td>\n",
       "      <td>0.00</td>\n",
       "      <td>0.15</td>\n",
       "      <td>70.0</td>\n",
       "      <td>6.3</td>\n",
       "      <td>T</td>\n",
       "    </tr>\n",
       "    <tr>\n",
       "      <td>9825</td>\n",
       "      <td>Shin Megami Tensei: Devil Survivor 2</td>\n",
       "      <td>3DS</td>\n",
       "      <td>2015.0</td>\n",
       "      <td>Role-Playing</td>\n",
       "      <td>0.00</td>\n",
       "      <td>0.02</td>\n",
       "      <td>0.09</td>\n",
       "      <td>0.00</td>\n",
       "      <td>NaN</td>\n",
       "      <td>NaN</td>\n",
       "      <td>NaN</td>\n",
       "    </tr>\n",
       "    <tr>\n",
       "      <td>2583</td>\n",
       "      <td>pro evolution soccer 2011</td>\n",
       "      <td>PSP</td>\n",
       "      <td>2010.0</td>\n",
       "      <td>Sports</td>\n",
       "      <td>0.05</td>\n",
       "      <td>0.30</td>\n",
       "      <td>0.29</td>\n",
       "      <td>0.16</td>\n",
       "      <td>74.0</td>\n",
       "      <td>5.8</td>\n",
       "      <td>E</td>\n",
       "    </tr>\n",
       "  </tbody>\n",
       "</table>\n",
       "</div>"
      ],
      "text/plain": [
       "                                         Name Platform  Year_of_Release  \\\n",
       "10522  The King of Fighters: Dream Match 1999       DC           1999.0   \n",
       "15971                       Star Trek: Legacy       PC           2006.0   \n",
       "6477     Tom and Jerry in War of the Whiskers      PS2           2002.0   \n",
       "296                        Namco Museum Vol.3       PS           1996.0   \n",
       "4662                         Wheel of Fortune       DS           2010.0   \n",
       "11434                      Seven Samurai 20XX      PS2           2004.0   \n",
       "4047                        Backyard Baseball      PS2           2004.0   \n",
       "1742   Tom Clancy's Ghost Recon: Jungle Storm      PS2           2004.0   \n",
       "9825     Shin Megami Tensei: Devil Survivor 2      3DS           2015.0   \n",
       "2583                pro evolution soccer 2011      PSP           2010.0   \n",
       "\n",
       "              Genre  NA_sales  EU_sales  JP_sales  Other_sales  Critic_Score  \\\n",
       "10522      Fighting      0.00      0.00      0.10         0.00           NaN   \n",
       "15971    Simulation      0.00      0.01      0.00         0.00          56.0   \n",
       "6477       Fighting      0.13      0.10      0.00         0.03           NaN   \n",
       "296            Misc      2.28      1.55      0.16         0.06           NaN   \n",
       "4662           Misc      0.39      0.00      0.00         0.03           NaN   \n",
       "11434        Action      0.04      0.03      0.00         0.01          52.0   \n",
       "4047         Sports      0.24      0.19      0.00         0.06           NaN   \n",
       "1742        Shooter      0.57      0.44      0.00         0.15          70.0   \n",
       "9825   Role-Playing      0.00      0.02      0.09         0.00           NaN   \n",
       "2583         Sports      0.05      0.30      0.29         0.16          74.0   \n",
       "\n",
       "      User_Score Rating  \n",
       "10522        NaN    NaN  \n",
       "15971          4   E10+  \n",
       "6477         NaN    NaN  \n",
       "296          NaN    NaN  \n",
       "4662         tbd      E  \n",
       "11434          7      T  \n",
       "4047         7.2      E  \n",
       "1742         6.3      T  \n",
       "9825         NaN    NaN  \n",
       "2583         5.8      E  "
      ]
     },
     "metadata": {},
     "output_type": "display_data"
    },
    {
     "data": {
      "text/html": [
       "<div>\n",
       "<style scoped>\n",
       "    .dataframe tbody tr th:only-of-type {\n",
       "        vertical-align: middle;\n",
       "    }\n",
       "\n",
       "    .dataframe tbody tr th {\n",
       "        vertical-align: top;\n",
       "    }\n",
       "\n",
       "    .dataframe thead th {\n",
       "        text-align: right;\n",
       "    }\n",
       "</style>\n",
       "<table border=\"1\" class=\"dataframe\">\n",
       "  <thead>\n",
       "    <tr style=\"text-align: right;\">\n",
       "      <th></th>\n",
       "      <th>Year_of_Release</th>\n",
       "      <th>NA_sales</th>\n",
       "      <th>EU_sales</th>\n",
       "      <th>JP_sales</th>\n",
       "      <th>Other_sales</th>\n",
       "      <th>Critic_Score</th>\n",
       "    </tr>\n",
       "  </thead>\n",
       "  <tbody>\n",
       "    <tr>\n",
       "      <td>count</td>\n",
       "      <td>16446.000000</td>\n",
       "      <td>16715.000000</td>\n",
       "      <td>16715.000000</td>\n",
       "      <td>16715.000000</td>\n",
       "      <td>16715.000000</td>\n",
       "      <td>8137.000000</td>\n",
       "    </tr>\n",
       "    <tr>\n",
       "      <td>mean</td>\n",
       "      <td>2006.484616</td>\n",
       "      <td>0.263377</td>\n",
       "      <td>0.145060</td>\n",
       "      <td>0.077617</td>\n",
       "      <td>0.047342</td>\n",
       "      <td>68.967679</td>\n",
       "    </tr>\n",
       "    <tr>\n",
       "      <td>std</td>\n",
       "      <td>5.877050</td>\n",
       "      <td>0.813604</td>\n",
       "      <td>0.503339</td>\n",
       "      <td>0.308853</td>\n",
       "      <td>0.186731</td>\n",
       "      <td>13.938165</td>\n",
       "    </tr>\n",
       "    <tr>\n",
       "      <td>min</td>\n",
       "      <td>1980.000000</td>\n",
       "      <td>0.000000</td>\n",
       "      <td>0.000000</td>\n",
       "      <td>0.000000</td>\n",
       "      <td>0.000000</td>\n",
       "      <td>13.000000</td>\n",
       "    </tr>\n",
       "    <tr>\n",
       "      <td>25%</td>\n",
       "      <td>2003.000000</td>\n",
       "      <td>0.000000</td>\n",
       "      <td>0.000000</td>\n",
       "      <td>0.000000</td>\n",
       "      <td>0.000000</td>\n",
       "      <td>60.000000</td>\n",
       "    </tr>\n",
       "    <tr>\n",
       "      <td>50%</td>\n",
       "      <td>2007.000000</td>\n",
       "      <td>0.080000</td>\n",
       "      <td>0.020000</td>\n",
       "      <td>0.000000</td>\n",
       "      <td>0.010000</td>\n",
       "      <td>71.000000</td>\n",
       "    </tr>\n",
       "    <tr>\n",
       "      <td>75%</td>\n",
       "      <td>2010.000000</td>\n",
       "      <td>0.240000</td>\n",
       "      <td>0.110000</td>\n",
       "      <td>0.040000</td>\n",
       "      <td>0.030000</td>\n",
       "      <td>79.000000</td>\n",
       "    </tr>\n",
       "    <tr>\n",
       "      <td>max</td>\n",
       "      <td>2016.000000</td>\n",
       "      <td>41.360000</td>\n",
       "      <td>28.960000</td>\n",
       "      <td>10.220000</td>\n",
       "      <td>10.570000</td>\n",
       "      <td>98.000000</td>\n",
       "    </tr>\n",
       "  </tbody>\n",
       "</table>\n",
       "</div>"
      ],
      "text/plain": [
       "       Year_of_Release      NA_sales      EU_sales      JP_sales  \\\n",
       "count     16446.000000  16715.000000  16715.000000  16715.000000   \n",
       "mean       2006.484616      0.263377      0.145060      0.077617   \n",
       "std           5.877050      0.813604      0.503339      0.308853   \n",
       "min        1980.000000      0.000000      0.000000      0.000000   \n",
       "25%        2003.000000      0.000000      0.000000      0.000000   \n",
       "50%        2007.000000      0.080000      0.020000      0.000000   \n",
       "75%        2010.000000      0.240000      0.110000      0.040000   \n",
       "max        2016.000000     41.360000     28.960000     10.220000   \n",
       "\n",
       "        Other_sales  Critic_Score  \n",
       "count  16715.000000   8137.000000  \n",
       "mean       0.047342     68.967679  \n",
       "std        0.186731     13.938165  \n",
       "min        0.000000     13.000000  \n",
       "25%        0.000000     60.000000  \n",
       "50%        0.010000     71.000000  \n",
       "75%        0.030000     79.000000  \n",
       "max       10.570000     98.000000  "
      ]
     },
     "metadata": {},
     "output_type": "display_data"
    }
   ],
   "source": [
    "display(df.info())\n",
    "display(df.head(10))\n",
    "display(df.tail(10))\n",
    "display(df.sample(10))\n",
    "display(df.describe())"
   ]
  },
  {
   "cell_type": "markdown",
   "metadata": {},
   "source": [
    "У половины игр отсутствует рейтинг критиков.\n",
    "\n",
    "В данных о продажах есть выбросы (3-й квартиль меньше 1, а максимальное значение - несколько десятков)."
   ]
  },
  {
   "cell_type": "markdown",
   "metadata": {},
   "source": [
    "# Шаг 2. Подготовить данные\n",
    "\n",
    "[x] Заменить названия столбцов (приведите к нижнему регистру);\n",
    "\n",
    "[x] Преобразвать данные в нужные типы. Описать, в каких столбцах заменили тип данных и почему;\n",
    "\n",
    "[x] Обработать пропуски при необходимости;\n",
    "\n",
    "[x] Объяснить, почему заполнили пропуски определённым образом или почему не стали это делать;\n",
    "\n",
    "[x] Описать причины, которые могли привести к пропускам;\n",
    "\n",
    "[x] Отдельно разобрать аббревиатуру 'tbd' в столбцах с рейтингом и описать, как его обработать;\n",
    "\n",
    "[x] Посчитать суммарные продажи во всех регионах и запишите их в отдельный столбец."
   ]
  },
  {
   "cell_type": "code",
   "execution_count": 63,
   "metadata": {},
   "outputs": [],
   "source": [
    "df.columns = df.columns.str.lower()"
   ]
  },
  {
   "cell_type": "code",
   "execution_count": 64,
   "metadata": {},
   "outputs": [
    {
     "data": {
      "text/plain": [
       "2424"
      ]
     },
     "execution_count": 64,
     "metadata": {},
     "output_type": "execute_result"
    }
   ],
   "source": [
    "df.query('user_score == \"tbd\"')['user_score'].count()"
   ]
  },
  {
   "cell_type": "code",
   "execution_count": 65,
   "metadata": {},
   "outputs": [
    {
     "data": {
      "text/plain": [
       "7.125046113306983"
      ]
     },
     "metadata": {},
     "output_type": "display_data"
    },
    {
     "data": {
      "text/plain": [
       "7.5"
      ]
     },
     "metadata": {},
     "output_type": "display_data"
    }
   ],
   "source": [
    "display((df[(df['user_score'].isna() == False) & (df['user_score'] != 'tbd')])['user_score'].apply(float).mean())\n",
    "display((df[(df['user_score'].isna() == False) & (df['user_score'] != 'tbd')])['user_score'].apply(float).median())"
   ]
  },
  {
   "cell_type": "markdown",
   "metadata": {},
   "source": [
    "2424 из 10014 значений (24%) в столбце user_score - это tbd. Эту аббревиатуру можно расшифровать как \"будет определено\", поэтому эти значения можно заменить. (Можно расшифровать и как \"будет удалено\", но замена этих значений на пустые приведёт только к увеличению пропущенных значений.) Так как среднее и медиана не сильно различаются, заменим на среднее, потому что оно меньше."
   ]
  },
  {
   "cell_type": "code",
   "execution_count": 66,
   "metadata": {},
   "outputs": [],
   "source": [
    "df.loc[df['user_score'] == 'tbd', ['user_score']] = 'NaN'"
   ]
  },
  {
   "cell_type": "code",
   "execution_count": 67,
   "metadata": {},
   "outputs": [],
   "source": [
    "df['user_score'] = df['user_score'].astype('float')"
   ]
  },
  {
   "cell_type": "code",
   "execution_count": 68,
   "metadata": {},
   "outputs": [
    {
     "data": {
      "text/html": [
       "<div>\n",
       "<style scoped>\n",
       "    .dataframe tbody tr th:only-of-type {\n",
       "        vertical-align: middle;\n",
       "    }\n",
       "\n",
       "    .dataframe tbody tr th {\n",
       "        vertical-align: top;\n",
       "    }\n",
       "\n",
       "    .dataframe thead th {\n",
       "        text-align: right;\n",
       "    }\n",
       "</style>\n",
       "<table border=\"1\" class=\"dataframe\">\n",
       "  <thead>\n",
       "    <tr style=\"text-align: right;\">\n",
       "      <th></th>\n",
       "      <th>name</th>\n",
       "      <th>platform</th>\n",
       "      <th>year_of_release</th>\n",
       "      <th>genre</th>\n",
       "      <th>na_sales</th>\n",
       "      <th>eu_sales</th>\n",
       "      <th>jp_sales</th>\n",
       "      <th>other_sales</th>\n",
       "      <th>critic_score</th>\n",
       "      <th>user_score</th>\n",
       "      <th>rating</th>\n",
       "    </tr>\n",
       "  </thead>\n",
       "  <tbody>\n",
       "    <tr>\n",
       "      <td>659</td>\n",
       "      <td>NaN</td>\n",
       "      <td>GEN</td>\n",
       "      <td>1993.0</td>\n",
       "      <td>NaN</td>\n",
       "      <td>1.78</td>\n",
       "      <td>0.53</td>\n",
       "      <td>0.00</td>\n",
       "      <td>0.08</td>\n",
       "      <td>NaN</td>\n",
       "      <td>NaN</td>\n",
       "      <td>NaN</td>\n",
       "    </tr>\n",
       "    <tr>\n",
       "      <td>14244</td>\n",
       "      <td>NaN</td>\n",
       "      <td>GEN</td>\n",
       "      <td>1993.0</td>\n",
       "      <td>NaN</td>\n",
       "      <td>0.00</td>\n",
       "      <td>0.00</td>\n",
       "      <td>0.03</td>\n",
       "      <td>0.00</td>\n",
       "      <td>NaN</td>\n",
       "      <td>NaN</td>\n",
       "      <td>NaN</td>\n",
       "    </tr>\n",
       "  </tbody>\n",
       "</table>\n",
       "</div>"
      ],
      "text/plain": [
       "      name platform  year_of_release genre  na_sales  eu_sales  jp_sales  \\\n",
       "659    NaN      GEN           1993.0   NaN      1.78      0.53      0.00   \n",
       "14244  NaN      GEN           1993.0   NaN      0.00      0.00      0.03   \n",
       "\n",
       "       other_sales  critic_score  user_score rating  \n",
       "659           0.08           NaN         NaN    NaN  \n",
       "14244         0.00           NaN         NaN    NaN  "
      ]
     },
     "execution_count": 68,
     "metadata": {},
     "output_type": "execute_result"
    }
   ],
   "source": [
    "df[df['name'].isna() == True]"
   ]
  },
  {
   "cell_type": "markdown",
   "metadata": {},
   "source": [
    "Жанры пропущенны только в двух строках, в тех же, где пропущены названия названия игр, поэтому эти строки можно удалить."
   ]
  },
  {
   "cell_type": "code",
   "execution_count": 69,
   "metadata": {},
   "outputs": [],
   "source": [
    "df.dropna(subset=['name'], inplace=True)"
   ]
  },
  {
   "cell_type": "code",
   "execution_count": 70,
   "metadata": {},
   "outputs": [],
   "source": [
    "df['name'] = df['name'].str.lower()\n",
    "df['platform'] = df['platform'].str.lower()\n",
    "df['genre'] = df['genre'].str.lower()"
   ]
  },
  {
   "cell_type": "code",
   "execution_count": 71,
   "metadata": {},
   "outputs": [
    {
     "data": {
      "text/plain": [
       "0"
      ]
     },
     "execution_count": 71,
     "metadata": {},
     "output_type": "execute_result"
    }
   ],
   "source": [
    "df.duplicated().sum()"
   ]
  },
  {
   "cell_type": "code",
   "execution_count": 74,
   "metadata": {},
   "outputs": [],
   "source": [
    "df['year_of_release'] = df['year_of_release'].fillna(df['year_of_release'].median())"
   ]
  },
  {
   "cell_type": "markdown",
   "metadata": {},
   "source": [
    "Пропущенные значения в столбцах user_score, critic_score, year_of_release заменены на медианные, пропущенные значения в столбце rating оставлены без изменений.\n",
    "\n",
    "Пропуски могли возникнуть из-за ошибок ввода или проблем с исходными файлами."
   ]
  },
  {
   "cell_type": "code",
   "execution_count": 75,
   "metadata": {},
   "outputs": [],
   "source": [
    "df['year_of_release'] = df['year_of_release'].astype('int')"
   ]
  },
  {
   "cell_type": "markdown",
   "metadata": {},
   "source": [
    "Тип данных в стобцах critic_score и year_of_release изменён на int. Если изменить год на datetime, появятся лишние данные о дате и времени. В столбце critic_score выброчно просмотренные значения целые, в отличие от столбца user_score. Так память будет расходоваться эффективнее."
   ]
  },
  {
   "cell_type": "code",
   "execution_count": 76,
   "metadata": {},
   "outputs": [],
   "source": [
    "df['all_sales'] = df[['na_sales', 'eu_sales', 'jp_sales', 'other_sales']].sum(axis=1)"
   ]
  },
  {
   "cell_type": "code",
   "execution_count": 77,
   "metadata": {},
   "outputs": [
    {
     "data": {
      "image/png": "[encoded data removed]",
      "text/plain": [
       "<Figure size 432x288 with 1 Axes>"
      ]
     },
     "metadata": {
      "needs_background": "light"
     },
     "output_type": "display_data"
    }
   ],
   "source": [
    "df.boxplot(column='all_sales');"
   ]
  },
  {
   "cell_type": "code",
   "execution_count": 78,
   "metadata": {},
   "outputs": [],
   "source": [
    "df = df.query('all_sales < 80')"
   ]
  },
  {
   "cell_type": "markdown",
   "metadata": {},
   "source": [
    "Избавились от выброса."
   ]
  },
  {
   "cell_type": "markdown",
   "metadata": {},
   "source": [
    "# Шаг 3. Провести исследовательский анализ данных\n",
    "\n",
    "[x] Посмотреть, сколько игр выпускалось в разные годы. Важны ли данные за все периоды?\n",
    "\n",
    "[x] Посмотреть, как менялись продажи по платформам. Выбрать платформы с наибольшими суммарными продажами и постройте распределение по годам. За какой характерный срок появляются новые и исчезают старые платформы?\n",
    "\n",
    "[x] Взять данные за соответствующий актуальный период.\n",
    "\n",
    "[x] Не учитывать в работе данные за предыдущие годы.\n",
    "\n",
    "[x] Какие платформы лидируют по продажам, растут или падают? Выбрать несколько потенциально прибыльных платформ.\n",
    "\n",
    "[x] Построить график «ящик с усами» по глобальным продажам игр в разбивке по платформам. Опишите результат.\n",
    "\n",
    "[x] Посмотреть, как влияют на продажи внутри одной популярной платформы отзывы пользователей и критиков. Построить диаграмму рассеяния и посчитайте корреляцию между отзывами и продажами. Сформулирвать выводы.\n",
    "\n",
    "[x] Соотнести выводы с продажами игр на других платформах.\n",
    "\n",
    "[x] Посмотреть на общее распределение игр по жанрам. Что можно сказать о самых прибыльных жанрах? Выделяются ли жанры с высокими и низкими продажами?"
   ]
  },
  {
   "cell_type": "code",
   "execution_count": 79,
   "metadata": {},
   "outputs": [
    {
     "data": {
      "text/plain": [
       "2007    1461\n",
       "2008    1428\n",
       "2009    1426\n",
       "2010    1255\n",
       "2011    1136\n",
       "2006    1006\n",
       "2005     939\n",
       "2002     829\n",
       "2003     775\n",
       "2004     764\n",
       "2012     653\n",
       "2015     606\n",
       "2014     581\n",
       "2013     545\n",
       "2016     502\n",
       "2001     482\n",
       "1998     379\n",
       "2000     350\n",
       "1999     338\n",
       "1997     289\n",
       "1996     263\n",
       "1995     219\n",
       "1994     121\n",
       "1993      60\n",
       "1981      46\n",
       "1992      43\n",
       "1991      41\n",
       "1982      36\n",
       "1986      21\n",
       "1983      17\n",
       "1989      17\n",
       "1987      16\n",
       "1990      16\n",
       "1988      15\n",
       "1984      14\n",
       "1985      14\n",
       "1980       9\n",
       "Name: year_of_release, dtype: int64"
      ]
     },
     "execution_count": 79,
     "metadata": {},
     "output_type": "execute_result"
    }
   ],
   "source": [
    "df['year_of_release'].value_counts()"
   ]
  },
  {
   "cell_type": "code",
   "execution_count": 80,
   "metadata": {},
   "outputs": [
    {
     "data": {
      "text/plain": [
       "7712"
      ]
     },
     "metadata": {},
     "output_type": "display_data"
    },
    {
     "data": {
      "text/plain": [
       "9000"
      ]
     },
     "metadata": {},
     "output_type": "display_data"
    },
    {
     "data": {
      "text/plain": [
       "1288"
      ]
     },
     "metadata": {},
     "output_type": "display_data"
    }
   ],
   "source": [
    "display(df.query('2006 <= year_of_release <= 2011')['year_of_release'].count())\n",
    "display(df.query('year_of_release < 2006 or year_of_release > 2011')['year_of_release'].count())\n",
    "display(df.query('year_of_release < 2006 or year_of_release > 2011')['year_of_release'].count() - df.query('2006 <= year_of_release <= 2011')['year_of_release'].count())"
   ]
  },
  {
   "cell_type": "markdown",
   "metadata": {},
   "source": [
    "Больше всего игр выпускалось в 2006 - 2011 годах. Суммарное количество игр, выпущенных за эти пять лет на 1281 меньше, чем количество игр, выпущенных с 1980 по 2005 и с 2007 по 2016 (34 года)."
   ]
  },
  {
   "cell_type": "code",
   "execution_count": 81,
   "metadata": {},
   "outputs": [
    {
     "data": {
      "text/plain": [
       "platform\n",
       "ps2     1255.77\n",
       "x360     971.42\n",
       "ps3      939.65\n",
       "wii      824.97\n",
       "ds       806.12\n",
       "ps       730.86\n",
       "gba      317.85\n",
       "ps4      314.14\n",
       "psp      294.05\n",
       "pc       259.52\n",
       "3ds      259.00\n",
       "xb       257.74\n",
       "gb       255.46\n",
       "nes      251.05\n",
       "n64      218.68\n",
       "snes     200.04\n",
       "gc       198.93\n",
       "xone     159.32\n",
       "2600      96.98\n",
       "wiiu      82.19\n",
       "psv       54.07\n",
       "sat       33.59\n",
       "gen       28.35\n",
       "dc        15.95\n",
       "scd        1.86\n",
       "ng         1.44\n",
       "ws         1.42\n",
       "tg16       0.16\n",
       "3do        0.10\n",
       "gg         0.04\n",
       "pcfx       0.03\n",
       "Name: all_sales, dtype: float64"
      ]
     },
     "execution_count": 81,
     "metadata": {},
     "output_type": "execute_result"
    }
   ],
   "source": [
    "df.groupby('platform')['all_sales'].sum().sort_values(ascending=False)"
   ]
  },
  {
   "cell_type": "code",
   "execution_count": 82,
   "metadata": {
    "scrolled": false
   },
   "outputs": [
    {
     "data": {
      "image/png": "[encoded data removed]",
      "text/plain": [
       "<Figure size 360x360 with 1 Axes>"
      ]
     },
     "metadata": {
      "needs_background": "light"
     },
     "output_type": "display_data"
    },
    {
     "data": {
      "image/png": "[encoded data removed]",
      "text/plain": [
       "<Figure size 360x360 with 1 Axes>"
      ]
     },
     "metadata": {
      "needs_background": "light"
     },
     "output_type": "display_data"
    },
    {
     "data": {
      "image/png": "[encoded data removed]",
      "text/plain": [
       "<Figure size 360x360 with 1 Axes>"
      ]
     },
     "metadata": {
      "needs_background": "light"
     },
     "output_type": "display_data"
    },
    {
     "data": {
      "image/png": "[encoded data removed]",
      "text/plain": [
       "<Figure size 360x360 with 1 Axes>"
      ]
     },
     "metadata": {
      "needs_background": "light"
     },
     "output_type": "display_data"
    },
    {
     "data": {
      "image/png": "[encoded data removed]",
      "text/plain": [
       "<Figure size 360x360 with 1 Axes>"
      ]
     },
     "metadata": {
      "needs_background": "light"
     },
     "output_type": "display_data"
    },
    {
     "data": {
      "image/png": "[encoded data removed]",
      "text/plain": [
       "<Figure size 360x360 with 1 Axes>"
      ]
     },
     "metadata": {
      "needs_background": "light"
     },
     "output_type": "display_data"
    }
   ],
   "source": [
    "platforms = ['ps2', 'x360', 'ps3', 'wii', 'ds', 'ps']\n",
    "for i in platforms:\n",
    "    df.query('platform == @i').groupby('year_of_release')['all_sales'].sum().plot(kind='bar', title = i, figsize=(5,5))\n",
    "    plt.show()"
   ]
  },
  {
   "cell_type": "markdown",
   "metadata": {},
   "source": [
    "Три платформы с наибольшими суммарными продажами исчезли за 10 лет."
   ]
  },
  {
   "cell_type": "code",
   "execution_count": 84,
   "metadata": {},
   "outputs": [],
   "source": [
    "df_actual = df.query('year_of_release >= 2011')"
   ]
  },
  {
   "cell_type": "markdown",
   "metadata": {},
   "source": [
    "Актуальный период - 5 лет."
   ]
  },
  {
   "cell_type": "code",
   "execution_count": 87,
   "metadata": {},
   "outputs": [
    {
     "data": {
      "image/png": "[encoded data removed]",
      "text/plain": [
       "<Figure size 1080x1080 with 1 Axes>"
      ]
     },
     "metadata": {
      "needs_background": "light"
     },
     "output_type": "display_data"
    }
   ],
   "source": [
    "fig, axes = plt.subplots(1, 1, figsize=(15, 15))\n",
    "sns.barplot(x='year_of_release', y='all_sales', hue='platform', data=df_actual);"
   ]
  },
  {
   "cell_type": "code",
   "execution_count": 88,
   "metadata": {
    "scrolled": false
   },
   "outputs": [
    {
     "data": {
      "text/plain": [
       "platform\n",
       "ps3     445.57\n",
       "x360    380.38\n",
       "ps4     314.14\n",
       "3ds     257.81\n",
       "xone    159.32\n",
       "pc       98.03\n",
       "wii      95.02\n",
       "wiiu     82.19\n",
       "psv      53.81\n",
       "ds       38.73\n",
       "psp      29.01\n",
       "ps2       0.45\n",
       "Name: all_sales, dtype: float64"
      ]
     },
     "execution_count": 88,
     "metadata": {},
     "output_type": "execute_result"
    }
   ],
   "source": [
    "df_actual.groupby('platform')['all_sales'].sum().sort_values(ascending=False)"
   ]
  },
  {
   "cell_type": "code",
   "execution_count": 89,
   "metadata": {
    "scrolled": true
   },
   "outputs": [
    {
     "data": {
      "image/png": "[encoded data removed]",
      "text/plain": [
       "<Figure size 432x288 with 1 Axes>"
      ]
     },
     "metadata": {
      "needs_background": "light"
     },
     "output_type": "display_data"
    },
    {
     "data": {
      "image/png": "[encoded data removed]",
      "text/plain": [
       "<Figure size 432x288 with 1 Axes>"
      ]
     },
     "metadata": {
      "needs_background": "light"
     },
     "output_type": "display_data"
    },
    {
     "data": {
      "image/png": "[encoded data removed]",
      "text/plain": [
       "<Figure size 432x288 with 1 Axes>"
      ]
     },
     "metadata": {
      "needs_background": "light"
     },
     "output_type": "display_data"
    },
    {
     "data": {
      "image/png": "[encoded data removed]",
      "text/plain": [
       "<Figure size 432x288 with 1 Axes>"
      ]
     },
     "metadata": {
      "needs_background": "light"
     },
     "output_type": "display_data"
    },
    {
     "data": {
      "image/png": "[encoded data removed]",
      "text/plain": [
       "<Figure size 432x288 with 1 Axes>"
      ]
     },
     "metadata": {
      "needs_background": "light"
     },
     "output_type": "display_data"
    },
    {
     "data": {
      "image/png": "[encoded data removed]",
      "text/plain": [
       "<Figure size 432x288 with 1 Axes>"
      ]
     },
     "metadata": {
      "needs_background": "light"
     },
     "output_type": "display_data"
    },
    {
     "data": {
      "image/png": "[encoded data removed]",
      "text/plain": [
       "<Figure size 432x288 with 1 Axes>"
      ]
     },
     "metadata": {
      "needs_background": "light"
     },
     "output_type": "display_data"
    },
    {
     "data": {
      "image/png": "[encoded data removed]",
      "text/plain": [
       "<Figure size 432x288 with 1 Axes>"
      ]
     },
     "metadata": {
      "needs_background": "light"
     },
     "output_type": "display_data"
    },
    {
     "data": {
      "image/png": "[encoded data removed]",
      "text/plain": [
       "<Figure size 432x288 with 1 Axes>"
      ]
     },
     "metadata": {
      "needs_background": "light"
     },
     "output_type": "display_data"
    },
    {
     "data": {
      "image/png": "[encoded data removed]",
      "text/plain": [
       "<Figure size 432x288 with 1 Axes>"
      ]
     },
     "metadata": {
      "needs_background": "light"
     },
     "output_type": "display_data"
    },
    {
     "data": {
      "image/png": "[encoded data removed]",
      "text/plain": [
       "<Figure size 432x288 with 1 Axes>"
      ]
     },
     "metadata": {
      "needs_background": "light"
     },
     "output_type": "display_data"
    },
    {
     "data": {
      "image/png": "[encoded data removed]",
      "text/plain": [
       "<Figure size 432x288 with 1 Axes>"
      ]
     },
     "metadata": {
      "needs_background": "light"
     },
     "output_type": "display_data"
    }
   ],
   "source": [
    "for i in df_actual['platform'].unique():\n",
    "    df_actual.query('platform == @i').groupby('year_of_release')['all_sales'].sum().plot(kind='bar', title = i)\n",
    "    plt.show()"
   ]
  },
  {
   "cell_type": "code",
   "execution_count": 90,
   "metadata": {},
   "outputs": [
    {
     "data": {
      "text/plain": [
       "platform\n",
       "ps3     445.57\n",
       "x360    380.38\n",
       "ps4     314.14\n",
       "3ds     257.81\n",
       "xone    159.32\n",
       "pc       98.03\n",
       "wii      95.02\n",
       "wiiu     82.19\n",
       "psv      53.81\n",
       "ds       38.73\n",
       "psp      29.01\n",
       "ps2       0.45\n",
       "Name: all_sales, dtype: float64"
      ]
     },
     "execution_count": 90,
     "metadata": {},
     "output_type": "execute_result"
    }
   ],
   "source": [
    "df_actual.groupby('platform')['all_sales'].sum().sort_values(ascending=False)"
   ]
  },
  {
   "cell_type": "code",
   "execution_count": 91,
   "metadata": {},
   "outputs": [
    {
     "data": {
      "text/plain": [
       "platform\n",
       "ps4     69.25\n",
       "xone    26.15\n",
       "3ds     15.14\n",
       "pc       5.25\n",
       "wiiu     4.60\n",
       "psv      4.25\n",
       "ps3      3.60\n",
       "x360     1.52\n",
       "wii      0.18\n",
       "Name: all_sales, dtype: float64"
      ]
     },
     "execution_count": 91,
     "metadata": {},
     "output_type": "execute_result"
    }
   ],
   "source": [
    "df_actual.query('year_of_release == 2016').groupby('platform')['all_sales'].sum().sort_values(ascending=False)"
   ]
  },
  {
   "cell_type": "markdown",
   "metadata": {},
   "source": [
    "- лидируют по продажам следующие платформы: ps3, x360, ps4, продажи игр для этих платформ падают;\n",
    "- наименьшие продажи на платформах: ds, psp, ps2;\n",
    "- продажи на всех платформах падают;\n",
    "- из платформ, которые в топе продаж за пять лет (ps3, x360, ps4, 3ds, xone), большие продажи в 2016 году только у трёх: ps4, xone, 3ds. Думаю, их можно считать перспективными."
   ]
  },
  {
   "cell_type": "code",
   "execution_count": 92,
   "metadata": {
    "scrolled": true
   },
   "outputs": [
    {
     "data": {
      "image/png": "[encoded data removed]",
      "text/plain": [
       "<Figure size 1080x1080 with 1 Axes>"
      ]
     },
     "metadata": {
      "needs_background": "light"
     },
     "output_type": "display_data"
    }
   ],
   "source": [
    "plt.figure(figsize=(15,15))\n",
    "sns.boxplot(data=df_actual, x='platform', y='all_sales');"
   ]
  },
  {
   "cell_type": "markdown",
   "metadata": {},
   "source": [
    "Выбросы могли возникнуть из-за того, что в какой-то год на определённой платформе вышла одна или несколько очень популярных игр."
   ]
  },
  {
   "cell_type": "markdown",
   "metadata": {},
   "source": [
    "У платформ с большими суммарными продажами есть выбросы, большинство значений больше третьего квартиля."
   ]
  },
  {
   "cell_type": "code",
   "execution_count": 93,
   "metadata": {},
   "outputs": [
    {
     "data": {
      "image/png": "[encoded data removed]",
      "text/plain": [
       "<Figure size 432x288 with 1 Axes>"
      ]
     },
     "metadata": {
      "needs_background": "light"
     },
     "output_type": "display_data"
    },
    {
     "data": {
      "image/png": "[encoded data removed]",
      "text/plain": [
       "<Figure size 432x288 with 1 Axes>"
      ]
     },
     "metadata": {
      "needs_background": "light"
     },
     "output_type": "display_data"
    },
    {
     "data": {
      "image/png": "[encoded data removed]",
      "text/plain": [
       "<Figure size 432x288 with 1 Axes>"
      ]
     },
     "metadata": {
      "needs_background": "light"
     },
     "output_type": "display_data"
    }
   ],
   "source": [
    "df_actual.query('platform ==\"x360\"').plot(kind='scatter', x='all_sales', y='user_score', alpha = .8, title='x360')\n",
    "plt.show()\n",
    "df_actual.query('platform ==\"ps3\"').plot(kind='scatter', x='all_sales', y='user_score', alpha = .8, title='ps3')\n",
    "plt.show()\n",
    "df_actual.query('platform ==\"wii\"').plot(kind='scatter', x='all_sales', y='user_score', alpha = .8, title='wii')\n",
    "plt.show()"
   ]
  },
  {
   "cell_type": "code",
   "execution_count": 94,
   "metadata": {
    "scrolled": false
   },
   "outputs": [
    {
     "data": {
      "image/png": "[encoded data removed]",
      "text/plain": [
       "<Figure size 1080x1080 with 1 Axes>"
      ]
     },
     "metadata": {
      "needs_background": "light"
     },
     "output_type": "display_data"
    },
    {
     "data": {
      "image/png": "[encoded data removed]",
      "text/plain": [
       "<Figure size 1080x1080 with 1 Axes>"
      ]
     },
     "metadata": {
      "needs_background": "light"
     },
     "output_type": "display_data"
    }
   ],
   "source": [
    "actual_best_platforms = ['x360', 'ps3', 'wii']\n",
    "actual_best_platforms = df.query('platform in @actual_best_platforms')\n",
    "plt.figure(figsize=(15,15))\n",
    "sns.scatterplot(x='all_sales', y='user_score', data=actual_best_platforms, hue='platform', size='all_sales')\n",
    "plt.show()\n",
    "plt.figure(figsize=(15,15))\n",
    "sns.scatterplot(x='all_sales', y='critic_score', data=actual_best_platforms, hue='platform', size='all_sales')\n",
    "plt.show()"
   ]
  },
  {
   "cell_type": "code",
   "execution_count": 95,
   "metadata": {},
   "outputs": [
    {
     "data": {
      "text/plain": [
       "0.03146721944805148"
      ]
     },
     "metadata": {},
     "output_type": "display_data"
    },
    {
     "data": {
      "text/plain": [
       "0.32968319023196163"
      ]
     },
     "metadata": {},
     "output_type": "display_data"
    },
    {
     "data": {
      "text/plain": [
       "0.12219859340303986"
      ]
     },
     "metadata": {},
     "output_type": "display_data"
    },
    {
     "data": {
      "text/plain": [
       "0.3156779978496043"
      ]
     },
     "metadata": {},
     "output_type": "display_data"
    }
   ],
   "source": [
    "display(df_actual['all_sales'].corr(df_actual['user_score']))\n",
    "display(df_actual['all_sales'].corr(df_actual['critic_score']))\n",
    "\n",
    "display(actual_best_platforms['all_sales'].corr(actual_best_platforms['user_score']))\n",
    "display(actual_best_platforms['all_sales'].corr(actual_best_platforms['critic_score']))"
   ]
  },
  {
   "cell_type": "markdown",
   "metadata": {},
   "source": [
    "Между продажами и оценками пользователей и критиков нет значимой корреляции."
   ]
  },
  {
   "cell_type": "code",
   "execution_count": 96,
   "metadata": {},
   "outputs": [
    {
     "data": {
      "text/plain": [
       "action          1270\n",
       "role-playing     465\n",
       "adventure        410\n",
       "sports           389\n",
       "misc             375\n",
       "shooter          329\n",
       "racing           180\n",
       "fighting         159\n",
       "simulation       136\n",
       "platform         122\n",
       "strategy         117\n",
       "puzzle            71\n",
       "Name: genre, dtype: int64"
      ]
     },
     "execution_count": 96,
     "metadata": {},
     "output_type": "execute_result"
    }
   ],
   "source": [
    "df_actual['genre'].value_counts()"
   ]
  },
  {
   "cell_type": "markdown",
   "metadata": {},
   "source": [
    "Самые популярные жанры: action, role-playing, adventure, sports, misc. \n",
    "\n",
    "Самые непопулярные жанры: strategy, puzzle."
   ]
  },
  {
   "cell_type": "code",
   "execution_count": 97,
   "metadata": {},
   "outputs": [
    {
     "data": {
      "text/plain": [
       "genre\n",
       "action          558.15\n",
       "shooter         402.91\n",
       "role-playing    245.63\n",
       "sports          237.15\n",
       "misc            139.42\n",
       "platform         88.68\n",
       "racing           88.31\n",
       "fighting         66.90\n",
       "simulation       50.26\n",
       "adventure        45.04\n",
       "strategy         22.16\n",
       "puzzle            9.85\n",
       "Name: all_sales, dtype: float64"
      ]
     },
     "execution_count": 97,
     "metadata": {},
     "output_type": "execute_result"
    }
   ],
   "source": [
    "df_actual.groupby('genre')['all_sales'].sum().sort_values(ascending=False)"
   ]
  },
  {
   "cell_type": "markdown",
   "metadata": {},
   "source": [
    "Самые продаваемые жанры: action, shooter, role-playing, sports, misc. \n",
    "\n",
    "Самые непродаваемые жанры: strategy, puzzle."
   ]
  },
  {
   "cell_type": "code",
   "execution_count": 98,
   "metadata": {},
   "outputs": [
    {
     "data": {
      "text/html": [
       "<div>\n",
       "<style scoped>\n",
       "    .dataframe tbody tr th:only-of-type {\n",
       "        vertical-align: middle;\n",
       "    }\n",
       "\n",
       "    .dataframe tbody tr th {\n",
       "        vertical-align: top;\n",
       "    }\n",
       "\n",
       "    .dataframe thead th {\n",
       "        text-align: right;\n",
       "    }\n",
       "</style>\n",
       "<table border=\"1\" class=\"dataframe\">\n",
       "  <thead>\n",
       "    <tr style=\"text-align: right;\">\n",
       "      <th></th>\n",
       "      <th>genre</th>\n",
       "      <th>count</th>\n",
       "      <th>sum</th>\n",
       "      <th>sales per unit</th>\n",
       "    </tr>\n",
       "  </thead>\n",
       "  <tbody>\n",
       "    <tr>\n",
       "      <td>0</td>\n",
       "      <td>action</td>\n",
       "      <td>1270</td>\n",
       "      <td>558.15</td>\n",
       "      <td>0.439488</td>\n",
       "    </tr>\n",
       "    <tr>\n",
       "      <td>1</td>\n",
       "      <td>adventure</td>\n",
       "      <td>410</td>\n",
       "      <td>45.04</td>\n",
       "      <td>0.109854</td>\n",
       "    </tr>\n",
       "    <tr>\n",
       "      <td>2</td>\n",
       "      <td>fighting</td>\n",
       "      <td>159</td>\n",
       "      <td>66.90</td>\n",
       "      <td>0.420755</td>\n",
       "    </tr>\n",
       "    <tr>\n",
       "      <td>3</td>\n",
       "      <td>misc</td>\n",
       "      <td>375</td>\n",
       "      <td>139.42</td>\n",
       "      <td>0.371787</td>\n",
       "    </tr>\n",
       "    <tr>\n",
       "      <td>4</td>\n",
       "      <td>platform</td>\n",
       "      <td>122</td>\n",
       "      <td>88.68</td>\n",
       "      <td>0.726885</td>\n",
       "    </tr>\n",
       "    <tr>\n",
       "      <td>5</td>\n",
       "      <td>puzzle</td>\n",
       "      <td>71</td>\n",
       "      <td>9.85</td>\n",
       "      <td>0.138732</td>\n",
       "    </tr>\n",
       "    <tr>\n",
       "      <td>6</td>\n",
       "      <td>racing</td>\n",
       "      <td>180</td>\n",
       "      <td>88.31</td>\n",
       "      <td>0.490611</td>\n",
       "    </tr>\n",
       "    <tr>\n",
       "      <td>7</td>\n",
       "      <td>role-playing</td>\n",
       "      <td>465</td>\n",
       "      <td>245.63</td>\n",
       "      <td>0.528237</td>\n",
       "    </tr>\n",
       "    <tr>\n",
       "      <td>8</td>\n",
       "      <td>shooter</td>\n",
       "      <td>329</td>\n",
       "      <td>402.91</td>\n",
       "      <td>1.224650</td>\n",
       "    </tr>\n",
       "    <tr>\n",
       "      <td>9</td>\n",
       "      <td>simulation</td>\n",
       "      <td>136</td>\n",
       "      <td>50.26</td>\n",
       "      <td>0.369559</td>\n",
       "    </tr>\n",
       "    <tr>\n",
       "      <td>10</td>\n",
       "      <td>sports</td>\n",
       "      <td>389</td>\n",
       "      <td>237.15</td>\n",
       "      <td>0.609640</td>\n",
       "    </tr>\n",
       "    <tr>\n",
       "      <td>11</td>\n",
       "      <td>strategy</td>\n",
       "      <td>117</td>\n",
       "      <td>22.16</td>\n",
       "      <td>0.189402</td>\n",
       "    </tr>\n",
       "  </tbody>\n",
       "</table>\n",
       "</div>"
      ],
      "text/plain": [
       "           genre  count     sum  sales per unit\n",
       "0         action   1270  558.15        0.439488\n",
       "1      adventure    410   45.04        0.109854\n",
       "2       fighting    159   66.90        0.420755\n",
       "3           misc    375  139.42        0.371787\n",
       "4       platform    122   88.68        0.726885\n",
       "5         puzzle     71    9.85        0.138732\n",
       "6         racing    180   88.31        0.490611\n",
       "7   role-playing    465  245.63        0.528237\n",
       "8        shooter    329  402.91        1.224650\n",
       "9     simulation    136   50.26        0.369559\n",
       "10        sports    389  237.15        0.609640\n",
       "11      strategy    117   22.16        0.189402"
      ]
     },
     "execution_count": 98,
     "metadata": {},
     "output_type": "execute_result"
    }
   ],
   "source": [
    "genre_pivot = df_actual.pivot_table(index='genre', values='all_sales', aggfunc=('sum', 'count'))\n",
    "genre_pivot.reset_index(inplace=True)\n",
    "genre_pivot['sales per unit'] = genre_pivot['sum'] / genre_pivot['count']\n",
    "genre_pivot"
   ]
  },
  {
   "cell_type": "code",
   "execution_count": 99,
   "metadata": {},
   "outputs": [
    {
     "data": {
      "image/png": "[encoded data removed]",
      "text/plain": [
       "<Figure size 1080x1080 with 1 Axes>"
      ]
     },
     "metadata": {
      "needs_background": "light"
     },
     "output_type": "display_data"
    }
   ],
   "source": [
    "plt.figure(figsize=(15,15))\n",
    "sns.barplot(data=df_actual, y='all_sales', x='genre', ci=None);"
   ]
  },
  {
   "cell_type": "markdown",
   "metadata": {},
   "source": [
    "Игр жанра action значительно больше, чем игр других жанров (в три раза больше, чем игр каждого из других популярных жанров).\n",
    "    \n",
    "Жанр shooter имеет больше продаж на единицу игры, чем каждый из остальных жанров, в том числе популярных."
   ]
  },
  {
   "cell_type": "markdown",
   "metadata": {},
   "source": [
    "# Шаг 4. Составить портрет пользователя каждого региона\n",
    "\n",
    "Определить для пользователя каждого региона (NA, EU, JP):\n",
    "\n",
    "[x] Самые популярные платформы (топ-5). Описать различия в долях продаж.\n",
    "\n",
    "[x] Самые популярные жанры (топ-5). Поясить разницу.\n",
    "\n",
    "[x] Влияет ли рейтинг ESRB на продажи в отдельном регионе?"
   ]
  },
  {
   "cell_type": "code",
   "execution_count": 100,
   "metadata": {},
   "outputs": [
    {
     "data": {
      "text/html": [
       "<div>\n",
       "<style scoped>\n",
       "    .dataframe tbody tr th:only-of-type {\n",
       "        vertical-align: middle;\n",
       "    }\n",
       "\n",
       "    .dataframe tbody tr th {\n",
       "        vertical-align: top;\n",
       "    }\n",
       "\n",
       "    .dataframe thead th {\n",
       "        text-align: right;\n",
       "    }\n",
       "</style>\n",
       "<table border=\"1\" class=\"dataframe\">\n",
       "  <thead>\n",
       "    <tr style=\"text-align: right;\">\n",
       "      <th></th>\n",
       "      <th>platform</th>\n",
       "      <th>na_sales</th>\n",
       "      <th>share</th>\n",
       "    </tr>\n",
       "  </thead>\n",
       "  <tbody>\n",
       "    <tr>\n",
       "      <td>0</td>\n",
       "      <td>x360</td>\n",
       "      <td>226.80</td>\n",
       "      <td>0.273312</td>\n",
       "    </tr>\n",
       "    <tr>\n",
       "      <td>1</td>\n",
       "      <td>ps3</td>\n",
       "      <td>168.26</td>\n",
       "      <td>0.202767</td>\n",
       "    </tr>\n",
       "    <tr>\n",
       "      <td>2</td>\n",
       "      <td>ps4</td>\n",
       "      <td>108.74</td>\n",
       "      <td>0.131040</td>\n",
       "    </tr>\n",
       "    <tr>\n",
       "      <td>3</td>\n",
       "      <td>xone</td>\n",
       "      <td>93.12</td>\n",
       "      <td>0.112217</td>\n",
       "    </tr>\n",
       "    <tr>\n",
       "      <td>4</td>\n",
       "      <td>3ds</td>\n",
       "      <td>82.65</td>\n",
       "      <td>0.099600</td>\n",
       "    </tr>\n",
       "  </tbody>\n",
       "</table>\n",
       "</div>"
      ],
      "text/plain": [
       "  platform  na_sales     share\n",
       "0     x360    226.80  0.273312\n",
       "1      ps3    168.26  0.202767\n",
       "2      ps4    108.74  0.131040\n",
       "3     xone     93.12  0.112217\n",
       "4      3ds     82.65  0.099600"
      ]
     },
     "metadata": {},
     "output_type": "display_data"
    },
    {
     "data": {
      "text/html": [
       "<div>\n",
       "<style scoped>\n",
       "    .dataframe tbody tr th:only-of-type {\n",
       "        vertical-align: middle;\n",
       "    }\n",
       "\n",
       "    .dataframe tbody tr th {\n",
       "        vertical-align: top;\n",
       "    }\n",
       "\n",
       "    .dataframe thead th {\n",
       "        text-align: right;\n",
       "    }\n",
       "</style>\n",
       "<table border=\"1\" class=\"dataframe\">\n",
       "  <thead>\n",
       "    <tr style=\"text-align: right;\">\n",
       "      <th></th>\n",
       "      <th>platform</th>\n",
       "      <th>eu_sales</th>\n",
       "      <th>share</th>\n",
       "    </tr>\n",
       "  </thead>\n",
       "  <tbody>\n",
       "    <tr>\n",
       "      <td>0</td>\n",
       "      <td>ps3</td>\n",
       "      <td>163.10</td>\n",
       "      <td>0.243418</td>\n",
       "    </tr>\n",
       "    <tr>\n",
       "      <td>1</td>\n",
       "      <td>ps4</td>\n",
       "      <td>141.09</td>\n",
       "      <td>0.210570</td>\n",
       "    </tr>\n",
       "    <tr>\n",
       "      <td>2</td>\n",
       "      <td>x360</td>\n",
       "      <td>117.10</td>\n",
       "      <td>0.174766</td>\n",
       "    </tr>\n",
       "    <tr>\n",
       "      <td>3</td>\n",
       "      <td>3ds</td>\n",
       "      <td>61.27</td>\n",
       "      <td>0.091442</td>\n",
       "    </tr>\n",
       "    <tr>\n",
       "      <td>4</td>\n",
       "      <td>pc</td>\n",
       "      <td>56.95</td>\n",
       "      <td>0.084995</td>\n",
       "    </tr>\n",
       "  </tbody>\n",
       "</table>\n",
       "</div>"
      ],
      "text/plain": [
       "  platform  eu_sales     share\n",
       "0      ps3    163.10  0.243418\n",
       "1      ps4    141.09  0.210570\n",
       "2     x360    117.10  0.174766\n",
       "3      3ds     61.27  0.091442\n",
       "4       pc     56.95  0.084995"
      ]
     },
     "metadata": {},
     "output_type": "display_data"
    },
    {
     "data": {
      "text/html": [
       "<div>\n",
       "<style scoped>\n",
       "    .dataframe tbody tr th:only-of-type {\n",
       "        vertical-align: middle;\n",
       "    }\n",
       "\n",
       "    .dataframe tbody tr th {\n",
       "        vertical-align: top;\n",
       "    }\n",
       "\n",
       "    .dataframe thead th {\n",
       "        text-align: right;\n",
       "    }\n",
       "</style>\n",
       "<table border=\"1\" class=\"dataframe\">\n",
       "  <thead>\n",
       "    <tr style=\"text-align: right;\">\n",
       "      <th></th>\n",
       "      <th>platform</th>\n",
       "      <th>jp_sales</th>\n",
       "      <th>share</th>\n",
       "    </tr>\n",
       "  </thead>\n",
       "  <tbody>\n",
       "    <tr>\n",
       "      <td>0</td>\n",
       "      <td>3ds</td>\n",
       "      <td>100.62</td>\n",
       "      <td>0.409607</td>\n",
       "    </tr>\n",
       "    <tr>\n",
       "      <td>1</td>\n",
       "      <td>ps3</td>\n",
       "      <td>49.39</td>\n",
       "      <td>0.201058</td>\n",
       "    </tr>\n",
       "    <tr>\n",
       "      <td>2</td>\n",
       "      <td>psp</td>\n",
       "      <td>24.04</td>\n",
       "      <td>0.097863</td>\n",
       "    </tr>\n",
       "    <tr>\n",
       "      <td>3</td>\n",
       "      <td>psv</td>\n",
       "      <td>21.84</td>\n",
       "      <td>0.088907</td>\n",
       "    </tr>\n",
       "    <tr>\n",
       "      <td>4</td>\n",
       "      <td>ps4</td>\n",
       "      <td>15.96</td>\n",
       "      <td>0.064970</td>\n",
       "    </tr>\n",
       "  </tbody>\n",
       "</table>\n",
       "</div>"
      ],
      "text/plain": [
       "  platform  jp_sales     share\n",
       "0      3ds    100.62  0.409607\n",
       "1      ps3     49.39  0.201058\n",
       "2      psp     24.04  0.097863\n",
       "3      psv     21.84  0.088907\n",
       "4      ps4     15.96  0.064970"
      ]
     },
     "metadata": {},
     "output_type": "display_data"
    }
   ],
   "source": [
    "na_platform = pd.DataFrame(data=df_actual.groupby('platform')['na_sales'].sum().sort_values(ascending=False).head(5))\n",
    "na_platform.reset_index(inplace=True)\n",
    "na_platform['share'] = na_platform['na_sales'] / df_actual['na_sales'].sum()\n",
    "display(na_platform)\n",
    "eu_platform = pd.DataFrame(data=df_actual.groupby('platform')['eu_sales'].sum().sort_values(ascending=False).head(5))\n",
    "eu_platform.reset_index(inplace=True)\n",
    "eu_platform['share'] = eu_platform['eu_sales'] / df_actual['eu_sales'].sum()\n",
    "display(eu_platform)\n",
    "jp_platform = pd.DataFrame(data=df_actual.groupby('platform')['jp_sales'].sum().sort_values(ascending=False).head(5))\n",
    "jp_platform.reset_index(inplace=True)\n",
    "jp_platform['share'] = jp_platform['jp_sales'] / df_actual['jp_sales'].sum()\n",
    "display(jp_platform)"
   ]
  },
  {
   "cell_type": "markdown",
   "metadata": {},
   "source": [
    "Самые популярные платформы в Северной Америке: x360, ps3, ps4, xone, 3ds. Для платформы x360 (первая в топе) продано в 2,7 раз больше игр, чем для платформы 3ds (последняя в топе).\n",
    "\n",
    "Самые популярные платформы в Европе: ps3, ps4, x360, 3ds, pc. Для платформы ps3 (первая в топе) продано в 3 раза больше игр, чем для платформы pc.\n",
    "\n",
    "Самые популярные платформы в Японии: 3ds, ps3, psp, psv, ps4. Для платформы 3ds (первая в топе) продано в 7 раз больше игр, чем для платформы ps4.\n",
    "\n",
    "На каждую из популярных платформ в регионе приходится от 1 до 4 процентов всех продаж по региону."
   ]
  },
  {
   "cell_type": "code",
   "execution_count": 101,
   "metadata": {},
   "outputs": [
    {
     "data": {
      "text/html": [
       "<div>\n",
       "<style scoped>\n",
       "    .dataframe tbody tr th:only-of-type {\n",
       "        vertical-align: middle;\n",
       "    }\n",
       "\n",
       "    .dataframe tbody tr th {\n",
       "        vertical-align: top;\n",
       "    }\n",
       "\n",
       "    .dataframe thead th {\n",
       "        text-align: right;\n",
       "    }\n",
       "</style>\n",
       "<table border=\"1\" class=\"dataframe\">\n",
       "  <thead>\n",
       "    <tr style=\"text-align: right;\">\n",
       "      <th></th>\n",
       "      <th>genre</th>\n",
       "      <th>na_sales</th>\n",
       "      <th>share</th>\n",
       "    </tr>\n",
       "  </thead>\n",
       "  <tbody>\n",
       "    <tr>\n",
       "      <td>0</td>\n",
       "      <td>action</td>\n",
       "      <td>230.98</td>\n",
       "      <td>0.278350</td>\n",
       "    </tr>\n",
       "    <tr>\n",
       "      <td>1</td>\n",
       "      <td>shooter</td>\n",
       "      <td>194.43</td>\n",
       "      <td>0.234304</td>\n",
       "    </tr>\n",
       "    <tr>\n",
       "      <td>2</td>\n",
       "      <td>sports</td>\n",
       "      <td>108.70</td>\n",
       "      <td>0.130992</td>\n",
       "    </tr>\n",
       "    <tr>\n",
       "      <td>3</td>\n",
       "      <td>role-playing</td>\n",
       "      <td>83.78</td>\n",
       "      <td>0.100962</td>\n",
       "    </tr>\n",
       "    <tr>\n",
       "      <td>4</td>\n",
       "      <td>misc</td>\n",
       "      <td>69.69</td>\n",
       "      <td>0.083982</td>\n",
       "    </tr>\n",
       "  </tbody>\n",
       "</table>\n",
       "</div>"
      ],
      "text/plain": [
       "          genre  na_sales     share\n",
       "0        action    230.98  0.278350\n",
       "1       shooter    194.43  0.234304\n",
       "2        sports    108.70  0.130992\n",
       "3  role-playing     83.78  0.100962\n",
       "4          misc     69.69  0.083982"
      ]
     },
     "metadata": {},
     "output_type": "display_data"
    },
    {
     "data": {
      "text/html": [
       "<div>\n",
       "<style scoped>\n",
       "    .dataframe tbody tr th:only-of-type {\n",
       "        vertical-align: middle;\n",
       "    }\n",
       "\n",
       "    .dataframe tbody tr th {\n",
       "        vertical-align: top;\n",
       "    }\n",
       "\n",
       "    .dataframe thead th {\n",
       "        text-align: right;\n",
       "    }\n",
       "</style>\n",
       "<table border=\"1\" class=\"dataframe\">\n",
       "  <thead>\n",
       "    <tr style=\"text-align: right;\">\n",
       "      <th></th>\n",
       "      <th>genre</th>\n",
       "      <th>eu_sales</th>\n",
       "      <th>share</th>\n",
       "    </tr>\n",
       "  </thead>\n",
       "  <tbody>\n",
       "    <tr>\n",
       "      <td>0</td>\n",
       "      <td>action</td>\n",
       "      <td>199.37</td>\n",
       "      <td>0.297549</td>\n",
       "    </tr>\n",
       "    <tr>\n",
       "      <td>1</td>\n",
       "      <td>shooter</td>\n",
       "      <td>148.02</td>\n",
       "      <td>0.220912</td>\n",
       "    </tr>\n",
       "    <tr>\n",
       "      <td>2</td>\n",
       "      <td>sports</td>\n",
       "      <td>88.48</td>\n",
       "      <td>0.132052</td>\n",
       "    </tr>\n",
       "    <tr>\n",
       "      <td>3</td>\n",
       "      <td>role-playing</td>\n",
       "      <td>62.30</td>\n",
       "      <td>0.092980</td>\n",
       "    </tr>\n",
       "    <tr>\n",
       "      <td>4</td>\n",
       "      <td>racing</td>\n",
       "      <td>40.58</td>\n",
       "      <td>0.060564</td>\n",
       "    </tr>\n",
       "  </tbody>\n",
       "</table>\n",
       "</div>"
      ],
      "text/plain": [
       "          genre  eu_sales     share\n",
       "0        action    199.37  0.297549\n",
       "1       shooter    148.02  0.220912\n",
       "2        sports     88.48  0.132052\n",
       "3  role-playing     62.30  0.092980\n",
       "4        racing     40.58  0.060564"
      ]
     },
     "metadata": {},
     "output_type": "display_data"
    },
    {
     "data": {
      "text/html": [
       "<div>\n",
       "<style scoped>\n",
       "    .dataframe tbody tr th:only-of-type {\n",
       "        vertical-align: middle;\n",
       "    }\n",
       "\n",
       "    .dataframe tbody tr th {\n",
       "        vertical-align: top;\n",
       "    }\n",
       "\n",
       "    .dataframe thead th {\n",
       "        text-align: right;\n",
       "    }\n",
       "</style>\n",
       "<table border=\"1\" class=\"dataframe\">\n",
       "  <thead>\n",
       "    <tr style=\"text-align: right;\">\n",
       "      <th></th>\n",
       "      <th>genre</th>\n",
       "      <th>jp_sales</th>\n",
       "      <th>share</th>\n",
       "    </tr>\n",
       "  </thead>\n",
       "  <tbody>\n",
       "    <tr>\n",
       "      <td>0</td>\n",
       "      <td>role-playing</td>\n",
       "      <td>79.87</td>\n",
       "      <td>0.325137</td>\n",
       "    </tr>\n",
       "    <tr>\n",
       "      <td>1</td>\n",
       "      <td>action</td>\n",
       "      <td>63.62</td>\n",
       "      <td>0.258986</td>\n",
       "    </tr>\n",
       "    <tr>\n",
       "      <td>2</td>\n",
       "      <td>misc</td>\n",
       "      <td>17.60</td>\n",
       "      <td>0.071647</td>\n",
       "    </tr>\n",
       "    <tr>\n",
       "      <td>3</td>\n",
       "      <td>fighting</td>\n",
       "      <td>12.38</td>\n",
       "      <td>0.050397</td>\n",
       "    </tr>\n",
       "    <tr>\n",
       "      <td>4</td>\n",
       "      <td>platform</td>\n",
       "      <td>12.13</td>\n",
       "      <td>0.049379</td>\n",
       "    </tr>\n",
       "  </tbody>\n",
       "</table>\n",
       "</div>"
      ],
      "text/plain": [
       "          genre  jp_sales     share\n",
       "0  role-playing     79.87  0.325137\n",
       "1        action     63.62  0.258986\n",
       "2          misc     17.60  0.071647\n",
       "3      fighting     12.38  0.050397\n",
       "4      platform     12.13  0.049379"
      ]
     },
     "metadata": {},
     "output_type": "display_data"
    }
   ],
   "source": [
    "na_genre = pd.DataFrame(data=df_actual.groupby('genre')['na_sales'].sum().sort_values(ascending=False).head(5))\n",
    "na_genre.reset_index(inplace=True)\n",
    "na_genre['share'] = na_genre['na_sales'] / df_actual['na_sales'].sum()\n",
    "display(na_genre)\n",
    "eu_genre = pd.DataFrame(data=df_actual.groupby('genre')['eu_sales'].sum().sort_values(ascending=False).head(5))\n",
    "eu_genre.reset_index(inplace=True)\n",
    "eu_genre['share'] = eu_genre['eu_sales'] / df_actual['eu_sales'].sum()\n",
    "display(eu_genre)\n",
    "jp_genre = pd.DataFrame(data=df_actual.groupby('genre')['jp_sales'].sum().sort_values(ascending=False).head(5))\n",
    "jp_genre.reset_index(inplace=True)\n",
    "jp_genre['share'] = jp_genre['jp_sales'] / df_actual['jp_sales'].sum()\n",
    "display(jp_genre)"
   ]
  },
  {
   "cell_type": "markdown",
   "metadata": {},
   "source": [
    "Самые популярные жанры в Северной Америке: action, shooter, sports, role-playing, misc. Игр жанра action (первый в топе) продано в 3 раза больше, чем игр жанра misc (последний в топе). На каждый из популярных жанров в регионе приходится от 8 до 27 процентов всех продаж по региону.\n",
    "\n",
    "Самые популярные жанры в Европе: action, shooter, sports, role-playing, racing. Игр жанра action (первый в топе) продано в 5 раз больше, чем игр жанра racing (последний в топе). На каждый из популярных жанров в регионе приходится от 6% до 29% всех продаж по региону.\n",
    "\n",
    "Самые популярные жанры в Японии: role-playing, action, misc, fighting, platform. Игр жанра role-playing (первый в топе) продано в 7 раз больше, чем игр жанра platform (последний в топе). На каждый из популярных жанров в регионе приходится от 4% до 32% всех продаж по региону. Игры жанра role-playing составляют треть всех проданных игр. \n",
    "    \n",
    "    \n",
    "В Японии среди популярных жанров нет жанров shooter и sports, который есть и в Северной Америке, и в Европе. В Европе в топе есть жанр racing, которого нет ни в Северной Америке, ни в Японии. В Японии в топе есть два жанра, которых нет в других регионах: fighting и platform. Доли продаж игр жанра role-playing в Северной Америке и Европе (10 и 9% соответственно) в три раза меньше, чем в Японии (32%)."
   ]
  },
  {
   "cell_type": "code",
   "execution_count": 102,
   "metadata": {},
   "outputs": [
    {
     "name": "stderr",
     "output_type": "stream",
     "text": [
      "/opt/conda/lib/python3.7/site-packages/pandas/core/indexing.py:494: SettingWithCopyWarning: \n",
      "A value is trying to be set on a copy of a slice from a DataFrame.\n",
      "Try using .loc[row_indexer,col_indexer] = value instead\n",
      "\n",
      "See the caveats in the documentation: http://pandas.pydata.org/pandas-docs/stable/user_guide/indexing.html#returning-a-view-versus-a-copy\n",
      "  self.obj[item] = s\n"
     ]
    }
   ],
   "source": [
    "df_actual.loc[(df_actual['rating'].isna() == True), ['rating']] = 'pass'"
   ]
  },
  {
   "cell_type": "code",
   "execution_count": 103,
   "metadata": {},
   "outputs": [
    {
     "data": {
      "image/png": "[encoded data removed]",
      "text/plain": [
       "<Figure size 432x288 with 1 Axes>"
      ]
     },
     "metadata": {
      "needs_background": "light"
     },
     "output_type": "display_data"
    },
    {
     "data": {
      "image/png": "[encoded data removed]",
      "text/plain": [
       "<Figure size 432x288 with 1 Axes>"
      ]
     },
     "metadata": {
      "needs_background": "light"
     },
     "output_type": "display_data"
    },
    {
     "data": {
      "image/png": "[encoded data removed]",
      "text/plain": [
       "<Figure size 432x288 with 1 Axes>"
      ]
     },
     "metadata": {
      "needs_background": "light"
     },
     "output_type": "display_data"
    }
   ],
   "source": [
    "sns.scatterplot(x='rating', y='na_sales', data=df_actual, size='all_sales').set_title('na')\n",
    "plt.show()\n",
    "sns.scatterplot(x='rating', y='eu_sales', data=df_actual, size='all_sales').set_title('eu')\n",
    "plt.show()\n",
    "sns.scatterplot(x='rating', y='jp_sales', data=df_actual, size='all_sales').set_title('jp')\n",
    "plt.show()"
   ]
  },
  {
   "cell_type": "markdown",
   "metadata": {},
   "source": [
    "Игры с пропущенным возрастным рейтингом на втором месте по продажам в Северной Америке, на третьем в Европе и на первом месте в Японии.\n",
    "    \n",
    "В Японии больше продаж игр с рейтингом Е, чем с рейтингом М, а в Северной Америке и в Европе наборот."
   ]
  },
  {
   "cell_type": "code",
   "execution_count": 104,
   "metadata": {},
   "outputs": [
    {
     "data": {
      "text/plain": [
       "genre\n",
       "role-playing    15.20\n",
       "action           9.68\n",
       "fighting         5.03\n",
       "misc             1.21\n",
       "shooter          1.11\n",
       "simulation       0.59\n",
       "puzzle           0.30\n",
       "racing           0.11\n",
       "adventure        0.09\n",
       "strategy         0.03\n",
       "platform         0.03\n",
       "sports           0.01\n",
       "Name: jp_sales, dtype: float64"
      ]
     },
     "execution_count": 104,
     "metadata": {},
     "output_type": "execute_result"
    }
   ],
   "source": [
    "df_actual.query('rating == \"T\"').groupby('genre')['jp_sales'].sum().sort_values(ascending=False)"
   ]
  },
  {
   "cell_type": "markdown",
   "metadata": {},
   "source": [
    "Распределение продаж по рейтингам сходно для Северной Америке и Европы, но отличается для Японии. В Японии больше продажи игр с рейтингом Т (игры для подростков). Больше всего продано игр с этим рейтингом жанра role-playing."
   ]
  },
  {
   "cell_type": "markdown",
   "metadata": {},
   "source": [
    "# Шаг 5. Проверить гипотезы\n",
    "\n",
    "[x] Средние пользовательские рейтинги платформ Xbox One и PC одинаковые;\n",
    "\n",
    "[x] Средние пользовательские рейтинги жанров Action и Sports разные.\n",
    "\n",
    "[x] Как сформулировали нулевую и альтернативную гипотезы?\n",
    "\n",
    "[x] Какой критерий применили для проверки гипотез и почему?"
   ]
  },
  {
   "cell_type": "code",
   "execution_count": 105,
   "metadata": {},
   "outputs": [],
   "source": [
    "df_score = df_actual.query('user_score.isna() == False')"
   ]
  },
  {
   "cell_type": "code",
   "execution_count": 106,
   "metadata": {},
   "outputs": [],
   "source": [
    "alpha = 0.05"
   ]
  },
  {
   "cell_type": "code",
   "execution_count": 107,
   "metadata": {},
   "outputs": [
    {
     "name": "stdout",
     "output_type": "stream",
     "text": [
      "Отвергаем нулевую гипотезу\n",
      "0.018336332896231867\n"
     ]
    }
   ],
   "source": [
    "stat, p = st.levene(df_score.query('platform == \"xone\"')['user_score'], df_score.query('platform == \"pc\"')['user_score'])\n",
    "if p < alpha:\n",
    "    print('Отвергаем нулевую гипотезу')\n",
    "else:\n",
    "    print('Не получилось отвергнуть нулевую гипотезу')\n",
    "print(p)"
   ]
  },
  {
   "cell_type": "code",
   "execution_count": 108,
   "metadata": {},
   "outputs": [
    {
     "name": "stdout",
     "output_type": "stream",
     "text": [
      "Отвергаем нулевую гипотезу\n",
      "2.0261073712848452e-05\n"
     ]
    }
   ],
   "source": [
    "stat, p = st.levene(df_score.query('genre == \"action\"')['user_score'], df_score.query('genre == \"sports\"')['user_score'])\n",
    "if p < alpha:\n",
    "    print('Отвергаем нулевую гипотезу')\n",
    "else:\n",
    "    print('Не получилось отвергнуть нулевую гипотезу')\n",
    "print(p)"
   ]
  },
  {
   "cell_type": "code",
   "execution_count": 109,
   "metadata": {},
   "outputs": [
    {
     "name": "stdout",
     "output_type": "stream",
     "text": [
      "Не получилось отвергнуть нулевую гипотезу\n",
      "0.6472796468613693\n"
     ]
    }
   ],
   "source": [
    "results = st.ttest_ind(df_score.query('platform == \"xone\"')['user_score'], df_score.query('platform == \"pc\"')['user_score'],  equal_var = False)\n",
    "if results.pvalue < alpha:\n",
    "    print('Отвергаем нулевую гипотезу')\n",
    "else:\n",
    "    print('Не получилось отвергнуть нулевую гипотезу')\n",
    "print(results.pvalue)"
   ]
  },
  {
   "cell_type": "code",
   "execution_count": 110,
   "metadata": {},
   "outputs": [
    {
     "name": "stdout",
     "output_type": "stream",
     "text": [
      "Отвергаем нулевую гипотезу\n",
      "7.005617172462953e-19\n"
     ]
    }
   ],
   "source": [
    "results = st.ttest_ind(df_score.query('genre == \"action\"')['user_score'], df_score.query('genre == \"sports\"')['user_score'],  equal_var = False)\n",
    "if results.pvalue < alpha:\n",
    "    print('Отвергаем нулевую гипотезу')\n",
    "else:\n",
    "    print('Не получилось отвергнуть нулевую гипотезу')\n",
    "print(results.pvalue)"
   ]
  },
  {
   "cell_type": "markdown",
   "metadata": {},
   "source": [
    "Нулева гипотеза - средние равны, альтернативная гипотеза - средние различаются.\n",
    "\n",
    "Я сделала срез, в котором значения оценок пользователей не пропущены, и проанализировала его, чтобы не заменять пропущенные значения.\n",
    "\n",
    "По этому срезу результат такой:\n",
    "- дисперсии различаются,\n",
    "- средние пользовательские рейтинги платформ Xbox One и PC одинаковые,\n",
    "- средние пользовательские рейтинги жанров Action и Sports различаются."
   ]
  },
  {
   "cell_type": "markdown",
   "metadata": {},
   "source": [
    "# Шаг 6. Написать общий вывод"
   ]
  },
  {
   "cell_type": "markdown",
   "metadata": {},
   "source": [
    "## Обработка данных\n",
    "\n",
    "У половины игр отсутствует рейтинг критиков.\n",
    "\n",
    "В данных о продажах есть выбросы (3-й квартиль меньше 1, а максимальное значение - несколько десятков).\n",
    "\n",
    "2424 из 10014 значений (24%) в столбце user_score - это tbd. \n",
    "\n",
    "Жанры пропущенны только в двух строках, в тех же, где пропущены названия названия игр, поэтому эти строки можно удалить.\n",
    "\n",
    "\n",
    "Пропущенные значения в столбцах с рейтингами оставлены без изменений, tbd заменено на NaN.\n",
    "\n",
    "Пропуски могли возникнуть из-за ошибок ввода или проблем с исходными файлами.\n",
    "\n",
    "Тип данных в стобце year_of_release изменён на int. Если изменить год на datetime, появятся лишние данные о дате и времени.\n",
    "\n",
    "## Исследовательский анализ данных\n",
    "\n",
    "Больше всего игр выпускалось в 2006 - 2011 годах. Суммарное количество игр, выпущенных за эти пять лет на 1281 меньше, чем количество игр, выпущенных с 1980 по 2005 и с 2007 по 2016 (34 года).\n",
    "\n",
    "Актуальный период с 2011 по 2016 год. 2011 год - последний, когда продажи были стабильными (начиная с 2006), дальше снова начали расти.\n",
    "   \n",
    "- Лидируют по продажам следующие платформы: ps3, x360, ps4, продажи игр для этих платформ падают;\n",
    "\n",
    "- наименьшие продажи на платформах: ds, psp, ps2;\n",
    "    \n",
    "- продажи на всех платформах падают;\n",
    "    \n",
    "- перспективные платормы: ps4, xone, 3ds.\n",
    "\n",
    "Между продажами и оценками пользователей и критиков нет значимой корреляции.\n",
    "\n",
    "Самые популярные жанры: \n",
    "- action,\n",
    "- role-playing,\n",
    "- adventure,\n",
    "- sports,\n",
    "- misc.\n",
    "    \n",
    "Самые продавамые жанры:\n",
    "- action,\n",
    "- shooter,\n",
    "- role-playing,\n",
    "- sports,\n",
    "- misc.\n",
    "\n",
    "Игр жанра action значительно больше, чем игр других жанров (в три раза больше, чем игр каждого из других популярных жанров).\n",
    "Жанр shooter имеет больше продаж на единицу игры, чем каждый из остальных жанров.\n",
    "\n",
    "\n",
    "## Портрет пользователя каждого региона\n",
    "   \n",
    "- Самые популярные платформы в Северной Америке: x360, ps3, ps4; самые популярные жанры: action, shooter, sports;\n",
    "- самые популярные платформы в Европе: ps3, ps4, x360; самые популярные жанры: action, shooter, sports;\n",
    "- самые популярные платформы в Японии: 3ds, ps3, psp; самые популярные жанры: role-playing, action, misc;\n",
    "\n",
    "Доли продаж игр жанра role-playing в Северной Америке и Европе (10 и 9% соответственно) в три раза меньше, чем в Японии (32%).\n",
    "    \n",
    "Игры с пропущенным возрастным рейтингом на втором месте по продажам в Северной Америке, на третьем в Европе и на первом месте в Японии. В Японии больше продаж игр с рейтингом Е, чем с рейтингом М, а в Северной Америке и в Европе наборот.\n",
    "\n",
    "## Проверка гипотез\n",
    "\n",
    "Нулева гипотеза - средние равны, альтернативная гипотеза - средние различаются.\n",
    "\n",
    "- Средние пользовательские рейтинги платформ Xbox One и PC одинаковые;\n",
    "- средние пользовательские рейтинги жанров Action и Sports различаются.\n",
    "\n",
    "Для проверки гипотез использовался t-тест, метод st.ttest_ind для сравнения средних двух генеральных совокупностей по взятым из них выборкам. Для сравнения дисперсий проведён тест Левене."
   ]
  }
 ],
 "metadata": {
  "ExecuteTimeLog": [
   {
    "duration": 696,
    "start_time": "2021-09-20T15:36:46.395Z"
   },
   {
    "duration": 55,
    "start_time": "2021-09-20T15:36:50.466Z"
   },
   {
    "duration": 31,
    "start_time": "2021-09-20T15:37:04.675Z"
   },
   {
    "duration": 72,
    "start_time": "2021-09-20T15:38:21.228Z"
   },
   {
    "duration": 5,
    "start_time": "2021-09-20T15:50:56.694Z"
   },
   {
    "duration": 3,
    "start_time": "2021-09-20T15:51:30.170Z"
   },
   {
    "duration": 13,
    "start_time": "2021-09-20T15:51:43.378Z"
   },
   {
    "duration": 571,
    "start_time": "2021-09-20T15:52:44.686Z"
   },
   {
    "duration": 12105,
    "start_time": "2021-09-20T15:53:39.317Z"
   },
   {
    "duration": 7,
    "start_time": "2021-09-20T15:55:46.812Z"
   },
   {
    "duration": 106,
    "start_time": "2021-09-20T15:59:57.335Z"
   },
   {
    "duration": 10,
    "start_time": "2021-09-20T16:00:09.107Z"
   },
   {
    "duration": 8,
    "start_time": "2021-09-20T16:00:25.138Z"
   },
   {
    "duration": 392,
    "start_time": "2021-09-20T16:06:22.151Z"
   },
   {
    "duration": 411,
    "start_time": "2021-09-20T16:06:55.171Z"
   },
   {
    "duration": 2257,
    "start_time": "2021-09-20T16:07:29.618Z"
   },
   {
    "duration": 608,
    "start_time": "2021-09-20T16:07:55.851Z"
   },
   {
    "duration": 12,
    "start_time": "2021-09-20T16:08:49.648Z"
   },
   {
    "duration": 2413,
    "start_time": "2021-09-20T16:09:00.753Z"
   },
   {
    "duration": 10,
    "start_time": "2021-09-20T16:09:44.181Z"
   },
   {
    "duration": 23,
    "start_time": "2021-09-20T16:09:56.472Z"
   },
   {
    "duration": 718,
    "start_time": "2021-09-20T16:10:52.681Z"
   },
   {
    "duration": 19,
    "start_time": "2021-09-20T16:11:11.212Z"
   },
   {
    "duration": 8,
    "start_time": "2021-09-20T16:11:45.666Z"
   },
   {
    "duration": 2188,
    "start_time": "2021-09-20T16:12:03.741Z"
   },
   {
    "duration": 2142,
    "start_time": "2021-09-20T16:13:02.502Z"
   },
   {
    "duration": 10,
    "start_time": "2021-09-20T16:13:29.183Z"
   },
   {
    "duration": 17,
    "start_time": "2021-09-20T16:14:01.420Z"
   },
   {
    "duration": 18,
    "start_time": "2021-09-20T16:14:27.391Z"
   },
   {
    "duration": 65,
    "start_time": "2021-09-20T16:16:40.836Z"
   },
   {
    "duration": 7,
    "start_time": "2021-09-20T16:17:09.349Z"
   },
   {
    "duration": 6,
    "start_time": "2021-09-20T16:20:21.418Z"
   },
   {
    "duration": 2,
    "start_time": "2021-09-20T16:21:23.464Z"
   },
   {
    "duration": 43,
    "start_time": "2021-09-20T16:21:23.469Z"
   },
   {
    "duration": 80,
    "start_time": "2021-09-20T16:21:23.514Z"
   },
   {
    "duration": 2,
    "start_time": "2021-09-20T16:21:23.596Z"
   },
   {
    "duration": 8,
    "start_time": "2021-09-20T16:21:23.600Z"
   },
   {
    "duration": 7,
    "start_time": "2021-09-20T16:21:23.610Z"
   },
   {
    "duration": 19,
    "start_time": "2021-09-20T16:21:23.618Z"
   },
   {
    "duration": 84,
    "start_time": "2021-09-20T16:21:23.639Z"
   },
   {
    "duration": 348,
    "start_time": "2021-09-20T16:21:23.725Z"
   },
   {
    "duration": -3284,
    "start_time": "2021-09-20T16:21:27.359Z"
   },
   {
    "duration": 288,
    "start_time": "2021-09-20T16:21:49.841Z"
   },
   {
    "duration": 4,
    "start_time": "2021-09-20T16:22:23.914Z"
   },
   {
    "duration": 2,
    "start_time": "2021-09-20T16:22:32.897Z"
   },
   {
    "duration": 41,
    "start_time": "2021-09-20T16:22:32.903Z"
   },
   {
    "duration": 71,
    "start_time": "2021-09-20T16:22:32.946Z"
   },
   {
    "duration": 3,
    "start_time": "2021-09-20T16:22:33.020Z"
   },
   {
    "duration": 14,
    "start_time": "2021-09-20T16:22:33.025Z"
   },
   {
    "duration": 18,
    "start_time": "2021-09-20T16:22:33.041Z"
   },
   {
    "duration": 35,
    "start_time": "2021-09-20T16:22:33.062Z"
   },
   {
    "duration": 59,
    "start_time": "2021-09-20T16:22:33.099Z"
   },
   {
    "duration": 15,
    "start_time": "2021-09-20T16:22:33.161Z"
   },
   {
    "duration": 17,
    "start_time": "2021-09-20T16:23:32.297Z"
   },
   {
    "duration": 3,
    "start_time": "2021-09-20T16:25:13.901Z"
   },
   {
    "duration": 45,
    "start_time": "2021-09-20T16:25:13.907Z"
   },
   {
    "duration": 64,
    "start_time": "2021-09-20T16:25:13.954Z"
   },
   {
    "duration": 2,
    "start_time": "2021-09-20T16:25:14.021Z"
   },
   {
    "duration": 295,
    "start_time": "2021-09-20T16:25:14.025Z"
   },
   {
    "duration": -3302,
    "start_time": "2021-09-20T16:25:17.624Z"
   },
   {
    "duration": -3306,
    "start_time": "2021-09-20T16:25:17.629Z"
   },
   {
    "duration": -3313,
    "start_time": "2021-09-20T16:25:17.637Z"
   },
   {
    "duration": -3318,
    "start_time": "2021-09-20T16:25:17.643Z"
   },
   {
    "duration": -3326,
    "start_time": "2021-09-20T16:25:17.651Z"
   },
   {
    "duration": 3,
    "start_time": "2021-09-20T16:26:12.116Z"
   },
   {
    "duration": 50,
    "start_time": "2021-09-20T16:26:12.122Z"
   },
   {
    "duration": 79,
    "start_time": "2021-09-20T16:26:12.174Z"
   },
   {
    "duration": 2,
    "start_time": "2021-09-20T16:26:12.255Z"
   },
   {
    "duration": 23,
    "start_time": "2021-09-20T16:26:12.259Z"
   },
   {
    "duration": 20,
    "start_time": "2021-09-20T16:26:12.284Z"
   },
   {
    "duration": 11,
    "start_time": "2021-09-20T16:26:12.306Z"
   },
   {
    "duration": 4,
    "start_time": "2021-09-20T16:26:12.319Z"
   },
   {
    "duration": 17,
    "start_time": "2021-09-20T16:26:12.325Z"
   },
   {
    "duration": 305,
    "start_time": "2021-09-20T16:28:19.369Z"
   },
   {
    "duration": 9,
    "start_time": "2021-09-20T16:28:34.053Z"
   },
   {
    "duration": 426,
    "start_time": "2021-09-20T16:28:45.014Z"
   },
   {
    "duration": 2,
    "start_time": "2021-09-20T16:29:27.525Z"
   },
   {
    "duration": 44,
    "start_time": "2021-09-20T16:29:27.532Z"
   },
   {
    "duration": 68,
    "start_time": "2021-09-20T16:29:27.578Z"
   },
   {
    "duration": 2,
    "start_time": "2021-09-20T16:29:27.648Z"
   },
   {
    "duration": 26,
    "start_time": "2021-09-20T16:29:27.652Z"
   },
   {
    "duration": 17,
    "start_time": "2021-09-20T16:29:27.679Z"
   },
   {
    "duration": 14,
    "start_time": "2021-09-20T16:29:27.698Z"
   },
   {
    "duration": 6,
    "start_time": "2021-09-20T16:29:27.713Z"
   },
   {
    "duration": 24,
    "start_time": "2021-09-20T16:29:27.721Z"
   },
   {
    "duration": 32,
    "start_time": "2021-09-20T16:29:27.747Z"
   },
   {
    "duration": 10,
    "start_time": "2021-09-20T16:29:27.780Z"
   },
   {
    "duration": 13,
    "start_time": "2021-09-20T16:33:52.375Z"
   },
   {
    "duration": 26,
    "start_time": "2021-09-20T16:34:38.986Z"
   },
   {
    "duration": 12,
    "start_time": "2021-09-20T16:34:49.617Z"
   },
   {
    "duration": 20,
    "start_time": "2021-09-20T16:35:12.964Z"
   },
   {
    "duration": 33,
    "start_time": "2021-09-20T16:36:10.355Z"
   },
   {
    "duration": 18,
    "start_time": "2021-09-20T16:36:19.800Z"
   },
   {
    "duration": 18,
    "start_time": "2021-09-20T16:36:26.720Z"
   },
   {
    "duration": 18,
    "start_time": "2021-09-20T16:36:29.748Z"
   },
   {
    "duration": 11,
    "start_time": "2021-09-20T16:36:34.371Z"
   },
   {
    "duration": 3,
    "start_time": "2021-09-20T16:36:50.374Z"
   },
   {
    "duration": 43,
    "start_time": "2021-09-20T16:36:50.379Z"
   },
   {
    "duration": 88,
    "start_time": "2021-09-20T16:36:50.425Z"
   },
   {
    "duration": 4,
    "start_time": "2021-09-20T16:36:50.515Z"
   },
   {
    "duration": 40,
    "start_time": "2021-09-20T16:36:50.521Z"
   },
   {
    "duration": 20,
    "start_time": "2021-09-20T16:36:50.563Z"
   },
   {
    "duration": 13,
    "start_time": "2021-09-20T16:36:50.586Z"
   },
   {
    "duration": 6,
    "start_time": "2021-09-20T16:36:50.601Z"
   },
   {
    "duration": 21,
    "start_time": "2021-09-20T16:36:50.609Z"
   },
   {
    "duration": 11,
    "start_time": "2021-09-20T16:36:50.633Z"
   },
   {
    "duration": 48,
    "start_time": "2021-09-20T16:36:50.646Z"
   },
   {
    "duration": 18,
    "start_time": "2021-09-20T16:36:50.696Z"
   },
   {
    "duration": 18,
    "start_time": "2021-09-20T16:36:50.715Z"
   },
   {
    "duration": 10,
    "start_time": "2021-09-20T16:36:50.734Z"
   },
   {
    "duration": 6,
    "start_time": "2021-09-20T16:38:12.626Z"
   },
   {
    "duration": 13,
    "start_time": "2021-09-20T16:38:31.025Z"
   },
   {
    "duration": 2,
    "start_time": "2021-09-20T16:39:10.011Z"
   },
   {
    "duration": 50,
    "start_time": "2021-09-20T16:39:10.016Z"
   },
   {
    "duration": 67,
    "start_time": "2021-09-20T16:39:10.068Z"
   },
   {
    "duration": 3,
    "start_time": "2021-09-20T16:39:10.137Z"
   },
   {
    "duration": 9,
    "start_time": "2021-09-20T16:39:10.142Z"
   },
   {
    "duration": 39,
    "start_time": "2021-09-20T16:39:10.153Z"
   },
   {
    "duration": 2,
    "start_time": "2021-09-20T16:39:10.193Z"
   },
   {
    "duration": 382,
    "start_time": "2021-09-20T16:39:10.197Z"
   },
   {
    "duration": -3298,
    "start_time": "2021-09-20T16:39:13.879Z"
   },
   {
    "duration": -3305,
    "start_time": "2021-09-20T16:39:13.887Z"
   },
   {
    "duration": -3308,
    "start_time": "2021-09-20T16:39:13.891Z"
   },
   {
    "duration": -3314,
    "start_time": "2021-09-20T16:39:13.898Z"
   },
   {
    "duration": -3321,
    "start_time": "2021-09-20T16:39:13.906Z"
   },
   {
    "duration": -3327,
    "start_time": "2021-09-20T16:39:13.912Z"
   },
   {
    "duration": -3331,
    "start_time": "2021-09-20T16:39:13.917Z"
   },
   {
    "duration": 8,
    "start_time": "2021-09-20T16:40:40.385Z"
   },
   {
    "duration": 8,
    "start_time": "2021-09-20T16:41:03.805Z"
   },
   {
    "duration": 6,
    "start_time": "2021-09-20T16:43:42.960Z"
   },
   {
    "duration": 4,
    "start_time": "2021-09-20T16:43:54.125Z"
   },
   {
    "duration": 15,
    "start_time": "2021-09-20T16:43:56.016Z"
   },
   {
    "duration": 9,
    "start_time": "2021-09-20T16:44:00.970Z"
   },
   {
    "duration": 21,
    "start_time": "2021-09-20T16:44:02.361Z"
   },
   {
    "duration": 16,
    "start_time": "2021-09-20T16:44:03.313Z"
   },
   {
    "duration": 18,
    "start_time": "2021-09-20T16:44:04.685Z"
   },
   {
    "duration": 10,
    "start_time": "2021-09-20T16:44:06.560Z"
   },
   {
    "duration": 6,
    "start_time": "2021-09-20T17:30:36.624Z"
   },
   {
    "duration": 10,
    "start_time": "2021-09-20T17:30:37.945Z"
   },
   {
    "duration": 7,
    "start_time": "2021-09-20T17:32:49.642Z"
   },
   {
    "duration": 10,
    "start_time": "2021-09-20T17:32:52.033Z"
   },
   {
    "duration": 4,
    "start_time": "2021-09-20T17:35:22.016Z"
   },
   {
    "duration": 10,
    "start_time": "2021-09-20T17:35:24.312Z"
   },
   {
    "duration": 5,
    "start_time": "2021-09-20T17:47:51.216Z"
   },
   {
    "duration": 10,
    "start_time": "2021-09-20T17:47:51.940Z"
   },
   {
    "duration": 16,
    "start_time": "2021-09-20T17:48:05.283Z"
   },
   {
    "duration": 6,
    "start_time": "2021-09-20T17:49:22.847Z"
   },
   {
    "duration": 8,
    "start_time": "2021-09-20T17:54:13.269Z"
   },
   {
    "duration": 91,
    "start_time": "2021-09-20T17:55:46.097Z"
   },
   {
    "duration": 8,
    "start_time": "2021-09-20T17:56:25.840Z"
   },
   {
    "duration": 22,
    "start_time": "2021-09-20T18:00:10.100Z"
   },
   {
    "duration": 550,
    "start_time": "2021-09-20T18:00:26.949Z"
   },
   {
    "duration": 105,
    "start_time": "2021-09-20T18:01:17.557Z"
   },
   {
    "duration": 118,
    "start_time": "2021-09-20T18:01:28.340Z"
   },
   {
    "duration": 304,
    "start_time": "2021-09-20T18:01:45.545Z"
   },
   {
    "duration": 114,
    "start_time": "2021-09-20T18:03:39.498Z"
   },
   {
    "duration": 106,
    "start_time": "2021-09-20T18:03:53.777Z"
   },
   {
    "duration": 24,
    "start_time": "2021-09-20T18:04:16.620Z"
   },
   {
    "duration": 11,
    "start_time": "2021-09-20T18:04:33.440Z"
   },
   {
    "duration": 22,
    "start_time": "2021-09-20T18:05:21.487Z"
   },
   {
    "duration": 14,
    "start_time": "2021-09-20T18:10:00.876Z"
   },
   {
    "duration": 272,
    "start_time": "2021-09-20T18:10:23.771Z"
   },
   {
    "duration": 3,
    "start_time": "2021-09-20T18:11:03.541Z"
   },
   {
    "duration": 344,
    "start_time": "2021-09-20T18:11:11.830Z"
   },
   {
    "duration": 11,
    "start_time": "2021-09-20T18:11:21.207Z"
   },
   {
    "duration": 9,
    "start_time": "2021-09-20T18:12:13.494Z"
   },
   {
    "duration": 8,
    "start_time": "2021-09-20T18:14:11.438Z"
   },
   {
    "duration": 12,
    "start_time": "2021-09-20T18:15:05.388Z"
   },
   {
    "duration": 280,
    "start_time": "2021-09-20T18:19:41.073Z"
   },
   {
    "duration": 333,
    "start_time": "2021-09-20T18:19:49.326Z"
   },
   {
    "duration": 34,
    "start_time": "2021-09-20T18:20:37.571Z"
   },
   {
    "duration": 55,
    "start_time": "2021-09-20T18:20:53.006Z"
   },
   {
    "duration": 54,
    "start_time": "2021-09-20T18:21:27.046Z"
   },
   {
    "duration": 323,
    "start_time": "2021-09-20T18:22:23.640Z"
   },
   {
    "duration": 468,
    "start_time": "2021-09-20T18:22:34.778Z"
   },
   {
    "duration": 2,
    "start_time": "2021-09-20T18:24:06.819Z"
   },
   {
    "duration": 1103,
    "start_time": "2021-09-20T18:24:14.623Z"
   },
   {
    "duration": 182,
    "start_time": "2021-09-20T18:24:59.096Z"
   },
   {
    "duration": 302,
    "start_time": "2021-09-20T18:25:20.576Z"
   },
   {
    "duration": 10,
    "start_time": "2021-09-20T18:25:47.488Z"
   },
   {
    "duration": 31,
    "start_time": "2021-09-20T18:25:56.569Z"
   },
   {
    "duration": 55,
    "start_time": "2021-09-20T18:26:10.439Z"
   },
   {
    "duration": 305,
    "start_time": "2021-09-20T18:26:42.073Z"
   },
   {
    "duration": 293,
    "start_time": "2021-09-20T18:27:07.795Z"
   },
   {
    "duration": 40,
    "start_time": "2021-09-20T18:27:31.642Z"
   },
   {
    "duration": 42,
    "start_time": "2021-09-20T18:27:57.584Z"
   },
   {
    "duration": 1077,
    "start_time": "2021-09-20T18:29:18.848Z"
   },
   {
    "duration": 1173,
    "start_time": "2021-09-20T18:29:45.277Z"
   },
   {
    "duration": 1157,
    "start_time": "2021-09-20T18:30:07.021Z"
   },
   {
    "duration": 293,
    "start_time": "2021-09-20T18:31:50.383Z"
   },
   {
    "duration": 285,
    "start_time": "2021-09-20T18:32:14.120Z"
   },
   {
    "duration": 265,
    "start_time": "2021-09-20T18:32:22.072Z"
   },
   {
    "duration": 424,
    "start_time": "2021-09-20T18:32:28.705Z"
   },
   {
    "duration": 312,
    "start_time": "2021-09-20T18:32:50.104Z"
   },
   {
    "duration": 835,
    "start_time": "2021-09-20T18:33:05.271Z"
   },
   {
    "duration": 313,
    "start_time": "2021-09-20T18:33:49.601Z"
   },
   {
    "duration": 1074,
    "start_time": "2021-09-20T18:33:55.309Z"
   },
   {
    "duration": 1222,
    "start_time": "2021-09-20T18:34:07.372Z"
   },
   {
    "duration": 343,
    "start_time": "2021-09-20T18:40:15.068Z"
   },
   {
    "duration": 1070,
    "start_time": "2021-09-20T18:40:49.141Z"
   },
   {
    "duration": 327,
    "start_time": "2021-09-20T18:45:35.288Z"
   },
   {
    "duration": 10935,
    "start_time": "2021-09-20T18:45:54.635Z"
   },
   {
    "duration": 2241,
    "start_time": "2021-09-20T18:47:14.435Z"
   },
   {
    "duration": 2772,
    "start_time": "2021-09-20T18:49:11.926Z"
   },
   {
    "duration": 2691,
    "start_time": "2021-09-20T18:50:00.187Z"
   },
   {
    "duration": 2442,
    "start_time": "2021-09-20T18:50:21.518Z"
   },
   {
    "duration": 2629,
    "start_time": "2021-09-20T18:50:37.498Z"
   },
   {
    "duration": 2171,
    "start_time": "2021-09-20T18:53:28.749Z"
   },
   {
    "duration": 318,
    "start_time": "2021-09-20T18:54:18.249Z"
   },
   {
    "duration": 3061,
    "start_time": "2021-09-20T18:55:55.118Z"
   },
   {
    "duration": 1372,
    "start_time": "2021-09-20T18:56:15.152Z"
   },
   {
    "duration": 531,
    "start_time": "2021-09-20T18:56:35.810Z"
   },
   {
    "duration": 779,
    "start_time": "2021-09-20T18:57:00.252Z"
   },
   {
    "duration": 741,
    "start_time": "2021-09-20T18:58:08.116Z"
   },
   {
    "duration": 513,
    "start_time": "2021-09-20T18:58:45.025Z"
   },
   {
    "duration": 281,
    "start_time": "2021-09-20T18:59:32.995Z"
   },
   {
    "duration": 2,
    "start_time": "2021-09-20T18:59:55.635Z"
   },
   {
    "duration": 507,
    "start_time": "2021-09-20T19:00:01.904Z"
   },
   {
    "duration": 3,
    "start_time": "2021-09-20T19:01:14.843Z"
   },
   {
    "duration": 484,
    "start_time": "2021-09-20T19:01:27.839Z"
   },
   {
    "duration": 511,
    "start_time": "2021-09-20T19:04:30.320Z"
   },
   {
    "duration": 713,
    "start_time": "2021-09-20T19:09:58.050Z"
   },
   {
    "duration": 1542,
    "start_time": "2021-09-20T19:10:11.567Z"
   },
   {
    "duration": 2979,
    "start_time": "2021-09-20T19:10:16.428Z"
   },
   {
    "duration": 1648,
    "start_time": "2021-09-20T19:11:40.048Z"
   },
   {
    "duration": 2005,
    "start_time": "2021-09-20T19:12:02.176Z"
   },
   {
    "duration": 1626,
    "start_time": "2021-09-20T19:13:15.775Z"
   },
   {
    "duration": 1515,
    "start_time": "2021-09-20T19:14:29.453Z"
   },
   {
    "duration": 2055,
    "start_time": "2021-09-20T19:15:16.399Z"
   },
   {
    "duration": 2106,
    "start_time": "2021-09-20T19:15:42.203Z"
   },
   {
    "duration": 2,
    "start_time": "2021-09-20T19:16:04.993Z"
   },
   {
    "duration": 38,
    "start_time": "2021-09-20T19:16:05.000Z"
   },
   {
    "duration": 67,
    "start_time": "2021-09-20T19:16:05.040Z"
   },
   {
    "duration": 8395,
    "start_time": "2021-09-20T19:16:05.110Z"
   },
   {
    "duration": -3276,
    "start_time": "2021-09-20T19:16:16.784Z"
   },
   {
    "duration": -3290,
    "start_time": "2021-09-20T19:16:16.800Z"
   },
   {
    "duration": -3298,
    "start_time": "2021-09-20T19:16:16.809Z"
   },
   {
    "duration": -3321,
    "start_time": "2021-09-20T19:16:16.833Z"
   },
   {
    "duration": -3326,
    "start_time": "2021-09-20T19:16:16.839Z"
   },
   {
    "duration": -3331,
    "start_time": "2021-09-20T19:16:16.846Z"
   },
   {
    "duration": -3343,
    "start_time": "2021-09-20T19:16:16.859Z"
   },
   {
    "duration": -3350,
    "start_time": "2021-09-20T19:16:16.867Z"
   },
   {
    "duration": -3360,
    "start_time": "2021-09-20T19:16:16.879Z"
   },
   {
    "duration": -3392,
    "start_time": "2021-09-20T19:16:16.912Z"
   },
   {
    "duration": -3406,
    "start_time": "2021-09-20T19:16:16.928Z"
   },
   {
    "duration": -3421,
    "start_time": "2021-09-20T19:16:16.944Z"
   },
   {
    "duration": -3426,
    "start_time": "2021-09-20T19:16:16.950Z"
   },
   {
    "duration": -3437,
    "start_time": "2021-09-20T19:16:16.963Z"
   },
   {
    "duration": -3449,
    "start_time": "2021-09-20T19:16:16.976Z"
   },
   {
    "duration": 3,
    "start_time": "2021-09-20T19:16:40.857Z"
   },
   {
    "duration": 9,
    "start_time": "2021-09-20T19:16:42.668Z"
   },
   {
    "duration": 21,
    "start_time": "2021-09-20T19:16:50.975Z"
   },
   {
    "duration": 9,
    "start_time": "2021-09-20T19:16:57.134Z"
   },
   {
    "duration": 5,
    "start_time": "2021-09-20T19:17:05.436Z"
   },
   {
    "duration": 13,
    "start_time": "2021-09-20T19:17:06.419Z"
   },
   {
    "duration": 8,
    "start_time": "2021-09-20T19:17:08.274Z"
   },
   {
    "duration": 19,
    "start_time": "2021-09-20T19:17:09.106Z"
   },
   {
    "duration": 16,
    "start_time": "2021-09-20T19:17:09.836Z"
   },
   {
    "duration": 7,
    "start_time": "2021-09-20T19:17:10.722Z"
   },
   {
    "duration": 5,
    "start_time": "2021-09-20T19:17:12.439Z"
   },
   {
    "duration": 6,
    "start_time": "2021-09-20T19:17:13.798Z"
   },
   {
    "duration": 7,
    "start_time": "2021-09-20T19:17:15.536Z"
   },
   {
    "duration": 26,
    "start_time": "2021-09-20T19:17:16.740Z"
   },
   {
    "duration": 9,
    "start_time": "2021-09-20T19:17:18.627Z"
   },
   {
    "duration": 2109,
    "start_time": "2021-09-20T19:17:19.467Z"
   },
   {
    "duration": 1777,
    "start_time": "2021-09-20T19:21:04.499Z"
   },
   {
    "duration": 1527,
    "start_time": "2021-09-20T19:23:04.102Z"
   },
   {
    "duration": 2218,
    "start_time": "2021-09-20T19:24:27.955Z"
   },
   {
    "duration": 103,
    "start_time": "2021-09-20T19:25:42.357Z"
   },
   {
    "duration": 1642,
    "start_time": "2021-09-20T19:25:51.930Z"
   },
   {
    "duration": 1786,
    "start_time": "2021-09-20T19:26:11.833Z"
   },
   {
    "duration": 2020,
    "start_time": "2021-09-20T19:26:55.980Z"
   },
   {
    "duration": 2120,
    "start_time": "2021-09-20T19:28:13.182Z"
   },
   {
    "duration": 1806,
    "start_time": "2021-09-20T19:31:26.255Z"
   },
   {
    "duration": 1570,
    "start_time": "2021-09-20T19:33:03.002Z"
   },
   {
    "duration": 1509,
    "start_time": "2021-09-20T19:33:50.386Z"
   },
   {
    "duration": 2595,
    "start_time": "2021-09-20T19:34:13.247Z"
   },
   {
    "duration": 4,
    "start_time": "2021-09-20T19:34:30.073Z"
   },
   {
    "duration": 52,
    "start_time": "2021-09-20T19:34:30.079Z"
   },
   {
    "duration": 119,
    "start_time": "2021-09-20T19:34:30.133Z"
   },
   {
    "duration": 23,
    "start_time": "2021-09-20T19:34:30.253Z"
   },
   {
    "duration": 8,
    "start_time": "2021-09-20T19:34:30.278Z"
   },
   {
    "duration": 22,
    "start_time": "2021-09-20T19:34:30.287Z"
   },
   {
    "duration": 385,
    "start_time": "2021-09-20T19:34:30.312Z"
   },
   {
    "duration": 13,
    "start_time": "2021-09-20T19:34:30.699Z"
   },
   {
    "duration": 28,
    "start_time": "2021-09-20T19:34:30.713Z"
   },
   {
    "duration": 8,
    "start_time": "2021-09-20T19:34:30.742Z"
   },
   {
    "duration": 28,
    "start_time": "2021-09-20T19:34:30.751Z"
   },
   {
    "duration": 24,
    "start_time": "2021-09-20T19:34:30.781Z"
   },
   {
    "duration": 10,
    "start_time": "2021-09-20T19:34:30.807Z"
   },
   {
    "duration": 7,
    "start_time": "2021-09-20T19:34:30.819Z"
   },
   {
    "duration": 17,
    "start_time": "2021-09-20T19:34:30.828Z"
   },
   {
    "duration": 18,
    "start_time": "2021-09-20T19:34:30.847Z"
   },
   {
    "duration": 30,
    "start_time": "2021-09-20T19:34:30.867Z"
   },
   {
    "duration": 8,
    "start_time": "2021-09-20T19:34:30.899Z"
   },
   {
    "duration": 2295,
    "start_time": "2021-09-20T19:34:30.910Z"
   },
   {
    "duration": 1468,
    "start_time": "2021-09-20T19:35:17.678Z"
   },
   {
    "duration": 6,
    "start_time": "2021-09-20T19:41:08.405Z"
   },
   {
    "duration": 344,
    "start_time": "2021-09-20T19:42:53.570Z"
   },
   {
    "duration": 8,
    "start_time": "2021-09-20T19:43:00.362Z"
   },
   {
    "duration": 3376,
    "start_time": "2021-09-20T19:45:12.194Z"
   },
   {
    "duration": 2863,
    "start_time": "2021-09-20T19:46:10.286Z"
   },
   {
    "duration": 2697,
    "start_time": "2021-09-20T19:46:27.796Z"
   },
   {
    "duration": 89,
    "start_time": "2021-09-20T19:47:21.801Z"
   },
   {
    "duration": 341,
    "start_time": "2021-09-20T19:47:28.849Z"
   },
   {
    "duration": 106,
    "start_time": "2021-09-20T19:47:39.376Z"
   },
   {
    "duration": 102,
    "start_time": "2021-09-20T19:47:56.901Z"
   },
   {
    "duration": 4127,
    "start_time": "2021-09-20T19:48:17.140Z"
   },
   {
    "duration": 3332,
    "start_time": "2021-09-20T19:48:33.569Z"
   },
   {
    "duration": 3331,
    "start_time": "2021-09-20T19:48:58.569Z"
   },
   {
    "duration": 3762,
    "start_time": "2021-09-20T19:49:11.285Z"
   },
   {
    "duration": 3710,
    "start_time": "2021-09-20T19:49:49.696Z"
   },
   {
    "duration": 325,
    "start_time": "2021-09-21T16:39:23.436Z"
   },
   {
    "duration": 1151,
    "start_time": "2021-09-21T16:39:27.690Z"
   },
   {
    "duration": 39,
    "start_time": "2021-09-21T16:39:28.843Z"
   },
   {
    "duration": 71,
    "start_time": "2021-09-21T16:39:28.884Z"
   },
   {
    "duration": 3,
    "start_time": "2021-09-21T16:39:28.956Z"
   },
   {
    "duration": 8,
    "start_time": "2021-09-21T16:39:28.977Z"
   },
   {
    "duration": 16,
    "start_time": "2021-09-21T16:39:28.986Z"
   },
   {
    "duration": 8,
    "start_time": "2021-09-21T16:39:29.004Z"
   },
   {
    "duration": 5,
    "start_time": "2021-09-21T16:39:29.014Z"
   },
   {
    "duration": 13,
    "start_time": "2021-09-21T16:39:29.021Z"
   },
   {
    "duration": 7,
    "start_time": "2021-09-21T16:39:29.036Z"
   },
   {
    "duration": 51,
    "start_time": "2021-09-21T16:39:29.044Z"
   },
   {
    "duration": 16,
    "start_time": "2021-09-21T16:39:29.097Z"
   },
   {
    "duration": 7,
    "start_time": "2021-09-21T16:39:29.114Z"
   },
   {
    "duration": 3,
    "start_time": "2021-09-21T16:39:29.123Z"
   },
   {
    "duration": 6,
    "start_time": "2021-09-21T16:39:29.128Z"
   },
   {
    "duration": 5,
    "start_time": "2021-09-21T16:39:29.136Z"
   },
   {
    "duration": 58,
    "start_time": "2021-09-21T16:39:29.143Z"
   },
   {
    "duration": 7,
    "start_time": "2021-09-21T16:39:29.202Z"
   },
   {
    "duration": 1086,
    "start_time": "2021-09-21T16:39:29.211Z"
   },
   {
    "duration": 7,
    "start_time": "2021-09-21T16:39:30.298Z"
   },
   {
    "duration": 3657,
    "start_time": "2021-09-21T16:39:30.306Z"
   },
   {
    "duration": 12,
    "start_time": "2021-09-21T16:39:33.965Z"
   },
   {
    "duration": -4288,
    "start_time": "2021-09-21T17:07:47.594Z"
   },
   {
    "duration": 3,
    "start_time": "2021-09-21T17:07:46.130Z"
   },
   {
    "duration": 3,
    "start_time": "2021-09-21T17:08:05.936Z"
   },
   {
    "duration": 43,
    "start_time": "2021-09-21T17:08:05.941Z"
   },
   {
    "duration": 93,
    "start_time": "2021-09-21T17:08:05.986Z"
   },
   {
    "duration": 3,
    "start_time": "2021-09-21T17:08:06.081Z"
   },
   {
    "duration": 21,
    "start_time": "2021-09-21T17:08:06.086Z"
   },
   {
    "duration": 28,
    "start_time": "2021-09-21T17:08:06.109Z"
   },
   {
    "duration": 7,
    "start_time": "2021-09-21T17:08:06.140Z"
   },
   {
    "duration": 19,
    "start_time": "2021-09-21T17:08:06.149Z"
   },
   {
    "duration": 20,
    "start_time": "2021-09-21T17:08:06.169Z"
   },
   {
    "duration": 8,
    "start_time": "2021-09-21T17:08:06.192Z"
   },
   {
    "duration": 24,
    "start_time": "2021-09-21T17:08:06.202Z"
   },
   {
    "duration": 16,
    "start_time": "2021-09-21T17:08:06.228Z"
   },
   {
    "duration": 31,
    "start_time": "2021-09-21T17:08:06.246Z"
   },
   {
    "duration": 5,
    "start_time": "2021-09-21T17:08:06.278Z"
   },
   {
    "duration": 24,
    "start_time": "2021-09-21T17:08:06.285Z"
   },
   {
    "duration": 26,
    "start_time": "2021-09-21T17:08:06.311Z"
   },
   {
    "duration": 40,
    "start_time": "2021-09-21T17:08:06.338Z"
   },
   {
    "duration": 12,
    "start_time": "2021-09-21T17:08:06.379Z"
   },
   {
    "duration": 1115,
    "start_time": "2021-09-21T17:08:06.394Z"
   },
   {
    "duration": 6,
    "start_time": "2021-09-21T17:08:07.511Z"
   },
   {
    "duration": 4003,
    "start_time": "2021-09-21T17:08:07.519Z"
   },
   {
    "duration": 11,
    "start_time": "2021-09-21T17:08:11.524Z"
   },
   {
    "duration": 354,
    "start_time": "2021-09-21T17:08:11.538Z"
   },
   {
    "duration": 464,
    "start_time": "2021-09-21T17:09:26.416Z"
   },
   {
    "duration": 6,
    "start_time": "2021-09-21T17:11:24.410Z"
   },
   {
    "duration": 308,
    "start_time": "2021-09-21T17:11:56.953Z"
   },
   {
    "duration": 25,
    "start_time": "2021-09-21T17:12:07.960Z"
   },
   {
    "duration": 492,
    "start_time": "2021-09-21T17:12:53.100Z"
   },
   {
    "duration": 465,
    "start_time": "2021-09-21T17:14:41.629Z"
   },
   {
    "duration": 681,
    "start_time": "2021-09-21T17:16:09.439Z"
   },
   {
    "duration": 632,
    "start_time": "2021-09-21T17:16:42.583Z"
   },
   {
    "duration": 734,
    "start_time": "2021-09-21T17:17:03.245Z"
   },
   {
    "duration": 295,
    "start_time": "2021-09-21T17:17:32.997Z"
   },
   {
    "duration": 1761,
    "start_time": "2021-09-21T17:21:53.556Z"
   },
   {
    "duration": 13,
    "start_time": "2021-09-21T17:22:45.208Z"
   },
   {
    "duration": 726,
    "start_time": "2021-09-21T17:25:24.498Z"
   },
   {
    "duration": 1369,
    "start_time": "2021-09-21T17:25:39.718Z"
   },
   {
    "duration": 114,
    "start_time": "2021-09-21T17:31:28.386Z"
   },
   {
    "duration": 281,
    "start_time": "2021-09-21T17:31:41.255Z"
   },
   {
    "duration": 312,
    "start_time": "2021-09-21T17:31:53.122Z"
   },
   {
    "duration": 8,
    "start_time": "2021-09-21T17:32:32.369Z"
   },
   {
    "duration": 390,
    "start_time": "2021-09-21T17:33:19.466Z"
   },
   {
    "duration": 5,
    "start_time": "2021-09-21T17:35:02.260Z"
   },
   {
    "duration": 7,
    "start_time": "2021-09-21T17:35:10.640Z"
   },
   {
    "duration": 7,
    "start_time": "2021-09-21T17:36:43.311Z"
   },
   {
    "duration": 10,
    "start_time": "2021-09-21T17:37:29.341Z"
   },
   {
    "duration": 3126,
    "start_time": "2021-09-21T17:37:58.526Z"
   },
   {
    "duration": 28,
    "start_time": "2021-09-21T17:39:40.453Z"
   },
   {
    "duration": 10,
    "start_time": "2021-09-21T17:40:33.902Z"
   },
   {
    "duration": 140,
    "start_time": "2021-09-21T17:40:54.063Z"
   },
   {
    "duration": 2810,
    "start_time": "2021-09-21T17:41:25.769Z"
   },
   {
    "duration": 2431,
    "start_time": "2021-09-21T17:42:04.296Z"
   },
   {
    "duration": 3294,
    "start_time": "2021-09-21T17:42:24.850Z"
   },
   {
    "duration": -4351,
    "start_time": "2021-09-21T17:44:04.944Z"
   },
   {
    "duration": 3208,
    "start_time": "2021-09-21T17:44:04.433Z"
   },
   {
    "duration": 8284,
    "start_time": "2021-09-21T17:59:16.002Z"
   },
   {
    "duration": 7909,
    "start_time": "2021-09-21T17:59:33.961Z"
   },
   {
    "duration": 8557,
    "start_time": "2021-09-21T17:59:55.127Z"
   },
   {
    "duration": 6,
    "start_time": "2021-09-21T18:00:13.751Z"
   },
   {
    "duration": 3121,
    "start_time": "2021-09-21T18:00:28.847Z"
   },
   {
    "duration": 3069,
    "start_time": "2021-09-21T18:00:55.099Z"
   },
   {
    "duration": 309,
    "start_time": "2021-09-21T18:01:45.768Z"
   },
   {
    "duration": 464,
    "start_time": "2021-09-21T18:02:25.285Z"
   },
   {
    "duration": 638,
    "start_time": "2021-09-21T18:03:22.524Z"
   },
   {
    "duration": 647,
    "start_time": "2021-09-21T18:03:53.773Z"
   },
   {
    "duration": 2057,
    "start_time": "2021-09-21T18:07:47.962Z"
   },
   {
    "duration": 2171,
    "start_time": "2021-09-21T18:08:35.262Z"
   },
   {
    "duration": 535,
    "start_time": "2021-09-21T18:08:47.571Z"
   },
   {
    "duration": 733,
    "start_time": "2021-09-21T18:11:37.251Z"
   },
   {
    "duration": 28570,
    "start_time": "2021-09-21T18:14:36.798Z"
   },
   {
    "duration": 87826,
    "start_time": "2021-09-21T18:15:19.212Z"
   },
   {
    "duration": 113900,
    "start_time": "2021-09-21T18:16:55.189Z"
   },
   {
    "duration": -4421,
    "start_time": "2021-09-21T18:18:53.512Z"
   },
   {
    "duration": 294,
    "start_time": "2021-09-21T18:18:56.397Z"
   },
   {
    "duration": 6,
    "start_time": "2021-09-21T18:19:40.053Z"
   },
   {
    "duration": 481,
    "start_time": "2021-09-21T18:20:46.467Z"
   },
   {
    "duration": 157853,
    "start_time": "2021-09-21T18:21:01.630Z"
   },
   {
    "duration": 269,
    "start_time": "2021-09-21T18:23:41.545Z"
   },
   {
    "duration": 34,
    "start_time": "2021-09-21T18:24:15.538Z"
   },
   {
    "duration": 58,
    "start_time": "2021-09-21T18:24:27.809Z"
   },
   {
    "duration": 49,
    "start_time": "2021-09-21T18:24:55.124Z"
   },
   {
    "duration": 24,
    "start_time": "2021-09-21T18:26:14.211Z"
   },
   {
    "duration": 8416,
    "start_time": "2021-09-21T18:27:20.868Z"
   },
   {
    "duration": 4317,
    "start_time": "2021-09-21T18:28:39.514Z"
   },
   {
    "duration": 325,
    "start_time": "2021-09-21T18:29:00.901Z"
   },
   {
    "duration": 1152,
    "start_time": "2021-09-21T18:29:59.983Z"
   },
   {
    "duration": 1704,
    "start_time": "2021-09-21T18:30:42.677Z"
   },
   {
    "duration": 274,
    "start_time": "2021-09-21T18:34:08.529Z"
   },
   {
    "duration": 218,
    "start_time": "2021-09-21T18:34:19.081Z"
   },
   {
    "duration": 386,
    "start_time": "2021-09-21T18:35:12.871Z"
   },
   {
    "duration": 317,
    "start_time": "2021-09-21T18:36:03.542Z"
   },
   {
    "duration": 570,
    "start_time": "2021-09-21T18:37:17.918Z"
   },
   {
    "duration": 873,
    "start_time": "2021-09-21T18:38:10.814Z"
   },
   {
    "duration": 1184,
    "start_time": "2021-09-21T18:41:34.092Z"
   },
   {
    "duration": 1066,
    "start_time": "2021-09-21T18:42:04.552Z"
   },
   {
    "duration": 108,
    "start_time": "2021-09-21T18:44:30.104Z"
   },
   {
    "duration": 775,
    "start_time": "2021-09-21T18:45:12.901Z"
   },
   {
    "duration": 1414,
    "start_time": "2021-09-21T18:47:11.903Z"
   },
   {
    "duration": 7,
    "start_time": "2021-09-21T18:48:18.946Z"
   },
   {
    "duration": 11,
    "start_time": "2021-09-21T18:49:24.415Z"
   },
   {
    "duration": 8,
    "start_time": "2021-09-21T18:52:25.059Z"
   },
   {
    "duration": 7,
    "start_time": "2021-09-21T18:52:50.868Z"
   },
   {
    "duration": 7,
    "start_time": "2021-09-21T18:55:22.904Z"
   },
   {
    "duration": 5091,
    "start_time": "2021-09-21T19:09:31.697Z"
   },
   {
    "duration": 5045,
    "start_time": "2021-09-21T19:10:15.831Z"
   },
   {
    "duration": 819,
    "start_time": "2021-09-21T19:10:38.948Z"
   },
   {
    "duration": 5940,
    "start_time": "2021-09-21T19:11:07.061Z"
   },
   {
    "duration": 3767,
    "start_time": "2021-09-21T19:11:46.100Z"
   },
   {
    "duration": 818,
    "start_time": "2021-09-21T19:12:20.896Z"
   },
   {
    "duration": 1325,
    "start_time": "2021-09-21T19:14:00.842Z"
   },
   {
    "duration": 191,
    "start_time": "2021-09-21T19:14:16.732Z"
   },
   {
    "duration": 296,
    "start_time": "2021-09-22T16:27:04.823Z"
   },
   {
    "duration": 1183,
    "start_time": "2021-09-22T16:27:10.632Z"
   },
   {
    "duration": 42,
    "start_time": "2021-09-22T16:27:11.817Z"
   },
   {
    "duration": 95,
    "start_time": "2021-09-22T16:27:11.862Z"
   },
   {
    "duration": 3,
    "start_time": "2021-09-22T16:27:11.959Z"
   },
   {
    "duration": 20,
    "start_time": "2021-09-22T16:27:11.963Z"
   },
   {
    "duration": 25,
    "start_time": "2021-09-22T16:27:11.984Z"
   },
   {
    "duration": 7,
    "start_time": "2021-09-22T16:27:12.010Z"
   },
   {
    "duration": 23,
    "start_time": "2021-09-22T16:27:12.020Z"
   },
   {
    "duration": 15,
    "start_time": "2021-09-22T16:27:12.045Z"
   },
   {
    "duration": 7,
    "start_time": "2021-09-22T16:27:12.062Z"
   },
   {
    "duration": 23,
    "start_time": "2021-09-22T16:27:12.071Z"
   },
   {
    "duration": 20,
    "start_time": "2021-09-22T16:27:12.096Z"
   },
   {
    "duration": 28,
    "start_time": "2021-09-22T16:27:12.118Z"
   },
   {
    "duration": 5,
    "start_time": "2021-09-22T16:27:12.148Z"
   },
   {
    "duration": 8,
    "start_time": "2021-09-22T16:27:12.155Z"
   },
   {
    "duration": 7,
    "start_time": "2021-09-22T16:27:12.165Z"
   },
   {
    "duration": 27,
    "start_time": "2021-09-22T16:27:12.174Z"
   },
   {
    "duration": 8,
    "start_time": "2021-09-22T16:27:12.202Z"
   },
   {
    "duration": 1096,
    "start_time": "2021-09-22T16:27:12.211Z"
   },
   {
    "duration": 6,
    "start_time": "2021-09-22T16:27:13.309Z"
   },
   {
    "duration": 3780,
    "start_time": "2021-09-22T16:27:13.317Z"
   },
   {
    "duration": 8,
    "start_time": "2021-09-22T16:27:17.100Z"
   },
   {
    "duration": 3013,
    "start_time": "2021-09-22T16:27:17.111Z"
   },
   {
    "duration": 744,
    "start_time": "2021-09-22T16:27:20.126Z"
   },
   {
    "duration": 852,
    "start_time": "2021-09-22T16:27:20.872Z"
   },
   {
    "duration": 1377,
    "start_time": "2021-09-22T16:27:21.726Z"
   },
   {
    "duration": 10,
    "start_time": "2021-09-22T16:27:23.104Z"
   },
   {
    "duration": 19,
    "start_time": "2021-09-22T16:27:23.115Z"
   },
   {
    "duration": 21,
    "start_time": "2021-09-22T16:27:23.135Z"
   },
   {
    "duration": 804,
    "start_time": "2021-09-22T16:27:23.158Z"
   },
   {
    "duration": 7,
    "start_time": "2021-09-22T16:27:23.963Z"
   },
   {
    "duration": 17,
    "start_time": "2021-09-22T16:28:21.868Z"
   },
   {
    "duration": 331,
    "start_time": "2021-09-22T16:29:30.141Z"
   },
   {
    "duration": 8,
    "start_time": "2021-09-22T16:29:44.439Z"
   },
   {
    "duration": 17,
    "start_time": "2021-09-22T16:41:12.191Z"
   },
   {
    "duration": 13,
    "start_time": "2021-09-22T16:42:23.838Z"
   },
   {
    "duration": 23,
    "start_time": "2021-09-22T16:43:08.847Z"
   },
   {
    "duration": 24,
    "start_time": "2021-09-22T16:44:14.910Z"
   },
   {
    "duration": 20,
    "start_time": "2021-09-22T16:44:46.860Z"
   },
   {
    "duration": 299,
    "start_time": "2021-09-22T16:45:51.488Z"
   },
   {
    "duration": 34,
    "start_time": "2021-09-22T16:47:36.109Z"
   },
   {
    "duration": 38,
    "start_time": "2021-09-22T16:48:13.677Z"
   },
   {
    "duration": 21,
    "start_time": "2021-09-22T16:48:42.348Z"
   },
   {
    "duration": 21,
    "start_time": "2021-09-22T16:49:57.837Z"
   },
   {
    "duration": 649,
    "start_time": "2021-09-22T16:51:45.160Z"
   },
   {
    "duration": 689,
    "start_time": "2021-09-22T16:53:24.013Z"
   },
   {
    "duration": 1370,
    "start_time": "2021-09-22T16:53:45.021Z"
   },
   {
    "duration": 2025,
    "start_time": "2021-09-22T16:54:09.043Z"
   },
   {
    "duration": 359,
    "start_time": "2021-09-22T17:13:56.515Z"
   },
   {
    "duration": 3,
    "start_time": "2021-09-22T17:14:19.574Z"
   },
   {
    "duration": 516,
    "start_time": "2021-09-22T17:18:50.436Z"
   },
   {
    "duration": 281,
    "start_time": "2021-09-22T17:19:47.874Z"
   },
   {
    "duration": 12,
    "start_time": "2021-09-22T17:19:53.912Z"
   },
   {
    "duration": 11,
    "start_time": "2021-09-22T17:25:52.349Z"
   },
   {
    "duration": 13,
    "start_time": "2021-09-22T17:27:23.217Z"
   },
   {
    "duration": 3,
    "start_time": "2021-09-22T17:41:38.603Z"
   },
   {
    "duration": 11,
    "start_time": "2021-09-22T17:41:40.654Z"
   },
   {
    "duration": 12,
    "start_time": "2021-09-22T17:41:41.632Z"
   },
   {
    "duration": 11,
    "start_time": "2021-09-22T17:42:10.250Z"
   },
   {
    "duration": 11,
    "start_time": "2021-09-22T17:42:32.239Z"
   },
   {
    "duration": 11,
    "start_time": "2021-09-22T17:43:13.888Z"
   },
   {
    "duration": 12,
    "start_time": "2021-09-22T17:43:27.724Z"
   },
   {
    "duration": 27,
    "start_time": "2021-09-22T17:53:35.937Z"
   },
   {
    "duration": 27,
    "start_time": "2021-09-22T17:53:55.986Z"
   },
   {
    "duration": 27,
    "start_time": "2021-09-22T17:55:43.893Z"
   },
   {
    "duration": 32,
    "start_time": "2021-09-22T17:56:01.051Z"
   },
   {
    "duration": 32,
    "start_time": "2021-09-22T17:56:30.594Z"
   },
   {
    "duration": 29,
    "start_time": "2021-09-22T17:56:57.212Z"
   },
   {
    "duration": 27,
    "start_time": "2021-09-22T17:57:51.899Z"
   },
   {
    "duration": 25,
    "start_time": "2021-09-22T17:58:03.479Z"
   },
   {
    "duration": 5,
    "start_time": "2021-09-22T17:58:20.087Z"
   },
   {
    "duration": 289,
    "start_time": "2021-09-22T17:58:46.908Z"
   },
   {
    "duration": 26,
    "start_time": "2021-09-22T17:59:18.752Z"
   },
   {
    "duration": 6,
    "start_time": "2021-09-22T17:59:41.299Z"
   },
   {
    "duration": 25,
    "start_time": "2021-09-22T17:59:54.863Z"
   },
   {
    "duration": 22,
    "start_time": "2021-09-22T18:00:08.020Z"
   },
   {
    "duration": 24,
    "start_time": "2021-09-22T18:01:06.452Z"
   },
   {
    "duration": 4,
    "start_time": "2021-09-22T18:01:53.569Z"
   },
   {
    "duration": 7,
    "start_time": "2021-09-22T18:01:58.440Z"
   },
   {
    "duration": 27,
    "start_time": "2021-09-22T18:02:35.787Z"
   },
   {
    "duration": 28,
    "start_time": "2021-09-22T18:03:46.776Z"
   },
   {
    "duration": 28,
    "start_time": "2021-09-22T18:04:19.831Z"
   },
   {
    "duration": 31,
    "start_time": "2021-09-22T18:05:05.172Z"
   },
   {
    "duration": 31,
    "start_time": "2021-09-22T18:07:46.812Z"
   },
   {
    "duration": 31,
    "start_time": "2021-09-22T18:31:06.800Z"
   },
   {
    "duration": 30,
    "start_time": "2021-09-22T18:37:35.221Z"
   },
   {
    "duration": 29,
    "start_time": "2021-09-22T18:38:03.037Z"
   },
   {
    "duration": 29,
    "start_time": "2021-09-22T18:38:09.200Z"
   },
   {
    "duration": 285,
    "start_time": "2021-09-22T18:49:16.970Z"
   },
   {
    "duration": 283,
    "start_time": "2021-09-22T18:49:30.773Z"
   },
   {
    "duration": 10,
    "start_time": "2021-09-22T18:49:43.075Z"
   },
   {
    "duration": 11,
    "start_time": "2021-09-22T18:50:08.264Z"
   },
   {
    "duration": 12,
    "start_time": "2021-09-22T18:50:30.921Z"
   },
   {
    "duration": 884,
    "start_time": "2021-09-22T19:04:01.233Z"
   },
   {
    "duration": 3,
    "start_time": "2021-09-22T19:05:20.965Z"
   },
   {
    "duration": 39,
    "start_time": "2021-09-22T19:05:20.972Z"
   },
   {
    "duration": 71,
    "start_time": "2021-09-22T19:05:21.012Z"
   },
   {
    "duration": 3,
    "start_time": "2021-09-22T19:05:21.085Z"
   },
   {
    "duration": 21,
    "start_time": "2021-09-22T19:05:21.090Z"
   },
   {
    "duration": 17,
    "start_time": "2021-09-22T19:05:21.113Z"
   },
   {
    "duration": 17,
    "start_time": "2021-09-22T19:05:21.132Z"
   },
   {
    "duration": 28,
    "start_time": "2021-09-22T19:05:21.151Z"
   },
   {
    "duration": 25,
    "start_time": "2021-09-22T19:05:21.182Z"
   },
   {
    "duration": 7,
    "start_time": "2021-09-22T19:05:21.210Z"
   },
   {
    "duration": 25,
    "start_time": "2021-09-22T19:05:21.219Z"
   },
   {
    "duration": 25,
    "start_time": "2021-09-22T19:05:21.246Z"
   },
   {
    "duration": 264,
    "start_time": "2021-09-22T19:05:21.273Z"
   },
   {
    "duration": -564,
    "start_time": "2021-09-22T19:05:22.103Z"
   },
   {
    "duration": -574,
    "start_time": "2021-09-22T19:05:22.114Z"
   },
   {
    "duration": -582,
    "start_time": "2021-09-22T19:05:22.123Z"
   },
   {
    "duration": -591,
    "start_time": "2021-09-22T19:05:22.133Z"
   },
   {
    "duration": -598,
    "start_time": "2021-09-22T19:05:22.141Z"
   },
   {
    "duration": -604,
    "start_time": "2021-09-22T19:05:22.149Z"
   },
   {
    "duration": -613,
    "start_time": "2021-09-22T19:05:22.159Z"
   },
   {
    "duration": -664,
    "start_time": "2021-09-22T19:05:22.211Z"
   },
   {
    "duration": -671,
    "start_time": "2021-09-22T19:05:22.219Z"
   },
   {
    "duration": -679,
    "start_time": "2021-09-22T19:05:22.228Z"
   },
   {
    "duration": -685,
    "start_time": "2021-09-22T19:05:22.235Z"
   },
   {
    "duration": -694,
    "start_time": "2021-09-22T19:05:22.245Z"
   },
   {
    "duration": -700,
    "start_time": "2021-09-22T19:05:22.253Z"
   },
   {
    "duration": -709,
    "start_time": "2021-09-22T19:05:22.263Z"
   },
   {
    "duration": -717,
    "start_time": "2021-09-22T19:05:22.272Z"
   },
   {
    "duration": -726,
    "start_time": "2021-09-22T19:05:22.282Z"
   },
   {
    "duration": -734,
    "start_time": "2021-09-22T19:05:22.291Z"
   },
   {
    "duration": -742,
    "start_time": "2021-09-22T19:05:22.300Z"
   },
   {
    "duration": -750,
    "start_time": "2021-09-22T19:05:22.309Z"
   },
   {
    "duration": -777,
    "start_time": "2021-09-22T19:05:22.337Z"
   },
   {
    "duration": -786,
    "start_time": "2021-09-22T19:05:22.347Z"
   },
   {
    "duration": -796,
    "start_time": "2021-09-22T19:05:22.358Z"
   },
   {
    "duration": -805,
    "start_time": "2021-09-22T19:05:22.368Z"
   },
   {
    "duration": -814,
    "start_time": "2021-09-22T19:05:22.378Z"
   },
   {
    "duration": -822,
    "start_time": "2021-09-22T19:05:22.386Z"
   },
   {
    "duration": 5,
    "start_time": "2021-09-22T19:06:17.592Z"
   },
   {
    "duration": 4,
    "start_time": "2021-09-22T19:06:19.430Z"
   },
   {
    "duration": 5,
    "start_time": "2021-09-22T19:06:21.748Z"
   },
   {
    "duration": 3,
    "start_time": "2021-09-22T19:06:28.792Z"
   },
   {
    "duration": 41,
    "start_time": "2021-09-22T19:06:28.798Z"
   },
   {
    "duration": 67,
    "start_time": "2021-09-22T19:06:28.841Z"
   },
   {
    "duration": 2,
    "start_time": "2021-09-22T19:06:28.911Z"
   },
   {
    "duration": 35,
    "start_time": "2021-09-22T19:06:28.915Z"
   },
   {
    "duration": 21,
    "start_time": "2021-09-22T19:06:28.952Z"
   },
   {
    "duration": 7,
    "start_time": "2021-09-22T19:06:28.974Z"
   },
   {
    "duration": 15,
    "start_time": "2021-09-22T19:06:28.983Z"
   },
   {
    "duration": 16,
    "start_time": "2021-09-22T19:06:29.001Z"
   },
   {
    "duration": 35,
    "start_time": "2021-09-22T19:06:29.018Z"
   },
   {
    "duration": 35,
    "start_time": "2021-09-22T19:06:29.055Z"
   },
   {
    "duration": 20,
    "start_time": "2021-09-22T19:06:29.091Z"
   },
   {
    "duration": 4,
    "start_time": "2021-09-22T19:06:29.113Z"
   },
   {
    "duration": 13,
    "start_time": "2021-09-22T19:06:29.118Z"
   },
   {
    "duration": 15,
    "start_time": "2021-09-22T19:06:29.133Z"
   },
   {
    "duration": 13,
    "start_time": "2021-09-22T19:06:29.150Z"
   },
   {
    "duration": 33,
    "start_time": "2021-09-22T19:06:29.164Z"
   },
   {
    "duration": 6,
    "start_time": "2021-09-22T19:06:29.199Z"
   },
   {
    "duration": 1051,
    "start_time": "2021-09-22T19:06:29.207Z"
   },
   {
    "duration": 7,
    "start_time": "2021-09-22T19:06:30.260Z"
   },
   {
    "duration": 3802,
    "start_time": "2021-09-22T19:06:30.269Z"
   },
   {
    "duration": 8,
    "start_time": "2021-09-22T19:06:34.074Z"
   },
   {
    "duration": 3253,
    "start_time": "2021-09-22T19:06:34.084Z"
   },
   {
    "duration": 714,
    "start_time": "2021-09-22T19:06:37.342Z"
   },
   {
    "duration": 863,
    "start_time": "2021-09-22T19:06:38.058Z"
   },
   {
    "duration": 1369,
    "start_time": "2021-09-22T19:06:38.923Z"
   },
   {
    "duration": 10,
    "start_time": "2021-09-22T19:06:40.294Z"
   },
   {
    "duration": 12,
    "start_time": "2021-09-22T19:06:40.306Z"
   },
   {
    "duration": 29,
    "start_time": "2021-09-22T19:06:40.320Z"
   },
   {
    "duration": 794,
    "start_time": "2021-09-22T19:06:40.350Z"
   },
   {
    "duration": 29,
    "start_time": "2021-09-22T19:06:41.146Z"
   },
   {
    "duration": 30,
    "start_time": "2021-09-22T19:06:41.177Z"
   },
   {
    "duration": 1832,
    "start_time": "2021-09-22T19:06:41.209Z"
   },
   {
    "duration": 11,
    "start_time": "2021-09-22T19:06:43.044Z"
   },
   {
    "duration": 26,
    "start_time": "2021-09-22T19:06:43.056Z"
   },
   {
    "duration": 29,
    "start_time": "2021-09-22T19:06:43.084Z"
   },
   {
    "duration": 28,
    "start_time": "2021-09-22T19:06:43.115Z"
   },
   {
    "duration": 22,
    "start_time": "2021-09-22T19:06:43.145Z"
   },
   {
    "duration": 18,
    "start_time": "2021-09-22T19:06:43.169Z"
   },
   {
    "duration": 3,
    "start_time": "2021-09-22T19:08:12.223Z"
   },
   {
    "duration": 42,
    "start_time": "2021-09-22T19:08:12.230Z"
   },
   {
    "duration": 88,
    "start_time": "2021-09-22T19:08:12.274Z"
   },
   {
    "duration": 3,
    "start_time": "2021-09-22T19:08:12.364Z"
   },
   {
    "duration": 10,
    "start_time": "2021-09-22T19:08:12.368Z"
   },
   {
    "duration": 16,
    "start_time": "2021-09-22T19:08:12.380Z"
   },
   {
    "duration": 6,
    "start_time": "2021-09-22T19:08:12.398Z"
   },
   {
    "duration": 39,
    "start_time": "2021-09-22T19:08:12.406Z"
   },
   {
    "duration": 21,
    "start_time": "2021-09-22T19:08:12.448Z"
   },
   {
    "duration": 7,
    "start_time": "2021-09-22T19:08:12.472Z"
   },
   {
    "duration": 19,
    "start_time": "2021-09-22T19:08:12.481Z"
   },
   {
    "duration": 16,
    "start_time": "2021-09-22T19:08:12.501Z"
   },
   {
    "duration": 31,
    "start_time": "2021-09-22T19:08:12.519Z"
   },
   {
    "duration": 4,
    "start_time": "2021-09-22T19:08:12.552Z"
   },
   {
    "duration": 4,
    "start_time": "2021-09-22T19:08:12.558Z"
   },
   {
    "duration": 7,
    "start_time": "2021-09-22T19:08:12.564Z"
   },
   {
    "duration": 24,
    "start_time": "2021-09-22T19:08:12.572Z"
   },
   {
    "duration": 8,
    "start_time": "2021-09-22T19:08:12.597Z"
   },
   {
    "duration": 1086,
    "start_time": "2021-09-22T19:08:12.606Z"
   },
   {
    "duration": 7,
    "start_time": "2021-09-22T19:08:13.694Z"
   },
   {
    "duration": 3673,
    "start_time": "2021-09-22T19:08:13.703Z"
   },
   {
    "duration": 9,
    "start_time": "2021-09-22T19:08:17.377Z"
   },
   {
    "duration": 3066,
    "start_time": "2021-09-22T19:08:17.387Z"
   },
   {
    "duration": 648,
    "start_time": "2021-09-22T19:08:20.457Z"
   },
   {
    "duration": 929,
    "start_time": "2021-09-22T19:08:21.107Z"
   },
   {
    "duration": 1374,
    "start_time": "2021-09-22T19:08:22.044Z"
   },
   {
    "duration": 24,
    "start_time": "2021-09-22T19:08:23.420Z"
   },
   {
    "duration": 8,
    "start_time": "2021-09-22T19:08:23.446Z"
   },
   {
    "duration": 10,
    "start_time": "2021-09-22T19:08:23.456Z"
   },
   {
    "duration": 848,
    "start_time": "2021-09-22T19:08:23.468Z"
   },
   {
    "duration": 49,
    "start_time": "2021-09-22T19:08:24.317Z"
   },
   {
    "duration": 32,
    "start_time": "2021-09-22T19:08:24.368Z"
   },
   {
    "duration": 2051,
    "start_time": "2021-09-22T19:08:24.402Z"
   },
   {
    "duration": 10,
    "start_time": "2021-09-22T19:08:26.455Z"
   },
   {
    "duration": 5,
    "start_time": "2021-09-22T19:08:26.467Z"
   },
   {
    "duration": 15,
    "start_time": "2021-09-22T19:08:26.474Z"
   },
   {
    "duration": 12,
    "start_time": "2021-09-22T19:08:26.490Z"
   },
   {
    "duration": 18,
    "start_time": "2021-09-22T19:08:26.503Z"
   },
   {
    "duration": 33,
    "start_time": "2021-09-22T19:08:26.523Z"
   },
   {
    "duration": 661,
    "start_time": "2021-09-22T19:11:13.876Z"
   },
   {
    "duration": 456,
    "start_time": "2021-09-22T19:11:24.349Z"
   },
   {
    "duration": 466,
    "start_time": "2021-09-22T19:11:29.523Z"
   },
   {
    "duration": 430,
    "start_time": "2021-09-22T19:13:41.768Z"
   },
   {
    "duration": 1194,
    "start_time": "2021-09-22T19:14:31.716Z"
   },
   {
    "duration": 1101,
    "start_time": "2021-09-22T19:14:48.206Z"
   },
   {
    "duration": 413,
    "start_time": "2021-09-22T19:15:59.906Z"
   },
   {
    "duration": 1313,
    "start_time": "2021-09-22T19:16:09.543Z"
   },
   {
    "duration": 4828,
    "start_time": "2021-09-22T19:16:50.833Z"
   },
   {
    "duration": 689,
    "start_time": "2021-09-22T19:17:19.261Z"
   },
   {
    "duration": 1649,
    "start_time": "2021-09-22T19:17:47.445Z"
   },
   {
    "duration": 138,
    "start_time": "2021-09-22T19:20:43.579Z"
   },
   {
    "duration": 127,
    "start_time": "2021-09-22T19:20:54.232Z"
   },
   {
    "duration": 15,
    "start_time": "2021-09-22T19:21:20.929Z"
   },
   {
    "duration": 8,
    "start_time": "2021-09-22T19:21:43.744Z"
   },
   {
    "duration": 3,
    "start_time": "2021-09-22T19:21:50.075Z"
   },
   {
    "duration": 40,
    "start_time": "2021-09-22T19:21:50.082Z"
   },
   {
    "duration": 72,
    "start_time": "2021-09-22T19:21:50.124Z"
   },
   {
    "duration": 4,
    "start_time": "2021-09-22T19:21:50.198Z"
   },
   {
    "duration": 13,
    "start_time": "2021-09-22T19:21:50.204Z"
   },
   {
    "duration": 41,
    "start_time": "2021-09-22T19:21:50.219Z"
   },
   {
    "duration": 6,
    "start_time": "2021-09-22T19:21:50.262Z"
   },
   {
    "duration": 8,
    "start_time": "2021-09-22T19:21:50.270Z"
   },
   {
    "duration": 16,
    "start_time": "2021-09-22T19:21:50.281Z"
   },
   {
    "duration": 8,
    "start_time": "2021-09-22T19:21:50.299Z"
   },
   {
    "duration": 23,
    "start_time": "2021-09-22T19:21:50.344Z"
   },
   {
    "duration": 20,
    "start_time": "2021-09-22T19:21:50.369Z"
   },
   {
    "duration": 7,
    "start_time": "2021-09-22T19:21:50.391Z"
   },
   {
    "duration": 5,
    "start_time": "2021-09-22T19:21:50.400Z"
   },
   {
    "duration": 5,
    "start_time": "2021-09-22T19:21:50.407Z"
   },
   {
    "duration": 168,
    "start_time": "2021-09-22T19:21:50.413Z"
   },
   {
    "duration": 8,
    "start_time": "2021-09-22T19:21:50.583Z"
   },
   {
    "duration": 6,
    "start_time": "2021-09-22T19:21:50.593Z"
   },
   {
    "duration": 55,
    "start_time": "2021-09-22T19:21:50.601Z"
   },
   {
    "duration": 8,
    "start_time": "2021-09-22T19:21:50.658Z"
   },
   {
    "duration": 1162,
    "start_time": "2021-09-22T19:21:50.668Z"
   },
   {
    "duration": 16,
    "start_time": "2021-09-22T19:21:51.832Z"
   },
   {
    "duration": 3781,
    "start_time": "2021-09-22T19:21:51.850Z"
   },
   {
    "duration": 15,
    "start_time": "2021-09-22T19:21:55.634Z"
   },
   {
    "duration": 3041,
    "start_time": "2021-09-22T19:21:55.651Z"
   },
   {
    "duration": 618,
    "start_time": "2021-09-22T19:21:58.695Z"
   },
   {
    "duration": 912,
    "start_time": "2021-09-22T19:21:59.316Z"
   },
   {
    "duration": 1680,
    "start_time": "2021-09-22T19:22:00.231Z"
   },
   {
    "duration": 31,
    "start_time": "2021-09-22T19:22:01.913Z"
   },
   {
    "duration": 23,
    "start_time": "2021-09-22T19:22:01.947Z"
   },
   {
    "duration": 17,
    "start_time": "2021-09-22T19:22:01.972Z"
   },
   {
    "duration": 836,
    "start_time": "2021-09-22T19:22:01.991Z"
   },
   {
    "duration": 44,
    "start_time": "2021-09-22T19:22:02.830Z"
   },
   {
    "duration": 32,
    "start_time": "2021-09-22T19:22:02.876Z"
   },
   {
    "duration": 1981,
    "start_time": "2021-09-22T19:22:02.909Z"
   },
   {
    "duration": 12,
    "start_time": "2021-09-22T19:22:04.892Z"
   },
   {
    "duration": 6,
    "start_time": "2021-09-22T19:22:04.906Z"
   },
   {
    "duration": 13,
    "start_time": "2021-09-22T19:22:04.914Z"
   },
   {
    "duration": 14,
    "start_time": "2021-09-22T19:22:04.945Z"
   },
   {
    "duration": 13,
    "start_time": "2021-09-22T19:22:04.961Z"
   },
   {
    "duration": 12,
    "start_time": "2021-09-22T19:22:04.976Z"
   },
   {
    "duration": 4034,
    "start_time": "2021-09-22T19:25:26.997Z"
   },
   {
    "duration": 3662,
    "start_time": "2021-09-22T19:25:52.250Z"
   },
   {
    "duration": 3,
    "start_time": "2021-09-22T19:26:23.807Z"
   },
   {
    "duration": 53,
    "start_time": "2021-09-22T19:26:23.814Z"
   },
   {
    "duration": 122,
    "start_time": "2021-09-22T19:26:23.870Z"
   },
   {
    "duration": 3,
    "start_time": "2021-09-22T19:26:23.995Z"
   },
   {
    "duration": 10,
    "start_time": "2021-09-22T19:26:24.000Z"
   },
   {
    "duration": 49,
    "start_time": "2021-09-22T19:26:24.011Z"
   },
   {
    "duration": 8,
    "start_time": "2021-09-22T19:26:24.062Z"
   },
   {
    "duration": 8,
    "start_time": "2021-09-22T19:26:24.072Z"
   },
   {
    "duration": 18,
    "start_time": "2021-09-22T19:26:24.083Z"
   },
   {
    "duration": 46,
    "start_time": "2021-09-22T19:26:24.104Z"
   },
   {
    "duration": 25,
    "start_time": "2021-09-22T19:26:24.152Z"
   },
   {
    "duration": 19,
    "start_time": "2021-09-22T19:26:24.179Z"
   },
   {
    "duration": 45,
    "start_time": "2021-09-22T19:26:24.200Z"
   },
   {
    "duration": 6,
    "start_time": "2021-09-22T19:26:24.247Z"
   },
   {
    "duration": 6,
    "start_time": "2021-09-22T19:26:24.254Z"
   },
   {
    "duration": 147,
    "start_time": "2021-09-22T19:26:24.262Z"
   },
   {
    "duration": 9,
    "start_time": "2021-09-22T19:26:24.411Z"
   },
   {
    "duration": 10,
    "start_time": "2021-09-22T19:26:24.422Z"
   },
   {
    "duration": 28,
    "start_time": "2021-09-22T19:26:24.445Z"
   },
   {
    "duration": 8,
    "start_time": "2021-09-22T19:26:24.475Z"
   },
   {
    "duration": 1093,
    "start_time": "2021-09-22T19:26:24.485Z"
   },
   {
    "duration": 7,
    "start_time": "2021-09-22T19:26:25.580Z"
   },
   {
    "duration": 3455,
    "start_time": "2021-09-22T19:26:25.589Z"
   },
   {
    "duration": 9,
    "start_time": "2021-09-22T19:26:29.048Z"
   },
   {
    "duration": 3138,
    "start_time": "2021-09-22T19:26:29.060Z"
   },
   {
    "duration": 640,
    "start_time": "2021-09-22T19:26:32.200Z"
   },
   {
    "duration": 881,
    "start_time": "2021-09-22T19:26:32.842Z"
   },
   {
    "duration": 1407,
    "start_time": "2021-09-22T19:26:33.725Z"
   },
   {
    "duration": 14,
    "start_time": "2021-09-22T19:26:35.134Z"
   },
   {
    "duration": 9,
    "start_time": "2021-09-22T19:26:35.150Z"
   },
   {
    "duration": 22,
    "start_time": "2021-09-22T19:26:35.161Z"
   },
   {
    "duration": 811,
    "start_time": "2021-09-22T19:26:35.185Z"
   },
   {
    "duration": 54,
    "start_time": "2021-09-22T19:26:35.998Z"
   },
   {
    "duration": 32,
    "start_time": "2021-09-22T19:26:36.053Z"
   },
   {
    "duration": 1836,
    "start_time": "2021-09-22T19:26:36.087Z"
   },
   {
    "duration": 19,
    "start_time": "2021-09-22T19:26:37.925Z"
   },
   {
    "duration": 7,
    "start_time": "2021-09-22T19:26:37.946Z"
   },
   {
    "duration": 23,
    "start_time": "2021-09-22T19:26:37.955Z"
   },
   {
    "duration": 39,
    "start_time": "2021-09-22T19:26:37.980Z"
   },
   {
    "duration": 27,
    "start_time": "2021-09-22T19:26:38.021Z"
   },
   {
    "duration": 25,
    "start_time": "2021-09-22T19:26:38.050Z"
   },
   {
    "duration": 1468,
    "start_time": "2021-09-23T14:02:33.934Z"
   },
   {
    "duration": 50,
    "start_time": "2021-09-23T14:02:35.404Z"
   },
   {
    "duration": 93,
    "start_time": "2021-09-23T14:02:35.461Z"
   },
   {
    "duration": 5,
    "start_time": "2021-09-23T14:02:35.557Z"
   },
   {
    "duration": 9,
    "start_time": "2021-09-23T14:02:35.565Z"
   },
   {
    "duration": 18,
    "start_time": "2021-09-23T14:02:35.576Z"
   },
   {
    "duration": 9,
    "start_time": "2021-09-23T14:02:35.595Z"
   },
   {
    "duration": 9,
    "start_time": "2021-09-23T14:02:35.606Z"
   },
   {
    "duration": 44,
    "start_time": "2021-09-23T14:02:35.618Z"
   },
   {
    "duration": 10,
    "start_time": "2021-09-23T14:02:35.665Z"
   },
   {
    "duration": 19,
    "start_time": "2021-09-23T14:02:35.676Z"
   },
   {
    "duration": 13,
    "start_time": "2021-09-23T14:02:35.697Z"
   },
   {
    "duration": 6,
    "start_time": "2021-09-23T14:02:35.712Z"
   },
   {
    "duration": 6,
    "start_time": "2021-09-23T14:02:35.719Z"
   },
   {
    "duration": 30,
    "start_time": "2021-09-23T14:02:35.727Z"
   },
   {
    "duration": 134,
    "start_time": "2021-09-23T14:02:35.758Z"
   },
   {
    "duration": 7,
    "start_time": "2021-09-23T14:02:35.894Z"
   },
   {
    "duration": 9,
    "start_time": "2021-09-23T14:02:35.903Z"
   },
   {
    "duration": 42,
    "start_time": "2021-09-23T14:02:35.914Z"
   },
   {
    "duration": 11,
    "start_time": "2021-09-23T14:02:35.959Z"
   },
   {
    "duration": 1536,
    "start_time": "2021-09-23T14:02:35.972Z"
   },
   {
    "duration": 7,
    "start_time": "2021-09-23T14:02:37.511Z"
   },
   {
    "duration": 3730,
    "start_time": "2021-09-23T14:02:37.520Z"
   },
   {
    "duration": 11,
    "start_time": "2021-09-23T14:02:41.252Z"
   },
   {
    "duration": 3001,
    "start_time": "2021-09-23T14:02:41.267Z"
   },
   {
    "duration": 745,
    "start_time": "2021-09-23T14:02:44.270Z"
   },
   {
    "duration": 862,
    "start_time": "2021-09-23T14:02:45.018Z"
   },
   {
    "duration": 1350,
    "start_time": "2021-09-23T14:02:45.882Z"
   },
   {
    "duration": 23,
    "start_time": "2021-09-23T14:02:47.233Z"
   },
   {
    "duration": 9,
    "start_time": "2021-09-23T14:02:47.259Z"
   },
   {
    "duration": 10,
    "start_time": "2021-09-23T14:02:47.270Z"
   },
   {
    "duration": 853,
    "start_time": "2021-09-23T14:02:47.282Z"
   },
   {
    "duration": 45,
    "start_time": "2021-09-23T14:02:48.137Z"
   },
   {
    "duration": 29,
    "start_time": "2021-09-23T14:02:48.184Z"
   },
   {
    "duration": 1977,
    "start_time": "2021-09-23T14:02:48.215Z"
   },
   {
    "duration": 11,
    "start_time": "2021-09-23T14:02:50.193Z"
   },
   {
    "duration": 3,
    "start_time": "2021-09-23T14:02:50.206Z"
   },
   {
    "duration": 11,
    "start_time": "2021-09-23T14:02:50.210Z"
   },
   {
    "duration": 42,
    "start_time": "2021-09-23T14:02:50.223Z"
   },
   {
    "duration": 11,
    "start_time": "2021-09-23T14:02:50.267Z"
   },
   {
    "duration": 12,
    "start_time": "2021-09-23T14:02:50.279Z"
   },
   {
    "duration": 21,
    "start_time": "2021-09-23T14:17:25.560Z"
   },
   {
    "duration": 29,
    "start_time": "2021-09-23T14:20:11.296Z"
   },
   {
    "duration": 1109,
    "start_time": "2021-09-23T15:48:44.875Z"
   },
   {
    "duration": 37,
    "start_time": "2021-09-23T15:48:45.985Z"
   },
   {
    "duration": 65,
    "start_time": "2021-09-23T15:48:46.024Z"
   },
   {
    "duration": 3,
    "start_time": "2021-09-23T15:48:46.090Z"
   },
   {
    "duration": 10,
    "start_time": "2021-09-23T15:48:46.095Z"
   },
   {
    "duration": 43,
    "start_time": "2021-09-23T15:48:46.107Z"
   },
   {
    "duration": 7,
    "start_time": "2021-09-23T15:48:46.152Z"
   },
   {
    "duration": 6,
    "start_time": "2021-09-23T15:48:46.161Z"
   },
   {
    "duration": 13,
    "start_time": "2021-09-23T15:48:46.169Z"
   },
   {
    "duration": 6,
    "start_time": "2021-09-23T15:48:46.183Z"
   },
   {
    "duration": 20,
    "start_time": "2021-09-23T15:48:46.191Z"
   },
   {
    "duration": 40,
    "start_time": "2021-09-23T15:48:46.213Z"
   },
   {
    "duration": 2,
    "start_time": "2021-09-23T15:48:46.255Z"
   },
   {
    "duration": 8,
    "start_time": "2021-09-23T15:48:46.258Z"
   },
   {
    "duration": 10,
    "start_time": "2021-09-23T15:48:46.268Z"
   },
   {
    "duration": 128,
    "start_time": "2021-09-23T15:48:46.280Z"
   },
   {
    "duration": 7,
    "start_time": "2021-09-23T15:48:46.410Z"
   },
   {
    "duration": 16,
    "start_time": "2021-09-23T15:48:46.418Z"
   },
   {
    "duration": 30,
    "start_time": "2021-09-23T15:48:46.435Z"
   },
   {
    "duration": 9,
    "start_time": "2021-09-23T15:48:46.466Z"
   },
   {
    "duration": 1020,
    "start_time": "2021-09-23T15:48:46.476Z"
   },
   {
    "duration": 6,
    "start_time": "2021-09-23T15:48:47.497Z"
   },
   {
    "duration": 3082,
    "start_time": "2021-09-23T15:48:47.506Z"
   },
   {
    "duration": 6,
    "start_time": "2021-09-23T15:48:50.590Z"
   },
   {
    "duration": 2351,
    "start_time": "2021-09-23T15:48:50.598Z"
   },
   {
    "duration": 536,
    "start_time": "2021-09-23T15:48:52.950Z"
   },
   {
    "duration": 997,
    "start_time": "2021-09-23T15:48:53.489Z"
   },
   {
    "duration": 1259,
    "start_time": "2021-09-23T15:48:54.488Z"
   },
   {
    "duration": 9,
    "start_time": "2021-09-23T15:48:55.749Z"
   },
   {
    "duration": 9,
    "start_time": "2021-09-23T15:48:55.759Z"
   },
   {
    "duration": 19,
    "start_time": "2021-09-23T15:48:55.769Z"
   },
   {
    "duration": 749,
    "start_time": "2021-09-23T15:48:55.790Z"
   },
   {
    "duration": 28,
    "start_time": "2021-09-23T15:48:56.545Z"
   },
   {
    "duration": 27,
    "start_time": "2021-09-23T15:48:56.575Z"
   },
   {
    "duration": 1793,
    "start_time": "2021-09-23T15:48:56.603Z"
   },
   {
    "duration": 10,
    "start_time": "2021-09-23T15:48:58.397Z"
   },
   {
    "duration": 3,
    "start_time": "2021-09-23T15:48:58.408Z"
   },
   {
    "duration": 11,
    "start_time": "2021-09-23T15:48:58.412Z"
   },
   {
    "duration": 15,
    "start_time": "2021-09-23T15:48:58.444Z"
   },
   {
    "duration": 8,
    "start_time": "2021-09-23T15:48:58.461Z"
   },
   {
    "duration": 11,
    "start_time": "2021-09-23T15:48:58.471Z"
   },
   {
    "duration": 20,
    "start_time": "2021-09-23T15:49:49.878Z"
   },
   {
    "duration": 350,
    "start_time": "2021-09-23T15:52:40.673Z"
   },
   {
    "duration": 472,
    "start_time": "2021-09-23T15:53:30.841Z"
   },
   {
    "duration": 4,
    "start_time": "2021-09-23T15:55:38.407Z"
   },
   {
    "duration": 4,
    "start_time": "2021-09-23T15:56:07.564Z"
   },
   {
    "duration": 22,
    "start_time": "2021-09-23T15:56:14.839Z"
   },
   {
    "duration": 6,
    "start_time": "2021-09-23T15:57:13.970Z"
   },
   {
    "duration": 25,
    "start_time": "2021-09-23T15:57:21.376Z"
   },
   {
    "duration": 14,
    "start_time": "2021-09-23T15:58:18.356Z"
   },
   {
    "duration": 13,
    "start_time": "2021-09-23T15:58:33.658Z"
   },
   {
    "duration": 15,
    "start_time": "2021-09-23T15:58:47.627Z"
   },
   {
    "duration": 7,
    "start_time": "2021-09-23T15:59:14.376Z"
   },
   {
    "duration": 23,
    "start_time": "2021-09-23T15:59:16.737Z"
   },
   {
    "duration": 15,
    "start_time": "2021-09-23T15:59:37.871Z"
   },
   {
    "duration": 6,
    "start_time": "2021-09-23T16:00:44.205Z"
   },
   {
    "duration": 24,
    "start_time": "2021-09-23T16:00:47.439Z"
   },
   {
    "duration": 9,
    "start_time": "2021-09-23T16:10:54.650Z"
   },
   {
    "duration": 8,
    "start_time": "2021-09-23T16:11:03.725Z"
   },
   {
    "duration": 9,
    "start_time": "2021-09-23T16:11:20.648Z"
   },
   {
    "duration": 10,
    "start_time": "2021-09-23T16:11:55.150Z"
   },
   {
    "duration": 359,
    "start_time": "2021-09-23T16:12:22.704Z"
   },
   {
    "duration": 9,
    "start_time": "2021-09-23T16:15:33.803Z"
   },
   {
    "duration": 9,
    "start_time": "2021-09-23T16:15:42.228Z"
   },
   {
    "duration": 10,
    "start_time": "2021-09-23T16:16:01.943Z"
   },
   {
    "duration": 11,
    "start_time": "2021-09-23T16:16:21.050Z"
   },
   {
    "duration": 13,
    "start_time": "2021-09-23T16:16:35.661Z"
   },
   {
    "duration": 19,
    "start_time": "2021-09-23T16:16:54.498Z"
   },
   {
    "duration": 10,
    "start_time": "2021-09-23T16:18:04.283Z"
   },
   {
    "duration": 15,
    "start_time": "2021-09-23T16:19:22.299Z"
   },
   {
    "duration": 104,
    "start_time": "2021-09-23T16:19:54.443Z"
   },
   {
    "duration": 13,
    "start_time": "2021-09-23T16:20:08.957Z"
   },
   {
    "duration": 7,
    "start_time": "2021-09-23T16:20:25.354Z"
   },
   {
    "duration": 9,
    "start_time": "2021-09-23T16:20:27.680Z"
   },
   {
    "duration": 9,
    "start_time": "2021-09-23T16:21:07.550Z"
   },
   {
    "duration": 8,
    "start_time": "2021-09-23T16:21:20.305Z"
   },
   {
    "duration": 9,
    "start_time": "2021-09-23T16:21:31.109Z"
   },
   {
    "duration": 9,
    "start_time": "2021-09-23T16:22:29.031Z"
   },
   {
    "duration": 85,
    "start_time": "2021-09-23T16:26:20.104Z"
   },
   {
    "duration": 269,
    "start_time": "2021-09-23T16:27:39.367Z"
   },
   {
    "duration": 4,
    "start_time": "2021-09-23T16:28:10.708Z"
   },
   {
    "duration": 3,
    "start_time": "2021-09-23T16:28:13.229Z"
   },
   {
    "duration": 569,
    "start_time": "2021-09-23T16:30:04.666Z"
   },
   {
    "duration": 623,
    "start_time": "2021-09-23T16:30:49.842Z"
   },
   {
    "duration": 1408,
    "start_time": "2021-09-23T16:30:59.484Z"
   },
   {
    "duration": 1402,
    "start_time": "2021-09-23T16:31:13.620Z"
   },
   {
    "duration": 1560,
    "start_time": "2021-09-23T16:32:23.768Z"
   },
   {
    "duration": 1627,
    "start_time": "2021-09-23T16:34:20.130Z"
   },
   {
    "duration": 1383,
    "start_time": "2021-09-23T16:34:38.137Z"
   },
   {
    "duration": 1273,
    "start_time": "2021-09-23T16:34:57.135Z"
   },
   {
    "duration": 1213,
    "start_time": "2021-09-23T16:35:10.065Z"
   },
   {
    "duration": 1492,
    "start_time": "2021-09-23T16:35:36.207Z"
   },
   {
    "duration": 1422,
    "start_time": "2021-09-23T16:36:17.389Z"
   },
   {
    "duration": 148,
    "start_time": "2021-09-23T16:37:18.665Z"
   },
   {
    "duration": 1420,
    "start_time": "2021-09-23T16:37:44.686Z"
   },
   {
    "duration": 1607,
    "start_time": "2021-09-23T16:38:14.481Z"
   },
   {
    "duration": 1517,
    "start_time": "2021-09-23T16:38:30.804Z"
   },
   {
    "duration": 1526,
    "start_time": "2021-09-23T16:38:48.790Z"
   },
   {
    "duration": 1579,
    "start_time": "2021-09-23T16:39:04.135Z"
   },
   {
    "duration": 1544,
    "start_time": "2021-09-23T16:39:22.047Z"
   },
   {
    "duration": 807,
    "start_time": "2021-09-23T16:41:35.682Z"
   },
   {
    "duration": 678,
    "start_time": "2021-09-23T16:41:44.024Z"
   },
   {
    "duration": 3,
    "start_time": "2021-09-23T16:43:26.531Z"
   },
   {
    "duration": 39,
    "start_time": "2021-09-23T16:43:26.536Z"
   },
   {
    "duration": 71,
    "start_time": "2021-09-23T16:43:26.577Z"
   },
   {
    "duration": 2,
    "start_time": "2021-09-23T16:43:26.650Z"
   },
   {
    "duration": 9,
    "start_time": "2021-09-23T16:43:26.654Z"
   },
   {
    "duration": 17,
    "start_time": "2021-09-23T16:43:26.665Z"
   },
   {
    "duration": 6,
    "start_time": "2021-09-23T16:43:26.683Z"
   },
   {
    "duration": 6,
    "start_time": "2021-09-23T16:43:26.691Z"
   },
   {
    "duration": 48,
    "start_time": "2021-09-23T16:43:26.700Z"
   },
   {
    "duration": 7,
    "start_time": "2021-09-23T16:43:26.750Z"
   },
   {
    "duration": 19,
    "start_time": "2021-09-23T16:43:26.758Z"
   },
   {
    "duration": 18,
    "start_time": "2021-09-23T16:43:26.779Z"
   },
   {
    "duration": 2,
    "start_time": "2021-09-23T16:43:26.798Z"
   },
   {
    "duration": 8,
    "start_time": "2021-09-23T16:43:26.802Z"
   },
   {
    "duration": 2,
    "start_time": "2021-09-23T16:43:26.812Z"
   },
   {
    "duration": 29,
    "start_time": "2021-09-23T16:43:26.816Z"
   },
   {
    "duration": 7,
    "start_time": "2021-09-23T16:43:26.847Z"
   },
   {
    "duration": 136,
    "start_time": "2021-09-23T16:43:26.856Z"
   },
   {
    "duration": 7,
    "start_time": "2021-09-23T16:43:26.993Z"
   },
   {
    "duration": 8,
    "start_time": "2021-09-23T16:43:27.002Z"
   },
   {
    "duration": 43,
    "start_time": "2021-09-23T16:43:27.011Z"
   },
   {
    "duration": 7,
    "start_time": "2021-09-23T16:43:27.056Z"
   },
   {
    "duration": 1150,
    "start_time": "2021-09-23T16:43:27.065Z"
   },
   {
    "duration": 1562,
    "start_time": "2021-09-23T16:43:28.217Z"
   },
   {
    "duration": 7,
    "start_time": "2021-09-23T16:43:29.781Z"
   },
   {
    "duration": 2983,
    "start_time": "2021-09-23T16:43:29.789Z"
   },
   {
    "duration": 7,
    "start_time": "2021-09-23T16:43:32.775Z"
   },
   {
    "duration": 2432,
    "start_time": "2021-09-23T16:43:32.783Z"
   },
   {
    "duration": 641,
    "start_time": "2021-09-23T16:43:35.217Z"
   },
   {
    "duration": 814,
    "start_time": "2021-09-23T16:43:35.860Z"
   },
   {
    "duration": 1184,
    "start_time": "2021-09-23T16:43:36.675Z"
   },
   {
    "duration": 11,
    "start_time": "2021-09-23T16:43:37.861Z"
   },
   {
    "duration": 10,
    "start_time": "2021-09-23T16:43:37.873Z"
   },
   {
    "duration": 22,
    "start_time": "2021-09-23T16:43:37.884Z"
   },
   {
    "duration": 757,
    "start_time": "2021-09-23T16:43:37.908Z"
   },
   {
    "duration": 29,
    "start_time": "2021-09-23T16:43:38.667Z"
   },
   {
    "duration": 51,
    "start_time": "2021-09-23T16:43:38.698Z"
   },
   {
    "duration": 1781,
    "start_time": "2021-09-23T16:43:38.751Z"
   },
   {
    "duration": 15,
    "start_time": "2021-09-23T16:43:40.534Z"
   },
   {
    "duration": 10,
    "start_time": "2021-09-23T16:43:40.550Z"
   },
   {
    "duration": 21,
    "start_time": "2021-09-23T16:43:40.562Z"
   },
   {
    "duration": 30,
    "start_time": "2021-09-23T16:43:40.585Z"
   },
   {
    "duration": 13,
    "start_time": "2021-09-23T16:43:40.616Z"
   },
   {
    "duration": 31,
    "start_time": "2021-09-23T16:43:40.631Z"
   },
   {
    "duration": 828,
    "start_time": "2021-09-23T17:09:16.828Z"
   },
   {
    "duration": 6,
    "start_time": "2021-09-23T17:09:55.215Z"
   },
   {
    "duration": 1741,
    "start_time": "2021-09-23T17:09:56.094Z"
   },
   {
    "duration": 1680,
    "start_time": "2021-09-23T17:10:49.729Z"
   },
   {
    "duration": 662,
    "start_time": "2021-09-23T17:11:38.680Z"
   },
   {
    "duration": 1685,
    "start_time": "2021-09-23T17:11:51.553Z"
   },
   {
    "duration": 806,
    "start_time": "2021-09-23T17:14:57.738Z"
   },
   {
    "duration": 898,
    "start_time": "2021-09-23T17:15:10.828Z"
   },
   {
    "duration": 1012,
    "start_time": "2021-09-23T17:15:22.379Z"
   },
   {
    "duration": 946,
    "start_time": "2021-09-23T17:15:28.363Z"
   },
   {
    "duration": 1009,
    "start_time": "2021-09-23T17:15:34.658Z"
   },
   {
    "duration": 1655,
    "start_time": "2021-09-23T17:16:54.069Z"
   },
   {
    "duration": 8,
    "start_time": "2021-09-23T17:17:29.473Z"
   },
   {
    "duration": 1889,
    "start_time": "2021-09-23T17:17:51.477Z"
   },
   {
    "duration": 1115,
    "start_time": "2021-09-23T17:27:20.100Z"
   },
   {
    "duration": 1242,
    "start_time": "2021-09-23T17:28:17.962Z"
   },
   {
    "duration": 926,
    "start_time": "2021-09-23T17:29:04.664Z"
   },
   {
    "duration": 1221,
    "start_time": "2021-09-23T17:36:31.307Z"
   },
   {
    "duration": 1031,
    "start_time": "2021-09-23T17:36:38.651Z"
   },
   {
    "duration": 35,
    "start_time": "2021-09-23T17:42:05.518Z"
   },
   {
    "duration": 10,
    "start_time": "2021-09-23T17:43:07.274Z"
   },
   {
    "duration": 8,
    "start_time": "2021-09-23T17:43:48.068Z"
   },
   {
    "duration": 494,
    "start_time": "2021-09-23T17:47:31.264Z"
   },
   {
    "duration": 904,
    "start_time": "2021-09-23T17:49:54.032Z"
   },
   {
    "duration": 1360,
    "start_time": "2021-09-23T17:50:00.373Z"
   },
   {
    "duration": 10,
    "start_time": "2021-09-23T17:50:11.207Z"
   },
   {
    "duration": 7,
    "start_time": "2021-09-23T17:50:17.330Z"
   },
   {
    "duration": 7,
    "start_time": "2021-09-23T17:55:08.796Z"
   },
   {
    "duration": 87,
    "start_time": "2021-09-23T17:57:12.504Z"
   },
   {
    "duration": 755,
    "start_time": "2021-09-23T17:57:24.062Z"
   },
   {
    "duration": 6,
    "start_time": "2021-09-23T17:59:28.456Z"
   },
   {
    "duration": 7,
    "start_time": "2021-09-23T17:59:45.882Z"
   },
   {
    "duration": 6,
    "start_time": "2021-09-23T18:00:19.575Z"
   },
   {
    "duration": 7,
    "start_time": "2021-09-23T18:01:05.042Z"
   },
   {
    "duration": 636,
    "start_time": "2021-09-23T18:01:07.211Z"
   },
   {
    "duration": 696,
    "start_time": "2021-09-23T18:02:29.214Z"
   },
   {
    "duration": 353,
    "start_time": "2021-09-23T18:06:06.474Z"
   },
   {
    "duration": 7,
    "start_time": "2021-09-23T18:07:48.866Z"
   },
   {
    "duration": 8,
    "start_time": "2021-09-23T18:08:00.588Z"
   },
   {
    "duration": 8,
    "start_time": "2021-09-23T18:09:26.595Z"
   },
   {
    "duration": 427,
    "start_time": "2021-09-23T18:14:50.017Z"
   },
   {
    "duration": 313,
    "start_time": "2021-09-23T18:15:38.404Z"
   },
   {
    "duration": 19,
    "start_time": "2021-09-23T18:15:52.325Z"
   },
   {
    "duration": 20,
    "start_time": "2021-09-23T18:16:03.496Z"
   },
   {
    "duration": 21,
    "start_time": "2021-09-23T18:17:35.195Z"
   },
   {
    "duration": 28,
    "start_time": "2021-09-23T18:23:03.927Z"
   },
   {
    "duration": 30,
    "start_time": "2021-09-23T18:23:20.207Z"
   },
   {
    "duration": 9,
    "start_time": "2021-09-23T18:23:37.484Z"
   },
   {
    "duration": 10,
    "start_time": "2021-09-23T18:23:52.244Z"
   },
   {
    "duration": 10,
    "start_time": "2021-09-23T18:23:59.243Z"
   },
   {
    "duration": 8,
    "start_time": "2021-09-23T18:24:07.365Z"
   },
   {
    "duration": 10,
    "start_time": "2021-09-23T18:24:36.284Z"
   },
   {
    "duration": 3,
    "start_time": "2021-09-23T18:25:38.836Z"
   },
   {
    "duration": 37,
    "start_time": "2021-09-23T18:25:38.844Z"
   },
   {
    "duration": 72,
    "start_time": "2021-09-23T18:25:38.883Z"
   },
   {
    "duration": 3,
    "start_time": "2021-09-23T18:25:38.957Z"
   },
   {
    "duration": 11,
    "start_time": "2021-09-23T18:25:38.961Z"
   },
   {
    "duration": 16,
    "start_time": "2021-09-23T18:25:38.973Z"
   },
   {
    "duration": 6,
    "start_time": "2021-09-23T18:25:38.990Z"
   },
   {
    "duration": 8,
    "start_time": "2021-09-23T18:25:38.998Z"
   },
   {
    "duration": 43,
    "start_time": "2021-09-23T18:25:39.008Z"
   },
   {
    "duration": 7,
    "start_time": "2021-09-23T18:25:39.053Z"
   },
   {
    "duration": 25,
    "start_time": "2021-09-23T18:25:39.062Z"
   },
   {
    "duration": 15,
    "start_time": "2021-09-23T18:25:39.089Z"
   },
   {
    "duration": 2,
    "start_time": "2021-09-23T18:25:39.106Z"
   },
   {
    "duration": 14,
    "start_time": "2021-09-23T18:25:39.109Z"
   },
   {
    "duration": 10,
    "start_time": "2021-09-23T18:25:39.124Z"
   },
   {
    "duration": 6,
    "start_time": "2021-09-23T18:25:39.145Z"
   },
   {
    "duration": 13,
    "start_time": "2021-09-23T18:25:39.153Z"
   },
   {
    "duration": 120,
    "start_time": "2021-09-23T18:25:39.168Z"
   },
   {
    "duration": 7,
    "start_time": "2021-09-23T18:25:39.289Z"
   },
   {
    "duration": 7,
    "start_time": "2021-09-23T18:25:39.297Z"
   },
   {
    "duration": 44,
    "start_time": "2021-09-23T18:25:39.307Z"
   },
   {
    "duration": 8,
    "start_time": "2021-09-23T18:25:39.353Z"
   },
   {
    "duration": 1206,
    "start_time": "2021-09-23T18:25:39.362Z"
   },
   {
    "duration": 1143,
    "start_time": "2021-09-23T18:25:40.570Z"
   },
   {
    "duration": 6,
    "start_time": "2021-09-23T18:25:41.714Z"
   },
   {
    "duration": 1817,
    "start_time": "2021-09-23T18:25:41.721Z"
   },
   {
    "duration": 7,
    "start_time": "2021-09-23T18:25:43.544Z"
   },
   {
    "duration": 1799,
    "start_time": "2021-09-23T18:25:43.553Z"
   },
   {
    "duration": 11,
    "start_time": "2021-09-23T18:25:45.354Z"
   },
   {
    "duration": 20,
    "start_time": "2021-09-23T18:25:45.366Z"
   },
   {
    "duration": 498,
    "start_time": "2021-09-23T18:25:45.388Z"
   },
   {
    "duration": 803,
    "start_time": "2021-09-23T18:25:45.888Z"
   },
   {
    "duration": 1228,
    "start_time": "2021-09-23T18:25:46.693Z"
   },
   {
    "duration": 23,
    "start_time": "2021-09-23T18:25:47.923Z"
   },
   {
    "duration": 7,
    "start_time": "2021-09-23T18:25:47.948Z"
   },
   {
    "duration": 14,
    "start_time": "2021-09-23T18:25:47.956Z"
   },
   {
    "duration": 35,
    "start_time": "2021-09-23T18:25:47.972Z"
   },
   {
    "duration": 452,
    "start_time": "2021-09-23T18:25:48.009Z"
   },
   {
    "duration": 29,
    "start_time": "2021-09-23T18:25:48.463Z"
   },
   {
    "duration": 51,
    "start_time": "2021-09-23T18:25:48.494Z"
   },
   {
    "duration": 1861,
    "start_time": "2021-09-23T18:25:48.547Z"
   },
   {
    "duration": 9,
    "start_time": "2021-09-23T18:25:50.410Z"
   },
   {
    "duration": 20,
    "start_time": "2021-09-23T18:25:50.420Z"
   },
   {
    "duration": 21,
    "start_time": "2021-09-23T18:25:50.442Z"
   },
   {
    "duration": 16,
    "start_time": "2021-09-23T18:25:50.465Z"
   },
   {
    "duration": 16,
    "start_time": "2021-09-23T18:25:50.483Z"
   },
   {
    "duration": 10,
    "start_time": "2021-09-23T18:25:50.501Z"
   },
   {
    "duration": 1085,
    "start_time": "2021-09-23T18:26:34.918Z"
   },
   {
    "duration": 12,
    "start_time": "2021-09-23T18:27:24.471Z"
   },
   {
    "duration": 389,
    "start_time": "2021-09-24T16:26:23.512Z"
   },
   {
    "duration": 1492,
    "start_time": "2021-09-24T16:29:47.767Z"
   },
   {
    "duration": 49,
    "start_time": "2021-09-24T16:29:49.261Z"
   },
   {
    "duration": 124,
    "start_time": "2021-09-24T16:29:49.313Z"
   },
   {
    "duration": 5,
    "start_time": "2021-09-24T16:29:49.439Z"
   },
   {
    "duration": 36,
    "start_time": "2021-09-24T16:29:49.446Z"
   },
   {
    "duration": 32,
    "start_time": "2021-09-24T16:29:49.484Z"
   },
   {
    "duration": 15,
    "start_time": "2021-09-24T16:29:49.518Z"
   },
   {
    "duration": 23,
    "start_time": "2021-09-24T16:29:49.537Z"
   },
   {
    "duration": 38,
    "start_time": "2021-09-24T16:29:49.563Z"
   },
   {
    "duration": 16,
    "start_time": "2021-09-24T16:29:49.603Z"
   },
   {
    "duration": 54,
    "start_time": "2021-09-24T16:29:49.621Z"
   },
   {
    "duration": 26,
    "start_time": "2021-09-24T16:29:49.677Z"
   },
   {
    "duration": 2,
    "start_time": "2021-09-24T16:29:49.706Z"
   },
   {
    "duration": 44,
    "start_time": "2021-09-24T16:29:49.710Z"
   },
   {
    "duration": 34,
    "start_time": "2021-09-24T16:29:49.756Z"
   },
   {
    "duration": 31,
    "start_time": "2021-09-24T16:29:49.792Z"
   },
   {
    "duration": 25,
    "start_time": "2021-09-24T16:29:49.825Z"
   },
   {
    "duration": 206,
    "start_time": "2021-09-24T16:29:49.852Z"
   },
   {
    "duration": 11,
    "start_time": "2021-09-24T16:29:50.061Z"
   },
   {
    "duration": 15,
    "start_time": "2021-09-24T16:29:50.074Z"
   },
   {
    "duration": 53,
    "start_time": "2021-09-24T16:29:50.091Z"
   },
   {
    "duration": 13,
    "start_time": "2021-09-24T16:29:50.147Z"
   },
   {
    "duration": 1827,
    "start_time": "2021-09-24T16:29:50.166Z"
   },
   {
    "duration": 1771,
    "start_time": "2021-09-24T16:29:51.996Z"
   },
   {
    "duration": 8,
    "start_time": "2021-09-24T16:29:53.769Z"
   },
   {
    "duration": 3041,
    "start_time": "2021-09-24T16:29:53.779Z"
   },
   {
    "duration": 10,
    "start_time": "2021-09-24T16:29:56.823Z"
   },
   {
    "duration": 2897,
    "start_time": "2021-09-24T16:29:56.835Z"
   },
   {
    "duration": 12,
    "start_time": "2021-09-24T16:29:59.735Z"
   },
   {
    "duration": 13,
    "start_time": "2021-09-24T16:29:59.750Z"
   },
   {
    "duration": 839,
    "start_time": "2021-09-24T16:29:59.766Z"
   },
   {
    "duration": 1177,
    "start_time": "2021-09-24T16:30:00.607Z"
   },
   {
    "duration": 1941,
    "start_time": "2021-09-24T16:30:01.786Z"
   },
   {
    "duration": 14,
    "start_time": "2021-09-24T16:30:03.729Z"
   },
   {
    "duration": 13,
    "start_time": "2021-09-24T16:30:03.745Z"
   },
   {
    "duration": 17,
    "start_time": "2021-09-24T16:30:03.760Z"
   },
   {
    "duration": 161,
    "start_time": "2021-09-24T16:30:03.779Z"
   },
   {
    "duration": 634,
    "start_time": "2021-09-24T16:30:03.943Z"
   },
   {
    "duration": 61,
    "start_time": "2021-09-24T16:30:04.579Z"
   },
   {
    "duration": 43,
    "start_time": "2021-09-24T16:30:04.642Z"
   },
   {
    "duration": 6,
    "start_time": "2021-09-24T16:30:04.687Z"
   },
   {
    "duration": 1815,
    "start_time": "2021-09-24T16:30:04.695Z"
   },
   {
    "duration": 18,
    "start_time": "2021-09-24T16:30:06.512Z"
   },
   {
    "duration": 29,
    "start_time": "2021-09-24T16:30:06.532Z"
   },
   {
    "duration": 33,
    "start_time": "2021-09-24T16:30:06.564Z"
   },
   {
    "duration": 29,
    "start_time": "2021-09-24T16:30:06.599Z"
   },
   {
    "duration": 39,
    "start_time": "2021-09-24T16:30:06.631Z"
   },
   {
    "duration": 38,
    "start_time": "2021-09-24T16:30:06.673Z"
   },
   {
    "duration": 12,
    "start_time": "2021-09-24T16:31:52.431Z"
   },
   {
    "duration": 4,
    "start_time": "2021-09-24T16:32:25.978Z"
   },
   {
    "duration": 63,
    "start_time": "2021-09-24T16:32:25.988Z"
   },
   {
    "duration": 134,
    "start_time": "2021-09-24T16:32:26.054Z"
   },
   {
    "duration": 4,
    "start_time": "2021-09-24T16:32:26.191Z"
   },
   {
    "duration": 34,
    "start_time": "2021-09-24T16:32:26.198Z"
   },
   {
    "duration": 40,
    "start_time": "2021-09-24T16:32:26.234Z"
   },
   {
    "duration": 10,
    "start_time": "2021-09-24T16:32:26.276Z"
   },
   {
    "duration": 35,
    "start_time": "2021-09-24T16:32:26.289Z"
   },
   {
    "duration": 43,
    "start_time": "2021-09-24T16:32:26.329Z"
   },
   {
    "duration": 17,
    "start_time": "2021-09-24T16:32:26.375Z"
   },
   {
    "duration": 48,
    "start_time": "2021-09-24T16:32:26.395Z"
   },
   {
    "duration": 38,
    "start_time": "2021-09-24T16:32:26.446Z"
   },
   {
    "duration": 10,
    "start_time": "2021-09-24T16:32:26.487Z"
   },
   {
    "duration": 29,
    "start_time": "2021-09-24T16:32:26.500Z"
   },
   {
    "duration": 15,
    "start_time": "2021-09-24T16:32:26.531Z"
   },
   {
    "duration": 30,
    "start_time": "2021-09-24T16:32:26.548Z"
   },
   {
    "duration": 18,
    "start_time": "2021-09-24T16:32:26.580Z"
   },
   {
    "duration": 221,
    "start_time": "2021-09-24T16:32:26.601Z"
   },
   {
    "duration": 11,
    "start_time": "2021-09-24T16:32:26.825Z"
   },
   {
    "duration": 27,
    "start_time": "2021-09-24T16:32:26.839Z"
   },
   {
    "duration": 36,
    "start_time": "2021-09-24T16:32:26.869Z"
   },
   {
    "duration": 10,
    "start_time": "2021-09-24T16:32:26.923Z"
   },
   {
    "duration": 2889,
    "start_time": "2021-09-24T16:32:26.936Z"
   },
   {
    "duration": 1917,
    "start_time": "2021-09-24T16:32:29.830Z"
   },
   {
    "duration": 8,
    "start_time": "2021-09-24T16:32:31.750Z"
   },
   {
    "duration": 2947,
    "start_time": "2021-09-24T16:32:31.761Z"
   },
   {
    "duration": 17,
    "start_time": "2021-09-24T16:32:34.711Z"
   },
   {
    "duration": 2906,
    "start_time": "2021-09-24T16:32:34.730Z"
   },
   {
    "duration": 13,
    "start_time": "2021-09-24T16:32:37.639Z"
   },
   {
    "duration": 13,
    "start_time": "2021-09-24T16:32:37.654Z"
   },
   {
    "duration": 880,
    "start_time": "2021-09-24T16:32:37.669Z"
   },
   {
    "duration": 1152,
    "start_time": "2021-09-24T16:32:38.551Z"
   },
   {
    "duration": 1807,
    "start_time": "2021-09-24T16:32:39.706Z"
   },
   {
    "duration": 14,
    "start_time": "2021-09-24T16:32:41.523Z"
   },
   {
    "duration": 8,
    "start_time": "2021-09-24T16:32:41.540Z"
   },
   {
    "duration": 14,
    "start_time": "2021-09-24T16:32:41.551Z"
   },
   {
    "duration": 75,
    "start_time": "2021-09-24T16:32:41.568Z"
   },
   {
    "duration": 695,
    "start_time": "2021-09-24T16:32:41.646Z"
   },
   {
    "duration": 42,
    "start_time": "2021-09-24T16:32:42.343Z"
   },
   {
    "duration": 68,
    "start_time": "2021-09-24T16:32:42.388Z"
   },
   {
    "duration": 5,
    "start_time": "2021-09-24T16:32:42.458Z"
   },
   {
    "duration": 1826,
    "start_time": "2021-09-24T16:32:42.465Z"
   },
   {
    "duration": 29,
    "start_time": "2021-09-24T16:32:44.294Z"
   },
   {
    "duration": 3,
    "start_time": "2021-09-24T16:32:44.325Z"
   },
   {
    "duration": 17,
    "start_time": "2021-09-24T16:32:44.331Z"
   },
   {
    "duration": 14,
    "start_time": "2021-09-24T16:32:44.351Z"
   },
   {
    "duration": 12,
    "start_time": "2021-09-24T16:32:44.367Z"
   },
   {
    "duration": 51,
    "start_time": "2021-09-24T16:32:44.381Z"
   },
   {
    "duration": 1776,
    "start_time": "2021-09-24T16:35:55.566Z"
   },
   {
    "duration": 13,
    "start_time": "2021-09-24T16:49:29.455Z"
   },
   {
    "duration": 7,
    "start_time": "2021-09-24T16:50:04.038Z"
   },
   {
    "duration": 56,
    "start_time": "2021-09-24T16:50:04.048Z"
   },
   {
    "duration": 155,
    "start_time": "2021-09-24T16:50:04.107Z"
   },
   {
    "duration": 5,
    "start_time": "2021-09-24T16:50:04.264Z"
   },
   {
    "duration": 43,
    "start_time": "2021-09-24T16:50:04.271Z"
   },
   {
    "duration": 41,
    "start_time": "2021-09-24T16:50:04.316Z"
   },
   {
    "duration": 11,
    "start_time": "2021-09-24T16:50:04.360Z"
   },
   {
    "duration": 19,
    "start_time": "2021-09-24T16:50:04.374Z"
   },
   {
    "duration": 41,
    "start_time": "2021-09-24T16:50:04.396Z"
   },
   {
    "duration": 12,
    "start_time": "2021-09-24T16:50:04.440Z"
   },
   {
    "duration": 38,
    "start_time": "2021-09-24T16:50:04.455Z"
   },
   {
    "duration": 53,
    "start_time": "2021-09-24T16:50:04.496Z"
   },
   {
    "duration": 13,
    "start_time": "2021-09-24T16:50:04.552Z"
   },
   {
    "duration": 44,
    "start_time": "2021-09-24T16:50:04.567Z"
   },
   {
    "duration": 23,
    "start_time": "2021-09-24T16:50:04.614Z"
   },
   {
    "duration": 15,
    "start_time": "2021-09-24T16:50:04.640Z"
   },
   {
    "duration": 17,
    "start_time": "2021-09-24T16:50:04.658Z"
   },
   {
    "duration": 210,
    "start_time": "2021-09-24T16:50:04.677Z"
   },
   {
    "duration": 9,
    "start_time": "2021-09-24T16:50:04.892Z"
   },
   {
    "duration": 23,
    "start_time": "2021-09-24T16:50:04.904Z"
   },
   {
    "duration": 37,
    "start_time": "2021-09-24T16:50:04.933Z"
   },
   {
    "duration": 53,
    "start_time": "2021-09-24T16:50:04.973Z"
   },
   {
    "duration": 1938,
    "start_time": "2021-09-24T16:50:05.030Z"
   },
   {
    "duration": 1926,
    "start_time": "2021-09-24T16:50:06.970Z"
   },
   {
    "duration": 8,
    "start_time": "2021-09-24T16:50:08.899Z"
   },
   {
    "duration": 3015,
    "start_time": "2021-09-24T16:50:08.922Z"
   },
   {
    "duration": 10,
    "start_time": "2021-09-24T16:50:11.939Z"
   },
   {
    "duration": 3143,
    "start_time": "2021-09-24T16:50:11.951Z"
   },
   {
    "duration": 10,
    "start_time": "2021-09-24T16:50:15.097Z"
   },
   {
    "duration": 33,
    "start_time": "2021-09-24T16:50:15.110Z"
   },
   {
    "duration": 861,
    "start_time": "2021-09-24T16:50:15.145Z"
   },
   {
    "duration": 1234,
    "start_time": "2021-09-24T16:50:16.009Z"
   },
   {
    "duration": 2027,
    "start_time": "2021-09-24T16:50:17.246Z"
   },
   {
    "duration": 16,
    "start_time": "2021-09-24T16:50:19.276Z"
   },
   {
    "duration": 40,
    "start_time": "2021-09-24T16:50:19.294Z"
   },
   {
    "duration": 13,
    "start_time": "2021-09-24T16:50:19.337Z"
   },
   {
    "duration": 75,
    "start_time": "2021-09-24T16:50:19.353Z"
   },
   {
    "duration": 657,
    "start_time": "2021-09-24T16:50:19.432Z"
   },
   {
    "duration": 66,
    "start_time": "2021-09-24T16:50:20.091Z"
   },
   {
    "duration": 40,
    "start_time": "2021-09-24T16:50:20.159Z"
   },
   {
    "duration": 18,
    "start_time": "2021-09-24T16:50:20.226Z"
   },
   {
    "duration": 1920,
    "start_time": "2021-09-24T16:50:20.246Z"
   },
   {
    "duration": 14,
    "start_time": "2021-09-24T16:50:22.169Z"
   },
   {
    "duration": 7,
    "start_time": "2021-09-24T16:50:22.185Z"
   },
   {
    "duration": 43,
    "start_time": "2021-09-24T16:50:22.195Z"
   },
   {
    "duration": 16,
    "start_time": "2021-09-24T16:50:22.240Z"
   },
   {
    "duration": 24,
    "start_time": "2021-09-24T16:50:22.258Z"
   },
   {
    "duration": 23,
    "start_time": "2021-09-24T16:50:22.285Z"
   },
   {
    "duration": 9,
    "start_time": "2021-09-24T16:51:30.379Z"
   },
   {
    "duration": 1772,
    "start_time": "2021-09-24T16:51:35.608Z"
   },
   {
    "duration": 3,
    "start_time": "2021-09-24T17:31:08.603Z"
   },
   {
    "duration": 48,
    "start_time": "2021-09-24T17:31:08.612Z"
   },
   {
    "duration": 122,
    "start_time": "2021-09-24T17:31:08.663Z"
   },
   {
    "duration": 4,
    "start_time": "2021-09-24T17:31:08.788Z"
   },
   {
    "duration": 15,
    "start_time": "2021-09-24T17:31:08.821Z"
   },
   {
    "duration": 31,
    "start_time": "2021-09-24T17:31:08.838Z"
   },
   {
    "duration": 52,
    "start_time": "2021-09-24T17:31:08.871Z"
   },
   {
    "duration": 13,
    "start_time": "2021-09-24T17:31:08.926Z"
   },
   {
    "duration": 32,
    "start_time": "2021-09-24T17:31:08.943Z"
   },
   {
    "duration": 46,
    "start_time": "2021-09-24T17:31:08.979Z"
   },
   {
    "duration": 45,
    "start_time": "2021-09-24T17:31:09.028Z"
   },
   {
    "duration": 58,
    "start_time": "2021-09-24T17:31:09.076Z"
   },
   {
    "duration": 3,
    "start_time": "2021-09-24T17:31:09.137Z"
   },
   {
    "duration": 18,
    "start_time": "2021-09-24T17:31:09.143Z"
   },
   {
    "duration": 5,
    "start_time": "2021-09-24T17:31:09.164Z"
   },
   {
    "duration": 10,
    "start_time": "2021-09-24T17:31:09.172Z"
   },
   {
    "duration": 37,
    "start_time": "2021-09-24T17:31:09.185Z"
   },
   {
    "duration": 215,
    "start_time": "2021-09-24T17:31:09.225Z"
   },
   {
    "duration": 9,
    "start_time": "2021-09-24T17:31:09.442Z"
   },
   {
    "duration": 9,
    "start_time": "2021-09-24T17:31:09.454Z"
   },
   {
    "duration": 61,
    "start_time": "2021-09-24T17:31:09.465Z"
   },
   {
    "duration": 11,
    "start_time": "2021-09-24T17:31:09.528Z"
   },
   {
    "duration": 2686,
    "start_time": "2021-09-24T17:31:09.541Z"
   },
   {
    "duration": 1905,
    "start_time": "2021-09-24T17:31:12.232Z"
   },
   {
    "duration": 11,
    "start_time": "2021-09-24T17:31:14.141Z"
   },
   {
    "duration": 3137,
    "start_time": "2021-09-24T17:31:14.156Z"
   },
   {
    "duration": 11,
    "start_time": "2021-09-24T17:31:17.295Z"
   },
   {
    "duration": 2960,
    "start_time": "2021-09-24T17:31:17.323Z"
   },
   {
    "duration": 14,
    "start_time": "2021-09-24T17:31:20.286Z"
   },
   {
    "duration": 36,
    "start_time": "2021-09-24T17:31:20.303Z"
   },
   {
    "duration": 925,
    "start_time": "2021-09-24T17:31:20.342Z"
   },
   {
    "duration": 1397,
    "start_time": "2021-09-24T17:31:21.270Z"
   },
   {
    "duration": 1898,
    "start_time": "2021-09-24T17:31:22.671Z"
   },
   {
    "duration": 14,
    "start_time": "2021-09-24T17:31:24.571Z"
   },
   {
    "duration": 37,
    "start_time": "2021-09-24T17:31:24.587Z"
   },
   {
    "duration": 17,
    "start_time": "2021-09-24T17:31:24.626Z"
   },
   {
    "duration": 32,
    "start_time": "2021-09-24T17:31:24.645Z"
   },
   {
    "duration": 760,
    "start_time": "2021-09-24T17:31:24.680Z"
   },
   {
    "duration": 44,
    "start_time": "2021-09-24T17:31:25.442Z"
   },
   {
    "duration": 69,
    "start_time": "2021-09-24T17:31:25.488Z"
   },
   {
    "duration": 9,
    "start_time": "2021-09-24T17:31:25.559Z"
   },
   {
    "duration": 2193,
    "start_time": "2021-09-24T17:31:25.570Z"
   },
   {
    "duration": 17,
    "start_time": "2021-09-24T17:31:27.767Z"
   },
   {
    "duration": 4,
    "start_time": "2021-09-24T17:31:27.824Z"
   },
   {
    "duration": 19,
    "start_time": "2021-09-24T17:31:27.830Z"
   },
   {
    "duration": 17,
    "start_time": "2021-09-24T17:31:27.852Z"
   },
   {
    "duration": 58,
    "start_time": "2021-09-24T17:31:27.872Z"
   },
   {
    "duration": 14,
    "start_time": "2021-09-24T17:31:27.932Z"
   },
   {
    "duration": 4,
    "start_time": "2021-09-24T17:46:57.332Z"
   },
   {
    "duration": 64,
    "start_time": "2021-09-24T17:46:57.342Z"
   },
   {
    "duration": 178,
    "start_time": "2021-09-24T17:46:57.409Z"
   },
   {
    "duration": 5,
    "start_time": "2021-09-24T17:46:57.591Z"
   },
   {
    "duration": 14,
    "start_time": "2021-09-24T17:46:57.624Z"
   },
   {
    "duration": 38,
    "start_time": "2021-09-24T17:46:57.641Z"
   },
   {
    "duration": 49,
    "start_time": "2021-09-24T17:46:57.682Z"
   },
   {
    "duration": 14,
    "start_time": "2021-09-24T17:46:57.734Z"
   },
   {
    "duration": 27,
    "start_time": "2021-09-24T17:46:57.752Z"
   },
   {
    "duration": 40,
    "start_time": "2021-09-24T17:46:57.782Z"
   },
   {
    "duration": 37,
    "start_time": "2021-09-24T17:46:57.825Z"
   },
   {
    "duration": 29,
    "start_time": "2021-09-24T17:46:57.865Z"
   },
   {
    "duration": 2,
    "start_time": "2021-09-24T17:46:57.897Z"
   },
   {
    "duration": 29,
    "start_time": "2021-09-24T17:46:57.902Z"
   },
   {
    "duration": 6,
    "start_time": "2021-09-24T17:46:57.933Z"
   },
   {
    "duration": 8,
    "start_time": "2021-09-24T17:46:57.942Z"
   },
   {
    "duration": 8,
    "start_time": "2021-09-24T17:46:57.953Z"
   },
   {
    "duration": 344,
    "start_time": "2021-09-24T17:46:57.964Z"
   },
   {
    "duration": 21,
    "start_time": "2021-09-24T17:46:58.311Z"
   },
   {
    "duration": 10,
    "start_time": "2021-09-24T17:46:58.334Z"
   },
   {
    "duration": 40,
    "start_time": "2021-09-24T17:46:58.347Z"
   },
   {
    "duration": 11,
    "start_time": "2021-09-24T17:46:58.422Z"
   },
   {
    "duration": 1876,
    "start_time": "2021-09-24T17:46:58.436Z"
   },
   {
    "duration": 1790,
    "start_time": "2021-09-24T17:47:00.325Z"
   },
   {
    "duration": 10,
    "start_time": "2021-09-24T17:47:02.122Z"
   },
   {
    "duration": 2962,
    "start_time": "2021-09-24T17:47:02.134Z"
   },
   {
    "duration": 11,
    "start_time": "2021-09-24T17:47:05.098Z"
   },
   {
    "duration": 4168,
    "start_time": "2021-09-24T17:47:05.123Z"
   },
   {
    "duration": 29,
    "start_time": "2021-09-24T17:47:09.295Z"
   },
   {
    "duration": 18,
    "start_time": "2021-09-24T17:47:09.327Z"
   },
   {
    "duration": 1227,
    "start_time": "2021-09-24T17:47:09.348Z"
   },
   {
    "duration": 1341,
    "start_time": "2021-09-24T17:47:10.578Z"
   },
   {
    "duration": 1896,
    "start_time": "2021-09-24T17:47:11.921Z"
   },
   {
    "duration": 15,
    "start_time": "2021-09-24T17:47:13.823Z"
   },
   {
    "duration": 9,
    "start_time": "2021-09-24T17:47:13.840Z"
   },
   {
    "duration": 12,
    "start_time": "2021-09-24T17:47:13.851Z"
   },
   {
    "duration": 85,
    "start_time": "2021-09-24T17:47:13.865Z"
   },
   {
    "duration": 655,
    "start_time": "2021-09-24T17:47:13.953Z"
   },
   {
    "duration": 49,
    "start_time": "2021-09-24T17:47:14.611Z"
   },
   {
    "duration": 73,
    "start_time": "2021-09-24T17:47:14.663Z"
   },
   {
    "duration": 9,
    "start_time": "2021-09-24T17:47:14.739Z"
   },
   {
    "duration": 2694,
    "start_time": "2021-09-24T17:47:14.750Z"
   },
   {
    "duration": 19,
    "start_time": "2021-09-24T17:47:17.447Z"
   },
   {
    "duration": 13,
    "start_time": "2021-09-24T17:47:17.469Z"
   },
   {
    "duration": 39,
    "start_time": "2021-09-24T17:47:17.485Z"
   },
   {
    "duration": 22,
    "start_time": "2021-09-24T17:47:17.526Z"
   },
   {
    "duration": 18,
    "start_time": "2021-09-24T17:47:17.551Z"
   },
   {
    "duration": 53,
    "start_time": "2021-09-24T17:47:17.572Z"
   },
   {
    "duration": 427,
    "start_time": "2021-09-25T09:23:34.993Z"
   },
   {
    "duration": 1549,
    "start_time": "2021-09-25T09:23:38.173Z"
   },
   {
    "duration": 47,
    "start_time": "2021-09-25T09:23:39.724Z"
   },
   {
    "duration": 134,
    "start_time": "2021-09-25T09:23:39.774Z"
   },
   {
    "duration": 3,
    "start_time": "2021-09-25T09:23:39.911Z"
   },
   {
    "duration": 15,
    "start_time": "2021-09-25T09:23:39.917Z"
   },
   {
    "duration": 24,
    "start_time": "2021-09-25T09:23:39.934Z"
   },
   {
    "duration": 9,
    "start_time": "2021-09-25T09:23:39.960Z"
   },
   {
    "duration": 11,
    "start_time": "2021-09-25T09:23:39.971Z"
   },
   {
    "duration": 22,
    "start_time": "2021-09-25T09:23:39.990Z"
   },
   {
    "duration": 10,
    "start_time": "2021-09-25T09:23:40.015Z"
   },
   {
    "duration": 31,
    "start_time": "2021-09-25T09:23:40.028Z"
   },
   {
    "duration": 30,
    "start_time": "2021-09-25T09:23:40.061Z"
   },
   {
    "duration": 3,
    "start_time": "2021-09-25T09:23:40.094Z"
   },
   {
    "duration": 21,
    "start_time": "2021-09-25T09:23:40.101Z"
   },
   {
    "duration": 6,
    "start_time": "2021-09-25T09:23:40.124Z"
   },
   {
    "duration": 5,
    "start_time": "2021-09-25T09:23:40.132Z"
   },
   {
    "duration": 7,
    "start_time": "2021-09-25T09:23:40.139Z"
   },
   {
    "duration": 234,
    "start_time": "2021-09-25T09:23:40.148Z"
   },
   {
    "duration": 12,
    "start_time": "2021-09-25T09:23:40.386Z"
   },
   {
    "duration": 10,
    "start_time": "2021-09-25T09:23:40.400Z"
   },
   {
    "duration": 31,
    "start_time": "2021-09-25T09:23:40.412Z"
   },
   {
    "duration": 9,
    "start_time": "2021-09-25T09:23:40.446Z"
   },
   {
    "duration": 2496,
    "start_time": "2021-09-25T09:23:40.457Z"
   },
   {
    "duration": 1977,
    "start_time": "2021-09-25T09:23:42.955Z"
   },
   {
    "duration": 8,
    "start_time": "2021-09-25T09:23:44.934Z"
   },
   {
    "duration": 9,
    "start_time": "2021-09-25T09:23:45.098Z"
   },
   {
    "duration": 284,
    "start_time": "2021-09-25T09:23:53.722Z"
   },
   {
    "duration": 21,
    "start_time": "2021-09-25T09:25:01.226Z"
   },
   {
    "duration": 308,
    "start_time": "2021-09-25T09:25:03.777Z"
   },
   {
    "duration": 543,
    "start_time": "2021-09-25T09:25:11.818Z"
   },
   {
    "duration": 551,
    "start_time": "2021-09-25T09:29:10.514Z"
   },
   {
    "duration": 553,
    "start_time": "2021-09-25T09:29:37.762Z"
   },
   {
    "duration": 568,
    "start_time": "2021-09-25T09:29:45.336Z"
   },
   {
    "duration": 2190,
    "start_time": "2021-09-25T11:22:12.212Z"
   },
   {
    "duration": 89,
    "start_time": "2021-09-25T11:22:14.404Z"
   },
   {
    "duration": 207,
    "start_time": "2021-09-25T11:22:14.496Z"
   },
   {
    "duration": 57,
    "start_time": "2021-09-25T11:22:14.706Z"
   },
   {
    "duration": 17,
    "start_time": "2021-09-25T11:22:14.766Z"
   },
   {
    "duration": 77,
    "start_time": "2021-09-25T11:22:14.786Z"
   },
   {
    "duration": 10,
    "start_time": "2021-09-25T11:22:14.865Z"
   },
   {
    "duration": 13,
    "start_time": "2021-09-25T11:22:14.877Z"
   },
   {
    "duration": 73,
    "start_time": "2021-09-25T11:22:14.895Z"
   },
   {
    "duration": 11,
    "start_time": "2021-09-25T11:22:14.972Z"
   },
   {
    "duration": 85,
    "start_time": "2021-09-25T11:22:14.985Z"
   },
   {
    "duration": 22,
    "start_time": "2021-09-25T11:22:15.072Z"
   },
   {
    "duration": 3,
    "start_time": "2021-09-25T11:22:15.097Z"
   },
   {
    "duration": 64,
    "start_time": "2021-09-25T11:22:15.102Z"
   },
   {
    "duration": 33,
    "start_time": "2021-09-25T11:22:15.168Z"
   },
   {
    "duration": 11,
    "start_time": "2021-09-25T11:22:15.204Z"
   },
   {
    "duration": 48,
    "start_time": "2021-09-25T11:22:15.217Z"
   },
   {
    "duration": 237,
    "start_time": "2021-09-25T11:22:15.267Z"
   },
   {
    "duration": 10,
    "start_time": "2021-09-25T11:22:15.506Z"
   },
   {
    "duration": 13,
    "start_time": "2021-09-25T11:22:15.518Z"
   },
   {
    "duration": 55,
    "start_time": "2021-09-25T11:22:15.533Z"
   },
   {
    "duration": 11,
    "start_time": "2021-09-25T11:22:15.590Z"
   },
   {
    "duration": 1800,
    "start_time": "2021-09-25T11:22:15.603Z"
   },
   {
    "duration": 1952,
    "start_time": "2021-09-25T11:22:17.405Z"
   },
   {
    "duration": 7,
    "start_time": "2021-09-25T11:22:19.359Z"
   },
   {
    "duration": 634,
    "start_time": "2021-09-25T11:22:19.369Z"
   },
   {
    "duration": 616,
    "start_time": "2021-09-25T11:22:20.008Z"
   },
   {
    "duration": 3539,
    "start_time": "2021-09-25T11:22:20.628Z"
   },
   {
    "duration": 10,
    "start_time": "2021-09-25T11:22:24.170Z"
   },
   {
    "duration": 4843,
    "start_time": "2021-09-25T11:22:24.182Z"
   },
   {
    "duration": 10,
    "start_time": "2021-09-25T11:22:29.028Z"
   },
   {
    "duration": 32,
    "start_time": "2021-09-25T11:22:29.040Z"
   },
   {
    "duration": 842,
    "start_time": "2021-09-25T11:22:29.074Z"
   },
   {
    "duration": 1253,
    "start_time": "2021-09-25T11:22:29.919Z"
   },
   {
    "duration": 2092,
    "start_time": "2021-09-25T11:22:31.175Z"
   },
   {
    "duration": 14,
    "start_time": "2021-09-25T11:22:33.269Z"
   },
   {
    "duration": 8,
    "start_time": "2021-09-25T11:22:33.286Z"
   },
   {
    "duration": 12,
    "start_time": "2021-09-25T11:22:33.296Z"
   },
   {
    "duration": 80,
    "start_time": "2021-09-25T11:22:33.311Z"
   },
   {
    "duration": 646,
    "start_time": "2021-09-25T11:22:33.393Z"
   },
   {
    "duration": 54,
    "start_time": "2021-09-25T11:22:34.042Z"
   },
   {
    "duration": 68,
    "start_time": "2021-09-25T11:22:34.098Z"
   },
   {
    "duration": 10,
    "start_time": "2021-09-25T11:22:34.169Z"
   },
   {
    "duration": 2524,
    "start_time": "2021-09-25T11:22:34.181Z"
   },
   {
    "duration": 14,
    "start_time": "2021-09-25T11:22:36.763Z"
   },
   {
    "duration": 4,
    "start_time": "2021-09-25T11:22:36.779Z"
   },
   {
    "duration": 15,
    "start_time": "2021-09-25T11:22:36.785Z"
   },
   {
    "duration": 67,
    "start_time": "2021-09-25T11:22:36.802Z"
   },
   {
    "duration": 12,
    "start_time": "2021-09-25T11:22:36.872Z"
   },
   {
    "duration": 14,
    "start_time": "2021-09-25T11:22:36.886Z"
   },
   {
    "duration": 453,
    "start_time": "2021-09-25T11:23:04.256Z"
   },
   {
    "duration": 15,
    "start_time": "2021-09-25T11:23:08.359Z"
   },
   {
    "duration": 12,
    "start_time": "2021-09-25T11:23:12.522Z"
   },
   {
    "duration": 13,
    "start_time": "2021-09-25T11:24:17.548Z"
   },
   {
    "duration": 17,
    "start_time": "2021-09-25T11:24:50.443Z"
   },
   {
    "duration": 1156,
    "start_time": "2021-09-25T14:22:57.094Z"
   },
   {
    "duration": 40,
    "start_time": "2021-09-25T14:22:58.252Z"
   },
   {
    "duration": 77,
    "start_time": "2021-09-25T14:22:58.294Z"
   },
   {
    "duration": 3,
    "start_time": "2021-09-25T14:22:58.372Z"
   },
   {
    "duration": 8,
    "start_time": "2021-09-25T14:22:58.400Z"
   },
   {
    "duration": 18,
    "start_time": "2021-09-25T14:22:58.410Z"
   },
   {
    "duration": 6,
    "start_time": "2021-09-25T14:22:58.430Z"
   },
   {
    "duration": 7,
    "start_time": "2021-09-25T14:22:58.438Z"
   },
   {
    "duration": 53,
    "start_time": "2021-09-25T14:22:58.447Z"
   },
   {
    "duration": 9,
    "start_time": "2021-09-25T14:22:58.502Z"
   },
   {
    "duration": 20,
    "start_time": "2021-09-25T14:22:58.512Z"
   },
   {
    "duration": 17,
    "start_time": "2021-09-25T14:22:58.533Z"
   },
   {
    "duration": 2,
    "start_time": "2021-09-25T14:22:58.551Z"
   },
   {
    "duration": 46,
    "start_time": "2021-09-25T14:22:58.555Z"
   },
   {
    "duration": 4,
    "start_time": "2021-09-25T14:22:58.603Z"
   },
   {
    "duration": 6,
    "start_time": "2021-09-25T14:22:58.609Z"
   },
   {
    "duration": 6,
    "start_time": "2021-09-25T14:22:58.617Z"
   },
   {
    "duration": 165,
    "start_time": "2021-09-25T14:22:58.624Z"
   },
   {
    "duration": 13,
    "start_time": "2021-09-25T14:22:58.791Z"
   },
   {
    "duration": 8,
    "start_time": "2021-09-25T14:22:58.805Z"
   },
   {
    "duration": 24,
    "start_time": "2021-09-25T14:22:58.815Z"
   },
   {
    "duration": 8,
    "start_time": "2021-09-25T14:22:58.841Z"
   },
   {
    "duration": 1149,
    "start_time": "2021-09-25T14:22:58.853Z"
   },
   {
    "duration": 1144,
    "start_time": "2021-09-25T14:23:00.004Z"
   },
   {
    "duration": 7,
    "start_time": "2021-09-25T14:23:01.149Z"
   },
   {
    "duration": 374,
    "start_time": "2021-09-25T14:23:01.157Z"
   },
   {
    "duration": 366,
    "start_time": "2021-09-25T14:23:01.533Z"
   },
   {
    "duration": 1792,
    "start_time": "2021-09-25T14:23:01.901Z"
   },
   {
    "duration": 8,
    "start_time": "2021-09-25T14:23:03.699Z"
   },
   {
    "duration": 1884,
    "start_time": "2021-09-25T14:23:03.708Z"
   },
   {
    "duration": 10,
    "start_time": "2021-09-25T14:23:05.599Z"
   },
   {
    "duration": 13,
    "start_time": "2021-09-25T14:23:05.610Z"
   },
   {
    "duration": 527,
    "start_time": "2021-09-25T14:23:05.624Z"
   },
   {
    "duration": 849,
    "start_time": "2021-09-25T14:23:06.153Z"
   },
   {
    "duration": 1333,
    "start_time": "2021-09-25T14:23:07.003Z"
   },
   {
    "duration": 11,
    "start_time": "2021-09-25T14:23:08.338Z"
   },
   {
    "duration": 6,
    "start_time": "2021-09-25T14:23:08.351Z"
   },
   {
    "duration": 9,
    "start_time": "2021-09-25T14:23:08.359Z"
   },
   {
    "duration": 24,
    "start_time": "2021-09-25T14:23:08.400Z"
   },
   {
    "duration": 412,
    "start_time": "2021-09-25T14:23:08.426Z"
   },
   {
    "duration": 33,
    "start_time": "2021-09-25T14:23:08.839Z"
   },
   {
    "duration": 52,
    "start_time": "2021-09-25T14:23:08.874Z"
   },
   {
    "duration": 7,
    "start_time": "2021-09-25T14:23:08.928Z"
   },
   {
    "duration": 1331,
    "start_time": "2021-09-25T14:23:08.937Z"
   },
   {
    "duration": 12,
    "start_time": "2021-09-25T14:23:10.270Z"
   },
   {
    "duration": 17,
    "start_time": "2021-09-25T14:23:10.284Z"
   },
   {
    "duration": 17,
    "start_time": "2021-09-25T14:23:10.302Z"
   },
   {
    "duration": 21,
    "start_time": "2021-09-25T14:23:10.321Z"
   },
   {
    "duration": 9,
    "start_time": "2021-09-25T14:23:10.344Z"
   },
   {
    "duration": 14,
    "start_time": "2021-09-25T14:23:10.355Z"
   },
   {
    "duration": 13,
    "start_time": "2021-09-25T14:23:10.370Z"
   },
   {
    "duration": 8,
    "start_time": "2021-09-25T14:25:55.156Z"
   },
   {
    "duration": 9,
    "start_time": "2021-09-25T14:25:56.401Z"
   },
   {
    "duration": 10,
    "start_time": "2021-09-25T14:25:57.188Z"
   },
   {
    "duration": 11,
    "start_time": "2021-09-25T14:26:18.518Z"
   },
   {
    "duration": 10,
    "start_time": "2021-09-25T14:26:35.469Z"
   },
   {
    "duration": 10,
    "start_time": "2021-09-25T14:27:07.453Z"
   },
   {
    "duration": 11,
    "start_time": "2021-09-25T14:27:31.572Z"
   },
   {
    "duration": 67,
    "start_time": "2021-09-25T14:32:52.995Z"
   },
   {
    "duration": 3,
    "start_time": "2021-09-25T14:42:08.129Z"
   },
   {
    "duration": 38,
    "start_time": "2021-09-25T14:42:08.136Z"
   },
   {
    "duration": 69,
    "start_time": "2021-09-25T14:42:08.176Z"
   },
   {
    "duration": 3,
    "start_time": "2021-09-25T14:42:08.247Z"
   },
   {
    "duration": 33,
    "start_time": "2021-09-25T14:42:08.251Z"
   },
   {
    "duration": 21,
    "start_time": "2021-09-25T14:42:08.286Z"
   },
   {
    "duration": 6,
    "start_time": "2021-09-25T14:42:08.309Z"
   },
   {
    "duration": 7,
    "start_time": "2021-09-25T14:42:08.317Z"
   },
   {
    "duration": 14,
    "start_time": "2021-09-25T14:42:08.327Z"
   },
   {
    "duration": 8,
    "start_time": "2021-09-25T14:42:08.344Z"
   },
   {
    "duration": 51,
    "start_time": "2021-09-25T14:42:08.354Z"
   },
   {
    "duration": 19,
    "start_time": "2021-09-25T14:42:08.407Z"
   },
   {
    "duration": 3,
    "start_time": "2021-09-25T14:42:08.427Z"
   },
   {
    "duration": 16,
    "start_time": "2021-09-25T14:42:08.432Z"
   },
   {
    "duration": 5,
    "start_time": "2021-09-25T14:42:08.450Z"
   },
   {
    "duration": 41,
    "start_time": "2021-09-25T14:42:08.456Z"
   },
   {
    "duration": 28,
    "start_time": "2021-09-25T14:42:08.499Z"
   },
   {
    "duration": 163,
    "start_time": "2021-09-25T14:42:08.528Z"
   },
   {
    "duration": 7,
    "start_time": "2021-09-25T14:42:08.700Z"
   },
   {
    "duration": 6,
    "start_time": "2021-09-25T14:42:08.708Z"
   },
   {
    "duration": 21,
    "start_time": "2021-09-25T14:42:08.716Z"
   },
   {
    "duration": 7,
    "start_time": "2021-09-25T14:42:08.738Z"
   },
   {
    "duration": 1226,
    "start_time": "2021-09-25T14:42:08.747Z"
   },
   {
    "duration": 1059,
    "start_time": "2021-09-25T14:42:09.976Z"
   },
   {
    "duration": 7,
    "start_time": "2021-09-25T14:42:11.037Z"
   },
   {
    "duration": 348,
    "start_time": "2021-09-25T14:42:11.045Z"
   },
   {
    "duration": 357,
    "start_time": "2021-09-25T14:42:11.399Z"
   },
   {
    "duration": 1728,
    "start_time": "2021-09-25T14:42:11.758Z"
   },
   {
    "duration": 13,
    "start_time": "2021-09-25T14:42:13.488Z"
   },
   {
    "duration": 1823,
    "start_time": "2021-09-25T14:42:13.502Z"
   },
   {
    "duration": 8,
    "start_time": "2021-09-25T14:42:15.326Z"
   },
   {
    "duration": 11,
    "start_time": "2021-09-25T14:42:15.335Z"
   },
   {
    "duration": 513,
    "start_time": "2021-09-25T14:42:15.347Z"
   },
   {
    "duration": 996,
    "start_time": "2021-09-25T14:42:15.862Z"
   },
   {
    "duration": 1271,
    "start_time": "2021-09-25T14:42:16.860Z"
   },
   {
    "duration": 12,
    "start_time": "2021-09-25T14:42:18.132Z"
   },
   {
    "duration": 7,
    "start_time": "2021-09-25T14:42:18.145Z"
   },
   {
    "duration": 8,
    "start_time": "2021-09-25T14:42:18.153Z"
   },
   {
    "duration": 48,
    "start_time": "2021-09-25T14:42:18.163Z"
   },
   {
    "duration": 397,
    "start_time": "2021-09-25T14:42:18.213Z"
   },
   {
    "duration": 32,
    "start_time": "2021-09-25T14:42:18.612Z"
   },
   {
    "duration": 60,
    "start_time": "2021-09-25T14:42:18.646Z"
   },
   {
    "duration": 6,
    "start_time": "2021-09-25T14:42:18.708Z"
   },
   {
    "duration": 1221,
    "start_time": "2021-09-25T14:42:18.716Z"
   },
   {
    "duration": 10,
    "start_time": "2021-09-25T14:42:19.938Z"
   },
   {
    "duration": 9,
    "start_time": "2021-09-25T14:42:19.949Z"
   },
   {
    "duration": 4,
    "start_time": "2021-09-25T14:42:19.960Z"
   },
   {
    "duration": 10,
    "start_time": "2021-09-25T14:42:19.965Z"
   },
   {
    "duration": 29,
    "start_time": "2021-09-25T14:42:19.977Z"
   },
   {
    "duration": 9,
    "start_time": "2021-09-25T14:42:20.009Z"
   },
   {
    "duration": 14,
    "start_time": "2021-09-25T14:42:20.020Z"
   },
   {
    "duration": 8,
    "start_time": "2021-09-25T14:42:20.036Z"
   }
  ],
  "kernelspec": {
   "display_name": "Python 3",
   "language": "python",
   "name": "python3"
  },
  "language_info": {
   "codemirror_mode": {
    "name": "ipython",
    "version": 3
   },
   "file_extension": ".py",
   "mimetype": "text/x-python",
   "name": "python",
   "nbconvert_exporter": "python",
   "pygments_lexer": "ipython3",
   "version": "3.8.8"
  },
  "toc": {
   "base_numbering": 1,
   "nav_menu": {
    "height": "235px",
    "width": "340px"
   },
   "number_sections": true,
   "sideBar": true,
   "skip_h1_title": true,
   "title_cell": "Table of Contents",
   "title_sidebar": "Contents",
   "toc_cell": false,
   "toc_position": {
    "height": "calc(100% - 180px)",
    "left": "10px",
    "top": "150px",
    "width": "234px"
   },
   "toc_section_display": true,
   "toc_window_display": true
  }
 },
 "nbformat": 4,
 "nbformat_minor": 2
}
