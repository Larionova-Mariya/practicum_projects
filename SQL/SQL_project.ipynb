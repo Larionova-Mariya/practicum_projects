{
 "cells": [
  {
   "cell_type": "markdown",
   "id": "b6ef7f51",
   "metadata": {},
   "source": [
    "# Анализ базы данных сервиса для чтения книг по подписке с помощью SQL"
   ]
  },
  {
   "cell_type": "markdown",
   "id": "fefe19dc",
   "metadata": {},
   "source": [
    "Цель: анализ базы данных.\n",
    "\n",
    "Задачи:\n",
    "- посчитать, сколько книг вышло после 1 января 2000 года;\n",
    "- для каждой книги посчитать количество обзоров и среднюю оценку;\n",
    "- определить издательство, которое выпустило наибольшее число книг толще 50 страниц;\n",
    "- определить автора с самой высокой средней оценкой книг, учитывая только книги с 50 и более оценками;\n",
    "- посчитать среднее количество обзоров от пользователей, которые поставили больше 50 оценок."
   ]
  },
  {
   "cell_type": "code",
   "execution_count": 1,
   "id": "6da3735f",
   "metadata": {},
   "outputs": [],
   "source": [
    "# импортируем библиотеки\n",
    "import pandas as pd\n",
    "from sqlalchemy import create_engine\n",
    "# устанавливаем параметры\n",
    "db_config = {'user': , # имя пользователя\n",
    " 'pwd': , # пароль\n",
    " 'host': ,\n",
    " 'port': , # порт подключения\n",
    " 'db': } # название базы данных\n",
    "connection_string = 'postgresql://{}:{}@{}:{}/{}'.format(db_config['user'],\n",
    " db_config['pwd'],\n",
    " db_config['host'],\n",
    " db_config['port'],\n",
    " db_config['db'])\n",
    "# сохраняем коннектор\n",
    "engine = create_engine(connection_string, connect_args={'sslmode':'require'}) "
   ]
  },
  {
   "cell_type": "code",
   "execution_count": 2,
   "id": "b0f5dcb8",
   "metadata": {},
   "outputs": [],
   "source": [
    "books_query = '''SELECT * FROM books'''\n",
    "authors_query = '''SELECT * FROM authors'''\n",
    "publishers_query = '''SELECT * FROM publishers'''\n",
    "ratings_query = '''SELECT * FROM ratings'''\n",
    "reviews_query = '''SELECT * FROM reviews'''"
   ]
  },
  {
   "cell_type": "code",
   "execution_count": 3,
   "id": "c29d3749",
   "metadata": {
    "scrolled": false
   },
   "outputs": [
    {
     "data": {
      "text/html": [
       "<div>\n",
       "<style scoped>\n",
       "    .dataframe tbody tr th:only-of-type {\n",
       "        vertical-align: middle;\n",
       "    }\n",
       "\n",
       "    .dataframe tbody tr th {\n",
       "        vertical-align: top;\n",
       "    }\n",
       "\n",
       "    .dataframe thead th {\n",
       "        text-align: right;\n",
       "    }\n",
       "</style>\n",
       "<table border=\"1\" class=\"dataframe\">\n",
       "  <thead>\n",
       "    <tr style=\"text-align: right;\">\n",
       "      <th></th>\n",
       "      <th>book_id</th>\n",
       "      <th>author_id</th>\n",
       "      <th>title</th>\n",
       "      <th>num_pages</th>\n",
       "      <th>publication_date</th>\n",
       "      <th>publisher_id</th>\n",
       "    </tr>\n",
       "  </thead>\n",
       "  <tbody>\n",
       "    <tr>\n",
       "      <th>0</th>\n",
       "      <td>1</td>\n",
       "      <td>546</td>\n",
       "      <td>'Salem's Lot</td>\n",
       "      <td>594</td>\n",
       "      <td>2005-11-01</td>\n",
       "      <td>93</td>\n",
       "    </tr>\n",
       "  </tbody>\n",
       "</table>\n",
       "</div>"
      ],
      "text/plain": [
       "   book_id  author_id         title  num_pages publication_date  publisher_id\n",
       "0        1        546  'Salem's Lot        594       2005-11-01            93"
      ]
     },
     "metadata": {},
     "output_type": "display_data"
    },
    {
     "name": "stdout",
     "output_type": "stream",
     "text": [
      "<class 'pandas.core.frame.DataFrame'>\n",
      "RangeIndex: 1000 entries, 0 to 999\n",
      "Data columns (total 6 columns):\n",
      " #   Column            Non-Null Count  Dtype \n",
      "---  ------            --------------  ----- \n",
      " 0   book_id           1000 non-null   int64 \n",
      " 1   author_id         1000 non-null   int64 \n",
      " 2   title             1000 non-null   object\n",
      " 3   num_pages         1000 non-null   int64 \n",
      " 4   publication_date  1000 non-null   object\n",
      " 5   publisher_id      1000 non-null   int64 \n",
      "dtypes: int64(4), object(2)\n",
      "memory usage: 47.0+ KB\n"
     ]
    },
    {
     "data": {
      "text/plain": [
       "None"
      ]
     },
     "metadata": {},
     "output_type": "display_data"
    },
    {
     "data": {
      "text/html": [
       "<div>\n",
       "<style scoped>\n",
       "    .dataframe tbody tr th:only-of-type {\n",
       "        vertical-align: middle;\n",
       "    }\n",
       "\n",
       "    .dataframe tbody tr th {\n",
       "        vertical-align: top;\n",
       "    }\n",
       "\n",
       "    .dataframe thead th {\n",
       "        text-align: right;\n",
       "    }\n",
       "</style>\n",
       "<table border=\"1\" class=\"dataframe\">\n",
       "  <thead>\n",
       "    <tr style=\"text-align: right;\">\n",
       "      <th></th>\n",
       "      <th>author_id</th>\n",
       "      <th>author</th>\n",
       "    </tr>\n",
       "  </thead>\n",
       "  <tbody>\n",
       "    <tr>\n",
       "      <th>0</th>\n",
       "      <td>1</td>\n",
       "      <td>A.S. Byatt</td>\n",
       "    </tr>\n",
       "  </tbody>\n",
       "</table>\n",
       "</div>"
      ],
      "text/plain": [
       "   author_id      author\n",
       "0          1  A.S. Byatt"
      ]
     },
     "metadata": {},
     "output_type": "display_data"
    },
    {
     "name": "stdout",
     "output_type": "stream",
     "text": [
      "<class 'pandas.core.frame.DataFrame'>\n",
      "RangeIndex: 636 entries, 0 to 635\n",
      "Data columns (total 2 columns):\n",
      " #   Column     Non-Null Count  Dtype \n",
      "---  ------     --------------  ----- \n",
      " 0   author_id  636 non-null    int64 \n",
      " 1   author     636 non-null    object\n",
      "dtypes: int64(1), object(1)\n",
      "memory usage: 10.1+ KB\n"
     ]
    },
    {
     "data": {
      "text/plain": [
       "None"
      ]
     },
     "metadata": {},
     "output_type": "display_data"
    },
    {
     "data": {
      "text/html": [
       "<div>\n",
       "<style scoped>\n",
       "    .dataframe tbody tr th:only-of-type {\n",
       "        vertical-align: middle;\n",
       "    }\n",
       "\n",
       "    .dataframe tbody tr th {\n",
       "        vertical-align: top;\n",
       "    }\n",
       "\n",
       "    .dataframe thead th {\n",
       "        text-align: right;\n",
       "    }\n",
       "</style>\n",
       "<table border=\"1\" class=\"dataframe\">\n",
       "  <thead>\n",
       "    <tr style=\"text-align: right;\">\n",
       "      <th></th>\n",
       "      <th>publisher_id</th>\n",
       "      <th>publisher</th>\n",
       "    </tr>\n",
       "  </thead>\n",
       "  <tbody>\n",
       "    <tr>\n",
       "      <th>0</th>\n",
       "      <td>1</td>\n",
       "      <td>Ace</td>\n",
       "    </tr>\n",
       "  </tbody>\n",
       "</table>\n",
       "</div>"
      ],
      "text/plain": [
       "   publisher_id publisher\n",
       "0             1       Ace"
      ]
     },
     "metadata": {},
     "output_type": "display_data"
    },
    {
     "name": "stdout",
     "output_type": "stream",
     "text": [
      "<class 'pandas.core.frame.DataFrame'>\n",
      "RangeIndex: 340 entries, 0 to 339\n",
      "Data columns (total 2 columns):\n",
      " #   Column        Non-Null Count  Dtype \n",
      "---  ------        --------------  ----- \n",
      " 0   publisher_id  340 non-null    int64 \n",
      " 1   publisher     340 non-null    object\n",
      "dtypes: int64(1), object(1)\n",
      "memory usage: 5.4+ KB\n"
     ]
    },
    {
     "data": {
      "text/plain": [
       "None"
      ]
     },
     "metadata": {},
     "output_type": "display_data"
    },
    {
     "data": {
      "text/html": [
       "<div>\n",
       "<style scoped>\n",
       "    .dataframe tbody tr th:only-of-type {\n",
       "        vertical-align: middle;\n",
       "    }\n",
       "\n",
       "    .dataframe tbody tr th {\n",
       "        vertical-align: top;\n",
       "    }\n",
       "\n",
       "    .dataframe thead th {\n",
       "        text-align: right;\n",
       "    }\n",
       "</style>\n",
       "<table border=\"1\" class=\"dataframe\">\n",
       "  <thead>\n",
       "    <tr style=\"text-align: right;\">\n",
       "      <th></th>\n",
       "      <th>rating_id</th>\n",
       "      <th>book_id</th>\n",
       "      <th>username</th>\n",
       "      <th>rating</th>\n",
       "    </tr>\n",
       "  </thead>\n",
       "  <tbody>\n",
       "    <tr>\n",
       "      <th>0</th>\n",
       "      <td>1</td>\n",
       "      <td>1</td>\n",
       "      <td>ryanfranco</td>\n",
       "      <td>4</td>\n",
       "    </tr>\n",
       "  </tbody>\n",
       "</table>\n",
       "</div>"
      ],
      "text/plain": [
       "   rating_id  book_id    username  rating\n",
       "0          1        1  ryanfranco       4"
      ]
     },
     "metadata": {},
     "output_type": "display_data"
    },
    {
     "name": "stdout",
     "output_type": "stream",
     "text": [
      "<class 'pandas.core.frame.DataFrame'>\n",
      "RangeIndex: 6456 entries, 0 to 6455\n",
      "Data columns (total 4 columns):\n",
      " #   Column     Non-Null Count  Dtype \n",
      "---  ------     --------------  ----- \n",
      " 0   rating_id  6456 non-null   int64 \n",
      " 1   book_id    6456 non-null   int64 \n",
      " 2   username   6456 non-null   object\n",
      " 3   rating     6456 non-null   int64 \n",
      "dtypes: int64(3), object(1)\n",
      "memory usage: 201.9+ KB\n"
     ]
    },
    {
     "data": {
      "text/plain": [
       "None"
      ]
     },
     "metadata": {},
     "output_type": "display_data"
    },
    {
     "data": {
      "text/html": [
       "<div>\n",
       "<style scoped>\n",
       "    .dataframe tbody tr th:only-of-type {\n",
       "        vertical-align: middle;\n",
       "    }\n",
       "\n",
       "    .dataframe tbody tr th {\n",
       "        vertical-align: top;\n",
       "    }\n",
       "\n",
       "    .dataframe thead th {\n",
       "        text-align: right;\n",
       "    }\n",
       "</style>\n",
       "<table border=\"1\" class=\"dataframe\">\n",
       "  <thead>\n",
       "    <tr style=\"text-align: right;\">\n",
       "      <th></th>\n",
       "      <th>review_id</th>\n",
       "      <th>book_id</th>\n",
       "      <th>username</th>\n",
       "      <th>text</th>\n",
       "    </tr>\n",
       "  </thead>\n",
       "  <tbody>\n",
       "    <tr>\n",
       "      <th>0</th>\n",
       "      <td>1</td>\n",
       "      <td>1</td>\n",
       "      <td>brandtandrea</td>\n",
       "      <td>Mention society tell send professor analysis. ...</td>\n",
       "    </tr>\n",
       "  </tbody>\n",
       "</table>\n",
       "</div>"
      ],
      "text/plain": [
       "   review_id  book_id      username  \\\n",
       "0          1        1  brandtandrea   \n",
       "\n",
       "                                                text  \n",
       "0  Mention society tell send professor analysis. ...  "
      ]
     },
     "metadata": {},
     "output_type": "display_data"
    },
    {
     "name": "stdout",
     "output_type": "stream",
     "text": [
      "<class 'pandas.core.frame.DataFrame'>\n",
      "RangeIndex: 2793 entries, 0 to 2792\n",
      "Data columns (total 4 columns):\n",
      " #   Column     Non-Null Count  Dtype \n",
      "---  ------     --------------  ----- \n",
      " 0   review_id  2793 non-null   int64 \n",
      " 1   book_id    2793 non-null   int64 \n",
      " 2   username   2793 non-null   object\n",
      " 3   text       2793 non-null   object\n",
      "dtypes: int64(2), object(2)\n",
      "memory usage: 87.4+ KB\n"
     ]
    },
    {
     "data": {
      "text/plain": [
       "None"
      ]
     },
     "metadata": {},
     "output_type": "display_data"
    }
   ],
   "source": [
    "for i in [books_query, authors_query, publishers_query, ratings_query, reviews_query]:\n",
    "    display(pd.io.sql.read_sql(i, con = engine).head(1))\n",
    "    display(pd.io.sql.read_sql(i, con = engine).info())"
   ]
  },
  {
   "cell_type": "code",
   "execution_count": 4,
   "id": "d8a22579",
   "metadata": {},
   "outputs": [],
   "source": [
    "query_1 = '''SELECT COUNT(DISTINCT book_id)\n",
    "             FROM books\n",
    "             WHERE publication_date > '2000-01-01'\n",
    "          '''"
   ]
  },
  {
   "cell_type": "code",
   "execution_count": 5,
   "id": "4d8a4894",
   "metadata": {},
   "outputs": [
    {
     "data": {
      "text/html": [
       "<div>\n",
       "<style scoped>\n",
       "    .dataframe tbody tr th:only-of-type {\n",
       "        vertical-align: middle;\n",
       "    }\n",
       "\n",
       "    .dataframe tbody tr th {\n",
       "        vertical-align: top;\n",
       "    }\n",
       "\n",
       "    .dataframe thead th {\n",
       "        text-align: right;\n",
       "    }\n",
       "</style>\n",
       "<table border=\"1\" class=\"dataframe\">\n",
       "  <thead>\n",
       "    <tr style=\"text-align: right;\">\n",
       "      <th></th>\n",
       "      <th>count</th>\n",
       "    </tr>\n",
       "  </thead>\n",
       "  <tbody>\n",
       "    <tr>\n",
       "      <th>0</th>\n",
       "      <td>819</td>\n",
       "    </tr>\n",
       "  </tbody>\n",
       "</table>\n",
       "</div>"
      ],
      "text/plain": [
       "   count\n",
       "0    819"
      ]
     },
     "execution_count": 5,
     "metadata": {},
     "output_type": "execute_result"
    }
   ],
   "source": [
    "pd.io.sql.read_sql(query_1, con = engine) "
   ]
  },
  {
   "cell_type": "markdown",
   "id": "5defbec0",
   "metadata": {},
   "source": [
    "После 1 января 2000 года вышло 819 книг."
   ]
  },
  {
   "cell_type": "code",
   "execution_count": 6,
   "id": "bc5e00ba",
   "metadata": {},
   "outputs": [],
   "source": [
    "query_2 = '''SELECT books.book_id, books.title,\n",
    "             COUNT(DISTINCT reviews.review_id) AS reviews,\n",
    "             AVG(ratings.rating) AS avg_rating\n",
    "             FROM\n",
    "             books\n",
    "             LEFT JOIN reviews ON reviews.book_id = books.book_id\n",
    "             LEFT JOIN ratings ON ratings.book_id = books.book_id\n",
    "             GROUP BY books.book_id\n",
    "             ORDER BY avg_rating DESC, reviews DESC\n",
    "             '''"
   ]
  },
  {
   "cell_type": "code",
   "execution_count": 7,
   "id": "3e6d1ace",
   "metadata": {
    "scrolled": false
   },
   "outputs": [
    {
     "data": {
      "text/html": [
       "<div>\n",
       "<style scoped>\n",
       "    .dataframe tbody tr th:only-of-type {\n",
       "        vertical-align: middle;\n",
       "    }\n",
       "\n",
       "    .dataframe tbody tr th {\n",
       "        vertical-align: top;\n",
       "    }\n",
       "\n",
       "    .dataframe thead th {\n",
       "        text-align: right;\n",
       "    }\n",
       "</style>\n",
       "<table border=\"1\" class=\"dataframe\">\n",
       "  <thead>\n",
       "    <tr style=\"text-align: right;\">\n",
       "      <th></th>\n",
       "      <th>book_id</th>\n",
       "      <th>title</th>\n",
       "      <th>reviews</th>\n",
       "      <th>avg_rating</th>\n",
       "    </tr>\n",
       "  </thead>\n",
       "  <tbody>\n",
       "    <tr>\n",
       "      <th>0</th>\n",
       "      <td>17</td>\n",
       "      <td>A Dirty Job (Grim Reaper  #1)</td>\n",
       "      <td>4</td>\n",
       "      <td>5.00</td>\n",
       "    </tr>\n",
       "    <tr>\n",
       "      <th>1</th>\n",
       "      <td>553</td>\n",
       "      <td>School's Out—Forever (Maximum Ride  #2)</td>\n",
       "      <td>3</td>\n",
       "      <td>5.00</td>\n",
       "    </tr>\n",
       "    <tr>\n",
       "      <th>2</th>\n",
       "      <td>444</td>\n",
       "      <td>Moneyball: The Art of Winning an Unfair Game</td>\n",
       "      <td>3</td>\n",
       "      <td>5.00</td>\n",
       "    </tr>\n",
       "    <tr>\n",
       "      <th>3</th>\n",
       "      <td>86</td>\n",
       "      <td>Arrows of the Queen (Heralds of Valdemar  #1)</td>\n",
       "      <td>2</td>\n",
       "      <td>5.00</td>\n",
       "    </tr>\n",
       "    <tr>\n",
       "      <th>4</th>\n",
       "      <td>972</td>\n",
       "      <td>Wherever You Go  There You Are: Mindfulness Me...</td>\n",
       "      <td>2</td>\n",
       "      <td>5.00</td>\n",
       "    </tr>\n",
       "    <tr>\n",
       "      <th>...</th>\n",
       "      <td>...</td>\n",
       "      <td>...</td>\n",
       "      <td>...</td>\n",
       "      <td>...</td>\n",
       "    </tr>\n",
       "    <tr>\n",
       "      <th>995</th>\n",
       "      <td>915</td>\n",
       "      <td>The World Is Flat: A Brief History of the Twen...</td>\n",
       "      <td>3</td>\n",
       "      <td>2.25</td>\n",
       "    </tr>\n",
       "    <tr>\n",
       "      <th>996</th>\n",
       "      <td>202</td>\n",
       "      <td>Drowning Ruth</td>\n",
       "      <td>3</td>\n",
       "      <td>2.00</td>\n",
       "    </tr>\n",
       "    <tr>\n",
       "      <th>997</th>\n",
       "      <td>316</td>\n",
       "      <td>His Excellency: George Washington</td>\n",
       "      <td>2</td>\n",
       "      <td>2.00</td>\n",
       "    </tr>\n",
       "    <tr>\n",
       "      <th>998</th>\n",
       "      <td>371</td>\n",
       "      <td>Junky</td>\n",
       "      <td>2</td>\n",
       "      <td>2.00</td>\n",
       "    </tr>\n",
       "    <tr>\n",
       "      <th>999</th>\n",
       "      <td>303</td>\n",
       "      <td>Harvesting the Heart</td>\n",
       "      <td>2</td>\n",
       "      <td>1.50</td>\n",
       "    </tr>\n",
       "  </tbody>\n",
       "</table>\n",
       "<p>1000 rows × 4 columns</p>\n",
       "</div>"
      ],
      "text/plain": [
       "     book_id                                              title  reviews  \\\n",
       "0         17                      A Dirty Job (Grim Reaper  #1)        4   \n",
       "1        553            School's Out—Forever (Maximum Ride  #2)        3   \n",
       "2        444       Moneyball: The Art of Winning an Unfair Game        3   \n",
       "3         86      Arrows of the Queen (Heralds of Valdemar  #1)        2   \n",
       "4        972  Wherever You Go  There You Are: Mindfulness Me...        2   \n",
       "..       ...                                                ...      ...   \n",
       "995      915  The World Is Flat: A Brief History of the Twen...        3   \n",
       "996      202                                      Drowning Ruth        3   \n",
       "997      316                  His Excellency: George Washington        2   \n",
       "998      371                                              Junky        2   \n",
       "999      303                               Harvesting the Heart        2   \n",
       "\n",
       "     avg_rating  \n",
       "0          5.00  \n",
       "1          5.00  \n",
       "2          5.00  \n",
       "3          5.00  \n",
       "4          5.00  \n",
       "..          ...  \n",
       "995        2.25  \n",
       "996        2.00  \n",
       "997        2.00  \n",
       "998        2.00  \n",
       "999        1.50  \n",
       "\n",
       "[1000 rows x 4 columns]"
      ]
     },
     "execution_count": 7,
     "metadata": {},
     "output_type": "execute_result"
    }
   ],
   "source": [
    "pd.io.sql.read_sql(query_2, con = engine)"
   ]
  },
  {
   "cell_type": "markdown",
   "id": "c210f8b1",
   "metadata": {},
   "source": [
    "Для каждой книги подсчитаны количество обзоров и средняя оценка."
   ]
  },
  {
   "cell_type": "code",
   "execution_count": 8,
   "id": "66b91a7b",
   "metadata": {},
   "outputs": [],
   "source": [
    "query_3 = '''SELECT COUNT(books.book_id) AS count,\n",
    "             publishers.publisher\n",
    "             FROM\n",
    "             books\n",
    "             INNER JOIN publishers ON publishers.publisher_id = books.publisher_id\n",
    "             WHERE books.num_pages > 50\n",
    "             GROUP BY books.publisher_id, publishers.publisher\n",
    "             ORDER BY count DESC\n",
    "             LIMIT 1\n",
    "             '''"
   ]
  },
  {
   "cell_type": "code",
   "execution_count": 9,
   "id": "01592664",
   "metadata": {
    "scrolled": true
   },
   "outputs": [
    {
     "data": {
      "text/html": [
       "<div>\n",
       "<style scoped>\n",
       "    .dataframe tbody tr th:only-of-type {\n",
       "        vertical-align: middle;\n",
       "    }\n",
       "\n",
       "    .dataframe tbody tr th {\n",
       "        vertical-align: top;\n",
       "    }\n",
       "\n",
       "    .dataframe thead th {\n",
       "        text-align: right;\n",
       "    }\n",
       "</style>\n",
       "<table border=\"1\" class=\"dataframe\">\n",
       "  <thead>\n",
       "    <tr style=\"text-align: right;\">\n",
       "      <th></th>\n",
       "      <th>count</th>\n",
       "      <th>publisher</th>\n",
       "    </tr>\n",
       "  </thead>\n",
       "  <tbody>\n",
       "    <tr>\n",
       "      <th>0</th>\n",
       "      <td>42</td>\n",
       "      <td>Penguin Books</td>\n",
       "    </tr>\n",
       "  </tbody>\n",
       "</table>\n",
       "</div>"
      ],
      "text/plain": [
       "   count      publisher\n",
       "0     42  Penguin Books"
      ]
     },
     "execution_count": 9,
     "metadata": {},
     "output_type": "execute_result"
    }
   ],
   "source": [
    "pd.io.sql.read_sql(query_3, con = engine)"
   ]
  },
  {
   "cell_type": "markdown",
   "id": "134a09ec",
   "metadata": {},
   "source": [
    "Penguin Books - издательство, которое выпустило наибольшее число (42) книг толще 50 страниц."
   ]
  },
  {
   "cell_type": "code",
   "execution_count": 10,
   "id": "e12e80c5",
   "metadata": {},
   "outputs": [],
   "source": [
    "query_4 = '''SELECT Sub.author, AVG(Sub.avg) AS avg_rating FROM\n",
    "            (SELECT authors.author AS author, books.book_id, AVG(ratings.rating) AS avg\n",
    "             FROM\n",
    "             authors\n",
    "             INNER JOIN books ON books.author_id = authors.author_id\n",
    "             INNER JOIN ratings ON ratings.book_id = books.book_id\n",
    "             GROUP BY ratings.book_id, books.book_id, authors.author\n",
    "             HAVING COUNT(ratings.rating) > 50\n",
    "             ORDER BY authors.author) AS Sub\n",
    "             GROUP BY Sub.author\n",
    "             ORDER BY avg_rating DESC\n",
    "             \n",
    "             '''"
   ]
  },
  {
   "cell_type": "code",
   "execution_count": 11,
   "id": "47f999d6",
   "metadata": {
    "scrolled": false
   },
   "outputs": [
    {
     "data": {
      "text/html": [
       "<div>\n",
       "<style scoped>\n",
       "    .dataframe tbody tr th:only-of-type {\n",
       "        vertical-align: middle;\n",
       "    }\n",
       "\n",
       "    .dataframe tbody tr th {\n",
       "        vertical-align: top;\n",
       "    }\n",
       "\n",
       "    .dataframe thead th {\n",
       "        text-align: right;\n",
       "    }\n",
       "</style>\n",
       "<table border=\"1\" class=\"dataframe\">\n",
       "  <thead>\n",
       "    <tr style=\"text-align: right;\">\n",
       "      <th></th>\n",
       "      <th>author</th>\n",
       "      <th>avg_rating</th>\n",
       "    </tr>\n",
       "  </thead>\n",
       "  <tbody>\n",
       "    <tr>\n",
       "      <th>0</th>\n",
       "      <td>J.K. Rowling/Mary GrandPré</td>\n",
       "      <td>4.283844</td>\n",
       "    </tr>\n",
       "    <tr>\n",
       "      <th>1</th>\n",
       "      <td>Markus Zusak/Cao Xuân Việt Khương</td>\n",
       "      <td>4.264151</td>\n",
       "    </tr>\n",
       "    <tr>\n",
       "      <th>2</th>\n",
       "      <td>J.R.R. Tolkien</td>\n",
       "      <td>4.258446</td>\n",
       "    </tr>\n",
       "    <tr>\n",
       "      <th>3</th>\n",
       "      <td>Louisa May Alcott</td>\n",
       "      <td>4.192308</td>\n",
       "    </tr>\n",
       "    <tr>\n",
       "      <th>4</th>\n",
       "      <td>Rick Riordan</td>\n",
       "      <td>4.080645</td>\n",
       "    </tr>\n",
       "    <tr>\n",
       "      <th>5</th>\n",
       "      <td>William Golding</td>\n",
       "      <td>3.901408</td>\n",
       "    </tr>\n",
       "    <tr>\n",
       "      <th>6</th>\n",
       "      <td>J.D. Salinger</td>\n",
       "      <td>3.825581</td>\n",
       "    </tr>\n",
       "    <tr>\n",
       "      <th>7</th>\n",
       "      <td>Paulo Coelho/Alan R. Clarke/Özdemir İnce</td>\n",
       "      <td>3.789474</td>\n",
       "    </tr>\n",
       "    <tr>\n",
       "      <th>8</th>\n",
       "      <td>William Shakespeare/Paul Werstine/Barbara A. M...</td>\n",
       "      <td>3.787879</td>\n",
       "    </tr>\n",
       "    <tr>\n",
       "      <th>9</th>\n",
       "      <td>Dan Brown</td>\n",
       "      <td>3.754540</td>\n",
       "    </tr>\n",
       "    <tr>\n",
       "      <th>10</th>\n",
       "      <td>Lois Lowry</td>\n",
       "      <td>3.750000</td>\n",
       "    </tr>\n",
       "    <tr>\n",
       "      <th>11</th>\n",
       "      <td>George Orwell/Boris Grabnar/Peter Škerl</td>\n",
       "      <td>3.729730</td>\n",
       "    </tr>\n",
       "    <tr>\n",
       "      <th>12</th>\n",
       "      <td>Stephenie Meyer</td>\n",
       "      <td>3.662500</td>\n",
       "    </tr>\n",
       "    <tr>\n",
       "      <th>13</th>\n",
       "      <td>John Steinbeck</td>\n",
       "      <td>3.622951</td>\n",
       "    </tr>\n",
       "  </tbody>\n",
       "</table>\n",
       "</div>"
      ],
      "text/plain": [
       "                                               author  avg_rating\n",
       "0                          J.K. Rowling/Mary GrandPré    4.283844\n",
       "1                   Markus Zusak/Cao Xuân Việt Khương    4.264151\n",
       "2                                      J.R.R. Tolkien    4.258446\n",
       "3                                   Louisa May Alcott    4.192308\n",
       "4                                        Rick Riordan    4.080645\n",
       "5                                     William Golding    3.901408\n",
       "6                                       J.D. Salinger    3.825581\n",
       "7            Paulo Coelho/Alan R. Clarke/Özdemir İnce    3.789474\n",
       "8   William Shakespeare/Paul Werstine/Barbara A. M...    3.787879\n",
       "9                                           Dan Brown    3.754540\n",
       "10                                         Lois Lowry    3.750000\n",
       "11            George Orwell/Boris Grabnar/Peter Škerl    3.729730\n",
       "12                                    Stephenie Meyer    3.662500\n",
       "13                                     John Steinbeck    3.622951"
      ]
     },
     "execution_count": 11,
     "metadata": {},
     "output_type": "execute_result"
    }
   ],
   "source": [
    "pd.io.sql.read_sql(query_4, con = engine)"
   ]
  },
  {
   "cell_type": "markdown",
   "id": "290b2ffb",
   "metadata": {},
   "source": [
    "Автор с самой высокой средней оценкой книг - J.K. Rowling/Mary GrandPré."
   ]
  },
  {
   "cell_type": "code",
   "execution_count": 12,
   "id": "3297174e",
   "metadata": {},
   "outputs": [],
   "source": [
    "query_5 = '''SELECT AVG(Sub.count)\n",
    "             FROM\n",
    "             (SELECT username,  COUNT(review_id) AS count\n",
    "             FROM\n",
    "             reviews\n",
    "             WHERE username IN \n",
    "             (SELECT username\n",
    "             FROM\n",
    "             ratings\n",
    "             GROUP BY username\n",
    "             HAVING COUNT(rating) > 50)\n",
    "             GROUP BY username) AS Sub\n",
    "            \n",
    "             '''"
   ]
  },
  {
   "cell_type": "code",
   "execution_count": 13,
   "id": "886cdbb4",
   "metadata": {
    "scrolled": false
   },
   "outputs": [
    {
     "data": {
      "text/html": [
       "<div>\n",
       "<style scoped>\n",
       "    .dataframe tbody tr th:only-of-type {\n",
       "        vertical-align: middle;\n",
       "    }\n",
       "\n",
       "    .dataframe tbody tr th {\n",
       "        vertical-align: top;\n",
       "    }\n",
       "\n",
       "    .dataframe thead th {\n",
       "        text-align: right;\n",
       "    }\n",
       "</style>\n",
       "<table border=\"1\" class=\"dataframe\">\n",
       "  <thead>\n",
       "    <tr style=\"text-align: right;\">\n",
       "      <th></th>\n",
       "      <th>avg</th>\n",
       "    </tr>\n",
       "  </thead>\n",
       "  <tbody>\n",
       "    <tr>\n",
       "      <th>0</th>\n",
       "      <td>24.333333</td>\n",
       "    </tr>\n",
       "  </tbody>\n",
       "</table>\n",
       "</div>"
      ],
      "text/plain": [
       "         avg\n",
       "0  24.333333"
      ]
     },
     "execution_count": 13,
     "metadata": {},
     "output_type": "execute_result"
    }
   ],
   "source": [
    "pd.io.sql.read_sql(query_5, con = engine)"
   ]
  },
  {
   "cell_type": "markdown",
   "id": "6ebcd21f",
   "metadata": {},
   "source": [
    "Среднее количество обзоров от пользователей, которые поставили больше 50 оценок, - 24."
   ]
  },
  {
   "cell_type": "markdown",
   "id": "a262026a",
   "metadata": {},
   "source": [
    "## Вывод\n",
    "\n",
    "После 1 января 2000 года вышло 819 книг.\n",
    "\n",
    "Penguin Books - издательство, которое выпустило наибольшее число (42) книг толще 50 страниц.\n",
    "\n",
    "Автор с самой высокой средней оценкой книг - J.K. Rowling/Mary GrandPré.\n",
    "\n",
    "Среднее количество обзоров от пользователей, которые поставили больше 50 оценок, - 24."
   ]
  }
 ],
 "metadata": {
  "ExecuteTimeLog": [
   {
    "duration": 623,
    "start_time": "2022-02-10T10:49:19.911Z"
   },
   {
    "duration": 3,
    "start_time": "2022-02-10T10:49:20.536Z"
   },
   {
    "duration": 69,
    "start_time": "2022-02-10T10:49:20.541Z"
   },
   {
    "duration": 2,
    "start_time": "2022-02-10T10:49:20.612Z"
   },
   {
    "duration": 10,
    "start_time": "2022-02-10T10:49:20.616Z"
   },
   {
    "duration": 3,
    "start_time": "2022-02-10T10:49:20.627Z"
   },
   {
    "duration": 27,
    "start_time": "2022-02-10T10:49:20.631Z"
   },
   {
    "duration": 2,
    "start_time": "2022-02-10T10:49:20.659Z"
   },
   {
    "duration": 20,
    "start_time": "2022-02-10T10:49:20.663Z"
   },
   {
    "duration": 2,
    "start_time": "2022-02-10T10:49:20.685Z"
   },
   {
    "duration": 15,
    "start_time": "2022-02-10T10:49:20.688Z"
   },
   {
    "duration": 2,
    "start_time": "2022-02-10T10:49:20.705Z"
   },
   {
    "duration": 14,
    "start_time": "2022-02-10T10:49:20.708Z"
   },
   {
    "duration": 2,
    "start_time": "2022-02-10T10:50:28.788Z"
   },
   {
    "duration": 16,
    "start_time": "2022-02-10T10:50:29.840Z"
   },
   {
    "duration": 1007,
    "start_time": "2022-02-10T17:45:21.322Z"
   },
   {
    "duration": 5,
    "start_time": "2022-02-10T17:45:22.332Z"
   },
   {
    "duration": 520,
    "start_time": "2022-02-10T17:45:22.341Z"
   },
   {
    "duration": 4,
    "start_time": "2022-02-10T17:45:22.864Z"
   },
   {
    "duration": 73,
    "start_time": "2022-02-10T17:45:22.871Z"
   },
   {
    "duration": 4,
    "start_time": "2022-02-10T17:45:22.946Z"
   },
   {
    "duration": 107,
    "start_time": "2022-02-10T17:45:22.953Z"
   },
   {
    "duration": 4,
    "start_time": "2022-02-10T17:45:23.063Z"
   },
   {
    "duration": 77,
    "start_time": "2022-02-10T17:45:23.069Z"
   },
   {
    "duration": 4,
    "start_time": "2022-02-10T17:45:23.149Z"
   },
   {
    "duration": 83,
    "start_time": "2022-02-10T17:45:23.155Z"
   },
   {
    "duration": 4,
    "start_time": "2022-02-10T17:45:23.241Z"
   },
   {
    "duration": 71,
    "start_time": "2022-02-10T17:45:23.248Z"
   },
   {
    "duration": 623,
    "start_time": "2022-02-10T17:45:52.296Z"
   },
   {
    "duration": 630,
    "start_time": "2022-02-10T17:46:10.720Z"
   },
   {
    "duration": 636,
    "start_time": "2022-02-10T17:47:07.128Z"
   },
   {
    "duration": 4,
    "start_time": "2022-02-10T17:47:37.442Z"
   },
   {
    "duration": 773,
    "start_time": "2022-02-10T17:47:38.020Z"
   },
   {
    "duration": 3,
    "start_time": "2022-02-10T17:49:19.028Z"
   },
   {
    "duration": 433,
    "start_time": "2022-02-10T17:49:19.762Z"
   },
   {
    "duration": 6,
    "start_time": "2022-02-10T17:49:53.170Z"
   },
   {
    "duration": 92,
    "start_time": "2022-02-10T17:49:54.020Z"
   },
   {
    "duration": 4,
    "start_time": "2022-02-10T17:50:16.371Z"
   },
   {
    "duration": 80,
    "start_time": "2022-02-10T17:50:16.853Z"
   },
   {
    "duration": 4,
    "start_time": "2022-02-10T17:50:25.980Z"
   },
   {
    "duration": 104,
    "start_time": "2022-02-10T17:50:28.572Z"
   },
   {
    "duration": 3,
    "start_time": "2022-02-10T17:50:49.586Z"
   },
   {
    "duration": 118,
    "start_time": "2022-02-10T17:50:51.168Z"
   },
   {
    "duration": 4,
    "start_time": "2022-02-10T17:51:05.191Z"
   },
   {
    "duration": 229,
    "start_time": "2022-02-10T17:51:06.738Z"
   },
   {
    "duration": 3,
    "start_time": "2022-02-10T17:51:57.162Z"
   },
   {
    "duration": 469,
    "start_time": "2022-02-10T17:51:57.717Z"
   },
   {
    "duration": 4,
    "start_time": "2022-02-10T17:52:11.732Z"
   },
   {
    "duration": 82,
    "start_time": "2022-02-10T17:52:12.230Z"
   },
   {
    "duration": 4,
    "start_time": "2022-02-10T17:52:22.424Z"
   },
   {
    "duration": 105,
    "start_time": "2022-02-10T17:52:23.764Z"
   },
   {
    "duration": 3,
    "start_time": "2022-02-10T17:52:36.506Z"
   },
   {
    "duration": 83,
    "start_time": "2022-02-10T17:52:37.032Z"
   },
   {
    "duration": 3,
    "start_time": "2022-02-10T17:52:48.410Z"
   },
   {
    "duration": 105,
    "start_time": "2022-02-10T17:52:50.150Z"
   },
   {
    "duration": 4,
    "start_time": "2022-02-10T17:53:35.762Z"
   },
   {
    "duration": 107,
    "start_time": "2022-02-10T17:53:37.213Z"
   },
   {
    "duration": 4,
    "start_time": "2022-02-10T17:54:08.392Z"
   },
   {
    "duration": 3,
    "start_time": "2022-02-10T17:54:09.004Z"
   },
   {
    "duration": 4,
    "start_time": "2022-02-10T17:54:11.135Z"
   },
   {
    "duration": 103,
    "start_time": "2022-02-10T17:54:12.229Z"
   },
   {
    "duration": 3,
    "start_time": "2022-02-10T17:54:24.893Z"
   },
   {
    "duration": 102,
    "start_time": "2022-02-10T17:54:26.395Z"
   },
   {
    "duration": 4,
    "start_time": "2022-02-10T17:54:52.022Z"
   },
   {
    "duration": 106,
    "start_time": "2022-02-10T17:54:53.302Z"
   },
   {
    "duration": 4,
    "start_time": "2022-02-10T17:55:38.669Z"
   },
   {
    "duration": 82,
    "start_time": "2022-02-10T17:55:39.297Z"
   },
   {
    "duration": 3,
    "start_time": "2022-02-10T17:56:01.365Z"
   },
   {
    "duration": 106,
    "start_time": "2022-02-10T17:56:02.660Z"
   },
   {
    "duration": 4,
    "start_time": "2022-02-10T18:01:19.597Z"
   },
   {
    "duration": 111,
    "start_time": "2022-02-10T18:01:21.480Z"
   },
   {
    "duration": 3,
    "start_time": "2022-02-10T18:03:28.225Z"
   },
   {
    "duration": 102,
    "start_time": "2022-02-10T18:03:29.617Z"
   },
   {
    "duration": 3,
    "start_time": "2022-02-10T18:04:40.902Z"
   },
   {
    "duration": 413,
    "start_time": "2022-02-10T18:04:41.560Z"
   },
   {
    "duration": 4,
    "start_time": "2022-02-10T18:05:19.350Z"
   },
   {
    "duration": 99,
    "start_time": "2022-02-10T18:05:19.881Z"
   },
   {
    "duration": 4,
    "start_time": "2022-02-10T18:05:58.293Z"
   },
   {
    "duration": 103,
    "start_time": "2022-02-10T18:05:58.976Z"
   },
   {
    "duration": 3,
    "start_time": "2022-02-10T18:07:03.836Z"
   },
   {
    "duration": 103,
    "start_time": "2022-02-10T18:07:04.444Z"
   },
   {
    "duration": 4,
    "start_time": "2022-02-10T18:07:24.523Z"
   },
   {
    "duration": 95,
    "start_time": "2022-02-10T18:07:25.135Z"
   },
   {
    "duration": 3,
    "start_time": "2022-02-10T18:07:33.962Z"
   },
   {
    "duration": 97,
    "start_time": "2022-02-10T18:07:34.522Z"
   },
   {
    "duration": 3,
    "start_time": "2022-02-10T18:08:27.362Z"
   },
   {
    "duration": 112,
    "start_time": "2022-02-10T18:08:28.844Z"
   },
   {
    "duration": 4,
    "start_time": "2022-02-10T18:08:48.858Z"
   },
   {
    "duration": 96,
    "start_time": "2022-02-10T18:08:49.459Z"
   },
   {
    "duration": 3,
    "start_time": "2022-02-10T18:09:45.780Z"
   },
   {
    "duration": 82,
    "start_time": "2022-02-10T18:09:46.433Z"
   },
   {
    "duration": 6,
    "start_time": "2022-02-10T18:10:30.844Z"
   },
   {
    "duration": 83,
    "start_time": "2022-02-10T18:10:31.448Z"
   },
   {
    "duration": 3,
    "start_time": "2022-02-10T18:10:45.223Z"
   },
   {
    "duration": 84,
    "start_time": "2022-02-10T18:10:45.768Z"
   },
   {
    "duration": 4,
    "start_time": "2022-02-10T18:10:53.967Z"
   },
   {
    "duration": 103,
    "start_time": "2022-02-10T18:10:55.519Z"
   },
   {
    "duration": 3,
    "start_time": "2022-02-10T18:11:30.192Z"
   },
   {
    "duration": 105,
    "start_time": "2022-02-10T18:11:31.589Z"
   },
   {
    "duration": 4,
    "start_time": "2022-02-10T18:12:02.348Z"
   },
   {
    "duration": 109,
    "start_time": "2022-02-10T18:12:03.666Z"
   },
   {
    "duration": 4,
    "start_time": "2022-02-10T18:12:19.910Z"
   },
   {
    "duration": 106,
    "start_time": "2022-02-10T18:12:21.155Z"
   },
   {
    "duration": 12,
    "start_time": "2022-02-10T18:13:12.622Z"
   },
   {
    "duration": 28,
    "start_time": "2022-02-10T18:13:12.638Z"
   },
   {
    "duration": 996,
    "start_time": "2022-02-10T18:13:12.670Z"
   },
   {
    "duration": 5,
    "start_time": "2022-02-10T18:13:13.669Z"
   },
   {
    "duration": 74,
    "start_time": "2022-02-10T18:13:13.677Z"
   },
   {
    "duration": 4,
    "start_time": "2022-02-10T18:13:13.754Z"
   },
   {
    "duration": 107,
    "start_time": "2022-02-10T18:13:13.761Z"
   },
   {
    "duration": 3,
    "start_time": "2022-02-10T18:13:13.871Z"
   },
   {
    "duration": 75,
    "start_time": "2022-02-10T18:13:13.878Z"
   },
   {
    "duration": 6,
    "start_time": "2022-02-10T18:13:13.956Z"
   },
   {
    "duration": 107,
    "start_time": "2022-02-10T18:13:13.967Z"
   },
   {
    "duration": 4,
    "start_time": "2022-02-10T18:13:14.077Z"
   },
   {
    "duration": 83,
    "start_time": "2022-02-10T18:13:14.085Z"
   }
  ],
  "kernelspec": {
   "display_name": "Python 3 (ipykernel)",
   "language": "python",
   "name": "python3"
  },
  "language_info": {
   "codemirror_mode": {
    "name": "ipython",
    "version": 3
   },
   "file_extension": ".py",
   "mimetype": "text/x-python",
   "name": "python",
   "nbconvert_exporter": "python",
   "pygments_lexer": "ipython3",
   "version": "3.8.8"
  },
  "toc": {
   "base_numbering": 1,
   "nav_menu": {},
   "number_sections": true,
   "sideBar": true,
   "skip_h1_title": true,
   "title_cell": "Table of Contents",
   "title_sidebar": "Contents",
   "toc_cell": false,
   "toc_position": {},
   "toc_section_display": true,
   "toc_window_display": false
  }
 },
 "nbformat": 4,
 "nbformat_minor": 5
}
