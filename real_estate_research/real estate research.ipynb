{
 "cells": [
  {
   "cell_type": "markdown",
   "metadata": {
    "toc": true
   },
   "source": [
    "<h1>Содержание<span class=\"tocSkip\"></span></h1>\n",
    "<div class=\"toc\"><ul class=\"toc-item\"><li><span><a href=\"#Изучение-данных-из-файла\" data-toc-modified-id=\"Изучение-данных-из-файла-1\"><span class=\"toc-item-num\">1&nbsp;&nbsp;</span>Изучение данных из файла</a></span><ul class=\"toc-item\"><li><span><a href=\"#Вывод\" data-toc-modified-id=\"Вывод-1.1\"><span class=\"toc-item-num\">1.1&nbsp;&nbsp;</span>Вывод</a></span></li></ul></li><li><span><a href=\"#Предобработка-данных\" data-toc-modified-id=\"Предобработка-данных-2\"><span class=\"toc-item-num\">2&nbsp;&nbsp;</span>Предобработка данных</a></span></li><li><span><a href=\"#Расчёты-и-добавление-результатов-в-таблицу\" data-toc-modified-id=\"Расчёты-и-добавление-результатов-в-таблицу-3\"><span class=\"toc-item-num\">3&nbsp;&nbsp;</span>Расчёты и добавление результатов в таблицу</a></span></li><li><span><a href=\"#Исследовательский-анализ-данных\" data-toc-modified-id=\"Исследовательский-анализ-данных-4\"><span class=\"toc-item-num\">4&nbsp;&nbsp;</span>Исследовательский анализ данных</a></span></li><li><span><a href=\"#Общий-вывод\" data-toc-modified-id=\"Общий-вывод-5\"><span class=\"toc-item-num\">5&nbsp;&nbsp;</span>Общий вывод</a></span></li><li><span><a href=\"#Чек-лист-готовности-проекта\" data-toc-modified-id=\"Чек-лист-готовности-проекта-6\"><span class=\"toc-item-num\">6&nbsp;&nbsp;</span>Чек-лист готовности проекта</a></span></li></ul></div>"
   ]
  },
  {
   "cell_type": "markdown",
   "metadata": {},
   "source": [
    "# Исследование объявлений о продаже квартир\n",
    "\n",
    "В вашем распоряжении данные сервиса Яндекс.Недвижимость — архив объявлений о продаже квартир в Санкт-Петербурге и соседних населённых пунктах за несколько лет. Нужно научиться определять рыночную стоимость объектов недвижимости. Ваша задача — установить параметры. Это позволит построить автоматизированную систему: она отследит аномалии и мошенническую деятельность. \n",
    "\n",
    "По каждой квартире на продажу доступны два вида данных. Первые вписаны пользователем, вторые получены автоматически на основе картографических данных. Например, расстояние до центра, аэропорта, ближайшего парка и водоёма. "
   ]
  },
  {
   "cell_type": "markdown",
   "metadata": {},
   "source": [
    "## Изучение данных из файла"
   ]
  },
  {
   "cell_type": "code",
   "execution_count": 288,
   "metadata": {
    "scrolled": false
   },
   "outputs": [],
   "source": [
    "import pandas as pd\n",
    "pd.options.mode.chained_assignment = None\n",
    "import datetime\n",
    "import matplotlib.pyplot as plt"
   ]
  },
  {
   "cell_type": "code",
   "execution_count": 289,
   "metadata": {},
   "outputs": [
    {
     "data": {
      "text/html": [
       "<div>\n",
       "<style scoped>\n",
       "    .dataframe tbody tr th:only-of-type {\n",
       "        vertical-align: middle;\n",
       "    }\n",
       "\n",
       "    .dataframe tbody tr th {\n",
       "        vertical-align: top;\n",
       "    }\n",
       "\n",
       "    .dataframe thead th {\n",
       "        text-align: right;\n",
       "    }\n",
       "</style>\n",
       "<table border=\"1\" class=\"dataframe\">\n",
       "  <thead>\n",
       "    <tr style=\"text-align: right;\">\n",
       "      <th></th>\n",
       "      <th>total_images</th>\n",
       "      <th>last_price</th>\n",
       "      <th>total_area</th>\n",
       "      <th>first_day_exposition</th>\n",
       "      <th>rooms</th>\n",
       "      <th>ceiling_height</th>\n",
       "      <th>floors_total</th>\n",
       "      <th>living_area</th>\n",
       "      <th>floor</th>\n",
       "      <th>is_apartment</th>\n",
       "      <th>...</th>\n",
       "      <th>kitchen_area</th>\n",
       "      <th>balcony</th>\n",
       "      <th>locality_name</th>\n",
       "      <th>airports_nearest</th>\n",
       "      <th>cityCenters_nearest</th>\n",
       "      <th>parks_around3000</th>\n",
       "      <th>parks_nearest</th>\n",
       "      <th>ponds_around3000</th>\n",
       "      <th>ponds_nearest</th>\n",
       "      <th>days_exposition</th>\n",
       "    </tr>\n",
       "  </thead>\n",
       "  <tbody>\n",
       "    <tr>\n",
       "      <td>0</td>\n",
       "      <td>20</td>\n",
       "      <td>13000000.0</td>\n",
       "      <td>108.0</td>\n",
       "      <td>2019-03-07T00:00:00</td>\n",
       "      <td>3</td>\n",
       "      <td>2.70</td>\n",
       "      <td>16.0</td>\n",
       "      <td>51.0</td>\n",
       "      <td>8</td>\n",
       "      <td>NaN</td>\n",
       "      <td>...</td>\n",
       "      <td>25.0</td>\n",
       "      <td>NaN</td>\n",
       "      <td>Санкт-Петербург</td>\n",
       "      <td>18863.0</td>\n",
       "      <td>16028.0</td>\n",
       "      <td>1.0</td>\n",
       "      <td>482.0</td>\n",
       "      <td>2.0</td>\n",
       "      <td>755.0</td>\n",
       "      <td>NaN</td>\n",
       "    </tr>\n",
       "    <tr>\n",
       "      <td>1</td>\n",
       "      <td>7</td>\n",
       "      <td>3350000.0</td>\n",
       "      <td>40.4</td>\n",
       "      <td>2018-12-04T00:00:00</td>\n",
       "      <td>1</td>\n",
       "      <td>NaN</td>\n",
       "      <td>11.0</td>\n",
       "      <td>18.6</td>\n",
       "      <td>1</td>\n",
       "      <td>NaN</td>\n",
       "      <td>...</td>\n",
       "      <td>11.0</td>\n",
       "      <td>2.0</td>\n",
       "      <td>посёлок Шушары</td>\n",
       "      <td>12817.0</td>\n",
       "      <td>18603.0</td>\n",
       "      <td>0.0</td>\n",
       "      <td>NaN</td>\n",
       "      <td>0.0</td>\n",
       "      <td>NaN</td>\n",
       "      <td>81.0</td>\n",
       "    </tr>\n",
       "    <tr>\n",
       "      <td>2</td>\n",
       "      <td>10</td>\n",
       "      <td>5196000.0</td>\n",
       "      <td>56.0</td>\n",
       "      <td>2015-08-20T00:00:00</td>\n",
       "      <td>2</td>\n",
       "      <td>NaN</td>\n",
       "      <td>5.0</td>\n",
       "      <td>34.3</td>\n",
       "      <td>4</td>\n",
       "      <td>NaN</td>\n",
       "      <td>...</td>\n",
       "      <td>8.3</td>\n",
       "      <td>0.0</td>\n",
       "      <td>Санкт-Петербург</td>\n",
       "      <td>21741.0</td>\n",
       "      <td>13933.0</td>\n",
       "      <td>1.0</td>\n",
       "      <td>90.0</td>\n",
       "      <td>2.0</td>\n",
       "      <td>574.0</td>\n",
       "      <td>558.0</td>\n",
       "    </tr>\n",
       "    <tr>\n",
       "      <td>3</td>\n",
       "      <td>0</td>\n",
       "      <td>64900000.0</td>\n",
       "      <td>159.0</td>\n",
       "      <td>2015-07-24T00:00:00</td>\n",
       "      <td>3</td>\n",
       "      <td>NaN</td>\n",
       "      <td>14.0</td>\n",
       "      <td>NaN</td>\n",
       "      <td>9</td>\n",
       "      <td>NaN</td>\n",
       "      <td>...</td>\n",
       "      <td>NaN</td>\n",
       "      <td>0.0</td>\n",
       "      <td>Санкт-Петербург</td>\n",
       "      <td>28098.0</td>\n",
       "      <td>6800.0</td>\n",
       "      <td>2.0</td>\n",
       "      <td>84.0</td>\n",
       "      <td>3.0</td>\n",
       "      <td>234.0</td>\n",
       "      <td>424.0</td>\n",
       "    </tr>\n",
       "    <tr>\n",
       "      <td>4</td>\n",
       "      <td>2</td>\n",
       "      <td>10000000.0</td>\n",
       "      <td>100.0</td>\n",
       "      <td>2018-06-19T00:00:00</td>\n",
       "      <td>2</td>\n",
       "      <td>3.03</td>\n",
       "      <td>14.0</td>\n",
       "      <td>32.0</td>\n",
       "      <td>13</td>\n",
       "      <td>NaN</td>\n",
       "      <td>...</td>\n",
       "      <td>41.0</td>\n",
       "      <td>NaN</td>\n",
       "      <td>Санкт-Петербург</td>\n",
       "      <td>31856.0</td>\n",
       "      <td>8098.0</td>\n",
       "      <td>2.0</td>\n",
       "      <td>112.0</td>\n",
       "      <td>1.0</td>\n",
       "      <td>48.0</td>\n",
       "      <td>121.0</td>\n",
       "    </tr>\n",
       "  </tbody>\n",
       "</table>\n",
       "<p>5 rows × 22 columns</p>\n",
       "</div>"
      ],
      "text/plain": [
       "   total_images  last_price  total_area first_day_exposition  rooms  \\\n",
       "0            20  13000000.0       108.0  2019-03-07T00:00:00      3   \n",
       "1             7   3350000.0        40.4  2018-12-04T00:00:00      1   \n",
       "2            10   5196000.0        56.0  2015-08-20T00:00:00      2   \n",
       "3             0  64900000.0       159.0  2015-07-24T00:00:00      3   \n",
       "4             2  10000000.0       100.0  2018-06-19T00:00:00      2   \n",
       "\n",
       "   ceiling_height  floors_total  living_area  floor is_apartment  ...  \\\n",
       "0            2.70          16.0         51.0      8          NaN  ...   \n",
       "1             NaN          11.0         18.6      1          NaN  ...   \n",
       "2             NaN           5.0         34.3      4          NaN  ...   \n",
       "3             NaN          14.0          NaN      9          NaN  ...   \n",
       "4            3.03          14.0         32.0     13          NaN  ...   \n",
       "\n",
       "   kitchen_area  balcony    locality_name  airports_nearest  \\\n",
       "0          25.0      NaN  Санкт-Петербург           18863.0   \n",
       "1          11.0      2.0   посёлок Шушары           12817.0   \n",
       "2           8.3      0.0  Санкт-Петербург           21741.0   \n",
       "3           NaN      0.0  Санкт-Петербург           28098.0   \n",
       "4          41.0      NaN  Санкт-Петербург           31856.0   \n",
       "\n",
       "  cityCenters_nearest  parks_around3000  parks_nearest  ponds_around3000  \\\n",
       "0             16028.0               1.0          482.0               2.0   \n",
       "1             18603.0               0.0            NaN               0.0   \n",
       "2             13933.0               1.0           90.0               2.0   \n",
       "3              6800.0               2.0           84.0               3.0   \n",
       "4              8098.0               2.0          112.0               1.0   \n",
       "\n",
       "   ponds_nearest  days_exposition  \n",
       "0          755.0              NaN  \n",
       "1            NaN             81.0  \n",
       "2          574.0            558.0  \n",
       "3          234.0            424.0  \n",
       "4           48.0            121.0  \n",
       "\n",
       "[5 rows x 22 columns]"
      ]
     },
     "execution_count": 289,
     "metadata": {},
     "output_type": "execute_result"
    }
   ],
   "source": [
    "df = pd.read_csv('/datasets/real_estate_data.csv', sep='\t')\n",
    "df.head(5)"
   ]
  },
  {
   "cell_type": "code",
   "execution_count": 290,
   "metadata": {},
   "outputs": [
    {
     "data": {
      "text/html": [
       "<div>\n",
       "<style scoped>\n",
       "    .dataframe tbody tr th:only-of-type {\n",
       "        vertical-align: middle;\n",
       "    }\n",
       "\n",
       "    .dataframe tbody tr th {\n",
       "        vertical-align: top;\n",
       "    }\n",
       "\n",
       "    .dataframe thead th {\n",
       "        text-align: right;\n",
       "    }\n",
       "</style>\n",
       "<table border=\"1\" class=\"dataframe\">\n",
       "  <thead>\n",
       "    <tr style=\"text-align: right;\">\n",
       "      <th></th>\n",
       "      <th>total_images</th>\n",
       "      <th>last_price</th>\n",
       "      <th>total_area</th>\n",
       "      <th>first_day_exposition</th>\n",
       "      <th>rooms</th>\n",
       "      <th>ceiling_height</th>\n",
       "      <th>floors_total</th>\n",
       "      <th>living_area</th>\n",
       "      <th>floor</th>\n",
       "      <th>is_apartment</th>\n",
       "      <th>...</th>\n",
       "      <th>kitchen_area</th>\n",
       "      <th>balcony</th>\n",
       "      <th>locality_name</th>\n",
       "      <th>airports_nearest</th>\n",
       "      <th>cityCenters_nearest</th>\n",
       "      <th>parks_around3000</th>\n",
       "      <th>parks_nearest</th>\n",
       "      <th>ponds_around3000</th>\n",
       "      <th>ponds_nearest</th>\n",
       "      <th>days_exposition</th>\n",
       "    </tr>\n",
       "  </thead>\n",
       "  <tbody>\n",
       "    <tr>\n",
       "      <td>23694</td>\n",
       "      <td>9</td>\n",
       "      <td>9700000.0</td>\n",
       "      <td>133.81</td>\n",
       "      <td>2017-03-21T00:00:00</td>\n",
       "      <td>3</td>\n",
       "      <td>3.7</td>\n",
       "      <td>5.0</td>\n",
       "      <td>73.3</td>\n",
       "      <td>3</td>\n",
       "      <td>NaN</td>\n",
       "      <td>...</td>\n",
       "      <td>13.83</td>\n",
       "      <td>NaN</td>\n",
       "      <td>Санкт-Петербург</td>\n",
       "      <td>24665.0</td>\n",
       "      <td>4232.0</td>\n",
       "      <td>1.0</td>\n",
       "      <td>796.0</td>\n",
       "      <td>3.0</td>\n",
       "      <td>381.0</td>\n",
       "      <td>NaN</td>\n",
       "    </tr>\n",
       "    <tr>\n",
       "      <td>23695</td>\n",
       "      <td>14</td>\n",
       "      <td>3100000.0</td>\n",
       "      <td>59.00</td>\n",
       "      <td>2018-01-15T00:00:00</td>\n",
       "      <td>3</td>\n",
       "      <td>NaN</td>\n",
       "      <td>5.0</td>\n",
       "      <td>38.0</td>\n",
       "      <td>4</td>\n",
       "      <td>NaN</td>\n",
       "      <td>...</td>\n",
       "      <td>8.50</td>\n",
       "      <td>NaN</td>\n",
       "      <td>Тосно</td>\n",
       "      <td>NaN</td>\n",
       "      <td>NaN</td>\n",
       "      <td>NaN</td>\n",
       "      <td>NaN</td>\n",
       "      <td>NaN</td>\n",
       "      <td>NaN</td>\n",
       "      <td>45.0</td>\n",
       "    </tr>\n",
       "    <tr>\n",
       "      <td>23696</td>\n",
       "      <td>18</td>\n",
       "      <td>2500000.0</td>\n",
       "      <td>56.70</td>\n",
       "      <td>2018-02-11T00:00:00</td>\n",
       "      <td>2</td>\n",
       "      <td>NaN</td>\n",
       "      <td>3.0</td>\n",
       "      <td>29.7</td>\n",
       "      <td>1</td>\n",
       "      <td>NaN</td>\n",
       "      <td>...</td>\n",
       "      <td>NaN</td>\n",
       "      <td>NaN</td>\n",
       "      <td>село Рождествено</td>\n",
       "      <td>NaN</td>\n",
       "      <td>NaN</td>\n",
       "      <td>NaN</td>\n",
       "      <td>NaN</td>\n",
       "      <td>NaN</td>\n",
       "      <td>NaN</td>\n",
       "      <td>NaN</td>\n",
       "    </tr>\n",
       "    <tr>\n",
       "      <td>23697</td>\n",
       "      <td>13</td>\n",
       "      <td>11475000.0</td>\n",
       "      <td>76.75</td>\n",
       "      <td>2017-03-28T00:00:00</td>\n",
       "      <td>2</td>\n",
       "      <td>3.0</td>\n",
       "      <td>17.0</td>\n",
       "      <td>NaN</td>\n",
       "      <td>12</td>\n",
       "      <td>NaN</td>\n",
       "      <td>...</td>\n",
       "      <td>23.30</td>\n",
       "      <td>2.0</td>\n",
       "      <td>Санкт-Петербург</td>\n",
       "      <td>39140.0</td>\n",
       "      <td>10364.0</td>\n",
       "      <td>2.0</td>\n",
       "      <td>173.0</td>\n",
       "      <td>3.0</td>\n",
       "      <td>196.0</td>\n",
       "      <td>602.0</td>\n",
       "    </tr>\n",
       "    <tr>\n",
       "      <td>23698</td>\n",
       "      <td>4</td>\n",
       "      <td>1350000.0</td>\n",
       "      <td>32.30</td>\n",
       "      <td>2017-07-21T00:00:00</td>\n",
       "      <td>1</td>\n",
       "      <td>2.5</td>\n",
       "      <td>5.0</td>\n",
       "      <td>12.3</td>\n",
       "      <td>1</td>\n",
       "      <td>NaN</td>\n",
       "      <td>...</td>\n",
       "      <td>9.00</td>\n",
       "      <td>NaN</td>\n",
       "      <td>поселок Новый Учхоз</td>\n",
       "      <td>NaN</td>\n",
       "      <td>NaN</td>\n",
       "      <td>NaN</td>\n",
       "      <td>NaN</td>\n",
       "      <td>NaN</td>\n",
       "      <td>NaN</td>\n",
       "      <td>NaN</td>\n",
       "    </tr>\n",
       "  </tbody>\n",
       "</table>\n",
       "<p>5 rows × 22 columns</p>\n",
       "</div>"
      ],
      "text/plain": [
       "       total_images  last_price  total_area first_day_exposition  rooms  \\\n",
       "23694             9   9700000.0      133.81  2017-03-21T00:00:00      3   \n",
       "23695            14   3100000.0       59.00  2018-01-15T00:00:00      3   \n",
       "23696            18   2500000.0       56.70  2018-02-11T00:00:00      2   \n",
       "23697            13  11475000.0       76.75  2017-03-28T00:00:00      2   \n",
       "23698             4   1350000.0       32.30  2017-07-21T00:00:00      1   \n",
       "\n",
       "       ceiling_height  floors_total  living_area  floor is_apartment  ...  \\\n",
       "23694             3.7           5.0         73.3      3          NaN  ...   \n",
       "23695             NaN           5.0         38.0      4          NaN  ...   \n",
       "23696             NaN           3.0         29.7      1          NaN  ...   \n",
       "23697             3.0          17.0          NaN     12          NaN  ...   \n",
       "23698             2.5           5.0         12.3      1          NaN  ...   \n",
       "\n",
       "       kitchen_area  balcony        locality_name  airports_nearest  \\\n",
       "23694         13.83      NaN      Санкт-Петербург           24665.0   \n",
       "23695          8.50      NaN                Тосно               NaN   \n",
       "23696           NaN      NaN     село Рождествено               NaN   \n",
       "23697         23.30      2.0      Санкт-Петербург           39140.0   \n",
       "23698          9.00      NaN  поселок Новый Учхоз               NaN   \n",
       "\n",
       "      cityCenters_nearest  parks_around3000  parks_nearest  ponds_around3000  \\\n",
       "23694              4232.0               1.0          796.0               3.0   \n",
       "23695                 NaN               NaN            NaN               NaN   \n",
       "23696                 NaN               NaN            NaN               NaN   \n",
       "23697             10364.0               2.0          173.0               3.0   \n",
       "23698                 NaN               NaN            NaN               NaN   \n",
       "\n",
       "       ponds_nearest  days_exposition  \n",
       "23694          381.0              NaN  \n",
       "23695            NaN             45.0  \n",
       "23696            NaN              NaN  \n",
       "23697          196.0            602.0  \n",
       "23698            NaN              NaN  \n",
       "\n",
       "[5 rows x 22 columns]"
      ]
     },
     "execution_count": 290,
     "metadata": {},
     "output_type": "execute_result"
    }
   ],
   "source": [
    "df.tail(5)"
   ]
  },
  {
   "cell_type": "code",
   "execution_count": 291,
   "metadata": {},
   "outputs": [
    {
     "data": {
      "text/html": [
       "<div>\n",
       "<style scoped>\n",
       "    .dataframe tbody tr th:only-of-type {\n",
       "        vertical-align: middle;\n",
       "    }\n",
       "\n",
       "    .dataframe tbody tr th {\n",
       "        vertical-align: top;\n",
       "    }\n",
       "\n",
       "    .dataframe thead th {\n",
       "        text-align: right;\n",
       "    }\n",
       "</style>\n",
       "<table border=\"1\" class=\"dataframe\">\n",
       "  <thead>\n",
       "    <tr style=\"text-align: right;\">\n",
       "      <th></th>\n",
       "      <th>total_images</th>\n",
       "      <th>last_price</th>\n",
       "      <th>total_area</th>\n",
       "      <th>first_day_exposition</th>\n",
       "      <th>rooms</th>\n",
       "      <th>ceiling_height</th>\n",
       "      <th>floors_total</th>\n",
       "      <th>living_area</th>\n",
       "      <th>floor</th>\n",
       "      <th>is_apartment</th>\n",
       "      <th>...</th>\n",
       "      <th>kitchen_area</th>\n",
       "      <th>balcony</th>\n",
       "      <th>locality_name</th>\n",
       "      <th>airports_nearest</th>\n",
       "      <th>cityCenters_nearest</th>\n",
       "      <th>parks_around3000</th>\n",
       "      <th>parks_nearest</th>\n",
       "      <th>ponds_around3000</th>\n",
       "      <th>ponds_nearest</th>\n",
       "      <th>days_exposition</th>\n",
       "    </tr>\n",
       "  </thead>\n",
       "  <tbody>\n",
       "    <tr>\n",
       "      <td>8774</td>\n",
       "      <td>15</td>\n",
       "      <td>4380000.0</td>\n",
       "      <td>39.4</td>\n",
       "      <td>2017-12-20T00:00:00</td>\n",
       "      <td>1</td>\n",
       "      <td>2.60</td>\n",
       "      <td>10.0</td>\n",
       "      <td>16.9</td>\n",
       "      <td>6</td>\n",
       "      <td>NaN</td>\n",
       "      <td>...</td>\n",
       "      <td>10.2</td>\n",
       "      <td>2.0</td>\n",
       "      <td>Санкт-Петербург</td>\n",
       "      <td>20504.0</td>\n",
       "      <td>22216.0</td>\n",
       "      <td>0.0</td>\n",
       "      <td>NaN</td>\n",
       "      <td>0.0</td>\n",
       "      <td>NaN</td>\n",
       "      <td>45.0</td>\n",
       "    </tr>\n",
       "    <tr>\n",
       "      <td>10307</td>\n",
       "      <td>5</td>\n",
       "      <td>6400000.0</td>\n",
       "      <td>52.2</td>\n",
       "      <td>2016-06-23T00:00:00</td>\n",
       "      <td>2</td>\n",
       "      <td>3.00</td>\n",
       "      <td>5.0</td>\n",
       "      <td>32.8</td>\n",
       "      <td>4</td>\n",
       "      <td>NaN</td>\n",
       "      <td>...</td>\n",
       "      <td>7.9</td>\n",
       "      <td>0.0</td>\n",
       "      <td>Санкт-Петербург</td>\n",
       "      <td>31633.0</td>\n",
       "      <td>4725.0</td>\n",
       "      <td>1.0</td>\n",
       "      <td>549.0</td>\n",
       "      <td>3.0</td>\n",
       "      <td>174.0</td>\n",
       "      <td>68.0</td>\n",
       "    </tr>\n",
       "    <tr>\n",
       "      <td>22015</td>\n",
       "      <td>2</td>\n",
       "      <td>6084227.0</td>\n",
       "      <td>70.4</td>\n",
       "      <td>2018-10-28T00:00:00</td>\n",
       "      <td>3</td>\n",
       "      <td>2.65</td>\n",
       "      <td>16.0</td>\n",
       "      <td>NaN</td>\n",
       "      <td>3</td>\n",
       "      <td>NaN</td>\n",
       "      <td>...</td>\n",
       "      <td>NaN</td>\n",
       "      <td>NaN</td>\n",
       "      <td>Санкт-Петербург</td>\n",
       "      <td>37131.0</td>\n",
       "      <td>11228.0</td>\n",
       "      <td>1.0</td>\n",
       "      <td>674.0</td>\n",
       "      <td>1.0</td>\n",
       "      <td>705.0</td>\n",
       "      <td>22.0</td>\n",
       "    </tr>\n",
       "    <tr>\n",
       "      <td>21240</td>\n",
       "      <td>20</td>\n",
       "      <td>10800000.0</td>\n",
       "      <td>95.0</td>\n",
       "      <td>2017-08-11T00:00:00</td>\n",
       "      <td>3</td>\n",
       "      <td>2.70</td>\n",
       "      <td>5.0</td>\n",
       "      <td>67.0</td>\n",
       "      <td>5</td>\n",
       "      <td>NaN</td>\n",
       "      <td>...</td>\n",
       "      <td>14.0</td>\n",
       "      <td>1.0</td>\n",
       "      <td>Санкт-Петербург</td>\n",
       "      <td>33328.0</td>\n",
       "      <td>13713.0</td>\n",
       "      <td>0.0</td>\n",
       "      <td>NaN</td>\n",
       "      <td>2.0</td>\n",
       "      <td>95.0</td>\n",
       "      <td>377.0</td>\n",
       "    </tr>\n",
       "    <tr>\n",
       "      <td>5144</td>\n",
       "      <td>9</td>\n",
       "      <td>18100000.0</td>\n",
       "      <td>116.0</td>\n",
       "      <td>2016-10-10T00:00:00</td>\n",
       "      <td>3</td>\n",
       "      <td>NaN</td>\n",
       "      <td>19.0</td>\n",
       "      <td>NaN</td>\n",
       "      <td>19</td>\n",
       "      <td>NaN</td>\n",
       "      <td>...</td>\n",
       "      <td>NaN</td>\n",
       "      <td>0.0</td>\n",
       "      <td>Санкт-Петербург</td>\n",
       "      <td>18941.0</td>\n",
       "      <td>4530.0</td>\n",
       "      <td>0.0</td>\n",
       "      <td>NaN</td>\n",
       "      <td>0.0</td>\n",
       "      <td>NaN</td>\n",
       "      <td>311.0</td>\n",
       "    </tr>\n",
       "  </tbody>\n",
       "</table>\n",
       "<p>5 rows × 22 columns</p>\n",
       "</div>"
      ],
      "text/plain": [
       "       total_images  last_price  total_area first_day_exposition  rooms  \\\n",
       "8774             15   4380000.0        39.4  2017-12-20T00:00:00      1   \n",
       "10307             5   6400000.0        52.2  2016-06-23T00:00:00      2   \n",
       "22015             2   6084227.0        70.4  2018-10-28T00:00:00      3   \n",
       "21240            20  10800000.0        95.0  2017-08-11T00:00:00      3   \n",
       "5144              9  18100000.0       116.0  2016-10-10T00:00:00      3   \n",
       "\n",
       "       ceiling_height  floors_total  living_area  floor is_apartment  ...  \\\n",
       "8774             2.60          10.0         16.9      6          NaN  ...   \n",
       "10307            3.00           5.0         32.8      4          NaN  ...   \n",
       "22015            2.65          16.0          NaN      3          NaN  ...   \n",
       "21240            2.70           5.0         67.0      5          NaN  ...   \n",
       "5144              NaN          19.0          NaN     19          NaN  ...   \n",
       "\n",
       "       kitchen_area  balcony    locality_name  airports_nearest  \\\n",
       "8774           10.2      2.0  Санкт-Петербург           20504.0   \n",
       "10307           7.9      0.0  Санкт-Петербург           31633.0   \n",
       "22015           NaN      NaN  Санкт-Петербург           37131.0   \n",
       "21240          14.0      1.0  Санкт-Петербург           33328.0   \n",
       "5144            NaN      0.0  Санкт-Петербург           18941.0   \n",
       "\n",
       "      cityCenters_nearest  parks_around3000  parks_nearest  ponds_around3000  \\\n",
       "8774              22216.0               0.0            NaN               0.0   \n",
       "10307              4725.0               1.0          549.0               3.0   \n",
       "22015             11228.0               1.0          674.0               1.0   \n",
       "21240             13713.0               0.0            NaN               2.0   \n",
       "5144               4530.0               0.0            NaN               0.0   \n",
       "\n",
       "       ponds_nearest  days_exposition  \n",
       "8774             NaN             45.0  \n",
       "10307          174.0             68.0  \n",
       "22015          705.0             22.0  \n",
       "21240           95.0            377.0  \n",
       "5144             NaN            311.0  \n",
       "\n",
       "[5 rows x 22 columns]"
      ]
     },
     "execution_count": 291,
     "metadata": {},
     "output_type": "execute_result"
    }
   ],
   "source": [
    "df.sample(5)"
   ]
  },
  {
   "cell_type": "code",
   "execution_count": 292,
   "metadata": {},
   "outputs": [
    {
     "data": {
      "text/html": [
       "<div>\n",
       "<style scoped>\n",
       "    .dataframe tbody tr th:only-of-type {\n",
       "        vertical-align: middle;\n",
       "    }\n",
       "\n",
       "    .dataframe tbody tr th {\n",
       "        vertical-align: top;\n",
       "    }\n",
       "\n",
       "    .dataframe thead th {\n",
       "        text-align: right;\n",
       "    }\n",
       "</style>\n",
       "<table border=\"1\" class=\"dataframe\">\n",
       "  <thead>\n",
       "    <tr style=\"text-align: right;\">\n",
       "      <th></th>\n",
       "      <th>total_images</th>\n",
       "      <th>last_price</th>\n",
       "      <th>total_area</th>\n",
       "      <th>rooms</th>\n",
       "      <th>ceiling_height</th>\n",
       "      <th>floors_total</th>\n",
       "      <th>living_area</th>\n",
       "      <th>floor</th>\n",
       "      <th>kitchen_area</th>\n",
       "      <th>balcony</th>\n",
       "      <th>airports_nearest</th>\n",
       "      <th>cityCenters_nearest</th>\n",
       "      <th>parks_around3000</th>\n",
       "      <th>parks_nearest</th>\n",
       "      <th>ponds_around3000</th>\n",
       "      <th>ponds_nearest</th>\n",
       "      <th>days_exposition</th>\n",
       "    </tr>\n",
       "  </thead>\n",
       "  <tbody>\n",
       "    <tr>\n",
       "      <td>count</td>\n",
       "      <td>23699.000000</td>\n",
       "      <td>2.369900e+04</td>\n",
       "      <td>23699.000000</td>\n",
       "      <td>23699.000000</td>\n",
       "      <td>14504.000000</td>\n",
       "      <td>23613.000000</td>\n",
       "      <td>21796.000000</td>\n",
       "      <td>23699.000000</td>\n",
       "      <td>21421.000000</td>\n",
       "      <td>12180.000000</td>\n",
       "      <td>18157.000000</td>\n",
       "      <td>18180.000000</td>\n",
       "      <td>18181.000000</td>\n",
       "      <td>8079.000000</td>\n",
       "      <td>18181.000000</td>\n",
       "      <td>9110.000000</td>\n",
       "      <td>20518.000000</td>\n",
       "    </tr>\n",
       "    <tr>\n",
       "      <td>mean</td>\n",
       "      <td>9.858475</td>\n",
       "      <td>6.541549e+06</td>\n",
       "      <td>60.348651</td>\n",
       "      <td>2.070636</td>\n",
       "      <td>2.771499</td>\n",
       "      <td>10.673824</td>\n",
       "      <td>34.457852</td>\n",
       "      <td>5.892358</td>\n",
       "      <td>10.569807</td>\n",
       "      <td>1.150082</td>\n",
       "      <td>28793.672193</td>\n",
       "      <td>14191.277833</td>\n",
       "      <td>0.611408</td>\n",
       "      <td>490.804555</td>\n",
       "      <td>0.770255</td>\n",
       "      <td>517.980900</td>\n",
       "      <td>180.888634</td>\n",
       "    </tr>\n",
       "    <tr>\n",
       "      <td>std</td>\n",
       "      <td>5.682529</td>\n",
       "      <td>1.088701e+07</td>\n",
       "      <td>35.654083</td>\n",
       "      <td>1.078405</td>\n",
       "      <td>1.261056</td>\n",
       "      <td>6.597173</td>\n",
       "      <td>22.030445</td>\n",
       "      <td>4.885249</td>\n",
       "      <td>5.905438</td>\n",
       "      <td>1.071300</td>\n",
       "      <td>12630.880622</td>\n",
       "      <td>8608.386210</td>\n",
       "      <td>0.802074</td>\n",
       "      <td>342.317995</td>\n",
       "      <td>0.938346</td>\n",
       "      <td>277.720643</td>\n",
       "      <td>219.727988</td>\n",
       "    </tr>\n",
       "    <tr>\n",
       "      <td>min</td>\n",
       "      <td>0.000000</td>\n",
       "      <td>1.219000e+04</td>\n",
       "      <td>12.000000</td>\n",
       "      <td>0.000000</td>\n",
       "      <td>1.000000</td>\n",
       "      <td>1.000000</td>\n",
       "      <td>2.000000</td>\n",
       "      <td>1.000000</td>\n",
       "      <td>1.300000</td>\n",
       "      <td>0.000000</td>\n",
       "      <td>0.000000</td>\n",
       "      <td>181.000000</td>\n",
       "      <td>0.000000</td>\n",
       "      <td>1.000000</td>\n",
       "      <td>0.000000</td>\n",
       "      <td>13.000000</td>\n",
       "      <td>1.000000</td>\n",
       "    </tr>\n",
       "    <tr>\n",
       "      <td>25%</td>\n",
       "      <td>6.000000</td>\n",
       "      <td>3.400000e+06</td>\n",
       "      <td>40.000000</td>\n",
       "      <td>1.000000</td>\n",
       "      <td>2.520000</td>\n",
       "      <td>5.000000</td>\n",
       "      <td>18.600000</td>\n",
       "      <td>2.000000</td>\n",
       "      <td>7.000000</td>\n",
       "      <td>0.000000</td>\n",
       "      <td>18585.000000</td>\n",
       "      <td>9238.000000</td>\n",
       "      <td>0.000000</td>\n",
       "      <td>288.000000</td>\n",
       "      <td>0.000000</td>\n",
       "      <td>294.000000</td>\n",
       "      <td>45.000000</td>\n",
       "    </tr>\n",
       "    <tr>\n",
       "      <td>50%</td>\n",
       "      <td>9.000000</td>\n",
       "      <td>4.650000e+06</td>\n",
       "      <td>52.000000</td>\n",
       "      <td>2.000000</td>\n",
       "      <td>2.650000</td>\n",
       "      <td>9.000000</td>\n",
       "      <td>30.000000</td>\n",
       "      <td>4.000000</td>\n",
       "      <td>9.100000</td>\n",
       "      <td>1.000000</td>\n",
       "      <td>26726.000000</td>\n",
       "      <td>13098.500000</td>\n",
       "      <td>0.000000</td>\n",
       "      <td>455.000000</td>\n",
       "      <td>1.000000</td>\n",
       "      <td>502.000000</td>\n",
       "      <td>95.000000</td>\n",
       "    </tr>\n",
       "    <tr>\n",
       "      <td>75%</td>\n",
       "      <td>14.000000</td>\n",
       "      <td>6.800000e+06</td>\n",
       "      <td>69.900000</td>\n",
       "      <td>3.000000</td>\n",
       "      <td>2.800000</td>\n",
       "      <td>16.000000</td>\n",
       "      <td>42.300000</td>\n",
       "      <td>8.000000</td>\n",
       "      <td>12.000000</td>\n",
       "      <td>2.000000</td>\n",
       "      <td>37273.000000</td>\n",
       "      <td>16293.000000</td>\n",
       "      <td>1.000000</td>\n",
       "      <td>612.000000</td>\n",
       "      <td>1.000000</td>\n",
       "      <td>729.000000</td>\n",
       "      <td>232.000000</td>\n",
       "    </tr>\n",
       "    <tr>\n",
       "      <td>max</td>\n",
       "      <td>50.000000</td>\n",
       "      <td>7.630000e+08</td>\n",
       "      <td>900.000000</td>\n",
       "      <td>19.000000</td>\n",
       "      <td>100.000000</td>\n",
       "      <td>60.000000</td>\n",
       "      <td>409.700000</td>\n",
       "      <td>33.000000</td>\n",
       "      <td>112.000000</td>\n",
       "      <td>5.000000</td>\n",
       "      <td>84869.000000</td>\n",
       "      <td>65968.000000</td>\n",
       "      <td>3.000000</td>\n",
       "      <td>3190.000000</td>\n",
       "      <td>3.000000</td>\n",
       "      <td>1344.000000</td>\n",
       "      <td>1580.000000</td>\n",
       "    </tr>\n",
       "  </tbody>\n",
       "</table>\n",
       "</div>"
      ],
      "text/plain": [
       "       total_images    last_price    total_area         rooms  ceiling_height  \\\n",
       "count  23699.000000  2.369900e+04  23699.000000  23699.000000    14504.000000   \n",
       "mean       9.858475  6.541549e+06     60.348651      2.070636        2.771499   \n",
       "std        5.682529  1.088701e+07     35.654083      1.078405        1.261056   \n",
       "min        0.000000  1.219000e+04     12.000000      0.000000        1.000000   \n",
       "25%        6.000000  3.400000e+06     40.000000      1.000000        2.520000   \n",
       "50%        9.000000  4.650000e+06     52.000000      2.000000        2.650000   \n",
       "75%       14.000000  6.800000e+06     69.900000      3.000000        2.800000   \n",
       "max       50.000000  7.630000e+08    900.000000     19.000000      100.000000   \n",
       "\n",
       "       floors_total   living_area         floor  kitchen_area       balcony  \\\n",
       "count  23613.000000  21796.000000  23699.000000  21421.000000  12180.000000   \n",
       "mean      10.673824     34.457852      5.892358     10.569807      1.150082   \n",
       "std        6.597173     22.030445      4.885249      5.905438      1.071300   \n",
       "min        1.000000      2.000000      1.000000      1.300000      0.000000   \n",
       "25%        5.000000     18.600000      2.000000      7.000000      0.000000   \n",
       "50%        9.000000     30.000000      4.000000      9.100000      1.000000   \n",
       "75%       16.000000     42.300000      8.000000     12.000000      2.000000   \n",
       "max       60.000000    409.700000     33.000000    112.000000      5.000000   \n",
       "\n",
       "       airports_nearest  cityCenters_nearest  parks_around3000  parks_nearest  \\\n",
       "count      18157.000000         18180.000000      18181.000000    8079.000000   \n",
       "mean       28793.672193         14191.277833          0.611408     490.804555   \n",
       "std        12630.880622          8608.386210          0.802074     342.317995   \n",
       "min            0.000000           181.000000          0.000000       1.000000   \n",
       "25%        18585.000000          9238.000000          0.000000     288.000000   \n",
       "50%        26726.000000         13098.500000          0.000000     455.000000   \n",
       "75%        37273.000000         16293.000000          1.000000     612.000000   \n",
       "max        84869.000000         65968.000000          3.000000    3190.000000   \n",
       "\n",
       "       ponds_around3000  ponds_nearest  days_exposition  \n",
       "count      18181.000000    9110.000000     20518.000000  \n",
       "mean           0.770255     517.980900       180.888634  \n",
       "std            0.938346     277.720643       219.727988  \n",
       "min            0.000000      13.000000         1.000000  \n",
       "25%            0.000000     294.000000        45.000000  \n",
       "50%            1.000000     502.000000        95.000000  \n",
       "75%            1.000000     729.000000       232.000000  \n",
       "max            3.000000    1344.000000      1580.000000  "
      ]
     },
     "execution_count": 292,
     "metadata": {},
     "output_type": "execute_result"
    }
   ],
   "source": [
    "df.describe()"
   ]
  },
  {
   "cell_type": "code",
   "execution_count": 293,
   "metadata": {},
   "outputs": [
    {
     "data": {
      "text/html": [
       "<div>\n",
       "<style scoped>\n",
       "    .dataframe tbody tr th:only-of-type {\n",
       "        vertical-align: middle;\n",
       "    }\n",
       "\n",
       "    .dataframe tbody tr th {\n",
       "        vertical-align: top;\n",
       "    }\n",
       "\n",
       "    .dataframe thead th {\n",
       "        text-align: right;\n",
       "    }\n",
       "</style>\n",
       "<table border=\"1\" class=\"dataframe\">\n",
       "  <thead>\n",
       "    <tr style=\"text-align: right;\">\n",
       "      <th></th>\n",
       "      <th>count</th>\n",
       "      <th>mean</th>\n",
       "      <th>std</th>\n",
       "      <th>min</th>\n",
       "      <th>25%</th>\n",
       "      <th>50%</th>\n",
       "      <th>75%</th>\n",
       "      <th>max</th>\n",
       "    </tr>\n",
       "  </thead>\n",
       "  <tbody>\n",
       "    <tr>\n",
       "      <td>total_images</td>\n",
       "      <td>23699.0</td>\n",
       "      <td>9.858475e+00</td>\n",
       "      <td>5.682529e+00</td>\n",
       "      <td>0.0</td>\n",
       "      <td>6.00</td>\n",
       "      <td>9.00</td>\n",
       "      <td>14.0</td>\n",
       "      <td>50.0</td>\n",
       "    </tr>\n",
       "    <tr>\n",
       "      <td>last_price</td>\n",
       "      <td>23699.0</td>\n",
       "      <td>6.541549e+06</td>\n",
       "      <td>1.088701e+07</td>\n",
       "      <td>12190.0</td>\n",
       "      <td>3400000.00</td>\n",
       "      <td>4650000.00</td>\n",
       "      <td>6800000.0</td>\n",
       "      <td>763000000.0</td>\n",
       "    </tr>\n",
       "    <tr>\n",
       "      <td>total_area</td>\n",
       "      <td>23699.0</td>\n",
       "      <td>6.034865e+01</td>\n",
       "      <td>3.565408e+01</td>\n",
       "      <td>12.0</td>\n",
       "      <td>40.00</td>\n",
       "      <td>52.00</td>\n",
       "      <td>69.9</td>\n",
       "      <td>900.0</td>\n",
       "    </tr>\n",
       "    <tr>\n",
       "      <td>rooms</td>\n",
       "      <td>23699.0</td>\n",
       "      <td>2.070636e+00</td>\n",
       "      <td>1.078405e+00</td>\n",
       "      <td>0.0</td>\n",
       "      <td>1.00</td>\n",
       "      <td>2.00</td>\n",
       "      <td>3.0</td>\n",
       "      <td>19.0</td>\n",
       "    </tr>\n",
       "    <tr>\n",
       "      <td>ceiling_height</td>\n",
       "      <td>14504.0</td>\n",
       "      <td>2.771499e+00</td>\n",
       "      <td>1.261056e+00</td>\n",
       "      <td>1.0</td>\n",
       "      <td>2.52</td>\n",
       "      <td>2.65</td>\n",
       "      <td>2.8</td>\n",
       "      <td>100.0</td>\n",
       "    </tr>\n",
       "    <tr>\n",
       "      <td>floors_total</td>\n",
       "      <td>23613.0</td>\n",
       "      <td>1.067382e+01</td>\n",
       "      <td>6.597173e+00</td>\n",
       "      <td>1.0</td>\n",
       "      <td>5.00</td>\n",
       "      <td>9.00</td>\n",
       "      <td>16.0</td>\n",
       "      <td>60.0</td>\n",
       "    </tr>\n",
       "    <tr>\n",
       "      <td>living_area</td>\n",
       "      <td>21796.0</td>\n",
       "      <td>3.445785e+01</td>\n",
       "      <td>2.203045e+01</td>\n",
       "      <td>2.0</td>\n",
       "      <td>18.60</td>\n",
       "      <td>30.00</td>\n",
       "      <td>42.3</td>\n",
       "      <td>409.7</td>\n",
       "    </tr>\n",
       "    <tr>\n",
       "      <td>floor</td>\n",
       "      <td>23699.0</td>\n",
       "      <td>5.892358e+00</td>\n",
       "      <td>4.885249e+00</td>\n",
       "      <td>1.0</td>\n",
       "      <td>2.00</td>\n",
       "      <td>4.00</td>\n",
       "      <td>8.0</td>\n",
       "      <td>33.0</td>\n",
       "    </tr>\n",
       "    <tr>\n",
       "      <td>kitchen_area</td>\n",
       "      <td>21421.0</td>\n",
       "      <td>1.056981e+01</td>\n",
       "      <td>5.905438e+00</td>\n",
       "      <td>1.3</td>\n",
       "      <td>7.00</td>\n",
       "      <td>9.10</td>\n",
       "      <td>12.0</td>\n",
       "      <td>112.0</td>\n",
       "    </tr>\n",
       "    <tr>\n",
       "      <td>balcony</td>\n",
       "      <td>12180.0</td>\n",
       "      <td>1.150082e+00</td>\n",
       "      <td>1.071300e+00</td>\n",
       "      <td>0.0</td>\n",
       "      <td>0.00</td>\n",
       "      <td>1.00</td>\n",
       "      <td>2.0</td>\n",
       "      <td>5.0</td>\n",
       "    </tr>\n",
       "    <tr>\n",
       "      <td>airports_nearest</td>\n",
       "      <td>18157.0</td>\n",
       "      <td>2.879367e+04</td>\n",
       "      <td>1.263088e+04</td>\n",
       "      <td>0.0</td>\n",
       "      <td>18585.00</td>\n",
       "      <td>26726.00</td>\n",
       "      <td>37273.0</td>\n",
       "      <td>84869.0</td>\n",
       "    </tr>\n",
       "    <tr>\n",
       "      <td>cityCenters_nearest</td>\n",
       "      <td>18180.0</td>\n",
       "      <td>1.419128e+04</td>\n",
       "      <td>8.608386e+03</td>\n",
       "      <td>181.0</td>\n",
       "      <td>9238.00</td>\n",
       "      <td>13098.50</td>\n",
       "      <td>16293.0</td>\n",
       "      <td>65968.0</td>\n",
       "    </tr>\n",
       "    <tr>\n",
       "      <td>parks_around3000</td>\n",
       "      <td>18181.0</td>\n",
       "      <td>6.114075e-01</td>\n",
       "      <td>8.020736e-01</td>\n",
       "      <td>0.0</td>\n",
       "      <td>0.00</td>\n",
       "      <td>0.00</td>\n",
       "      <td>1.0</td>\n",
       "      <td>3.0</td>\n",
       "    </tr>\n",
       "    <tr>\n",
       "      <td>parks_nearest</td>\n",
       "      <td>8079.0</td>\n",
       "      <td>4.908046e+02</td>\n",
       "      <td>3.423180e+02</td>\n",
       "      <td>1.0</td>\n",
       "      <td>288.00</td>\n",
       "      <td>455.00</td>\n",
       "      <td>612.0</td>\n",
       "      <td>3190.0</td>\n",
       "    </tr>\n",
       "    <tr>\n",
       "      <td>ponds_around3000</td>\n",
       "      <td>18181.0</td>\n",
       "      <td>7.702547e-01</td>\n",
       "      <td>9.383456e-01</td>\n",
       "      <td>0.0</td>\n",
       "      <td>0.00</td>\n",
       "      <td>1.00</td>\n",
       "      <td>1.0</td>\n",
       "      <td>3.0</td>\n",
       "    </tr>\n",
       "    <tr>\n",
       "      <td>ponds_nearest</td>\n",
       "      <td>9110.0</td>\n",
       "      <td>5.179809e+02</td>\n",
       "      <td>2.777206e+02</td>\n",
       "      <td>13.0</td>\n",
       "      <td>294.00</td>\n",
       "      <td>502.00</td>\n",
       "      <td>729.0</td>\n",
       "      <td>1344.0</td>\n",
       "    </tr>\n",
       "    <tr>\n",
       "      <td>days_exposition</td>\n",
       "      <td>20518.0</td>\n",
       "      <td>1.808886e+02</td>\n",
       "      <td>2.197280e+02</td>\n",
       "      <td>1.0</td>\n",
       "      <td>45.00</td>\n",
       "      <td>95.00</td>\n",
       "      <td>232.0</td>\n",
       "      <td>1580.0</td>\n",
       "    </tr>\n",
       "  </tbody>\n",
       "</table>\n",
       "</div>"
      ],
      "text/plain": [
       "                       count          mean           std      min         25%  \\\n",
       "total_images         23699.0  9.858475e+00  5.682529e+00      0.0        6.00   \n",
       "last_price           23699.0  6.541549e+06  1.088701e+07  12190.0  3400000.00   \n",
       "total_area           23699.0  6.034865e+01  3.565408e+01     12.0       40.00   \n",
       "rooms                23699.0  2.070636e+00  1.078405e+00      0.0        1.00   \n",
       "ceiling_height       14504.0  2.771499e+00  1.261056e+00      1.0        2.52   \n",
       "floors_total         23613.0  1.067382e+01  6.597173e+00      1.0        5.00   \n",
       "living_area          21796.0  3.445785e+01  2.203045e+01      2.0       18.60   \n",
       "floor                23699.0  5.892358e+00  4.885249e+00      1.0        2.00   \n",
       "kitchen_area         21421.0  1.056981e+01  5.905438e+00      1.3        7.00   \n",
       "balcony              12180.0  1.150082e+00  1.071300e+00      0.0        0.00   \n",
       "airports_nearest     18157.0  2.879367e+04  1.263088e+04      0.0    18585.00   \n",
       "cityCenters_nearest  18180.0  1.419128e+04  8.608386e+03    181.0     9238.00   \n",
       "parks_around3000     18181.0  6.114075e-01  8.020736e-01      0.0        0.00   \n",
       "parks_nearest         8079.0  4.908046e+02  3.423180e+02      1.0      288.00   \n",
       "ponds_around3000     18181.0  7.702547e-01  9.383456e-01      0.0        0.00   \n",
       "ponds_nearest         9110.0  5.179809e+02  2.777206e+02     13.0      294.00   \n",
       "days_exposition      20518.0  1.808886e+02  2.197280e+02      1.0       45.00   \n",
       "\n",
       "                            50%        75%          max  \n",
       "total_images               9.00       14.0         50.0  \n",
       "last_price           4650000.00  6800000.0  763000000.0  \n",
       "total_area                52.00       69.9        900.0  \n",
       "rooms                      2.00        3.0         19.0  \n",
       "ceiling_height             2.65        2.8        100.0  \n",
       "floors_total               9.00       16.0         60.0  \n",
       "living_area               30.00       42.3        409.7  \n",
       "floor                      4.00        8.0         33.0  \n",
       "kitchen_area               9.10       12.0        112.0  \n",
       "balcony                    1.00        2.0          5.0  \n",
       "airports_nearest       26726.00    37273.0      84869.0  \n",
       "cityCenters_nearest    13098.50    16293.0      65968.0  \n",
       "parks_around3000           0.00        1.0          3.0  \n",
       "parks_nearest            455.00      612.0       3190.0  \n",
       "ponds_around3000           1.00        1.0          3.0  \n",
       "ponds_nearest            502.00      729.0       1344.0  \n",
       "days_exposition           95.00      232.0       1580.0  "
      ]
     },
     "execution_count": 293,
     "metadata": {},
     "output_type": "execute_result"
    }
   ],
   "source": [
    "df.describe().T"
   ]
  },
  {
   "cell_type": "markdown",
   "metadata": {},
   "source": [
    "- Максимальная высота полотков 100 метров при значении третьего квартиля - 2.8\n",
    "\n",
    "- Максимальное количество комнат - 19, что выглядит нереалистично.\n",
    "\n",
    "- Большой разброс длительности продаж (от 1 до 1580 дней),"
   ]
  },
  {
   "cell_type": "code",
   "execution_count": 294,
   "metadata": {
    "scrolled": true
   },
   "outputs": [
    {
     "name": "stdout",
     "output_type": "stream",
     "text": [
      "<class 'pandas.core.frame.DataFrame'>\n",
      "RangeIndex: 23699 entries, 0 to 23698\n",
      "Data columns (total 22 columns):\n",
      "total_images            23699 non-null int64\n",
      "last_price              23699 non-null float64\n",
      "total_area              23699 non-null float64\n",
      "first_day_exposition    23699 non-null object\n",
      "rooms                   23699 non-null int64\n",
      "ceiling_height          14504 non-null float64\n",
      "floors_total            23613 non-null float64\n",
      "living_area             21796 non-null float64\n",
      "floor                   23699 non-null int64\n",
      "is_apartment            2775 non-null object\n",
      "studio                  23699 non-null bool\n",
      "open_plan               23699 non-null bool\n",
      "kitchen_area            21421 non-null float64\n",
      "balcony                 12180 non-null float64\n",
      "locality_name           23650 non-null object\n",
      "airports_nearest        18157 non-null float64\n",
      "cityCenters_nearest     18180 non-null float64\n",
      "parks_around3000        18181 non-null float64\n",
      "parks_nearest           8079 non-null float64\n",
      "ponds_around3000        18181 non-null float64\n",
      "ponds_nearest           9110 non-null float64\n",
      "days_exposition         20518 non-null float64\n",
      "dtypes: bool(2), float64(14), int64(3), object(3)\n",
      "memory usage: 3.7+ MB\n"
     ]
    }
   ],
   "source": [
    "df.info()"
   ]
  },
  {
   "cell_type": "markdown",
   "metadata": {},
   "source": [
    "### Вывод\n",
    "В столбцах ceiling_height, floors_total, living_area, is_apartment, kitchen_area, balcony, locality_name, airports_nearest, cityCenters_nearest, parks_around3000, parks_nearest, ponds_around3000, ponds_nearest, days_exposition есть пропущённые значения. Пропущенные значения в столбцах, сформированных на основе данных, заполненных пользователями, могли возникнуть из-за того, что пользователи не знали или не захотели указывать какие-то данные, указание которых не было обязательным. Пропущенные значения в столбцах, данные которых расчитывались автоматически, вероятно, возникли из-за того, что было недостаточно данных для расчёта.\n",
    "\n",
    "Столбец is_apartment типа object, а не bool.\n",
    "\n",
    "Нужно изменить тип данных на int в столбцах: floors_total, balcony, parks_around3000, ponds_around3000, days_exposition, потому что количество дней, этажей, балконов, парков и водоёмов не должно быть дробным.\n",
    "\n",
    "В столбце first_day_exposition нужно изменить формат данных на datetime, в столбце locality_name привести все значения к нижнему регистру."
   ]
  },
  {
   "cell_type": "markdown",
   "metadata": {},
   "source": [
    "## Предобработка данных"
   ]
  },
  {
   "cell_type": "code",
   "execution_count": 295,
   "metadata": {},
   "outputs": [],
   "source": [
    "df['locality_name'] = df['locality_name'].str.lower()"
   ]
  },
  {
   "cell_type": "code",
   "execution_count": 296,
   "metadata": {},
   "outputs": [
    {
     "data": {
      "text/plain": [
       "0"
      ]
     },
     "execution_count": 296,
     "metadata": {},
     "output_type": "execute_result"
    }
   ],
   "source": [
    "df.duplicated().sum()"
   ]
  },
  {
   "cell_type": "code",
   "execution_count": 297,
   "metadata": {},
   "outputs": [
    {
     "data": {
      "text/plain": [
       "total_images                0\n",
       "last_price                  0\n",
       "total_area                  0\n",
       "first_day_exposition        0\n",
       "rooms                       0\n",
       "ceiling_height           9195\n",
       "floors_total               86\n",
       "living_area              1903\n",
       "floor                       0\n",
       "is_apartment            20924\n",
       "studio                      0\n",
       "open_plan                   0\n",
       "kitchen_area             2278\n",
       "balcony                 11519\n",
       "locality_name              49\n",
       "airports_nearest         5542\n",
       "cityCenters_nearest      5519\n",
       "parks_around3000         5518\n",
       "parks_nearest           15620\n",
       "ponds_around3000         5518\n",
       "ponds_nearest           14589\n",
       "days_exposition          3181\n",
       "dtype: int64"
      ]
     },
     "execution_count": 297,
     "metadata": {},
     "output_type": "execute_result"
    }
   ],
   "source": [
    "df.isnull().sum()"
   ]
  },
  {
   "cell_type": "code",
   "execution_count": 298,
   "metadata": {},
   "outputs": [
    {
     "data": {
      "text/plain": [
       "total_images                0\n",
       "last_price                  0\n",
       "total_area                  0\n",
       "first_day_exposition        0\n",
       "rooms                       0\n",
       "ceiling_height           9195\n",
       "floors_total               86\n",
       "living_area              1903\n",
       "floor                       0\n",
       "is_apartment            20924\n",
       "studio                      0\n",
       "open_plan                   0\n",
       "kitchen_area             2278\n",
       "balcony                 11519\n",
       "locality_name              49\n",
       "airports_nearest         5542\n",
       "cityCenters_nearest      5519\n",
       "parks_around3000         5518\n",
       "parks_nearest           15620\n",
       "ponds_around3000         5518\n",
       "ponds_nearest           14589\n",
       "days_exposition          3181\n",
       "dtype: int64"
      ]
     },
     "execution_count": 298,
     "metadata": {},
     "output_type": "execute_result"
    }
   ],
   "source": [
    "df.isna().sum()"
   ]
  },
  {
   "cell_type": "code",
   "execution_count": 299,
   "metadata": {},
   "outputs": [
    {
     "data": {
      "text/html": [
       "<div>\n",
       "<style scoped>\n",
       "    .dataframe tbody tr th:only-of-type {\n",
       "        vertical-align: middle;\n",
       "    }\n",
       "\n",
       "    .dataframe tbody tr th {\n",
       "        vertical-align: top;\n",
       "    }\n",
       "\n",
       "    .dataframe thead th {\n",
       "        text-align: right;\n",
       "    }\n",
       "</style>\n",
       "<table border=\"1\" class=\"dataframe\">\n",
       "  <thead>\n",
       "    <tr style=\"text-align: right;\">\n",
       "      <th></th>\n",
       "      <th>total_images</th>\n",
       "      <th>last_price</th>\n",
       "      <th>total_area</th>\n",
       "      <th>first_day_exposition</th>\n",
       "      <th>rooms</th>\n",
       "      <th>ceiling_height</th>\n",
       "      <th>floors_total</th>\n",
       "      <th>living_area</th>\n",
       "      <th>floor</th>\n",
       "      <th>is_apartment</th>\n",
       "      <th>...</th>\n",
       "      <th>kitchen_area</th>\n",
       "      <th>balcony</th>\n",
       "      <th>locality_name</th>\n",
       "      <th>airports_nearest</th>\n",
       "      <th>cityCenters_nearest</th>\n",
       "      <th>parks_around3000</th>\n",
       "      <th>parks_nearest</th>\n",
       "      <th>ponds_around3000</th>\n",
       "      <th>ponds_nearest</th>\n",
       "      <th>days_exposition</th>\n",
       "    </tr>\n",
       "  </thead>\n",
       "  <tbody>\n",
       "    <tr>\n",
       "      <td>1</td>\n",
       "      <td>7</td>\n",
       "      <td>3350000.0</td>\n",
       "      <td>40.4</td>\n",
       "      <td>2018-12-04T00:00:00</td>\n",
       "      <td>1</td>\n",
       "      <td>NaN</td>\n",
       "      <td>11.0</td>\n",
       "      <td>18.6</td>\n",
       "      <td>1</td>\n",
       "      <td>NaN</td>\n",
       "      <td>...</td>\n",
       "      <td>11.0</td>\n",
       "      <td>2.0</td>\n",
       "      <td>посёлок шушары</td>\n",
       "      <td>12817.0</td>\n",
       "      <td>18603.0</td>\n",
       "      <td>0.0</td>\n",
       "      <td>NaN</td>\n",
       "      <td>0.0</td>\n",
       "      <td>NaN</td>\n",
       "      <td>81.0</td>\n",
       "    </tr>\n",
       "    <tr>\n",
       "      <td>2</td>\n",
       "      <td>10</td>\n",
       "      <td>5196000.0</td>\n",
       "      <td>56.0</td>\n",
       "      <td>2015-08-20T00:00:00</td>\n",
       "      <td>2</td>\n",
       "      <td>NaN</td>\n",
       "      <td>5.0</td>\n",
       "      <td>34.3</td>\n",
       "      <td>4</td>\n",
       "      <td>NaN</td>\n",
       "      <td>...</td>\n",
       "      <td>8.3</td>\n",
       "      <td>0.0</td>\n",
       "      <td>санкт-петербург</td>\n",
       "      <td>21741.0</td>\n",
       "      <td>13933.0</td>\n",
       "      <td>1.0</td>\n",
       "      <td>90.0</td>\n",
       "      <td>2.0</td>\n",
       "      <td>574.0</td>\n",
       "      <td>558.0</td>\n",
       "    </tr>\n",
       "    <tr>\n",
       "      <td>3</td>\n",
       "      <td>0</td>\n",
       "      <td>64900000.0</td>\n",
       "      <td>159.0</td>\n",
       "      <td>2015-07-24T00:00:00</td>\n",
       "      <td>3</td>\n",
       "      <td>NaN</td>\n",
       "      <td>14.0</td>\n",
       "      <td>NaN</td>\n",
       "      <td>9</td>\n",
       "      <td>NaN</td>\n",
       "      <td>...</td>\n",
       "      <td>NaN</td>\n",
       "      <td>0.0</td>\n",
       "      <td>санкт-петербург</td>\n",
       "      <td>28098.0</td>\n",
       "      <td>6800.0</td>\n",
       "      <td>2.0</td>\n",
       "      <td>84.0</td>\n",
       "      <td>3.0</td>\n",
       "      <td>234.0</td>\n",
       "      <td>424.0</td>\n",
       "    </tr>\n",
       "    <tr>\n",
       "      <td>5</td>\n",
       "      <td>10</td>\n",
       "      <td>2890000.0</td>\n",
       "      <td>30.4</td>\n",
       "      <td>2018-09-10T00:00:00</td>\n",
       "      <td>1</td>\n",
       "      <td>NaN</td>\n",
       "      <td>12.0</td>\n",
       "      <td>14.4</td>\n",
       "      <td>5</td>\n",
       "      <td>NaN</td>\n",
       "      <td>...</td>\n",
       "      <td>9.1</td>\n",
       "      <td>NaN</td>\n",
       "      <td>городской посёлок янино-1</td>\n",
       "      <td>NaN</td>\n",
       "      <td>NaN</td>\n",
       "      <td>NaN</td>\n",
       "      <td>NaN</td>\n",
       "      <td>NaN</td>\n",
       "      <td>NaN</td>\n",
       "      <td>55.0</td>\n",
       "    </tr>\n",
       "    <tr>\n",
       "      <td>6</td>\n",
       "      <td>6</td>\n",
       "      <td>3700000.0</td>\n",
       "      <td>37.3</td>\n",
       "      <td>2017-11-02T00:00:00</td>\n",
       "      <td>1</td>\n",
       "      <td>NaN</td>\n",
       "      <td>26.0</td>\n",
       "      <td>10.6</td>\n",
       "      <td>6</td>\n",
       "      <td>NaN</td>\n",
       "      <td>...</td>\n",
       "      <td>14.4</td>\n",
       "      <td>1.0</td>\n",
       "      <td>посёлок парголово</td>\n",
       "      <td>52996.0</td>\n",
       "      <td>19143.0</td>\n",
       "      <td>0.0</td>\n",
       "      <td>NaN</td>\n",
       "      <td>0.0</td>\n",
       "      <td>NaN</td>\n",
       "      <td>155.0</td>\n",
       "    </tr>\n",
       "    <tr>\n",
       "      <td>...</td>\n",
       "      <td>...</td>\n",
       "      <td>...</td>\n",
       "      <td>...</td>\n",
       "      <td>...</td>\n",
       "      <td>...</td>\n",
       "      <td>...</td>\n",
       "      <td>...</td>\n",
       "      <td>...</td>\n",
       "      <td>...</td>\n",
       "      <td>...</td>\n",
       "      <td>...</td>\n",
       "      <td>...</td>\n",
       "      <td>...</td>\n",
       "      <td>...</td>\n",
       "      <td>...</td>\n",
       "      <td>...</td>\n",
       "      <td>...</td>\n",
       "      <td>...</td>\n",
       "      <td>...</td>\n",
       "      <td>...</td>\n",
       "      <td>...</td>\n",
       "    </tr>\n",
       "    <tr>\n",
       "      <td>23687</td>\n",
       "      <td>6</td>\n",
       "      <td>3200000.0</td>\n",
       "      <td>39.0</td>\n",
       "      <td>2017-12-16T00:00:00</td>\n",
       "      <td>1</td>\n",
       "      <td>NaN</td>\n",
       "      <td>9.0</td>\n",
       "      <td>20.0</td>\n",
       "      <td>6</td>\n",
       "      <td>NaN</td>\n",
       "      <td>...</td>\n",
       "      <td>11.0</td>\n",
       "      <td>2.0</td>\n",
       "      <td>санкт-петербург</td>\n",
       "      <td>40837.0</td>\n",
       "      <td>16704.0</td>\n",
       "      <td>0.0</td>\n",
       "      <td>NaN</td>\n",
       "      <td>0.0</td>\n",
       "      <td>NaN</td>\n",
       "      <td>38.0</td>\n",
       "    </tr>\n",
       "    <tr>\n",
       "      <td>23690</td>\n",
       "      <td>3</td>\n",
       "      <td>5500000.0</td>\n",
       "      <td>52.0</td>\n",
       "      <td>2018-07-19T00:00:00</td>\n",
       "      <td>2</td>\n",
       "      <td>NaN</td>\n",
       "      <td>5.0</td>\n",
       "      <td>31.0</td>\n",
       "      <td>2</td>\n",
       "      <td>NaN</td>\n",
       "      <td>...</td>\n",
       "      <td>6.0</td>\n",
       "      <td>NaN</td>\n",
       "      <td>санкт-петербург</td>\n",
       "      <td>20151.0</td>\n",
       "      <td>6263.0</td>\n",
       "      <td>1.0</td>\n",
       "      <td>300.0</td>\n",
       "      <td>0.0</td>\n",
       "      <td>NaN</td>\n",
       "      <td>15.0</td>\n",
       "    </tr>\n",
       "    <tr>\n",
       "      <td>23692</td>\n",
       "      <td>2</td>\n",
       "      <td>1350000.0</td>\n",
       "      <td>30.0</td>\n",
       "      <td>2017-07-07T00:00:00</td>\n",
       "      <td>1</td>\n",
       "      <td>NaN</td>\n",
       "      <td>5.0</td>\n",
       "      <td>17.5</td>\n",
       "      <td>4</td>\n",
       "      <td>NaN</td>\n",
       "      <td>...</td>\n",
       "      <td>6.0</td>\n",
       "      <td>NaN</td>\n",
       "      <td>тихвин</td>\n",
       "      <td>NaN</td>\n",
       "      <td>NaN</td>\n",
       "      <td>NaN</td>\n",
       "      <td>NaN</td>\n",
       "      <td>NaN</td>\n",
       "      <td>NaN</td>\n",
       "      <td>413.0</td>\n",
       "    </tr>\n",
       "    <tr>\n",
       "      <td>23695</td>\n",
       "      <td>14</td>\n",
       "      <td>3100000.0</td>\n",
       "      <td>59.0</td>\n",
       "      <td>2018-01-15T00:00:00</td>\n",
       "      <td>3</td>\n",
       "      <td>NaN</td>\n",
       "      <td>5.0</td>\n",
       "      <td>38.0</td>\n",
       "      <td>4</td>\n",
       "      <td>NaN</td>\n",
       "      <td>...</td>\n",
       "      <td>8.5</td>\n",
       "      <td>NaN</td>\n",
       "      <td>тосно</td>\n",
       "      <td>NaN</td>\n",
       "      <td>NaN</td>\n",
       "      <td>NaN</td>\n",
       "      <td>NaN</td>\n",
       "      <td>NaN</td>\n",
       "      <td>NaN</td>\n",
       "      <td>45.0</td>\n",
       "    </tr>\n",
       "    <tr>\n",
       "      <td>23696</td>\n",
       "      <td>18</td>\n",
       "      <td>2500000.0</td>\n",
       "      <td>56.7</td>\n",
       "      <td>2018-02-11T00:00:00</td>\n",
       "      <td>2</td>\n",
       "      <td>NaN</td>\n",
       "      <td>3.0</td>\n",
       "      <td>29.7</td>\n",
       "      <td>1</td>\n",
       "      <td>NaN</td>\n",
       "      <td>...</td>\n",
       "      <td>NaN</td>\n",
       "      <td>NaN</td>\n",
       "      <td>село рождествено</td>\n",
       "      <td>NaN</td>\n",
       "      <td>NaN</td>\n",
       "      <td>NaN</td>\n",
       "      <td>NaN</td>\n",
       "      <td>NaN</td>\n",
       "      <td>NaN</td>\n",
       "      <td>NaN</td>\n",
       "    </tr>\n",
       "  </tbody>\n",
       "</table>\n",
       "<p>9195 rows × 22 columns</p>\n",
       "</div>"
      ],
      "text/plain": [
       "       total_images  last_price  total_area first_day_exposition  rooms  \\\n",
       "1                 7   3350000.0        40.4  2018-12-04T00:00:00      1   \n",
       "2                10   5196000.0        56.0  2015-08-20T00:00:00      2   \n",
       "3                 0  64900000.0       159.0  2015-07-24T00:00:00      3   \n",
       "5                10   2890000.0        30.4  2018-09-10T00:00:00      1   \n",
       "6                 6   3700000.0        37.3  2017-11-02T00:00:00      1   \n",
       "...             ...         ...         ...                  ...    ...   \n",
       "23687             6   3200000.0        39.0  2017-12-16T00:00:00      1   \n",
       "23690             3   5500000.0        52.0  2018-07-19T00:00:00      2   \n",
       "23692             2   1350000.0        30.0  2017-07-07T00:00:00      1   \n",
       "23695            14   3100000.0        59.0  2018-01-15T00:00:00      3   \n",
       "23696            18   2500000.0        56.7  2018-02-11T00:00:00      2   \n",
       "\n",
       "       ceiling_height  floors_total  living_area  floor is_apartment  ...  \\\n",
       "1                 NaN          11.0         18.6      1          NaN  ...   \n",
       "2                 NaN           5.0         34.3      4          NaN  ...   \n",
       "3                 NaN          14.0          NaN      9          NaN  ...   \n",
       "5                 NaN          12.0         14.4      5          NaN  ...   \n",
       "6                 NaN          26.0         10.6      6          NaN  ...   \n",
       "...               ...           ...          ...    ...          ...  ...   \n",
       "23687             NaN           9.0         20.0      6          NaN  ...   \n",
       "23690             NaN           5.0         31.0      2          NaN  ...   \n",
       "23692             NaN           5.0         17.5      4          NaN  ...   \n",
       "23695             NaN           5.0         38.0      4          NaN  ...   \n",
       "23696             NaN           3.0         29.7      1          NaN  ...   \n",
       "\n",
       "       kitchen_area  balcony              locality_name  airports_nearest  \\\n",
       "1              11.0      2.0             посёлок шушары           12817.0   \n",
       "2               8.3      0.0            санкт-петербург           21741.0   \n",
       "3               NaN      0.0            санкт-петербург           28098.0   \n",
       "5               9.1      NaN  городской посёлок янино-1               NaN   \n",
       "6              14.4      1.0          посёлок парголово           52996.0   \n",
       "...             ...      ...                        ...               ...   \n",
       "23687          11.0      2.0            санкт-петербург           40837.0   \n",
       "23690           6.0      NaN            санкт-петербург           20151.0   \n",
       "23692           6.0      NaN                     тихвин               NaN   \n",
       "23695           8.5      NaN                      тосно               NaN   \n",
       "23696           NaN      NaN           село рождествено               NaN   \n",
       "\n",
       "      cityCenters_nearest  parks_around3000  parks_nearest  ponds_around3000  \\\n",
       "1                 18603.0               0.0            NaN               0.0   \n",
       "2                 13933.0               1.0           90.0               2.0   \n",
       "3                  6800.0               2.0           84.0               3.0   \n",
       "5                     NaN               NaN            NaN               NaN   \n",
       "6                 19143.0               0.0            NaN               0.0   \n",
       "...                   ...               ...            ...               ...   \n",
       "23687             16704.0               0.0            NaN               0.0   \n",
       "23690              6263.0               1.0          300.0               0.0   \n",
       "23692                 NaN               NaN            NaN               NaN   \n",
       "23695                 NaN               NaN            NaN               NaN   \n",
       "23696                 NaN               NaN            NaN               NaN   \n",
       "\n",
       "       ponds_nearest  days_exposition  \n",
       "1                NaN             81.0  \n",
       "2              574.0            558.0  \n",
       "3              234.0            424.0  \n",
       "5                NaN             55.0  \n",
       "6                NaN            155.0  \n",
       "...              ...              ...  \n",
       "23687            NaN             38.0  \n",
       "23690            NaN             15.0  \n",
       "23692            NaN            413.0  \n",
       "23695            NaN             45.0  \n",
       "23696            NaN              NaN  \n",
       "\n",
       "[9195 rows x 22 columns]"
      ]
     },
     "execution_count": 299,
     "metadata": {},
     "output_type": "execute_result"
    }
   ],
   "source": [
    "df.query('ceiling_height.isna() == True')"
   ]
  },
  {
   "cell_type": "code",
   "execution_count": 300,
   "metadata": {},
   "outputs": [
    {
     "data": {
      "text/plain": [
       "2.50      3515\n",
       "2.60      1646\n",
       "2.70      1574\n",
       "3.00      1112\n",
       "2.80       993\n",
       "          ... \n",
       "27.50        1\n",
       "5.00         1\n",
       "3.59         1\n",
       "4.80         1\n",
       "100.00       1\n",
       "Name: ceiling_height, Length: 183, dtype: int64"
      ]
     },
     "execution_count": 300,
     "metadata": {},
     "output_type": "execute_result"
    }
   ],
   "source": [
    "df['ceiling_height'].value_counts()"
   ]
  },
  {
   "cell_type": "code",
   "execution_count": 301,
   "metadata": {},
   "outputs": [
    {
     "data": {
      "text/html": [
       "<div>\n",
       "<style scoped>\n",
       "    .dataframe tbody tr th:only-of-type {\n",
       "        vertical-align: middle;\n",
       "    }\n",
       "\n",
       "    .dataframe tbody tr th {\n",
       "        vertical-align: top;\n",
       "    }\n",
       "\n",
       "    .dataframe thead th {\n",
       "        text-align: right;\n",
       "    }\n",
       "</style>\n",
       "<table border=\"1\" class=\"dataframe\">\n",
       "  <thead>\n",
       "    <tr style=\"text-align: right;\">\n",
       "      <th></th>\n",
       "      <th>total_images</th>\n",
       "      <th>last_price</th>\n",
       "      <th>total_area</th>\n",
       "      <th>first_day_exposition</th>\n",
       "      <th>rooms</th>\n",
       "      <th>ceiling_height</th>\n",
       "      <th>floors_total</th>\n",
       "      <th>living_area</th>\n",
       "      <th>floor</th>\n",
       "      <th>is_apartment</th>\n",
       "      <th>...</th>\n",
       "      <th>kitchen_area</th>\n",
       "      <th>balcony</th>\n",
       "      <th>locality_name</th>\n",
       "      <th>airports_nearest</th>\n",
       "      <th>cityCenters_nearest</th>\n",
       "      <th>parks_around3000</th>\n",
       "      <th>parks_nearest</th>\n",
       "      <th>ponds_around3000</th>\n",
       "      <th>ponds_nearest</th>\n",
       "      <th>days_exposition</th>\n",
       "    </tr>\n",
       "  </thead>\n",
       "  <tbody>\n",
       "    <tr>\n",
       "      <td>22869</td>\n",
       "      <td>0</td>\n",
       "      <td>15000000.0</td>\n",
       "      <td>25.0</td>\n",
       "      <td>2018-07-25T00:00:00</td>\n",
       "      <td>1</td>\n",
       "      <td>100.00</td>\n",
       "      <td>5.0</td>\n",
       "      <td>14.0</td>\n",
       "      <td>5</td>\n",
       "      <td>True</td>\n",
       "      <td>...</td>\n",
       "      <td>11.00</td>\n",
       "      <td>5.0</td>\n",
       "      <td>санкт-петербург</td>\n",
       "      <td>34963.0</td>\n",
       "      <td>8283.0</td>\n",
       "      <td>1.0</td>\n",
       "      <td>223.0</td>\n",
       "      <td>3.0</td>\n",
       "      <td>30.0</td>\n",
       "      <td>19.0</td>\n",
       "    </tr>\n",
       "    <tr>\n",
       "      <td>22336</td>\n",
       "      <td>19</td>\n",
       "      <td>9999000.0</td>\n",
       "      <td>92.4</td>\n",
       "      <td>2019-04-05T00:00:00</td>\n",
       "      <td>2</td>\n",
       "      <td>32.00</td>\n",
       "      <td>6.0</td>\n",
       "      <td>55.5</td>\n",
       "      <td>5</td>\n",
       "      <td>False</td>\n",
       "      <td>...</td>\n",
       "      <td>16.50</td>\n",
       "      <td>4.0</td>\n",
       "      <td>санкт-петербург</td>\n",
       "      <td>18838.0</td>\n",
       "      <td>3506.0</td>\n",
       "      <td>0.0</td>\n",
       "      <td>NaN</td>\n",
       "      <td>3.0</td>\n",
       "      <td>511.0</td>\n",
       "      <td>NaN</td>\n",
       "    </tr>\n",
       "    <tr>\n",
       "      <td>3148</td>\n",
       "      <td>14</td>\n",
       "      <td>2900000.0</td>\n",
       "      <td>75.0</td>\n",
       "      <td>2018-11-12T00:00:00</td>\n",
       "      <td>3</td>\n",
       "      <td>32.00</td>\n",
       "      <td>3.0</td>\n",
       "      <td>53.0</td>\n",
       "      <td>2</td>\n",
       "      <td>NaN</td>\n",
       "      <td>...</td>\n",
       "      <td>8.00</td>\n",
       "      <td>NaN</td>\n",
       "      <td>волхов</td>\n",
       "      <td>NaN</td>\n",
       "      <td>NaN</td>\n",
       "      <td>NaN</td>\n",
       "      <td>NaN</td>\n",
       "      <td>NaN</td>\n",
       "      <td>NaN</td>\n",
       "      <td>NaN</td>\n",
       "    </tr>\n",
       "    <tr>\n",
       "      <td>21377</td>\n",
       "      <td>19</td>\n",
       "      <td>4900000.0</td>\n",
       "      <td>42.0</td>\n",
       "      <td>2017-04-18T00:00:00</td>\n",
       "      <td>1</td>\n",
       "      <td>27.50</td>\n",
       "      <td>24.0</td>\n",
       "      <td>37.7</td>\n",
       "      <td>19</td>\n",
       "      <td>False</td>\n",
       "      <td>...</td>\n",
       "      <td>11.00</td>\n",
       "      <td>2.0</td>\n",
       "      <td>санкт-петербург</td>\n",
       "      <td>42742.0</td>\n",
       "      <td>9760.0</td>\n",
       "      <td>0.0</td>\n",
       "      <td>NaN</td>\n",
       "      <td>0.0</td>\n",
       "      <td>NaN</td>\n",
       "      <td>61.0</td>\n",
       "    </tr>\n",
       "    <tr>\n",
       "      <td>20478</td>\n",
       "      <td>11</td>\n",
       "      <td>8000000.0</td>\n",
       "      <td>45.0</td>\n",
       "      <td>2017-07-18T00:00:00</td>\n",
       "      <td>1</td>\n",
       "      <td>27.00</td>\n",
       "      <td>4.0</td>\n",
       "      <td>22.0</td>\n",
       "      <td>2</td>\n",
       "      <td>NaN</td>\n",
       "      <td>...</td>\n",
       "      <td>10.00</td>\n",
       "      <td>1.0</td>\n",
       "      <td>санкт-петербург</td>\n",
       "      <td>18975.0</td>\n",
       "      <td>3246.0</td>\n",
       "      <td>0.0</td>\n",
       "      <td>NaN</td>\n",
       "      <td>3.0</td>\n",
       "      <td>449.0</td>\n",
       "      <td>429.0</td>\n",
       "    </tr>\n",
       "    <tr>\n",
       "      <td>...</td>\n",
       "      <td>...</td>\n",
       "      <td>...</td>\n",
       "      <td>...</td>\n",
       "      <td>...</td>\n",
       "      <td>...</td>\n",
       "      <td>...</td>\n",
       "      <td>...</td>\n",
       "      <td>...</td>\n",
       "      <td>...</td>\n",
       "      <td>...</td>\n",
       "      <td>...</td>\n",
       "      <td>...</td>\n",
       "      <td>...</td>\n",
       "      <td>...</td>\n",
       "      <td>...</td>\n",
       "      <td>...</td>\n",
       "      <td>...</td>\n",
       "      <td>...</td>\n",
       "      <td>...</td>\n",
       "      <td>...</td>\n",
       "      <td>...</td>\n",
       "    </tr>\n",
       "    <tr>\n",
       "      <td>5850</td>\n",
       "      <td>9</td>\n",
       "      <td>1650000.0</td>\n",
       "      <td>35.5</td>\n",
       "      <td>2018-05-29T00:00:00</td>\n",
       "      <td>1</td>\n",
       "      <td>2.00</td>\n",
       "      <td>5.0</td>\n",
       "      <td>NaN</td>\n",
       "      <td>5</td>\n",
       "      <td>NaN</td>\n",
       "      <td>...</td>\n",
       "      <td>NaN</td>\n",
       "      <td>NaN</td>\n",
       "      <td>луга</td>\n",
       "      <td>NaN</td>\n",
       "      <td>NaN</td>\n",
       "      <td>NaN</td>\n",
       "      <td>NaN</td>\n",
       "      <td>NaN</td>\n",
       "      <td>NaN</td>\n",
       "      <td>100.0</td>\n",
       "    </tr>\n",
       "    <tr>\n",
       "      <td>552</td>\n",
       "      <td>11</td>\n",
       "      <td>2999000.0</td>\n",
       "      <td>33.5</td>\n",
       "      <td>2017-03-30T00:00:00</td>\n",
       "      <td>1</td>\n",
       "      <td>2.00</td>\n",
       "      <td>15.0</td>\n",
       "      <td>17.5</td>\n",
       "      <td>6</td>\n",
       "      <td>NaN</td>\n",
       "      <td>...</td>\n",
       "      <td>6.50</td>\n",
       "      <td>NaN</td>\n",
       "      <td>санкт-петербург</td>\n",
       "      <td>33972.0</td>\n",
       "      <td>11746.0</td>\n",
       "      <td>1.0</td>\n",
       "      <td>520.0</td>\n",
       "      <td>1.0</td>\n",
       "      <td>949.0</td>\n",
       "      <td>270.0</td>\n",
       "    </tr>\n",
       "    <tr>\n",
       "      <td>16934</td>\n",
       "      <td>5</td>\n",
       "      <td>4100000.0</td>\n",
       "      <td>40.0</td>\n",
       "      <td>2017-10-17T00:00:00</td>\n",
       "      <td>1</td>\n",
       "      <td>1.75</td>\n",
       "      <td>37.0</td>\n",
       "      <td>17.4</td>\n",
       "      <td>5</td>\n",
       "      <td>NaN</td>\n",
       "      <td>...</td>\n",
       "      <td>8.34</td>\n",
       "      <td>NaN</td>\n",
       "      <td>санкт-петербург</td>\n",
       "      <td>18732.0</td>\n",
       "      <td>20444.0</td>\n",
       "      <td>0.0</td>\n",
       "      <td>NaN</td>\n",
       "      <td>3.0</td>\n",
       "      <td>80.0</td>\n",
       "      <td>71.0</td>\n",
       "    </tr>\n",
       "    <tr>\n",
       "      <td>5712</td>\n",
       "      <td>5</td>\n",
       "      <td>1500000.0</td>\n",
       "      <td>42.8</td>\n",
       "      <td>2017-08-14T00:00:00</td>\n",
       "      <td>2</td>\n",
       "      <td>1.20</td>\n",
       "      <td>2.0</td>\n",
       "      <td>27.5</td>\n",
       "      <td>1</td>\n",
       "      <td>NaN</td>\n",
       "      <td>...</td>\n",
       "      <td>5.20</td>\n",
       "      <td>NaN</td>\n",
       "      <td>городской посёлок мга</td>\n",
       "      <td>NaN</td>\n",
       "      <td>NaN</td>\n",
       "      <td>NaN</td>\n",
       "      <td>NaN</td>\n",
       "      <td>NaN</td>\n",
       "      <td>NaN</td>\n",
       "      <td>248.0</td>\n",
       "    </tr>\n",
       "    <tr>\n",
       "      <td>22590</td>\n",
       "      <td>16</td>\n",
       "      <td>6000000.0</td>\n",
       "      <td>55.0</td>\n",
       "      <td>2018-10-31T00:00:00</td>\n",
       "      <td>2</td>\n",
       "      <td>1.00</td>\n",
       "      <td>12.0</td>\n",
       "      <td>32.4</td>\n",
       "      <td>7</td>\n",
       "      <td>NaN</td>\n",
       "      <td>...</td>\n",
       "      <td>10.00</td>\n",
       "      <td>NaN</td>\n",
       "      <td>санкт-петербург</td>\n",
       "      <td>33053.0</td>\n",
       "      <td>14217.0</td>\n",
       "      <td>2.0</td>\n",
       "      <td>293.0</td>\n",
       "      <td>2.0</td>\n",
       "      <td>289.0</td>\n",
       "      <td>13.0</td>\n",
       "    </tr>\n",
       "  </tbody>\n",
       "</table>\n",
       "<p>998 rows × 22 columns</p>\n",
       "</div>"
      ],
      "text/plain": [
       "       total_images  last_price  total_area first_day_exposition  rooms  \\\n",
       "22869             0  15000000.0        25.0  2018-07-25T00:00:00      1   \n",
       "22336            19   9999000.0        92.4  2019-04-05T00:00:00      2   \n",
       "3148             14   2900000.0        75.0  2018-11-12T00:00:00      3   \n",
       "21377            19   4900000.0        42.0  2017-04-18T00:00:00      1   \n",
       "20478            11   8000000.0        45.0  2017-07-18T00:00:00      1   \n",
       "...             ...         ...         ...                  ...    ...   \n",
       "5850              9   1650000.0        35.5  2018-05-29T00:00:00      1   \n",
       "552              11   2999000.0        33.5  2017-03-30T00:00:00      1   \n",
       "16934             5   4100000.0        40.0  2017-10-17T00:00:00      1   \n",
       "5712              5   1500000.0        42.8  2017-08-14T00:00:00      2   \n",
       "22590            16   6000000.0        55.0  2018-10-31T00:00:00      2   \n",
       "\n",
       "       ceiling_height  floors_total  living_area  floor is_apartment  ...  \\\n",
       "22869          100.00           5.0         14.0      5         True  ...   \n",
       "22336           32.00           6.0         55.5      5        False  ...   \n",
       "3148            32.00           3.0         53.0      2          NaN  ...   \n",
       "21377           27.50          24.0         37.7     19        False  ...   \n",
       "20478           27.00           4.0         22.0      2          NaN  ...   \n",
       "...               ...           ...          ...    ...          ...  ...   \n",
       "5850             2.00           5.0          NaN      5          NaN  ...   \n",
       "552              2.00          15.0         17.5      6          NaN  ...   \n",
       "16934            1.75          37.0         17.4      5          NaN  ...   \n",
       "5712             1.20           2.0         27.5      1          NaN  ...   \n",
       "22590            1.00          12.0         32.4      7          NaN  ...   \n",
       "\n",
       "       kitchen_area  balcony          locality_name  airports_nearest  \\\n",
       "22869         11.00      5.0        санкт-петербург           34963.0   \n",
       "22336         16.50      4.0        санкт-петербург           18838.0   \n",
       "3148           8.00      NaN                 волхов               NaN   \n",
       "21377         11.00      2.0        санкт-петербург           42742.0   \n",
       "20478         10.00      1.0        санкт-петербург           18975.0   \n",
       "...             ...      ...                    ...               ...   \n",
       "5850            NaN      NaN                   луга               NaN   \n",
       "552            6.50      NaN        санкт-петербург           33972.0   \n",
       "16934          8.34      NaN        санкт-петербург           18732.0   \n",
       "5712           5.20      NaN  городской посёлок мга               NaN   \n",
       "22590         10.00      NaN        санкт-петербург           33053.0   \n",
       "\n",
       "      cityCenters_nearest  parks_around3000  parks_nearest  ponds_around3000  \\\n",
       "22869              8283.0               1.0          223.0               3.0   \n",
       "22336              3506.0               0.0            NaN               3.0   \n",
       "3148                  NaN               NaN            NaN               NaN   \n",
       "21377              9760.0               0.0            NaN               0.0   \n",
       "20478              3246.0               0.0            NaN               3.0   \n",
       "...                   ...               ...            ...               ...   \n",
       "5850                  NaN               NaN            NaN               NaN   \n",
       "552               11746.0               1.0          520.0               1.0   \n",
       "16934             20444.0               0.0            NaN               3.0   \n",
       "5712                  NaN               NaN            NaN               NaN   \n",
       "22590             14217.0               2.0          293.0               2.0   \n",
       "\n",
       "       ponds_nearest  days_exposition  \n",
       "22869           30.0             19.0  \n",
       "22336          511.0              NaN  \n",
       "3148             NaN              NaN  \n",
       "21377            NaN             61.0  \n",
       "20478          449.0            429.0  \n",
       "...              ...              ...  \n",
       "5850             NaN            100.0  \n",
       "552            949.0            270.0  \n",
       "16934           80.0             71.0  \n",
       "5712             NaN            248.0  \n",
       "22590          289.0             13.0  \n",
       "\n",
       "[998 rows x 22 columns]"
      ]
     },
     "execution_count": 301,
     "metadata": {},
     "output_type": "execute_result"
    }
   ],
   "source": [
    "df.query('ceiling_height.isna() == False').sort_values(by='ceiling_height', ascending=False).groupby('ceiling_height').head(10)"
   ]
  },
  {
   "cell_type": "code",
   "execution_count": 302,
   "metadata": {},
   "outputs": [],
   "source": [
    "df['ceiling_height'] = df['ceiling_height'].fillna(df['ceiling_height'].median())"
   ]
  },
  {
   "cell_type": "markdown",
   "metadata": {},
   "source": [
    "Пропущенные значения в столбце ceiling_height заменены на медианные."
   ]
  },
  {
   "cell_type": "code",
   "execution_count": 303,
   "metadata": {},
   "outputs": [],
   "source": [
    "df.loc[(df['ceiling_height'] >= 3.5) & (df['ceiling_height'] < 2), 'ceiling_height'] = df['ceiling_height'].median()"
   ]
  },
  {
   "cell_type": "markdown",
   "metadata": {},
   "source": [
    "Слишком большие значения в столбце ceiling_height заменены на медиану."
   ]
  },
  {
   "cell_type": "code",
   "execution_count": 304,
   "metadata": {},
   "outputs": [
    {
     "data": {
      "text/plain": [
       "5.0     5788\n",
       "9.0     3761\n",
       "16.0    1376\n",
       "12.0    1362\n",
       "4.0     1200\n",
       "10.0    1174\n",
       "25.0    1075\n",
       "6.0      914\n",
       "17.0     833\n",
       "3.0      668\n",
       "7.0      592\n",
       "14.0     553\n",
       "18.0     505\n",
       "24.0     469\n",
       "8.0      390\n",
       "2.0      383\n",
       "15.0     365\n",
       "23.0     352\n",
       "19.0     339\n",
       "22.0     286\n",
       "20.0     271\n",
       "13.0     229\n",
       "11.0     203\n",
       "27.0     164\n",
       "21.0     158\n",
       "26.0     124\n",
       "1.0       25\n",
       "35.0      24\n",
       "28.0      21\n",
       "36.0       3\n",
       "29.0       1\n",
       "60.0       1\n",
       "33.0       1\n",
       "52.0       1\n",
       "37.0       1\n",
       "34.0       1\n",
       "Name: floors_total, dtype: int64"
      ]
     },
     "execution_count": 304,
     "metadata": {},
     "output_type": "execute_result"
    }
   ],
   "source": [
    "df['floors_total'].value_counts()"
   ]
  },
  {
   "cell_type": "code",
   "execution_count": 305,
   "metadata": {},
   "outputs": [
    {
     "data": {
      "text/html": [
       "<div>\n",
       "<style scoped>\n",
       "    .dataframe tbody tr th:only-of-type {\n",
       "        vertical-align: middle;\n",
       "    }\n",
       "\n",
       "    .dataframe tbody tr th {\n",
       "        vertical-align: top;\n",
       "    }\n",
       "\n",
       "    .dataframe thead th {\n",
       "        text-align: right;\n",
       "    }\n",
       "</style>\n",
       "<table border=\"1\" class=\"dataframe\">\n",
       "  <thead>\n",
       "    <tr style=\"text-align: right;\">\n",
       "      <th></th>\n",
       "      <th>total_images</th>\n",
       "      <th>last_price</th>\n",
       "      <th>total_area</th>\n",
       "      <th>first_day_exposition</th>\n",
       "      <th>rooms</th>\n",
       "      <th>ceiling_height</th>\n",
       "      <th>floors_total</th>\n",
       "      <th>living_area</th>\n",
       "      <th>floor</th>\n",
       "      <th>is_apartment</th>\n",
       "      <th>...</th>\n",
       "      <th>kitchen_area</th>\n",
       "      <th>balcony</th>\n",
       "      <th>locality_name</th>\n",
       "      <th>airports_nearest</th>\n",
       "      <th>cityCenters_nearest</th>\n",
       "      <th>parks_around3000</th>\n",
       "      <th>parks_nearest</th>\n",
       "      <th>ponds_around3000</th>\n",
       "      <th>ponds_nearest</th>\n",
       "      <th>days_exposition</th>\n",
       "    </tr>\n",
       "  </thead>\n",
       "  <tbody>\n",
       "    <tr>\n",
       "      <td>0</td>\n",
       "      <td>20</td>\n",
       "      <td>13000000.0</td>\n",
       "      <td>108.0</td>\n",
       "      <td>2019-03-07T00:00:00</td>\n",
       "      <td>3</td>\n",
       "      <td>2.70</td>\n",
       "      <td>16.0</td>\n",
       "      <td>51.0</td>\n",
       "      <td>8</td>\n",
       "      <td>NaN</td>\n",
       "      <td>...</td>\n",
       "      <td>25.0</td>\n",
       "      <td>NaN</td>\n",
       "      <td>санкт-петербург</td>\n",
       "      <td>18863.0</td>\n",
       "      <td>16028.0</td>\n",
       "      <td>1.0</td>\n",
       "      <td>482.0</td>\n",
       "      <td>2.0</td>\n",
       "      <td>755.0</td>\n",
       "      <td>NaN</td>\n",
       "    </tr>\n",
       "    <tr>\n",
       "      <td>1</td>\n",
       "      <td>7</td>\n",
       "      <td>3350000.0</td>\n",
       "      <td>40.4</td>\n",
       "      <td>2018-12-04T00:00:00</td>\n",
       "      <td>1</td>\n",
       "      <td>2.65</td>\n",
       "      <td>11.0</td>\n",
       "      <td>18.6</td>\n",
       "      <td>1</td>\n",
       "      <td>NaN</td>\n",
       "      <td>...</td>\n",
       "      <td>11.0</td>\n",
       "      <td>2.0</td>\n",
       "      <td>посёлок шушары</td>\n",
       "      <td>12817.0</td>\n",
       "      <td>18603.0</td>\n",
       "      <td>0.0</td>\n",
       "      <td>NaN</td>\n",
       "      <td>0.0</td>\n",
       "      <td>NaN</td>\n",
       "      <td>81.0</td>\n",
       "    </tr>\n",
       "    <tr>\n",
       "      <td>2</td>\n",
       "      <td>10</td>\n",
       "      <td>5196000.0</td>\n",
       "      <td>56.0</td>\n",
       "      <td>2015-08-20T00:00:00</td>\n",
       "      <td>2</td>\n",
       "      <td>2.65</td>\n",
       "      <td>5.0</td>\n",
       "      <td>34.3</td>\n",
       "      <td>4</td>\n",
       "      <td>NaN</td>\n",
       "      <td>...</td>\n",
       "      <td>8.3</td>\n",
       "      <td>0.0</td>\n",
       "      <td>санкт-петербург</td>\n",
       "      <td>21741.0</td>\n",
       "      <td>13933.0</td>\n",
       "      <td>1.0</td>\n",
       "      <td>90.0</td>\n",
       "      <td>2.0</td>\n",
       "      <td>574.0</td>\n",
       "      <td>558.0</td>\n",
       "    </tr>\n",
       "    <tr>\n",
       "      <td>3</td>\n",
       "      <td>0</td>\n",
       "      <td>64900000.0</td>\n",
       "      <td>159.0</td>\n",
       "      <td>2015-07-24T00:00:00</td>\n",
       "      <td>3</td>\n",
       "      <td>2.65</td>\n",
       "      <td>14.0</td>\n",
       "      <td>NaN</td>\n",
       "      <td>9</td>\n",
       "      <td>NaN</td>\n",
       "      <td>...</td>\n",
       "      <td>NaN</td>\n",
       "      <td>0.0</td>\n",
       "      <td>санкт-петербург</td>\n",
       "      <td>28098.0</td>\n",
       "      <td>6800.0</td>\n",
       "      <td>2.0</td>\n",
       "      <td>84.0</td>\n",
       "      <td>3.0</td>\n",
       "      <td>234.0</td>\n",
       "      <td>424.0</td>\n",
       "    </tr>\n",
       "    <tr>\n",
       "      <td>4</td>\n",
       "      <td>2</td>\n",
       "      <td>10000000.0</td>\n",
       "      <td>100.0</td>\n",
       "      <td>2018-06-19T00:00:00</td>\n",
       "      <td>2</td>\n",
       "      <td>3.03</td>\n",
       "      <td>14.0</td>\n",
       "      <td>32.0</td>\n",
       "      <td>13</td>\n",
       "      <td>NaN</td>\n",
       "      <td>...</td>\n",
       "      <td>41.0</td>\n",
       "      <td>NaN</td>\n",
       "      <td>санкт-петербург</td>\n",
       "      <td>31856.0</td>\n",
       "      <td>8098.0</td>\n",
       "      <td>2.0</td>\n",
       "      <td>112.0</td>\n",
       "      <td>1.0</td>\n",
       "      <td>48.0</td>\n",
       "      <td>121.0</td>\n",
       "    </tr>\n",
       "  </tbody>\n",
       "</table>\n",
       "<p>5 rows × 22 columns</p>\n",
       "</div>"
      ],
      "text/plain": [
       "   total_images  last_price  total_area first_day_exposition  rooms  \\\n",
       "0            20  13000000.0       108.0  2019-03-07T00:00:00      3   \n",
       "1             7   3350000.0        40.4  2018-12-04T00:00:00      1   \n",
       "2            10   5196000.0        56.0  2015-08-20T00:00:00      2   \n",
       "3             0  64900000.0       159.0  2015-07-24T00:00:00      3   \n",
       "4             2  10000000.0       100.0  2018-06-19T00:00:00      2   \n",
       "\n",
       "   ceiling_height  floors_total  living_area  floor is_apartment  ...  \\\n",
       "0            2.70          16.0         51.0      8          NaN  ...   \n",
       "1            2.65          11.0         18.6      1          NaN  ...   \n",
       "2            2.65           5.0         34.3      4          NaN  ...   \n",
       "3            2.65          14.0          NaN      9          NaN  ...   \n",
       "4            3.03          14.0         32.0     13          NaN  ...   \n",
       "\n",
       "   kitchen_area  balcony    locality_name  airports_nearest  \\\n",
       "0          25.0      NaN  санкт-петербург           18863.0   \n",
       "1          11.0      2.0   посёлок шушары           12817.0   \n",
       "2           8.3      0.0  санкт-петербург           21741.0   \n",
       "3           NaN      0.0  санкт-петербург           28098.0   \n",
       "4          41.0      NaN  санкт-петербург           31856.0   \n",
       "\n",
       "  cityCenters_nearest  parks_around3000  parks_nearest  ponds_around3000  \\\n",
       "0             16028.0               1.0          482.0               2.0   \n",
       "1             18603.0               0.0            NaN               0.0   \n",
       "2             13933.0               1.0           90.0               2.0   \n",
       "3              6800.0               2.0           84.0               3.0   \n",
       "4              8098.0               2.0          112.0               1.0   \n",
       "\n",
       "   ponds_nearest  days_exposition  \n",
       "0          755.0              NaN  \n",
       "1            NaN             81.0  \n",
       "2          574.0            558.0  \n",
       "3          234.0            424.0  \n",
       "4           48.0            121.0  \n",
       "\n",
       "[5 rows x 22 columns]"
      ]
     },
     "execution_count": 305,
     "metadata": {},
     "output_type": "execute_result"
    }
   ],
   "source": [
    "def mean_median_fillna(data):\n",
    "    mean = df['floors_total'].mean()\n",
    "    median = df['floors_total'].median()\n",
    "    floors_total = data['floors_total']\n",
    "    if floors_total != floors_total:\n",
    "        if mean < median:\n",
    "            floors_total = mean\n",
    "            return floors_total\n",
    "        else:\n",
    "            floors_total = median\n",
    "            return floors_total\n",
    "    return floors_total\n",
    "df['floors_total'] = df.apply(mean_median_fillna, axis=1)\n",
    "df.head(5)"
   ]
  },
  {
   "cell_type": "markdown",
   "metadata": {},
   "source": [
    "Пропущенные значения в столбце floors_total заменены на меньшее значение, после сравнения сренего и медианы."
   ]
  },
  {
   "cell_type": "code",
   "execution_count": 306,
   "metadata": {},
   "outputs": [
    {
     "data": {
      "text/plain": [
       "1.0    4195\n",
       "0.0    3758\n",
       "2.0    3659\n",
       "5.0     304\n",
       "4.0     183\n",
       "3.0      81\n",
       "Name: balcony, dtype: int64"
      ]
     },
     "execution_count": 306,
     "metadata": {},
     "output_type": "execute_result"
    }
   ],
   "source": [
    "df['balcony'].value_counts()"
   ]
  },
  {
   "cell_type": "code",
   "execution_count": 307,
   "metadata": {},
   "outputs": [
    {
     "data": {
      "text/html": [
       "<div>\n",
       "<style scoped>\n",
       "    .dataframe tbody tr th:only-of-type {\n",
       "        vertical-align: middle;\n",
       "    }\n",
       "\n",
       "    .dataframe tbody tr th {\n",
       "        vertical-align: top;\n",
       "    }\n",
       "\n",
       "    .dataframe thead th {\n",
       "        text-align: right;\n",
       "    }\n",
       "</style>\n",
       "<table border=\"1\" class=\"dataframe\">\n",
       "  <thead>\n",
       "    <tr style=\"text-align: right;\">\n",
       "      <th></th>\n",
       "      <th>total_images</th>\n",
       "      <th>last_price</th>\n",
       "      <th>total_area</th>\n",
       "      <th>first_day_exposition</th>\n",
       "      <th>rooms</th>\n",
       "      <th>ceiling_height</th>\n",
       "      <th>floors_total</th>\n",
       "      <th>living_area</th>\n",
       "      <th>floor</th>\n",
       "      <th>is_apartment</th>\n",
       "      <th>...</th>\n",
       "      <th>kitchen_area</th>\n",
       "      <th>balcony</th>\n",
       "      <th>locality_name</th>\n",
       "      <th>airports_nearest</th>\n",
       "      <th>cityCenters_nearest</th>\n",
       "      <th>parks_around3000</th>\n",
       "      <th>parks_nearest</th>\n",
       "      <th>ponds_around3000</th>\n",
       "      <th>ponds_nearest</th>\n",
       "      <th>days_exposition</th>\n",
       "    </tr>\n",
       "  </thead>\n",
       "  <tbody>\n",
       "    <tr>\n",
       "      <td>0</td>\n",
       "      <td>20</td>\n",
       "      <td>13000000.0</td>\n",
       "      <td>108.00</td>\n",
       "      <td>2019-03-07T00:00:00</td>\n",
       "      <td>3</td>\n",
       "      <td>2.70</td>\n",
       "      <td>16.0</td>\n",
       "      <td>51.00</td>\n",
       "      <td>8</td>\n",
       "      <td>NaN</td>\n",
       "      <td>...</td>\n",
       "      <td>25.00</td>\n",
       "      <td>NaN</td>\n",
       "      <td>санкт-петербург</td>\n",
       "      <td>18863.0</td>\n",
       "      <td>16028.0</td>\n",
       "      <td>1.0</td>\n",
       "      <td>482.0</td>\n",
       "      <td>2.0</td>\n",
       "      <td>755.0</td>\n",
       "      <td>NaN</td>\n",
       "    </tr>\n",
       "    <tr>\n",
       "      <td>4</td>\n",
       "      <td>2</td>\n",
       "      <td>10000000.0</td>\n",
       "      <td>100.00</td>\n",
       "      <td>2018-06-19T00:00:00</td>\n",
       "      <td>2</td>\n",
       "      <td>3.03</td>\n",
       "      <td>14.0</td>\n",
       "      <td>32.00</td>\n",
       "      <td>13</td>\n",
       "      <td>NaN</td>\n",
       "      <td>...</td>\n",
       "      <td>41.00</td>\n",
       "      <td>NaN</td>\n",
       "      <td>санкт-петербург</td>\n",
       "      <td>31856.0</td>\n",
       "      <td>8098.0</td>\n",
       "      <td>2.0</td>\n",
       "      <td>112.0</td>\n",
       "      <td>1.0</td>\n",
       "      <td>48.0</td>\n",
       "      <td>121.0</td>\n",
       "    </tr>\n",
       "    <tr>\n",
       "      <td>5</td>\n",
       "      <td>10</td>\n",
       "      <td>2890000.0</td>\n",
       "      <td>30.40</td>\n",
       "      <td>2018-09-10T00:00:00</td>\n",
       "      <td>1</td>\n",
       "      <td>2.65</td>\n",
       "      <td>12.0</td>\n",
       "      <td>14.40</td>\n",
       "      <td>5</td>\n",
       "      <td>NaN</td>\n",
       "      <td>...</td>\n",
       "      <td>9.10</td>\n",
       "      <td>NaN</td>\n",
       "      <td>городской посёлок янино-1</td>\n",
       "      <td>NaN</td>\n",
       "      <td>NaN</td>\n",
       "      <td>NaN</td>\n",
       "      <td>NaN</td>\n",
       "      <td>NaN</td>\n",
       "      <td>NaN</td>\n",
       "      <td>55.0</td>\n",
       "    </tr>\n",
       "    <tr>\n",
       "      <td>8</td>\n",
       "      <td>20</td>\n",
       "      <td>2900000.0</td>\n",
       "      <td>33.16</td>\n",
       "      <td>2018-05-23T00:00:00</td>\n",
       "      <td>1</td>\n",
       "      <td>2.65</td>\n",
       "      <td>27.0</td>\n",
       "      <td>15.43</td>\n",
       "      <td>26</td>\n",
       "      <td>NaN</td>\n",
       "      <td>...</td>\n",
       "      <td>8.81</td>\n",
       "      <td>NaN</td>\n",
       "      <td>посёлок мурино</td>\n",
       "      <td>NaN</td>\n",
       "      <td>NaN</td>\n",
       "      <td>NaN</td>\n",
       "      <td>NaN</td>\n",
       "      <td>NaN</td>\n",
       "      <td>NaN</td>\n",
       "      <td>189.0</td>\n",
       "    </tr>\n",
       "    <tr>\n",
       "      <td>10</td>\n",
       "      <td>5</td>\n",
       "      <td>5050000.0</td>\n",
       "      <td>39.60</td>\n",
       "      <td>2017-11-16T00:00:00</td>\n",
       "      <td>1</td>\n",
       "      <td>2.67</td>\n",
       "      <td>12.0</td>\n",
       "      <td>20.30</td>\n",
       "      <td>3</td>\n",
       "      <td>NaN</td>\n",
       "      <td>...</td>\n",
       "      <td>8.50</td>\n",
       "      <td>NaN</td>\n",
       "      <td>санкт-петербург</td>\n",
       "      <td>38357.0</td>\n",
       "      <td>13878.0</td>\n",
       "      <td>1.0</td>\n",
       "      <td>310.0</td>\n",
       "      <td>2.0</td>\n",
       "      <td>553.0</td>\n",
       "      <td>137.0</td>\n",
       "    </tr>\n",
       "    <tr>\n",
       "      <td>...</td>\n",
       "      <td>...</td>\n",
       "      <td>...</td>\n",
       "      <td>...</td>\n",
       "      <td>...</td>\n",
       "      <td>...</td>\n",
       "      <td>...</td>\n",
       "      <td>...</td>\n",
       "      <td>...</td>\n",
       "      <td>...</td>\n",
       "      <td>...</td>\n",
       "      <td>...</td>\n",
       "      <td>...</td>\n",
       "      <td>...</td>\n",
       "      <td>...</td>\n",
       "      <td>...</td>\n",
       "      <td>...</td>\n",
       "      <td>...</td>\n",
       "      <td>...</td>\n",
       "      <td>...</td>\n",
       "      <td>...</td>\n",
       "      <td>...</td>\n",
       "    </tr>\n",
       "    <tr>\n",
       "      <td>23692</td>\n",
       "      <td>2</td>\n",
       "      <td>1350000.0</td>\n",
       "      <td>30.00</td>\n",
       "      <td>2017-07-07T00:00:00</td>\n",
       "      <td>1</td>\n",
       "      <td>2.65</td>\n",
       "      <td>5.0</td>\n",
       "      <td>17.50</td>\n",
       "      <td>4</td>\n",
       "      <td>NaN</td>\n",
       "      <td>...</td>\n",
       "      <td>6.00</td>\n",
       "      <td>NaN</td>\n",
       "      <td>тихвин</td>\n",
       "      <td>NaN</td>\n",
       "      <td>NaN</td>\n",
       "      <td>NaN</td>\n",
       "      <td>NaN</td>\n",
       "      <td>NaN</td>\n",
       "      <td>NaN</td>\n",
       "      <td>413.0</td>\n",
       "    </tr>\n",
       "    <tr>\n",
       "      <td>23694</td>\n",
       "      <td>9</td>\n",
       "      <td>9700000.0</td>\n",
       "      <td>133.81</td>\n",
       "      <td>2017-03-21T00:00:00</td>\n",
       "      <td>3</td>\n",
       "      <td>3.70</td>\n",
       "      <td>5.0</td>\n",
       "      <td>73.30</td>\n",
       "      <td>3</td>\n",
       "      <td>NaN</td>\n",
       "      <td>...</td>\n",
       "      <td>13.83</td>\n",
       "      <td>NaN</td>\n",
       "      <td>санкт-петербург</td>\n",
       "      <td>24665.0</td>\n",
       "      <td>4232.0</td>\n",
       "      <td>1.0</td>\n",
       "      <td>796.0</td>\n",
       "      <td>3.0</td>\n",
       "      <td>381.0</td>\n",
       "      <td>NaN</td>\n",
       "    </tr>\n",
       "    <tr>\n",
       "      <td>23695</td>\n",
       "      <td>14</td>\n",
       "      <td>3100000.0</td>\n",
       "      <td>59.00</td>\n",
       "      <td>2018-01-15T00:00:00</td>\n",
       "      <td>3</td>\n",
       "      <td>2.65</td>\n",
       "      <td>5.0</td>\n",
       "      <td>38.00</td>\n",
       "      <td>4</td>\n",
       "      <td>NaN</td>\n",
       "      <td>...</td>\n",
       "      <td>8.50</td>\n",
       "      <td>NaN</td>\n",
       "      <td>тосно</td>\n",
       "      <td>NaN</td>\n",
       "      <td>NaN</td>\n",
       "      <td>NaN</td>\n",
       "      <td>NaN</td>\n",
       "      <td>NaN</td>\n",
       "      <td>NaN</td>\n",
       "      <td>45.0</td>\n",
       "    </tr>\n",
       "    <tr>\n",
       "      <td>23696</td>\n",
       "      <td>18</td>\n",
       "      <td>2500000.0</td>\n",
       "      <td>56.70</td>\n",
       "      <td>2018-02-11T00:00:00</td>\n",
       "      <td>2</td>\n",
       "      <td>2.65</td>\n",
       "      <td>3.0</td>\n",
       "      <td>29.70</td>\n",
       "      <td>1</td>\n",
       "      <td>NaN</td>\n",
       "      <td>...</td>\n",
       "      <td>NaN</td>\n",
       "      <td>NaN</td>\n",
       "      <td>село рождествено</td>\n",
       "      <td>NaN</td>\n",
       "      <td>NaN</td>\n",
       "      <td>NaN</td>\n",
       "      <td>NaN</td>\n",
       "      <td>NaN</td>\n",
       "      <td>NaN</td>\n",
       "      <td>NaN</td>\n",
       "    </tr>\n",
       "    <tr>\n",
       "      <td>23698</td>\n",
       "      <td>4</td>\n",
       "      <td>1350000.0</td>\n",
       "      <td>32.30</td>\n",
       "      <td>2017-07-21T00:00:00</td>\n",
       "      <td>1</td>\n",
       "      <td>2.50</td>\n",
       "      <td>5.0</td>\n",
       "      <td>12.30</td>\n",
       "      <td>1</td>\n",
       "      <td>NaN</td>\n",
       "      <td>...</td>\n",
       "      <td>9.00</td>\n",
       "      <td>NaN</td>\n",
       "      <td>поселок новый учхоз</td>\n",
       "      <td>NaN</td>\n",
       "      <td>NaN</td>\n",
       "      <td>NaN</td>\n",
       "      <td>NaN</td>\n",
       "      <td>NaN</td>\n",
       "      <td>NaN</td>\n",
       "      <td>NaN</td>\n",
       "    </tr>\n",
       "  </tbody>\n",
       "</table>\n",
       "<p>11519 rows × 22 columns</p>\n",
       "</div>"
      ],
      "text/plain": [
       "       total_images  last_price  total_area first_day_exposition  rooms  \\\n",
       "0                20  13000000.0      108.00  2019-03-07T00:00:00      3   \n",
       "4                 2  10000000.0      100.00  2018-06-19T00:00:00      2   \n",
       "5                10   2890000.0       30.40  2018-09-10T00:00:00      1   \n",
       "8                20   2900000.0       33.16  2018-05-23T00:00:00      1   \n",
       "10                5   5050000.0       39.60  2017-11-16T00:00:00      1   \n",
       "...             ...         ...         ...                  ...    ...   \n",
       "23692             2   1350000.0       30.00  2017-07-07T00:00:00      1   \n",
       "23694             9   9700000.0      133.81  2017-03-21T00:00:00      3   \n",
       "23695            14   3100000.0       59.00  2018-01-15T00:00:00      3   \n",
       "23696            18   2500000.0       56.70  2018-02-11T00:00:00      2   \n",
       "23698             4   1350000.0       32.30  2017-07-21T00:00:00      1   \n",
       "\n",
       "       ceiling_height  floors_total  living_area  floor is_apartment  ...  \\\n",
       "0                2.70          16.0        51.00      8          NaN  ...   \n",
       "4                3.03          14.0        32.00     13          NaN  ...   \n",
       "5                2.65          12.0        14.40      5          NaN  ...   \n",
       "8                2.65          27.0        15.43     26          NaN  ...   \n",
       "10               2.67          12.0        20.30      3          NaN  ...   \n",
       "...               ...           ...          ...    ...          ...  ...   \n",
       "23692            2.65           5.0        17.50      4          NaN  ...   \n",
       "23694            3.70           5.0        73.30      3          NaN  ...   \n",
       "23695            2.65           5.0        38.00      4          NaN  ...   \n",
       "23696            2.65           3.0        29.70      1          NaN  ...   \n",
       "23698            2.50           5.0        12.30      1          NaN  ...   \n",
       "\n",
       "       kitchen_area  balcony              locality_name  airports_nearest  \\\n",
       "0             25.00      NaN            санкт-петербург           18863.0   \n",
       "4             41.00      NaN            санкт-петербург           31856.0   \n",
       "5              9.10      NaN  городской посёлок янино-1               NaN   \n",
       "8              8.81      NaN             посёлок мурино               NaN   \n",
       "10             8.50      NaN            санкт-петербург           38357.0   \n",
       "...             ...      ...                        ...               ...   \n",
       "23692          6.00      NaN                     тихвин               NaN   \n",
       "23694         13.83      NaN            санкт-петербург           24665.0   \n",
       "23695          8.50      NaN                      тосно               NaN   \n",
       "23696           NaN      NaN           село рождествено               NaN   \n",
       "23698          9.00      NaN        поселок новый учхоз               NaN   \n",
       "\n",
       "      cityCenters_nearest  parks_around3000  parks_nearest  ponds_around3000  \\\n",
       "0                 16028.0               1.0          482.0               2.0   \n",
       "4                  8098.0               2.0          112.0               1.0   \n",
       "5                     NaN               NaN            NaN               NaN   \n",
       "8                     NaN               NaN            NaN               NaN   \n",
       "10                13878.0               1.0          310.0               2.0   \n",
       "...                   ...               ...            ...               ...   \n",
       "23692                 NaN               NaN            NaN               NaN   \n",
       "23694              4232.0               1.0          796.0               3.0   \n",
       "23695                 NaN               NaN            NaN               NaN   \n",
       "23696                 NaN               NaN            NaN               NaN   \n",
       "23698                 NaN               NaN            NaN               NaN   \n",
       "\n",
       "       ponds_nearest  days_exposition  \n",
       "0              755.0              NaN  \n",
       "4               48.0            121.0  \n",
       "5                NaN             55.0  \n",
       "8                NaN            189.0  \n",
       "10             553.0            137.0  \n",
       "...              ...              ...  \n",
       "23692            NaN            413.0  \n",
       "23694          381.0              NaN  \n",
       "23695            NaN             45.0  \n",
       "23696            NaN              NaN  \n",
       "23698            NaN              NaN  \n",
       "\n",
       "[11519 rows x 22 columns]"
      ]
     },
     "execution_count": 307,
     "metadata": {},
     "output_type": "execute_result"
    }
   ],
   "source": [
    "df.query('balcony.isna() == True')"
   ]
  },
  {
   "cell_type": "code",
   "execution_count": 308,
   "metadata": {},
   "outputs": [
    {
     "data": {
      "text/plain": [
       "0.0    10106\n",
       "1.0     5681\n",
       "2.0     1747\n",
       "3.0      647\n",
       "Name: parks_around3000, dtype: int64"
      ]
     },
     "execution_count": 308,
     "metadata": {},
     "output_type": "execute_result"
    }
   ],
   "source": [
    "df['parks_around3000'].value_counts()"
   ]
  },
  {
   "cell_type": "code",
   "execution_count": 309,
   "metadata": {},
   "outputs": [
    {
     "data": {
      "text/plain": [
       "0.0    9071\n",
       "1.0    5717\n",
       "2.0    1892\n",
       "3.0    1501\n",
       "Name: ponds_around3000, dtype: int64"
      ]
     },
     "execution_count": 309,
     "metadata": {},
     "output_type": "execute_result"
    }
   ],
   "source": [
    "df['ponds_around3000'].value_counts()"
   ]
  },
  {
   "cell_type": "code",
   "execution_count": 310,
   "metadata": {},
   "outputs": [],
   "source": [
    "for column in ['balcony', 'parks_around3000', 'ponds_around3000']:\n",
    "    df[column] = df[column].fillna(0)"
   ]
  },
  {
   "cell_type": "markdown",
   "metadata": {},
   "source": [
    "Пропущенные значения в столбце balcony, parks_around3000 и ponds_around3000 заменены на 0. Предполагается, что балконов, парков и водоёмов нет, если их количество не указали."
   ]
  },
  {
   "cell_type": "code",
   "execution_count": 311,
   "metadata": {},
   "outputs": [],
   "source": [
    "df['first_day_exposition'] = pd.to_datetime(df['first_day_exposition'], format='%Y-%m-%dT%H:%M:%S')"
   ]
  },
  {
   "cell_type": "markdown",
   "metadata": {},
   "source": [
    "Изменён тип данных в столбце first_day_exposition на datetime."
   ]
  },
  {
   "cell_type": "code",
   "execution_count": 312,
   "metadata": {},
   "outputs": [
    {
     "data": {
      "text/plain": [
       "Timestamp('2019-05-03 00:00:00')"
      ]
     },
     "execution_count": 312,
     "metadata": {},
     "output_type": "execute_result"
    }
   ],
   "source": [
    "df['first_day_exposition'].max()"
   ]
  },
  {
   "cell_type": "markdown",
   "metadata": {},
   "source": [
    "Найдена самая поздняя дата публикации объявления."
   ]
  },
  {
   "cell_type": "code",
   "execution_count": 313,
   "metadata": {},
   "outputs": [
    {
     "data": {
      "text/html": [
       "<div>\n",
       "<style scoped>\n",
       "    .dataframe tbody tr th:only-of-type {\n",
       "        vertical-align: middle;\n",
       "    }\n",
       "\n",
       "    .dataframe tbody tr th {\n",
       "        vertical-align: top;\n",
       "    }\n",
       "\n",
       "    .dataframe thead th {\n",
       "        text-align: right;\n",
       "    }\n",
       "</style>\n",
       "<table border=\"1\" class=\"dataframe\">\n",
       "  <thead>\n",
       "    <tr style=\"text-align: right;\">\n",
       "      <th></th>\n",
       "      <th>total_images</th>\n",
       "      <th>last_price</th>\n",
       "      <th>total_area</th>\n",
       "      <th>first_day_exposition</th>\n",
       "      <th>rooms</th>\n",
       "      <th>ceiling_height</th>\n",
       "      <th>floors_total</th>\n",
       "      <th>living_area</th>\n",
       "      <th>floor</th>\n",
       "      <th>is_apartment</th>\n",
       "      <th>...</th>\n",
       "      <th>kitchen_area</th>\n",
       "      <th>balcony</th>\n",
       "      <th>locality_name</th>\n",
       "      <th>airports_nearest</th>\n",
       "      <th>cityCenters_nearest</th>\n",
       "      <th>parks_around3000</th>\n",
       "      <th>parks_nearest</th>\n",
       "      <th>ponds_around3000</th>\n",
       "      <th>ponds_nearest</th>\n",
       "      <th>days_exposition</th>\n",
       "    </tr>\n",
       "  </thead>\n",
       "  <tbody>\n",
       "  </tbody>\n",
       "</table>\n",
       "<p>0 rows × 22 columns</p>\n",
       "</div>"
      ],
      "text/plain": [
       "Empty DataFrame\n",
       "Columns: [total_images, last_price, total_area, first_day_exposition, rooms, ceiling_height, floors_total, living_area, floor, is_apartment, studio, open_plan, kitchen_area, balcony, locality_name, airports_nearest, cityCenters_nearest, parks_around3000, parks_nearest, ponds_around3000, ponds_nearest, days_exposition]\n",
       "Index: []\n",
       "\n",
       "[0 rows x 22 columns]"
      ]
     },
     "execution_count": 313,
     "metadata": {},
     "output_type": "execute_result"
    }
   ],
   "source": [
    "df.query('first_day_exposition == first_day_exposition.max() and days_exposition.isna() == False')"
   ]
  },
  {
   "cell_type": "markdown",
   "metadata": {},
   "source": [
    "У объявлений с самой поздней датой публикации не указана продолжительность размещения объявлений. Предположительно в этот день производилась выгрузка."
   ]
  },
  {
   "cell_type": "code",
   "execution_count": 314,
   "metadata": {},
   "outputs": [
    {
     "data": {
      "text/html": [
       "<div>\n",
       "<style scoped>\n",
       "    .dataframe tbody tr th:only-of-type {\n",
       "        vertical-align: middle;\n",
       "    }\n",
       "\n",
       "    .dataframe tbody tr th {\n",
       "        vertical-align: top;\n",
       "    }\n",
       "\n",
       "    .dataframe thead th {\n",
       "        text-align: right;\n",
       "    }\n",
       "</style>\n",
       "<table border=\"1\" class=\"dataframe\">\n",
       "  <thead>\n",
       "    <tr style=\"text-align: right;\">\n",
       "      <th></th>\n",
       "      <th>total_images</th>\n",
       "      <th>last_price</th>\n",
       "      <th>total_area</th>\n",
       "      <th>first_day_exposition</th>\n",
       "      <th>rooms</th>\n",
       "      <th>ceiling_height</th>\n",
       "      <th>floors_total</th>\n",
       "      <th>living_area</th>\n",
       "      <th>floor</th>\n",
       "      <th>is_apartment</th>\n",
       "      <th>...</th>\n",
       "      <th>kitchen_area</th>\n",
       "      <th>balcony</th>\n",
       "      <th>locality_name</th>\n",
       "      <th>airports_nearest</th>\n",
       "      <th>cityCenters_nearest</th>\n",
       "      <th>parks_around3000</th>\n",
       "      <th>parks_nearest</th>\n",
       "      <th>ponds_around3000</th>\n",
       "      <th>ponds_nearest</th>\n",
       "      <th>days_exposition</th>\n",
       "    </tr>\n",
       "  </thead>\n",
       "  <tbody>\n",
       "    <tr>\n",
       "      <td>0</td>\n",
       "      <td>20</td>\n",
       "      <td>13000000.0</td>\n",
       "      <td>108.00</td>\n",
       "      <td>2019-03-07</td>\n",
       "      <td>3</td>\n",
       "      <td>2.70</td>\n",
       "      <td>16.0</td>\n",
       "      <td>51.0</td>\n",
       "      <td>8</td>\n",
       "      <td>NaN</td>\n",
       "      <td>...</td>\n",
       "      <td>25.00</td>\n",
       "      <td>0.0</td>\n",
       "      <td>санкт-петербург</td>\n",
       "      <td>18863.0</td>\n",
       "      <td>16028.0</td>\n",
       "      <td>1.0</td>\n",
       "      <td>482.0</td>\n",
       "      <td>2.0</td>\n",
       "      <td>755.0</td>\n",
       "      <td>NaN</td>\n",
       "    </tr>\n",
       "    <tr>\n",
       "      <td>7</td>\n",
       "      <td>5</td>\n",
       "      <td>7915000.0</td>\n",
       "      <td>71.60</td>\n",
       "      <td>2019-04-18</td>\n",
       "      <td>2</td>\n",
       "      <td>2.65</td>\n",
       "      <td>24.0</td>\n",
       "      <td>NaN</td>\n",
       "      <td>22</td>\n",
       "      <td>NaN</td>\n",
       "      <td>...</td>\n",
       "      <td>18.90</td>\n",
       "      <td>2.0</td>\n",
       "      <td>санкт-петербург</td>\n",
       "      <td>23982.0</td>\n",
       "      <td>11634.0</td>\n",
       "      <td>0.0</td>\n",
       "      <td>NaN</td>\n",
       "      <td>0.0</td>\n",
       "      <td>NaN</td>\n",
       "      <td>NaN</td>\n",
       "    </tr>\n",
       "    <tr>\n",
       "      <td>44</td>\n",
       "      <td>13</td>\n",
       "      <td>5350000.0</td>\n",
       "      <td>40.00</td>\n",
       "      <td>2018-11-18</td>\n",
       "      <td>1</td>\n",
       "      <td>2.65</td>\n",
       "      <td>22.0</td>\n",
       "      <td>NaN</td>\n",
       "      <td>3</td>\n",
       "      <td>NaN</td>\n",
       "      <td>...</td>\n",
       "      <td>NaN</td>\n",
       "      <td>1.0</td>\n",
       "      <td>санкт-петербург</td>\n",
       "      <td>30471.0</td>\n",
       "      <td>11603.0</td>\n",
       "      <td>1.0</td>\n",
       "      <td>620.0</td>\n",
       "      <td>1.0</td>\n",
       "      <td>1152.0</td>\n",
       "      <td>NaN</td>\n",
       "    </tr>\n",
       "    <tr>\n",
       "      <td>45</td>\n",
       "      <td>17</td>\n",
       "      <td>5200000.0</td>\n",
       "      <td>50.60</td>\n",
       "      <td>2018-12-02</td>\n",
       "      <td>2</td>\n",
       "      <td>2.65</td>\n",
       "      <td>9.0</td>\n",
       "      <td>30.3</td>\n",
       "      <td>7</td>\n",
       "      <td>NaN</td>\n",
       "      <td>...</td>\n",
       "      <td>7.00</td>\n",
       "      <td>0.0</td>\n",
       "      <td>санкт-петербург</td>\n",
       "      <td>30011.0</td>\n",
       "      <td>12872.0</td>\n",
       "      <td>0.0</td>\n",
       "      <td>NaN</td>\n",
       "      <td>0.0</td>\n",
       "      <td>NaN</td>\n",
       "      <td>NaN</td>\n",
       "    </tr>\n",
       "    <tr>\n",
       "      <td>46</td>\n",
       "      <td>17</td>\n",
       "      <td>6600000.0</td>\n",
       "      <td>52.10</td>\n",
       "      <td>2019-01-31</td>\n",
       "      <td>2</td>\n",
       "      <td>2.60</td>\n",
       "      <td>24.0</td>\n",
       "      <td>29.7</td>\n",
       "      <td>9</td>\n",
       "      <td>NaN</td>\n",
       "      <td>...</td>\n",
       "      <td>8.30</td>\n",
       "      <td>2.0</td>\n",
       "      <td>санкт-петербург</td>\n",
       "      <td>15114.0</td>\n",
       "      <td>12702.0</td>\n",
       "      <td>0.0</td>\n",
       "      <td>NaN</td>\n",
       "      <td>0.0</td>\n",
       "      <td>NaN</td>\n",
       "      <td>NaN</td>\n",
       "    </tr>\n",
       "    <tr>\n",
       "      <td>...</td>\n",
       "      <td>...</td>\n",
       "      <td>...</td>\n",
       "      <td>...</td>\n",
       "      <td>...</td>\n",
       "      <td>...</td>\n",
       "      <td>...</td>\n",
       "      <td>...</td>\n",
       "      <td>...</td>\n",
       "      <td>...</td>\n",
       "      <td>...</td>\n",
       "      <td>...</td>\n",
       "      <td>...</td>\n",
       "      <td>...</td>\n",
       "      <td>...</td>\n",
       "      <td>...</td>\n",
       "      <td>...</td>\n",
       "      <td>...</td>\n",
       "      <td>...</td>\n",
       "      <td>...</td>\n",
       "      <td>...</td>\n",
       "      <td>...</td>\n",
       "    </tr>\n",
       "    <tr>\n",
       "      <td>23684</td>\n",
       "      <td>20</td>\n",
       "      <td>21400000.0</td>\n",
       "      <td>145.00</td>\n",
       "      <td>2018-11-02</td>\n",
       "      <td>4</td>\n",
       "      <td>3.00</td>\n",
       "      <td>26.0</td>\n",
       "      <td>71.4</td>\n",
       "      <td>17</td>\n",
       "      <td>NaN</td>\n",
       "      <td>...</td>\n",
       "      <td>15.60</td>\n",
       "      <td>0.0</td>\n",
       "      <td>санкт-петербург</td>\n",
       "      <td>11827.0</td>\n",
       "      <td>11459.0</td>\n",
       "      <td>0.0</td>\n",
       "      <td>NaN</td>\n",
       "      <td>0.0</td>\n",
       "      <td>NaN</td>\n",
       "      <td>NaN</td>\n",
       "    </tr>\n",
       "    <tr>\n",
       "      <td>23685</td>\n",
       "      <td>15</td>\n",
       "      <td>2490000.0</td>\n",
       "      <td>31.00</td>\n",
       "      <td>2019-01-24</td>\n",
       "      <td>1</td>\n",
       "      <td>2.50</td>\n",
       "      <td>5.0</td>\n",
       "      <td>17.3</td>\n",
       "      <td>5</td>\n",
       "      <td>NaN</td>\n",
       "      <td>...</td>\n",
       "      <td>5.60</td>\n",
       "      <td>1.0</td>\n",
       "      <td>ломоносов</td>\n",
       "      <td>48393.0</td>\n",
       "      <td>51818.0</td>\n",
       "      <td>0.0</td>\n",
       "      <td>NaN</td>\n",
       "      <td>0.0</td>\n",
       "      <td>NaN</td>\n",
       "      <td>NaN</td>\n",
       "    </tr>\n",
       "    <tr>\n",
       "      <td>23694</td>\n",
       "      <td>9</td>\n",
       "      <td>9700000.0</td>\n",
       "      <td>133.81</td>\n",
       "      <td>2017-03-21</td>\n",
       "      <td>3</td>\n",
       "      <td>3.70</td>\n",
       "      <td>5.0</td>\n",
       "      <td>73.3</td>\n",
       "      <td>3</td>\n",
       "      <td>NaN</td>\n",
       "      <td>...</td>\n",
       "      <td>13.83</td>\n",
       "      <td>0.0</td>\n",
       "      <td>санкт-петербург</td>\n",
       "      <td>24665.0</td>\n",
       "      <td>4232.0</td>\n",
       "      <td>1.0</td>\n",
       "      <td>796.0</td>\n",
       "      <td>3.0</td>\n",
       "      <td>381.0</td>\n",
       "      <td>NaN</td>\n",
       "    </tr>\n",
       "    <tr>\n",
       "      <td>23696</td>\n",
       "      <td>18</td>\n",
       "      <td>2500000.0</td>\n",
       "      <td>56.70</td>\n",
       "      <td>2018-02-11</td>\n",
       "      <td>2</td>\n",
       "      <td>2.65</td>\n",
       "      <td>3.0</td>\n",
       "      <td>29.7</td>\n",
       "      <td>1</td>\n",
       "      <td>NaN</td>\n",
       "      <td>...</td>\n",
       "      <td>NaN</td>\n",
       "      <td>0.0</td>\n",
       "      <td>село рождествено</td>\n",
       "      <td>NaN</td>\n",
       "      <td>NaN</td>\n",
       "      <td>0.0</td>\n",
       "      <td>NaN</td>\n",
       "      <td>0.0</td>\n",
       "      <td>NaN</td>\n",
       "      <td>NaN</td>\n",
       "    </tr>\n",
       "    <tr>\n",
       "      <td>23698</td>\n",
       "      <td>4</td>\n",
       "      <td>1350000.0</td>\n",
       "      <td>32.30</td>\n",
       "      <td>2017-07-21</td>\n",
       "      <td>1</td>\n",
       "      <td>2.50</td>\n",
       "      <td>5.0</td>\n",
       "      <td>12.3</td>\n",
       "      <td>1</td>\n",
       "      <td>NaN</td>\n",
       "      <td>...</td>\n",
       "      <td>9.00</td>\n",
       "      <td>0.0</td>\n",
       "      <td>поселок новый учхоз</td>\n",
       "      <td>NaN</td>\n",
       "      <td>NaN</td>\n",
       "      <td>0.0</td>\n",
       "      <td>NaN</td>\n",
       "      <td>0.0</td>\n",
       "      <td>NaN</td>\n",
       "      <td>NaN</td>\n",
       "    </tr>\n",
       "  </tbody>\n",
       "</table>\n",
       "<p>3181 rows × 22 columns</p>\n",
       "</div>"
      ],
      "text/plain": [
       "       total_images  last_price  total_area first_day_exposition  rooms  \\\n",
       "0                20  13000000.0      108.00           2019-03-07      3   \n",
       "7                 5   7915000.0       71.60           2019-04-18      2   \n",
       "44               13   5350000.0       40.00           2018-11-18      1   \n",
       "45               17   5200000.0       50.60           2018-12-02      2   \n",
       "46               17   6600000.0       52.10           2019-01-31      2   \n",
       "...             ...         ...         ...                  ...    ...   \n",
       "23684            20  21400000.0      145.00           2018-11-02      4   \n",
       "23685            15   2490000.0       31.00           2019-01-24      1   \n",
       "23694             9   9700000.0      133.81           2017-03-21      3   \n",
       "23696            18   2500000.0       56.70           2018-02-11      2   \n",
       "23698             4   1350000.0       32.30           2017-07-21      1   \n",
       "\n",
       "       ceiling_height  floors_total  living_area  floor is_apartment  ...  \\\n",
       "0                2.70          16.0         51.0      8          NaN  ...   \n",
       "7                2.65          24.0          NaN     22          NaN  ...   \n",
       "44               2.65          22.0          NaN      3          NaN  ...   \n",
       "45               2.65           9.0         30.3      7          NaN  ...   \n",
       "46               2.60          24.0         29.7      9          NaN  ...   \n",
       "...               ...           ...          ...    ...          ...  ...   \n",
       "23684            3.00          26.0         71.4     17          NaN  ...   \n",
       "23685            2.50           5.0         17.3      5          NaN  ...   \n",
       "23694            3.70           5.0         73.3      3          NaN  ...   \n",
       "23696            2.65           3.0         29.7      1          NaN  ...   \n",
       "23698            2.50           5.0         12.3      1          NaN  ...   \n",
       "\n",
       "       kitchen_area  balcony        locality_name  airports_nearest  \\\n",
       "0             25.00      0.0      санкт-петербург           18863.0   \n",
       "7             18.90      2.0      санкт-петербург           23982.0   \n",
       "44              NaN      1.0      санкт-петербург           30471.0   \n",
       "45             7.00      0.0      санкт-петербург           30011.0   \n",
       "46             8.30      2.0      санкт-петербург           15114.0   \n",
       "...             ...      ...                  ...               ...   \n",
       "23684         15.60      0.0      санкт-петербург           11827.0   \n",
       "23685          5.60      1.0            ломоносов           48393.0   \n",
       "23694         13.83      0.0      санкт-петербург           24665.0   \n",
       "23696           NaN      0.0     село рождествено               NaN   \n",
       "23698          9.00      0.0  поселок новый учхоз               NaN   \n",
       "\n",
       "      cityCenters_nearest  parks_around3000  parks_nearest  ponds_around3000  \\\n",
       "0                 16028.0               1.0          482.0               2.0   \n",
       "7                 11634.0               0.0            NaN               0.0   \n",
       "44                11603.0               1.0          620.0               1.0   \n",
       "45                12872.0               0.0            NaN               0.0   \n",
       "46                12702.0               0.0            NaN               0.0   \n",
       "...                   ...               ...            ...               ...   \n",
       "23684             11459.0               0.0            NaN               0.0   \n",
       "23685             51818.0               0.0            NaN               0.0   \n",
       "23694              4232.0               1.0          796.0               3.0   \n",
       "23696                 NaN               0.0            NaN               0.0   \n",
       "23698                 NaN               0.0            NaN               0.0   \n",
       "\n",
       "       ponds_nearest  days_exposition  \n",
       "0              755.0              NaN  \n",
       "7                NaN              NaN  \n",
       "44            1152.0              NaN  \n",
       "45               NaN              NaN  \n",
       "46               NaN              NaN  \n",
       "...              ...              ...  \n",
       "23684            NaN              NaN  \n",
       "23685            NaN              NaN  \n",
       "23694          381.0              NaN  \n",
       "23696            NaN              NaN  \n",
       "23698            NaN              NaN  \n",
       "\n",
       "[3181 rows x 22 columns]"
      ]
     },
     "execution_count": 314,
     "metadata": {},
     "output_type": "execute_result"
    }
   ],
   "source": [
    "df.query('days_exposition.isna() == True')"
   ]
  },
  {
   "cell_type": "code",
   "execution_count": 315,
   "metadata": {},
   "outputs": [],
   "source": [
    "df['days_exposition'] = df['days_exposition'].fillna((df['first_day_exposition'].max() - df['first_day_exposition']).dt.days)"
   ]
  },
  {
   "cell_type": "markdown",
   "metadata": {},
   "source": [
    "Найдена разница между самой поздней датой и датой публикации. Пропущенные значения в столбе days_exposition заменены на эту разницу в днях."
   ]
  },
  {
   "cell_type": "code",
   "execution_count": 316,
   "metadata": {},
   "outputs": [],
   "source": [
    "for column in ['floors_total', 'balcony', 'parks_around3000', 'ponds_around3000', 'days_exposition']:\n",
    "    df[column] = df[column].astype('int')"
   ]
  },
  {
   "cell_type": "code",
   "execution_count": 317,
   "metadata": {},
   "outputs": [
    {
     "data": {
      "image/png": "[encoded data removed]",
      "text/plain": [
       "<Figure size 432x288 with 1 Axes>"
      ]
     },
     "metadata": {
      "needs_background": "light"
     },
     "output_type": "display_data"
    },
    {
     "data": {
      "image/png": "[encoded data removed]",
      "text/plain": [
       "<Figure size 432x288 with 1 Axes>"
      ]
     },
     "metadata": {
      "needs_background": "light"
     },
     "output_type": "display_data"
    }
   ],
   "source": [
    "df['living_area_share'] = df['living_area'] / df['total_area']\n",
    "df.groupby('rooms')['living_area_share'].mean()\n",
    "df.boxplot(column='living_area_share')\n",
    "plt.show()\n",
    "df['kitchen_area_share'] = df['kitchen_area'] / df['total_area']\n",
    "df.groupby('rooms')['kitchen_area'].mean()\n",
    "df.boxplot(column='kitchen_area_share')\n",
    "plt.show()"
   ]
  },
  {
   "cell_type": "code",
   "execution_count": 318,
   "metadata": {},
   "outputs": [
    {
     "data": {
      "text/plain": [
       "rooms\n",
       "0     0.685467\n",
       "1     0.485989\n",
       "2     0.579287\n",
       "3     0.625302\n",
       "4     0.646489\n",
       "5     0.641377\n",
       "6     0.668819\n",
       "7     0.657981\n",
       "8     0.667001\n",
       "9     0.612299\n",
       "10    0.645065\n",
       "11    0.710093\n",
       "12    0.455222\n",
       "14    0.648695\n",
       "15    0.693220\n",
       "16    0.666667\n",
       "19    0.706086\n",
       "Name: living_area_share, dtype: float64"
      ]
     },
     "metadata": {},
     "output_type": "display_data"
    },
    {
     "data": {
      "text/plain": [
       "0.5647655216993234"
      ]
     },
     "metadata": {},
     "output_type": "display_data"
    },
    {
     "data": {
      "text/plain": [
       "rooms\n",
       "0          NaN\n",
       "1     0.249906\n",
       "2     0.174163\n",
       "3     0.140928\n",
       "4     0.124031\n",
       "5     0.113455\n",
       "6     0.104150\n",
       "7     0.091932\n",
       "8     0.091708\n",
       "9     0.075054\n",
       "10    0.088013\n",
       "11    0.066855\n",
       "12    0.124444\n",
       "14    0.075636\n",
       "15    0.169492\n",
       "16    0.048148\n",
       "19    0.073679\n",
       "Name: kitchen_area_share, dtype: float64"
      ]
     },
     "metadata": {},
     "output_type": "display_data"
    },
    {
     "data": {
      "text/plain": [
       "0.1873547387717406"
      ]
     },
     "metadata": {},
     "output_type": "display_data"
    }
   ],
   "source": [
    "display(df.groupby('rooms')['living_area_share'].mean())\n",
    "display(df['living_area_share'].mean())\n",
    "display()\n",
    "display(df.groupby('rooms')['kitchen_area_share'].mean())\n",
    "display(df['kitchen_area_share'].mean())"
   ]
  },
  {
   "cell_type": "code",
   "execution_count": 319,
   "metadata": {
    "scrolled": true
   },
   "outputs": [
    {
     "data": {
      "text/html": [
       "<div>\n",
       "<style scoped>\n",
       "    .dataframe tbody tr th:only-of-type {\n",
       "        vertical-align: middle;\n",
       "    }\n",
       "\n",
       "    .dataframe tbody tr th {\n",
       "        vertical-align: top;\n",
       "    }\n",
       "\n",
       "    .dataframe thead th {\n",
       "        text-align: right;\n",
       "    }\n",
       "</style>\n",
       "<table border=\"1\" class=\"dataframe\">\n",
       "  <thead>\n",
       "    <tr style=\"text-align: right;\">\n",
       "      <th></th>\n",
       "      <th>total_images</th>\n",
       "      <th>last_price</th>\n",
       "      <th>total_area</th>\n",
       "      <th>first_day_exposition</th>\n",
       "      <th>rooms</th>\n",
       "      <th>ceiling_height</th>\n",
       "      <th>floors_total</th>\n",
       "      <th>living_area</th>\n",
       "      <th>floor</th>\n",
       "      <th>is_apartment</th>\n",
       "      <th>...</th>\n",
       "      <th>locality_name</th>\n",
       "      <th>airports_nearest</th>\n",
       "      <th>cityCenters_nearest</th>\n",
       "      <th>parks_around3000</th>\n",
       "      <th>parks_nearest</th>\n",
       "      <th>ponds_around3000</th>\n",
       "      <th>ponds_nearest</th>\n",
       "      <th>days_exposition</th>\n",
       "      <th>living_area_share</th>\n",
       "      <th>kitchen_area_share</th>\n",
       "    </tr>\n",
       "  </thead>\n",
       "  <tbody>\n",
       "    <tr>\n",
       "      <td>0</td>\n",
       "      <td>20</td>\n",
       "      <td>13000000.0</td>\n",
       "      <td>108.0</td>\n",
       "      <td>2019-03-07</td>\n",
       "      <td>3</td>\n",
       "      <td>2.70</td>\n",
       "      <td>16</td>\n",
       "      <td>51.000000</td>\n",
       "      <td>8</td>\n",
       "      <td>NaN</td>\n",
       "      <td>...</td>\n",
       "      <td>санкт-петербург</td>\n",
       "      <td>18863.0</td>\n",
       "      <td>16028.0</td>\n",
       "      <td>1</td>\n",
       "      <td>482.0</td>\n",
       "      <td>2</td>\n",
       "      <td>755.0</td>\n",
       "      <td>57</td>\n",
       "      <td>0.472222</td>\n",
       "      <td>0.231481</td>\n",
       "    </tr>\n",
       "    <tr>\n",
       "      <td>1</td>\n",
       "      <td>7</td>\n",
       "      <td>3350000.0</td>\n",
       "      <td>40.4</td>\n",
       "      <td>2018-12-04</td>\n",
       "      <td>1</td>\n",
       "      <td>2.65</td>\n",
       "      <td>11</td>\n",
       "      <td>18.600000</td>\n",
       "      <td>1</td>\n",
       "      <td>NaN</td>\n",
       "      <td>...</td>\n",
       "      <td>посёлок шушары</td>\n",
       "      <td>12817.0</td>\n",
       "      <td>18603.0</td>\n",
       "      <td>0</td>\n",
       "      <td>NaN</td>\n",
       "      <td>0</td>\n",
       "      <td>NaN</td>\n",
       "      <td>81</td>\n",
       "      <td>0.460396</td>\n",
       "      <td>0.272277</td>\n",
       "    </tr>\n",
       "    <tr>\n",
       "      <td>2</td>\n",
       "      <td>10</td>\n",
       "      <td>5196000.0</td>\n",
       "      <td>56.0</td>\n",
       "      <td>2015-08-20</td>\n",
       "      <td>2</td>\n",
       "      <td>2.65</td>\n",
       "      <td>5</td>\n",
       "      <td>34.300000</td>\n",
       "      <td>4</td>\n",
       "      <td>NaN</td>\n",
       "      <td>...</td>\n",
       "      <td>санкт-петербург</td>\n",
       "      <td>21741.0</td>\n",
       "      <td>13933.0</td>\n",
       "      <td>1</td>\n",
       "      <td>90.0</td>\n",
       "      <td>2</td>\n",
       "      <td>574.0</td>\n",
       "      <td>558</td>\n",
       "      <td>0.612500</td>\n",
       "      <td>0.148214</td>\n",
       "    </tr>\n",
       "    <tr>\n",
       "      <td>3</td>\n",
       "      <td>0</td>\n",
       "      <td>64900000.0</td>\n",
       "      <td>159.0</td>\n",
       "      <td>2015-07-24</td>\n",
       "      <td>3</td>\n",
       "      <td>2.65</td>\n",
       "      <td>14</td>\n",
       "      <td>89.797718</td>\n",
       "      <td>9</td>\n",
       "      <td>NaN</td>\n",
       "      <td>...</td>\n",
       "      <td>санкт-петербург</td>\n",
       "      <td>28098.0</td>\n",
       "      <td>6800.0</td>\n",
       "      <td>2</td>\n",
       "      <td>84.0</td>\n",
       "      <td>3</td>\n",
       "      <td>234.0</td>\n",
       "      <td>424</td>\n",
       "      <td>NaN</td>\n",
       "      <td>NaN</td>\n",
       "    </tr>\n",
       "    <tr>\n",
       "      <td>4</td>\n",
       "      <td>2</td>\n",
       "      <td>10000000.0</td>\n",
       "      <td>100.0</td>\n",
       "      <td>2018-06-19</td>\n",
       "      <td>2</td>\n",
       "      <td>3.03</td>\n",
       "      <td>14</td>\n",
       "      <td>32.000000</td>\n",
       "      <td>13</td>\n",
       "      <td>NaN</td>\n",
       "      <td>...</td>\n",
       "      <td>санкт-петербург</td>\n",
       "      <td>31856.0</td>\n",
       "      <td>8098.0</td>\n",
       "      <td>2</td>\n",
       "      <td>112.0</td>\n",
       "      <td>1</td>\n",
       "      <td>48.0</td>\n",
       "      <td>121</td>\n",
       "      <td>0.320000</td>\n",
       "      <td>0.410000</td>\n",
       "    </tr>\n",
       "  </tbody>\n",
       "</table>\n",
       "<p>5 rows × 24 columns</p>\n",
       "</div>"
      ],
      "text/plain": [
       "   total_images  last_price  total_area first_day_exposition  rooms  \\\n",
       "0            20  13000000.0       108.0           2019-03-07      3   \n",
       "1             7   3350000.0        40.4           2018-12-04      1   \n",
       "2            10   5196000.0        56.0           2015-08-20      2   \n",
       "3             0  64900000.0       159.0           2015-07-24      3   \n",
       "4             2  10000000.0       100.0           2018-06-19      2   \n",
       "\n",
       "   ceiling_height  floors_total  living_area  floor is_apartment  ...  \\\n",
       "0            2.70            16    51.000000      8          NaN  ...   \n",
       "1            2.65            11    18.600000      1          NaN  ...   \n",
       "2            2.65             5    34.300000      4          NaN  ...   \n",
       "3            2.65            14    89.797718      9          NaN  ...   \n",
       "4            3.03            14    32.000000     13          NaN  ...   \n",
       "\n",
       "     locality_name  airports_nearest  cityCenters_nearest  parks_around3000  \\\n",
       "0  санкт-петербург           18863.0              16028.0                 1   \n",
       "1   посёлок шушары           12817.0              18603.0                 0   \n",
       "2  санкт-петербург           21741.0              13933.0                 1   \n",
       "3  санкт-петербург           28098.0               6800.0                 2   \n",
       "4  санкт-петербург           31856.0               8098.0                 2   \n",
       "\n",
       "  parks_nearest  ponds_around3000  ponds_nearest  days_exposition  \\\n",
       "0         482.0                 2          755.0               57   \n",
       "1           NaN                 0            NaN               81   \n",
       "2          90.0                 2          574.0              558   \n",
       "3          84.0                 3          234.0              424   \n",
       "4         112.0                 1           48.0              121   \n",
       "\n",
       "   living_area_share  kitchen_area_share  \n",
       "0           0.472222            0.231481  \n",
       "1           0.460396            0.272277  \n",
       "2           0.612500            0.148214  \n",
       "3                NaN                 NaN  \n",
       "4           0.320000            0.410000  \n",
       "\n",
       "[5 rows x 24 columns]"
      ]
     },
     "execution_count": 319,
     "metadata": {},
     "output_type": "execute_result"
    }
   ],
   "source": [
    "df['living_area'] = df['living_area'].fillna(df['total_area']*df['living_area_share'].mean())\n",
    "df['kitchen_area'] = df['kitchen_area'].fillna(df['total_area']*df['kitchen_area_share'].mean())\n",
    "df.head()"
   ]
  },
  {
   "cell_type": "code",
   "execution_count": 320,
   "metadata": {},
   "outputs": [
    {
     "data": {
      "image/png": "[encoded data removed]",
      "text/plain": [
       "<Figure size 432x288 with 1 Axes>"
      ]
     },
     "metadata": {
      "needs_background": "light"
     },
     "output_type": "display_data"
    },
    {
     "data": {
      "image/png": "[encoded data removed]",
      "text/plain": [
       "<Figure size 432x288 with 1 Axes>"
      ]
     },
     "metadata": {
      "needs_background": "light"
     },
     "output_type": "display_data"
    }
   ],
   "source": [
    "df['living_area_share'] = df['living_area'] / df['total_area']\n",
    "df.groupby('rooms')['living_area_share'].mean()\n",
    "df.boxplot(column='living_area_share')\n",
    "plt.show()\n",
    "df['kitchen_area_share'] = df['kitchen_area'] / df['total_area']\n",
    "df.groupby('rooms')['kitchen_area'].mean()\n",
    "df.boxplot(column='kitchen_area_share')\n",
    "plt.show()"
   ]
  },
  {
   "cell_type": "code",
   "execution_count": 321,
   "metadata": {},
   "outputs": [
    {
     "name": "stdout",
     "output_type": "stream",
     "text": [
      "<class 'pandas.core.frame.DataFrame'>\n",
      "RangeIndex: 23699 entries, 0 to 23698\n",
      "Data columns (total 24 columns):\n",
      "total_images            23699 non-null int64\n",
      "last_price              23699 non-null float64\n",
      "total_area              23699 non-null float64\n",
      "first_day_exposition    23699 non-null datetime64[ns]\n",
      "rooms                   23699 non-null int64\n",
      "ceiling_height          23699 non-null float64\n",
      "floors_total            23699 non-null int64\n",
      "living_area             23699 non-null float64\n",
      "floor                   23699 non-null int64\n",
      "is_apartment            2775 non-null object\n",
      "studio                  23699 non-null bool\n",
      "open_plan               23699 non-null bool\n",
      "kitchen_area            23699 non-null float64\n",
      "balcony                 23699 non-null int64\n",
      "locality_name           23650 non-null object\n",
      "airports_nearest        18157 non-null float64\n",
      "cityCenters_nearest     18180 non-null float64\n",
      "parks_around3000        23699 non-null int64\n",
      "parks_nearest           8079 non-null float64\n",
      "ponds_around3000        23699 non-null int64\n",
      "ponds_nearest           9110 non-null float64\n",
      "days_exposition         23699 non-null int64\n",
      "living_area_share       23699 non-null float64\n",
      "kitchen_area_share      23699 non-null float64\n",
      "dtypes: bool(2), datetime64[ns](1), float64(11), int64(8), object(2)\n",
      "memory usage: 6.9 MB\n"
     ]
    }
   ],
   "source": [
    "df.info(memory_usage='deep')"
   ]
  },
  {
   "cell_type": "code",
   "execution_count": 322,
   "metadata": {},
   "outputs": [
    {
     "name": "stdout",
     "output_type": "stream",
     "text": [
      "Average memory usage for float64 columns: 0.17 MB\n",
      "Average memory usage for int64 columns: 0.16 MB\n",
      "Average memory usage for object columns: 1.07 MB\n",
      "Average memory usage for bool columns: 0.02 MB\n"
     ]
    }
   ],
   "source": [
    "for dtype in ['float64','int64','object', 'bool']:\n",
    "    selected_dtype = df.select_dtypes(include=[dtype])\n",
    "    mean_usage_b = selected_dtype.memory_usage(deep=True).mean()\n",
    "    mean_usage_mb = mean_usage_b / 1024 ** 2\n",
    "    print(\"Average memory usage for {} columns: {:03.2f} MB\".format(dtype,mean_usage_mb))"
   ]
  },
  {
   "cell_type": "code",
   "execution_count": 323,
   "metadata": {},
   "outputs": [
    {
     "data": {
      "text/plain": [
       "0.015433403805496829"
      ]
     },
     "execution_count": 323,
     "metadata": {},
     "output_type": "execute_result"
    }
   ],
   "source": [
    "len(df['locality_name'].unique()) / df['locality_name'].count()"
   ]
  },
  {
   "cell_type": "markdown",
   "metadata": {},
   "source": [
    "Уникальных значений в столбце 'locality_name' меньше 50%, менять тип данных на 'category' нет смысла, потому что это приведёт к повышению уровня использования памяти."
   ]
  },
  {
   "cell_type": "code",
   "execution_count": 324,
   "metadata": {},
   "outputs": [
    {
     "data": {
      "text/html": [
       "<div>\n",
       "<style scoped>\n",
       "    .dataframe tbody tr th:only-of-type {\n",
       "        vertical-align: middle;\n",
       "    }\n",
       "\n",
       "    .dataframe tbody tr th {\n",
       "        vertical-align: top;\n",
       "    }\n",
       "\n",
       "    .dataframe thead th {\n",
       "        text-align: right;\n",
       "    }\n",
       "</style>\n",
       "<table border=\"1\" class=\"dataframe\">\n",
       "  <thead>\n",
       "    <tr style=\"text-align: right;\">\n",
       "      <th></th>\n",
       "      <th>0</th>\n",
       "      <th>1</th>\n",
       "    </tr>\n",
       "  </thead>\n",
       "  <tbody>\n",
       "    <tr>\n",
       "      <td>0</td>\n",
       "      <td>int</td>\n",
       "      <td>1.45 MB</td>\n",
       "    </tr>\n",
       "    <tr>\n",
       "      <td>1</td>\n",
       "      <td>float</td>\n",
       "      <td>1.99 MB</td>\n",
       "    </tr>\n",
       "  </tbody>\n",
       "</table>\n",
       "</div>"
      ],
      "text/plain": [
       "       0        1\n",
       "0    int  1.45 MB\n",
       "1  float  1.99 MB"
      ]
     },
     "metadata": {},
     "output_type": "display_data"
    }
   ],
   "source": [
    "memory_usage_before = pd.DataFrame([['int', ('{:03.2f} MB'.format(df.select_dtypes(include=['int']).memory_usage(deep=True).sum() / 1024 ** 2))] , ['float', ('{:03.2f} MB'.format(df.select_dtypes(include=['float']).memory_usage(deep=True).sum() / 1024 ** 2))]])\n",
    "display(memory_usage_before)"
   ]
  },
  {
   "cell_type": "code",
   "execution_count": 325,
   "metadata": {},
   "outputs": [],
   "source": [
    "for column in ['total_images', 'rooms', 'floors_total', 'floor', 'balcony', 'parks_around3000', 'ponds_around3000']:\n",
    "    df[column] = df[column].astype('uint8')\n",
    "df['days_exposition'] = df['days_exposition'].astype('uint16')\n",
    "for column in ['last_price', 'total_area', 'ceiling_height', 'living_area', 'kitchen_area']:\n",
    "    df[column] = df[column].astype('float32')"
   ]
  },
  {
   "cell_type": "code",
   "execution_count": 326,
   "metadata": {},
   "outputs": [
    {
     "data": {
      "text/html": [
       "<div>\n",
       "<style scoped>\n",
       "    .dataframe tbody tr th:only-of-type {\n",
       "        vertical-align: middle;\n",
       "    }\n",
       "\n",
       "    .dataframe tbody tr th {\n",
       "        vertical-align: top;\n",
       "    }\n",
       "\n",
       "    .dataframe thead th {\n",
       "        text-align: right;\n",
       "    }\n",
       "</style>\n",
       "<table border=\"1\" class=\"dataframe\">\n",
       "  <thead>\n",
       "    <tr style=\"text-align: right;\">\n",
       "      <th></th>\n",
       "      <th>0</th>\n",
       "      <th>1</th>\n",
       "    </tr>\n",
       "  </thead>\n",
       "  <tbody>\n",
       "    <tr>\n",
       "      <td>0</td>\n",
       "      <td>int</td>\n",
       "      <td>0.00 MB</td>\n",
       "    </tr>\n",
       "    <tr>\n",
       "      <td>1</td>\n",
       "      <td>float</td>\n",
       "      <td>1.08 MB</td>\n",
       "    </tr>\n",
       "  </tbody>\n",
       "</table>\n",
       "</div>"
      ],
      "text/plain": [
       "       0        1\n",
       "0    int  0.00 MB\n",
       "1  float  1.08 MB"
      ]
     },
     "metadata": {},
     "output_type": "display_data"
    }
   ],
   "source": [
    "memory_usage_after = pd.DataFrame([['int', ('{:03.2f} MB'.format(df.select_dtypes(include=['int']).memory_usage(deep=True).sum() / 1024 ** 2))] , ['float', ('{:03.2f} MB'.format(df.select_dtypes(include=['float']).memory_usage(deep=True).sum() / 1024 ** 2))]])\n",
    "display(memory_usage_after)"
   ]
  },
  {
   "cell_type": "markdown",
   "metadata": {},
   "source": [
    "Использование памяти уменьшилось по столбцам с int на 75%, с float - на 47%\n",
    "\n",
    "- uint8 - потому что в столбцах 'total_images', 'rooms', 'floors_total', 'floor', 'balcony', 'parks_around3000', 'ponds_around3000' все значения целые и меньше 255.\n",
    "\n",
    "- uint16 - потому что в столбце 'days_exposition' значения целые и меньше 65535."
   ]
  },
  {
   "cell_type": "code",
   "execution_count": 327,
   "metadata": {},
   "outputs": [
    {
     "data": {
      "text/plain": [
       "False    2725\n",
       "True       50\n",
       "Name: is_apartment, dtype: int64"
      ]
     },
     "execution_count": 327,
     "metadata": {},
     "output_type": "execute_result"
    }
   ],
   "source": [
    "df.query('is_apartment.isna() == False')['is_apartment'].value_counts()"
   ]
  },
  {
   "cell_type": "code",
   "execution_count": 328,
   "metadata": {},
   "outputs": [
    {
     "data": {
      "text/plain": [
       "0"
      ]
     },
     "execution_count": 328,
     "metadata": {},
     "output_type": "execute_result"
    }
   ],
   "source": [
    "df['is_apartment'] = df['is_apartment'].fillna('False')\n",
    "df['is_apartment'].isna().sum()"
   ]
  },
  {
   "cell_type": "code",
   "execution_count": 329,
   "metadata": {},
   "outputs": [],
   "source": [
    "df['is_apartment'] = df['is_apartment'].astype('bool')"
   ]
  },
  {
   "cell_type": "markdown",
   "metadata": {},
   "source": [
    "Пропущенные значения в столбце is_apartment заменены на False, тип данных в столбце изменён на bool."
   ]
  },
  {
   "cell_type": "code",
   "execution_count": 330,
   "metadata": {},
   "outputs": [],
   "source": [
    "df.dropna(subset=['locality_name'], inplace=True)"
   ]
  },
  {
   "cell_type": "markdown",
   "metadata": {},
   "source": [
    "Так как нужно будет составить рейтинг населённых пунктов, а пропущенных значений в столбце locality_name не слишком много (49 из 23699 - 0,2%), их можно удалить."
   ]
  },
  {
   "cell_type": "code",
   "execution_count": 331,
   "metadata": {},
   "outputs": [
    {
     "data": {
      "text/html": [
       "<div>\n",
       "<style scoped>\n",
       "    .dataframe tbody tr th:only-of-type {\n",
       "        vertical-align: middle;\n",
       "    }\n",
       "\n",
       "    .dataframe tbody tr th {\n",
       "        vertical-align: top;\n",
       "    }\n",
       "\n",
       "    .dataframe thead th {\n",
       "        text-align: right;\n",
       "    }\n",
       "</style>\n",
       "<table border=\"1\" class=\"dataframe\">\n",
       "  <thead>\n",
       "    <tr style=\"text-align: right;\">\n",
       "      <th></th>\n",
       "      <th>total_images</th>\n",
       "      <th>last_price</th>\n",
       "      <th>total_area</th>\n",
       "      <th>first_day_exposition</th>\n",
       "      <th>rooms</th>\n",
       "      <th>ceiling_height</th>\n",
       "      <th>floors_total</th>\n",
       "      <th>living_area</th>\n",
       "      <th>floor</th>\n",
       "      <th>is_apartment</th>\n",
       "      <th>...</th>\n",
       "      <th>locality_name</th>\n",
       "      <th>airports_nearest</th>\n",
       "      <th>cityCenters_nearest</th>\n",
       "      <th>parks_around3000</th>\n",
       "      <th>parks_nearest</th>\n",
       "      <th>ponds_around3000</th>\n",
       "      <th>ponds_nearest</th>\n",
       "      <th>days_exposition</th>\n",
       "      <th>living_area_share</th>\n",
       "      <th>kitchen_area_share</th>\n",
       "    </tr>\n",
       "  </thead>\n",
       "  <tbody>\n",
       "  </tbody>\n",
       "</table>\n",
       "<p>0 rows × 24 columns</p>\n",
       "</div>"
      ],
      "text/plain": [
       "Empty DataFrame\n",
       "Columns: [total_images, last_price, total_area, first_day_exposition, rooms, ceiling_height, floors_total, living_area, floor, is_apartment, studio, open_plan, kitchen_area, balcony, locality_name, airports_nearest, cityCenters_nearest, parks_around3000, parks_nearest, ponds_around3000, ponds_nearest, days_exposition, living_area_share, kitchen_area_share]\n",
       "Index: []\n",
       "\n",
       "[0 rows x 24 columns]"
      ]
     },
     "execution_count": 331,
     "metadata": {},
     "output_type": "execute_result"
    }
   ],
   "source": [
    "df.query('parks_around3000 > 0 and parks_nearest.isna() == True')\n",
    "df.query('ponds_around3000 > 0 and ponds_nearest.isna() == True')"
   ]
  },
  {
   "cell_type": "markdown",
   "metadata": {},
   "source": [
    "Пропущенные значения в стобцах airports_nearest, cityCenters_nearest, parks_nearest, ponds_nearest оставлены без изменений, потому что они рассчитывались на основе картографических данных и потому что в строках, где количество парков и водоёмов в радиусе трёх километров больше нуля, нет пропущенных значений, а расстояние до центра и аэропорта никак не проверить.\n",
    "\n",
    "Пропущенные значения в столбцах с жилой прощадью и площадью кухни заменены на значения, рассчитанные с помощью средней доли жилой площади и площади кухни в общей площади. Т.к. по при группировке по комнатам значительных различий не выявлено, использован усреднённый коэффициент."
   ]
  },
  {
   "cell_type": "markdown",
   "metadata": {},
   "source": [
    "## Расчёты и добавление результатов в таблицу"
   ]
  },
  {
   "cell_type": "code",
   "execution_count": 332,
   "metadata": {},
   "outputs": [
    {
     "data": {
      "text/html": [
       "<div>\n",
       "<style scoped>\n",
       "    .dataframe tbody tr th:only-of-type {\n",
       "        vertical-align: middle;\n",
       "    }\n",
       "\n",
       "    .dataframe tbody tr th {\n",
       "        vertical-align: top;\n",
       "    }\n",
       "\n",
       "    .dataframe thead th {\n",
       "        text-align: right;\n",
       "    }\n",
       "</style>\n",
       "<table border=\"1\" class=\"dataframe\">\n",
       "  <thead>\n",
       "    <tr style=\"text-align: right;\">\n",
       "      <th></th>\n",
       "      <th>total_images</th>\n",
       "      <th>last_price</th>\n",
       "      <th>total_area</th>\n",
       "      <th>first_day_exposition</th>\n",
       "      <th>rooms</th>\n",
       "      <th>ceiling_height</th>\n",
       "      <th>floors_total</th>\n",
       "      <th>living_area</th>\n",
       "      <th>floor</th>\n",
       "      <th>is_apartment</th>\n",
       "      <th>...</th>\n",
       "      <th>ponds_around3000</th>\n",
       "      <th>ponds_nearest</th>\n",
       "      <th>days_exposition</th>\n",
       "      <th>living_area_share</th>\n",
       "      <th>kitchen_area_share</th>\n",
       "      <th>metr_price</th>\n",
       "      <th>weekday_exposition</th>\n",
       "      <th>month_exposition</th>\n",
       "      <th>year_exposition</th>\n",
       "      <th>floor_category</th>\n",
       "    </tr>\n",
       "  </thead>\n",
       "  <tbody>\n",
       "    <tr>\n",
       "      <td>23694</td>\n",
       "      <td>9</td>\n",
       "      <td>9700000.0</td>\n",
       "      <td>133.809998</td>\n",
       "      <td>2017-03-21</td>\n",
       "      <td>3</td>\n",
       "      <td>3.70</td>\n",
       "      <td>5</td>\n",
       "      <td>73.300003</td>\n",
       "      <td>3</td>\n",
       "      <td>True</td>\n",
       "      <td>...</td>\n",
       "      <td>3</td>\n",
       "      <td>381.0</td>\n",
       "      <td>773</td>\n",
       "      <td>0.547792</td>\n",
       "      <td>0.103356</td>\n",
       "      <td>72490.843750</td>\n",
       "      <td>Tuesday</td>\n",
       "      <td>March</td>\n",
       "      <td>2017</td>\n",
       "      <td>другой</td>\n",
       "    </tr>\n",
       "    <tr>\n",
       "      <td>23695</td>\n",
       "      <td>14</td>\n",
       "      <td>3100000.0</td>\n",
       "      <td>59.000000</td>\n",
       "      <td>2018-01-15</td>\n",
       "      <td>3</td>\n",
       "      <td>2.65</td>\n",
       "      <td>5</td>\n",
       "      <td>38.000000</td>\n",
       "      <td>4</td>\n",
       "      <td>True</td>\n",
       "      <td>...</td>\n",
       "      <td>0</td>\n",
       "      <td>NaN</td>\n",
       "      <td>45</td>\n",
       "      <td>0.644068</td>\n",
       "      <td>0.144068</td>\n",
       "      <td>52542.371094</td>\n",
       "      <td>Monday</td>\n",
       "      <td>January</td>\n",
       "      <td>2018</td>\n",
       "      <td>другой</td>\n",
       "    </tr>\n",
       "    <tr>\n",
       "      <td>23696</td>\n",
       "      <td>18</td>\n",
       "      <td>2500000.0</td>\n",
       "      <td>56.700001</td>\n",
       "      <td>2018-02-11</td>\n",
       "      <td>2</td>\n",
       "      <td>2.65</td>\n",
       "      <td>3</td>\n",
       "      <td>29.700001</td>\n",
       "      <td>1</td>\n",
       "      <td>True</td>\n",
       "      <td>...</td>\n",
       "      <td>0</td>\n",
       "      <td>NaN</td>\n",
       "      <td>446</td>\n",
       "      <td>0.523810</td>\n",
       "      <td>0.187355</td>\n",
       "      <td>44091.710938</td>\n",
       "      <td>Sunday</td>\n",
       "      <td>February</td>\n",
       "      <td>2018</td>\n",
       "      <td>первый</td>\n",
       "    </tr>\n",
       "    <tr>\n",
       "      <td>23697</td>\n",
       "      <td>13</td>\n",
       "      <td>11475000.0</td>\n",
       "      <td>76.750000</td>\n",
       "      <td>2017-03-28</td>\n",
       "      <td>2</td>\n",
       "      <td>3.00</td>\n",
       "      <td>17</td>\n",
       "      <td>43.345753</td>\n",
       "      <td>12</td>\n",
       "      <td>True</td>\n",
       "      <td>...</td>\n",
       "      <td>3</td>\n",
       "      <td>196.0</td>\n",
       "      <td>602</td>\n",
       "      <td>0.564766</td>\n",
       "      <td>0.303583</td>\n",
       "      <td>149511.406250</td>\n",
       "      <td>Tuesday</td>\n",
       "      <td>March</td>\n",
       "      <td>2017</td>\n",
       "      <td>другой</td>\n",
       "    </tr>\n",
       "    <tr>\n",
       "      <td>23698</td>\n",
       "      <td>4</td>\n",
       "      <td>1350000.0</td>\n",
       "      <td>32.299999</td>\n",
       "      <td>2017-07-21</td>\n",
       "      <td>1</td>\n",
       "      <td>2.50</td>\n",
       "      <td>5</td>\n",
       "      <td>12.300000</td>\n",
       "      <td>1</td>\n",
       "      <td>True</td>\n",
       "      <td>...</td>\n",
       "      <td>0</td>\n",
       "      <td>NaN</td>\n",
       "      <td>651</td>\n",
       "      <td>0.380805</td>\n",
       "      <td>0.278638</td>\n",
       "      <td>41795.667969</td>\n",
       "      <td>Friday</td>\n",
       "      <td>July</td>\n",
       "      <td>2017</td>\n",
       "      <td>первый</td>\n",
       "    </tr>\n",
       "  </tbody>\n",
       "</table>\n",
       "<p>5 rows × 29 columns</p>\n",
       "</div>"
      ],
      "text/plain": [
       "       total_images  last_price  total_area first_day_exposition  rooms  \\\n",
       "23694             9   9700000.0  133.809998           2017-03-21      3   \n",
       "23695            14   3100000.0   59.000000           2018-01-15      3   \n",
       "23696            18   2500000.0   56.700001           2018-02-11      2   \n",
       "23697            13  11475000.0   76.750000           2017-03-28      2   \n",
       "23698             4   1350000.0   32.299999           2017-07-21      1   \n",
       "\n",
       "       ceiling_height  floors_total  living_area  floor  is_apartment  ...  \\\n",
       "23694            3.70             5    73.300003      3          True  ...   \n",
       "23695            2.65             5    38.000000      4          True  ...   \n",
       "23696            2.65             3    29.700001      1          True  ...   \n",
       "23697            3.00            17    43.345753     12          True  ...   \n",
       "23698            2.50             5    12.300000      1          True  ...   \n",
       "\n",
       "       ponds_around3000  ponds_nearest  days_exposition  living_area_share  \\\n",
       "23694                 3          381.0              773           0.547792   \n",
       "23695                 0            NaN               45           0.644068   \n",
       "23696                 0            NaN              446           0.523810   \n",
       "23697                 3          196.0              602           0.564766   \n",
       "23698                 0            NaN              651           0.380805   \n",
       "\n",
       "      kitchen_area_share     metr_price  weekday_exposition  month_exposition  \\\n",
       "23694           0.103356   72490.843750             Tuesday             March   \n",
       "23695           0.144068   52542.371094              Monday           January   \n",
       "23696           0.187355   44091.710938              Sunday          February   \n",
       "23697           0.303583  149511.406250             Tuesday             March   \n",
       "23698           0.278638   41795.667969              Friday              July   \n",
       "\n",
       "       year_exposition  floor_category  \n",
       "23694             2017          другой  \n",
       "23695             2018          другой  \n",
       "23696             2018          первый  \n",
       "23697             2017          другой  \n",
       "23698             2017          первый  \n",
       "\n",
       "[5 rows x 29 columns]"
      ]
     },
     "execution_count": 332,
     "metadata": {},
     "output_type": "execute_result"
    }
   ],
   "source": [
    "df['metr_price'] = df['last_price'] / df['total_area']\n",
    "df['weekday_exposition'] = pd.DatetimeIndex(df['first_day_exposition']).weekday_name\n",
    "df['month_exposition'] = pd.DatetimeIndex(df['first_day_exposition']).month_name()\n",
    "df['year_exposition'] = pd.DatetimeIndex(df['first_day_exposition']).year\n",
    "def floor_category(data):\n",
    "    row1 = data['floor']\n",
    "    row2 = data['floors_total']\n",
    "    if row1 == row2:\n",
    "        return 'последний'\n",
    "    elif row1 == 1:\n",
    "        return 'первый'\n",
    "    return 'другой'\n",
    "    \n",
    "df['floor_category'] = df.apply(floor_category, axis=1)\n",
    "df.tail(5)"
   ]
  },
  {
   "cell_type": "markdown",
   "metadata": {},
   "source": [
    "Добавлены столбцы с ценой за квадратный метр, днём недели, месяцем и годом публикации объявления.\n",
    "\n",
    "Этажи категоризированы."
   ]
  },
  {
   "cell_type": "markdown",
   "metadata": {},
   "source": [
    "## Исследовательский анализ данных"
   ]
  },
  {
   "cell_type": "code",
   "execution_count": 333,
   "metadata": {},
   "outputs": [
    {
     "data": {
      "image/png": "[encoded data removed]",
      "text/plain": [
       "<Figure size 432x288 with 1 Axes>"
      ]
     },
     "metadata": {
      "needs_background": "light"
     },
     "output_type": "display_data"
    },
    {
     "data": {
      "image/png": "[encoded data removed]",
      "text/plain": [
       "<Figure size 432x288 with 1 Axes>"
      ]
     },
     "metadata": {
      "needs_background": "light"
     },
     "output_type": "display_data"
    },
    {
     "data": {
      "image/png": "[encoded data removed]",
      "text/plain": [
       "<Figure size 432x288 with 1 Axes>"
      ]
     },
     "metadata": {
      "needs_background": "light"
     },
     "output_type": "display_data"
    },
    {
     "data": {
      "text/plain": [
       "Text(0, 0.5, 'frequency, units')"
      ]
     },
     "execution_count": 333,
     "metadata": {},
     "output_type": "execute_result"
    },
    {
     "data": {
      "image/png": "[encoded data removed]",
      "text/plain": [
       "<Figure size 432x288 with 1 Axes>"
      ]
     },
     "metadata": {
      "needs_background": "light"
     },
     "output_type": "display_data"
    }
   ],
   "source": [
    "df['total_area'].hist()\n",
    "plt.title('total_area')\n",
    "plt.xlabel('area')\n",
    "plt.ylabel('frequency, units')\n",
    "plt.show()\n",
    "df['last_price'].hist()\n",
    "plt.title('last_price')\n",
    "plt.xlabel('price')\n",
    "plt.ylabel('frequency, units')\n",
    "plt.show()\n",
    "df['rooms'].hist()\n",
    "plt.title('rooms')\n",
    "plt.xlabel('rooms')\n",
    "plt.ylabel('frequency, units')\n",
    "plt.show()\n",
    "df['ceiling_height'].hist(bins=5)\n",
    "plt.title('ceiling_height')\n",
    "plt.xlabel('height')\n",
    "plt.ylabel('frequency, units')"
   ]
  },
  {
   "cell_type": "code",
   "execution_count": 334,
   "metadata": {},
   "outputs": [
    {
     "data": {
      "text/plain": [
       "<matplotlib.axes._subplots.AxesSubplot at 0x7f3b0c0db790>"
      ]
     },
     "execution_count": 334,
     "metadata": {},
     "output_type": "execute_result"
    },
    {
     "data": {
      "image/png": "[encoded data removed]",
      "text/plain": [
       "<Figure size 432x288 with 1 Axes>"
      ]
     },
     "metadata": {
      "needs_background": "light"
     },
     "output_type": "display_data"
    }
   ],
   "source": [
    "df.boxplot(column='ceiling_height')"
   ]
  },
  {
   "cell_type": "code",
   "execution_count": 335,
   "metadata": {},
   "outputs": [
    {
     "data": {
      "text/html": [
       "<div>\n",
       "<style scoped>\n",
       "    .dataframe tbody tr th:only-of-type {\n",
       "        vertical-align: middle;\n",
       "    }\n",
       "\n",
       "    .dataframe tbody tr th {\n",
       "        vertical-align: top;\n",
       "    }\n",
       "\n",
       "    .dataframe thead th {\n",
       "        text-align: right;\n",
       "    }\n",
       "</style>\n",
       "<table border=\"1\" class=\"dataframe\">\n",
       "  <thead>\n",
       "    <tr style=\"text-align: right;\">\n",
       "      <th></th>\n",
       "      <th>total_images</th>\n",
       "      <th>last_price</th>\n",
       "      <th>total_area</th>\n",
       "      <th>first_day_exposition</th>\n",
       "      <th>rooms</th>\n",
       "      <th>ceiling_height</th>\n",
       "      <th>floors_total</th>\n",
       "      <th>living_area</th>\n",
       "      <th>floor</th>\n",
       "      <th>is_apartment</th>\n",
       "      <th>...</th>\n",
       "      <th>ponds_around3000</th>\n",
       "      <th>ponds_nearest</th>\n",
       "      <th>days_exposition</th>\n",
       "      <th>living_area_share</th>\n",
       "      <th>kitchen_area_share</th>\n",
       "      <th>metr_price</th>\n",
       "      <th>weekday_exposition</th>\n",
       "      <th>month_exposition</th>\n",
       "      <th>year_exposition</th>\n",
       "      <th>floor_category</th>\n",
       "    </tr>\n",
       "  </thead>\n",
       "  <tbody>\n",
       "    <tr>\n",
       "      <td>5712</td>\n",
       "      <td>5</td>\n",
       "      <td>1500000.0</td>\n",
       "      <td>42.799999</td>\n",
       "      <td>2017-08-14</td>\n",
       "      <td>2</td>\n",
       "      <td>1.20</td>\n",
       "      <td>2</td>\n",
       "      <td>27.500000</td>\n",
       "      <td>1</td>\n",
       "      <td>True</td>\n",
       "      <td>...</td>\n",
       "      <td>0</td>\n",
       "      <td>NaN</td>\n",
       "      <td>248</td>\n",
       "      <td>0.642523</td>\n",
       "      <td>0.121495</td>\n",
       "      <td>35046.730469</td>\n",
       "      <td>Monday</td>\n",
       "      <td>August</td>\n",
       "      <td>2017</td>\n",
       "      <td>первый</td>\n",
       "    </tr>\n",
       "    <tr>\n",
       "      <td>16934</td>\n",
       "      <td>5</td>\n",
       "      <td>4100000.0</td>\n",
       "      <td>40.000000</td>\n",
       "      <td>2017-10-17</td>\n",
       "      <td>1</td>\n",
       "      <td>1.75</td>\n",
       "      <td>37</td>\n",
       "      <td>17.400000</td>\n",
       "      <td>5</td>\n",
       "      <td>True</td>\n",
       "      <td>...</td>\n",
       "      <td>3</td>\n",
       "      <td>80.0</td>\n",
       "      <td>71</td>\n",
       "      <td>0.435000</td>\n",
       "      <td>0.208500</td>\n",
       "      <td>102500.000000</td>\n",
       "      <td>Tuesday</td>\n",
       "      <td>October</td>\n",
       "      <td>2017</td>\n",
       "      <td>другой</td>\n",
       "    </tr>\n",
       "    <tr>\n",
       "      <td>22590</td>\n",
       "      <td>16</td>\n",
       "      <td>6000000.0</td>\n",
       "      <td>55.000000</td>\n",
       "      <td>2018-10-31</td>\n",
       "      <td>2</td>\n",
       "      <td>1.00</td>\n",
       "      <td>12</td>\n",
       "      <td>32.400002</td>\n",
       "      <td>7</td>\n",
       "      <td>True</td>\n",
       "      <td>...</td>\n",
       "      <td>2</td>\n",
       "      <td>289.0</td>\n",
       "      <td>13</td>\n",
       "      <td>0.589091</td>\n",
       "      <td>0.181818</td>\n",
       "      <td>109090.906250</td>\n",
       "      <td>Wednesday</td>\n",
       "      <td>October</td>\n",
       "      <td>2018</td>\n",
       "      <td>другой</td>\n",
       "    </tr>\n",
       "  </tbody>\n",
       "</table>\n",
       "<p>3 rows × 29 columns</p>\n",
       "</div>"
      ],
      "text/plain": [
       "       total_images  last_price  total_area first_day_exposition  rooms  \\\n",
       "5712              5   1500000.0   42.799999           2017-08-14      2   \n",
       "16934             5   4100000.0   40.000000           2017-10-17      1   \n",
       "22590            16   6000000.0   55.000000           2018-10-31      2   \n",
       "\n",
       "       ceiling_height  floors_total  living_area  floor  is_apartment  ...  \\\n",
       "5712             1.20             2    27.500000      1          True  ...   \n",
       "16934            1.75            37    17.400000      5          True  ...   \n",
       "22590            1.00            12    32.400002      7          True  ...   \n",
       "\n",
       "       ponds_around3000  ponds_nearest  days_exposition  living_area_share  \\\n",
       "5712                  0            NaN              248           0.642523   \n",
       "16934                 3           80.0               71           0.435000   \n",
       "22590                 2          289.0               13           0.589091   \n",
       "\n",
       "      kitchen_area_share     metr_price  weekday_exposition  month_exposition  \\\n",
       "5712            0.121495   35046.730469              Monday            August   \n",
       "16934           0.208500  102500.000000             Tuesday           October   \n",
       "22590           0.181818  109090.906250           Wednesday           October   \n",
       "\n",
       "       year_exposition  floor_category  \n",
       "5712              2017          первый  \n",
       "16934             2017          другой  \n",
       "22590             2018          другой  \n",
       "\n",
       "[3 rows x 29 columns]"
      ]
     },
     "execution_count": 335,
     "metadata": {},
     "output_type": "execute_result"
    }
   ],
   "source": [
    "df.query('ceiling_height < 2')"
   ]
  },
  {
   "cell_type": "code",
   "execution_count": 336,
   "metadata": {},
   "outputs": [
    {
     "data": {
      "text/html": [
       "<div>\n",
       "<style scoped>\n",
       "    .dataframe tbody tr th:only-of-type {\n",
       "        vertical-align: middle;\n",
       "    }\n",
       "\n",
       "    .dataframe tbody tr th {\n",
       "        vertical-align: top;\n",
       "    }\n",
       "\n",
       "    .dataframe thead th {\n",
       "        text-align: right;\n",
       "    }\n",
       "</style>\n",
       "<table border=\"1\" class=\"dataframe\">\n",
       "  <thead>\n",
       "    <tr style=\"text-align: right;\">\n",
       "      <th></th>\n",
       "      <th>total_images</th>\n",
       "      <th>last_price</th>\n",
       "      <th>total_area</th>\n",
       "      <th>first_day_exposition</th>\n",
       "      <th>rooms</th>\n",
       "      <th>ceiling_height</th>\n",
       "      <th>floors_total</th>\n",
       "      <th>living_area</th>\n",
       "      <th>floor</th>\n",
       "      <th>is_apartment</th>\n",
       "      <th>...</th>\n",
       "      <th>ponds_around3000</th>\n",
       "      <th>ponds_nearest</th>\n",
       "      <th>days_exposition</th>\n",
       "      <th>living_area_share</th>\n",
       "      <th>kitchen_area_share</th>\n",
       "      <th>metr_price</th>\n",
       "      <th>weekday_exposition</th>\n",
       "      <th>month_exposition</th>\n",
       "      <th>year_exposition</th>\n",
       "      <th>floor_category</th>\n",
       "    </tr>\n",
       "  </thead>\n",
       "  <tbody>\n",
       "    <tr>\n",
       "      <td>227</td>\n",
       "      <td>13</td>\n",
       "      <td>2200000.0</td>\n",
       "      <td>47.000000</td>\n",
       "      <td>2018-01-12</td>\n",
       "      <td>3</td>\n",
       "      <td>2.34</td>\n",
       "      <td>5</td>\n",
       "      <td>26.543980</td>\n",
       "      <td>1</td>\n",
       "      <td>True</td>\n",
       "      <td>...</td>\n",
       "      <td>0</td>\n",
       "      <td>NaN</td>\n",
       "      <td>45</td>\n",
       "      <td>0.564766</td>\n",
       "      <td>0.187355</td>\n",
       "      <td>46808.511719</td>\n",
       "      <td>Friday</td>\n",
       "      <td>January</td>\n",
       "      <td>2018</td>\n",
       "      <td>первый</td>\n",
       "    </tr>\n",
       "    <tr>\n",
       "      <td>1582</td>\n",
       "      <td>4</td>\n",
       "      <td>4100000.0</td>\n",
       "      <td>45.599998</td>\n",
       "      <td>2016-01-13</td>\n",
       "      <td>2</td>\n",
       "      <td>2.30</td>\n",
       "      <td>9</td>\n",
       "      <td>28.400000</td>\n",
       "      <td>8</td>\n",
       "      <td>False</td>\n",
       "      <td>...</td>\n",
       "      <td>1</td>\n",
       "      <td>525.0</td>\n",
       "      <td>329</td>\n",
       "      <td>0.622807</td>\n",
       "      <td>0.153509</td>\n",
       "      <td>89912.281250</td>\n",
       "      <td>Wednesday</td>\n",
       "      <td>January</td>\n",
       "      <td>2016</td>\n",
       "      <td>другой</td>\n",
       "    </tr>\n",
       "    <tr>\n",
       "      <td>5498</td>\n",
       "      <td>17</td>\n",
       "      <td>2200000.0</td>\n",
       "      <td>56.000000</td>\n",
       "      <td>2018-04-02</td>\n",
       "      <td>2</td>\n",
       "      <td>2.30</td>\n",
       "      <td>5</td>\n",
       "      <td>45.000000</td>\n",
       "      <td>1</td>\n",
       "      <td>True</td>\n",
       "      <td>...</td>\n",
       "      <td>0</td>\n",
       "      <td>NaN</td>\n",
       "      <td>55</td>\n",
       "      <td>0.803571</td>\n",
       "      <td>0.160714</td>\n",
       "      <td>39285.714844</td>\n",
       "      <td>Monday</td>\n",
       "      <td>April</td>\n",
       "      <td>2018</td>\n",
       "      <td>первый</td>\n",
       "    </tr>\n",
       "    <tr>\n",
       "      <td>12755</td>\n",
       "      <td>2</td>\n",
       "      <td>1400000.0</td>\n",
       "      <td>22.500000</td>\n",
       "      <td>2017-09-21</td>\n",
       "      <td>1</td>\n",
       "      <td>2.20</td>\n",
       "      <td>2</td>\n",
       "      <td>18.000000</td>\n",
       "      <td>2</td>\n",
       "      <td>True</td>\n",
       "      <td>...</td>\n",
       "      <td>0</td>\n",
       "      <td>NaN</td>\n",
       "      <td>45</td>\n",
       "      <td>0.800000</td>\n",
       "      <td>0.200000</td>\n",
       "      <td>62222.222656</td>\n",
       "      <td>Thursday</td>\n",
       "      <td>September</td>\n",
       "      <td>2017</td>\n",
       "      <td>последний</td>\n",
       "    </tr>\n",
       "    <tr>\n",
       "      <td>17762</td>\n",
       "      <td>20</td>\n",
       "      <td>2300000.0</td>\n",
       "      <td>54.299999</td>\n",
       "      <td>2018-06-28</td>\n",
       "      <td>3</td>\n",
       "      <td>2.30</td>\n",
       "      <td>5</td>\n",
       "      <td>39.000000</td>\n",
       "      <td>2</td>\n",
       "      <td>True</td>\n",
       "      <td>...</td>\n",
       "      <td>0</td>\n",
       "      <td>NaN</td>\n",
       "      <td>189</td>\n",
       "      <td>0.718232</td>\n",
       "      <td>0.097606</td>\n",
       "      <td>42357.273438</td>\n",
       "      <td>Thursday</td>\n",
       "      <td>June</td>\n",
       "      <td>2018</td>\n",
       "      <td>другой</td>\n",
       "    </tr>\n",
       "    <tr>\n",
       "      <td>17794</td>\n",
       "      <td>1</td>\n",
       "      <td>2300000.0</td>\n",
       "      <td>58.599998</td>\n",
       "      <td>2016-05-12</td>\n",
       "      <td>3</td>\n",
       "      <td>2.25</td>\n",
       "      <td>5</td>\n",
       "      <td>44.100002</td>\n",
       "      <td>3</td>\n",
       "      <td>False</td>\n",
       "      <td>...</td>\n",
       "      <td>0</td>\n",
       "      <td>NaN</td>\n",
       "      <td>45</td>\n",
       "      <td>0.752560</td>\n",
       "      <td>0.093857</td>\n",
       "      <td>39249.148438</td>\n",
       "      <td>Thursday</td>\n",
       "      <td>May</td>\n",
       "      <td>2016</td>\n",
       "      <td>другой</td>\n",
       "    </tr>\n",
       "    <tr>\n",
       "      <td>23498</td>\n",
       "      <td>7</td>\n",
       "      <td>1600000.0</td>\n",
       "      <td>54.000000</td>\n",
       "      <td>2016-12-26</td>\n",
       "      <td>2</td>\n",
       "      <td>2.30</td>\n",
       "      <td>1</td>\n",
       "      <td>33.000000</td>\n",
       "      <td>1</td>\n",
       "      <td>False</td>\n",
       "      <td>...</td>\n",
       "      <td>0</td>\n",
       "      <td>NaN</td>\n",
       "      <td>281</td>\n",
       "      <td>0.611111</td>\n",
       "      <td>0.064815</td>\n",
       "      <td>29629.628906</td>\n",
       "      <td>Monday</td>\n",
       "      <td>December</td>\n",
       "      <td>2016</td>\n",
       "      <td>последний</td>\n",
       "    </tr>\n",
       "  </tbody>\n",
       "</table>\n",
       "<p>7 rows × 29 columns</p>\n",
       "</div>"
      ],
      "text/plain": [
       "       total_images  last_price  total_area first_day_exposition  rooms  \\\n",
       "227              13   2200000.0   47.000000           2018-01-12      3   \n",
       "1582              4   4100000.0   45.599998           2016-01-13      2   \n",
       "5498             17   2200000.0   56.000000           2018-04-02      2   \n",
       "12755             2   1400000.0   22.500000           2017-09-21      1   \n",
       "17762            20   2300000.0   54.299999           2018-06-28      3   \n",
       "17794             1   2300000.0   58.599998           2016-05-12      3   \n",
       "23498             7   1600000.0   54.000000           2016-12-26      2   \n",
       "\n",
       "       ceiling_height  floors_total  living_area  floor  is_apartment  ...  \\\n",
       "227              2.34             5    26.543980      1          True  ...   \n",
       "1582             2.30             9    28.400000      8         False  ...   \n",
       "5498             2.30             5    45.000000      1          True  ...   \n",
       "12755            2.20             2    18.000000      2          True  ...   \n",
       "17762            2.30             5    39.000000      2          True  ...   \n",
       "17794            2.25             5    44.100002      3         False  ...   \n",
       "23498            2.30             1    33.000000      1         False  ...   \n",
       "\n",
       "       ponds_around3000  ponds_nearest  days_exposition  living_area_share  \\\n",
       "227                   0            NaN               45           0.564766   \n",
       "1582                  1          525.0              329           0.622807   \n",
       "5498                  0            NaN               55           0.803571   \n",
       "12755                 0            NaN               45           0.800000   \n",
       "17762                 0            NaN              189           0.718232   \n",
       "17794                 0            NaN               45           0.752560   \n",
       "23498                 0            NaN              281           0.611111   \n",
       "\n",
       "      kitchen_area_share    metr_price  weekday_exposition  month_exposition  \\\n",
       "227             0.187355  46808.511719              Friday           January   \n",
       "1582            0.153509  89912.281250           Wednesday           January   \n",
       "5498            0.160714  39285.714844              Monday             April   \n",
       "12755           0.200000  62222.222656            Thursday         September   \n",
       "17762           0.097606  42357.273438            Thursday              June   \n",
       "17794           0.093857  39249.148438            Thursday               May   \n",
       "23498           0.064815  29629.628906              Monday          December   \n",
       "\n",
       "       year_exposition  floor_category  \n",
       "227               2018          первый  \n",
       "1582              2016          другой  \n",
       "5498              2018          первый  \n",
       "12755             2017       последний  \n",
       "17762             2018          другой  \n",
       "17794             2016          другой  \n",
       "23498             2016       последний  \n",
       "\n",
       "[7 rows x 29 columns]"
      ]
     },
     "execution_count": 336,
     "metadata": {},
     "output_type": "execute_result"
    }
   ],
   "source": [
    "df.query('2 < ceiling_height < 2.4')"
   ]
  },
  {
   "cell_type": "code",
   "execution_count": 337,
   "metadata": {},
   "outputs": [
    {
     "data": {
      "text/plain": [
       "Text(0, 0.5, 'frequency, units')"
      ]
     },
     "execution_count": 337,
     "metadata": {},
     "output_type": "execute_result"
    },
    {
     "data": {
      "image/png": "[encoded data removed]",
      "text/plain": [
       "<Figure size 432x288 with 1 Axes>"
      ]
     },
     "metadata": {
      "needs_background": "light"
     },
     "output_type": "display_data"
    }
   ],
   "source": [
    "df.query('ceiling_height > 2.5')['ceiling_height'].hist(bins=10)\n",
    "plt.title('ceiling_height')\n",
    "plt.xlabel('height')\n",
    "plt.ylabel('frequency, units')"
   ]
  },
  {
   "cell_type": "markdown",
   "metadata": {},
   "source": [
    "Судя по гистограме, стоит отбросить значения высоты потолков меньше 2,5 метров."
   ]
  },
  {
   "cell_type": "code",
   "execution_count": 338,
   "metadata": {},
   "outputs": [
    {
     "data": {
      "text/plain": [
       "<matplotlib.axes._subplots.AxesSubplot at 0x7f3b02deffd0>"
      ]
     },
     "execution_count": 338,
     "metadata": {},
     "output_type": "execute_result"
    },
    {
     "data": {
      "image/png": "[encoded data removed]",
      "text/plain": [
       "<Figure size 432x288 with 1 Axes>"
      ]
     },
     "metadata": {
      "needs_background": "light"
     },
     "output_type": "display_data"
    }
   ],
   "source": [
    "df.boxplot(column='rooms')"
   ]
  },
  {
   "cell_type": "code",
   "execution_count": 339,
   "metadata": {},
   "outputs": [
    {
     "data": {
      "text/plain": [
       "1     8036\n",
       "2     7924\n",
       "3     5797\n",
       "4     1175\n",
       "5      326\n",
       "0      197\n",
       "6      105\n",
       "7       59\n",
       "8       12\n",
       "9        8\n",
       "10       3\n",
       "14       2\n",
       "11       2\n",
       "19       1\n",
       "12       1\n",
       "16       1\n",
       "15       1\n",
       "Name: rooms, dtype: int64"
      ]
     },
     "execution_count": 339,
     "metadata": {},
     "output_type": "execute_result"
    }
   ],
   "source": [
    "df['rooms'].value_counts()"
   ]
  },
  {
   "cell_type": "code",
   "execution_count": 340,
   "metadata": {},
   "outputs": [
    {
     "data": {
      "text/plain": [
       "<matplotlib.axes._subplots.AxesSubplot at 0x7f3b02e99a50>"
      ]
     },
     "execution_count": 340,
     "metadata": {},
     "output_type": "execute_result"
    },
    {
     "data": {
      "image/png": "[encoded data removed]",
      "text/plain": [
       "<Figure size 432x288 with 1 Axes>"
      ]
     },
     "metadata": {
      "needs_background": "light"
     },
     "output_type": "display_data"
    }
   ],
   "source": [
    "df.query('rooms <10').boxplot(column='rooms')"
   ]
  },
  {
   "cell_type": "code",
   "execution_count": 341,
   "metadata": {},
   "outputs": [
    {
     "data": {
      "text/plain": [
       "year_exposition\n",
       "2014     136\n",
       "2015    1173\n",
       "2016    2765\n",
       "2017    8185\n",
       "2018    8512\n",
       "2019    2879\n",
       "Name: first_day_exposition, dtype: int64"
      ]
     },
     "execution_count": 341,
     "metadata": {},
     "output_type": "execute_result"
    }
   ],
   "source": [
    "df.groupby('year_exposition')['first_day_exposition'].count()"
   ]
  },
  {
   "cell_type": "code",
   "execution_count": 342,
   "metadata": {},
   "outputs": [
    {
     "data": {
      "image/png": "[encoded data removed]",
      "text/plain": [
       "<Figure size 432x288 with 1 Axes>"
      ]
     },
     "metadata": {
      "needs_background": "light"
     },
     "output_type": "display_data"
    },
    {
     "data": {
      "image/png": "[encoded data removed]",
      "text/plain": [
       "<Figure size 432x288 with 1 Axes>"
      ]
     },
     "metadata": {
      "needs_background": "light"
     },
     "output_type": "display_data"
    },
    {
     "data": {
      "image/png": "[encoded data removed]",
      "text/plain": [
       "<Figure size 432x288 with 1 Axes>"
      ]
     },
     "metadata": {
      "needs_background": "light"
     },
     "output_type": "display_data"
    },
    {
     "data": {
      "image/png": "[encoded data removed]",
      "text/plain": [
       "<Figure size 432x288 with 1 Axes>"
      ]
     },
     "metadata": {
      "needs_background": "light"
     },
     "output_type": "display_data"
    },
    {
     "data": {
      "text/plain": [
       "Text(0, 0.5, 'frequency, units')"
      ]
     },
     "execution_count": 342,
     "metadata": {},
     "output_type": "execute_result"
    },
    {
     "data": {
      "image/png": "[encoded data removed]",
      "text/plain": [
       "<Figure size 432x288 with 1 Axes>"
      ]
     },
     "metadata": {
      "needs_background": "light"
     },
     "output_type": "display_data"
    }
   ],
   "source": [
    "df.query('year_exposition == 2014')['days_exposition'].hist(bins=100)\n",
    "plt.title('2014_year')\n",
    "plt.xlabel('days_exposition')\n",
    "plt.ylabel('frequency, units')\n",
    "plt.show()\n",
    "df.query('year_exposition == 2015')['days_exposition'].hist(bins=100)\n",
    "plt.title('2015_year')\n",
    "plt.xlabel('days_exposition')\n",
    "plt.ylabel('frequency, units')\n",
    "plt.show()\n",
    "df.query('year_exposition == 2016')['days_exposition'].hist(bins=100)\n",
    "plt.title('2016_year')\n",
    "plt.xlabel('days_exposition')\n",
    "plt.ylabel('frequency, units')\n",
    "plt.show()\n",
    "df.query('year_exposition == 2017')['days_exposition'].hist(bins=100)\n",
    "plt.title('2017_year')\n",
    "plt.xlabel('days_exposition')\n",
    "plt.ylabel('frequency, units')\n",
    "plt.show()\n",
    "df.query('year_exposition == 2018')['days_exposition'].hist(bins=100)\n",
    "plt.title('2018_year')\n",
    "plt.xlabel('days_exposition')\n",
    "plt.ylabel('frequency, units')"
   ]
  },
  {
   "cell_type": "markdown",
   "metadata": {},
   "source": [
    "В 2014 году продажи занимали от 200 до 1600 дней, в 2015 - от 200 до 1600, в 2016 - от 0 до 1200, в 2017 - от 0 до 800, в 2018 - от 0 до 500. Количество продаж из года в год росло. Быстрые продажи появились в 2016 году."
   ]
  },
  {
   "cell_type": "code",
   "execution_count": 343,
   "metadata": {},
   "outputs": [
    {
     "data": {
      "text/plain": [
       "Text(0, 0.5, 'frequency, units')"
      ]
     },
     "execution_count": 343,
     "metadata": {},
     "output_type": "execute_result"
    },
    {
     "data": {
      "image/png": "[encoded data removed]",
      "text/plain": [
       "<Figure size 432x288 with 1 Axes>"
      ]
     },
     "metadata": {
      "needs_background": "light"
     },
     "output_type": "display_data"
    }
   ],
   "source": [
    "df.query('year_exposition == 2016 and days_exposition < 100')['days_exposition'].hist(color='red')\n",
    "df.query('year_exposition == 2017 and days_exposition < 100')['days_exposition'].hist(alpha=0.5, color='blue')\n",
    "df.query('year_exposition == 2018 and days_exposition < 100')['days_exposition'].hist(alpha=0.4, color='green')\n",
    "box = {'facecolor':'white'}\n",
    "plt.text(80, 600, 'purple -2016\\nblue - 2017\\ngreen-2018', bbox=box)\n",
    "plt.title('2016-2018_year\\ndays < 100')\n",
    "plt.xlabel('days_exposition')\n",
    "plt.ylabel('frequency, units')"
   ]
  },
  {
   "cell_type": "code",
   "execution_count": 344,
   "metadata": {},
   "outputs": [
    {
     "data": {
      "text/plain": [
       "Text(0, 0.5, 'frequency, units')"
      ]
     },
     "execution_count": 344,
     "metadata": {},
     "output_type": "execute_result"
    },
    {
     "data": {
      "image/png": "[encoded data removed]",
      "text/plain": [
       "<Figure size 432x288 with 1 Axes>"
      ]
     },
     "metadata": {
      "needs_background": "light"
     },
     "output_type": "display_data"
    }
   ],
   "source": [
    "df.query('days_exposition > 40')['days_exposition'].hist()\n",
    "plt.title('all_years\\ndays > 40')\n",
    "plt.xlabel('days_exposition')\n",
    "plt.ylabel('frequency, units')"
   ]
  },
  {
   "cell_type": "code",
   "execution_count": 345,
   "metadata": {},
   "outputs": [
    {
     "data": {
      "text/plain": [
       "Text(0, 0.5, 'frequency, units')"
      ]
     },
     "execution_count": 345,
     "metadata": {},
     "output_type": "execute_result"
    },
    {
     "data": {
      "image/png": "[encoded data removed]",
      "text/plain": [
       "<Figure size 432x288 with 1 Axes>"
      ]
     },
     "metadata": {
      "needs_background": "light"
     },
     "output_type": "display_data"
    }
   ],
   "source": [
    "df.query('days_exposition < 100')['days_exposition'].hist()\n",
    "plt.title('all_years')\n",
    "plt.xlabel('days_exposition')\n",
    "plt.ylabel('frequency, units')"
   ]
  },
  {
   "cell_type": "markdown",
   "metadata": {},
   "source": [
    "На гистограмме данные с 2016 по 2018 год для длительности продаж меньше 100 дней. Пики на 0 и на 40 днях. Такие же пики на гистограмме с данными по всем годам.\n",
    "\n",
    "Можно считать продажи меньше 40 дней слишком быстрыми."
   ]
  },
  {
   "cell_type": "code",
   "execution_count": 346,
   "metadata": {},
   "outputs": [
    {
     "data": {
      "image/png": "[encoded data removed]",
      "text/plain": [
       "<Figure size 432x288 with 1 Axes>"
      ]
     },
     "metadata": {
      "needs_background": "light"
     },
     "output_type": "display_data"
    },
    {
     "data": {
      "text/plain": [
       "Text(0, 0.5, 'frequency, units')"
      ]
     },
     "execution_count": 346,
     "metadata": {},
     "output_type": "execute_result"
    },
    {
     "data": {
      "image/png": "[encoded data removed]",
      "text/plain": [
       "<Figure size 432x288 with 1 Axes>"
      ]
     },
     "metadata": {
      "needs_background": "light"
     },
     "output_type": "display_data"
    }
   ],
   "source": [
    "df.query('year_exposition == 2017')['days_exposition'].hist(bins=5)\n",
    "plt.title('2017_year')\n",
    "plt.xlabel('days_exposition')\n",
    "plt.ylabel('frequency, units')\n",
    "plt.show()\n",
    "df.query('year_exposition == 2018')['days_exposition'].hist(bins=5)\n",
    "plt.title('2018_year')\n",
    "plt.xlabel('days_exposition')\n",
    "plt.ylabel('frequency, units')"
   ]
  },
  {
   "cell_type": "code",
   "execution_count": 347,
   "metadata": {},
   "outputs": [
    {
     "data": {
      "image/png": "[encoded data removed]",
      "text/plain": [
       "<Figure size 432x288 with 1 Axes>"
      ]
     },
     "metadata": {
      "needs_background": "light"
     },
     "output_type": "display_data"
    },
    {
     "name": "stdout",
     "output_type": "stream",
     "text": [
      "mean 185.71441860465117\n",
      "median 94.0\n"
     ]
    },
    {
     "data": {
      "text/plain": [
       "<matplotlib.axes._subplots.AxesSubplot at 0x7f3afe253e90>"
      ]
     },
     "execution_count": 347,
     "metadata": {},
     "output_type": "execute_result"
    },
    {
     "data": {
      "image/png": "[encoded data removed]",
      "text/plain": [
       "<Figure size 432x288 with 1 Axes>"
      ]
     },
     "metadata": {
      "needs_background": "light"
     },
     "output_type": "display_data"
    }
   ],
   "source": [
    "df.query('days_exposition > 0')['days_exposition'].hist(bins=50)\n",
    "plt.title('all_years\\ndays_exposition > 0')\n",
    "plt.xlabel('days_exposition')\n",
    "plt.ylabel('frequency, units')\n",
    "plt.show()\n",
    "print('mean', df['days_exposition'].mean())\n",
    "print('median', df['days_exposition'].median())\n",
    "df.boxplot(column='days_exposition')"
   ]
  },
  {
   "cell_type": "code",
   "execution_count": 348,
   "metadata": {},
   "outputs": [
    {
     "data": {
      "image/png": "[encoded data removed]",
      "text/plain": [
       "<Figure size 432x288 with 1 Axes>"
      ]
     },
     "metadata": {
      "needs_background": "light"
     },
     "output_type": "display_data"
    },
    {
     "data": {
      "text/plain": [
       "Text(0, 0.5, 'frequency, units')"
      ]
     },
     "execution_count": 348,
     "metadata": {},
     "output_type": "execute_result"
    },
    {
     "data": {
      "image/png": "[encoded data removed]",
      "text/plain": [
       "<Figure size 432x288 with 1 Axes>"
      ]
     },
     "metadata": {
      "needs_background": "light"
     },
     "output_type": "display_data"
    }
   ],
   "source": [
    "df.query('days_exposition < 200')['days_exposition'].hist()\n",
    "plt.title('all_years\\ndays_exposition < 200')\n",
    "plt.xlabel('days_exposition')\n",
    "plt.ylabel('frequency, units')\n",
    "plt.show()\n",
    "df.query('0 < days_exposition < 50')['days_exposition'].hist(bins=20)\n",
    "plt.title('all_years\\n0 < days_exposition < 50')\n",
    "plt.xlabel('days_exposition')\n",
    "plt.ylabel('frequency, units')"
   ]
  },
  {
   "cell_type": "code",
   "execution_count": 349,
   "metadata": {},
   "outputs": [
    {
     "data": {
      "text/plain": [
       "Text(0, 0.5, 'frequency, units')"
      ]
     },
     "execution_count": 349,
     "metadata": {},
     "output_type": "execute_result"
    },
    {
     "data": {
      "image/png": "[encoded data removed]",
      "text/plain": [
       "<Figure size 432x288 with 1 Axes>"
      ]
     },
     "metadata": {
      "needs_background": "light"
     },
     "output_type": "display_data"
    }
   ],
   "source": [
    "df.query('days_exposition < 10')['days_exposition'].hist()\n",
    "plt.title('all_years\\ndays_exposition < 10')\n",
    "plt.xlabel('days_exposition')\n",
    "plt.ylabel('frequency, units')"
   ]
  },
  {
   "cell_type": "code",
   "execution_count": 350,
   "metadata": {},
   "outputs": [
    {
     "data": {
      "image/png": "[encoded data removed]",
      "text/plain": [
       "<Figure size 432x288 with 1 Axes>"
      ]
     },
     "metadata": {
      "needs_background": "light"
     },
     "output_type": "display_data"
    },
    {
     "data": {
      "text/plain": [
       "Text(0, 0.5, 'frequency, units')"
      ]
     },
     "execution_count": 350,
     "metadata": {},
     "output_type": "execute_result"
    },
    {
     "data": {
      "image/png": "[encoded data removed]",
      "text/plain": [
       "<Figure size 432x288 with 1 Axes>"
      ]
     },
     "metadata": {
      "needs_background": "light"
     },
     "output_type": "display_data"
    }
   ],
   "source": [
    "df.query('days_exposition > 50')['days_exposition'].hist()\n",
    "plt.title('all_years\\ndays_exposition > 50')\n",
    "plt.xlabel('days_exposition')\n",
    "plt.ylabel('frequency, units')\n",
    "plt.show()\n",
    "df.query('days_exposition > 100')['days_exposition'].hist()\n",
    "plt.title('all_years\\ndays_exposition > 100')\n",
    "plt.xlabel('days_exposition')\n",
    "plt.ylabel('frequency, units')"
   ]
  },
  {
   "cell_type": "markdown",
   "metadata": {},
   "source": [
    "В среднем продажа занимает 185 дней. Продажи больше 1000 дней можно считать очень долгими. На диаграмме размаха по длительности продаж выбросов нет. Нулевые значения длительности, часть из которых появилась после замены пропущенных значений (2019 год), можно отбросить. Мне кажется, что пик до 200 дней очень резкий, но я не понимаю, как это проверить. Если отбросить значения меньше 200, потеряется половина данных."
   ]
  },
  {
   "cell_type": "code",
   "execution_count": 351,
   "metadata": {},
   "outputs": [
    {
     "data": {
      "text/plain": [
       "Text(0, 0.5, 'frequency, units')"
      ]
     },
     "execution_count": 351,
     "metadata": {},
     "output_type": "execute_result"
    },
    {
     "data": {
      "image/png": "[encoded data removed]",
      "text/plain": [
       "<Figure size 432x288 with 1 Axes>"
      ]
     },
     "metadata": {
      "needs_background": "light"
     },
     "output_type": "display_data"
    }
   ],
   "source": [
    "df.query('days_exposition > 2')['days_exposition'].hist()\n",
    "plt.title('all_years\\ndays_exposition > 2')\n",
    "plt.xlabel('days_exposition')\n",
    "plt.ylabel('frequency, units')"
   ]
  },
  {
   "cell_type": "code",
   "execution_count": 352,
   "metadata": {},
   "outputs": [],
   "source": [
    "df = df.query('days_exposition > 40')"
   ]
  },
  {
   "cell_type": "code",
   "execution_count": 353,
   "metadata": {},
   "outputs": [
    {
     "data": {
      "text/html": [
       "<div>\n",
       "<style scoped>\n",
       "    .dataframe tbody tr th:only-of-type {\n",
       "        vertical-align: middle;\n",
       "    }\n",
       "\n",
       "    .dataframe tbody tr th {\n",
       "        vertical-align: top;\n",
       "    }\n",
       "\n",
       "    .dataframe thead th {\n",
       "        text-align: right;\n",
       "    }\n",
       "</style>\n",
       "<table border=\"1\" class=\"dataframe\">\n",
       "  <thead>\n",
       "    <tr style=\"text-align: right;\">\n",
       "      <th></th>\n",
       "      <th>price_with</th>\n",
       "      <th>corr</th>\n",
       "    </tr>\n",
       "  </thead>\n",
       "  <tbody>\n",
       "    <tr>\n",
       "      <td>0</td>\n",
       "      <td>area</td>\n",
       "      <td>0.700434</td>\n",
       "    </tr>\n",
       "    <tr>\n",
       "      <td>1</td>\n",
       "      <td>rooms</td>\n",
       "      <td>0.386553</td>\n",
       "    </tr>\n",
       "    <tr>\n",
       "      <td>2</td>\n",
       "      <td>cityCenters_nearest</td>\n",
       "      <td>-0.228376</td>\n",
       "    </tr>\n",
       "    <tr>\n",
       "      <td>3</td>\n",
       "      <td>floor</td>\n",
       "      <td>0.031099</td>\n",
       "    </tr>\n",
       "    <tr>\n",
       "      <td>4</td>\n",
       "      <td>days_exposition</td>\n",
       "      <td>0.106273</td>\n",
       "    </tr>\n",
       "  </tbody>\n",
       "</table>\n",
       "</div>"
      ],
      "text/plain": [
       "            price_with      corr\n",
       "0                 area  0.700434\n",
       "1                rooms  0.386553\n",
       "2  cityCenters_nearest -0.228376\n",
       "3                floor  0.031099\n",
       "4      days_exposition  0.106273"
      ]
     },
     "metadata": {},
     "output_type": "display_data"
    },
    {
     "data": {
      "image/png": "[encoded data removed]",
      "text/plain": [
       "<Figure size 432x288 with 1 Axes>"
      ]
     },
     "metadata": {
      "needs_background": "light"
     },
     "output_type": "display_data"
    },
    {
     "data": {
      "image/png": "[encoded data removed]",
      "text/plain": [
       "<Figure size 432x288 with 1 Axes>"
      ]
     },
     "metadata": {
      "needs_background": "light"
     },
     "output_type": "display_data"
    },
    {
     "data": {
      "image/png": "[encoded data removed]",
      "text/plain": [
       "<Figure size 432x288 with 1 Axes>"
      ]
     },
     "metadata": {
      "needs_background": "light"
     },
     "output_type": "display_data"
    },
    {
     "data": {
      "text/plain": [
       "<matplotlib.axes._subplots.AxesSubplot at 0x7f3afe5c0350>"
      ]
     },
     "execution_count": 353,
     "metadata": {},
     "output_type": "execute_result"
    },
    {
     "data": {
      "image/png": "[encoded data removed]",
      "text/plain": [
       "<Figure size 432x288 with 1 Axes>"
      ]
     },
     "metadata": {
      "needs_background": "light"
     },
     "output_type": "display_data"
    }
   ],
   "source": [
    "all_corr = pd.DataFrame([['area', df['last_price'].corr(df['total_area'])], ['rooms', df['last_price'].corr(df['rooms'])], ['cityCenters_nearest', df['last_price'].corr(df['cityCenters_nearest'])], ['floor', df['last_price'].corr(df['floor'])], ['days_exposition', df['last_price'].corr(df['days_exposition'])]], columns=['price_with', 'corr'])\n",
    "display(all_corr)\n",
    "df.plot(y='last_price', x='total_area', kind='scatter', title='scatter')\n",
    "plt.show()\n",
    "df.plot(y='last_price', x='rooms', kind='scatter', title='scatter')\n",
    "plt.show()\n",
    "df.plot(y='last_price', x='cityCenters_nearest', kind='scatter', title='scatter')\n",
    "plt.show()\n",
    "df.boxplot(column='last_price')"
   ]
  },
  {
   "cell_type": "code",
   "execution_count": 354,
   "metadata": {},
   "outputs": [
    {
     "data": {
      "text/plain": [
       "floor_category\n",
       "другой       4900000.0\n",
       "первый       3900000.0\n",
       "последний    4350000.0\n",
       "Name: last_price, dtype: float32"
      ]
     },
     "execution_count": 354,
     "metadata": {},
     "output_type": "execute_result"
    }
   ],
   "source": [
    "df.groupby('floor_category')['last_price'].median()"
   ]
  },
  {
   "cell_type": "code",
   "execution_count": 355,
   "metadata": {},
   "outputs": [
    {
     "data": {
      "text/html": [
       "<div>\n",
       "<style scoped>\n",
       "    .dataframe tbody tr th:only-of-type {\n",
       "        vertical-align: middle;\n",
       "    }\n",
       "\n",
       "    .dataframe tbody tr th {\n",
       "        vertical-align: top;\n",
       "    }\n",
       "\n",
       "    .dataframe thead th {\n",
       "        text-align: right;\n",
       "    }\n",
       "</style>\n",
       "<table border=\"1\" class=\"dataframe\">\n",
       "  <thead>\n",
       "    <tr style=\"text-align: right;\">\n",
       "      <th></th>\n",
       "      <th>last_price</th>\n",
       "    </tr>\n",
       "    <tr>\n",
       "      <th>year_exposition</th>\n",
       "      <th></th>\n",
       "    </tr>\n",
       "  </thead>\n",
       "  <tbody>\n",
       "    <tr>\n",
       "      <td>2014</td>\n",
       "      <td>12046600.0</td>\n",
       "    </tr>\n",
       "    <tr>\n",
       "      <td>2015</td>\n",
       "      <td>8592727.0</td>\n",
       "    </tr>\n",
       "    <tr>\n",
       "      <td>2016</td>\n",
       "      <td>6859233.0</td>\n",
       "    </tr>\n",
       "    <tr>\n",
       "      <td>2017</td>\n",
       "      <td>6685275.0</td>\n",
       "    </tr>\n",
       "    <tr>\n",
       "      <td>2018</td>\n",
       "      <td>6189577.0</td>\n",
       "    </tr>\n",
       "    <tr>\n",
       "      <td>2019</td>\n",
       "      <td>7270442.0</td>\n",
       "    </tr>\n",
       "  </tbody>\n",
       "</table>\n",
       "</div>"
      ],
      "text/plain": [
       "                 last_price\n",
       "year_exposition            \n",
       "2014             12046600.0\n",
       "2015              8592727.0\n",
       "2016              6859233.0\n",
       "2017              6685275.0\n",
       "2018              6189577.0\n",
       "2019              7270442.0"
      ]
     },
     "metadata": {},
     "output_type": "display_data"
    },
    {
     "data": {
      "text/html": [
       "<div>\n",
       "<style scoped>\n",
       "    .dataframe tbody tr th:only-of-type {\n",
       "        vertical-align: middle;\n",
       "    }\n",
       "\n",
       "    .dataframe tbody tr th {\n",
       "        vertical-align: top;\n",
       "    }\n",
       "\n",
       "    .dataframe thead th {\n",
       "        text-align: right;\n",
       "    }\n",
       "</style>\n",
       "<table border=\"1\" class=\"dataframe\">\n",
       "  <thead>\n",
       "    <tr style=\"text-align: right;\">\n",
       "      <th></th>\n",
       "      <th>last_price</th>\n",
       "    </tr>\n",
       "    <tr>\n",
       "      <th>month_exposition</th>\n",
       "      <th></th>\n",
       "    </tr>\n",
       "  </thead>\n",
       "  <tbody>\n",
       "    <tr>\n",
       "      <td>April</td>\n",
       "      <td>7058607.0</td>\n",
       "    </tr>\n",
       "    <tr>\n",
       "      <td>August</td>\n",
       "      <td>6472755.5</td>\n",
       "    </tr>\n",
       "    <tr>\n",
       "      <td>December</td>\n",
       "      <td>7308295.5</td>\n",
       "    </tr>\n",
       "    <tr>\n",
       "      <td>February</td>\n",
       "      <td>6619794.0</td>\n",
       "    </tr>\n",
       "    <tr>\n",
       "      <td>January</td>\n",
       "      <td>6945596.5</td>\n",
       "    </tr>\n",
       "    <tr>\n",
       "      <td>July</td>\n",
       "      <td>6965450.5</td>\n",
       "    </tr>\n",
       "    <tr>\n",
       "      <td>June</td>\n",
       "      <td>6413608.0</td>\n",
       "    </tr>\n",
       "    <tr>\n",
       "      <td>March</td>\n",
       "      <td>6523029.0</td>\n",
       "    </tr>\n",
       "    <tr>\n",
       "      <td>May</td>\n",
       "      <td>6604317.0</td>\n",
       "    </tr>\n",
       "    <tr>\n",
       "      <td>November</td>\n",
       "      <td>6732082.0</td>\n",
       "    </tr>\n",
       "    <tr>\n",
       "      <td>October</td>\n",
       "      <td>6676555.5</td>\n",
       "    </tr>\n",
       "    <tr>\n",
       "      <td>September</td>\n",
       "      <td>6731727.0</td>\n",
       "    </tr>\n",
       "  </tbody>\n",
       "</table>\n",
       "</div>"
      ],
      "text/plain": [
       "                  last_price\n",
       "month_exposition            \n",
       "April              7058607.0\n",
       "August             6472755.5\n",
       "December           7308295.5\n",
       "February           6619794.0\n",
       "January            6945596.5\n",
       "July               6965450.5\n",
       "June               6413608.0\n",
       "March              6523029.0\n",
       "May                6604317.0\n",
       "November           6732082.0\n",
       "October            6676555.5\n",
       "September          6731727.0"
      ]
     },
     "metadata": {},
     "output_type": "display_data"
    },
    {
     "data": {
      "text/html": [
       "<div>\n",
       "<style scoped>\n",
       "    .dataframe tbody tr th:only-of-type {\n",
       "        vertical-align: middle;\n",
       "    }\n",
       "\n",
       "    .dataframe tbody tr th {\n",
       "        vertical-align: top;\n",
       "    }\n",
       "\n",
       "    .dataframe thead th {\n",
       "        text-align: right;\n",
       "    }\n",
       "</style>\n",
       "<table border=\"1\" class=\"dataframe\">\n",
       "  <thead>\n",
       "    <tr style=\"text-align: right;\">\n",
       "      <th></th>\n",
       "      <th>last_price</th>\n",
       "    </tr>\n",
       "    <tr>\n",
       "      <th>weekday_exposition</th>\n",
       "      <th></th>\n",
       "    </tr>\n",
       "  </thead>\n",
       "  <tbody>\n",
       "    <tr>\n",
       "      <td>Friday</td>\n",
       "      <td>6650631.0</td>\n",
       "    </tr>\n",
       "    <tr>\n",
       "      <td>Monday</td>\n",
       "      <td>6650976.5</td>\n",
       "    </tr>\n",
       "    <tr>\n",
       "      <td>Saturday</td>\n",
       "      <td>6880361.0</td>\n",
       "    </tr>\n",
       "    <tr>\n",
       "      <td>Sunday</td>\n",
       "      <td>6435431.5</td>\n",
       "    </tr>\n",
       "    <tr>\n",
       "      <td>Thursday</td>\n",
       "      <td>6969484.0</td>\n",
       "    </tr>\n",
       "    <tr>\n",
       "      <td>Tuesday</td>\n",
       "      <td>6546524.5</td>\n",
       "    </tr>\n",
       "    <tr>\n",
       "      <td>Wednesday</td>\n",
       "      <td>6906703.0</td>\n",
       "    </tr>\n",
       "  </tbody>\n",
       "</table>\n",
       "</div>"
      ],
      "text/plain": [
       "                    last_price\n",
       "weekday_exposition            \n",
       "Friday               6650631.0\n",
       "Monday               6650976.5\n",
       "Saturday             6880361.0\n",
       "Sunday               6435431.5\n",
       "Thursday             6969484.0\n",
       "Tuesday              6546524.5\n",
       "Wednesday            6906703.0"
      ]
     },
     "metadata": {},
     "output_type": "display_data"
    }
   ],
   "source": [
    "display(df.pivot_table(index='year_exposition', values='last_price'))\n",
    "display(df.pivot_table(index='month_exposition', values='last_price'))\n",
    "display(df.pivot_table(index='weekday_exposition', values='last_price'))"
   ]
  },
  {
   "cell_type": "markdown",
   "metadata": {},
   "source": [
    "Средняя цена не зависит от дня недели и месяца, менялась по годам, имеет тенденцию к снижению."
   ]
  },
  {
   "cell_type": "code",
   "execution_count": 356,
   "metadata": {},
   "outputs": [
    {
     "data": {
      "text/plain": [
       "санкт-петербург      11751\n",
       "посёлок мурино         371\n",
       "посёлок шушары         343\n",
       "всеволожск             333\n",
       "пушкин                 295\n",
       "посёлок парголово      251\n",
       "колпино                248\n",
       "гатчина                242\n",
       "деревня кудрово        229\n",
       "выборг                 192\n",
       "Name: locality_name, dtype: int64"
      ]
     },
     "metadata": {},
     "output_type": "display_data"
    },
    {
     "data": {
      "text/html": [
       "<div>\n",
       "<style scoped>\n",
       "    .dataframe tbody tr th:only-of-type {\n",
       "        vertical-align: middle;\n",
       "    }\n",
       "\n",
       "    .dataframe tbody tr th {\n",
       "        vertical-align: top;\n",
       "    }\n",
       "\n",
       "    .dataframe thead th {\n",
       "        text-align: right;\n",
       "    }\n",
       "</style>\n",
       "<table border=\"1\" class=\"dataframe\">\n",
       "  <thead>\n",
       "    <tr style=\"text-align: right;\">\n",
       "      <th></th>\n",
       "      <th>last_price</th>\n",
       "      <th>total_area</th>\n",
       "    </tr>\n",
       "    <tr>\n",
       "      <th>locality_name</th>\n",
       "      <th></th>\n",
       "      <th></th>\n",
       "    </tr>\n",
       "  </thead>\n",
       "  <tbody>\n",
       "    <tr>\n",
       "      <td>всеволожск</td>\n",
       "      <td>3778245.00</td>\n",
       "      <td>55.578407</td>\n",
       "    </tr>\n",
       "    <tr>\n",
       "      <td>выборг</td>\n",
       "      <td>3293218.75</td>\n",
       "      <td>57.140938</td>\n",
       "    </tr>\n",
       "    <tr>\n",
       "      <td>гатчина</td>\n",
       "      <td>3503055.00</td>\n",
       "      <td>51.747852</td>\n",
       "    </tr>\n",
       "    <tr>\n",
       "      <td>деревня кудрово</td>\n",
       "      <td>4230228.50</td>\n",
       "      <td>46.391048</td>\n",
       "    </tr>\n",
       "    <tr>\n",
       "      <td>колпино</td>\n",
       "      <td>4136537.25</td>\n",
       "      <td>55.514961</td>\n",
       "    </tr>\n",
       "    <tr>\n",
       "      <td>посёлок мурино</td>\n",
       "      <td>3705409.25</td>\n",
       "      <td>44.827816</td>\n",
       "    </tr>\n",
       "    <tr>\n",
       "      <td>посёлок парголово</td>\n",
       "      <td>4529340.50</td>\n",
       "      <td>51.793705</td>\n",
       "    </tr>\n",
       "    <tr>\n",
       "      <td>посёлок шушары</td>\n",
       "      <td>4111618.00</td>\n",
       "      <td>53.798222</td>\n",
       "    </tr>\n",
       "    <tr>\n",
       "      <td>пушкин</td>\n",
       "      <td>6545578.50</td>\n",
       "      <td>62.122337</td>\n",
       "    </tr>\n",
       "    <tr>\n",
       "      <td>санкт-петербург</td>\n",
       "      <td>8451458.00</td>\n",
       "      <td>67.228996</td>\n",
       "    </tr>\n",
       "  </tbody>\n",
       "</table>\n",
       "</div>"
      ],
      "text/plain": [
       "                   last_price  total_area\n",
       "locality_name                            \n",
       "всеволожск         3778245.00   55.578407\n",
       "выборг             3293218.75   57.140938\n",
       "гатчина            3503055.00   51.747852\n",
       "деревня кудрово    4230228.50   46.391048\n",
       "колпино            4136537.25   55.514961\n",
       "посёлок мурино     3705409.25   44.827816\n",
       "посёлок парголово  4529340.50   51.793705\n",
       "посёлок шушары     4111618.00   53.798222\n",
       "пушкин             6545578.50   62.122337\n",
       "санкт-петербург    8451458.00   67.228996"
      ]
     },
     "metadata": {},
     "output_type": "display_data"
    },
    {
     "name": "stdout",
     "output_type": "stream",
     "text": [
      "населённый пункт с самой высокой стоимостью жилья - санкт-петербург\n",
      "населённый пункт с самой низкой стоимостью жилья - выборг\n"
     ]
    }
   ],
   "source": [
    "top_locality = df['locality_name'].value_counts().head(10)\n",
    "top_locality_stat = df.query('locality_name.isin(@top_locality.index)').pivot_table(index='locality_name', values=('last_price', 'total_area'))\n",
    "display(top_locality)\n",
    "display(top_locality_stat)\n",
    "print('населённый пункт с самой высокой стоимостью жилья -', top_locality_stat.query('last_price == last_price.max()').index[0])\n",
    "print('населённый пункт с самой низкой стоимостью жилья -', top_locality_stat.query('last_price == last_price.min()').index[0])"
   ]
  },
  {
   "cell_type": "code",
   "execution_count": 357,
   "metadata": {
    "scrolled": false
   },
   "outputs": [
    {
     "data": {
      "image/png": "[encoded data removed]",
      "text/plain": [
       "<Figure size 432x288 with 1 Axes>"
      ]
     },
     "metadata": {
      "needs_background": "light"
     },
     "output_type": "display_data"
    },
    {
     "data": {
      "image/png": "[encoded data removed]",
      "text/plain": [
       "<Figure size 432x288 with 1 Axes>"
      ]
     },
     "metadata": {
      "needs_background": "light"
     },
     "output_type": "display_data"
    },
    {
     "data": {
      "image/png": "[encoded data removed]",
      "text/plain": [
       "<Figure size 432x288 with 1 Axes>"
      ]
     },
     "metadata": {
      "needs_background": "light"
     },
     "output_type": "display_data"
    },
    {
     "data": {
      "image/png": "[encoded data removed]",
      "text/plain": [
       "<Figure size 432x288 with 1 Axes>"
      ]
     },
     "metadata": {
      "needs_background": "light"
     },
     "output_type": "display_data"
    },
    {
     "data": {
      "image/png": "[encoded data removed]",
      "text/plain": [
       "<Figure size 432x288 with 1 Axes>"
      ]
     },
     "metadata": {
      "needs_background": "light"
     },
     "output_type": "display_data"
    },
    {
     "data": {
      "text/plain": [
       "Text(0, 0.5, 'frequency, units')"
      ]
     },
     "execution_count": 357,
     "metadata": {},
     "output_type": "execute_result"
    },
    {
     "data": {
      "image/png": "[encoded data removed]",
      "text/plain": [
       "<Figure size 720x720 with 1 Axes>"
      ]
     },
     "metadata": {
      "needs_background": "light"
     },
     "output_type": "display_data"
    }
   ],
   "source": [
    "df_sp = df.query('locality_name == \"санкт-петербург\"')\n",
    "df_sp['km_cityCenters_nearest'] = (df_sp['cityCenters_nearest']/1000).round()\n",
    "df_sp.pivot_table(index='km_cityCenters_nearest', values='last_price').plot(grid=True, title='mean price dependence on distance from the center\\nin center zone')\n",
    "plt.ylabel('price, 10 mln')\n",
    "plt.show()\n",
    "sp_center = df_sp.query('km_cityCenters_nearest < 10')\n",
    "center_corr = pd.DataFrame([['area', sp_center['last_price'].corr(sp_center['total_area'])], ['rooms', sp_center['last_price'].corr(sp_center['rooms'])], ['cityCenters_nearest', sp_center['last_price'].corr(sp_center['cityCenters_nearest'])], ['floor', sp_center['last_price'].corr(sp_center['floor'])], ['days_exposition', sp_center['last_price'].corr(sp_center['days_exposition'])]], columns=['price_with', 'corr'])\n",
    "sp_center['total_area'].hist()\n",
    "plt.title('total_area')\n",
    "plt.xlabel('area')\n",
    "plt.ylabel('frequency, units')\n",
    "plt.show()\n",
    "sp_center['last_price'].hist()\n",
    "plt.title('last_price')\n",
    "plt.xlabel('price')\n",
    "plt.ylabel('frequency, units')\n",
    "plt.show()\n",
    "sp_center['rooms'].hist()\n",
    "plt.title('rooms')\n",
    "plt.xlabel('rooms')\n",
    "plt.ylabel('frequency, units')\n",
    "plt.show()\n",
    "sp_center['ceiling_height'].hist()\n",
    "plt.title('ceiling_height')\n",
    "plt.xlabel('height')\n",
    "plt.ylabel('frequency, units')\n",
    "plt.show()\n",
    "sp_center['first_day_exposition'].hist(figsize=(10,10))\n",
    "plt.title('first_day_exposition')\n",
    "plt.xlabel('day')\n",
    "plt.ylabel('frequency, units')"
   ]
  },
  {
   "cell_type": "code",
   "execution_count": 358,
   "metadata": {},
   "outputs": [
    {
     "data": {
      "text/plain": [
       "Text(0, 0.5, 'frequency, units')"
      ]
     },
     "execution_count": 358,
     "metadata": {},
     "output_type": "execute_result"
    },
    {
     "data": {
      "image/png": "[encoded data removed]",
      "text/plain": [
       "<Figure size 720x720 with 1 Axes>"
      ]
     },
     "metadata": {
      "needs_background": "light"
     },
     "output_type": "display_data"
    }
   ],
   "source": [
    "df['first_day_exposition'].hist(figsize=(10,10))\n",
    "plt.title('first_day_exposition')\n",
    "plt.xlabel('day')\n",
    "plt.ylabel('frequency, units')"
   ]
  },
  {
   "cell_type": "code",
   "execution_count": 359,
   "metadata": {},
   "outputs": [
    {
     "name": "stdout",
     "output_type": "stream",
     "text": [
      "весь город:\n"
     ]
    },
    {
     "data": {
      "text/html": [
       "<div>\n",
       "<style scoped>\n",
       "    .dataframe tbody tr th:only-of-type {\n",
       "        vertical-align: middle;\n",
       "    }\n",
       "\n",
       "    .dataframe tbody tr th {\n",
       "        vertical-align: top;\n",
       "    }\n",
       "\n",
       "    .dataframe thead th {\n",
       "        text-align: right;\n",
       "    }\n",
       "</style>\n",
       "<table border=\"1\" class=\"dataframe\">\n",
       "  <thead>\n",
       "    <tr style=\"text-align: right;\">\n",
       "      <th></th>\n",
       "      <th>price_with</th>\n",
       "      <th>corr</th>\n",
       "    </tr>\n",
       "  </thead>\n",
       "  <tbody>\n",
       "    <tr>\n",
       "      <td>0</td>\n",
       "      <td>area</td>\n",
       "      <td>0.700434</td>\n",
       "    </tr>\n",
       "    <tr>\n",
       "      <td>1</td>\n",
       "      <td>rooms</td>\n",
       "      <td>0.386553</td>\n",
       "    </tr>\n",
       "    <tr>\n",
       "      <td>2</td>\n",
       "      <td>cityCenters_nearest</td>\n",
       "      <td>-0.228376</td>\n",
       "    </tr>\n",
       "    <tr>\n",
       "      <td>3</td>\n",
       "      <td>floor</td>\n",
       "      <td>0.031099</td>\n",
       "    </tr>\n",
       "    <tr>\n",
       "      <td>4</td>\n",
       "      <td>days_exposition</td>\n",
       "      <td>0.106273</td>\n",
       "    </tr>\n",
       "  </tbody>\n",
       "</table>\n",
       "</div>"
      ],
      "text/plain": [
       "            price_with      corr\n",
       "0                 area  0.700434\n",
       "1                rooms  0.386553\n",
       "2  cityCenters_nearest -0.228376\n",
       "3                floor  0.031099\n",
       "4      days_exposition  0.106273"
      ]
     },
     "metadata": {},
     "output_type": "display_data"
    },
    {
     "name": "stdout",
     "output_type": "stream",
     "text": [
      "центральная зона:\n"
     ]
    },
    {
     "data": {
      "text/html": [
       "<div>\n",
       "<style scoped>\n",
       "    .dataframe tbody tr th:only-of-type {\n",
       "        vertical-align: middle;\n",
       "    }\n",
       "\n",
       "    .dataframe tbody tr th {\n",
       "        vertical-align: top;\n",
       "    }\n",
       "\n",
       "    .dataframe thead th {\n",
       "        text-align: right;\n",
       "    }\n",
       "</style>\n",
       "<table border=\"1\" class=\"dataframe\">\n",
       "  <thead>\n",
       "    <tr style=\"text-align: right;\">\n",
       "      <th></th>\n",
       "      <th>price_with</th>\n",
       "      <th>corr</th>\n",
       "    </tr>\n",
       "  </thead>\n",
       "  <tbody>\n",
       "    <tr>\n",
       "      <td>0</td>\n",
       "      <td>area</td>\n",
       "      <td>0.692414</td>\n",
       "    </tr>\n",
       "    <tr>\n",
       "      <td>1</td>\n",
       "      <td>rooms</td>\n",
       "      <td>0.359761</td>\n",
       "    </tr>\n",
       "    <tr>\n",
       "      <td>2</td>\n",
       "      <td>cityCenters_nearest</td>\n",
       "      <td>-0.125679</td>\n",
       "    </tr>\n",
       "    <tr>\n",
       "      <td>3</td>\n",
       "      <td>floor</td>\n",
       "      <td>0.099760</td>\n",
       "    </tr>\n",
       "    <tr>\n",
       "      <td>4</td>\n",
       "      <td>days_exposition</td>\n",
       "      <td>0.084346</td>\n",
       "    </tr>\n",
       "  </tbody>\n",
       "</table>\n",
       "</div>"
      ],
      "text/plain": [
       "            price_with      corr\n",
       "0                 area  0.692414\n",
       "1                rooms  0.359761\n",
       "2  cityCenters_nearest -0.125679\n",
       "3                floor  0.099760\n",
       "4      days_exposition  0.084346"
      ]
     },
     "metadata": {},
     "output_type": "display_data"
    }
   ],
   "source": [
    "print('весь город:')\n",
    "display(all_corr)\n",
    "print('центральная зона:')\n",
    "display(center_corr)"
   ]
  },
  {
   "cell_type": "markdown",
   "metadata": {},
   "source": [
    "Прямая зависимость есть между ценой и общей площадью квартиры, как в городе в целом, так и в центральной зоне.\n",
    "Коэффициенты кореляции практически одинаковые. Судя по диаграммам, зависимость от дня размещения объявления в городе в целом и в центральной зоне одинаковая."
   ]
  },
  {
   "cell_type": "markdown",
   "metadata": {},
   "source": [
    "## Общий вывод"
   ]
  },
  {
   "cell_type": "markdown",
   "metadata": {},
   "source": [
    "Странные данные по высоте потолков и количеству комнат (потолки 20-30 метров, 15-19 комнат).\n",
    "Пик длительности продаж на нуле дней. Это пик длительности продаж прослеживается с 2016 год. При анализе длительности продаж от 0 до 100 дней обнаружено два пика - на 0 и на 40 днях. Далее при анализе отброщены продажи длительностью менее 40 дней.\n",
    "Продажи длительностью менее 40 дней мжно считать слишком быстрыми, продажи длительностью более 1000 дней - слишком долгими.\n",
    "\n",
    "Пик размещения объявлений пришёлся на период с июля 2017 года по январь 2018.\n",
    "\n",
    "Средняя цена не зависит от дня недели и месяца, менялась по годам, имеет тенденцию к снижению.\n",
    "Выявлена прямая корреляция (коэффициент корреляции - 0,7) между ценой и общей площадью квартиры, как в городе в целом, так и в центральной зоне. Корреляция с другими параметрами (количество комнат, расстояние до центра города, этаж, длительность продажи, день размещения объявления) не выявлена.\n",
    "населённый пункт с самой высокой средней стоимостью жилья - Санкт-петербург (8 451 458.00), с самой низкой - Выборг (3 293 218.75)."
   ]
  }
 ],
 "metadata": {
  "ExecuteTimeLog": [
   {
    "duration": 638,
    "start_time": "2021-08-28T14:53:40.737Z"
   },
   {
    "duration": 59,
    "start_time": "2021-08-28T14:53:58.437Z"
   },
   {
    "duration": 89,
    "start_time": "2021-08-28T14:54:34.064Z"
   },
   {
    "duration": 85,
    "start_time": "2021-08-28T14:54:51.195Z"
   },
   {
    "duration": 88,
    "start_time": "2021-08-28T14:54:59.913Z"
   },
   {
    "duration": 88,
    "start_time": "2021-08-28T14:55:16.515Z"
   },
   {
    "duration": 4915,
    "start_time": "2021-08-28T14:56:47.178Z"
   },
   {
    "duration": 61,
    "start_time": "2021-08-28T14:57:09.003Z"
   },
   {
    "duration": 98,
    "start_time": "2021-08-28T14:57:46.683Z"
   },
   {
    "duration": 89,
    "start_time": "2021-08-28T14:58:20.493Z"
   },
   {
    "duration": 11,
    "start_time": "2021-08-28T14:58:59.502Z"
   },
   {
    "duration": 27,
    "start_time": "2021-08-28T15:18:18.989Z"
   },
   {
    "duration": 22,
    "start_time": "2021-08-28T15:18:46.469Z"
   },
   {
    "duration": 19,
    "start_time": "2021-08-28T15:19:00.039Z"
   },
   {
    "duration": 10,
    "start_time": "2021-08-28T15:19:14.863Z"
   },
   {
    "duration": 9,
    "start_time": "2021-08-28T15:19:38.078Z"
   },
   {
    "duration": 296,
    "start_time": "2021-08-28T15:21:16.600Z"
   },
   {
    "duration": 41,
    "start_time": "2021-08-28T15:21:35.214Z"
   },
   {
    "duration": 35,
    "start_time": "2021-08-28T15:22:34.002Z"
   },
   {
    "duration": 7,
    "start_time": "2021-08-28T15:23:18.625Z"
   },
   {
    "duration": 7,
    "start_time": "2021-08-28T15:24:00.015Z"
   },
   {
    "duration": 261,
    "start_time": "2021-08-28T15:24:28.410Z"
   },
   {
    "duration": 6,
    "start_time": "2021-08-28T15:24:53.122Z"
   },
   {
    "duration": 6,
    "start_time": "2021-08-28T15:25:02.710Z"
   },
   {
    "duration": 6,
    "start_time": "2021-08-28T15:25:51.909Z"
   },
   {
    "duration": 7,
    "start_time": "2021-08-28T15:27:08.654Z"
   },
   {
    "duration": 49,
    "start_time": "2021-08-28T15:27:13.053Z"
   },
   {
    "duration": 272,
    "start_time": "2021-08-28T15:28:58.946Z"
   },
   {
    "duration": 4,
    "start_time": "2021-08-28T15:29:13.898Z"
   },
   {
    "duration": 33,
    "start_time": "2021-08-28T15:29:24.580Z"
   },
   {
    "duration": 45,
    "start_time": "2021-08-28T15:30:13.105Z"
   },
   {
    "duration": 38,
    "start_time": "2021-08-28T15:30:52.086Z"
   },
   {
    "duration": 267,
    "start_time": "2021-08-28T15:50:52.859Z"
   },
   {
    "duration": 4,
    "start_time": "2021-08-28T15:54:06.588Z"
   },
   {
    "duration": 10,
    "start_time": "2021-08-28T15:54:20.025Z"
   },
   {
    "duration": 75,
    "start_time": "2021-08-28T15:58:14.243Z"
   },
   {
    "duration": 8,
    "start_time": "2021-08-28T15:58:14.320Z"
   },
   {
    "duration": 37,
    "start_time": "2021-08-28T15:58:14.330Z"
   },
   {
    "duration": 8,
    "start_time": "2021-08-28T15:58:14.368Z"
   },
   {
    "duration": 8,
    "start_time": "2021-08-28T15:58:14.378Z"
   },
   {
    "duration": 35,
    "start_time": "2021-08-28T15:58:14.387Z"
   },
   {
    "duration": 32,
    "start_time": "2021-08-28T15:58:14.423Z"
   },
   {
    "duration": 38,
    "start_time": "2021-08-28T15:58:14.457Z"
   },
   {
    "duration": 5,
    "start_time": "2021-08-28T15:59:25.915Z"
   },
   {
    "duration": 7,
    "start_time": "2021-08-28T16:00:21.757Z"
   },
   {
    "duration": 5,
    "start_time": "2021-08-28T16:02:16.739Z"
   },
   {
    "duration": 6,
    "start_time": "2021-08-28T16:03:36.473Z"
   },
   {
    "duration": 15,
    "start_time": "2021-08-28T16:03:50.649Z"
   },
   {
    "duration": 71,
    "start_time": "2021-08-28T16:04:06.549Z"
   },
   {
    "duration": 9,
    "start_time": "2021-08-28T16:04:06.622Z"
   },
   {
    "duration": 34,
    "start_time": "2021-08-28T16:04:06.633Z"
   },
   {
    "duration": 8,
    "start_time": "2021-08-28T16:04:06.669Z"
   },
   {
    "duration": 8,
    "start_time": "2021-08-28T16:04:06.679Z"
   },
   {
    "duration": 34,
    "start_time": "2021-08-28T16:04:06.688Z"
   },
   {
    "duration": 18,
    "start_time": "2021-08-28T16:04:06.724Z"
   },
   {
    "duration": 41,
    "start_time": "2021-08-28T16:04:06.745Z"
   },
   {
    "duration": 4,
    "start_time": "2021-08-28T16:04:06.788Z"
   },
   {
    "duration": 7,
    "start_time": "2021-08-28T16:04:06.794Z"
   },
   {
    "duration": 4,
    "start_time": "2021-08-28T16:04:06.803Z"
   },
   {
    "duration": 16,
    "start_time": "2021-08-28T16:04:06.841Z"
   },
   {
    "duration": 13,
    "start_time": "2021-08-28T16:05:13.305Z"
   },
   {
    "duration": 74,
    "start_time": "2021-08-28T16:05:22.929Z"
   },
   {
    "duration": 11,
    "start_time": "2021-08-28T16:05:23.005Z"
   },
   {
    "duration": 50,
    "start_time": "2021-08-28T16:05:23.019Z"
   },
   {
    "duration": 8,
    "start_time": "2021-08-28T16:05:23.070Z"
   },
   {
    "duration": 8,
    "start_time": "2021-08-28T16:05:23.079Z"
   },
   {
    "duration": 38,
    "start_time": "2021-08-28T16:05:23.088Z"
   },
   {
    "duration": 29,
    "start_time": "2021-08-28T16:05:23.127Z"
   },
   {
    "duration": 40,
    "start_time": "2021-08-28T16:05:23.158Z"
   },
   {
    "duration": 4,
    "start_time": "2021-08-28T16:05:23.200Z"
   },
   {
    "duration": 12,
    "start_time": "2021-08-28T16:05:23.205Z"
   },
   {
    "duration": 7,
    "start_time": "2021-08-28T16:05:23.219Z"
   },
   {
    "duration": 27,
    "start_time": "2021-08-28T16:05:23.228Z"
   },
   {
    "duration": 6,
    "start_time": "2021-08-28T16:06:46.425Z"
   },
   {
    "duration": 34,
    "start_time": "2021-08-28T16:07:36.682Z"
   },
   {
    "duration": 8,
    "start_time": "2021-08-28T16:09:03.456Z"
   },
   {
    "duration": 8,
    "start_time": "2021-08-28T16:09:16.130Z"
   },
   {
    "duration": 34,
    "start_time": "2021-08-28T16:09:36.486Z"
   },
   {
    "duration": 31,
    "start_time": "2021-08-28T16:11:07.836Z"
   },
   {
    "duration": 42,
    "start_time": "2021-08-28T16:12:59.710Z"
   },
   {
    "duration": 11,
    "start_time": "2021-08-28T16:14:29.325Z"
   },
   {
    "duration": 5,
    "start_time": "2021-08-28T16:15:23.000Z"
   },
   {
    "duration": 32,
    "start_time": "2021-08-28T16:15:58.995Z"
   },
   {
    "duration": 25,
    "start_time": "2021-08-28T16:18:08.042Z"
   },
   {
    "duration": 10,
    "start_time": "2021-08-28T16:18:42.900Z"
   },
   {
    "duration": 10,
    "start_time": "2021-08-28T16:19:00.075Z"
   },
   {
    "duration": 15,
    "start_time": "2021-08-28T16:19:28.276Z"
   },
   {
    "duration": 15,
    "start_time": "2021-08-28T16:23:34.610Z"
   },
   {
    "duration": 7,
    "start_time": "2021-08-28T16:24:56.106Z"
   },
   {
    "duration": 14,
    "start_time": "2021-08-28T16:26:02.077Z"
   },
   {
    "duration": 118,
    "start_time": "2021-08-28T16:26:44.980Z"
   },
   {
    "duration": 13,
    "start_time": "2021-08-28T16:26:45.101Z"
   },
   {
    "duration": 52,
    "start_time": "2021-08-28T16:26:45.117Z"
   },
   {
    "duration": 11,
    "start_time": "2021-08-28T16:26:45.172Z"
   },
   {
    "duration": 16,
    "start_time": "2021-08-28T16:26:45.185Z"
   },
   {
    "duration": 77,
    "start_time": "2021-08-28T16:26:45.204Z"
   },
   {
    "duration": 8,
    "start_time": "2021-08-28T16:26:45.283Z"
   },
   {
    "duration": 80,
    "start_time": "2021-08-28T16:26:45.294Z"
   },
   {
    "duration": 6,
    "start_time": "2021-08-28T16:26:45.378Z"
   },
   {
    "duration": 27,
    "start_time": "2021-08-28T16:26:45.387Z"
   },
   {
    "duration": 10,
    "start_time": "2021-08-28T16:26:45.417Z"
   },
   {
    "duration": 38,
    "start_time": "2021-08-28T16:26:45.430Z"
   },
   {
    "duration": 14,
    "start_time": "2021-08-28T16:26:45.471Z"
   },
   {
    "duration": 59,
    "start_time": "2021-08-28T16:26:45.487Z"
   },
   {
    "duration": 16,
    "start_time": "2021-08-28T16:26:45.550Z"
   },
   {
    "duration": 7,
    "start_time": "2021-08-28T16:26:45.569Z"
   },
   {
    "duration": 18,
    "start_time": "2021-08-28T16:26:45.578Z"
   },
   {
    "duration": 45,
    "start_time": "2021-08-28T16:26:45.598Z"
   },
   {
    "duration": 10,
    "start_time": "2021-08-28T16:26:45.645Z"
   },
   {
    "duration": 18,
    "start_time": "2021-08-28T16:26:45.658Z"
   },
   {
    "duration": 13,
    "start_time": "2021-08-28T16:27:13.177Z"
   },
   {
    "duration": 9,
    "start_time": "2021-08-28T16:27:54.440Z"
   },
   {
    "duration": 9,
    "start_time": "2021-08-28T16:28:22.727Z"
   },
   {
    "duration": 9,
    "start_time": "2021-08-28T16:28:55.568Z"
   },
   {
    "duration": 7,
    "start_time": "2021-08-28T16:29:04.804Z"
   },
   {
    "duration": 51,
    "start_time": "2021-08-28T16:29:42.527Z"
   },
   {
    "duration": 13,
    "start_time": "2021-08-28T16:34:13.991Z"
   },
   {
    "duration": 10,
    "start_time": "2021-08-28T16:34:34.959Z"
   },
   {
    "duration": 14,
    "start_time": "2021-08-28T16:34:52.754Z"
   },
   {
    "duration": 9,
    "start_time": "2021-08-28T16:36:06.301Z"
   },
   {
    "duration": 58,
    "start_time": "2021-08-28T16:36:56.380Z"
   },
   {
    "duration": 298,
    "start_time": "2021-08-28T16:38:26.813Z"
   },
   {
    "duration": 101,
    "start_time": "2021-08-28T16:39:16.748Z"
   },
   {
    "duration": 33,
    "start_time": "2021-08-28T16:39:25.193Z"
   },
   {
    "duration": 314,
    "start_time": "2021-08-28T16:41:57.996Z"
   },
   {
    "duration": 28,
    "start_time": "2021-08-28T16:42:22.080Z"
   },
   {
    "duration": 27,
    "start_time": "2021-08-28T16:42:42.742Z"
   },
   {
    "duration": 24,
    "start_time": "2021-08-28T16:43:02.438Z"
   },
   {
    "duration": 349,
    "start_time": "2021-08-28T16:43:29.232Z"
   },
   {
    "duration": 9,
    "start_time": "2021-08-28T16:44:00.674Z"
   },
   {
    "duration": 320,
    "start_time": "2021-08-28T16:44:20.399Z"
   },
   {
    "duration": 5,
    "start_time": "2021-08-28T16:44:39.093Z"
   },
   {
    "duration": 99,
    "start_time": "2021-08-28T16:46:16.595Z"
   },
   {
    "duration": 364,
    "start_time": "2021-08-28T16:46:33.814Z"
   },
   {
    "duration": 298,
    "start_time": "2021-08-28T16:46:57.419Z"
   },
   {
    "duration": 19,
    "start_time": "2021-08-28T16:50:16.401Z"
   },
   {
    "duration": 32,
    "start_time": "2021-08-28T16:52:08.356Z"
   },
   {
    "duration": 6,
    "start_time": "2021-08-28T17:04:02.895Z"
   },
   {
    "duration": 98,
    "start_time": "2021-08-28T17:05:11.041Z"
   },
   {
    "duration": 37,
    "start_time": "2021-08-28T17:05:22.146Z"
   },
   {
    "duration": 24,
    "start_time": "2021-08-28T17:05:59.266Z"
   },
   {
    "duration": 44,
    "start_time": "2021-08-28T17:07:16.554Z"
   },
   {
    "duration": 313,
    "start_time": "2021-08-28T17:10:33.518Z"
   },
   {
    "duration": 120,
    "start_time": "2021-08-28T17:10:38.799Z"
   },
   {
    "duration": 34,
    "start_time": "2021-08-28T17:10:38.922Z"
   },
   {
    "duration": 42,
    "start_time": "2021-08-28T17:10:38.960Z"
   },
   {
    "duration": 44,
    "start_time": "2021-08-28T17:10:39.005Z"
   },
   {
    "duration": 12,
    "start_time": "2021-08-28T17:10:39.051Z"
   },
   {
    "duration": 89,
    "start_time": "2021-08-28T17:10:39.066Z"
   },
   {
    "duration": 11,
    "start_time": "2021-08-28T17:10:39.158Z"
   },
   {
    "duration": 84,
    "start_time": "2021-08-28T17:10:39.171Z"
   },
   {
    "duration": 7,
    "start_time": "2021-08-28T17:10:39.260Z"
   },
   {
    "duration": 11,
    "start_time": "2021-08-28T17:10:39.271Z"
   },
   {
    "duration": 10,
    "start_time": "2021-08-28T17:10:39.285Z"
   },
   {
    "duration": 54,
    "start_time": "2021-08-28T17:10:39.298Z"
   },
   {
    "duration": 12,
    "start_time": "2021-08-28T17:10:39.354Z"
   },
   {
    "duration": 77,
    "start_time": "2021-08-28T17:10:39.369Z"
   },
   {
    "duration": 19,
    "start_time": "2021-08-28T17:10:39.450Z"
   },
   {
    "duration": 9,
    "start_time": "2021-08-28T17:10:39.472Z"
   },
   {
    "duration": 24,
    "start_time": "2021-08-28T17:10:39.484Z"
   },
   {
    "duration": 55,
    "start_time": "2021-08-28T17:10:39.511Z"
   },
   {
    "duration": 9,
    "start_time": "2021-08-28T17:10:39.569Z"
   },
   {
    "duration": 20,
    "start_time": "2021-08-28T17:10:39.581Z"
   },
   {
    "duration": 60,
    "start_time": "2021-08-28T17:10:39.603Z"
   },
   {
    "duration": 36,
    "start_time": "2021-08-28T17:10:39.666Z"
   },
   {
    "duration": 4,
    "start_time": "2021-08-28T17:10:39.705Z"
   },
   {
    "duration": 47,
    "start_time": "2021-08-28T17:10:39.712Z"
   },
   {
    "duration": 66,
    "start_time": "2021-08-28T17:10:39.762Z"
   },
   {
    "duration": 401,
    "start_time": "2021-08-28T17:10:39.831Z"
   },
   {
    "duration": -74,
    "start_time": "2021-08-28T17:10:40.308Z"
   },
   {
    "duration": 4,
    "start_time": "2021-08-28T17:11:16.853Z"
   },
   {
    "duration": 324,
    "start_time": "2021-08-28T17:11:45.969Z"
   },
   {
    "duration": 8,
    "start_time": "2021-08-28T17:12:25.853Z"
   },
   {
    "duration": 369,
    "start_time": "2021-08-28T17:12:27.024Z"
   },
   {
    "duration": 342,
    "start_time": "2021-08-28T17:13:27.237Z"
   },
   {
    "duration": 321,
    "start_time": "2021-08-28T17:14:04.709Z"
   },
   {
    "duration": 34,
    "start_time": "2021-08-28T17:14:30.444Z"
   },
   {
    "duration": 115,
    "start_time": "2021-08-28T17:16:24.746Z"
   },
   {
    "duration": 63,
    "start_time": "2021-08-28T17:17:48.388Z"
   },
   {
    "duration": 66,
    "start_time": "2021-08-28T17:18:50.411Z"
   },
   {
    "duration": 100,
    "start_time": "2021-08-28T17:23:13.451Z"
   },
   {
    "duration": 126,
    "start_time": "2021-08-28T17:23:25.251Z"
   },
   {
    "duration": 8,
    "start_time": "2021-08-28T17:25:33.843Z"
   },
   {
    "duration": 46,
    "start_time": "2021-08-28T17:25:38.970Z"
   },
   {
    "duration": 183,
    "start_time": "2021-08-28T17:26:19.149Z"
   },
   {
    "duration": 59,
    "start_time": "2021-08-28T17:28:31.696Z"
   },
   {
    "duration": 58,
    "start_time": "2021-08-28T17:29:45.217Z"
   },
   {
    "duration": 39,
    "start_time": "2021-08-28T17:30:59.325Z"
   },
   {
    "duration": 301,
    "start_time": "2021-08-28T17:31:29.794Z"
   },
   {
    "duration": 28,
    "start_time": "2021-08-28T17:31:52.569Z"
   },
   {
    "duration": 30,
    "start_time": "2021-08-28T17:32:14.372Z"
   },
   {
    "duration": 31,
    "start_time": "2021-08-28T17:32:37.043Z"
   },
   {
    "duration": 349,
    "start_time": "2021-08-28T17:34:45.188Z"
   },
   {
    "duration": 328,
    "start_time": "2021-08-28T17:35:04.784Z"
   },
   {
    "duration": 316,
    "start_time": "2021-08-28T17:35:16.563Z"
   },
   {
    "duration": 41,
    "start_time": "2021-08-28T17:37:04.614Z"
   },
   {
    "duration": 588,
    "start_time": "2021-08-28T17:37:34.080Z"
   },
   {
    "duration": 340,
    "start_time": "2021-08-28T17:37:45.684Z"
   },
   {
    "duration": 350,
    "start_time": "2021-08-28T17:38:20.134Z"
   },
   {
    "duration": 324,
    "start_time": "2021-08-28T17:38:34.004Z"
   },
   {
    "duration": 306,
    "start_time": "2021-08-28T17:39:36.188Z"
   },
   {
    "duration": 97,
    "start_time": "2021-08-28T17:44:55.397Z"
   },
   {
    "duration": 427,
    "start_time": "2021-08-28T17:45:02.844Z"
   },
   {
    "duration": 331,
    "start_time": "2021-08-28T17:45:23.972Z"
   },
   {
    "duration": 37,
    "start_time": "2021-08-28T17:45:32.428Z"
   },
   {
    "duration": 16,
    "start_time": "2021-08-28T17:46:00.967Z"
   },
   {
    "duration": 18,
    "start_time": "2021-08-28T17:47:35.880Z"
   },
   {
    "duration": 31,
    "start_time": "2021-08-28T17:47:46.234Z"
   },
   {
    "duration": 117,
    "start_time": "2021-08-28T17:49:21.660Z"
   },
   {
    "duration": 123,
    "start_time": "2021-08-28T17:49:32.561Z"
   },
   {
    "duration": 14,
    "start_time": "2021-08-28T17:49:32.687Z"
   },
   {
    "duration": 62,
    "start_time": "2021-08-28T17:49:32.704Z"
   },
   {
    "duration": 13,
    "start_time": "2021-08-28T17:49:32.770Z"
   },
   {
    "duration": 24,
    "start_time": "2021-08-28T17:49:32.787Z"
   },
   {
    "duration": 81,
    "start_time": "2021-08-28T17:49:32.814Z"
   },
   {
    "duration": 8,
    "start_time": "2021-08-28T17:49:32.898Z"
   },
   {
    "duration": 93,
    "start_time": "2021-08-28T17:49:32.909Z"
   },
   {
    "duration": 5,
    "start_time": "2021-08-28T17:49:33.005Z"
   },
   {
    "duration": 23,
    "start_time": "2021-08-28T17:49:33.013Z"
   },
   {
    "duration": 10,
    "start_time": "2021-08-28T17:49:33.043Z"
   },
   {
    "duration": 28,
    "start_time": "2021-08-28T17:49:33.056Z"
   },
   {
    "duration": 22,
    "start_time": "2021-08-28T17:49:33.087Z"
   },
   {
    "duration": 68,
    "start_time": "2021-08-28T17:49:33.111Z"
   },
   {
    "duration": 15,
    "start_time": "2021-08-28T17:49:33.181Z"
   },
   {
    "duration": 12,
    "start_time": "2021-08-28T17:49:33.199Z"
   },
   {
    "duration": 38,
    "start_time": "2021-08-28T17:49:33.213Z"
   },
   {
    "duration": 31,
    "start_time": "2021-08-28T17:49:33.254Z"
   },
   {
    "duration": 8,
    "start_time": "2021-08-28T17:49:33.288Z"
   },
   {
    "duration": 35,
    "start_time": "2021-08-28T17:49:33.298Z"
   },
   {
    "duration": 32,
    "start_time": "2021-08-28T17:49:33.335Z"
   },
   {
    "duration": 34,
    "start_time": "2021-08-28T17:49:33.370Z"
   },
   {
    "duration": 45,
    "start_time": "2021-08-28T17:49:33.406Z"
   },
   {
    "duration": 47,
    "start_time": "2021-08-28T17:49:33.455Z"
   },
   {
    "duration": 100,
    "start_time": "2021-08-28T17:49:33.505Z"
   },
   {
    "duration": -189,
    "start_time": "2021-08-28T17:49:33.796Z"
   },
   {
    "duration": 90,
    "start_time": "2021-08-28T17:49:55.160Z"
   },
   {
    "duration": 111,
    "start_time": "2021-08-28T17:50:31.926Z"
   },
   {
    "duration": 103,
    "start_time": "2021-08-28T17:50:57.610Z"
   },
   {
    "duration": 30,
    "start_time": "2021-08-28T17:51:11.526Z"
   },
   {
    "duration": 26,
    "start_time": "2021-08-28T17:52:09.918Z"
   },
   {
    "duration": 43,
    "start_time": "2021-08-28T17:52:34.381Z"
   },
   {
    "duration": 9,
    "start_time": "2021-08-28T17:52:58.190Z"
   },
   {
    "duration": 6,
    "start_time": "2021-08-28T17:53:33.943Z"
   },
   {
    "duration": 21,
    "start_time": "2021-08-28T17:53:42.575Z"
   },
   {
    "duration": 38,
    "start_time": "2021-08-28T18:19:54.949Z"
   },
   {
    "duration": 48,
    "start_time": "2021-08-28T18:20:22.226Z"
   },
   {
    "duration": 31,
    "start_time": "2021-08-28T18:20:35.767Z"
   },
   {
    "duration": 27,
    "start_time": "2021-08-28T18:20:39.679Z"
   },
   {
    "duration": 52,
    "start_time": "2021-08-28T18:22:20.048Z"
   },
   {
    "duration": 316,
    "start_time": "2021-08-28T18:22:42.618Z"
   },
   {
    "duration": 301,
    "start_time": "2021-08-28T18:22:50.482Z"
   },
   {
    "duration": 15,
    "start_time": "2021-08-28T18:23:24.227Z"
   },
   {
    "duration": 9,
    "start_time": "2021-08-28T18:24:16.484Z"
   },
   {
    "duration": 9,
    "start_time": "2021-08-28T18:24:46.078Z"
   },
   {
    "duration": 14,
    "start_time": "2021-08-28T18:25:15.973Z"
   },
   {
    "duration": 293,
    "start_time": "2021-08-28T18:47:35.540Z"
   },
   {
    "duration": 17,
    "start_time": "2021-08-28T18:48:30.436Z"
   },
   {
    "duration": 103,
    "start_time": "2021-08-28T18:49:28.783Z"
   },
   {
    "duration": 99,
    "start_time": "2021-08-28T18:50:14.387Z"
   },
   {
    "duration": 306,
    "start_time": "2021-08-28T18:50:35.008Z"
   },
   {
    "duration": 93,
    "start_time": "2021-08-28T18:54:54.645Z"
   },
   {
    "duration": 104,
    "start_time": "2021-08-28T18:55:04.851Z"
   },
   {
    "duration": 55,
    "start_time": "2021-08-28T18:55:22.628Z"
   },
   {
    "duration": 310,
    "start_time": "2021-08-28T18:56:17.222Z"
   },
   {
    "duration": 8,
    "start_time": "2021-08-28T18:59:42.958Z"
   },
   {
    "duration": 13,
    "start_time": "2021-08-28T19:00:10.496Z"
   },
   {
    "duration": 2349,
    "start_time": "2021-08-28T19:00:54.416Z"
   },
   {
    "duration": 13,
    "start_time": "2021-08-28T19:01:01.509Z"
   },
   {
    "duration": 9,
    "start_time": "2021-08-28T19:01:19.582Z"
   },
   {
    "duration": 113,
    "start_time": "2021-08-28T19:02:04.092Z"
   },
   {
    "duration": 14,
    "start_time": "2021-08-28T19:02:04.208Z"
   },
   {
    "duration": 36,
    "start_time": "2021-08-28T19:02:04.225Z"
   },
   {
    "duration": 46,
    "start_time": "2021-08-28T19:02:04.264Z"
   },
   {
    "duration": 11,
    "start_time": "2021-08-28T19:02:04.313Z"
   },
   {
    "duration": 33,
    "start_time": "2021-08-28T19:02:04.326Z"
   },
   {
    "duration": 120,
    "start_time": "2021-08-28T19:02:04.362Z"
   },
   {
    "duration": 8,
    "start_time": "2021-08-28T19:02:04.485Z"
   },
   {
    "duration": 72,
    "start_time": "2021-08-28T19:02:04.495Z"
   },
   {
    "duration": 6,
    "start_time": "2021-08-28T19:02:04.569Z"
   },
   {
    "duration": 22,
    "start_time": "2021-08-28T19:02:04.577Z"
   },
   {
    "duration": 17,
    "start_time": "2021-08-28T19:02:04.602Z"
   },
   {
    "duration": 40,
    "start_time": "2021-08-28T19:02:04.621Z"
   },
   {
    "duration": 8,
    "start_time": "2021-08-28T19:02:04.888Z"
   },
   {
    "duration": 71,
    "start_time": "2021-08-28T19:02:04.898Z"
   },
   {
    "duration": 15,
    "start_time": "2021-08-28T19:02:04.972Z"
   },
   {
    "duration": 7,
    "start_time": "2021-08-28T19:02:05.223Z"
   },
   {
    "duration": 28,
    "start_time": "2021-08-28T19:02:05.232Z"
   },
   {
    "duration": 20,
    "start_time": "2021-08-28T19:02:05.262Z"
   },
   {
    "duration": 14,
    "start_time": "2021-08-28T19:02:05.284Z"
   },
   {
    "duration": 33,
    "start_time": "2021-08-28T19:02:05.301Z"
   },
   {
    "duration": 12,
    "start_time": "2021-08-28T19:02:05.394Z"
   },
   {
    "duration": 5,
    "start_time": "2021-08-28T19:02:05.605Z"
   },
   {
    "duration": 122,
    "start_time": "2021-08-28T19:02:05.613Z"
   },
   {
    "duration": -1545,
    "start_time": "2021-08-28T19:02:07.282Z"
   },
   {
    "duration": 48,
    "start_time": "2021-08-28T19:02:05.848Z"
   },
   {
    "duration": 7,
    "start_time": "2021-08-28T19:02:05.898Z"
   },
   {
    "duration": 20,
    "start_time": "2021-08-28T19:02:06.095Z"
   },
   {
    "duration": 21,
    "start_time": "2021-08-28T19:02:06.332Z"
   },
   {
    "duration": 18,
    "start_time": "2021-08-28T19:02:06.357Z"
   },
   {
    "duration": 37,
    "start_time": "2021-08-28T19:02:06.377Z"
   },
   {
    "duration": 72,
    "start_time": "2021-08-28T19:04:08.852Z"
   },
   {
    "duration": 22,
    "start_time": "2021-08-28T19:07:01.106Z"
   },
   {
    "duration": 8318,
    "start_time": "2021-08-28T19:13:18.673Z"
   },
   {
    "duration": 18,
    "start_time": "2021-08-28T19:13:44.022Z"
   },
   {
    "duration": 32,
    "start_time": "2021-08-28T19:14:09.454Z"
   },
   {
    "duration": 76,
    "start_time": "2021-08-28T19:19:41.329Z"
   },
   {
    "duration": 22,
    "start_time": "2021-08-28T19:20:17.997Z"
   },
   {
    "duration": 45,
    "start_time": "2021-08-28T19:20:53.741Z"
   },
   {
    "duration": 127,
    "start_time": "2021-08-28T19:23:39.050Z"
   },
   {
    "duration": 15,
    "start_time": "2021-08-28T19:23:39.182Z"
   },
   {
    "duration": 19,
    "start_time": "2021-08-28T19:23:39.199Z"
   },
   {
    "duration": 60,
    "start_time": "2021-08-28T19:23:39.221Z"
   },
   {
    "duration": 12,
    "start_time": "2021-08-28T19:23:39.283Z"
   },
   {
    "duration": 17,
    "start_time": "2021-08-28T19:23:39.297Z"
   },
   {
    "duration": 76,
    "start_time": "2021-08-28T19:23:39.317Z"
   },
   {
    "duration": 8,
    "start_time": "2021-08-28T19:23:39.396Z"
   },
   {
    "duration": 83,
    "start_time": "2021-08-28T19:23:39.407Z"
   },
   {
    "duration": 6,
    "start_time": "2021-08-28T19:23:39.492Z"
   },
   {
    "duration": 13,
    "start_time": "2021-08-28T19:23:39.500Z"
   },
   {
    "duration": 18,
    "start_time": "2021-08-28T19:23:39.541Z"
   },
   {
    "duration": 24,
    "start_time": "2021-08-28T19:23:39.563Z"
   },
   {
    "duration": 9,
    "start_time": "2021-08-28T19:23:39.590Z"
   },
   {
    "duration": 99,
    "start_time": "2021-08-28T19:23:39.602Z"
   },
   {
    "duration": 15,
    "start_time": "2021-08-28T19:23:39.703Z"
   },
   {
    "duration": 44,
    "start_time": "2021-08-28T19:23:39.721Z"
   },
   {
    "duration": 18,
    "start_time": "2021-08-28T19:23:39.767Z"
   },
   {
    "duration": 15,
    "start_time": "2021-08-28T19:23:39.788Z"
   },
   {
    "duration": 60,
    "start_time": "2021-08-28T19:23:39.805Z"
   },
   {
    "duration": 20,
    "start_time": "2021-08-28T19:23:39.867Z"
   },
   {
    "duration": 15,
    "start_time": "2021-08-28T19:23:39.890Z"
   },
   {
    "duration": 8,
    "start_time": "2021-08-28T19:23:39.911Z"
   },
   {
    "duration": 55,
    "start_time": "2021-08-28T19:23:39.943Z"
   },
   {
    "duration": 88,
    "start_time": "2021-08-28T19:23:40.002Z"
   },
   {
    "duration": 9,
    "start_time": "2021-08-28T19:23:40.093Z"
   },
   {
    "duration": 44,
    "start_time": "2021-08-28T19:23:40.106Z"
   },
   {
    "duration": 24,
    "start_time": "2021-08-28T19:23:40.155Z"
   },
   {
    "duration": 14,
    "start_time": "2021-08-28T19:23:40.183Z"
   },
   {
    "duration": 54,
    "start_time": "2021-08-28T19:23:40.200Z"
   },
   {
    "duration": 58,
    "start_time": "2021-08-28T19:23:40.257Z"
   },
   {
    "duration": 57,
    "start_time": "2021-08-28T19:23:40.318Z"
   },
   {
    "duration": 15,
    "start_time": "2021-08-28T19:23:40.378Z"
   },
   {
    "duration": 49,
    "start_time": "2021-08-28T19:23:40.396Z"
   },
   {
    "duration": 112,
    "start_time": "2021-08-28T19:31:21.967Z"
   },
   {
    "duration": 13,
    "start_time": "2021-08-28T19:31:22.081Z"
   },
   {
    "duration": 59,
    "start_time": "2021-08-28T19:31:22.096Z"
   },
   {
    "duration": 36,
    "start_time": "2021-08-28T19:31:22.158Z"
   },
   {
    "duration": 12,
    "start_time": "2021-08-28T19:31:22.196Z"
   },
   {
    "duration": 36,
    "start_time": "2021-08-28T19:31:22.210Z"
   },
   {
    "duration": 56,
    "start_time": "2021-08-28T19:31:22.249Z"
   },
   {
    "duration": 35,
    "start_time": "2021-08-28T19:31:22.308Z"
   },
   {
    "duration": 65,
    "start_time": "2021-08-28T19:31:22.346Z"
   },
   {
    "duration": 11,
    "start_time": "2021-08-28T19:31:22.441Z"
   },
   {
    "duration": 11,
    "start_time": "2021-08-28T19:31:22.455Z"
   },
   {
    "duration": 11,
    "start_time": "2021-08-28T19:31:22.469Z"
   },
   {
    "duration": 24,
    "start_time": "2021-08-28T19:31:22.483Z"
   },
   {
    "duration": 11,
    "start_time": "2021-08-28T19:31:22.542Z"
   },
   {
    "duration": 50,
    "start_time": "2021-08-28T19:31:22.556Z"
   },
   {
    "duration": 44,
    "start_time": "2021-08-28T19:31:22.609Z"
   },
   {
    "duration": 13,
    "start_time": "2021-08-28T19:31:22.657Z"
   },
   {
    "duration": 9,
    "start_time": "2021-08-28T19:31:22.673Z"
   },
   {
    "duration": 20,
    "start_time": "2021-08-28T19:31:22.687Z"
   },
   {
    "duration": 6,
    "start_time": "2021-08-28T19:31:22.710Z"
   },
   {
    "duration": 33,
    "start_time": "2021-08-28T19:31:22.746Z"
   },
   {
    "duration": 77,
    "start_time": "2021-08-28T19:31:22.783Z"
   },
   {
    "duration": 8,
    "start_time": "2021-08-28T19:31:22.864Z"
   },
   {
    "duration": 21,
    "start_time": "2021-08-28T19:31:22.874Z"
   },
   {
    "duration": 26,
    "start_time": "2021-08-28T19:31:22.897Z"
   },
   {
    "duration": 27,
    "start_time": "2021-08-28T19:31:22.926Z"
   },
   {
    "duration": 8,
    "start_time": "2021-08-28T19:31:22.956Z"
   },
   {
    "duration": 88,
    "start_time": "2021-08-28T19:31:22.967Z"
   },
   {
    "duration": 13,
    "start_time": "2021-08-28T19:31:23.058Z"
   },
   {
    "duration": 24,
    "start_time": "2021-08-28T19:31:23.074Z"
   },
   {
    "duration": 47,
    "start_time": "2021-08-28T19:31:23.101Z"
   },
   {
    "duration": 30,
    "start_time": "2021-08-28T19:33:44.944Z"
   },
   {
    "duration": 34,
    "start_time": "2021-08-28T19:34:01.044Z"
   },
   {
    "duration": 122,
    "start_time": "2021-08-28T19:34:15.674Z"
   },
   {
    "duration": 14,
    "start_time": "2021-08-28T19:34:15.798Z"
   },
   {
    "duration": 48,
    "start_time": "2021-08-28T19:34:15.814Z"
   },
   {
    "duration": 32,
    "start_time": "2021-08-28T19:34:15.865Z"
   },
   {
    "duration": 46,
    "start_time": "2021-08-28T19:34:15.899Z"
   },
   {
    "duration": 17,
    "start_time": "2021-08-28T19:34:15.948Z"
   },
   {
    "duration": 72,
    "start_time": "2021-08-28T19:34:15.968Z"
   },
   {
    "duration": 12,
    "start_time": "2021-08-28T19:34:16.045Z"
   },
   {
    "duration": 52,
    "start_time": "2021-08-28T19:34:16.061Z"
   },
   {
    "duration": 9,
    "start_time": "2021-08-28T19:34:16.140Z"
   },
   {
    "duration": 11,
    "start_time": "2021-08-28T19:34:16.152Z"
   },
   {
    "duration": 8,
    "start_time": "2021-08-28T19:34:16.166Z"
   },
   {
    "duration": 17,
    "start_time": "2021-08-28T19:34:16.176Z"
   },
   {
    "duration": 52,
    "start_time": "2021-08-28T19:34:16.195Z"
   },
   {
    "duration": 54,
    "start_time": "2021-08-28T19:34:16.251Z"
   },
   {
    "duration": 35,
    "start_time": "2021-08-28T19:34:16.308Z"
   },
   {
    "duration": 16,
    "start_time": "2021-08-28T19:34:16.346Z"
   },
   {
    "duration": 14,
    "start_time": "2021-08-28T19:34:16.365Z"
   },
   {
    "duration": 13,
    "start_time": "2021-08-28T19:34:16.381Z"
   },
   {
    "duration": 16,
    "start_time": "2021-08-28T19:34:16.397Z"
   },
   {
    "duration": 53,
    "start_time": "2021-08-28T19:34:16.415Z"
   },
   {
    "duration": 45,
    "start_time": "2021-08-28T19:34:16.471Z"
   },
   {
    "duration": 27,
    "start_time": "2021-08-28T19:34:16.520Z"
   },
   {
    "duration": 13,
    "start_time": "2021-08-28T19:34:16.551Z"
   },
   {
    "duration": 17,
    "start_time": "2021-08-28T19:34:16.566Z"
   },
   {
    "duration": 8,
    "start_time": "2021-08-28T19:34:16.585Z"
   },
   {
    "duration": 17,
    "start_time": "2021-08-28T19:34:16.596Z"
   },
   {
    "duration": 68,
    "start_time": "2021-08-28T19:34:16.615Z"
   },
   {
    "duration": 12,
    "start_time": "2021-08-28T19:34:16.686Z"
   },
   {
    "duration": 49,
    "start_time": "2021-08-28T19:34:16.700Z"
   },
   {
    "duration": 32,
    "start_time": "2021-08-28T19:34:16.752Z"
   },
   {
    "duration": 123,
    "start_time": "2021-08-28T19:34:55.677Z"
   },
   {
    "duration": 44,
    "start_time": "2021-08-28T19:34:55.803Z"
   },
   {
    "duration": 23,
    "start_time": "2021-08-28T19:34:55.852Z"
   },
   {
    "duration": 73,
    "start_time": "2021-08-28T19:34:55.878Z"
   },
   {
    "duration": 18,
    "start_time": "2021-08-28T19:34:55.954Z"
   },
   {
    "duration": 12,
    "start_time": "2021-08-28T19:34:55.974Z"
   },
   {
    "duration": 100,
    "start_time": "2021-08-28T19:34:55.988Z"
   },
   {
    "duration": 8,
    "start_time": "2021-08-28T19:34:56.091Z"
   },
   {
    "duration": 92,
    "start_time": "2021-08-28T19:34:56.102Z"
   },
   {
    "duration": 6,
    "start_time": "2021-08-28T19:34:56.197Z"
   },
   {
    "duration": 11,
    "start_time": "2021-08-28T19:34:56.205Z"
   },
   {
    "duration": 39,
    "start_time": "2021-08-28T19:34:56.218Z"
   },
   {
    "duration": 21,
    "start_time": "2021-08-28T19:34:56.260Z"
   },
   {
    "duration": 8,
    "start_time": "2021-08-28T19:34:56.294Z"
   },
   {
    "duration": 100,
    "start_time": "2021-08-28T19:34:56.306Z"
   },
   {
    "duration": 10,
    "start_time": "2021-08-28T19:34:56.408Z"
   },
   {
    "duration": 22,
    "start_time": "2021-08-28T19:34:56.421Z"
   },
   {
    "duration": 8,
    "start_time": "2021-08-28T19:34:56.446Z"
   },
   {
    "duration": 30,
    "start_time": "2021-08-28T19:34:56.458Z"
   },
   {
    "duration": 8,
    "start_time": "2021-08-28T19:34:56.493Z"
   },
   {
    "duration": 68,
    "start_time": "2021-08-28T19:34:56.504Z"
   },
   {
    "duration": 79,
    "start_time": "2021-08-28T19:34:56.575Z"
   },
   {
    "duration": 10,
    "start_time": "2021-08-28T19:34:56.658Z"
   },
   {
    "duration": 14,
    "start_time": "2021-08-28T19:34:56.671Z"
   },
   {
    "duration": 18,
    "start_time": "2021-08-28T19:34:56.688Z"
   },
   {
    "duration": 11,
    "start_time": "2021-08-28T19:34:56.761Z"
   },
   {
    "duration": 10,
    "start_time": "2021-08-28T19:34:56.775Z"
   },
   {
    "duration": 74,
    "start_time": "2021-08-28T19:34:56.788Z"
   },
   {
    "duration": 14,
    "start_time": "2021-08-28T19:34:56.864Z"
   },
   {
    "duration": 18,
    "start_time": "2021-08-28T19:34:56.881Z"
   },
   {
    "duration": 77,
    "start_time": "2021-08-28T19:34:56.901Z"
   },
   {
    "duration": 62,
    "start_time": "2021-08-28T19:37:36.814Z"
   },
   {
    "duration": 121,
    "start_time": "2021-08-28T19:37:53.584Z"
   },
   {
    "duration": 17,
    "start_time": "2021-08-28T19:37:53.708Z"
   },
   {
    "duration": 30,
    "start_time": "2021-08-28T19:37:53.741Z"
   },
   {
    "duration": 34,
    "start_time": "2021-08-28T19:37:53.774Z"
   },
   {
    "duration": 41,
    "start_time": "2021-08-28T19:37:53.810Z"
   },
   {
    "duration": 20,
    "start_time": "2021-08-28T19:37:53.854Z"
   },
   {
    "duration": 92,
    "start_time": "2021-08-28T19:37:53.877Z"
   },
   {
    "duration": 11,
    "start_time": "2021-08-28T19:37:53.974Z"
   },
   {
    "duration": 104,
    "start_time": "2021-08-28T19:37:53.989Z"
   },
   {
    "duration": 7,
    "start_time": "2021-08-28T19:37:54.096Z"
   },
   {
    "duration": 10,
    "start_time": "2021-08-28T19:37:54.106Z"
   },
   {
    "duration": 29,
    "start_time": "2021-08-28T19:37:54.119Z"
   },
   {
    "duration": 26,
    "start_time": "2021-08-28T19:37:54.151Z"
   },
   {
    "duration": 9,
    "start_time": "2021-08-28T19:37:54.180Z"
   },
   {
    "duration": 95,
    "start_time": "2021-08-28T19:37:54.192Z"
   },
   {
    "duration": 7,
    "start_time": "2021-08-28T19:37:54.290Z"
   },
   {
    "duration": 8,
    "start_time": "2021-08-28T19:37:54.300Z"
   },
   {
    "duration": 33,
    "start_time": "2021-08-28T19:37:54.310Z"
   },
   {
    "duration": 18,
    "start_time": "2021-08-28T19:37:54.346Z"
   },
   {
    "duration": 13,
    "start_time": "2021-08-28T19:37:54.367Z"
   },
   {
    "duration": 25,
    "start_time": "2021-08-28T19:37:54.383Z"
   },
   {
    "duration": 79,
    "start_time": "2021-08-28T19:37:54.411Z"
   },
   {
    "duration": 7,
    "start_time": "2021-08-28T19:37:54.495Z"
   },
   {
    "duration": 36,
    "start_time": "2021-08-28T19:37:54.505Z"
   },
   {
    "duration": 23,
    "start_time": "2021-08-28T19:37:54.544Z"
   },
   {
    "duration": 13,
    "start_time": "2021-08-28T19:37:54.570Z"
   },
   {
    "duration": 8,
    "start_time": "2021-08-28T19:37:54.586Z"
   },
   {
    "duration": 97,
    "start_time": "2021-08-28T19:37:54.596Z"
   },
   {
    "duration": 78,
    "start_time": "2021-08-28T19:37:54.696Z"
   },
   {
    "duration": 17,
    "start_time": "2021-08-28T19:37:54.776Z"
   },
   {
    "duration": 54,
    "start_time": "2021-08-28T19:37:54.796Z"
   },
   {
    "duration": 15,
    "start_time": "2021-08-28T19:38:35.122Z"
   },
   {
    "duration": 35,
    "start_time": "2021-08-28T19:38:48.687Z"
   },
   {
    "duration": 324,
    "start_time": "2021-08-28T19:39:35.755Z"
   },
   {
    "duration": 19,
    "start_time": "2021-08-28T19:40:01.977Z"
   },
   {
    "duration": 21,
    "start_time": "2021-08-28T19:41:36.515Z"
   },
   {
    "duration": 5,
    "start_time": "2021-08-28T19:43:51.927Z"
   },
   {
    "duration": 13,
    "start_time": "2021-08-28T19:44:05.470Z"
   },
   {
    "duration": 71,
    "start_time": "2021-08-28T19:46:03.336Z"
   },
   {
    "duration": 40,
    "start_time": "2021-08-28T19:46:38.800Z"
   },
   {
    "duration": 31,
    "start_time": "2021-08-28T19:49:33.889Z"
   },
   {
    "duration": 135,
    "start_time": "2021-08-28T19:50:51.999Z"
   },
   {
    "duration": 312,
    "start_time": "2021-08-28T19:51:02.079Z"
   },
   {
    "duration": 54,
    "start_time": "2021-08-28T19:51:48.319Z"
   },
   {
    "duration": 309,
    "start_time": "2021-08-28T19:51:51.645Z"
   },
   {
    "duration": 284,
    "start_time": "2021-08-28T19:52:40.342Z"
   },
   {
    "duration": 18,
    "start_time": "2021-08-28T19:52:47.770Z"
   },
   {
    "duration": 132,
    "start_time": "2021-08-28T19:52:57.122Z"
   },
   {
    "duration": 16,
    "start_time": "2021-08-28T19:52:57.258Z"
   },
   {
    "duration": 22,
    "start_time": "2021-08-28T19:52:57.276Z"
   },
   {
    "duration": 69,
    "start_time": "2021-08-28T19:52:57.301Z"
   },
   {
    "duration": 11,
    "start_time": "2021-08-28T19:52:57.373Z"
   },
   {
    "duration": 35,
    "start_time": "2021-08-28T19:52:57.386Z"
   },
   {
    "duration": 70,
    "start_time": "2021-08-28T19:52:57.423Z"
   },
   {
    "duration": 9,
    "start_time": "2021-08-28T19:52:57.496Z"
   },
   {
    "duration": 71,
    "start_time": "2021-08-28T19:52:57.508Z"
   },
   {
    "duration": 5,
    "start_time": "2021-08-28T19:52:57.581Z"
   },
   {
    "duration": 36,
    "start_time": "2021-08-28T19:52:57.589Z"
   },
   {
    "duration": 26,
    "start_time": "2021-08-28T19:52:57.627Z"
   },
   {
    "duration": 33,
    "start_time": "2021-08-28T19:52:57.656Z"
   },
   {
    "duration": 24,
    "start_time": "2021-08-28T19:52:57.691Z"
   },
   {
    "duration": 72,
    "start_time": "2021-08-28T19:52:57.717Z"
   },
   {
    "duration": 7,
    "start_time": "2021-08-28T19:52:57.792Z"
   },
   {
    "duration": 29,
    "start_time": "2021-08-28T19:52:57.801Z"
   },
   {
    "duration": 25,
    "start_time": "2021-08-28T19:52:57.832Z"
   },
   {
    "duration": 31,
    "start_time": "2021-08-28T19:52:57.859Z"
   },
   {
    "duration": 29,
    "start_time": "2021-08-28T19:52:57.892Z"
   },
   {
    "duration": 43,
    "start_time": "2021-08-28T19:52:57.923Z"
   },
   {
    "duration": 60,
    "start_time": "2021-08-28T19:52:57.968Z"
   },
   {
    "duration": 7,
    "start_time": "2021-08-28T19:52:58.032Z"
   },
   {
    "duration": 22,
    "start_time": "2021-08-28T19:52:58.049Z"
   },
   {
    "duration": 28,
    "start_time": "2021-08-28T19:52:58.073Z"
   },
   {
    "duration": 16,
    "start_time": "2021-08-28T19:52:58.103Z"
   },
   {
    "duration": 16,
    "start_time": "2021-08-28T19:52:58.121Z"
   },
   {
    "duration": 74,
    "start_time": "2021-08-28T19:52:58.139Z"
   },
   {
    "duration": 11,
    "start_time": "2021-08-28T19:52:58.215Z"
   },
   {
    "duration": 51,
    "start_time": "2021-08-28T19:52:58.229Z"
   },
   {
    "duration": 12,
    "start_time": "2021-08-28T19:52:58.282Z"
   },
   {
    "duration": 31,
    "start_time": "2021-08-28T19:52:58.296Z"
   },
   {
    "duration": 39,
    "start_time": "2021-08-28T19:52:58.329Z"
   },
   {
    "duration": 301,
    "start_time": "2021-08-28T19:59:09.731Z"
   },
   {
    "duration": 19,
    "start_time": "2021-08-28T19:59:40.032Z"
   },
   {
    "duration": 19,
    "start_time": "2021-08-28T20:00:07.845Z"
   },
   {
    "duration": 18,
    "start_time": "2021-08-28T20:00:22.404Z"
   },
   {
    "duration": 120,
    "start_time": "2021-08-28T20:00:41.132Z"
   },
   {
    "duration": 12,
    "start_time": "2021-08-28T20:00:41.255Z"
   },
   {
    "duration": 24,
    "start_time": "2021-08-28T20:00:41.269Z"
   },
   {
    "duration": 56,
    "start_time": "2021-08-28T20:00:41.296Z"
   },
   {
    "duration": 11,
    "start_time": "2021-08-28T20:00:41.353Z"
   },
   {
    "duration": 23,
    "start_time": "2021-08-28T20:00:41.367Z"
   },
   {
    "duration": 73,
    "start_time": "2021-08-28T20:00:41.393Z"
   },
   {
    "duration": 9,
    "start_time": "2021-08-28T20:00:41.469Z"
   },
   {
    "duration": 69,
    "start_time": "2021-08-28T20:00:41.482Z"
   },
   {
    "duration": 6,
    "start_time": "2021-08-28T20:00:41.555Z"
   },
   {
    "duration": 11,
    "start_time": "2021-08-28T20:00:41.563Z"
   },
   {
    "duration": 11,
    "start_time": "2021-08-28T20:00:41.576Z"
   },
   {
    "duration": 16,
    "start_time": "2021-08-28T20:00:41.590Z"
   },
   {
    "duration": 38,
    "start_time": "2021-08-28T20:00:41.608Z"
   },
   {
    "duration": 50,
    "start_time": "2021-08-28T20:00:41.648Z"
   },
   {
    "duration": 8,
    "start_time": "2021-08-28T20:00:41.700Z"
   },
   {
    "duration": 41,
    "start_time": "2021-08-28T20:00:41.710Z"
   },
   {
    "duration": 20,
    "start_time": "2021-08-28T20:00:41.754Z"
   },
   {
    "duration": 23,
    "start_time": "2021-08-28T20:00:41.776Z"
   },
   {
    "duration": 23,
    "start_time": "2021-08-28T20:00:41.802Z"
   },
   {
    "duration": 35,
    "start_time": "2021-08-28T20:00:41.828Z"
   },
   {
    "duration": 46,
    "start_time": "2021-08-28T20:00:41.865Z"
   },
   {
    "duration": 8,
    "start_time": "2021-08-28T20:00:41.913Z"
   },
   {
    "duration": 15,
    "start_time": "2021-08-28T20:00:41.942Z"
   },
   {
    "duration": 24,
    "start_time": "2021-08-28T20:00:41.959Z"
   },
   {
    "duration": 12,
    "start_time": "2021-08-28T20:00:41.986Z"
   },
   {
    "duration": 37,
    "start_time": "2021-08-28T20:00:42.004Z"
   },
   {
    "duration": 69,
    "start_time": "2021-08-28T20:00:42.044Z"
   },
   {
    "duration": 14,
    "start_time": "2021-08-28T20:00:42.116Z"
   },
   {
    "duration": 19,
    "start_time": "2021-08-28T20:00:42.133Z"
   },
   {
    "duration": 28,
    "start_time": "2021-08-28T20:00:42.154Z"
   },
   {
    "duration": 17,
    "start_time": "2021-08-28T20:00:42.184Z"
   },
   {
    "duration": 26,
    "start_time": "2021-08-28T20:00:42.240Z"
   },
   {
    "duration": 33,
    "start_time": "2021-08-28T20:01:11.527Z"
   },
   {
    "duration": 301,
    "start_time": "2021-08-28T20:01:38.274Z"
   },
   {
    "duration": 34,
    "start_time": "2021-08-28T20:01:53.651Z"
   },
   {
    "duration": 25,
    "start_time": "2021-08-28T20:02:31.993Z"
   },
   {
    "duration": 1159,
    "start_time": "2021-08-28T20:03:30.637Z"
   },
   {
    "duration": 25,
    "start_time": "2021-08-28T20:03:47.805Z"
   },
   {
    "duration": 55,
    "start_time": "2021-08-28T20:13:06.151Z"
   },
   {
    "duration": 38,
    "start_time": "2021-08-28T20:13:44.550Z"
   },
   {
    "duration": 12,
    "start_time": "2021-08-28T20:15:07.997Z"
   },
   {
    "duration": 14,
    "start_time": "2021-08-28T20:15:18.499Z"
   },
   {
    "duration": 17,
    "start_time": "2021-08-28T20:16:32.746Z"
   },
   {
    "duration": 15,
    "start_time": "2021-08-28T20:16:41.749Z"
   },
   {
    "duration": 107,
    "start_time": "2021-08-28T20:16:48.845Z"
   },
   {
    "duration": 13,
    "start_time": "2021-08-28T20:16:48.955Z"
   },
   {
    "duration": 23,
    "start_time": "2021-08-28T20:16:48.970Z"
   },
   {
    "duration": 62,
    "start_time": "2021-08-28T20:16:48.995Z"
   },
   {
    "duration": 11,
    "start_time": "2021-08-28T20:16:49.060Z"
   },
   {
    "duration": 14,
    "start_time": "2021-08-28T20:16:49.073Z"
   },
   {
    "duration": 81,
    "start_time": "2021-08-28T20:16:49.089Z"
   },
   {
    "duration": 7,
    "start_time": "2021-08-28T20:16:49.173Z"
   },
   {
    "duration": 96,
    "start_time": "2021-08-28T20:16:49.183Z"
   },
   {
    "duration": 6,
    "start_time": "2021-08-28T20:16:49.281Z"
   },
   {
    "duration": 12,
    "start_time": "2021-08-28T20:16:49.289Z"
   },
   {
    "duration": 13,
    "start_time": "2021-08-28T20:16:49.303Z"
   },
   {
    "duration": 27,
    "start_time": "2021-08-28T20:16:49.318Z"
   },
   {
    "duration": 8,
    "start_time": "2021-08-28T20:16:49.347Z"
   },
   {
    "duration": 54,
    "start_time": "2021-08-28T20:16:49.357Z"
   },
   {
    "duration": 7,
    "start_time": "2021-08-28T20:16:49.441Z"
   },
   {
    "duration": 8,
    "start_time": "2021-08-28T20:16:49.450Z"
   },
   {
    "duration": 6,
    "start_time": "2021-08-28T20:16:49.461Z"
   },
   {
    "duration": 22,
    "start_time": "2021-08-28T20:16:49.469Z"
   },
   {
    "duration": 23,
    "start_time": "2021-08-28T20:16:49.493Z"
   },
   {
    "duration": 44,
    "start_time": "2021-08-28T20:16:49.518Z"
   },
   {
    "duration": 46,
    "start_time": "2021-08-28T20:16:49.564Z"
   },
   {
    "duration": 7,
    "start_time": "2021-08-28T20:16:49.614Z"
   },
   {
    "duration": 15,
    "start_time": "2021-08-28T20:16:49.640Z"
   },
   {
    "duration": 17,
    "start_time": "2021-08-28T20:16:49.658Z"
   },
   {
    "duration": 9,
    "start_time": "2021-08-28T20:16:49.678Z"
   },
   {
    "duration": 9,
    "start_time": "2021-08-28T20:16:49.689Z"
   },
   {
    "duration": 61,
    "start_time": "2021-08-28T20:16:49.701Z"
   },
   {
    "duration": 19,
    "start_time": "2021-08-28T20:16:49.764Z"
   },
   {
    "duration": 84,
    "start_time": "2021-08-28T20:16:49.785Z"
   },
   {
    "duration": 11,
    "start_time": "2021-08-28T20:16:49.872Z"
   },
   {
    "duration": 743,
    "start_time": "2021-08-28T20:16:49.885Z"
   },
   {
    "duration": -726,
    "start_time": "2021-08-28T20:16:51.357Z"
   },
   {
    "duration": -767,
    "start_time": "2021-08-28T20:16:51.399Z"
   },
   {
    "duration": -809,
    "start_time": "2021-08-28T20:16:51.442Z"
   },
   {
    "duration": 17,
    "start_time": "2021-08-28T20:17:18.425Z"
   },
   {
    "duration": 18,
    "start_time": "2021-08-28T20:17:45.787Z"
   },
   {
    "duration": 111,
    "start_time": "2021-08-28T20:18:15.689Z"
   },
   {
    "duration": 13,
    "start_time": "2021-08-28T20:18:15.802Z"
   },
   {
    "duration": 17,
    "start_time": "2021-08-28T20:18:15.842Z"
   },
   {
    "duration": 50,
    "start_time": "2021-08-28T20:18:15.861Z"
   },
   {
    "duration": 29,
    "start_time": "2021-08-28T20:18:15.913Z"
   },
   {
    "duration": 12,
    "start_time": "2021-08-28T20:18:15.944Z"
   },
   {
    "duration": 57,
    "start_time": "2021-08-28T20:18:15.958Z"
   },
   {
    "duration": 24,
    "start_time": "2021-08-28T20:18:16.018Z"
   },
   {
    "duration": 53,
    "start_time": "2021-08-28T20:18:16.045Z"
   },
   {
    "duration": 5,
    "start_time": "2021-08-28T20:18:16.100Z"
   },
   {
    "duration": 36,
    "start_time": "2021-08-28T20:18:16.107Z"
   },
   {
    "duration": 8,
    "start_time": "2021-08-28T20:18:16.145Z"
   },
   {
    "duration": 25,
    "start_time": "2021-08-28T20:18:16.155Z"
   },
   {
    "duration": 7,
    "start_time": "2021-08-28T20:18:16.183Z"
   },
   {
    "duration": 81,
    "start_time": "2021-08-28T20:18:16.193Z"
   },
   {
    "duration": 9,
    "start_time": "2021-08-28T20:18:16.276Z"
   },
   {
    "duration": 19,
    "start_time": "2021-08-28T20:18:16.287Z"
   },
   {
    "duration": 18,
    "start_time": "2021-08-28T20:18:16.308Z"
   },
   {
    "duration": 17,
    "start_time": "2021-08-28T20:18:16.329Z"
   },
   {
    "duration": 12,
    "start_time": "2021-08-28T20:18:16.348Z"
   },
   {
    "duration": 32,
    "start_time": "2021-08-28T20:18:16.362Z"
   },
   {
    "duration": 63,
    "start_time": "2021-08-28T20:18:16.396Z"
   },
   {
    "duration": 7,
    "start_time": "2021-08-28T20:18:16.464Z"
   },
   {
    "duration": 20,
    "start_time": "2021-08-28T20:18:16.474Z"
   },
   {
    "duration": 16,
    "start_time": "2021-08-28T20:18:16.496Z"
   },
   {
    "duration": 34,
    "start_time": "2021-08-28T20:18:16.514Z"
   },
   {
    "duration": 15,
    "start_time": "2021-08-28T20:18:16.550Z"
   },
   {
    "duration": 51,
    "start_time": "2021-08-28T20:18:16.567Z"
   },
   {
    "duration": 17,
    "start_time": "2021-08-28T20:18:16.621Z"
   },
   {
    "duration": 55,
    "start_time": "2021-08-28T20:18:16.641Z"
   },
   {
    "duration": 12,
    "start_time": "2021-08-28T20:18:16.698Z"
   },
   {
    "duration": 53,
    "start_time": "2021-08-28T20:18:16.713Z"
   },
   {
    "duration": 16,
    "start_time": "2021-08-28T20:18:16.769Z"
   },
   {
    "duration": 55,
    "start_time": "2021-08-28T20:18:16.787Z"
   },
   {
    "duration": 115,
    "start_time": "2021-08-28T20:21:09.509Z"
   },
   {
    "duration": 100,
    "start_time": "2021-08-28T20:22:36.709Z"
   },
   {
    "duration": 93,
    "start_time": "2021-08-28T20:23:47.418Z"
   },
   {
    "duration": 96,
    "start_time": "2021-08-28T20:24:23.486Z"
   },
   {
    "duration": 434,
    "start_time": "2021-08-28T20:25:05.189Z"
   },
   {
    "duration": 51,
    "start_time": "2021-08-28T20:25:53.370Z"
   },
   {
    "duration": 32,
    "start_time": "2021-08-28T20:26:15.186Z"
   },
   {
    "duration": 45,
    "start_time": "2021-08-28T20:26:46.321Z"
   },
   {
    "duration": 14,
    "start_time": "2021-08-28T20:27:27.686Z"
   },
   {
    "duration": 445,
    "start_time": "2021-08-29T10:57:42.039Z"
   },
   {
    "duration": 937,
    "start_time": "2021-08-29T10:57:50.804Z"
   },
   {
    "duration": 23,
    "start_time": "2021-08-29T10:57:51.744Z"
   },
   {
    "duration": 20,
    "start_time": "2021-08-29T10:57:51.769Z"
   },
   {
    "duration": 53,
    "start_time": "2021-08-29T10:57:51.792Z"
   },
   {
    "duration": 31,
    "start_time": "2021-08-29T10:57:51.847Z"
   },
   {
    "duration": 15,
    "start_time": "2021-08-29T10:57:51.881Z"
   },
   {
    "duration": 101,
    "start_time": "2021-08-29T10:57:51.899Z"
   },
   {
    "duration": 10,
    "start_time": "2021-08-29T10:57:52.005Z"
   },
   {
    "duration": 91,
    "start_time": "2021-08-29T10:57:52.019Z"
   },
   {
    "duration": 8,
    "start_time": "2021-08-29T10:57:52.113Z"
   },
   {
    "duration": 12,
    "start_time": "2021-08-29T10:57:52.123Z"
   },
   {
    "duration": 36,
    "start_time": "2021-08-29T10:57:52.137Z"
   },
   {
    "duration": 22,
    "start_time": "2021-08-29T10:57:52.176Z"
   },
   {
    "duration": 10,
    "start_time": "2021-08-29T10:57:52.201Z"
   },
   {
    "duration": 102,
    "start_time": "2021-08-29T10:57:52.214Z"
   },
   {
    "duration": 11,
    "start_time": "2021-08-29T10:57:52.320Z"
   },
   {
    "duration": 34,
    "start_time": "2021-08-29T10:57:52.334Z"
   },
   {
    "duration": 6,
    "start_time": "2021-08-29T10:57:52.371Z"
   },
   {
    "duration": 18,
    "start_time": "2021-08-29T10:57:52.379Z"
   },
   {
    "duration": 8,
    "start_time": "2021-08-29T10:57:52.399Z"
   },
   {
    "duration": 66,
    "start_time": "2021-08-29T10:57:52.410Z"
   },
   {
    "duration": 58,
    "start_time": "2021-08-29T10:57:52.479Z"
   },
   {
    "duration": 31,
    "start_time": "2021-08-29T10:57:52.543Z"
   },
   {
    "duration": 13,
    "start_time": "2021-08-29T10:57:52.577Z"
   },
   {
    "duration": 20,
    "start_time": "2021-08-29T10:57:52.593Z"
   },
   {
    "duration": 53,
    "start_time": "2021-08-29T10:57:52.616Z"
   },
   {
    "duration": 8,
    "start_time": "2021-08-29T10:57:52.671Z"
   },
   {
    "duration": 25,
    "start_time": "2021-08-29T10:57:52.681Z"
   },
   {
    "duration": 17,
    "start_time": "2021-08-29T10:57:52.709Z"
   },
   {
    "duration": 60,
    "start_time": "2021-08-29T10:57:52.728Z"
   },
   {
    "duration": 40,
    "start_time": "2021-08-29T11:10:45.219Z"
   },
   {
    "duration": 41,
    "start_time": "2021-08-29T11:14:39.863Z"
   },
   {
    "duration": 44,
    "start_time": "2021-08-29T11:14:56.655Z"
   },
   {
    "duration": 51,
    "start_time": "2021-08-29T11:17:29.815Z"
   },
   {
    "duration": 60,
    "start_time": "2021-08-29T11:19:43.339Z"
   },
   {
    "duration": 79,
    "start_time": "2021-08-29T11:19:52.818Z"
   },
   {
    "duration": 389,
    "start_time": "2021-08-29T11:22:00.574Z"
   },
   {
    "duration": 383,
    "start_time": "2021-08-29T11:22:17.758Z"
   },
   {
    "duration": 56,
    "start_time": "2021-08-29T11:22:29.107Z"
   },
   {
    "duration": 61,
    "start_time": "2021-08-29T11:26:37.662Z"
   },
   {
    "duration": 60,
    "start_time": "2021-08-29T11:27:09.080Z"
   },
   {
    "duration": 391,
    "start_time": "2021-08-29T11:27:19.472Z"
   },
   {
    "duration": 72,
    "start_time": "2021-08-29T11:27:24.632Z"
   },
   {
    "duration": 73,
    "start_time": "2021-08-29T11:38:24.557Z"
   },
   {
    "duration": 68,
    "start_time": "2021-08-29T11:41:39.291Z"
   },
   {
    "duration": 135,
    "start_time": "2021-08-29T11:44:30.603Z"
   },
   {
    "duration": 460,
    "start_time": "2021-08-29T11:44:50.719Z"
   },
   {
    "duration": 426,
    "start_time": "2021-08-29T11:46:05.840Z"
   },
   {
    "duration": 421,
    "start_time": "2021-08-29T11:47:11.015Z"
   },
   {
    "duration": 2192,
    "start_time": "2021-08-29T11:50:06.063Z"
   },
   {
    "duration": 957,
    "start_time": "2021-08-29T11:50:25.819Z"
   },
   {
    "duration": 1059,
    "start_time": "2021-08-29T11:52:02.002Z"
   },
   {
    "duration": 9352,
    "start_time": "2021-08-29T11:52:20.680Z"
   },
   {
    "duration": 1708,
    "start_time": "2021-08-29T11:52:41.132Z"
   },
   {
    "duration": 1751,
    "start_time": "2021-08-29T11:55:49.504Z"
   },
   {
    "duration": 145,
    "start_time": "2021-08-29T11:56:59.591Z"
   },
   {
    "duration": 111,
    "start_time": "2021-08-29T11:58:11.467Z"
   },
   {
    "duration": 121,
    "start_time": "2021-08-29T11:58:26.204Z"
   },
   {
    "duration": 121,
    "start_time": "2021-08-29T11:58:36.905Z"
   },
   {
    "duration": 368,
    "start_time": "2021-08-29T11:58:44.438Z"
   },
   {
    "duration": 4876,
    "start_time": "2021-08-29T11:59:24.980Z"
   },
   {
    "duration": 9469,
    "start_time": "2021-08-29T12:00:00.745Z"
   },
   {
    "duration": 814,
    "start_time": "2021-08-29T12:00:38.101Z"
   },
   {
    "duration": 398,
    "start_time": "2021-08-29T12:04:11.167Z"
   },
   {
    "duration": 407,
    "start_time": "2021-08-29T12:05:23.229Z"
   },
   {
    "duration": 1680,
    "start_time": "2021-08-29T12:07:04.592Z"
   },
   {
    "duration": 386,
    "start_time": "2021-08-29T12:09:29.203Z"
   },
   {
    "duration": 625,
    "start_time": "2021-08-29T12:10:52.651Z"
   },
   {
    "duration": 434,
    "start_time": "2021-08-29T12:13:07.885Z"
   },
   {
    "duration": 5419,
    "start_time": "2021-08-29T12:26:07.999Z"
   },
   {
    "duration": 418,
    "start_time": "2021-08-29T12:28:38.976Z"
   },
   {
    "duration": 810,
    "start_time": "2021-08-29T12:34:50.760Z"
   },
   {
    "duration": 135,
    "start_time": "2021-08-29T12:35:42.033Z"
   },
   {
    "duration": 5640,
    "start_time": "2021-08-29T12:35:56.070Z"
   },
   {
    "duration": 1652,
    "start_time": "2021-08-29T12:36:36.457Z"
   },
   {
    "duration": 78,
    "start_time": "2021-08-29T12:39:52.494Z"
   },
   {
    "duration": 75,
    "start_time": "2021-08-29T12:40:10.672Z"
   },
   {
    "duration": 110,
    "start_time": "2021-08-29T12:42:41.522Z"
   },
   {
    "duration": 126,
    "start_time": "2021-08-29T12:43:18.785Z"
   },
   {
    "duration": 114,
    "start_time": "2021-08-29T12:45:17.822Z"
   },
   {
    "duration": 94,
    "start_time": "2021-08-29T12:47:12.652Z"
   },
   {
    "duration": 99,
    "start_time": "2021-08-29T12:48:04.584Z"
   },
   {
    "duration": 73,
    "start_time": "2021-08-29T12:49:02.331Z"
   },
   {
    "duration": 99,
    "start_time": "2021-08-29T12:50:06.390Z"
   },
   {
    "duration": 372,
    "start_time": "2021-08-29T14:48:25.257Z"
   },
   {
    "duration": 811,
    "start_time": "2021-08-29T14:48:32.262Z"
   },
   {
    "duration": 14,
    "start_time": "2021-08-29T14:48:33.076Z"
   },
   {
    "duration": 31,
    "start_time": "2021-08-29T14:48:33.093Z"
   },
   {
    "duration": 48,
    "start_time": "2021-08-29T14:48:33.126Z"
   },
   {
    "duration": 12,
    "start_time": "2021-08-29T14:48:33.177Z"
   },
   {
    "duration": 32,
    "start_time": "2021-08-29T14:48:33.192Z"
   },
   {
    "duration": 59,
    "start_time": "2021-08-29T14:48:33.226Z"
   },
   {
    "duration": 8,
    "start_time": "2021-08-29T14:48:33.315Z"
   },
   {
    "duration": 64,
    "start_time": "2021-08-29T14:48:33.326Z"
   },
   {
    "duration": 6,
    "start_time": "2021-08-29T14:48:33.416Z"
   },
   {
    "duration": 8,
    "start_time": "2021-08-29T14:48:33.424Z"
   },
   {
    "duration": 9,
    "start_time": "2021-08-29T14:48:33.434Z"
   },
   {
    "duration": 19,
    "start_time": "2021-08-29T14:48:33.445Z"
   },
   {
    "duration": 8,
    "start_time": "2021-08-29T14:48:33.466Z"
   },
   {
    "duration": 64,
    "start_time": "2021-08-29T14:48:33.517Z"
   },
   {
    "duration": 7,
    "start_time": "2021-08-29T14:48:33.584Z"
   },
   {
    "duration": 28,
    "start_time": "2021-08-29T14:48:33.594Z"
   },
   {
    "duration": 6,
    "start_time": "2021-08-29T14:48:33.625Z"
   },
   {
    "duration": 12,
    "start_time": "2021-08-29T14:48:33.633Z"
   },
   {
    "duration": 8,
    "start_time": "2021-08-29T14:48:33.647Z"
   },
   {
    "duration": 65,
    "start_time": "2021-08-29T14:48:33.657Z"
   },
   {
    "duration": 57,
    "start_time": "2021-08-29T14:48:33.725Z"
   },
   {
    "duration": 32,
    "start_time": "2021-08-29T14:48:33.786Z"
   },
   {
    "duration": 11,
    "start_time": "2021-08-29T14:48:33.821Z"
   },
   {
    "duration": 17,
    "start_time": "2021-08-29T14:48:33.834Z"
   },
   {
    "duration": 11,
    "start_time": "2021-08-29T14:48:33.854Z"
   },
   {
    "duration": 12,
    "start_time": "2021-08-29T14:48:33.867Z"
   },
   {
    "duration": 43,
    "start_time": "2021-08-29T14:48:33.881Z"
   },
   {
    "duration": 16,
    "start_time": "2021-08-29T14:48:33.927Z"
   },
   {
    "duration": 33,
    "start_time": "2021-08-29T14:48:33.945Z"
   },
   {
    "duration": 1036,
    "start_time": "2021-08-29T14:48:33.981Z"
   },
   {
    "duration": 398,
    "start_time": "2021-08-29T14:53:06.451Z"
   },
   {
    "duration": 328,
    "start_time": "2021-08-29T14:53:59.636Z"
   },
   {
    "duration": 312,
    "start_time": "2021-08-29T14:54:22.496Z"
   },
   {
    "duration": 3370,
    "start_time": "2021-08-29T14:54:29.912Z"
   },
   {
    "duration": 295,
    "start_time": "2021-08-29T14:54:40.942Z"
   },
   {
    "duration": 580,
    "start_time": "2021-08-29T14:55:38.428Z"
   },
   {
    "duration": 416,
    "start_time": "2021-08-29T14:56:07.759Z"
   },
   {
    "duration": 363,
    "start_time": "2021-08-29T15:18:16.259Z"
   },
   {
    "duration": 381,
    "start_time": "2021-08-29T15:18:46.661Z"
   },
   {
    "duration": 386,
    "start_time": "2021-08-29T15:19:34.595Z"
   },
   {
    "duration": 590,
    "start_time": "2021-08-29T15:21:15.162Z"
   },
   {
    "duration": 318,
    "start_time": "2021-08-29T15:21:24.105Z"
   },
   {
    "duration": 569,
    "start_time": "2021-08-29T15:21:25.100Z"
   },
   {
    "duration": 4,
    "start_time": "2021-08-29T15:21:42.681Z"
   },
   {
    "duration": 1251,
    "start_time": "2021-08-29T15:21:43.636Z"
   },
   {
    "duration": 7197,
    "start_time": "2021-08-29T15:23:27.058Z"
   },
   {
    "duration": 9,
    "start_time": "2021-08-29T15:23:48.381Z"
   },
   {
    "duration": 28,
    "start_time": "2021-08-29T15:24:28.193Z"
   },
   {
    "duration": 40,
    "start_time": "2021-08-29T15:24:53.894Z"
   },
   {
    "duration": 2069,
    "start_time": "2021-08-29T15:27:01.747Z"
   },
   {
    "duration": 43,
    "start_time": "2021-08-29T15:27:25.465Z"
   },
   {
    "duration": 43,
    "start_time": "2021-08-29T15:27:39.010Z"
   },
   {
    "duration": 4579,
    "start_time": "2021-08-29T15:28:40.437Z"
   },
   {
    "duration": 313,
    "start_time": "2021-08-29T15:29:13.376Z"
   },
   {
    "duration": 2039,
    "start_time": "2021-08-29T15:30:18.683Z"
   },
   {
    "duration": 42,
    "start_time": "2021-08-29T15:31:01.212Z"
   },
   {
    "duration": 311,
    "start_time": "2021-08-29T15:31:25.493Z"
   },
   {
    "duration": 298,
    "start_time": "2021-08-29T15:31:44.429Z"
   },
   {
    "duration": 291,
    "start_time": "2021-08-29T15:32:12.673Z"
   },
   {
    "duration": 396,
    "start_time": "2021-08-29T15:32:20.608Z"
   },
   {
    "duration": 273,
    "start_time": "2021-08-29T15:32:51.780Z"
   },
   {
    "duration": 304,
    "start_time": "2021-08-29T15:34:22.237Z"
   },
   {
    "duration": 361,
    "start_time": "2021-08-29T15:34:38.497Z"
   },
   {
    "duration": 302,
    "start_time": "2021-08-29T15:34:45.842Z"
   },
   {
    "duration": 362,
    "start_time": "2021-08-29T15:34:53.470Z"
   },
   {
    "duration": 404,
    "start_time": "2021-08-29T15:35:19.426Z"
   },
   {
    "duration": 402,
    "start_time": "2021-08-29T15:36:04.965Z"
   },
   {
    "duration": 379,
    "start_time": "2021-08-29T15:36:42.141Z"
   },
   {
    "duration": 297,
    "start_time": "2021-08-29T15:37:34.330Z"
   },
   {
    "duration": 806,
    "start_time": "2021-08-29T16:02:05.374Z"
   },
   {
    "duration": 562,
    "start_time": "2021-08-29T16:02:40.833Z"
   },
   {
    "duration": 677,
    "start_time": "2021-08-29T16:03:01.684Z"
   },
   {
    "duration": 711,
    "start_time": "2021-08-29T16:03:25.342Z"
   },
   {
    "duration": 95,
    "start_time": "2021-08-29T16:07:17.294Z"
   },
   {
    "duration": 6,
    "start_time": "2021-08-29T16:07:24.378Z"
   },
   {
    "duration": 8,
    "start_time": "2021-08-29T16:08:48.345Z"
   },
   {
    "duration": 9,
    "start_time": "2021-08-29T16:10:28.944Z"
   },
   {
    "duration": 75074,
    "start_time": "2021-08-29T16:12:17.561Z"
   },
   {
    "duration": 8024,
    "start_time": "2021-08-29T16:18:55.151Z"
   },
   {
    "duration": 492,
    "start_time": "2021-08-29T16:20:38.874Z"
   },
   {
    "duration": 697,
    "start_time": "2021-08-29T16:20:48.891Z"
   },
   {
    "duration": 1794,
    "start_time": "2021-08-29T16:21:36.189Z"
   },
   {
    "duration": 1415,
    "start_time": "2021-08-29T16:21:57.777Z"
   },
   {
    "duration": 2169,
    "start_time": "2021-08-29T16:44:46.006Z"
   },
   {
    "duration": 7647,
    "start_time": "2021-08-29T16:47:27.731Z"
   },
   {
    "duration": 276,
    "start_time": "2021-08-29T16:48:07.885Z"
   },
   {
    "duration": 302,
    "start_time": "2021-08-29T16:49:59.628Z"
   },
   {
    "duration": 288,
    "start_time": "2021-08-29T16:51:06.066Z"
   },
   {
    "duration": 52,
    "start_time": "2021-08-29T16:51:17.299Z"
   },
   {
    "duration": 38,
    "start_time": "2021-08-29T16:51:29.875Z"
   },
   {
    "duration": 10,
    "start_time": "2021-08-29T16:51:48.072Z"
   },
   {
    "duration": 302,
    "start_time": "2021-08-29T16:53:42.117Z"
   },
   {
    "duration": 310,
    "start_time": "2021-08-29T16:54:19.538Z"
   },
   {
    "duration": 292,
    "start_time": "2021-08-29T16:54:38.783Z"
   },
   {
    "duration": 312,
    "start_time": "2021-08-29T16:55:03.306Z"
   },
   {
    "duration": 288,
    "start_time": "2021-08-29T16:55:13.382Z"
   },
   {
    "duration": 891,
    "start_time": "2021-08-29T16:58:07.949Z"
   },
   {
    "duration": 808,
    "start_time": "2021-08-29T16:59:18.001Z"
   },
   {
    "duration": 482,
    "start_time": "2021-08-30T15:05:27.469Z"
   },
   {
    "duration": 1062,
    "start_time": "2021-08-30T15:05:32.345Z"
   },
   {
    "duration": 15,
    "start_time": "2021-08-30T15:05:33.410Z"
   },
   {
    "duration": 19,
    "start_time": "2021-08-30T15:05:33.429Z"
   },
   {
    "duration": 51,
    "start_time": "2021-08-30T15:05:33.468Z"
   },
   {
    "duration": 14,
    "start_time": "2021-08-30T15:05:33.521Z"
   },
   {
    "duration": 39,
    "start_time": "2021-08-30T15:05:33.538Z"
   },
   {
    "duration": 126,
    "start_time": "2021-08-30T15:05:33.581Z"
   },
   {
    "duration": 12,
    "start_time": "2021-08-30T15:05:33.713Z"
   },
   {
    "duration": 135,
    "start_time": "2021-08-30T15:05:33.729Z"
   },
   {
    "duration": 8,
    "start_time": "2021-08-30T15:05:33.867Z"
   },
   {
    "duration": 11,
    "start_time": "2021-08-30T15:05:33.878Z"
   },
   {
    "duration": 12,
    "start_time": "2021-08-30T15:05:33.891Z"
   },
   {
    "duration": 19,
    "start_time": "2021-08-30T15:05:33.906Z"
   },
   {
    "duration": 12,
    "start_time": "2021-08-30T15:05:33.969Z"
   },
   {
    "duration": 120,
    "start_time": "2021-08-30T15:05:33.984Z"
   },
   {
    "duration": 11,
    "start_time": "2021-08-30T15:05:34.108Z"
   },
   {
    "duration": 37,
    "start_time": "2021-08-30T15:05:34.122Z"
   },
   {
    "duration": 11,
    "start_time": "2021-08-30T15:05:34.161Z"
   },
   {
    "duration": 34,
    "start_time": "2021-08-30T15:05:34.174Z"
   },
   {
    "duration": 23,
    "start_time": "2021-08-30T15:05:34.211Z"
   },
   {
    "duration": 40,
    "start_time": "2021-08-30T15:05:34.236Z"
   },
   {
    "duration": 59,
    "start_time": "2021-08-30T15:05:34.278Z"
   },
   {
    "duration": 25,
    "start_time": "2021-08-30T15:05:34.342Z"
   },
   {
    "duration": 13,
    "start_time": "2021-08-30T15:05:34.370Z"
   },
   {
    "duration": 22,
    "start_time": "2021-08-30T15:05:34.385Z"
   },
   {
    "duration": 10,
    "start_time": "2021-08-30T15:05:34.410Z"
   },
   {
    "duration": 46,
    "start_time": "2021-08-30T15:05:34.423Z"
   },
   {
    "duration": 21,
    "start_time": "2021-08-30T15:05:34.471Z"
   },
   {
    "duration": 19,
    "start_time": "2021-08-30T15:05:34.495Z"
   },
   {
    "duration": 59,
    "start_time": "2021-08-30T15:05:34.517Z"
   },
   {
    "duration": 897,
    "start_time": "2021-08-30T15:05:34.579Z"
   },
   {
    "duration": 125,
    "start_time": "2021-08-30T15:05:35.478Z"
   },
   {
    "duration": 1250,
    "start_time": "2021-08-30T15:05:35.606Z"
   },
   {
    "duration": 47,
    "start_time": "2021-08-30T15:05:36.859Z"
   },
   {
    "duration": 65,
    "start_time": "2021-08-30T15:05:36.908Z"
   },
   {
    "duration": 311,
    "start_time": "2021-08-30T15:05:36.976Z"
   },
   {
    "duration": 451,
    "start_time": "2021-08-30T15:05:37.291Z"
   },
   {
    "duration": 655,
    "start_time": "2021-08-30T15:05:37.745Z"
   },
   {
    "duration": 2195,
    "start_time": "2021-08-30T15:05:38.403Z"
   },
   {
    "duration": 441,
    "start_time": "2021-08-30T15:05:40.601Z"
   },
   {
    "duration": 11,
    "start_time": "2021-08-30T15:06:22.700Z"
   },
   {
    "duration": 19,
    "start_time": "2021-08-30T15:08:07.043Z"
   },
   {
    "duration": 19,
    "start_time": "2021-08-30T15:08:35.203Z"
   },
   {
    "duration": 17,
    "start_time": "2021-08-30T15:08:57.831Z"
   },
   {
    "duration": 384,
    "start_time": "2021-08-30T15:09:14.112Z"
   },
   {
    "duration": 478,
    "start_time": "2021-08-30T15:09:36.807Z"
   },
   {
    "duration": 19,
    "start_time": "2021-08-30T15:09:46.283Z"
   },
   {
    "duration": 797,
    "start_time": "2021-08-30T15:10:02.774Z"
   },
   {
    "duration": 29,
    "start_time": "2021-08-30T15:10:45.790Z"
   },
   {
    "duration": 1681,
    "start_time": "2021-08-30T15:11:51.804Z"
   },
   {
    "duration": 1742,
    "start_time": "2021-08-30T15:12:16.730Z"
   },
   {
    "duration": 1530,
    "start_time": "2021-08-30T15:12:24.879Z"
   },
   {
    "duration": 14,
    "start_time": "2021-08-30T15:12:44.300Z"
   },
   {
    "duration": 30,
    "start_time": "2021-08-30T15:13:03.770Z"
   },
   {
    "duration": 923,
    "start_time": "2021-08-30T15:19:17.455Z"
   },
   {
    "duration": 2102,
    "start_time": "2021-08-30T15:19:30.729Z"
   },
   {
    "duration": 1068,
    "start_time": "2021-08-30T15:22:23.078Z"
   },
   {
    "duration": 1987,
    "start_time": "2021-08-30T15:22:43.298Z"
   },
   {
    "duration": 665,
    "start_time": "2021-08-30T15:25:38.068Z"
   },
   {
    "duration": 668,
    "start_time": "2021-08-30T15:26:10.266Z"
   },
   {
    "duration": 2654,
    "start_time": "2021-08-30T15:26:56.145Z"
   },
   {
    "duration": 410,
    "start_time": "2021-08-30T15:27:50.571Z"
   },
   {
    "duration": 42,
    "start_time": "2021-08-30T15:28:19.632Z"
   },
   {
    "duration": 14,
    "start_time": "2021-08-30T15:31:23.450Z"
   },
   {
    "duration": 14,
    "start_time": "2021-08-30T15:32:01.560Z"
   },
   {
    "duration": 13,
    "start_time": "2021-08-30T15:32:11.870Z"
   },
   {
    "duration": 32,
    "start_time": "2021-08-30T15:34:23.514Z"
   },
   {
    "duration": 43,
    "start_time": "2021-08-30T15:35:24.258Z"
   },
   {
    "duration": 12,
    "start_time": "2021-08-30T15:35:36.634Z"
   },
   {
    "duration": 35,
    "start_time": "2021-08-30T15:35:53.908Z"
   },
   {
    "duration": 35,
    "start_time": "2021-08-30T15:36:39.197Z"
   },
   {
    "duration": 433,
    "start_time": "2021-08-30T15:38:03.447Z"
   },
   {
    "duration": 37,
    "start_time": "2021-08-30T15:38:49.920Z"
   },
   {
    "duration": 39,
    "start_time": "2021-08-30T15:47:03.454Z"
   },
   {
    "duration": 38,
    "start_time": "2021-08-30T15:47:40.109Z"
   },
   {
    "duration": 48,
    "start_time": "2021-08-30T15:49:01.114Z"
   },
   {
    "duration": 51,
    "start_time": "2021-08-30T15:49:21.765Z"
   },
   {
    "duration": 429,
    "start_time": "2021-08-30T15:49:37.568Z"
   },
   {
    "duration": 42,
    "start_time": "2021-08-30T15:49:48.455Z"
   },
   {
    "duration": 44,
    "start_time": "2021-08-30T15:49:59.752Z"
   },
   {
    "duration": 42,
    "start_time": "2021-08-30T15:50:41.069Z"
   },
   {
    "duration": 48,
    "start_time": "2021-08-30T15:51:32.964Z"
   },
   {
    "duration": 63,
    "start_time": "2021-08-30T15:53:25.267Z"
   },
   {
    "duration": 60,
    "start_time": "2021-08-30T15:53:42.313Z"
   },
   {
    "duration": 61,
    "start_time": "2021-08-30T15:53:53.576Z"
   },
   {
    "duration": 78,
    "start_time": "2021-08-30T17:14:31.785Z"
   },
   {
    "duration": 15,
    "start_time": "2021-08-30T17:17:32.286Z"
   },
   {
    "duration": 125,
    "start_time": "2021-08-30T17:17:53.961Z"
   },
   {
    "duration": 19,
    "start_time": "2021-08-30T17:17:54.088Z"
   },
   {
    "duration": 56,
    "start_time": "2021-08-30T17:17:54.111Z"
   },
   {
    "duration": 46,
    "start_time": "2021-08-30T17:17:54.171Z"
   },
   {
    "duration": 58,
    "start_time": "2021-08-30T17:17:54.219Z"
   },
   {
    "duration": 16,
    "start_time": "2021-08-30T17:17:54.279Z"
   },
   {
    "duration": 100,
    "start_time": "2021-08-30T17:17:54.298Z"
   },
   {
    "duration": 10,
    "start_time": "2021-08-30T17:17:54.404Z"
   },
   {
    "duration": 93,
    "start_time": "2021-08-30T17:17:54.418Z"
   },
   {
    "duration": 8,
    "start_time": "2021-08-30T17:17:54.514Z"
   },
   {
    "duration": 15,
    "start_time": "2021-08-30T17:17:54.524Z"
   },
   {
    "duration": 34,
    "start_time": "2021-08-30T17:17:54.541Z"
   },
   {
    "duration": 22,
    "start_time": "2021-08-30T17:17:54.578Z"
   },
   {
    "duration": 10,
    "start_time": "2021-08-30T17:17:54.603Z"
   },
   {
    "duration": 105,
    "start_time": "2021-08-30T17:17:54.616Z"
   },
   {
    "duration": 10,
    "start_time": "2021-08-30T17:17:54.725Z"
   },
   {
    "duration": 32,
    "start_time": "2021-08-30T17:17:54.738Z"
   },
   {
    "duration": 6,
    "start_time": "2021-08-30T17:17:54.772Z"
   },
   {
    "duration": 21,
    "start_time": "2021-08-30T17:17:54.780Z"
   },
   {
    "duration": 10,
    "start_time": "2021-08-30T17:17:54.803Z"
   },
   {
    "duration": 56,
    "start_time": "2021-08-30T17:17:54.816Z"
   },
   {
    "duration": 61,
    "start_time": "2021-08-30T17:17:54.874Z"
   },
   {
    "duration": 29,
    "start_time": "2021-08-30T17:17:54.941Z"
   },
   {
    "duration": 11,
    "start_time": "2021-08-30T17:17:54.973Z"
   },
   {
    "duration": 19,
    "start_time": "2021-08-30T17:17:54.986Z"
   },
   {
    "duration": 11,
    "start_time": "2021-08-30T17:17:55.007Z"
   },
   {
    "duration": 8,
    "start_time": "2021-08-30T17:17:55.020Z"
   },
   {
    "duration": 13,
    "start_time": "2021-08-30T17:17:55.068Z"
   },
   {
    "duration": 17,
    "start_time": "2021-08-30T17:17:55.084Z"
   },
   {
    "duration": 65,
    "start_time": "2021-08-30T17:17:55.104Z"
   },
   {
    "duration": 878,
    "start_time": "2021-08-30T17:17:55.171Z"
   },
   {
    "duration": 3,
    "start_time": "2021-08-30T17:17:56.051Z"
   },
   {
    "duration": 1207,
    "start_time": "2021-08-30T17:17:56.056Z"
   },
   {
    "duration": 43,
    "start_time": "2021-08-30T17:17:57.268Z"
   },
   {
    "duration": 67,
    "start_time": "2021-08-30T17:17:57.314Z"
   },
   {
    "duration": 343,
    "start_time": "2021-08-30T17:17:57.383Z"
   },
   {
    "duration": 768,
    "start_time": "2021-08-30T17:17:57.728Z"
   },
   {
    "duration": 639,
    "start_time": "2021-08-30T17:17:58.498Z"
   },
   {
    "duration": 2603,
    "start_time": "2021-08-30T17:17:59.140Z"
   },
   {
    "duration": 22,
    "start_time": "2021-08-30T17:18:01.745Z"
   },
   {
    "duration": 45,
    "start_time": "2021-08-30T17:18:01.770Z"
   },
   {
    "duration": 65,
    "start_time": "2021-08-30T17:18:01.817Z"
   },
   {
    "duration": 15,
    "start_time": "2021-08-30T17:18:01.884Z"
   },
   {
    "duration": 18,
    "start_time": "2021-08-30T17:21:34.849Z"
   },
   {
    "duration": 13,
    "start_time": "2021-08-30T17:23:37.039Z"
   },
   {
    "duration": 13,
    "start_time": "2021-08-30T17:25:53.760Z"
   },
   {
    "duration": 7572,
    "start_time": "2021-08-30T17:26:17.455Z"
   },
   {
    "duration": 7157,
    "start_time": "2021-08-30T17:27:11.795Z"
   },
   {
    "duration": 6644,
    "start_time": "2021-08-30T17:27:27.435Z"
   },
   {
    "duration": 416,
    "start_time": "2021-08-30T17:27:40.752Z"
   },
   {
    "duration": 43,
    "start_time": "2021-08-30T17:28:53.445Z"
   },
   {
    "duration": 12,
    "start_time": "2021-08-30T17:29:20.924Z"
   },
   {
    "duration": 43,
    "start_time": "2021-08-30T17:29:40.008Z"
   },
   {
    "duration": 14,
    "start_time": "2021-08-30T17:30:36.014Z"
   },
   {
    "duration": 115,
    "start_time": "2021-08-30T17:30:46.483Z"
   },
   {
    "duration": 22,
    "start_time": "2021-08-30T17:30:46.601Z"
   },
   {
    "duration": 53,
    "start_time": "2021-08-30T17:30:46.627Z"
   },
   {
    "duration": 48,
    "start_time": "2021-08-30T17:30:46.683Z"
   },
   {
    "duration": 44,
    "start_time": "2021-08-30T17:30:46.733Z"
   },
   {
    "duration": 19,
    "start_time": "2021-08-30T17:30:46.780Z"
   },
   {
    "duration": 95,
    "start_time": "2021-08-30T17:30:46.802Z"
   },
   {
    "duration": 9,
    "start_time": "2021-08-30T17:30:46.901Z"
   },
   {
    "duration": 87,
    "start_time": "2021-08-30T17:30:46.913Z"
   },
   {
    "duration": 6,
    "start_time": "2021-08-30T17:30:47.002Z"
   },
   {
    "duration": 9,
    "start_time": "2021-08-30T17:30:47.010Z"
   },
   {
    "duration": 10,
    "start_time": "2021-08-30T17:30:47.021Z"
   },
   {
    "duration": 52,
    "start_time": "2021-08-30T17:30:47.033Z"
   },
   {
    "duration": 8,
    "start_time": "2021-08-30T17:30:47.087Z"
   },
   {
    "duration": 98,
    "start_time": "2021-08-30T17:30:47.098Z"
   },
   {
    "duration": 9,
    "start_time": "2021-08-30T17:30:47.198Z"
   },
   {
    "duration": 8,
    "start_time": "2021-08-30T17:30:47.209Z"
   },
   {
    "duration": 6,
    "start_time": "2021-08-30T17:30:47.220Z"
   },
   {
    "duration": 54,
    "start_time": "2021-08-30T17:30:47.228Z"
   },
   {
    "duration": 7,
    "start_time": "2021-08-30T17:30:47.285Z"
   },
   {
    "duration": 28,
    "start_time": "2021-08-30T17:30:47.295Z"
   },
   {
    "duration": 89,
    "start_time": "2021-08-30T17:30:47.325Z"
   },
   {
    "duration": 9,
    "start_time": "2021-08-30T17:30:47.419Z"
   },
   {
    "duration": 15,
    "start_time": "2021-08-30T17:30:47.432Z"
   },
   {
    "duration": 38,
    "start_time": "2021-08-30T17:30:47.450Z"
   },
   {
    "duration": 15,
    "start_time": "2021-08-30T17:30:47.491Z"
   },
   {
    "duration": 19,
    "start_time": "2021-08-30T17:30:47.508Z"
   },
   {
    "duration": 23,
    "start_time": "2021-08-30T17:30:47.530Z"
   },
   {
    "duration": 33,
    "start_time": "2021-08-30T17:30:47.555Z"
   },
   {
    "duration": 37,
    "start_time": "2021-08-30T17:30:47.591Z"
   },
   {
    "duration": 966,
    "start_time": "2021-08-30T17:30:47.630Z"
   },
   {
    "duration": 3,
    "start_time": "2021-08-30T17:30:48.598Z"
   },
   {
    "duration": 1399,
    "start_time": "2021-08-30T17:30:48.604Z"
   },
   {
    "duration": 44,
    "start_time": "2021-08-30T17:30:50.006Z"
   },
   {
    "duration": 50,
    "start_time": "2021-08-30T17:30:50.067Z"
   },
   {
    "duration": 337,
    "start_time": "2021-08-30T17:30:50.119Z"
   },
   {
    "duration": 720,
    "start_time": "2021-08-30T17:30:50.459Z"
   },
   {
    "duration": 674,
    "start_time": "2021-08-30T17:30:51.183Z"
   },
   {
    "duration": 2575,
    "start_time": "2021-08-30T17:30:51.871Z"
   },
   {
    "duration": 22,
    "start_time": "2021-08-30T17:30:54.449Z"
   },
   {
    "duration": 44,
    "start_time": "2021-08-30T17:30:54.474Z"
   },
   {
    "duration": 73,
    "start_time": "2021-08-30T17:30:54.521Z"
   },
   {
    "duration": 14,
    "start_time": "2021-08-30T17:30:54.597Z"
   },
   {
    "duration": 14,
    "start_time": "2021-08-30T17:32:47.725Z"
   },
   {
    "duration": 29,
    "start_time": "2021-08-30T17:33:02.693Z"
   },
   {
    "duration": 53,
    "start_time": "2021-08-30T17:33:12.981Z"
   },
   {
    "duration": 47,
    "start_time": "2021-08-30T17:33:27.017Z"
   },
   {
    "duration": 34,
    "start_time": "2021-08-30T17:34:55.908Z"
   },
   {
    "duration": 325,
    "start_time": "2021-08-30T17:35:17.631Z"
   },
   {
    "duration": 454,
    "start_time": "2021-08-30T17:37:32.392Z"
   },
   {
    "duration": 681,
    "start_time": "2021-08-30T17:38:23.545Z"
   },
   {
    "duration": 342,
    "start_time": "2021-08-30T17:38:45.253Z"
   },
   {
    "duration": 719,
    "start_time": "2021-08-30T17:42:46.763Z"
   },
   {
    "duration": 370,
    "start_time": "2021-08-30T17:43:43.869Z"
   },
   {
    "duration": 325,
    "start_time": "2021-08-30T17:44:13.786Z"
   },
   {
    "duration": 341,
    "start_time": "2021-08-30T17:44:52.638Z"
   },
   {
    "duration": 326,
    "start_time": "2021-08-30T17:45:03.723Z"
   },
   {
    "duration": 319,
    "start_time": "2021-08-30T17:45:16.394Z"
   },
   {
    "duration": 328,
    "start_time": "2021-08-30T17:45:28.097Z"
   },
   {
    "duration": 327,
    "start_time": "2021-08-30T17:45:35.489Z"
   },
   {
    "duration": 321,
    "start_time": "2021-08-30T17:45:52.027Z"
   },
   {
    "duration": 395,
    "start_time": "2021-08-30T17:46:43.921Z"
   },
   {
    "duration": 5317,
    "start_time": "2021-08-30T17:47:33.819Z"
   },
   {
    "duration": 652,
    "start_time": "2021-08-30T17:48:00.539Z"
   },
   {
    "duration": 1406,
    "start_time": "2021-08-30T17:48:49.698Z"
   },
   {
    "duration": 1258,
    "start_time": "2021-08-30T17:49:22.018Z"
   },
   {
    "duration": 1169,
    "start_time": "2021-08-30T17:49:37.294Z"
   },
   {
    "duration": 1698,
    "start_time": "2021-08-30T17:50:05.292Z"
   },
   {
    "duration": 2411,
    "start_time": "2021-08-30T18:41:43.327Z"
   },
   {
    "duration": 2575,
    "start_time": "2021-08-30T18:42:06.249Z"
   },
   {
    "duration": 2398,
    "start_time": "2021-08-30T18:44:57.273Z"
   },
   {
    "duration": 3549,
    "start_time": "2021-08-30T18:46:58.421Z"
   },
   {
    "duration": 8824,
    "start_time": "2021-08-30T18:48:37.467Z"
   },
   {
    "duration": 396,
    "start_time": "2021-08-30T18:49:22.016Z"
   },
   {
    "duration": 406,
    "start_time": "2021-08-30T18:50:53.416Z"
   },
   {
    "duration": 3455,
    "start_time": "2021-08-30T18:52:50.991Z"
   },
   {
    "duration": 125,
    "start_time": "2021-08-30T18:56:15.800Z"
   },
   {
    "duration": 503,
    "start_time": "2021-08-30T18:56:53.495Z"
   },
   {
    "duration": 1720,
    "start_time": "2021-08-30T18:57:00.949Z"
   },
   {
    "duration": 8,
    "start_time": "2021-08-30T18:57:46.984Z"
   },
   {
    "duration": 11,
    "start_time": "2021-08-30T18:58:21.903Z"
   },
   {
    "duration": 10,
    "start_time": "2021-08-30T18:58:34.375Z"
   },
   {
    "duration": 2142,
    "start_time": "2021-08-30T18:59:38.852Z"
   },
   {
    "duration": 1971,
    "start_time": "2021-08-30T19:00:08.753Z"
   },
   {
    "duration": 247,
    "start_time": "2021-08-30T19:11:51.584Z"
   },
   {
    "duration": 855,
    "start_time": "2021-08-31T16:17:06.319Z"
   },
   {
    "duration": 12,
    "start_time": "2021-08-31T16:17:07.176Z"
   },
   {
    "duration": 15,
    "start_time": "2021-08-31T16:17:07.190Z"
   },
   {
    "duration": 55,
    "start_time": "2021-08-31T16:17:07.207Z"
   },
   {
    "duration": 9,
    "start_time": "2021-08-31T16:17:07.264Z"
   },
   {
    "duration": 9,
    "start_time": "2021-08-31T16:17:07.275Z"
   },
   {
    "duration": 66,
    "start_time": "2021-08-31T16:17:07.285Z"
   },
   {
    "duration": 6,
    "start_time": "2021-08-31T16:17:07.354Z"
   },
   {
    "duration": 47,
    "start_time": "2021-08-31T16:17:07.363Z"
   },
   {
    "duration": 5,
    "start_time": "2021-08-31T16:17:07.412Z"
   },
   {
    "duration": 26,
    "start_time": "2021-08-31T16:17:07.419Z"
   },
   {
    "duration": 7,
    "start_time": "2021-08-31T16:17:07.447Z"
   },
   {
    "duration": 15,
    "start_time": "2021-08-31T16:17:07.456Z"
   },
   {
    "duration": 7,
    "start_time": "2021-08-31T16:17:07.473Z"
   },
   {
    "duration": 78,
    "start_time": "2021-08-31T16:17:07.481Z"
   },
   {
    "duration": 7,
    "start_time": "2021-08-31T16:17:07.562Z"
   },
   {
    "duration": 8,
    "start_time": "2021-08-31T16:17:07.572Z"
   },
   {
    "duration": 6,
    "start_time": "2021-08-31T16:17:07.582Z"
   },
   {
    "duration": 11,
    "start_time": "2021-08-31T16:17:07.590Z"
   },
   {
    "duration": 43,
    "start_time": "2021-08-31T16:17:07.603Z"
   },
   {
    "duration": 31,
    "start_time": "2021-08-31T16:17:07.649Z"
   },
   {
    "duration": 60,
    "start_time": "2021-08-31T16:17:07.682Z"
   },
   {
    "duration": 8,
    "start_time": "2021-08-31T16:17:07.746Z"
   },
   {
    "duration": 14,
    "start_time": "2021-08-31T16:17:07.756Z"
   },
   {
    "duration": 15,
    "start_time": "2021-08-31T16:17:07.772Z"
   },
   {
    "duration": 8,
    "start_time": "2021-08-31T16:17:07.789Z"
   },
   {
    "duration": 8,
    "start_time": "2021-08-31T16:17:07.799Z"
   },
   {
    "duration": 40,
    "start_time": "2021-08-31T16:17:07.809Z"
   },
   {
    "duration": 25,
    "start_time": "2021-08-31T16:17:07.850Z"
   },
   {
    "duration": 584,
    "start_time": "2021-08-31T16:17:07.877Z"
   },
   {
    "duration": 837,
    "start_time": "2021-08-31T16:17:08.462Z"
   },
   {
    "duration": 168,
    "start_time": "2021-08-31T16:17:09.300Z"
   },
   {
    "duration": 27,
    "start_time": "2021-08-31T16:17:09.470Z"
   },
   {
    "duration": 48,
    "start_time": "2021-08-31T16:17:09.499Z"
   },
   {
    "duration": 224,
    "start_time": "2021-08-31T16:17:09.549Z"
   },
   {
    "duration": 449,
    "start_time": "2021-08-31T16:17:09.775Z"
   },
   {
    "duration": 421,
    "start_time": "2021-08-31T16:17:10.226Z"
   },
   {
    "duration": 1942,
    "start_time": "2021-08-31T16:17:10.649Z"
   },
   {
    "duration": 8,
    "start_time": "2021-08-31T16:17:12.593Z"
   },
   {
    "duration": 40,
    "start_time": "2021-08-31T16:17:12.603Z"
   },
   {
    "duration": 30,
    "start_time": "2021-08-31T16:17:12.645Z"
   },
   {
    "duration": 1239,
    "start_time": "2021-08-31T16:17:12.677Z"
   },
   {
    "duration": 7,
    "start_time": "2021-08-31T16:17:13.918Z"
   },
   {
    "duration": 5,
    "start_time": "2021-08-31T16:18:49.385Z"
   },
   {
    "duration": 101,
    "start_time": "2021-08-31T16:20:02.965Z"
   },
   {
    "duration": 4,
    "start_time": "2021-08-31T16:20:08.512Z"
   },
   {
    "duration": 13,
    "start_time": "2021-08-31T16:20:58.188Z"
   },
   {
    "duration": 15,
    "start_time": "2021-08-31T16:22:45.695Z"
   },
   {
    "duration": 11,
    "start_time": "2021-08-31T16:23:45.144Z"
   },
   {
    "duration": 11,
    "start_time": "2021-08-31T16:24:41.897Z"
   },
   {
    "duration": 12,
    "start_time": "2021-08-31T16:24:59.310Z"
   },
   {
    "duration": 12,
    "start_time": "2021-08-31T16:25:41.733Z"
   },
   {
    "duration": 20,
    "start_time": "2021-08-31T16:26:23.550Z"
   },
   {
    "duration": 10,
    "start_time": "2021-08-31T16:27:01.428Z"
   },
   {
    "duration": 184,
    "start_time": "2021-08-31T16:28:06.378Z"
   },
   {
    "duration": 231,
    "start_time": "2021-08-31T16:28:27.037Z"
   },
   {
    "duration": 8,
    "start_time": "2021-08-31T16:29:00.279Z"
   },
   {
    "duration": 447,
    "start_time": "2021-08-31T16:29:30.918Z"
   },
   {
    "duration": 141,
    "start_time": "2021-08-31T16:30:02.855Z"
   },
   {
    "duration": 345,
    "start_time": "2021-08-31T16:33:27.472Z"
   },
   {
    "duration": 28,
    "start_time": "2021-08-31T16:43:42.434Z"
   },
   {
    "duration": 87,
    "start_time": "2021-08-31T16:44:08.805Z"
   },
   {
    "duration": 16,
    "start_time": "2021-08-31T16:44:08.894Z"
   },
   {
    "duration": 41,
    "start_time": "2021-08-31T16:44:08.913Z"
   },
   {
    "duration": 38,
    "start_time": "2021-08-31T16:44:08.957Z"
   },
   {
    "duration": 13,
    "start_time": "2021-08-31T16:44:08.997Z"
   },
   {
    "duration": 13,
    "start_time": "2021-08-31T16:44:09.040Z"
   },
   {
    "duration": 40,
    "start_time": "2021-08-31T16:44:09.055Z"
   },
   {
    "duration": 6,
    "start_time": "2021-08-31T16:44:09.097Z"
   },
   {
    "duration": 69,
    "start_time": "2021-08-31T16:44:09.105Z"
   },
   {
    "duration": 5,
    "start_time": "2021-08-31T16:44:09.175Z"
   },
   {
    "duration": 8,
    "start_time": "2021-08-31T16:44:09.182Z"
   },
   {
    "duration": 10,
    "start_time": "2021-08-31T16:44:09.192Z"
   },
   {
    "duration": 15,
    "start_time": "2021-08-31T16:44:09.204Z"
   },
   {
    "duration": 7,
    "start_time": "2021-08-31T16:44:09.241Z"
   },
   {
    "duration": 43,
    "start_time": "2021-08-31T16:44:09.250Z"
   },
   {
    "duration": 6,
    "start_time": "2021-08-31T16:44:09.295Z"
   },
   {
    "duration": 8,
    "start_time": "2021-08-31T16:44:09.302Z"
   },
   {
    "duration": 31,
    "start_time": "2021-08-31T16:44:09.312Z"
   },
   {
    "duration": 13,
    "start_time": "2021-08-31T16:44:09.345Z"
   },
   {
    "duration": 7,
    "start_time": "2021-08-31T16:44:09.360Z"
   },
   {
    "duration": 20,
    "start_time": "2021-08-31T16:44:09.368Z"
   },
   {
    "duration": 73,
    "start_time": "2021-08-31T16:44:09.390Z"
   },
   {
    "duration": 6,
    "start_time": "2021-08-31T16:44:09.466Z"
   },
   {
    "duration": 19,
    "start_time": "2021-08-31T16:44:09.474Z"
   },
   {
    "duration": 19,
    "start_time": "2021-08-31T16:44:09.495Z"
   },
   {
    "duration": 20,
    "start_time": "2021-08-31T16:44:09.516Z"
   },
   {
    "duration": 17,
    "start_time": "2021-08-31T16:44:09.537Z"
   },
   {
    "duration": 25,
    "start_time": "2021-08-31T16:44:09.555Z"
   },
   {
    "duration": 294,
    "start_time": "2021-08-31T16:44:09.581Z"
   },
   {
    "duration": 23,
    "start_time": "2021-08-31T16:44:09.877Z"
   },
   {
    "duration": 555,
    "start_time": "2021-08-31T16:44:09.902Z"
   },
   {
    "duration": 729,
    "start_time": "2021-08-31T16:44:10.459Z"
   },
   {
    "duration": 225,
    "start_time": "2021-08-31T16:44:11.190Z"
   },
   {
    "duration": 31,
    "start_time": "2021-08-31T16:44:11.417Z"
   },
   {
    "duration": 26,
    "start_time": "2021-08-31T16:44:11.450Z"
   },
   {
    "duration": 219,
    "start_time": "2021-08-31T16:44:11.478Z"
   },
   {
    "duration": 431,
    "start_time": "2021-08-31T16:44:11.699Z"
   },
   {
    "duration": 400,
    "start_time": "2021-08-31T16:44:12.132Z"
   },
   {
    "duration": 1797,
    "start_time": "2021-08-31T16:44:12.533Z"
   },
   {
    "duration": 12,
    "start_time": "2021-08-31T16:44:14.332Z"
   },
   {
    "duration": 29,
    "start_time": "2021-08-31T16:44:14.345Z"
   },
   {
    "duration": 33,
    "start_time": "2021-08-31T16:44:14.376Z"
   },
   {
    "duration": 1284,
    "start_time": "2021-08-31T16:44:14.410Z"
   },
   {
    "duration": 7,
    "start_time": "2021-08-31T16:44:15.696Z"
   },
   {
    "duration": 7,
    "start_time": "2021-08-31T16:45:51.397Z"
   },
   {
    "duration": 726,
    "start_time": "2021-08-31T16:46:57.600Z"
   },
   {
    "duration": 145,
    "start_time": "2021-08-31T16:47:02.871Z"
   },
   {
    "duration": 28,
    "start_time": "2021-08-31T16:47:43.998Z"
   },
   {
    "duration": 27,
    "start_time": "2021-08-31T16:47:45.691Z"
   },
   {
    "duration": 197,
    "start_time": "2021-08-31T16:47:56.647Z"
   },
   {
    "duration": 315,
    "start_time": "2021-08-31T16:50:16.383Z"
   },
   {
    "duration": 18,
    "start_time": "2021-08-31T16:50:37.353Z"
   },
   {
    "duration": 626,
    "start_time": "2021-08-31T16:52:54.954Z"
   },
   {
    "duration": 307,
    "start_time": "2021-08-31T16:52:55.939Z"
   },
   {
    "duration": 8,
    "start_time": "2021-08-31T16:53:47.512Z"
   },
   {
    "duration": 11,
    "start_time": "2021-08-31T16:54:23.417Z"
   },
   {
    "duration": 11,
    "start_time": "2021-08-31T16:54:45.224Z"
   },
   {
    "duration": 467,
    "start_time": "2021-08-31T16:58:01.771Z"
   },
   {
    "duration": 13,
    "start_time": "2021-08-31T16:58:23.470Z"
   },
   {
    "duration": 91,
    "start_time": "2021-08-31T17:13:28.215Z"
   },
   {
    "duration": 1209,
    "start_time": "2021-08-31T17:13:57.511Z"
   },
   {
    "duration": 1345,
    "start_time": "2021-08-31T17:14:29.085Z"
   },
   {
    "duration": 1294,
    "start_time": "2021-08-31T17:15:19.162Z"
   },
   {
    "duration": 1136,
    "start_time": "2021-08-31T17:16:13.674Z"
   },
   {
    "duration": 621,
    "start_time": "2021-08-31T17:17:36.461Z"
   },
   {
    "duration": 569,
    "start_time": "2021-08-31T17:17:52.221Z"
   },
   {
    "duration": 673,
    "start_time": "2021-08-31T17:19:19.387Z"
   },
   {
    "duration": 585,
    "start_time": "2021-08-31T17:20:38.045Z"
   },
   {
    "duration": 573,
    "start_time": "2021-08-31T17:21:25.429Z"
   },
   {
    "duration": 707,
    "start_time": "2021-08-31T17:26:50.848Z"
   },
   {
    "duration": 779,
    "start_time": "2021-08-31T17:28:17.059Z"
   },
   {
    "duration": 581,
    "start_time": "2021-08-31T17:28:59.017Z"
   },
   {
    "duration": 647,
    "start_time": "2021-08-31T17:30:34.388Z"
   },
   {
    "duration": 578,
    "start_time": "2021-08-31T17:31:54.433Z"
   },
   {
    "duration": 674,
    "start_time": "2021-08-31T17:33:56.013Z"
   },
   {
    "duration": 569,
    "start_time": "2021-08-31T17:45:49.798Z"
   },
   {
    "duration": 564,
    "start_time": "2021-08-31T17:46:03.058Z"
   },
   {
    "duration": 624,
    "start_time": "2021-08-31T17:46:19.369Z"
   },
   {
    "duration": 705,
    "start_time": "2021-08-31T17:46:36.566Z"
   },
   {
    "duration": 561,
    "start_time": "2021-08-31T17:47:10.401Z"
   },
   {
    "duration": 559,
    "start_time": "2021-08-31T17:48:49.447Z"
   },
   {
    "duration": 602,
    "start_time": "2021-08-31T17:50:26.020Z"
   },
   {
    "duration": 18,
    "start_time": "2021-08-31T17:58:01.430Z"
   },
   {
    "duration": 18,
    "start_time": "2021-08-31T17:58:23.971Z"
   },
   {
    "duration": 9,
    "start_time": "2021-08-31T17:59:48.987Z"
   },
   {
    "duration": 92,
    "start_time": "2021-08-31T18:00:43.049Z"
   },
   {
    "duration": 665,
    "start_time": "2021-08-31T18:03:23.834Z"
   },
   {
    "duration": 93,
    "start_time": "2021-08-31T18:12:52.729Z"
   },
   {
    "duration": 579,
    "start_time": "2021-08-31T18:13:03.085Z"
   },
   {
    "duration": 1362,
    "start_time": "2021-08-31T18:13:23.937Z"
   },
   {
    "duration": 9,
    "start_time": "2021-08-31T18:50:31.861Z"
   },
   {
    "duration": 5,
    "start_time": "2021-08-31T18:52:30.681Z"
   },
   {
    "duration": 8,
    "start_time": "2021-08-31T18:53:21.933Z"
   },
   {
    "duration": 27,
    "start_time": "2021-08-31T18:53:37.416Z"
   },
   {
    "duration": 25,
    "start_time": "2021-08-31T18:53:47.665Z"
   },
   {
    "duration": 289,
    "start_time": "2021-08-31T18:56:58.789Z"
   },
   {
    "duration": 82,
    "start_time": "2021-08-31T18:59:23.918Z"
   },
   {
    "duration": 11,
    "start_time": "2021-08-31T18:59:24.002Z"
   },
   {
    "duration": 40,
    "start_time": "2021-08-31T18:59:24.015Z"
   },
   {
    "duration": 35,
    "start_time": "2021-08-31T18:59:24.058Z"
   },
   {
    "duration": 10,
    "start_time": "2021-08-31T18:59:24.095Z"
   },
   {
    "duration": 35,
    "start_time": "2021-08-31T18:59:24.107Z"
   },
   {
    "duration": 42,
    "start_time": "2021-08-31T18:59:24.144Z"
   },
   {
    "duration": 6,
    "start_time": "2021-08-31T18:59:24.189Z"
   },
   {
    "duration": 77,
    "start_time": "2021-08-31T18:59:24.197Z"
   },
   {
    "duration": 5,
    "start_time": "2021-08-31T18:59:24.276Z"
   },
   {
    "duration": 21,
    "start_time": "2021-08-31T18:59:24.282Z"
   },
   {
    "duration": 13,
    "start_time": "2021-08-31T18:59:24.305Z"
   },
   {
    "duration": 30,
    "start_time": "2021-08-31T18:59:24.320Z"
   },
   {
    "duration": 7,
    "start_time": "2021-08-31T18:59:24.352Z"
   },
   {
    "duration": 54,
    "start_time": "2021-08-31T18:59:24.361Z"
   },
   {
    "duration": 6,
    "start_time": "2021-08-31T18:59:24.417Z"
   },
   {
    "duration": 7,
    "start_time": "2021-08-31T18:59:24.442Z"
   },
   {
    "duration": 7,
    "start_time": "2021-08-31T18:59:24.451Z"
   },
   {
    "duration": 13,
    "start_time": "2021-08-31T18:59:24.459Z"
   },
   {
    "duration": 19,
    "start_time": "2021-08-31T18:59:24.474Z"
   },
   {
    "duration": 29,
    "start_time": "2021-08-31T18:59:24.495Z"
   },
   {
    "duration": 40,
    "start_time": "2021-08-31T18:59:24.540Z"
   },
   {
    "duration": 7,
    "start_time": "2021-08-31T18:59:24.583Z"
   },
   {
    "duration": 13,
    "start_time": "2021-08-31T18:59:24.592Z"
   },
   {
    "duration": 35,
    "start_time": "2021-08-31T18:59:24.607Z"
   },
   {
    "duration": 8,
    "start_time": "2021-08-31T18:59:24.644Z"
   },
   {
    "duration": 7,
    "start_time": "2021-08-31T18:59:24.654Z"
   },
   {
    "duration": 18,
    "start_time": "2021-08-31T18:59:24.663Z"
   },
   {
    "duration": 29,
    "start_time": "2021-08-31T18:59:24.683Z"
   },
   {
    "duration": 651,
    "start_time": "2021-08-31T18:59:24.715Z"
   },
   {
    "duration": 11,
    "start_time": "2021-08-31T18:59:25.368Z"
   },
   {
    "duration": 59,
    "start_time": "2021-08-31T18:59:25.382Z"
   },
   {
    "duration": 485,
    "start_time": "2021-08-31T18:59:25.444Z"
   },
   {
    "duration": 954,
    "start_time": "2021-08-31T18:59:25.931Z"
   },
   {
    "duration": 1219,
    "start_time": "2021-08-31T18:59:26.888Z"
   },
   {
    "duration": 241,
    "start_time": "2021-08-31T18:59:28.109Z"
   },
   {
    "duration": 40,
    "start_time": "2021-08-31T18:59:28.353Z"
   },
   {
    "duration": 60,
    "start_time": "2021-08-31T18:59:28.396Z"
   },
   {
    "duration": 333,
    "start_time": "2021-08-31T18:59:28.458Z"
   },
   {
    "duration": 509,
    "start_time": "2021-08-31T18:59:28.794Z"
   },
   {
    "duration": 416,
    "start_time": "2021-08-31T18:59:29.305Z"
   },
   {
    "duration": 1878,
    "start_time": "2021-08-31T18:59:29.722Z"
   },
   {
    "duration": 8,
    "start_time": "2021-08-31T18:59:31.602Z"
   },
   {
    "duration": 36,
    "start_time": "2021-08-31T18:59:31.612Z"
   },
   {
    "duration": 32,
    "start_time": "2021-08-31T18:59:31.650Z"
   },
   {
    "duration": 1338,
    "start_time": "2021-08-31T18:59:31.684Z"
   },
   {
    "duration": 18,
    "start_time": "2021-08-31T18:59:33.024Z"
   },
   {
    "duration": 147,
    "start_time": "2021-08-31T19:01:27.958Z"
   },
   {
    "duration": 278,
    "start_time": "2021-08-31T19:03:31.098Z"
   },
   {
    "duration": 6,
    "start_time": "2021-08-31T19:03:39.907Z"
   },
   {
    "duration": 7,
    "start_time": "2021-08-31T19:06:08.164Z"
   },
   {
    "duration": 719,
    "start_time": "2021-08-31T19:06:34.823Z"
   },
   {
    "duration": 146,
    "start_time": "2021-08-31T19:06:43.185Z"
   },
   {
    "duration": 489,
    "start_time": "2021-08-31T19:09:17.913Z"
   },
   {
    "duration": 167,
    "start_time": "2021-08-31T19:09:36.065Z"
   },
   {
    "duration": 150,
    "start_time": "2021-08-31T19:09:56.004Z"
   },
   {
    "duration": 161,
    "start_time": "2021-08-31T19:10:23.142Z"
   },
   {
    "duration": 34,
    "start_time": "2021-08-31T19:11:03.282Z"
   },
   {
    "duration": 1187,
    "start_time": "2021-08-31T19:11:04.656Z"
   },
   {
    "duration": 7,
    "start_time": "2021-08-31T19:11:23.700Z"
   },
   {
    "duration": 85,
    "start_time": "2021-08-31T19:11:40.509Z"
   },
   {
    "duration": 12,
    "start_time": "2021-08-31T19:11:40.597Z"
   },
   {
    "duration": 41,
    "start_time": "2021-08-31T19:11:40.611Z"
   },
   {
    "duration": 40,
    "start_time": "2021-08-31T19:11:40.654Z"
   },
   {
    "duration": 12,
    "start_time": "2021-08-31T19:11:40.697Z"
   },
   {
    "duration": 35,
    "start_time": "2021-08-31T19:11:40.711Z"
   },
   {
    "duration": 53,
    "start_time": "2021-08-31T19:11:40.748Z"
   },
   {
    "duration": 8,
    "start_time": "2021-08-31T19:11:40.805Z"
   },
   {
    "duration": 47,
    "start_time": "2021-08-31T19:11:40.841Z"
   },
   {
    "duration": 6,
    "start_time": "2021-08-31T19:11:40.891Z"
   },
   {
    "duration": 29,
    "start_time": "2021-08-31T19:11:40.899Z"
   },
   {
    "duration": 18,
    "start_time": "2021-08-31T19:11:40.930Z"
   },
   {
    "duration": 36,
    "start_time": "2021-08-31T19:11:40.950Z"
   },
   {
    "duration": 12,
    "start_time": "2021-08-31T19:11:40.988Z"
   },
   {
    "duration": 54,
    "start_time": "2021-08-31T19:11:41.002Z"
   },
   {
    "duration": 8,
    "start_time": "2021-08-31T19:11:41.059Z"
   },
   {
    "duration": 19,
    "start_time": "2021-08-31T19:11:41.069Z"
   },
   {
    "duration": 17,
    "start_time": "2021-08-31T19:11:41.091Z"
   },
   {
    "duration": 30,
    "start_time": "2021-08-31T19:11:41.109Z"
   },
   {
    "duration": 24,
    "start_time": "2021-08-31T19:11:41.141Z"
   },
   {
    "duration": 42,
    "start_time": "2021-08-31T19:11:41.167Z"
   },
   {
    "duration": 42,
    "start_time": "2021-08-31T19:11:41.211Z"
   },
   {
    "duration": 6,
    "start_time": "2021-08-31T19:11:41.256Z"
   },
   {
    "duration": 22,
    "start_time": "2021-08-31T19:11:41.264Z"
   },
   {
    "duration": 32,
    "start_time": "2021-08-31T19:11:41.288Z"
   },
   {
    "duration": 21,
    "start_time": "2021-08-31T19:11:41.321Z"
   },
   {
    "duration": 29,
    "start_time": "2021-08-31T19:11:41.343Z"
   },
   {
    "duration": 13,
    "start_time": "2021-08-31T19:11:41.373Z"
   },
   {
    "duration": 25,
    "start_time": "2021-08-31T19:11:41.387Z"
   },
   {
    "duration": 281,
    "start_time": "2021-08-31T19:11:41.413Z"
   },
   {
    "duration": 10,
    "start_time": "2021-08-31T19:11:41.696Z"
   },
   {
    "duration": 44,
    "start_time": "2021-08-31T19:11:41.708Z"
   },
   {
    "duration": 290,
    "start_time": "2021-08-31T19:11:41.753Z"
   },
   {
    "duration": 658,
    "start_time": "2021-08-31T19:11:42.045Z"
   },
   {
    "duration": 739,
    "start_time": "2021-08-31T19:11:42.704Z"
   },
   {
    "duration": 161,
    "start_time": "2021-08-31T19:11:43.444Z"
   },
   {
    "duration": 36,
    "start_time": "2021-08-31T19:11:43.606Z"
   },
   {
    "duration": 29,
    "start_time": "2021-08-31T19:11:43.643Z"
   },
   {
    "duration": 219,
    "start_time": "2021-08-31T19:11:43.674Z"
   },
   {
    "duration": 166,
    "start_time": "2021-08-31T19:11:43.895Z"
   },
   {
    "duration": 5,
    "start_time": "2021-08-31T19:11:44.063Z"
   },
   {
    "duration": 360,
    "start_time": "2021-08-31T19:11:44.070Z"
   },
   {
    "duration": 437,
    "start_time": "2021-08-31T19:11:44.432Z"
   },
   {
    "duration": 404,
    "start_time": "2021-08-31T19:11:44.870Z"
   },
   {
    "duration": 1830,
    "start_time": "2021-08-31T19:11:45.276Z"
   },
   {
    "duration": 14,
    "start_time": "2021-08-31T19:11:47.108Z"
   },
   {
    "duration": 41,
    "start_time": "2021-08-31T19:11:47.124Z"
   },
   {
    "duration": 33,
    "start_time": "2021-08-31T19:11:47.167Z"
   },
   {
    "duration": 1271,
    "start_time": "2021-08-31T19:11:47.202Z"
   },
   {
    "duration": 7,
    "start_time": "2021-08-31T19:11:48.475Z"
   },
   {
    "duration": 152,
    "start_time": "2021-08-31T19:20:57.639Z"
   },
   {
    "duration": 153,
    "start_time": "2021-08-31T19:21:48.426Z"
   },
   {
    "duration": 84,
    "start_time": "2021-08-31T19:21:59.005Z"
   },
   {
    "duration": 11,
    "start_time": "2021-08-31T19:21:59.091Z"
   },
   {
    "duration": 15,
    "start_time": "2021-08-31T19:21:59.105Z"
   },
   {
    "duration": 29,
    "start_time": "2021-08-31T19:21:59.142Z"
   },
   {
    "duration": 11,
    "start_time": "2021-08-31T19:21:59.172Z"
   },
   {
    "duration": 12,
    "start_time": "2021-08-31T19:21:59.185Z"
   },
   {
    "duration": 227,
    "start_time": "2021-08-31T19:21:59.199Z"
   },
   {
    "duration": 16,
    "start_time": "2021-08-31T19:21:59.429Z"
   },
   {
    "duration": 45,
    "start_time": "2021-08-31T19:21:59.447Z"
   },
   {
    "duration": 6,
    "start_time": "2021-08-31T19:21:59.494Z"
   },
   {
    "duration": 9,
    "start_time": "2021-08-31T19:21:59.502Z"
   },
   {
    "duration": 8,
    "start_time": "2021-08-31T19:21:59.540Z"
   },
   {
    "duration": 16,
    "start_time": "2021-08-31T19:21:59.549Z"
   },
   {
    "duration": 6,
    "start_time": "2021-08-31T19:21:59.567Z"
   },
   {
    "duration": 68,
    "start_time": "2021-08-31T19:21:59.574Z"
   },
   {
    "duration": 6,
    "start_time": "2021-08-31T19:21:59.644Z"
   },
   {
    "duration": 6,
    "start_time": "2021-08-31T19:21:59.651Z"
   },
   {
    "duration": 5,
    "start_time": "2021-08-31T19:21:59.659Z"
   },
   {
    "duration": 10,
    "start_time": "2021-08-31T19:21:59.665Z"
   },
   {
    "duration": 7,
    "start_time": "2021-08-31T19:21:59.677Z"
   },
   {
    "duration": 20,
    "start_time": "2021-08-31T19:21:59.686Z"
   },
   {
    "duration": 73,
    "start_time": "2021-08-31T19:21:59.707Z"
   },
   {
    "duration": 6,
    "start_time": "2021-08-31T19:21:59.783Z"
   },
   {
    "duration": 9,
    "start_time": "2021-08-31T19:21:59.791Z"
   },
   {
    "duration": 39,
    "start_time": "2021-08-31T19:21:59.802Z"
   },
   {
    "duration": 9,
    "start_time": "2021-08-31T19:21:59.843Z"
   },
   {
    "duration": 12,
    "start_time": "2021-08-31T19:21:59.853Z"
   },
   {
    "duration": 15,
    "start_time": "2021-08-31T19:21:59.867Z"
   },
   {
    "duration": 24,
    "start_time": "2021-08-31T19:21:59.884Z"
   },
   {
    "duration": 325,
    "start_time": "2021-08-31T19:21:59.909Z"
   },
   {
    "duration": 10,
    "start_time": "2021-08-31T19:22:00.236Z"
   },
   {
    "duration": 43,
    "start_time": "2021-08-31T19:22:00.248Z"
   },
   {
    "duration": 317,
    "start_time": "2021-08-31T19:22:00.293Z"
   },
   {
    "duration": 659,
    "start_time": "2021-08-31T19:22:00.611Z"
   },
   {
    "duration": 741,
    "start_time": "2021-08-31T19:22:01.272Z"
   },
   {
    "duration": 162,
    "start_time": "2021-08-31T19:22:02.015Z"
   },
   {
    "duration": 26,
    "start_time": "2021-08-31T19:22:02.179Z"
   },
   {
    "duration": 43,
    "start_time": "2021-08-31T19:22:02.207Z"
   },
   {
    "duration": 208,
    "start_time": "2021-08-31T19:22:02.252Z"
   },
   {
    "duration": 157,
    "start_time": "2021-08-31T19:22:02.463Z"
   },
   {
    "duration": 6,
    "start_time": "2021-08-31T19:22:02.622Z"
   },
   {
    "duration": 154,
    "start_time": "2021-08-31T19:22:02.630Z"
   },
   {
    "duration": 429,
    "start_time": "2021-08-31T19:22:02.785Z"
   },
   {
    "duration": 549,
    "start_time": "2021-08-31T19:22:03.216Z"
   },
   {
    "duration": 1716,
    "start_time": "2021-08-31T19:22:03.768Z"
   },
   {
    "duration": 7,
    "start_time": "2021-08-31T19:22:05.486Z"
   },
   {
    "duration": 46,
    "start_time": "2021-08-31T19:22:05.495Z"
   },
   {
    "duration": 32,
    "start_time": "2021-08-31T19:22:05.543Z"
   },
   {
    "duration": 1178,
    "start_time": "2021-08-31T19:22:05.577Z"
   },
   {
    "duration": 7,
    "start_time": "2021-08-31T19:22:06.757Z"
   },
   {
    "duration": 402,
    "start_time": "2021-08-31T19:23:29.116Z"
   },
   {
    "duration": 441,
    "start_time": "2021-08-31T19:23:45.008Z"
   },
   {
    "duration": 398,
    "start_time": "2021-08-31T19:23:57.976Z"
   },
   {
    "duration": 31,
    "start_time": "2021-08-31T19:25:35.827Z"
   },
   {
    "duration": 3297,
    "start_time": "2021-08-31T19:26:42.053Z"
   },
   {
    "duration": 567,
    "start_time": "2021-08-31T19:27:07.627Z"
   },
   {
    "duration": 6,
    "start_time": "2021-08-31T19:32:14.210Z"
   },
   {
    "duration": 191,
    "start_time": "2021-08-31T19:33:18.598Z"
   },
   {
    "duration": 379,
    "start_time": "2021-08-31T19:33:52.146Z"
   },
   {
    "duration": 917,
    "start_time": "2021-08-31T19:34:32.550Z"
   },
   {
    "duration": 692,
    "start_time": "2021-08-31T19:39:17.404Z"
   },
   {
    "duration": 1928,
    "start_time": "2021-08-31T19:40:37.816Z"
   },
   {
    "duration": 374,
    "start_time": "2021-08-31T19:42:05.876Z"
   },
   {
    "duration": 349,
    "start_time": "2021-08-31T19:42:17.067Z"
   },
   {
    "duration": 351,
    "start_time": "2021-08-31T19:42:25.339Z"
   },
   {
    "duration": 29,
    "start_time": "2021-08-31T19:45:14.225Z"
   },
   {
    "duration": 38,
    "start_time": "2021-08-31T19:46:01.410Z"
   },
   {
    "duration": 12,
    "start_time": "2021-08-31T19:46:33.386Z"
   },
   {
    "duration": 206,
    "start_time": "2021-08-31T19:47:58.825Z"
   },
   {
    "duration": 189,
    "start_time": "2021-08-31T19:51:37.517Z"
   },
   {
    "duration": 383,
    "start_time": "2021-08-31T19:56:40.147Z"
   },
   {
    "duration": 3380,
    "start_time": "2021-08-31T19:57:31.610Z"
   },
   {
    "duration": 195,
    "start_time": "2021-08-31T19:57:48.989Z"
   },
   {
    "duration": 203,
    "start_time": "2021-08-31T20:00:10.208Z"
   },
   {
    "duration": 188,
    "start_time": "2021-08-31T20:00:25.352Z"
   },
   {
    "duration": 201,
    "start_time": "2021-08-31T20:01:14.091Z"
   },
   {
    "duration": 174,
    "start_time": "2021-08-31T20:01:31.297Z"
   },
   {
    "duration": 202,
    "start_time": "2021-08-31T20:01:59.213Z"
   },
   {
    "duration": 349,
    "start_time": "2021-08-31T20:13:32.710Z"
   },
   {
    "duration": 6,
    "start_time": "2021-08-31T20:13:56.546Z"
   },
   {
    "duration": 1738,
    "start_time": "2021-08-31T20:16:05.740Z"
   },
   {
    "duration": 1163,
    "start_time": "2021-08-31T20:16:25.932Z"
   },
   {
    "duration": 7,
    "start_time": "2021-08-31T20:16:38.741Z"
   },
   {
    "duration": 12,
    "start_time": "2021-08-31T20:19:11.560Z"
   },
   {
    "duration": 1683,
    "start_time": "2021-08-31T20:19:13.110Z"
   },
   {
    "duration": 9,
    "start_time": "2021-08-31T20:19:20.993Z"
   },
   {
    "duration": 32,
    "start_time": "2021-08-31T20:19:21.998Z"
   },
   {
    "duration": 32,
    "start_time": "2021-08-31T20:19:35.158Z"
   },
   {
    "duration": 1193,
    "start_time": "2021-08-31T20:19:44.650Z"
   },
   {
    "duration": 233,
    "start_time": "2021-08-31T20:20:36.369Z"
   },
   {
    "duration": 1043,
    "start_time": "2021-09-01T10:14:58.808Z"
   },
   {
    "duration": 1021,
    "start_time": "2021-09-01T12:41:16.610Z"
   },
   {
    "duration": 15,
    "start_time": "2021-09-01T12:41:17.634Z"
   },
   {
    "duration": 32,
    "start_time": "2021-09-01T12:41:17.652Z"
   },
   {
    "duration": 48,
    "start_time": "2021-09-01T12:41:17.686Z"
   },
   {
    "duration": 37,
    "start_time": "2021-09-01T12:41:17.736Z"
   },
   {
    "duration": 13,
    "start_time": "2021-09-01T12:41:17.775Z"
   },
   {
    "duration": 84,
    "start_time": "2021-09-01T12:41:17.791Z"
   },
   {
    "duration": 9,
    "start_time": "2021-09-01T12:41:17.879Z"
   },
   {
    "duration": 93,
    "start_time": "2021-09-01T12:41:17.891Z"
   },
   {
    "duration": 6,
    "start_time": "2021-09-01T12:41:17.986Z"
   },
   {
    "duration": 11,
    "start_time": "2021-09-01T12:41:17.995Z"
   },
   {
    "duration": 9,
    "start_time": "2021-09-01T12:41:18.008Z"
   },
   {
    "duration": 54,
    "start_time": "2021-09-01T12:41:18.019Z"
   },
   {
    "duration": 8,
    "start_time": "2021-09-01T12:41:18.075Z"
   },
   {
    "duration": 87,
    "start_time": "2021-09-01T12:41:18.085Z"
   },
   {
    "duration": 7,
    "start_time": "2021-09-01T12:41:18.175Z"
   },
   {
    "duration": 12,
    "start_time": "2021-09-01T12:41:18.185Z"
   },
   {
    "duration": 7,
    "start_time": "2021-09-01T12:41:18.199Z"
   },
   {
    "duration": 14,
    "start_time": "2021-09-01T12:41:18.209Z"
   },
   {
    "duration": 45,
    "start_time": "2021-09-01T12:41:18.226Z"
   },
   {
    "duration": 32,
    "start_time": "2021-09-01T12:41:18.274Z"
   },
   {
    "duration": 98,
    "start_time": "2021-09-01T12:41:18.309Z"
   },
   {
    "duration": 9,
    "start_time": "2021-09-01T12:41:18.414Z"
   },
   {
    "duration": 14,
    "start_time": "2021-09-01T12:41:18.426Z"
   },
   {
    "duration": 39,
    "start_time": "2021-09-01T12:41:18.443Z"
   },
   {
    "duration": 9,
    "start_time": "2021-09-01T12:41:18.485Z"
   },
   {
    "duration": 16,
    "start_time": "2021-09-01T12:41:18.497Z"
   },
   {
    "duration": 19,
    "start_time": "2021-09-01T12:41:18.515Z"
   },
   {
    "duration": 62,
    "start_time": "2021-09-01T12:41:18.536Z"
   },
   {
    "duration": 461,
    "start_time": "2021-09-01T12:41:18.600Z"
   },
   {
    "duration": 12,
    "start_time": "2021-09-01T12:41:19.063Z"
   },
   {
    "duration": 42,
    "start_time": "2021-09-01T12:41:19.078Z"
   },
   {
    "duration": 524,
    "start_time": "2021-09-01T12:41:19.123Z"
   },
   {
    "duration": 950,
    "start_time": "2021-09-01T12:41:19.650Z"
   },
   {
    "duration": 1260,
    "start_time": "2021-09-01T12:41:20.602Z"
   },
   {
    "duration": 233,
    "start_time": "2021-09-01T12:41:21.866Z"
   },
   {
    "duration": 39,
    "start_time": "2021-09-01T12:41:22.101Z"
   },
   {
    "duration": 63,
    "start_time": "2021-09-01T12:41:22.143Z"
   },
   {
    "duration": 321,
    "start_time": "2021-09-01T12:41:22.208Z"
   },
   {
    "duration": 252,
    "start_time": "2021-09-01T12:41:22.531Z"
   },
   {
    "duration": 8,
    "start_time": "2021-09-01T12:41:22.785Z"
   },
   {
    "duration": 287,
    "start_time": "2021-09-01T12:41:22.795Z"
   },
   {
    "duration": 8,
    "start_time": "2021-09-01T12:41:23.085Z"
   },
   {
    "duration": 2694,
    "start_time": "2021-09-01T12:41:23.096Z"
   },
   {
    "duration": 630,
    "start_time": "2021-09-01T12:41:25.793Z"
   },
   {
    "duration": 320,
    "start_time": "2021-09-01T12:41:26.426Z"
   },
   {
    "duration": 670,
    "start_time": "2021-09-01T12:41:26.749Z"
   },
   {
    "duration": 628,
    "start_time": "2021-09-01T12:41:27.421Z"
   },
   {
    "duration": 308,
    "start_time": "2021-09-01T12:41:28.051Z"
   },
   {
    "duration": 612,
    "start_time": "2021-09-01T12:41:28.366Z"
   },
   {
    "duration": 358,
    "start_time": "2021-09-01T12:41:28.980Z"
   },
   {
    "duration": 12,
    "start_time": "2021-09-01T12:41:29.340Z"
   },
   {
    "duration": 543,
    "start_time": "2021-09-01T12:41:29.368Z"
   },
   {
    "duration": 555,
    "start_time": "2021-09-01T12:41:29.359Z"
   },
   {
    "duration": 548,
    "start_time": "2021-09-01T12:41:29.367Z"
   },
   {
    "duration": 539,
    "start_time": "2021-09-01T12:41:29.377Z"
   },
   {
    "duration": 536,
    "start_time": "2021-09-01T12:41:29.382Z"
   },
   {
    "duration": 523,
    "start_time": "2021-09-01T12:41:29.396Z"
   },
   {
    "duration": 519,
    "start_time": "2021-09-01T12:41:29.401Z"
   },
   {
    "duration": 453,
    "start_time": "2021-09-01T14:57:08.637Z"
   },
   {
    "duration": 948,
    "start_time": "2021-09-01T14:57:14.435Z"
   },
   {
    "duration": 14,
    "start_time": "2021-09-01T14:57:15.386Z"
   },
   {
    "duration": 19,
    "start_time": "2021-09-01T14:57:15.403Z"
   },
   {
    "duration": 68,
    "start_time": "2021-09-01T14:57:15.425Z"
   },
   {
    "duration": 12,
    "start_time": "2021-09-01T14:57:15.495Z"
   },
   {
    "duration": 11,
    "start_time": "2021-09-01T14:57:15.510Z"
   },
   {
    "duration": 91,
    "start_time": "2021-09-01T14:57:15.523Z"
   },
   {
    "duration": 8,
    "start_time": "2021-09-01T14:57:15.617Z"
   },
   {
    "duration": 84,
    "start_time": "2021-09-01T14:57:15.628Z"
   },
   {
    "duration": 6,
    "start_time": "2021-09-01T14:57:15.714Z"
   },
   {
    "duration": 10,
    "start_time": "2021-09-01T14:57:15.722Z"
   },
   {
    "duration": 29,
    "start_time": "2021-09-01T14:57:15.734Z"
   },
   {
    "duration": 19,
    "start_time": "2021-09-01T14:57:15.765Z"
   },
   {
    "duration": 8,
    "start_time": "2021-09-01T14:57:15.786Z"
   },
   {
    "duration": 90,
    "start_time": "2021-09-01T14:57:15.796Z"
   },
   {
    "duration": 7,
    "start_time": "2021-09-01T14:57:15.889Z"
   },
   {
    "duration": 11,
    "start_time": "2021-09-01T14:57:15.898Z"
   },
   {
    "duration": 15,
    "start_time": "2021-09-01T14:57:15.911Z"
   },
   {
    "duration": 11,
    "start_time": "2021-09-01T14:57:15.928Z"
   },
   {
    "duration": 6,
    "start_time": "2021-09-01T14:57:15.962Z"
   },
   {
    "duration": 28,
    "start_time": "2021-09-01T14:57:15.970Z"
   },
   {
    "duration": 82,
    "start_time": "2021-09-01T14:57:16.000Z"
   },
   {
    "duration": 7,
    "start_time": "2021-09-01T14:57:16.088Z"
   },
   {
    "duration": 10,
    "start_time": "2021-09-01T14:57:16.098Z"
   },
   {
    "duration": 16,
    "start_time": "2021-09-01T14:57:16.110Z"
   },
   {
    "duration": 40,
    "start_time": "2021-09-01T14:57:16.129Z"
   },
   {
    "duration": 7,
    "start_time": "2021-09-01T14:57:16.171Z"
   },
   {
    "duration": 16,
    "start_time": "2021-09-01T14:57:16.180Z"
   },
   {
    "duration": 41,
    "start_time": "2021-09-01T14:57:16.198Z"
   },
   {
    "duration": 414,
    "start_time": "2021-09-01T14:57:16.261Z"
   },
   {
    "duration": 10,
    "start_time": "2021-09-01T14:57:16.678Z"
   },
   {
    "duration": 37,
    "start_time": "2021-09-01T14:57:16.691Z"
   },
   {
    "duration": 475,
    "start_time": "2021-09-01T14:57:16.731Z"
   },
   {
    "duration": 790,
    "start_time": "2021-09-01T14:57:17.208Z"
   },
   {
    "duration": 1065,
    "start_time": "2021-09-01T14:57:18.000Z"
   },
   {
    "duration": 225,
    "start_time": "2021-09-01T14:57:19.067Z"
   },
   {
    "duration": 38,
    "start_time": "2021-09-01T14:57:19.294Z"
   },
   {
    "duration": 64,
    "start_time": "2021-09-01T14:57:19.335Z"
   },
   {
    "duration": 312,
    "start_time": "2021-09-01T14:57:19.401Z"
   },
   {
    "duration": 229,
    "start_time": "2021-09-01T14:57:19.715Z"
   },
   {
    "duration": 16,
    "start_time": "2021-09-01T14:57:19.947Z"
   },
   {
    "duration": 286,
    "start_time": "2021-09-01T14:57:19.965Z"
   },
   {
    "duration": 14,
    "start_time": "2021-09-01T14:57:20.253Z"
   },
   {
    "duration": 2929,
    "start_time": "2021-09-01T14:57:20.270Z"
   },
   {
    "duration": 601,
    "start_time": "2021-09-01T14:57:23.202Z"
   },
   {
    "duration": 300,
    "start_time": "2021-09-01T14:57:23.806Z"
   },
   {
    "duration": 633,
    "start_time": "2021-09-01T14:57:24.108Z"
   },
   {
    "duration": 605,
    "start_time": "2021-09-01T14:57:24.744Z"
   },
   {
    "duration": 280,
    "start_time": "2021-09-01T14:57:25.351Z"
   },
   {
    "duration": 579,
    "start_time": "2021-09-01T14:57:25.634Z"
   },
   {
    "duration": 337,
    "start_time": "2021-09-01T14:57:26.216Z"
   },
   {
    "duration": 17,
    "start_time": "2021-09-01T14:57:26.555Z"
   },
   {
    "duration": 2447,
    "start_time": "2021-09-01T14:57:26.575Z"
   },
   {
    "duration": 10,
    "start_time": "2021-09-01T14:57:29.024Z"
   },
   {
    "duration": 55,
    "start_time": "2021-09-01T14:57:29.037Z"
   },
   {
    "duration": 42,
    "start_time": "2021-09-01T14:57:29.094Z"
   },
   {
    "duration": 1810,
    "start_time": "2021-09-01T14:57:29.138Z"
   },
   {
    "duration": 437,
    "start_time": "2021-09-01T14:57:30.951Z"
   },
   {
    "duration": 10,
    "start_time": "2021-09-01T14:57:31.391Z"
   },
   {
    "duration": 13,
    "start_time": "2021-09-01T15:01:36.693Z"
   },
   {
    "duration": 39,
    "start_time": "2021-09-01T15:02:26.723Z"
   },
   {
    "duration": 40,
    "start_time": "2021-09-01T15:03:07.728Z"
   },
   {
    "duration": 513,
    "start_time": "2021-09-01T15:03:29.503Z"
   },
   {
    "duration": 392,
    "start_time": "2021-09-01T17:17:09.784Z"
   },
   {
    "duration": 1072,
    "start_time": "2021-09-01T17:17:14.840Z"
   },
   {
    "duration": 100,
    "start_time": "2021-09-01T17:17:16.076Z"
   },
   {
    "duration": 104,
    "start_time": "2021-09-01T17:17:26.830Z"
   },
   {
    "duration": 139,
    "start_time": "2021-09-01T17:18:25.358Z"
   },
   {
    "duration": 148,
    "start_time": "2021-09-01T17:19:34.975Z"
   },
   {
    "duration": 49,
    "start_time": "2021-09-01T17:20:15.533Z"
   },
   {
    "duration": 43,
    "start_time": "2021-09-01T17:20:28.622Z"
   },
   {
    "duration": 38,
    "start_time": "2021-09-01T17:20:41.331Z"
   },
   {
    "duration": 108,
    "start_time": "2021-09-01T17:37:43.624Z"
   },
   {
    "duration": 4436,
    "start_time": "2021-09-01T17:44:17.622Z"
   },
   {
    "duration": 586,
    "start_time": "2021-09-01T17:44:53.922Z"
   },
   {
    "duration": 192,
    "start_time": "2021-09-01T17:46:28.573Z"
   },
   {
    "duration": 644,
    "start_time": "2021-09-01T17:46:37.067Z"
   },
   {
    "duration": 550,
    "start_time": "2021-09-01T17:48:10.289Z"
   },
   {
    "duration": 6554,
    "start_time": "2021-09-01T17:51:29.625Z"
   },
   {
    "duration": 1438,
    "start_time": "2021-09-01T17:52:47.067Z"
   },
   {
    "duration": 1558,
    "start_time": "2021-09-01T17:55:30.517Z"
   },
   {
    "duration": 1538,
    "start_time": "2021-09-01T17:56:35.790Z"
   },
   {
    "duration": 10391,
    "start_time": "2021-09-01T18:01:26.459Z"
   },
   {
    "duration": 34745,
    "start_time": "2021-09-01T18:02:17.202Z"
   },
   {
    "duration": 21591,
    "start_time": "2021-09-01T18:03:23.423Z"
   },
   {
    "duration": 18838,
    "start_time": "2021-09-01T18:03:45.531Z"
   },
   {
    "duration": 640,
    "start_time": "2021-09-01T18:07:21.691Z"
   },
   {
    "duration": 1664,
    "start_time": "2021-09-01T18:08:41.736Z"
   },
   {
    "duration": 682,
    "start_time": "2021-09-01T18:09:45.036Z"
   },
   {
    "duration": 616,
    "start_time": "2021-09-01T18:10:32.172Z"
   },
   {
    "duration": 30474,
    "start_time": "2021-09-01T18:11:32.916Z"
   },
   {
    "duration": 4,
    "start_time": "2021-09-01T18:12:18.704Z"
   },
   {
    "duration": 113,
    "start_time": "2021-09-01T18:12:18.717Z"
   },
   {
    "duration": 47,
    "start_time": "2021-09-01T18:12:18.832Z"
   },
   {
    "duration": 36,
    "start_time": "2021-09-01T18:12:18.883Z"
   },
   {
    "duration": 165,
    "start_time": "2021-09-01T18:12:18.921Z"
   },
   {
    "duration": 125,
    "start_time": "2021-09-01T18:12:19.088Z"
   },
   {
    "duration": 95,
    "start_time": "2021-09-01T18:12:19.215Z"
   },
   {
    "duration": 17,
    "start_time": "2021-09-01T18:12:19.312Z"
   },
   {
    "duration": 60,
    "start_time": "2021-09-01T18:12:19.332Z"
   },
   {
    "duration": 12,
    "start_time": "2021-09-01T18:12:19.395Z"
   },
   {
    "duration": 27,
    "start_time": "2021-09-01T18:12:19.409Z"
   },
   {
    "duration": 81,
    "start_time": "2021-09-01T18:12:19.438Z"
   },
   {
    "duration": 9,
    "start_time": "2021-09-01T18:12:19.521Z"
   },
   {
    "duration": 108,
    "start_time": "2021-09-01T18:12:19.533Z"
   },
   {
    "duration": 20,
    "start_time": "2021-09-01T18:12:19.645Z"
   },
   {
    "duration": 12,
    "start_time": "2021-09-01T18:12:19.667Z"
   },
   {
    "duration": 9,
    "start_time": "2021-09-01T18:12:19.681Z"
   },
   {
    "duration": 25031,
    "start_time": "2021-09-01T18:12:19.692Z"
   },
   {
    "duration": 8,
    "start_time": "2021-09-01T18:12:44.725Z"
   },
   {
    "duration": 79,
    "start_time": "2021-09-01T18:12:44.736Z"
   },
   {
    "duration": 7,
    "start_time": "2021-09-01T18:12:44.817Z"
   },
   {
    "duration": 35,
    "start_time": "2021-09-01T18:12:44.827Z"
   },
   {
    "duration": 8,
    "start_time": "2021-09-01T18:12:44.865Z"
   },
   {
    "duration": 18,
    "start_time": "2021-09-01T18:12:44.882Z"
   },
   {
    "duration": 12,
    "start_time": "2021-09-01T18:12:44.907Z"
   },
   {
    "duration": 51,
    "start_time": "2021-09-01T18:12:44.921Z"
   },
   {
    "duration": 59,
    "start_time": "2021-09-01T18:12:44.975Z"
   },
   {
    "duration": 28,
    "start_time": "2021-09-01T18:12:45.037Z"
   },
   {
    "duration": 10,
    "start_time": "2021-09-01T18:12:45.068Z"
   },
   {
    "duration": 18,
    "start_time": "2021-09-01T18:12:45.081Z"
   },
   {
    "duration": 14,
    "start_time": "2021-09-01T18:12:45.101Z"
   },
   {
    "duration": 48,
    "start_time": "2021-09-01T18:12:45.117Z"
   },
   {
    "duration": 18,
    "start_time": "2021-09-01T18:12:45.168Z"
   },
   {
    "duration": 36,
    "start_time": "2021-09-01T18:12:45.189Z"
   },
   {
    "duration": 473,
    "start_time": "2021-09-01T18:12:45.228Z"
   },
   {
    "duration": 13,
    "start_time": "2021-09-01T18:12:45.703Z"
   },
   {
    "duration": 68,
    "start_time": "2021-09-01T18:12:45.719Z"
   },
   {
    "duration": 505,
    "start_time": "2021-09-01T18:12:45.790Z"
   },
   {
    "duration": 836,
    "start_time": "2021-09-01T18:12:46.297Z"
   },
   {
    "duration": 1119,
    "start_time": "2021-09-01T18:12:47.135Z"
   },
   {
    "duration": 235,
    "start_time": "2021-09-01T18:12:48.261Z"
   },
   {
    "duration": 43,
    "start_time": "2021-09-01T18:12:48.498Z"
   },
   {
    "duration": 45,
    "start_time": "2021-09-01T18:12:48.562Z"
   },
   {
    "duration": 333,
    "start_time": "2021-09-01T18:12:48.610Z"
   },
   {
    "duration": 241,
    "start_time": "2021-09-01T18:12:48.946Z"
   },
   {
    "duration": 12,
    "start_time": "2021-09-01T18:12:49.191Z"
   },
   {
    "duration": 303,
    "start_time": "2021-09-01T18:12:49.205Z"
   },
   {
    "duration": 10,
    "start_time": "2021-09-01T18:12:49.510Z"
   },
   {
    "duration": 2805,
    "start_time": "2021-09-01T18:12:49.523Z"
   },
   {
    "duration": 631,
    "start_time": "2021-09-01T18:12:52.331Z"
   },
   {
    "duration": 309,
    "start_time": "2021-09-01T18:12:52.964Z"
   },
   {
    "duration": 903,
    "start_time": "2021-09-01T18:12:53.276Z"
   },
   {
    "duration": 834,
    "start_time": "2021-09-01T18:12:54.182Z"
   },
   {
    "duration": 287,
    "start_time": "2021-09-01T18:12:55.019Z"
   },
   {
    "duration": 597,
    "start_time": "2021-09-01T18:12:55.309Z"
   },
   {
    "duration": 371,
    "start_time": "2021-09-01T18:12:55.908Z"
   },
   {
    "duration": 13,
    "start_time": "2021-09-01T18:12:56.281Z"
   },
   {
    "duration": 2465,
    "start_time": "2021-09-01T18:12:56.297Z"
   },
   {
    "duration": 13,
    "start_time": "2021-09-01T18:12:58.765Z"
   },
   {
    "duration": 44,
    "start_time": "2021-09-01T18:12:58.781Z"
   },
   {
    "duration": 88,
    "start_time": "2021-09-01T18:12:58.827Z"
   },
   {
    "duration": 2763,
    "start_time": "2021-09-01T18:12:58.917Z"
   },
   {
    "duration": 378,
    "start_time": "2021-09-01T18:13:01.684Z"
   },
   {
    "duration": 11,
    "start_time": "2021-09-01T18:13:02.064Z"
   },
   {
    "duration": 112,
    "start_time": "2021-09-01T18:17:25.251Z"
   },
   {
    "duration": 127,
    "start_time": "2021-09-01T18:17:44.959Z"
   },
   {
    "duration": 18,
    "start_time": "2021-09-01T18:19:35.850Z"
   },
   {
    "duration": 708,
    "start_time": "2021-09-01T18:20:15.963Z"
   },
   {
    "duration": 625,
    "start_time": "2021-09-01T18:20:30.343Z"
   },
   {
    "duration": 2271,
    "start_time": "2021-09-01T18:20:49.102Z"
   },
   {
    "duration": 48,
    "start_time": "2021-09-01T18:21:15.907Z"
   },
   {
    "duration": 44,
    "start_time": "2021-09-01T18:21:32.197Z"
   },
   {
    "duration": 16,
    "start_time": "2021-09-01T18:22:16.136Z"
   },
   {
    "duration": 15,
    "start_time": "2021-09-01T18:22:29.763Z"
   },
   {
    "duration": 15,
    "start_time": "2021-09-01T18:39:00.542Z"
   },
   {
    "duration": 364,
    "start_time": "2021-09-01T18:39:15.723Z"
   },
   {
    "duration": 8,
    "start_time": "2021-09-01T18:45:11.963Z"
   },
   {
    "duration": 10,
    "start_time": "2021-09-01T18:46:42.067Z"
   },
   {
    "duration": 18,
    "start_time": "2021-09-01T18:51:23.108Z"
   },
   {
    "duration": 80,
    "start_time": "2021-09-01T18:53:27.111Z"
   },
   {
    "duration": 4,
    "start_time": "2021-09-01T18:53:40.182Z"
   },
   {
    "duration": 116,
    "start_time": "2021-09-01T18:53:40.192Z"
   },
   {
    "duration": 52,
    "start_time": "2021-09-01T18:53:40.310Z"
   },
   {
    "duration": 39,
    "start_time": "2021-09-01T18:53:40.365Z"
   },
   {
    "duration": 136,
    "start_time": "2021-09-01T18:53:40.407Z"
   },
   {
    "duration": 117,
    "start_time": "2021-09-01T18:53:40.561Z"
   },
   {
    "duration": 16,
    "start_time": "2021-09-01T18:53:40.680Z"
   },
   {
    "duration": 16,
    "start_time": "2021-09-01T18:53:40.698Z"
   },
   {
    "duration": 76,
    "start_time": "2021-09-01T18:53:40.718Z"
   },
   {
    "duration": 13,
    "start_time": "2021-09-01T18:53:40.798Z"
   },
   {
    "duration": 12,
    "start_time": "2021-09-01T18:53:40.813Z"
   },
   {
    "duration": 62,
    "start_time": "2021-09-01T18:53:40.863Z"
   },
   {
    "duration": 38,
    "start_time": "2021-09-01T18:53:40.927Z"
   },
   {
    "duration": 66,
    "start_time": "2021-09-01T18:53:40.967Z"
   },
   {
    "duration": 6,
    "start_time": "2021-09-01T18:53:41.035Z"
   },
   {
    "duration": 10,
    "start_time": "2021-09-01T18:53:41.062Z"
   },
   {
    "duration": 12,
    "start_time": "2021-09-01T18:53:41.075Z"
   },
   {
    "duration": 25832,
    "start_time": "2021-09-01T18:53:41.090Z"
   },
   {
    "duration": 8,
    "start_time": "2021-09-01T18:54:06.924Z"
   },
   {
    "duration": 79,
    "start_time": "2021-09-01T18:54:06.935Z"
   },
   {
    "duration": 8,
    "start_time": "2021-09-01T18:54:07.016Z"
   },
   {
    "duration": 10,
    "start_time": "2021-09-01T18:54:07.027Z"
   },
   {
    "duration": 8,
    "start_time": "2021-09-01T18:54:07.063Z"
   },
   {
    "duration": 13,
    "start_time": "2021-09-01T18:54:07.079Z"
   },
   {
    "duration": 9,
    "start_time": "2021-09-01T18:54:07.097Z"
   },
   {
    "duration": 66,
    "start_time": "2021-09-01T18:54:07.109Z"
   },
   {
    "duration": 56,
    "start_time": "2021-09-01T18:54:07.177Z"
   },
   {
    "duration": 26,
    "start_time": "2021-09-01T18:54:07.236Z"
   },
   {
    "duration": 12,
    "start_time": "2021-09-01T18:54:07.264Z"
   },
   {
    "duration": 51,
    "start_time": "2021-09-01T18:54:07.278Z"
   },
   {
    "duration": 92,
    "start_time": "2021-09-01T18:54:07.332Z"
   },
   {
    "duration": 15,
    "start_time": "2021-09-01T18:54:07.426Z"
   },
   {
    "duration": 31,
    "start_time": "2021-09-01T18:54:07.443Z"
   },
   {
    "duration": 11,
    "start_time": "2021-09-01T18:54:07.476Z"
   },
   {
    "duration": 13,
    "start_time": "2021-09-01T18:54:07.490Z"
   },
   {
    "duration": 20,
    "start_time": "2021-09-01T18:54:07.505Z"
   },
   {
    "duration": 57,
    "start_time": "2021-09-01T18:54:07.527Z"
   },
   {
    "duration": 436,
    "start_time": "2021-09-01T18:54:07.586Z"
   },
   {
    "duration": 38,
    "start_time": "2021-09-01T18:54:08.024Z"
   },
   {
    "duration": 40,
    "start_time": "2021-09-01T18:54:08.064Z"
   },
   {
    "duration": 444,
    "start_time": "2021-09-01T18:54:08.107Z"
   },
   {
    "duration": 1033,
    "start_time": "2021-09-01T18:54:08.554Z"
   },
   {
    "duration": 1152,
    "start_time": "2021-09-01T18:54:09.589Z"
   },
   {
    "duration": 234,
    "start_time": "2021-09-01T18:54:10.744Z"
   },
   {
    "duration": 40,
    "start_time": "2021-09-01T18:54:10.981Z"
   },
   {
    "duration": 64,
    "start_time": "2021-09-01T18:54:11.023Z"
   },
   {
    "duration": 317,
    "start_time": "2021-09-01T18:54:11.090Z"
   },
   {
    "duration": 242,
    "start_time": "2021-09-01T18:54:11.410Z"
   },
   {
    "duration": 9,
    "start_time": "2021-09-01T18:54:11.663Z"
   },
   {
    "duration": 220,
    "start_time": "2021-09-01T18:54:11.674Z"
   },
   {
    "duration": 8,
    "start_time": "2021-09-01T18:54:11.896Z"
   },
   {
    "duration": 2838,
    "start_time": "2021-09-01T18:54:11.907Z"
   },
   {
    "duration": 534,
    "start_time": "2021-09-01T18:54:14.747Z"
   },
   {
    "duration": 311,
    "start_time": "2021-09-01T18:54:15.283Z"
   },
   {
    "duration": 767,
    "start_time": "2021-09-01T18:54:15.597Z"
   },
   {
    "duration": 611,
    "start_time": "2021-09-01T18:54:16.366Z"
   },
   {
    "duration": 298,
    "start_time": "2021-09-01T18:54:16.980Z"
   },
   {
    "duration": 610,
    "start_time": "2021-09-01T18:54:17.280Z"
   },
   {
    "duration": 333,
    "start_time": "2021-09-01T18:54:17.892Z"
   },
   {
    "duration": 11,
    "start_time": "2021-09-01T18:54:18.227Z"
   },
   {
    "duration": 2480,
    "start_time": "2021-09-01T18:54:18.240Z"
   },
   {
    "duration": 10,
    "start_time": "2021-09-01T18:54:20.723Z"
   },
   {
    "duration": 68,
    "start_time": "2021-09-01T18:54:20.735Z"
   },
   {
    "duration": 64,
    "start_time": "2021-09-01T18:54:20.806Z"
   },
   {
    "duration": 1879,
    "start_time": "2021-09-01T18:54:20.873Z"
   },
   {
    "duration": 372,
    "start_time": "2021-09-01T18:54:22.763Z"
   },
   {
    "duration": 27,
    "start_time": "2021-09-01T18:54:23.138Z"
   },
   {
    "duration": 115,
    "start_time": "2021-09-01T19:04:56.479Z"
   },
   {
    "duration": 126,
    "start_time": "2021-09-01T19:05:16.232Z"
   },
   {
    "duration": 18,
    "start_time": "2021-09-01T19:06:05.195Z"
   },
   {
    "duration": 18,
    "start_time": "2021-09-01T19:07:49.271Z"
   },
   {
    "duration": 16,
    "start_time": "2021-09-01T19:08:33.996Z"
   },
   {
    "duration": 17,
    "start_time": "2021-09-01T19:08:56.188Z"
   },
   {
    "duration": 419,
    "start_time": "2021-09-01T19:09:59.081Z"
   },
   {
    "duration": 16,
    "start_time": "2021-09-01T19:10:41.075Z"
   },
   {
    "duration": 119,
    "start_time": "2021-09-01T19:10:59.087Z"
   },
   {
    "duration": 25,
    "start_time": "2021-09-01T19:11:05.077Z"
   },
   {
    "duration": 27,
    "start_time": "2021-09-01T19:11:16.676Z"
   },
   {
    "duration": 19,
    "start_time": "2021-09-01T19:19:24.812Z"
   },
   {
    "duration": 18,
    "start_time": "2021-09-01T19:20:10.707Z"
   },
   {
    "duration": 17,
    "start_time": "2021-09-01T19:20:51.155Z"
   },
   {
    "duration": 17,
    "start_time": "2021-09-01T19:22:03.890Z"
   },
   {
    "duration": 16,
    "start_time": "2021-09-01T19:22:45.083Z"
   },
   {
    "duration": 97,
    "start_time": "2021-09-01T19:23:46.183Z"
   },
   {
    "duration": 16,
    "start_time": "2021-09-01T19:23:54.221Z"
   },
   {
    "duration": 18,
    "start_time": "2021-09-01T19:24:01.141Z"
   },
   {
    "duration": 16,
    "start_time": "2021-09-01T19:24:06.995Z"
   },
   {
    "duration": 29,
    "start_time": "2021-09-01T19:24:41.202Z"
   },
   {
    "duration": 13,
    "start_time": "2021-09-01T19:30:58.755Z"
   },
   {
    "duration": 29,
    "start_time": "2021-09-01T19:31:28.791Z"
   },
   {
    "duration": 360,
    "start_time": "2021-09-01T19:36:21.887Z"
   },
   {
    "duration": 33,
    "start_time": "2021-09-01T19:42:24.183Z"
   },
   {
    "duration": 388,
    "start_time": "2021-09-01T19:43:46.265Z"
   },
   {
    "duration": 367,
    "start_time": "2021-09-01T19:44:51.877Z"
   },
   {
    "duration": 30,
    "start_time": "2021-09-01T19:45:55.155Z"
   },
   {
    "duration": 121,
    "start_time": "2021-09-01T19:47:05.240Z"
   },
   {
    "duration": 34,
    "start_time": "2021-09-01T19:47:18.652Z"
   },
   {
    "duration": 37,
    "start_time": "2021-09-01T19:48:20.696Z"
   },
   {
    "duration": 31,
    "start_time": "2021-09-01T19:49:30.894Z"
   },
   {
    "duration": 34,
    "start_time": "2021-09-01T19:51:06.183Z"
   },
   {
    "duration": 19,
    "start_time": "2021-09-01T19:51:46.504Z"
   },
   {
    "duration": 33,
    "start_time": "2021-09-01T19:52:18.821Z"
   },
   {
    "duration": 30,
    "start_time": "2021-09-01T19:54:16.409Z"
   },
   {
    "duration": 4,
    "start_time": "2021-09-01T19:58:21.913Z"
   },
   {
    "duration": 116,
    "start_time": "2021-09-01T19:58:21.924Z"
   },
   {
    "duration": 48,
    "start_time": "2021-09-01T19:58:22.043Z"
   },
   {
    "duration": 36,
    "start_time": "2021-09-01T19:58:22.094Z"
   },
   {
    "duration": 148,
    "start_time": "2021-09-01T19:58:22.133Z"
   },
   {
    "duration": 119,
    "start_time": "2021-09-01T19:58:22.283Z"
   },
   {
    "duration": 14,
    "start_time": "2021-09-01T19:58:22.405Z"
   },
   {
    "duration": 40,
    "start_time": "2021-09-01T19:58:22.422Z"
   },
   {
    "duration": 43,
    "start_time": "2021-09-01T19:58:22.466Z"
   },
   {
    "duration": 12,
    "start_time": "2021-09-01T19:58:22.512Z"
   },
   {
    "duration": 13,
    "start_time": "2021-09-01T19:58:22.562Z"
   },
   {
    "duration": 90,
    "start_time": "2021-09-01T19:58:22.577Z"
   },
   {
    "duration": 9,
    "start_time": "2021-09-01T19:58:22.669Z"
   },
   {
    "duration": 84,
    "start_time": "2021-09-01T19:58:22.681Z"
   },
   {
    "duration": 6,
    "start_time": "2021-09-01T19:58:22.767Z"
   },
   {
    "duration": 9,
    "start_time": "2021-09-01T19:58:22.775Z"
   },
   {
    "duration": 17,
    "start_time": "2021-09-01T19:58:22.786Z"
   },
   {
    "duration": 25185,
    "start_time": "2021-09-01T19:58:22.806Z"
   },
   {
    "duration": 8,
    "start_time": "2021-09-01T19:58:47.993Z"
   },
   {
    "duration": 85,
    "start_time": "2021-09-01T19:58:48.003Z"
   },
   {
    "duration": 8,
    "start_time": "2021-09-01T19:58:48.091Z"
   },
   {
    "duration": 10,
    "start_time": "2021-09-01T19:58:48.101Z"
   },
   {
    "duration": 6,
    "start_time": "2021-09-01T19:58:48.113Z"
   },
   {
    "duration": 40,
    "start_time": "2021-09-01T19:58:48.125Z"
   },
   {
    "duration": 7,
    "start_time": "2021-09-01T19:58:48.169Z"
   },
   {
    "duration": 29,
    "start_time": "2021-09-01T19:58:48.179Z"
   },
   {
    "duration": 97,
    "start_time": "2021-09-01T19:58:48.210Z"
   },
   {
    "duration": 8,
    "start_time": "2021-09-01T19:58:48.310Z"
   },
   {
    "duration": 10,
    "start_time": "2021-09-01T19:58:48.321Z"
   },
   {
    "duration": 453,
    "start_time": "2021-09-01T19:58:48.333Z"
   },
   {
    "duration": 19,
    "start_time": "2021-09-01T19:58:48.788Z"
   },
   {
    "duration": 72,
    "start_time": "2021-09-01T19:58:48.809Z"
   },
   {
    "duration": 438,
    "start_time": "2021-09-01T19:58:48.884Z"
   },
   {
    "duration": 62,
    "start_time": "2021-09-01T19:58:49.325Z"
   },
   {
    "duration": 92,
    "start_time": "2021-09-01T19:58:49.390Z"
   },
   {
    "duration": 9,
    "start_time": "2021-09-01T19:58:49.485Z"
   },
   {
    "duration": 31,
    "start_time": "2021-09-01T19:58:49.497Z"
   },
   {
    "duration": 370,
    "start_time": "2021-09-01T19:58:49.531Z"
   },
   {
    "duration": -740,
    "start_time": "2021-09-01T19:58:50.644Z"
   },
   {
    "duration": -758,
    "start_time": "2021-09-01T19:58:50.664Z"
   },
   {
    "duration": -811,
    "start_time": "2021-09-01T19:58:50.718Z"
   },
   {
    "duration": -825,
    "start_time": "2021-09-01T19:58:50.733Z"
   },
   {
    "duration": -836,
    "start_time": "2021-09-01T19:58:50.746Z"
   },
   {
    "duration": -851,
    "start_time": "2021-09-01T19:58:50.762Z"
   },
   {
    "duration": -863,
    "start_time": "2021-09-01T19:58:50.775Z"
   },
   {
    "duration": -876,
    "start_time": "2021-09-01T19:58:50.790Z"
   },
   {
    "duration": -1122,
    "start_time": "2021-09-01T19:58:51.037Z"
   },
   {
    "duration": -1138,
    "start_time": "2021-09-01T19:58:51.054Z"
   },
   {
    "duration": -1150,
    "start_time": "2021-09-01T19:58:51.068Z"
   },
   {
    "duration": -1167,
    "start_time": "2021-09-01T19:58:51.086Z"
   },
   {
    "duration": -1180,
    "start_time": "2021-09-01T19:58:51.101Z"
   },
   {
    "duration": -1195,
    "start_time": "2021-09-01T19:58:51.117Z"
   },
   {
    "duration": -1208,
    "start_time": "2021-09-01T19:58:51.132Z"
   },
   {
    "duration": -1245,
    "start_time": "2021-09-01T19:58:51.170Z"
   },
   {
    "duration": -1260,
    "start_time": "2021-09-01T19:58:51.186Z"
   },
   {
    "duration": -1275,
    "start_time": "2021-09-01T19:58:51.202Z"
   },
   {
    "duration": -1288,
    "start_time": "2021-09-01T19:58:51.217Z"
   },
   {
    "duration": -1303,
    "start_time": "2021-09-01T19:58:51.233Z"
   },
   {
    "duration": -1315,
    "start_time": "2021-09-01T19:58:51.247Z"
   },
   {
    "duration": -1331,
    "start_time": "2021-09-01T19:58:51.264Z"
   },
   {
    "duration": -1366,
    "start_time": "2021-09-01T19:58:51.301Z"
   },
   {
    "duration": -1382,
    "start_time": "2021-09-01T19:58:51.318Z"
   },
   {
    "duration": -1395,
    "start_time": "2021-09-01T19:58:51.332Z"
   },
   {
    "duration": -1410,
    "start_time": "2021-09-01T19:58:51.349Z"
   },
   {
    "duration": -1423,
    "start_time": "2021-09-01T19:58:51.363Z"
   },
   {
    "duration": -1418,
    "start_time": "2021-09-01T19:58:51.379Z"
   },
   {
    "duration": -1430,
    "start_time": "2021-09-01T19:58:51.393Z"
   },
   {
    "duration": -1465,
    "start_time": "2021-09-01T19:58:51.429Z"
   },
   {
    "duration": -1478,
    "start_time": "2021-09-01T19:58:51.443Z"
   },
   {
    "duration": 4,
    "start_time": "2021-09-01T20:01:00.381Z"
   },
   {
    "duration": 150,
    "start_time": "2021-09-01T20:01:00.394Z"
   },
   {
    "duration": 44,
    "start_time": "2021-09-01T20:01:00.547Z"
   },
   {
    "duration": 45,
    "start_time": "2021-09-01T20:01:00.593Z"
   },
   {
    "duration": 137,
    "start_time": "2021-09-01T20:01:00.640Z"
   },
   {
    "duration": 125,
    "start_time": "2021-09-01T20:01:00.779Z"
   },
   {
    "duration": 15,
    "start_time": "2021-09-01T20:01:00.906Z"
   },
   {
    "duration": 52,
    "start_time": "2021-09-01T20:01:00.923Z"
   },
   {
    "duration": 54,
    "start_time": "2021-09-01T20:01:00.979Z"
   },
   {
    "duration": 26,
    "start_time": "2021-09-01T20:01:01.036Z"
   },
   {
    "duration": 35,
    "start_time": "2021-09-01T20:01:01.064Z"
   },
   {
    "duration": 99,
    "start_time": "2021-09-01T20:01:01.101Z"
   },
   {
    "duration": 8,
    "start_time": "2021-09-01T20:01:01.202Z"
   },
   {
    "duration": 87,
    "start_time": "2021-09-01T20:01:01.212Z"
   },
   {
    "duration": 5,
    "start_time": "2021-09-01T20:01:01.301Z"
   },
   {
    "duration": 37,
    "start_time": "2021-09-01T20:01:01.308Z"
   },
   {
    "duration": 36,
    "start_time": "2021-09-01T20:01:01.348Z"
   },
   {
    "duration": 25774,
    "start_time": "2021-09-01T20:01:01.387Z"
   },
   {
    "duration": 8,
    "start_time": "2021-09-01T20:01:27.163Z"
   },
   {
    "duration": 73,
    "start_time": "2021-09-01T20:01:27.173Z"
   },
   {
    "duration": 20,
    "start_time": "2021-09-01T20:01:27.248Z"
   },
   {
    "duration": 20,
    "start_time": "2021-09-01T20:01:27.271Z"
   },
   {
    "duration": 14,
    "start_time": "2021-09-01T20:01:27.294Z"
   },
   {
    "duration": 21,
    "start_time": "2021-09-01T20:01:27.316Z"
   },
   {
    "duration": 23,
    "start_time": "2021-09-01T20:01:27.341Z"
   },
   {
    "duration": 40,
    "start_time": "2021-09-01T20:01:27.367Z"
   },
   {
    "duration": 86,
    "start_time": "2021-09-01T20:01:27.410Z"
   },
   {
    "duration": 9,
    "start_time": "2021-09-01T20:01:27.498Z"
   },
   {
    "duration": 16,
    "start_time": "2021-09-01T20:01:27.509Z"
   },
   {
    "duration": 445,
    "start_time": "2021-09-01T20:01:27.528Z"
   },
   {
    "duration": 19,
    "start_time": "2021-09-01T20:01:27.975Z"
   },
   {
    "duration": 73,
    "start_time": "2021-09-01T20:01:27.997Z"
   },
   {
    "duration": 432,
    "start_time": "2021-09-01T20:01:28.072Z"
   },
   {
    "duration": 63,
    "start_time": "2021-09-01T20:01:28.507Z"
   },
   {
    "duration": 90,
    "start_time": "2021-09-01T20:01:28.572Z"
   },
   {
    "duration": 24,
    "start_time": "2021-09-01T20:01:28.665Z"
   },
   {
    "duration": 41,
    "start_time": "2021-09-01T20:01:28.691Z"
   },
   {
    "duration": 347,
    "start_time": "2021-09-01T20:01:28.734Z"
   },
   {
    "duration": -762,
    "start_time": "2021-09-01T20:01:29.846Z"
   },
   {
    "duration": -777,
    "start_time": "2021-09-01T20:01:29.862Z"
   },
   {
    "duration": -791,
    "start_time": "2021-09-01T20:01:29.877Z"
   },
   {
    "duration": -803,
    "start_time": "2021-09-01T20:01:29.891Z"
   },
   {
    "duration": -817,
    "start_time": "2021-09-01T20:01:29.906Z"
   },
   {
    "duration": -829,
    "start_time": "2021-09-01T20:01:29.919Z"
   },
   {
    "duration": -860,
    "start_time": "2021-09-01T20:01:29.951Z"
   },
   {
    "duration": -873,
    "start_time": "2021-09-01T20:01:29.965Z"
   },
   {
    "duration": -887,
    "start_time": "2021-09-01T20:01:29.980Z"
   },
   {
    "duration": -902,
    "start_time": "2021-09-01T20:01:29.996Z"
   },
   {
    "duration": -915,
    "start_time": "2021-09-01T20:01:30.011Z"
   },
   {
    "duration": -929,
    "start_time": "2021-09-01T20:01:30.026Z"
   },
   {
    "duration": -942,
    "start_time": "2021-09-01T20:01:30.041Z"
   },
   {
    "duration": -973,
    "start_time": "2021-09-01T20:01:30.073Z"
   },
   {
    "duration": -988,
    "start_time": "2021-09-01T20:01:30.089Z"
   },
   {
    "duration": -999,
    "start_time": "2021-09-01T20:01:30.102Z"
   },
   {
    "duration": -1013,
    "start_time": "2021-09-01T20:01:30.117Z"
   },
   {
    "duration": -1025,
    "start_time": "2021-09-01T20:01:30.130Z"
   },
   {
    "duration": -1039,
    "start_time": "2021-09-01T20:01:30.146Z"
   },
   {
    "duration": -1052,
    "start_time": "2021-09-01T20:01:30.160Z"
   },
   {
    "duration": -1085,
    "start_time": "2021-09-01T20:01:30.194Z"
   },
   {
    "duration": -1098,
    "start_time": "2021-09-01T20:01:30.209Z"
   },
   {
    "duration": -1113,
    "start_time": "2021-09-01T20:01:30.225Z"
   },
   {
    "duration": -1125,
    "start_time": "2021-09-01T20:01:30.239Z"
   },
   {
    "duration": -1138,
    "start_time": "2021-09-01T20:01:30.253Z"
   },
   {
    "duration": -1150,
    "start_time": "2021-09-01T20:01:30.266Z"
   },
   {
    "duration": -1163,
    "start_time": "2021-09-01T20:01:30.281Z"
   },
   {
    "duration": -1151,
    "start_time": "2021-09-01T20:01:30.313Z"
   },
   {
    "duration": -1166,
    "start_time": "2021-09-01T20:01:30.329Z"
   },
   {
    "duration": -1178,
    "start_time": "2021-09-01T20:01:30.343Z"
   },
   {
    "duration": -1192,
    "start_time": "2021-09-01T20:01:30.358Z"
   },
   {
    "duration": 10,
    "start_time": "2021-09-01T20:02:10.321Z"
   },
   {
    "duration": 31,
    "start_time": "2021-09-01T20:03:55.564Z"
   },
   {
    "duration": 17,
    "start_time": "2021-09-01T20:09:09.296Z"
   },
   {
    "duration": 11,
    "start_time": "2021-09-01T20:09:10.418Z"
   },
   {
    "duration": 6,
    "start_time": "2021-09-01T20:09:11.872Z"
   },
   {
    "duration": 14,
    "start_time": "2021-09-01T20:09:14.157Z"
   },
   {
    "duration": 37,
    "start_time": "2021-09-01T20:09:16.050Z"
   },
   {
    "duration": 938,
    "start_time": "2021-09-01T20:09:22.237Z"
   },
   {
    "duration": 1116,
    "start_time": "2021-09-01T20:09:27.206Z"
   },
   {
    "duration": 955,
    "start_time": "2021-09-02T16:14:11.441Z"
   },
   {
    "duration": 114,
    "start_time": "2021-09-02T16:14:12.399Z"
   },
   {
    "duration": 26,
    "start_time": "2021-09-02T16:14:12.516Z"
   },
   {
    "duration": 56,
    "start_time": "2021-09-02T16:14:12.545Z"
   },
   {
    "duration": 106,
    "start_time": "2021-09-02T16:14:12.604Z"
   },
   {
    "duration": 84,
    "start_time": "2021-09-02T16:14:12.712Z"
   },
   {
    "duration": 11,
    "start_time": "2021-09-02T16:14:12.797Z"
   },
   {
    "duration": 15,
    "start_time": "2021-09-02T16:14:12.811Z"
   },
   {
    "duration": 50,
    "start_time": "2021-09-02T16:14:12.828Z"
   },
   {
    "duration": 9,
    "start_time": "2021-09-02T16:14:12.880Z"
   },
   {
    "duration": 10,
    "start_time": "2021-09-02T16:14:12.891Z"
   },
   {
    "duration": 47,
    "start_time": "2021-09-02T16:14:12.902Z"
   },
   {
    "duration": 30,
    "start_time": "2021-09-02T16:14:12.951Z"
   },
   {
    "duration": 48,
    "start_time": "2021-09-02T16:14:12.984Z"
   },
   {
    "duration": 5,
    "start_time": "2021-09-02T16:14:13.034Z"
   },
   {
    "duration": 9,
    "start_time": "2021-09-02T16:14:13.040Z"
   },
   {
    "duration": 32,
    "start_time": "2021-09-02T16:14:13.051Z"
   },
   {
    "duration": 19585,
    "start_time": "2021-09-02T16:14:13.085Z"
   },
   {
    "duration": 7,
    "start_time": "2021-09-02T16:14:32.676Z"
   },
   {
    "duration": 44,
    "start_time": "2021-09-02T16:14:32.685Z"
   },
   {
    "duration": 6,
    "start_time": "2021-09-02T16:14:32.731Z"
   },
   {
    "duration": 38,
    "start_time": "2021-09-02T16:14:32.739Z"
   },
   {
    "duration": 5,
    "start_time": "2021-09-02T16:14:32.781Z"
   },
   {
    "duration": 11,
    "start_time": "2021-09-02T16:14:32.789Z"
   },
   {
    "duration": 11,
    "start_time": "2021-09-02T16:14:32.801Z"
   },
   {
    "duration": 25,
    "start_time": "2021-09-02T16:14:32.814Z"
   },
   {
    "duration": 62,
    "start_time": "2021-09-02T16:14:32.841Z"
   },
   {
    "duration": 6,
    "start_time": "2021-09-02T16:14:32.905Z"
   },
   {
    "duration": 14,
    "start_time": "2021-09-02T16:14:32.913Z"
   },
   {
    "duration": 324,
    "start_time": "2021-09-02T16:14:32.929Z"
   },
   {
    "duration": 23,
    "start_time": "2021-09-02T16:14:33.255Z"
   },
   {
    "duration": 27,
    "start_time": "2021-09-02T16:14:33.280Z"
   },
   {
    "duration": 363,
    "start_time": "2021-09-02T16:14:33.309Z"
   },
   {
    "duration": 36,
    "start_time": "2021-09-02T16:14:33.675Z"
   },
   {
    "duration": 68,
    "start_time": "2021-09-02T16:14:33.713Z"
   },
   {
    "duration": 7,
    "start_time": "2021-09-02T16:14:33.783Z"
   },
   {
    "duration": 21,
    "start_time": "2021-09-02T16:14:33.792Z"
   },
   {
    "duration": 15,
    "start_time": "2021-09-02T16:14:33.815Z"
   },
   {
    "duration": 46,
    "start_time": "2021-09-02T16:14:33.832Z"
   },
   {
    "duration": 13,
    "start_time": "2021-09-02T16:14:33.880Z"
   },
   {
    "duration": 8,
    "start_time": "2021-09-02T16:14:33.895Z"
   },
   {
    "duration": 6,
    "start_time": "2021-09-02T16:14:33.905Z"
   },
   {
    "duration": 14,
    "start_time": "2021-09-02T16:14:33.913Z"
   },
   {
    "duration": 58,
    "start_time": "2021-09-02T16:14:33.928Z"
   },
   {
    "duration": 674,
    "start_time": "2021-09-02T16:14:33.988Z"
   },
   {
    "duration": 779,
    "start_time": "2021-09-02T16:14:34.664Z"
   },
   {
    "duration": 172,
    "start_time": "2021-09-02T16:14:35.444Z"
   },
   {
    "duration": 26,
    "start_time": "2021-09-02T16:14:35.618Z"
   },
   {
    "duration": 37,
    "start_time": "2021-09-02T16:14:35.645Z"
   },
   {
    "duration": 197,
    "start_time": "2021-09-02T16:14:35.684Z"
   },
   {
    "duration": 166,
    "start_time": "2021-09-02T16:14:35.883Z"
   },
   {
    "duration": 6,
    "start_time": "2021-09-02T16:14:36.051Z"
   },
   {
    "duration": 224,
    "start_time": "2021-09-02T16:14:36.059Z"
   },
   {
    "duration": 7,
    "start_time": "2021-09-02T16:14:36.285Z"
   },
   {
    "duration": 1786,
    "start_time": "2021-09-02T16:14:36.293Z"
   },
   {
    "duration": 442,
    "start_time": "2021-09-02T16:14:38.080Z"
   },
   {
    "duration": 222,
    "start_time": "2021-09-02T16:14:38.523Z"
   },
   {
    "duration": 440,
    "start_time": "2021-09-02T16:14:38.747Z"
   },
   {
    "duration": 502,
    "start_time": "2021-09-02T16:14:39.189Z"
   },
   {
    "duration": 209,
    "start_time": "2021-09-02T16:14:39.693Z"
   },
   {
    "duration": 477,
    "start_time": "2021-09-02T16:14:39.904Z"
   },
   {
    "duration": 236,
    "start_time": "2021-09-02T16:14:40.382Z"
   },
   {
    "duration": 11,
    "start_time": "2021-09-02T16:14:40.619Z"
   },
   {
    "duration": 1836,
    "start_time": "2021-09-02T16:14:40.632Z"
   },
   {
    "duration": 12,
    "start_time": "2021-09-02T16:14:42.470Z"
   },
   {
    "duration": 46,
    "start_time": "2021-09-02T16:14:42.484Z"
   },
   {
    "duration": 70,
    "start_time": "2021-09-02T16:14:42.532Z"
   },
   {
    "duration": 1313,
    "start_time": "2021-09-02T16:14:42.607Z"
   },
   {
    "duration": 253,
    "start_time": "2021-09-02T16:14:43.922Z"
   },
   {
    "duration": 13,
    "start_time": "2021-09-02T16:14:44.177Z"
   },
   {
    "duration": 4,
    "start_time": "2021-09-02T16:18:59.997Z"
   },
   {
    "duration": 110,
    "start_time": "2021-09-02T16:19:00.008Z"
   },
   {
    "duration": 24,
    "start_time": "2021-09-02T16:19:00.120Z"
   },
   {
    "duration": 47,
    "start_time": "2021-09-02T16:19:00.147Z"
   },
   {
    "duration": 100,
    "start_time": "2021-09-02T16:19:00.197Z"
   },
   {
    "duration": 86,
    "start_time": "2021-09-02T16:19:00.299Z"
   },
   {
    "duration": 11,
    "start_time": "2021-09-02T16:19:00.387Z"
   },
   {
    "duration": 15,
    "start_time": "2021-09-02T16:19:00.401Z"
   },
   {
    "duration": 65,
    "start_time": "2021-09-02T16:19:00.420Z"
   },
   {
    "duration": 12,
    "start_time": "2021-09-02T16:19:00.488Z"
   },
   {
    "duration": 11,
    "start_time": "2021-09-02T16:19:00.502Z"
   },
   {
    "duration": 83,
    "start_time": "2021-09-02T16:19:00.514Z"
   },
   {
    "duration": 9,
    "start_time": "2021-09-02T16:19:00.599Z"
   },
   {
    "duration": 75,
    "start_time": "2021-09-02T16:19:00.609Z"
   },
   {
    "duration": 5,
    "start_time": "2021-09-02T16:19:00.686Z"
   },
   {
    "duration": 9,
    "start_time": "2021-09-02T16:19:00.692Z"
   },
   {
    "duration": 7,
    "start_time": "2021-09-02T16:19:00.703Z"
   },
   {
    "duration": 19350,
    "start_time": "2021-09-02T16:19:00.712Z"
   },
   {
    "duration": 16,
    "start_time": "2021-09-02T16:19:20.063Z"
   },
   {
    "duration": 45,
    "start_time": "2021-09-02T16:19:20.080Z"
   },
   {
    "duration": 6,
    "start_time": "2021-09-02T16:19:20.127Z"
   },
   {
    "duration": 19,
    "start_time": "2021-09-02T16:19:20.135Z"
   },
   {
    "duration": 21,
    "start_time": "2021-09-02T16:19:20.156Z"
   },
   {
    "duration": 15,
    "start_time": "2021-09-02T16:19:20.181Z"
   },
   {
    "duration": 10,
    "start_time": "2021-09-02T16:19:20.200Z"
   },
   {
    "duration": 21,
    "start_time": "2021-09-02T16:19:20.212Z"
   },
   {
    "duration": 62,
    "start_time": "2021-09-02T16:19:20.235Z"
   },
   {
    "duration": 6,
    "start_time": "2021-09-02T16:19:20.299Z"
   },
   {
    "duration": 9,
    "start_time": "2021-09-02T16:19:20.307Z"
   },
   {
    "duration": 408,
    "start_time": "2021-09-02T16:19:20.318Z"
   },
   {
    "duration": 14,
    "start_time": "2021-09-02T16:19:20.728Z"
   },
   {
    "duration": 51,
    "start_time": "2021-09-02T16:19:20.743Z"
   },
   {
    "duration": 311,
    "start_time": "2021-09-02T16:19:20.796Z"
   },
   {
    "duration": 35,
    "start_time": "2021-09-02T16:19:21.110Z"
   },
   {
    "duration": 75,
    "start_time": "2021-09-02T16:19:21.147Z"
   },
   {
    "duration": 9,
    "start_time": "2021-09-02T16:19:21.225Z"
   },
   {
    "duration": 43,
    "start_time": "2021-09-02T16:19:21.237Z"
   },
   {
    "duration": 20,
    "start_time": "2021-09-02T16:19:21.282Z"
   },
   {
    "duration": 20,
    "start_time": "2021-09-02T16:19:21.304Z"
   },
   {
    "duration": 13,
    "start_time": "2021-09-02T16:19:21.326Z"
   },
   {
    "duration": 37,
    "start_time": "2021-09-02T16:19:21.341Z"
   },
   {
    "duration": 5,
    "start_time": "2021-09-02T16:19:21.381Z"
   },
   {
    "duration": 14,
    "start_time": "2021-09-02T16:19:21.388Z"
   },
   {
    "duration": 25,
    "start_time": "2021-09-02T16:19:21.404Z"
   },
   {
    "duration": 578,
    "start_time": "2021-09-02T16:19:21.430Z"
   },
   {
    "duration": 1893,
    "start_time": "2021-09-02T16:19:22.010Z"
   },
   {
    "duration": -1686,
    "start_time": "2021-09-02T16:19:25.591Z"
   },
   {
    "duration": -1702,
    "start_time": "2021-09-02T16:19:25.608Z"
   },
   {
    "duration": -1716,
    "start_time": "2021-09-02T16:19:25.623Z"
   },
   {
    "duration": -1789,
    "start_time": "2021-09-02T16:19:25.697Z"
   },
   {
    "duration": -1802,
    "start_time": "2021-09-02T16:19:25.711Z"
   },
   {
    "duration": -1816,
    "start_time": "2021-09-02T16:19:25.726Z"
   },
   {
    "duration": -1832,
    "start_time": "2021-09-02T16:19:25.743Z"
   },
   {
    "duration": -1847,
    "start_time": "2021-09-02T16:19:25.759Z"
   },
   {
    "duration": -1859,
    "start_time": "2021-09-02T16:19:25.772Z"
   },
   {
    "duration": -1875,
    "start_time": "2021-09-02T16:19:25.789Z"
   },
   {
    "duration": -1908,
    "start_time": "2021-09-02T16:19:25.823Z"
   },
   {
    "duration": -1923,
    "start_time": "2021-09-02T16:19:25.839Z"
   },
   {
    "duration": -1936,
    "start_time": "2021-09-02T16:19:25.853Z"
   },
   {
    "duration": -1952,
    "start_time": "2021-09-02T16:19:25.869Z"
   },
   {
    "duration": -1964,
    "start_time": "2021-09-02T16:19:25.882Z"
   },
   {
    "duration": -1978,
    "start_time": "2021-09-02T16:19:25.897Z"
   },
   {
    "duration": -2016,
    "start_time": "2021-09-02T16:19:25.936Z"
   },
   {
    "duration": -2030,
    "start_time": "2021-09-02T16:19:25.951Z"
   },
   {
    "duration": -2044,
    "start_time": "2021-09-02T16:19:25.966Z"
   },
   {
    "duration": -2058,
    "start_time": "2021-09-02T16:19:25.981Z"
   },
   {
    "duration": -2069,
    "start_time": "2021-09-02T16:19:25.993Z"
   },
   {
    "duration": -2083,
    "start_time": "2021-09-02T16:19:26.007Z"
   },
   {
    "duration": -2094,
    "start_time": "2021-09-02T16:19:26.019Z"
   },
   {
    "duration": -2127,
    "start_time": "2021-09-02T16:19:26.053Z"
   },
   {
    "duration": 3,
    "start_time": "2021-09-02T16:23:07.739Z"
   },
   {
    "duration": 100,
    "start_time": "2021-09-02T16:23:07.749Z"
   },
   {
    "duration": 33,
    "start_time": "2021-09-02T16:23:07.851Z"
   },
   {
    "duration": 25,
    "start_time": "2021-09-02T16:23:07.886Z"
   },
   {
    "duration": 112,
    "start_time": "2021-09-02T16:23:07.914Z"
   },
   {
    "duration": 98,
    "start_time": "2021-09-02T16:23:08.028Z"
   },
   {
    "duration": 14,
    "start_time": "2021-09-02T16:23:08.128Z"
   },
   {
    "duration": 44,
    "start_time": "2021-09-02T16:23:08.145Z"
   },
   {
    "duration": 31,
    "start_time": "2021-09-02T16:23:08.192Z"
   },
   {
    "duration": 12,
    "start_time": "2021-09-02T16:23:08.226Z"
   },
   {
    "duration": 47,
    "start_time": "2021-09-02T16:23:08.240Z"
   },
   {
    "duration": 46,
    "start_time": "2021-09-02T16:23:08.289Z"
   },
   {
    "duration": 40,
    "start_time": "2021-09-02T16:23:08.338Z"
   },
   {
    "duration": 49,
    "start_time": "2021-09-02T16:23:08.381Z"
   },
   {
    "duration": 6,
    "start_time": "2021-09-02T16:23:08.432Z"
   },
   {
    "duration": 41,
    "start_time": "2021-09-02T16:23:08.440Z"
   },
   {
    "duration": 8,
    "start_time": "2021-09-02T16:23:08.482Z"
   },
   {
    "duration": 19029,
    "start_time": "2021-09-02T16:23:08.491Z"
   },
   {
    "duration": 6,
    "start_time": "2021-09-02T16:23:27.522Z"
   },
   {
    "duration": 59,
    "start_time": "2021-09-02T16:23:27.530Z"
   },
   {
    "duration": 6,
    "start_time": "2021-09-02T16:23:27.591Z"
   },
   {
    "duration": 13,
    "start_time": "2021-09-02T16:23:27.598Z"
   },
   {
    "duration": 8,
    "start_time": "2021-09-02T16:23:27.613Z"
   },
   {
    "duration": 19,
    "start_time": "2021-09-02T16:23:27.625Z"
   },
   {
    "duration": 12,
    "start_time": "2021-09-02T16:23:27.647Z"
   },
   {
    "duration": 30,
    "start_time": "2021-09-02T16:23:27.661Z"
   },
   {
    "duration": 37,
    "start_time": "2021-09-02T16:23:27.693Z"
   },
   {
    "duration": 6,
    "start_time": "2021-09-02T16:23:27.731Z"
   },
   {
    "duration": 22,
    "start_time": "2021-09-02T16:23:27.739Z"
   },
   {
    "duration": 291,
    "start_time": "2021-09-02T16:23:27.763Z"
   },
   {
    "duration": 23,
    "start_time": "2021-09-02T16:23:28.056Z"
   },
   {
    "duration": 27,
    "start_time": "2021-09-02T16:23:28.081Z"
   },
   {
    "duration": 401,
    "start_time": "2021-09-02T16:23:28.110Z"
   },
   {
    "duration": 32,
    "start_time": "2021-09-02T16:23:28.513Z"
   },
   {
    "duration": 66,
    "start_time": "2021-09-02T16:23:28.547Z"
   },
   {
    "duration": 7,
    "start_time": "2021-09-02T16:23:28.615Z"
   },
   {
    "duration": 33,
    "start_time": "2021-09-02T16:23:28.624Z"
   },
   {
    "duration": 26,
    "start_time": "2021-09-02T16:23:28.659Z"
   },
   {
    "duration": 21,
    "start_time": "2021-09-02T16:23:28.687Z"
   },
   {
    "duration": 17,
    "start_time": "2021-09-02T16:23:28.710Z"
   },
   {
    "duration": 11,
    "start_time": "2021-09-02T16:23:28.729Z"
   },
   {
    "duration": 20,
    "start_time": "2021-09-02T16:23:28.742Z"
   },
   {
    "duration": 17,
    "start_time": "2021-09-02T16:23:28.764Z"
   },
   {
    "duration": 25,
    "start_time": "2021-09-02T16:23:28.783Z"
   },
   {
    "duration": 563,
    "start_time": "2021-09-02T16:23:28.810Z"
   },
   {
    "duration": 851,
    "start_time": "2021-09-02T16:23:29.375Z"
   },
   {
    "duration": 173,
    "start_time": "2021-09-02T16:23:30.228Z"
   },
   {
    "duration": 28,
    "start_time": "2021-09-02T16:23:30.403Z"
   },
   {
    "duration": 52,
    "start_time": "2021-09-02T16:23:30.434Z"
   },
   {
    "duration": 215,
    "start_time": "2021-09-02T16:23:30.488Z"
   },
   {
    "duration": 165,
    "start_time": "2021-09-02T16:23:30.705Z"
   },
   {
    "duration": 10,
    "start_time": "2021-09-02T16:23:30.872Z"
   },
   {
    "duration": 246,
    "start_time": "2021-09-02T16:23:30.884Z"
   },
   {
    "duration": 7,
    "start_time": "2021-09-02T16:23:31.133Z"
   },
   {
    "duration": 1681,
    "start_time": "2021-09-02T16:23:31.143Z"
   },
   {
    "duration": 460,
    "start_time": "2021-09-02T16:23:32.826Z"
   },
   {
    "duration": 211,
    "start_time": "2021-09-02T16:23:33.288Z"
   },
   {
    "duration": 434,
    "start_time": "2021-09-02T16:23:33.501Z"
   },
   {
    "duration": 403,
    "start_time": "2021-09-02T16:23:33.938Z"
   },
   {
    "duration": 194,
    "start_time": "2021-09-02T16:23:34.343Z"
   },
   {
    "duration": 390,
    "start_time": "2021-09-02T16:23:34.539Z"
   },
   {
    "duration": 222,
    "start_time": "2021-09-02T16:23:34.932Z"
   },
   {
    "duration": 10,
    "start_time": "2021-09-02T16:23:35.156Z"
   },
   {
    "duration": 1797,
    "start_time": "2021-09-02T16:23:35.176Z"
   },
   {
    "duration": 8,
    "start_time": "2021-09-02T16:23:36.974Z"
   },
   {
    "duration": 37,
    "start_time": "2021-09-02T16:23:36.984Z"
   },
   {
    "duration": 65,
    "start_time": "2021-09-02T16:23:37.023Z"
   },
   {
    "duration": 1154,
    "start_time": "2021-09-02T16:23:37.089Z"
   },
   {
    "duration": 234,
    "start_time": "2021-09-02T16:23:38.249Z"
   },
   {
    "duration": 11,
    "start_time": "2021-09-02T16:23:38.485Z"
   },
   {
    "duration": 9,
    "start_time": "2021-09-02T16:30:52.308Z"
   },
   {
    "duration": 21,
    "start_time": "2021-09-02T16:30:53.324Z"
   },
   {
    "duration": 16,
    "start_time": "2021-09-02T16:33:48.277Z"
   },
   {
    "duration": 5,
    "start_time": "2021-09-02T16:33:49.332Z"
   },
   {
    "duration": 4,
    "start_time": "2021-09-02T16:33:56.861Z"
   },
   {
    "duration": 14,
    "start_time": "2021-09-02T16:33:58.781Z"
   },
   {
    "duration": 24,
    "start_time": "2021-09-02T16:34:00.700Z"
   },
   {
    "duration": 545,
    "start_time": "2021-09-02T16:34:06.475Z"
   },
   {
    "duration": 828,
    "start_time": "2021-09-02T17:02:02.756Z"
   },
   {
    "duration": 810,
    "start_time": "2021-09-02T17:06:17.710Z"
   },
   {
    "duration": 711,
    "start_time": "2021-09-02T17:06:36.767Z"
   },
   {
    "duration": 719,
    "start_time": "2021-09-02T17:07:19.508Z"
   },
   {
    "duration": 719,
    "start_time": "2021-09-02T17:09:16.250Z"
   },
   {
    "duration": 858,
    "start_time": "2021-09-02T17:09:39.061Z"
   },
   {
    "duration": 724,
    "start_time": "2021-09-02T17:12:03.681Z"
   },
   {
    "duration": 703,
    "start_time": "2021-09-02T17:12:37.615Z"
   },
   {
    "duration": 719,
    "start_time": "2021-09-02T17:12:51.306Z"
   },
   {
    "duration": 875,
    "start_time": "2021-09-02T17:17:06.347Z"
   },
   {
    "duration": 202,
    "start_time": "2021-09-02T17:22:14.297Z"
   },
   {
    "duration": 1907,
    "start_time": "2021-09-02T17:28:07.254Z"
   },
   {
    "duration": 1640,
    "start_time": "2021-09-02T17:29:04.827Z"
   },
   {
    "duration": 508,
    "start_time": "2021-09-02T17:32:26.083Z"
   },
   {
    "duration": 208,
    "start_time": "2021-09-02T17:32:51.244Z"
   },
   {
    "duration": 413,
    "start_time": "2021-09-02T17:34:49.115Z"
   },
   {
    "duration": 381,
    "start_time": "2021-09-02T17:34:49.529Z"
   },
   {
    "duration": 384,
    "start_time": "2021-09-02T17:35:37.249Z"
   },
   {
    "duration": 402,
    "start_time": "2021-09-02T17:36:08.014Z"
   },
   {
    "duration": 410,
    "start_time": "2021-09-02T17:36:50.268Z"
   },
   {
    "duration": 412,
    "start_time": "2021-09-02T17:37:02.757Z"
   },
   {
    "duration": 192,
    "start_time": "2021-09-02T17:37:41.990Z"
   },
   {
    "duration": 400,
    "start_time": "2021-09-02T17:39:08.086Z"
   },
   {
    "duration": 217,
    "start_time": "2021-09-02T17:39:37.267Z"
   },
   {
    "duration": 274,
    "start_time": "2021-09-02T17:52:51.938Z"
   },
   {
    "duration": 403,
    "start_time": "2021-09-02T17:53:44.881Z"
   },
   {
    "duration": 605,
    "start_time": "2021-09-02T17:54:06.106Z"
   },
   {
    "duration": 99,
    "start_time": "2021-09-02T17:54:30.155Z"
   },
   {
    "duration": 95,
    "start_time": "2021-09-02T17:54:47.942Z"
   },
   {
    "duration": 464,
    "start_time": "2021-09-02T17:55:07.383Z"
   },
   {
    "duration": 388,
    "start_time": "2021-09-02T17:55:44.082Z"
   },
   {
    "duration": 380,
    "start_time": "2021-09-02T17:56:05.318Z"
   },
   {
    "duration": 240,
    "start_time": "2021-09-02T17:56:45.852Z"
   },
   {
    "duration": 246,
    "start_time": "2021-09-02T17:57:12.453Z"
   },
   {
    "duration": 280,
    "start_time": "2021-09-02T17:57:32.449Z"
   },
   {
    "duration": 225,
    "start_time": "2021-09-02T17:57:51.841Z"
   },
   {
    "duration": 222,
    "start_time": "2021-09-02T17:58:03.755Z"
   },
   {
    "duration": 219,
    "start_time": "2021-09-02T17:58:24.366Z"
   },
   {
    "duration": 172,
    "start_time": "2021-09-02T18:07:48.262Z"
   },
   {
    "duration": 202,
    "start_time": "2021-09-02T18:07:58.676Z"
   },
   {
    "duration": 269,
    "start_time": "2021-09-02T18:08:17.327Z"
   },
   {
    "duration": 226,
    "start_time": "2021-09-02T18:08:28.546Z"
   },
   {
    "duration": 231,
    "start_time": "2021-09-02T18:12:33.505Z"
   },
   {
    "duration": 233,
    "start_time": "2021-09-02T18:12:49.705Z"
   },
   {
    "duration": 411,
    "start_time": "2021-09-02T18:13:17.327Z"
   },
   {
    "duration": 241,
    "start_time": "2021-09-02T18:13:30.207Z"
   },
   {
    "duration": 234,
    "start_time": "2021-09-02T18:20:49.950Z"
   },
   {
    "duration": 650,
    "start_time": "2021-09-02T18:30:39.221Z"
   },
   {
    "duration": 273,
    "start_time": "2021-09-02T18:32:04.330Z"
   },
   {
    "duration": 283,
    "start_time": "2021-09-02T18:32:42.546Z"
   },
   {
    "duration": 282,
    "start_time": "2021-09-02T18:33:03.561Z"
   },
   {
    "duration": 254,
    "start_time": "2021-09-02T18:34:14.479Z"
   },
   {
    "duration": 245,
    "start_time": "2021-09-02T18:34:27.027Z"
   },
   {
    "duration": 1989,
    "start_time": "2021-09-02T18:36:30.129Z"
   },
   {
    "duration": 231,
    "start_time": "2021-09-02T18:36:58.332Z"
   },
   {
    "duration": 241,
    "start_time": "2021-09-02T18:37:17.750Z"
   },
   {
    "duration": 235,
    "start_time": "2021-09-02T18:37:37.891Z"
   },
   {
    "duration": 236,
    "start_time": "2021-09-02T18:37:52.854Z"
   },
   {
    "duration": 996,
    "start_time": "2021-09-02T18:39:40.158Z"
   },
   {
    "duration": 271,
    "start_time": "2021-09-02T18:43:42.180Z"
   },
   {
    "duration": 239,
    "start_time": "2021-09-02T18:45:17.542Z"
   },
   {
    "duration": 1817,
    "start_time": "2021-09-02T18:45:49.609Z"
   },
   {
    "duration": 254,
    "start_time": "2021-09-02T18:46:04.042Z"
   },
   {
    "duration": 192,
    "start_time": "2021-09-02T18:50:01.740Z"
   },
   {
    "duration": 297,
    "start_time": "2021-09-02T18:50:19.720Z"
   },
   {
    "duration": 193,
    "start_time": "2021-09-02T18:51:01.699Z"
   },
   {
    "duration": 195,
    "start_time": "2021-09-02T18:52:45.421Z"
   },
   {
    "duration": 9,
    "start_time": "2021-09-02T18:54:33.281Z"
   },
   {
    "duration": 1465,
    "start_time": "2021-09-02T18:54:34.399Z"
   },
   {
    "duration": 7,
    "start_time": "2021-09-02T18:54:46.673Z"
   },
   {
    "duration": 33,
    "start_time": "2021-09-02T18:54:48.000Z"
   },
   {
    "duration": 33,
    "start_time": "2021-09-02T18:54:56.483Z"
   },
   {
    "duration": 1316,
    "start_time": "2021-09-02T18:55:05.843Z"
   },
   {
    "duration": 217,
    "start_time": "2021-09-02T18:55:13.590Z"
   },
   {
    "duration": 12,
    "start_time": "2021-09-02T18:55:18.738Z"
   },
   {
    "duration": 1499,
    "start_time": "2021-09-02T18:56:27.879Z"
   },
   {
    "duration": 739,
    "start_time": "2021-09-02T18:58:10.159Z"
   },
   {
    "duration": 1176,
    "start_time": "2021-09-02T18:58:36.680Z"
   },
   {
    "duration": 1068,
    "start_time": "2021-09-02T18:59:43.292Z"
   },
   {
    "duration": 1352,
    "start_time": "2021-09-02T19:00:33.027Z"
   },
   {
    "duration": 1115,
    "start_time": "2021-09-02T19:02:25.519Z"
   },
   {
    "duration": 1395,
    "start_time": "2021-09-02T19:03:39.413Z"
   },
   {
    "duration": 1189,
    "start_time": "2021-09-02T19:04:25.121Z"
   },
   {
    "duration": 1090,
    "start_time": "2021-09-02T19:05:18.681Z"
   },
   {
    "duration": 640,
    "start_time": "2021-09-02T19:06:53.993Z"
   },
   {
    "duration": 1081,
    "start_time": "2021-09-02T19:07:23.608Z"
   },
   {
    "duration": 1127,
    "start_time": "2021-09-02T19:08:28.600Z"
   },
   {
    "duration": 1493,
    "start_time": "2021-09-02T19:08:47.875Z"
   },
   {
    "duration": 1269,
    "start_time": "2021-09-02T19:10:33.175Z"
   },
   {
    "duration": 1115,
    "start_time": "2021-09-02T19:12:04.507Z"
   },
   {
    "duration": 1111,
    "start_time": "2021-09-02T19:12:18.869Z"
   },
   {
    "duration": 1266,
    "start_time": "2021-09-02T19:12:36.659Z"
   },
   {
    "duration": 404,
    "start_time": "2021-09-02T19:13:36.275Z"
   },
   {
    "duration": 3,
    "start_time": "2021-09-02T19:29:25.808Z"
   },
   {
    "duration": 99,
    "start_time": "2021-09-02T19:29:25.817Z"
   },
   {
    "duration": 23,
    "start_time": "2021-09-02T19:29:25.918Z"
   },
   {
    "duration": 48,
    "start_time": "2021-09-02T19:29:25.943Z"
   },
   {
    "duration": 86,
    "start_time": "2021-09-02T19:29:25.993Z"
   },
   {
    "duration": 66,
    "start_time": "2021-09-02T19:29:26.081Z"
   },
   {
    "duration": 34,
    "start_time": "2021-09-02T19:29:26.149Z"
   },
   {
    "duration": 13,
    "start_time": "2021-09-02T19:29:26.185Z"
   },
   {
    "duration": 37,
    "start_time": "2021-09-02T19:29:26.201Z"
   },
   {
    "duration": 8,
    "start_time": "2021-09-02T19:29:26.241Z"
   },
   {
    "duration": 34,
    "start_time": "2021-09-02T19:29:26.251Z"
   },
   {
    "duration": 42,
    "start_time": "2021-09-02T19:29:26.286Z"
   },
   {
    "duration": 7,
    "start_time": "2021-09-02T19:29:26.329Z"
   },
   {
    "duration": 73,
    "start_time": "2021-09-02T19:29:26.337Z"
   },
   {
    "duration": 5,
    "start_time": "2021-09-02T19:29:26.411Z"
   },
   {
    "duration": 7,
    "start_time": "2021-09-02T19:29:26.418Z"
   },
   {
    "duration": 8,
    "start_time": "2021-09-02T19:29:26.427Z"
   },
   {
    "duration": 18755,
    "start_time": "2021-09-02T19:29:26.437Z"
   },
   {
    "duration": 6,
    "start_time": "2021-09-02T19:29:45.194Z"
   },
   {
    "duration": 46,
    "start_time": "2021-09-02T19:29:45.202Z"
   },
   {
    "duration": 6,
    "start_time": "2021-09-02T19:29:45.249Z"
   },
   {
    "duration": 7,
    "start_time": "2021-09-02T19:29:45.275Z"
   },
   {
    "duration": 5,
    "start_time": "2021-09-02T19:29:45.283Z"
   },
   {
    "duration": 8,
    "start_time": "2021-09-02T19:29:45.292Z"
   },
   {
    "duration": 4,
    "start_time": "2021-09-02T19:29:45.303Z"
   },
   {
    "duration": 20,
    "start_time": "2021-09-02T19:29:45.309Z"
   },
   {
    "duration": 70,
    "start_time": "2021-09-02T19:29:45.330Z"
   },
   {
    "duration": 7,
    "start_time": "2021-09-02T19:29:45.401Z"
   },
   {
    "duration": 8,
    "start_time": "2021-09-02T19:29:45.409Z"
   },
   {
    "duration": 286,
    "start_time": "2021-09-02T19:29:45.419Z"
   },
   {
    "duration": 13,
    "start_time": "2021-09-02T19:29:45.707Z"
   },
   {
    "duration": 25,
    "start_time": "2021-09-02T19:29:45.722Z"
   },
   {
    "duration": 295,
    "start_time": "2021-09-02T19:29:45.748Z"
   },
   {
    "duration": 35,
    "start_time": "2021-09-02T19:29:46.045Z"
   },
   {
    "duration": 45,
    "start_time": "2021-09-02T19:29:46.082Z"
   },
   {
    "duration": 7,
    "start_time": "2021-09-02T19:29:46.129Z"
   },
   {
    "duration": 44,
    "start_time": "2021-09-02T19:29:46.138Z"
   },
   {
    "duration": 14,
    "start_time": "2021-09-02T19:29:46.184Z"
   },
   {
    "duration": 17,
    "start_time": "2021-09-02T19:29:46.200Z"
   },
   {
    "duration": 13,
    "start_time": "2021-09-02T19:29:46.219Z"
   },
   {
    "duration": 8,
    "start_time": "2021-09-02T19:29:46.234Z"
   },
   {
    "duration": 35,
    "start_time": "2021-09-02T19:29:46.244Z"
   },
   {
    "duration": 12,
    "start_time": "2021-09-02T19:29:46.281Z"
   },
   {
    "duration": 23,
    "start_time": "2021-09-02T19:29:46.295Z"
   },
   {
    "duration": 1396,
    "start_time": "2021-09-02T19:29:46.320Z"
   },
   {
    "duration": 748,
    "start_time": "2021-09-02T19:29:47.719Z"
   },
   {
    "duration": 152,
    "start_time": "2021-09-02T19:29:48.469Z"
   },
   {
    "duration": 26,
    "start_time": "2021-09-02T19:29:48.623Z"
   },
   {
    "duration": 44,
    "start_time": "2021-09-02T19:29:48.650Z"
   },
   {
    "duration": 211,
    "start_time": "2021-09-02T19:29:48.696Z"
   },
   {
    "duration": 149,
    "start_time": "2021-09-02T19:29:48.908Z"
   },
   {
    "duration": 6,
    "start_time": "2021-09-02T19:29:49.058Z"
   },
   {
    "duration": 143,
    "start_time": "2021-09-02T19:29:49.077Z"
   },
   {
    "duration": 6,
    "start_time": "2021-09-02T19:29:49.221Z"
   },
   {
    "duration": 1683,
    "start_time": "2021-09-02T19:29:49.228Z"
   },
   {
    "duration": 268,
    "start_time": "2021-09-02T19:29:50.913Z"
   },
   {
    "duration": 218,
    "start_time": "2021-09-02T19:29:51.183Z"
   },
   {
    "duration": 210,
    "start_time": "2021-09-02T19:29:51.403Z"
   },
   {
    "duration": 363,
    "start_time": "2021-09-02T19:29:51.615Z"
   },
   {
    "duration": 504,
    "start_time": "2021-09-02T19:29:51.980Z"
   },
   {
    "duration": 420,
    "start_time": "2021-09-02T19:29:52.486Z"
   },
   {
    "duration": 194,
    "start_time": "2021-09-02T19:29:52.908Z"
   },
   {
    "duration": 703,
    "start_time": "2021-09-02T19:29:53.104Z"
   },
   {
    "duration": 224,
    "start_time": "2021-09-02T19:29:53.809Z"
   },
   {
    "duration": 9,
    "start_time": "2021-09-02T19:29:54.035Z"
   },
   {
    "duration": 1482,
    "start_time": "2021-09-02T19:29:54.046Z"
   },
   {
    "duration": 7,
    "start_time": "2021-09-02T19:29:55.530Z"
   },
   {
    "duration": 49,
    "start_time": "2021-09-02T19:29:55.539Z"
   },
   {
    "duration": 33,
    "start_time": "2021-09-02T19:29:55.593Z"
   },
   {
    "duration": 1431,
    "start_time": "2021-09-02T19:29:55.628Z"
   },
   {
    "duration": 392,
    "start_time": "2021-09-02T19:29:57.061Z"
   },
   {
    "duration": 24,
    "start_time": "2021-09-02T19:29:57.455Z"
   }
  ],
  "kernelspec": {
   "display_name": "Python 3",
   "language": "python",
   "name": "python3"
  },
  "language_info": {
   "codemirror_mode": {
    "name": "ipython",
    "version": 3
   },
   "file_extension": ".py",
   "mimetype": "text/x-python",
   "name": "python",
   "nbconvert_exporter": "python",
   "pygments_lexer": "ipython3",
   "version": "3.8.8"
  },
  "toc": {
   "base_numbering": 1,
   "nav_menu": {},
   "number_sections": true,
   "sideBar": true,
   "skip_h1_title": true,
   "title_cell": "Содержание",
   "title_sidebar": "Contents",
   "toc_cell": true,
   "toc_position": {},
   "toc_section_display": true,
   "toc_window_display": true
  }
 },
 "nbformat": 4,
 "nbformat_minor": 2
}
