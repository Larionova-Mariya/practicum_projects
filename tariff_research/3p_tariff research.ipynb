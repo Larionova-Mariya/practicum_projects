{
 "cells": [
  {
   "cell_type": "markdown",
   "metadata": {},
   "source": [
    "# Определение перспективного тарифа для телеком компании\n",
    "Компания «Мегалайн» — федерального оператора сотовой связи, предлагает клиентам два тарифных плана: «Смарт» и «Ультра». Чтобы скорректировать рекламный бюджет, коммерческий департамент хочет понять, какой тариф приносит больше денег.\n",
    "Нужно сделать предварительный анализ тарифов на небольшой выборке клиентов. Есть данные 500 пользователей «Мегалайна»: кто они, откуда, каким тарифом пользуются, сколько звонков и сообщений каждый отправил за 2018 год. \n",
    "\n",
    "Нужно проанализировать поведение клиентов и сделать вывод — какой тариф лучше.\n",
    "\n",
    "\n",
    "Шаг 1. Изучение данных\n",
    "    \n",
    "Шаг 2. Подготовка данных\n",
    "    \n",
    "Шаг 3. Анализ данных\n",
    "    \n",
    "Шаг 4. Проверка гипотез\n",
    "    \n",
    "Шаг 5. Общий вывод"
   ]
  },
  {
   "cell_type": "code",
   "execution_count": 1,
   "metadata": {},
   "outputs": [],
   "source": [
    "import pandas as pd\n",
    "import math\n",
    "import numpy as np\n",
    "import matplotlib.pyplot as plt\n",
    "from scipy import stats as st\n",
    "import seaborn as sns"
   ]
  },
  {
   "cell_type": "markdown",
   "metadata": {},
   "source": [
    "# Шаг 1. Изучение данных"
   ]
  },
  {
   "cell_type": "code",
   "execution_count": 2,
   "metadata": {},
   "outputs": [],
   "source": [
    "calls = pd.read_csv('/datasets/calls.csv')\n",
    "internet = pd.read_csv('/datasets/internet.csv')\n",
    "messages = pd.read_csv('/datasets/messages.csv')\n",
    "tariffs = pd.read_csv('/datasets/tariffs.csv')\n",
    "users = pd.read_csv('/datasets/users.csv')"
   ]
  },
  {
   "cell_type": "code",
   "execution_count": 3,
   "metadata": {},
   "outputs": [
    {
     "name": "stdout",
     "output_type": "stream",
     "text": [
      "<class 'pandas.core.frame.DataFrame'>\n",
      "RangeIndex: 202607 entries, 0 to 202606\n",
      "Data columns (total 4 columns):\n",
      "id           202607 non-null object\n",
      "call_date    202607 non-null object\n",
      "duration     202607 non-null float64\n",
      "user_id      202607 non-null int64\n",
      "dtypes: float64(1), int64(1), object(2)\n",
      "memory usage: 6.2+ MB\n"
     ]
    },
    {
     "data": {
      "text/plain": [
       "None"
      ]
     },
     "metadata": {},
     "output_type": "display_data"
    },
    {
     "data": {
      "text/html": [
       "<div>\n",
       "<style scoped>\n",
       "    .dataframe tbody tr th:only-of-type {\n",
       "        vertical-align: middle;\n",
       "    }\n",
       "\n",
       "    .dataframe tbody tr th {\n",
       "        vertical-align: top;\n",
       "    }\n",
       "\n",
       "    .dataframe thead th {\n",
       "        text-align: right;\n",
       "    }\n",
       "</style>\n",
       "<table border=\"1\" class=\"dataframe\">\n",
       "  <thead>\n",
       "    <tr style=\"text-align: right;\">\n",
       "      <th></th>\n",
       "      <th>id</th>\n",
       "      <th>call_date</th>\n",
       "      <th>duration</th>\n",
       "      <th>user_id</th>\n",
       "    </tr>\n",
       "  </thead>\n",
       "  <tbody>\n",
       "    <tr>\n",
       "      <td>0</td>\n",
       "      <td>1000_0</td>\n",
       "      <td>2018-07-25</td>\n",
       "      <td>0.00</td>\n",
       "      <td>1000</td>\n",
       "    </tr>\n",
       "    <tr>\n",
       "      <td>1</td>\n",
       "      <td>1000_1</td>\n",
       "      <td>2018-08-17</td>\n",
       "      <td>0.00</td>\n",
       "      <td>1000</td>\n",
       "    </tr>\n",
       "    <tr>\n",
       "      <td>2</td>\n",
       "      <td>1000_2</td>\n",
       "      <td>2018-06-11</td>\n",
       "      <td>2.85</td>\n",
       "      <td>1000</td>\n",
       "    </tr>\n",
       "    <tr>\n",
       "      <td>3</td>\n",
       "      <td>1000_3</td>\n",
       "      <td>2018-09-21</td>\n",
       "      <td>13.80</td>\n",
       "      <td>1000</td>\n",
       "    </tr>\n",
       "    <tr>\n",
       "      <td>4</td>\n",
       "      <td>1000_4</td>\n",
       "      <td>2018-12-15</td>\n",
       "      <td>5.18</td>\n",
       "      <td>1000</td>\n",
       "    </tr>\n",
       "    <tr>\n",
       "      <td>5</td>\n",
       "      <td>1000_5</td>\n",
       "      <td>2018-11-02</td>\n",
       "      <td>0.00</td>\n",
       "      <td>1000</td>\n",
       "    </tr>\n",
       "    <tr>\n",
       "      <td>6</td>\n",
       "      <td>1000_6</td>\n",
       "      <td>2018-10-18</td>\n",
       "      <td>0.00</td>\n",
       "      <td>1000</td>\n",
       "    </tr>\n",
       "    <tr>\n",
       "      <td>7</td>\n",
       "      <td>1000_7</td>\n",
       "      <td>2018-08-22</td>\n",
       "      <td>18.31</td>\n",
       "      <td>1000</td>\n",
       "    </tr>\n",
       "    <tr>\n",
       "      <td>8</td>\n",
       "      <td>1000_8</td>\n",
       "      <td>2018-09-15</td>\n",
       "      <td>18.44</td>\n",
       "      <td>1000</td>\n",
       "    </tr>\n",
       "    <tr>\n",
       "      <td>9</td>\n",
       "      <td>1000_9</td>\n",
       "      <td>2018-08-15</td>\n",
       "      <td>0.00</td>\n",
       "      <td>1000</td>\n",
       "    </tr>\n",
       "  </tbody>\n",
       "</table>\n",
       "</div>"
      ],
      "text/plain": [
       "       id   call_date  duration  user_id\n",
       "0  1000_0  2018-07-25      0.00     1000\n",
       "1  1000_1  2018-08-17      0.00     1000\n",
       "2  1000_2  2018-06-11      2.85     1000\n",
       "3  1000_3  2018-09-21     13.80     1000\n",
       "4  1000_4  2018-12-15      5.18     1000\n",
       "5  1000_5  2018-11-02      0.00     1000\n",
       "6  1000_6  2018-10-18      0.00     1000\n",
       "7  1000_7  2018-08-22     18.31     1000\n",
       "8  1000_8  2018-09-15     18.44     1000\n",
       "9  1000_9  2018-08-15      0.00     1000"
      ]
     },
     "metadata": {},
     "output_type": "display_data"
    },
    {
     "data": {
      "text/html": [
       "<div>\n",
       "<style scoped>\n",
       "    .dataframe tbody tr th:only-of-type {\n",
       "        vertical-align: middle;\n",
       "    }\n",
       "\n",
       "    .dataframe tbody tr th {\n",
       "        vertical-align: top;\n",
       "    }\n",
       "\n",
       "    .dataframe thead th {\n",
       "        text-align: right;\n",
       "    }\n",
       "</style>\n",
       "<table border=\"1\" class=\"dataframe\">\n",
       "  <thead>\n",
       "    <tr style=\"text-align: right;\">\n",
       "      <th></th>\n",
       "      <th>id</th>\n",
       "      <th>call_date</th>\n",
       "      <th>duration</th>\n",
       "      <th>user_id</th>\n",
       "    </tr>\n",
       "  </thead>\n",
       "  <tbody>\n",
       "    <tr>\n",
       "      <td>202597</td>\n",
       "      <td>1499_210</td>\n",
       "      <td>2018-10-02</td>\n",
       "      <td>8.86</td>\n",
       "      <td>1499</td>\n",
       "    </tr>\n",
       "    <tr>\n",
       "      <td>202598</td>\n",
       "      <td>1499_211</td>\n",
       "      <td>2018-12-29</td>\n",
       "      <td>4.58</td>\n",
       "      <td>1499</td>\n",
       "    </tr>\n",
       "    <tr>\n",
       "      <td>202599</td>\n",
       "      <td>1499_212</td>\n",
       "      <td>2018-12-30</td>\n",
       "      <td>1.35</td>\n",
       "      <td>1499</td>\n",
       "    </tr>\n",
       "    <tr>\n",
       "      <td>202600</td>\n",
       "      <td>1499_213</td>\n",
       "      <td>2018-10-17</td>\n",
       "      <td>10.77</td>\n",
       "      <td>1499</td>\n",
       "    </tr>\n",
       "    <tr>\n",
       "      <td>202601</td>\n",
       "      <td>1499_214</td>\n",
       "      <td>2018-12-05</td>\n",
       "      <td>2.42</td>\n",
       "      <td>1499</td>\n",
       "    </tr>\n",
       "    <tr>\n",
       "      <td>202602</td>\n",
       "      <td>1499_215</td>\n",
       "      <td>2018-12-26</td>\n",
       "      <td>0.76</td>\n",
       "      <td>1499</td>\n",
       "    </tr>\n",
       "    <tr>\n",
       "      <td>202603</td>\n",
       "      <td>1499_216</td>\n",
       "      <td>2018-10-18</td>\n",
       "      <td>18.83</td>\n",
       "      <td>1499</td>\n",
       "    </tr>\n",
       "    <tr>\n",
       "      <td>202604</td>\n",
       "      <td>1499_217</td>\n",
       "      <td>2018-11-10</td>\n",
       "      <td>10.81</td>\n",
       "      <td>1499</td>\n",
       "    </tr>\n",
       "    <tr>\n",
       "      <td>202605</td>\n",
       "      <td>1499_218</td>\n",
       "      <td>2018-10-06</td>\n",
       "      <td>4.27</td>\n",
       "      <td>1499</td>\n",
       "    </tr>\n",
       "    <tr>\n",
       "      <td>202606</td>\n",
       "      <td>1499_219</td>\n",
       "      <td>2018-12-14</td>\n",
       "      <td>19.62</td>\n",
       "      <td>1499</td>\n",
       "    </tr>\n",
       "  </tbody>\n",
       "</table>\n",
       "</div>"
      ],
      "text/plain": [
       "              id   call_date  duration  user_id\n",
       "202597  1499_210  2018-10-02      8.86     1499\n",
       "202598  1499_211  2018-12-29      4.58     1499\n",
       "202599  1499_212  2018-12-30      1.35     1499\n",
       "202600  1499_213  2018-10-17     10.77     1499\n",
       "202601  1499_214  2018-12-05      2.42     1499\n",
       "202602  1499_215  2018-12-26      0.76     1499\n",
       "202603  1499_216  2018-10-18     18.83     1499\n",
       "202604  1499_217  2018-11-10     10.81     1499\n",
       "202605  1499_218  2018-10-06      4.27     1499\n",
       "202606  1499_219  2018-12-14     19.62     1499"
      ]
     },
     "metadata": {},
     "output_type": "display_data"
    },
    {
     "data": {
      "text/html": [
       "<div>\n",
       "<style scoped>\n",
       "    .dataframe tbody tr th:only-of-type {\n",
       "        vertical-align: middle;\n",
       "    }\n",
       "\n",
       "    .dataframe tbody tr th {\n",
       "        vertical-align: top;\n",
       "    }\n",
       "\n",
       "    .dataframe thead th {\n",
       "        text-align: right;\n",
       "    }\n",
       "</style>\n",
       "<table border=\"1\" class=\"dataframe\">\n",
       "  <thead>\n",
       "    <tr style=\"text-align: right;\">\n",
       "      <th></th>\n",
       "      <th>id</th>\n",
       "      <th>call_date</th>\n",
       "      <th>duration</th>\n",
       "      <th>user_id</th>\n",
       "    </tr>\n",
       "  </thead>\n",
       "  <tbody>\n",
       "    <tr>\n",
       "      <td>194585</td>\n",
       "      <td>1477_333</td>\n",
       "      <td>2018-08-06</td>\n",
       "      <td>0.00</td>\n",
       "      <td>1477</td>\n",
       "    </tr>\n",
       "    <tr>\n",
       "      <td>3983</td>\n",
       "      <td>1011_77</td>\n",
       "      <td>2018-05-04</td>\n",
       "      <td>14.47</td>\n",
       "      <td>1011</td>\n",
       "    </tr>\n",
       "    <tr>\n",
       "      <td>47203</td>\n",
       "      <td>1118_492</td>\n",
       "      <td>2018-05-17</td>\n",
       "      <td>11.55</td>\n",
       "      <td>1118</td>\n",
       "    </tr>\n",
       "    <tr>\n",
       "      <td>126487</td>\n",
       "      <td>1324_620</td>\n",
       "      <td>2018-10-01</td>\n",
       "      <td>3.11</td>\n",
       "      <td>1324</td>\n",
       "    </tr>\n",
       "    <tr>\n",
       "      <td>180829</td>\n",
       "      <td>1453_21</td>\n",
       "      <td>2018-09-18</td>\n",
       "      <td>1.47</td>\n",
       "      <td>1453</td>\n",
       "    </tr>\n",
       "    <tr>\n",
       "      <td>32822</td>\n",
       "      <td>1081_67</td>\n",
       "      <td>2018-05-04</td>\n",
       "      <td>0.00</td>\n",
       "      <td>1081</td>\n",
       "    </tr>\n",
       "    <tr>\n",
       "      <td>84981</td>\n",
       "      <td>1213_27</td>\n",
       "      <td>2018-10-28</td>\n",
       "      <td>4.98</td>\n",
       "      <td>1213</td>\n",
       "    </tr>\n",
       "    <tr>\n",
       "      <td>41925</td>\n",
       "      <td>1102_352</td>\n",
       "      <td>2018-07-11</td>\n",
       "      <td>3.11</td>\n",
       "      <td>1102</td>\n",
       "    </tr>\n",
       "    <tr>\n",
       "      <td>171056</td>\n",
       "      <td>1423_27</td>\n",
       "      <td>2018-12-10</td>\n",
       "      <td>0.00</td>\n",
       "      <td>1423</td>\n",
       "    </tr>\n",
       "    <tr>\n",
       "      <td>108728</td>\n",
       "      <td>1281_161</td>\n",
       "      <td>2018-09-12</td>\n",
       "      <td>0.00</td>\n",
       "      <td>1281</td>\n",
       "    </tr>\n",
       "  </tbody>\n",
       "</table>\n",
       "</div>"
      ],
      "text/plain": [
       "              id   call_date  duration  user_id\n",
       "194585  1477_333  2018-08-06      0.00     1477\n",
       "3983     1011_77  2018-05-04     14.47     1011\n",
       "47203   1118_492  2018-05-17     11.55     1118\n",
       "126487  1324_620  2018-10-01      3.11     1324\n",
       "180829   1453_21  2018-09-18      1.47     1453\n",
       "32822    1081_67  2018-05-04      0.00     1081\n",
       "84981    1213_27  2018-10-28      4.98     1213\n",
       "41925   1102_352  2018-07-11      3.11     1102\n",
       "171056   1423_27  2018-12-10      0.00     1423\n",
       "108728  1281_161  2018-09-12      0.00     1281"
      ]
     },
     "metadata": {},
     "output_type": "display_data"
    },
    {
     "data": {
      "text/html": [
       "<div>\n",
       "<style scoped>\n",
       "    .dataframe tbody tr th:only-of-type {\n",
       "        vertical-align: middle;\n",
       "    }\n",
       "\n",
       "    .dataframe tbody tr th {\n",
       "        vertical-align: top;\n",
       "    }\n",
       "\n",
       "    .dataframe thead th {\n",
       "        text-align: right;\n",
       "    }\n",
       "</style>\n",
       "<table border=\"1\" class=\"dataframe\">\n",
       "  <thead>\n",
       "    <tr style=\"text-align: right;\">\n",
       "      <th></th>\n",
       "      <th>duration</th>\n",
       "      <th>user_id</th>\n",
       "    </tr>\n",
       "  </thead>\n",
       "  <tbody>\n",
       "    <tr>\n",
       "      <td>count</td>\n",
       "      <td>202607.000000</td>\n",
       "      <td>202607.000000</td>\n",
       "    </tr>\n",
       "    <tr>\n",
       "      <td>mean</td>\n",
       "      <td>6.755887</td>\n",
       "      <td>1253.940619</td>\n",
       "    </tr>\n",
       "    <tr>\n",
       "      <td>std</td>\n",
       "      <td>5.843365</td>\n",
       "      <td>144.722751</td>\n",
       "    </tr>\n",
       "    <tr>\n",
       "      <td>min</td>\n",
       "      <td>0.000000</td>\n",
       "      <td>1000.000000</td>\n",
       "    </tr>\n",
       "    <tr>\n",
       "      <td>25%</td>\n",
       "      <td>1.300000</td>\n",
       "      <td>1126.000000</td>\n",
       "    </tr>\n",
       "    <tr>\n",
       "      <td>50%</td>\n",
       "      <td>6.000000</td>\n",
       "      <td>1260.000000</td>\n",
       "    </tr>\n",
       "    <tr>\n",
       "      <td>75%</td>\n",
       "      <td>10.700000</td>\n",
       "      <td>1379.000000</td>\n",
       "    </tr>\n",
       "    <tr>\n",
       "      <td>max</td>\n",
       "      <td>38.000000</td>\n",
       "      <td>1499.000000</td>\n",
       "    </tr>\n",
       "  </tbody>\n",
       "</table>\n",
       "</div>"
      ],
      "text/plain": [
       "            duration        user_id\n",
       "count  202607.000000  202607.000000\n",
       "mean        6.755887    1253.940619\n",
       "std         5.843365     144.722751\n",
       "min         0.000000    1000.000000\n",
       "25%         1.300000    1126.000000\n",
       "50%         6.000000    1260.000000\n",
       "75%        10.700000    1379.000000\n",
       "max        38.000000    1499.000000"
      ]
     },
     "metadata": {},
     "output_type": "display_data"
    }
   ],
   "source": [
    "display(calls.info())\n",
    "display(calls.head(10))\n",
    "display(calls.tail(10))\n",
    "display(calls.sample(10))\n",
    "display(calls.describe())"
   ]
  },
  {
   "cell_type": "markdown",
   "metadata": {},
   "source": [
    "В таблице calls нет пропущенных значений.\n",
    "\n",
    "Нужно поменять тип данных в столбце call_date на datetime."
   ]
  },
  {
   "cell_type": "code",
   "execution_count": 4,
   "metadata": {},
   "outputs": [
    {
     "name": "stdout",
     "output_type": "stream",
     "text": [
      "<class 'pandas.core.frame.DataFrame'>\n",
      "RangeIndex: 149396 entries, 0 to 149395\n",
      "Data columns (total 5 columns):\n",
      "Unnamed: 0      149396 non-null int64\n",
      "id              149396 non-null object\n",
      "mb_used         149396 non-null float64\n",
      "session_date    149396 non-null object\n",
      "user_id         149396 non-null int64\n",
      "dtypes: float64(1), int64(2), object(2)\n",
      "memory usage: 5.7+ MB\n"
     ]
    },
    {
     "data": {
      "text/plain": [
       "None"
      ]
     },
     "metadata": {},
     "output_type": "display_data"
    },
    {
     "data": {
      "text/html": [
       "<div>\n",
       "<style scoped>\n",
       "    .dataframe tbody tr th:only-of-type {\n",
       "        vertical-align: middle;\n",
       "    }\n",
       "\n",
       "    .dataframe tbody tr th {\n",
       "        vertical-align: top;\n",
       "    }\n",
       "\n",
       "    .dataframe thead th {\n",
       "        text-align: right;\n",
       "    }\n",
       "</style>\n",
       "<table border=\"1\" class=\"dataframe\">\n",
       "  <thead>\n",
       "    <tr style=\"text-align: right;\">\n",
       "      <th></th>\n",
       "      <th>Unnamed: 0</th>\n",
       "      <th>id</th>\n",
       "      <th>mb_used</th>\n",
       "      <th>session_date</th>\n",
       "      <th>user_id</th>\n",
       "    </tr>\n",
       "  </thead>\n",
       "  <tbody>\n",
       "    <tr>\n",
       "      <td>0</td>\n",
       "      <td>0</td>\n",
       "      <td>1000_0</td>\n",
       "      <td>112.95</td>\n",
       "      <td>2018-11-25</td>\n",
       "      <td>1000</td>\n",
       "    </tr>\n",
       "    <tr>\n",
       "      <td>1</td>\n",
       "      <td>1</td>\n",
       "      <td>1000_1</td>\n",
       "      <td>1052.81</td>\n",
       "      <td>2018-09-07</td>\n",
       "      <td>1000</td>\n",
       "    </tr>\n",
       "    <tr>\n",
       "      <td>2</td>\n",
       "      <td>2</td>\n",
       "      <td>1000_2</td>\n",
       "      <td>1197.26</td>\n",
       "      <td>2018-06-25</td>\n",
       "      <td>1000</td>\n",
       "    </tr>\n",
       "    <tr>\n",
       "      <td>3</td>\n",
       "      <td>3</td>\n",
       "      <td>1000_3</td>\n",
       "      <td>550.27</td>\n",
       "      <td>2018-08-22</td>\n",
       "      <td>1000</td>\n",
       "    </tr>\n",
       "    <tr>\n",
       "      <td>4</td>\n",
       "      <td>4</td>\n",
       "      <td>1000_4</td>\n",
       "      <td>302.56</td>\n",
       "      <td>2018-09-24</td>\n",
       "      <td>1000</td>\n",
       "    </tr>\n",
       "    <tr>\n",
       "      <td>5</td>\n",
       "      <td>5</td>\n",
       "      <td>1000_5</td>\n",
       "      <td>399.97</td>\n",
       "      <td>2018-10-02</td>\n",
       "      <td>1000</td>\n",
       "    </tr>\n",
       "    <tr>\n",
       "      <td>6</td>\n",
       "      <td>6</td>\n",
       "      <td>1000_6</td>\n",
       "      <td>540.08</td>\n",
       "      <td>2018-09-07</td>\n",
       "      <td>1000</td>\n",
       "    </tr>\n",
       "    <tr>\n",
       "      <td>7</td>\n",
       "      <td>7</td>\n",
       "      <td>1000_7</td>\n",
       "      <td>415.70</td>\n",
       "      <td>2018-07-11</td>\n",
       "      <td>1000</td>\n",
       "    </tr>\n",
       "    <tr>\n",
       "      <td>8</td>\n",
       "      <td>8</td>\n",
       "      <td>1000_8</td>\n",
       "      <td>505.40</td>\n",
       "      <td>2018-10-08</td>\n",
       "      <td>1000</td>\n",
       "    </tr>\n",
       "    <tr>\n",
       "      <td>9</td>\n",
       "      <td>9</td>\n",
       "      <td>1000_9</td>\n",
       "      <td>345.54</td>\n",
       "      <td>2018-09-03</td>\n",
       "      <td>1000</td>\n",
       "    </tr>\n",
       "  </tbody>\n",
       "</table>\n",
       "</div>"
      ],
      "text/plain": [
       "   Unnamed: 0      id  mb_used session_date  user_id\n",
       "0           0  1000_0   112.95   2018-11-25     1000\n",
       "1           1  1000_1  1052.81   2018-09-07     1000\n",
       "2           2  1000_2  1197.26   2018-06-25     1000\n",
       "3           3  1000_3   550.27   2018-08-22     1000\n",
       "4           4  1000_4   302.56   2018-09-24     1000\n",
       "5           5  1000_5   399.97   2018-10-02     1000\n",
       "6           6  1000_6   540.08   2018-09-07     1000\n",
       "7           7  1000_7   415.70   2018-07-11     1000\n",
       "8           8  1000_8   505.40   2018-10-08     1000\n",
       "9           9  1000_9   345.54   2018-09-03     1000"
      ]
     },
     "metadata": {},
     "output_type": "display_data"
    },
    {
     "data": {
      "text/html": [
       "<div>\n",
       "<style scoped>\n",
       "    .dataframe tbody tr th:only-of-type {\n",
       "        vertical-align: middle;\n",
       "    }\n",
       "\n",
       "    .dataframe tbody tr th {\n",
       "        vertical-align: top;\n",
       "    }\n",
       "\n",
       "    .dataframe thead th {\n",
       "        text-align: right;\n",
       "    }\n",
       "</style>\n",
       "<table border=\"1\" class=\"dataframe\">\n",
       "  <thead>\n",
       "    <tr style=\"text-align: right;\">\n",
       "      <th></th>\n",
       "      <th>Unnamed: 0</th>\n",
       "      <th>id</th>\n",
       "      <th>mb_used</th>\n",
       "      <th>session_date</th>\n",
       "      <th>user_id</th>\n",
       "    </tr>\n",
       "  </thead>\n",
       "  <tbody>\n",
       "    <tr>\n",
       "      <td>149386</td>\n",
       "      <td>149386</td>\n",
       "      <td>1499_147</td>\n",
       "      <td>0.00</td>\n",
       "      <td>2018-10-21</td>\n",
       "      <td>1499</td>\n",
       "    </tr>\n",
       "    <tr>\n",
       "      <td>149387</td>\n",
       "      <td>149387</td>\n",
       "      <td>1499_148</td>\n",
       "      <td>268.19</td>\n",
       "      <td>2018-11-13</td>\n",
       "      <td>1499</td>\n",
       "    </tr>\n",
       "    <tr>\n",
       "      <td>149388</td>\n",
       "      <td>149388</td>\n",
       "      <td>1499_149</td>\n",
       "      <td>778.68</td>\n",
       "      <td>2018-11-24</td>\n",
       "      <td>1499</td>\n",
       "    </tr>\n",
       "    <tr>\n",
       "      <td>149389</td>\n",
       "      <td>149389</td>\n",
       "      <td>1499_150</td>\n",
       "      <td>273.98</td>\n",
       "      <td>2018-11-20</td>\n",
       "      <td>1499</td>\n",
       "    </tr>\n",
       "    <tr>\n",
       "      <td>149390</td>\n",
       "      <td>149390</td>\n",
       "      <td>1499_151</td>\n",
       "      <td>752.72</td>\n",
       "      <td>2018-10-11</td>\n",
       "      <td>1499</td>\n",
       "    </tr>\n",
       "    <tr>\n",
       "      <td>149391</td>\n",
       "      <td>149391</td>\n",
       "      <td>1499_152</td>\n",
       "      <td>318.90</td>\n",
       "      <td>2018-10-03</td>\n",
       "      <td>1499</td>\n",
       "    </tr>\n",
       "    <tr>\n",
       "      <td>149392</td>\n",
       "      <td>149392</td>\n",
       "      <td>1499_153</td>\n",
       "      <td>490.13</td>\n",
       "      <td>2018-12-14</td>\n",
       "      <td>1499</td>\n",
       "    </tr>\n",
       "    <tr>\n",
       "      <td>149393</td>\n",
       "      <td>149393</td>\n",
       "      <td>1499_154</td>\n",
       "      <td>0.00</td>\n",
       "      <td>2018-10-27</td>\n",
       "      <td>1499</td>\n",
       "    </tr>\n",
       "    <tr>\n",
       "      <td>149394</td>\n",
       "      <td>149394</td>\n",
       "      <td>1499_155</td>\n",
       "      <td>1246.32</td>\n",
       "      <td>2018-11-26</td>\n",
       "      <td>1499</td>\n",
       "    </tr>\n",
       "    <tr>\n",
       "      <td>149395</td>\n",
       "      <td>149395</td>\n",
       "      <td>1499_156</td>\n",
       "      <td>544.37</td>\n",
       "      <td>2018-10-26</td>\n",
       "      <td>1499</td>\n",
       "    </tr>\n",
       "  </tbody>\n",
       "</table>\n",
       "</div>"
      ],
      "text/plain": [
       "        Unnamed: 0        id  mb_used session_date  user_id\n",
       "149386      149386  1499_147     0.00   2018-10-21     1499\n",
       "149387      149387  1499_148   268.19   2018-11-13     1499\n",
       "149388      149388  1499_149   778.68   2018-11-24     1499\n",
       "149389      149389  1499_150   273.98   2018-11-20     1499\n",
       "149390      149390  1499_151   752.72   2018-10-11     1499\n",
       "149391      149391  1499_152   318.90   2018-10-03     1499\n",
       "149392      149392  1499_153   490.13   2018-12-14     1499\n",
       "149393      149393  1499_154     0.00   2018-10-27     1499\n",
       "149394      149394  1499_155  1246.32   2018-11-26     1499\n",
       "149395      149395  1499_156   544.37   2018-10-26     1499"
      ]
     },
     "metadata": {},
     "output_type": "display_data"
    },
    {
     "data": {
      "text/html": [
       "<div>\n",
       "<style scoped>\n",
       "    .dataframe tbody tr th:only-of-type {\n",
       "        vertical-align: middle;\n",
       "    }\n",
       "\n",
       "    .dataframe tbody tr th {\n",
       "        vertical-align: top;\n",
       "    }\n",
       "\n",
       "    .dataframe thead th {\n",
       "        text-align: right;\n",
       "    }\n",
       "</style>\n",
       "<table border=\"1\" class=\"dataframe\">\n",
       "  <thead>\n",
       "    <tr style=\"text-align: right;\">\n",
       "      <th></th>\n",
       "      <th>Unnamed: 0</th>\n",
       "      <th>id</th>\n",
       "      <th>mb_used</th>\n",
       "      <th>session_date</th>\n",
       "      <th>user_id</th>\n",
       "    </tr>\n",
       "  </thead>\n",
       "  <tbody>\n",
       "    <tr>\n",
       "      <td>126633</td>\n",
       "      <td>126633</td>\n",
       "      <td>1425_162</td>\n",
       "      <td>80.79</td>\n",
       "      <td>2018-11-19</td>\n",
       "      <td>1425</td>\n",
       "    </tr>\n",
       "    <tr>\n",
       "      <td>26586</td>\n",
       "      <td>26586</td>\n",
       "      <td>1092_252</td>\n",
       "      <td>851.85</td>\n",
       "      <td>2018-12-11</td>\n",
       "      <td>1092</td>\n",
       "    </tr>\n",
       "    <tr>\n",
       "      <td>144126</td>\n",
       "      <td>144126</td>\n",
       "      <td>1481_480</td>\n",
       "      <td>393.98</td>\n",
       "      <td>2018-05-24</td>\n",
       "      <td>1481</td>\n",
       "    </tr>\n",
       "    <tr>\n",
       "      <td>23767</td>\n",
       "      <td>23767</td>\n",
       "      <td>1081_62</td>\n",
       "      <td>528.78</td>\n",
       "      <td>2018-12-06</td>\n",
       "      <td>1081</td>\n",
       "    </tr>\n",
       "    <tr>\n",
       "      <td>52245</td>\n",
       "      <td>52245</td>\n",
       "      <td>1176_400</td>\n",
       "      <td>709.71</td>\n",
       "      <td>2018-08-08</td>\n",
       "      <td>1176</td>\n",
       "    </tr>\n",
       "    <tr>\n",
       "      <td>117727</td>\n",
       "      <td>117727</td>\n",
       "      <td>1395_411</td>\n",
       "      <td>65.25</td>\n",
       "      <td>2018-09-20</td>\n",
       "      <td>1395</td>\n",
       "    </tr>\n",
       "    <tr>\n",
       "      <td>142466</td>\n",
       "      <td>142466</td>\n",
       "      <td>1477_363</td>\n",
       "      <td>443.40</td>\n",
       "      <td>2018-06-22</td>\n",
       "      <td>1477</td>\n",
       "    </tr>\n",
       "    <tr>\n",
       "      <td>123466</td>\n",
       "      <td>123466</td>\n",
       "      <td>1415_74</td>\n",
       "      <td>317.23</td>\n",
       "      <td>2018-08-26</td>\n",
       "      <td>1415</td>\n",
       "    </tr>\n",
       "    <tr>\n",
       "      <td>24886</td>\n",
       "      <td>24886</td>\n",
       "      <td>1086_93</td>\n",
       "      <td>214.51</td>\n",
       "      <td>2018-07-30</td>\n",
       "      <td>1086</td>\n",
       "    </tr>\n",
       "    <tr>\n",
       "      <td>14229</td>\n",
       "      <td>14229</td>\n",
       "      <td>1050_56</td>\n",
       "      <td>399.68</td>\n",
       "      <td>2018-09-08</td>\n",
       "      <td>1050</td>\n",
       "    </tr>\n",
       "  </tbody>\n",
       "</table>\n",
       "</div>"
      ],
      "text/plain": [
       "        Unnamed: 0        id  mb_used session_date  user_id\n",
       "126633      126633  1425_162    80.79   2018-11-19     1425\n",
       "26586        26586  1092_252   851.85   2018-12-11     1092\n",
       "144126      144126  1481_480   393.98   2018-05-24     1481\n",
       "23767        23767   1081_62   528.78   2018-12-06     1081\n",
       "52245        52245  1176_400   709.71   2018-08-08     1176\n",
       "117727      117727  1395_411    65.25   2018-09-20     1395\n",
       "142466      142466  1477_363   443.40   2018-06-22     1477\n",
       "123466      123466   1415_74   317.23   2018-08-26     1415\n",
       "24886        24886   1086_93   214.51   2018-07-30     1086\n",
       "14229        14229   1050_56   399.68   2018-09-08     1050"
      ]
     },
     "metadata": {},
     "output_type": "display_data"
    },
    {
     "data": {
      "text/html": [
       "<div>\n",
       "<style scoped>\n",
       "    .dataframe tbody tr th:only-of-type {\n",
       "        vertical-align: middle;\n",
       "    }\n",
       "\n",
       "    .dataframe tbody tr th {\n",
       "        vertical-align: top;\n",
       "    }\n",
       "\n",
       "    .dataframe thead th {\n",
       "        text-align: right;\n",
       "    }\n",
       "</style>\n",
       "<table border=\"1\" class=\"dataframe\">\n",
       "  <thead>\n",
       "    <tr style=\"text-align: right;\">\n",
       "      <th></th>\n",
       "      <th>Unnamed: 0</th>\n",
       "      <th>mb_used</th>\n",
       "      <th>user_id</th>\n",
       "    </tr>\n",
       "  </thead>\n",
       "  <tbody>\n",
       "    <tr>\n",
       "      <td>count</td>\n",
       "      <td>149396.000000</td>\n",
       "      <td>149396.000000</td>\n",
       "      <td>149396.000000</td>\n",
       "    </tr>\n",
       "    <tr>\n",
       "      <td>mean</td>\n",
       "      <td>74697.500000</td>\n",
       "      <td>370.192426</td>\n",
       "      <td>1252.099842</td>\n",
       "    </tr>\n",
       "    <tr>\n",
       "      <td>std</td>\n",
       "      <td>43127.054745</td>\n",
       "      <td>278.300951</td>\n",
       "      <td>144.050823</td>\n",
       "    </tr>\n",
       "    <tr>\n",
       "      <td>min</td>\n",
       "      <td>0.000000</td>\n",
       "      <td>0.000000</td>\n",
       "      <td>1000.000000</td>\n",
       "    </tr>\n",
       "    <tr>\n",
       "      <td>25%</td>\n",
       "      <td>37348.750000</td>\n",
       "      <td>138.187500</td>\n",
       "      <td>1130.000000</td>\n",
       "    </tr>\n",
       "    <tr>\n",
       "      <td>50%</td>\n",
       "      <td>74697.500000</td>\n",
       "      <td>348.015000</td>\n",
       "      <td>1251.000000</td>\n",
       "    </tr>\n",
       "    <tr>\n",
       "      <td>75%</td>\n",
       "      <td>112046.250000</td>\n",
       "      <td>559.552500</td>\n",
       "      <td>1380.000000</td>\n",
       "    </tr>\n",
       "    <tr>\n",
       "      <td>max</td>\n",
       "      <td>149395.000000</td>\n",
       "      <td>1724.830000</td>\n",
       "      <td>1499.000000</td>\n",
       "    </tr>\n",
       "  </tbody>\n",
       "</table>\n",
       "</div>"
      ],
      "text/plain": [
       "          Unnamed: 0        mb_used        user_id\n",
       "count  149396.000000  149396.000000  149396.000000\n",
       "mean    74697.500000     370.192426    1252.099842\n",
       "std     43127.054745     278.300951     144.050823\n",
       "min         0.000000       0.000000    1000.000000\n",
       "25%     37348.750000     138.187500    1130.000000\n",
       "50%     74697.500000     348.015000    1251.000000\n",
       "75%    112046.250000     559.552500    1380.000000\n",
       "max    149395.000000    1724.830000    1499.000000"
      ]
     },
     "metadata": {},
     "output_type": "display_data"
    }
   ],
   "source": [
    "display(internet.info())\n",
    "display(internet.head(10))\n",
    "display(internet.tail(10))\n",
    "display(internet.sample(10))\n",
    "display(internet.describe())"
   ]
  },
  {
   "cell_type": "markdown",
   "metadata": {},
   "source": [
    "В таблице internet нет пропущённых значений.\n",
    "\n",
    "Первый столбец очень похож на столбец странный, возможно, его лучше удалить.\n",
    "\n",
    "Тип данных в столбце session_date нужно изменить на datetime."
   ]
  },
  {
   "cell_type": "code",
   "execution_count": 5,
   "metadata": {},
   "outputs": [
    {
     "name": "stdout",
     "output_type": "stream",
     "text": [
      "<class 'pandas.core.frame.DataFrame'>\n",
      "RangeIndex: 123036 entries, 0 to 123035\n",
      "Data columns (total 3 columns):\n",
      "id              123036 non-null object\n",
      "message_date    123036 non-null object\n",
      "user_id         123036 non-null int64\n",
      "dtypes: int64(1), object(2)\n",
      "memory usage: 2.8+ MB\n"
     ]
    },
    {
     "data": {
      "text/plain": [
       "None"
      ]
     },
     "metadata": {},
     "output_type": "display_data"
    },
    {
     "data": {
      "text/html": [
       "<div>\n",
       "<style scoped>\n",
       "    .dataframe tbody tr th:only-of-type {\n",
       "        vertical-align: middle;\n",
       "    }\n",
       "\n",
       "    .dataframe tbody tr th {\n",
       "        vertical-align: top;\n",
       "    }\n",
       "\n",
       "    .dataframe thead th {\n",
       "        text-align: right;\n",
       "    }\n",
       "</style>\n",
       "<table border=\"1\" class=\"dataframe\">\n",
       "  <thead>\n",
       "    <tr style=\"text-align: right;\">\n",
       "      <th></th>\n",
       "      <th>id</th>\n",
       "      <th>message_date</th>\n",
       "      <th>user_id</th>\n",
       "    </tr>\n",
       "  </thead>\n",
       "  <tbody>\n",
       "    <tr>\n",
       "      <td>0</td>\n",
       "      <td>1000_0</td>\n",
       "      <td>2018-06-27</td>\n",
       "      <td>1000</td>\n",
       "    </tr>\n",
       "    <tr>\n",
       "      <td>1</td>\n",
       "      <td>1000_1</td>\n",
       "      <td>2018-10-08</td>\n",
       "      <td>1000</td>\n",
       "    </tr>\n",
       "    <tr>\n",
       "      <td>2</td>\n",
       "      <td>1000_2</td>\n",
       "      <td>2018-08-04</td>\n",
       "      <td>1000</td>\n",
       "    </tr>\n",
       "    <tr>\n",
       "      <td>3</td>\n",
       "      <td>1000_3</td>\n",
       "      <td>2018-06-16</td>\n",
       "      <td>1000</td>\n",
       "    </tr>\n",
       "    <tr>\n",
       "      <td>4</td>\n",
       "      <td>1000_4</td>\n",
       "      <td>2018-12-05</td>\n",
       "      <td>1000</td>\n",
       "    </tr>\n",
       "    <tr>\n",
       "      <td>5</td>\n",
       "      <td>1000_5</td>\n",
       "      <td>2018-06-20</td>\n",
       "      <td>1000</td>\n",
       "    </tr>\n",
       "    <tr>\n",
       "      <td>6</td>\n",
       "      <td>1000_6</td>\n",
       "      <td>2018-11-19</td>\n",
       "      <td>1000</td>\n",
       "    </tr>\n",
       "    <tr>\n",
       "      <td>7</td>\n",
       "      <td>1000_7</td>\n",
       "      <td>2018-10-29</td>\n",
       "      <td>1000</td>\n",
       "    </tr>\n",
       "    <tr>\n",
       "      <td>8</td>\n",
       "      <td>1000_8</td>\n",
       "      <td>2018-06-25</td>\n",
       "      <td>1000</td>\n",
       "    </tr>\n",
       "    <tr>\n",
       "      <td>9</td>\n",
       "      <td>1000_9</td>\n",
       "      <td>2018-12-18</td>\n",
       "      <td>1000</td>\n",
       "    </tr>\n",
       "  </tbody>\n",
       "</table>\n",
       "</div>"
      ],
      "text/plain": [
       "       id message_date  user_id\n",
       "0  1000_0   2018-06-27     1000\n",
       "1  1000_1   2018-10-08     1000\n",
       "2  1000_2   2018-08-04     1000\n",
       "3  1000_3   2018-06-16     1000\n",
       "4  1000_4   2018-12-05     1000\n",
       "5  1000_5   2018-06-20     1000\n",
       "6  1000_6   2018-11-19     1000\n",
       "7  1000_7   2018-10-29     1000\n",
       "8  1000_8   2018-06-25     1000\n",
       "9  1000_9   2018-12-18     1000"
      ]
     },
     "metadata": {},
     "output_type": "display_data"
    },
    {
     "data": {
      "text/html": [
       "<div>\n",
       "<style scoped>\n",
       "    .dataframe tbody tr th:only-of-type {\n",
       "        vertical-align: middle;\n",
       "    }\n",
       "\n",
       "    .dataframe tbody tr th {\n",
       "        vertical-align: top;\n",
       "    }\n",
       "\n",
       "    .dataframe thead th {\n",
       "        text-align: right;\n",
       "    }\n",
       "</style>\n",
       "<table border=\"1\" class=\"dataframe\">\n",
       "  <thead>\n",
       "    <tr style=\"text-align: right;\">\n",
       "      <th></th>\n",
       "      <th>id</th>\n",
       "      <th>message_date</th>\n",
       "      <th>user_id</th>\n",
       "    </tr>\n",
       "  </thead>\n",
       "  <tbody>\n",
       "    <tr>\n",
       "      <td>123026</td>\n",
       "      <td>1499_174</td>\n",
       "      <td>2018-12-14</td>\n",
       "      <td>1499</td>\n",
       "    </tr>\n",
       "    <tr>\n",
       "      <td>123027</td>\n",
       "      <td>1499_175</td>\n",
       "      <td>2018-10-09</td>\n",
       "      <td>1499</td>\n",
       "    </tr>\n",
       "    <tr>\n",
       "      <td>123028</td>\n",
       "      <td>1499_176</td>\n",
       "      <td>2018-12-17</td>\n",
       "      <td>1499</td>\n",
       "    </tr>\n",
       "    <tr>\n",
       "      <td>123029</td>\n",
       "      <td>1499_177</td>\n",
       "      <td>2018-12-30</td>\n",
       "      <td>1499</td>\n",
       "    </tr>\n",
       "    <tr>\n",
       "      <td>123030</td>\n",
       "      <td>1499_178</td>\n",
       "      <td>2018-10-25</td>\n",
       "      <td>1499</td>\n",
       "    </tr>\n",
       "    <tr>\n",
       "      <td>123031</td>\n",
       "      <td>1499_179</td>\n",
       "      <td>2018-12-12</td>\n",
       "      <td>1499</td>\n",
       "    </tr>\n",
       "    <tr>\n",
       "      <td>123032</td>\n",
       "      <td>1499_180</td>\n",
       "      <td>2018-09-28</td>\n",
       "      <td>1499</td>\n",
       "    </tr>\n",
       "    <tr>\n",
       "      <td>123033</td>\n",
       "      <td>1499_181</td>\n",
       "      <td>2018-09-27</td>\n",
       "      <td>1499</td>\n",
       "    </tr>\n",
       "    <tr>\n",
       "      <td>123034</td>\n",
       "      <td>1499_182</td>\n",
       "      <td>2018-11-15</td>\n",
       "      <td>1499</td>\n",
       "    </tr>\n",
       "    <tr>\n",
       "      <td>123035</td>\n",
       "      <td>1499_183</td>\n",
       "      <td>2018-11-16</td>\n",
       "      <td>1499</td>\n",
       "    </tr>\n",
       "  </tbody>\n",
       "</table>\n",
       "</div>"
      ],
      "text/plain": [
       "              id message_date  user_id\n",
       "123026  1499_174   2018-12-14     1499\n",
       "123027  1499_175   2018-10-09     1499\n",
       "123028  1499_176   2018-12-17     1499\n",
       "123029  1499_177   2018-12-30     1499\n",
       "123030  1499_178   2018-10-25     1499\n",
       "123031  1499_179   2018-12-12     1499\n",
       "123032  1499_180   2018-09-28     1499\n",
       "123033  1499_181   2018-09-27     1499\n",
       "123034  1499_182   2018-11-15     1499\n",
       "123035  1499_183   2018-11-16     1499"
      ]
     },
     "metadata": {},
     "output_type": "display_data"
    },
    {
     "data": {
      "text/html": [
       "<div>\n",
       "<style scoped>\n",
       "    .dataframe tbody tr th:only-of-type {\n",
       "        vertical-align: middle;\n",
       "    }\n",
       "\n",
       "    .dataframe tbody tr th {\n",
       "        vertical-align: top;\n",
       "    }\n",
       "\n",
       "    .dataframe thead th {\n",
       "        text-align: right;\n",
       "    }\n",
       "</style>\n",
       "<table border=\"1\" class=\"dataframe\">\n",
       "  <thead>\n",
       "    <tr style=\"text-align: right;\">\n",
       "      <th></th>\n",
       "      <th>id</th>\n",
       "      <th>message_date</th>\n",
       "      <th>user_id</th>\n",
       "    </tr>\n",
       "  </thead>\n",
       "  <tbody>\n",
       "    <tr>\n",
       "      <td>19643</td>\n",
       "      <td>1087_41</td>\n",
       "      <td>2018-11-10</td>\n",
       "      <td>1087</td>\n",
       "    </tr>\n",
       "    <tr>\n",
       "      <td>12911</td>\n",
       "      <td>1054_467</td>\n",
       "      <td>2018-08-10</td>\n",
       "      <td>1054</td>\n",
       "    </tr>\n",
       "    <tr>\n",
       "      <td>118894</td>\n",
       "      <td>1482_456</td>\n",
       "      <td>2018-04-10</td>\n",
       "      <td>1482</td>\n",
       "    </tr>\n",
       "    <tr>\n",
       "      <td>70279</td>\n",
       "      <td>1300_31</td>\n",
       "      <td>2018-10-25</td>\n",
       "      <td>1300</td>\n",
       "    </tr>\n",
       "    <tr>\n",
       "      <td>55044</td>\n",
       "      <td>1244_210</td>\n",
       "      <td>2018-12-19</td>\n",
       "      <td>1244</td>\n",
       "    </tr>\n",
       "    <tr>\n",
       "      <td>74703</td>\n",
       "      <td>1315_284</td>\n",
       "      <td>2018-12-09</td>\n",
       "      <td>1315</td>\n",
       "    </tr>\n",
       "    <tr>\n",
       "      <td>95218</td>\n",
       "      <td>1392_58</td>\n",
       "      <td>2018-04-29</td>\n",
       "      <td>1392</td>\n",
       "    </tr>\n",
       "    <tr>\n",
       "      <td>116751</td>\n",
       "      <td>1474_137</td>\n",
       "      <td>2018-12-23</td>\n",
       "      <td>1474</td>\n",
       "    </tr>\n",
       "    <tr>\n",
       "      <td>59359</td>\n",
       "      <td>1259_226</td>\n",
       "      <td>2018-11-25</td>\n",
       "      <td>1259</td>\n",
       "    </tr>\n",
       "    <tr>\n",
       "      <td>110915</td>\n",
       "      <td>1449_256</td>\n",
       "      <td>2018-09-10</td>\n",
       "      <td>1449</td>\n",
       "    </tr>\n",
       "  </tbody>\n",
       "</table>\n",
       "</div>"
      ],
      "text/plain": [
       "              id message_date  user_id\n",
       "19643    1087_41   2018-11-10     1087\n",
       "12911   1054_467   2018-08-10     1054\n",
       "118894  1482_456   2018-04-10     1482\n",
       "70279    1300_31   2018-10-25     1300\n",
       "55044   1244_210   2018-12-19     1244\n",
       "74703   1315_284   2018-12-09     1315\n",
       "95218    1392_58   2018-04-29     1392\n",
       "116751  1474_137   2018-12-23     1474\n",
       "59359   1259_226   2018-11-25     1259\n",
       "110915  1449_256   2018-09-10     1449"
      ]
     },
     "metadata": {},
     "output_type": "display_data"
    },
    {
     "data": {
      "text/html": [
       "<div>\n",
       "<style scoped>\n",
       "    .dataframe tbody tr th:only-of-type {\n",
       "        vertical-align: middle;\n",
       "    }\n",
       "\n",
       "    .dataframe tbody tr th {\n",
       "        vertical-align: top;\n",
       "    }\n",
       "\n",
       "    .dataframe thead th {\n",
       "        text-align: right;\n",
       "    }\n",
       "</style>\n",
       "<table border=\"1\" class=\"dataframe\">\n",
       "  <thead>\n",
       "    <tr style=\"text-align: right;\">\n",
       "      <th></th>\n",
       "      <th>user_id</th>\n",
       "    </tr>\n",
       "  </thead>\n",
       "  <tbody>\n",
       "    <tr>\n",
       "      <td>count</td>\n",
       "      <td>123036.000000</td>\n",
       "    </tr>\n",
       "    <tr>\n",
       "      <td>mean</td>\n",
       "      <td>1256.989410</td>\n",
       "    </tr>\n",
       "    <tr>\n",
       "      <td>std</td>\n",
       "      <td>143.523967</td>\n",
       "    </tr>\n",
       "    <tr>\n",
       "      <td>min</td>\n",
       "      <td>1000.000000</td>\n",
       "    </tr>\n",
       "    <tr>\n",
       "      <td>25%</td>\n",
       "      <td>1134.000000</td>\n",
       "    </tr>\n",
       "    <tr>\n",
       "      <td>50%</td>\n",
       "      <td>1271.000000</td>\n",
       "    </tr>\n",
       "    <tr>\n",
       "      <td>75%</td>\n",
       "      <td>1381.000000</td>\n",
       "    </tr>\n",
       "    <tr>\n",
       "      <td>max</td>\n",
       "      <td>1499.000000</td>\n",
       "    </tr>\n",
       "  </tbody>\n",
       "</table>\n",
       "</div>"
      ],
      "text/plain": [
       "             user_id\n",
       "count  123036.000000\n",
       "mean     1256.989410\n",
       "std       143.523967\n",
       "min      1000.000000\n",
       "25%      1134.000000\n",
       "50%      1271.000000\n",
       "75%      1381.000000\n",
       "max      1499.000000"
      ]
     },
     "metadata": {},
     "output_type": "display_data"
    }
   ],
   "source": [
    "display(messages.info())\n",
    "display(messages.head(10))\n",
    "display(messages.tail(10))\n",
    "display(messages.sample(10))\n",
    "display(messages.describe())"
   ]
  },
  {
   "cell_type": "markdown",
   "metadata": {},
   "source": [
    "В таблице messages нет пропущенных значений.\n",
    "\n",
    "Тип данных в столбце message_date нужно изменить на datetime."
   ]
  },
  {
   "cell_type": "code",
   "execution_count": 6,
   "metadata": {},
   "outputs": [
    {
     "name": "stdout",
     "output_type": "stream",
     "text": [
      "<class 'pandas.core.frame.DataFrame'>\n",
      "RangeIndex: 2 entries, 0 to 1\n",
      "Data columns (total 8 columns):\n",
      "messages_included        2 non-null int64\n",
      "mb_per_month_included    2 non-null int64\n",
      "minutes_included         2 non-null int64\n",
      "rub_monthly_fee          2 non-null int64\n",
      "rub_per_gb               2 non-null int64\n",
      "rub_per_message          2 non-null int64\n",
      "rub_per_minute           2 non-null int64\n",
      "tariff_name              2 non-null object\n",
      "dtypes: int64(7), object(1)\n",
      "memory usage: 256.0+ bytes\n"
     ]
    },
    {
     "data": {
      "text/plain": [
       "None"
      ]
     },
     "metadata": {},
     "output_type": "display_data"
    },
    {
     "data": {
      "text/html": [
       "<div>\n",
       "<style scoped>\n",
       "    .dataframe tbody tr th:only-of-type {\n",
       "        vertical-align: middle;\n",
       "    }\n",
       "\n",
       "    .dataframe tbody tr th {\n",
       "        vertical-align: top;\n",
       "    }\n",
       "\n",
       "    .dataframe thead th {\n",
       "        text-align: right;\n",
       "    }\n",
       "</style>\n",
       "<table border=\"1\" class=\"dataframe\">\n",
       "  <thead>\n",
       "    <tr style=\"text-align: right;\">\n",
       "      <th></th>\n",
       "      <th>messages_included</th>\n",
       "      <th>mb_per_month_included</th>\n",
       "      <th>minutes_included</th>\n",
       "      <th>rub_monthly_fee</th>\n",
       "      <th>rub_per_gb</th>\n",
       "      <th>rub_per_message</th>\n",
       "      <th>rub_per_minute</th>\n",
       "      <th>tariff_name</th>\n",
       "    </tr>\n",
       "  </thead>\n",
       "  <tbody>\n",
       "    <tr>\n",
       "      <td>0</td>\n",
       "      <td>50</td>\n",
       "      <td>15360</td>\n",
       "      <td>500</td>\n",
       "      <td>550</td>\n",
       "      <td>200</td>\n",
       "      <td>3</td>\n",
       "      <td>3</td>\n",
       "      <td>smart</td>\n",
       "    </tr>\n",
       "    <tr>\n",
       "      <td>1</td>\n",
       "      <td>1000</td>\n",
       "      <td>30720</td>\n",
       "      <td>3000</td>\n",
       "      <td>1950</td>\n",
       "      <td>150</td>\n",
       "      <td>1</td>\n",
       "      <td>1</td>\n",
       "      <td>ultra</td>\n",
       "    </tr>\n",
       "  </tbody>\n",
       "</table>\n",
       "</div>"
      ],
      "text/plain": [
       "   messages_included  mb_per_month_included  minutes_included  \\\n",
       "0                 50                  15360               500   \n",
       "1               1000                  30720              3000   \n",
       "\n",
       "   rub_monthly_fee  rub_per_gb  rub_per_message  rub_per_minute tariff_name  \n",
       "0              550         200                3               3       smart  \n",
       "1             1950         150                1               1       ultra  "
      ]
     },
     "metadata": {},
     "output_type": "display_data"
    }
   ],
   "source": [
    "display(tariffs.info())\n",
    "display(tariffs)"
   ]
  },
  {
   "cell_type": "markdown",
   "metadata": {},
   "source": [
    "В таблице tariffs нет пропущенных значений.\n",
    "\n",
    "Тип данных менять не нужно.\n",
    "\n",
    "Ошибок в описании тарифов нет."
   ]
  },
  {
   "cell_type": "code",
   "execution_count": 7,
   "metadata": {},
   "outputs": [
    {
     "name": "stdout",
     "output_type": "stream",
     "text": [
      "<class 'pandas.core.frame.DataFrame'>\n",
      "RangeIndex: 500 entries, 0 to 499\n",
      "Data columns (total 8 columns):\n",
      "user_id       500 non-null int64\n",
      "age           500 non-null int64\n",
      "churn_date    38 non-null object\n",
      "city          500 non-null object\n",
      "first_name    500 non-null object\n",
      "last_name     500 non-null object\n",
      "reg_date      500 non-null object\n",
      "tariff        500 non-null object\n",
      "dtypes: int64(2), object(6)\n",
      "memory usage: 31.4+ KB\n"
     ]
    },
    {
     "data": {
      "text/plain": [
       "None"
      ]
     },
     "metadata": {},
     "output_type": "display_data"
    },
    {
     "data": {
      "text/html": [
       "<div>\n",
       "<style scoped>\n",
       "    .dataframe tbody tr th:only-of-type {\n",
       "        vertical-align: middle;\n",
       "    }\n",
       "\n",
       "    .dataframe tbody tr th {\n",
       "        vertical-align: top;\n",
       "    }\n",
       "\n",
       "    .dataframe thead th {\n",
       "        text-align: right;\n",
       "    }\n",
       "</style>\n",
       "<table border=\"1\" class=\"dataframe\">\n",
       "  <thead>\n",
       "    <tr style=\"text-align: right;\">\n",
       "      <th></th>\n",
       "      <th>user_id</th>\n",
       "      <th>age</th>\n",
       "      <th>churn_date</th>\n",
       "      <th>city</th>\n",
       "      <th>first_name</th>\n",
       "      <th>last_name</th>\n",
       "      <th>reg_date</th>\n",
       "      <th>tariff</th>\n",
       "    </tr>\n",
       "  </thead>\n",
       "  <tbody>\n",
       "    <tr>\n",
       "      <td>0</td>\n",
       "      <td>1000</td>\n",
       "      <td>52</td>\n",
       "      <td>NaN</td>\n",
       "      <td>Краснодар</td>\n",
       "      <td>Рафаил</td>\n",
       "      <td>Верещагин</td>\n",
       "      <td>2018-05-25</td>\n",
       "      <td>ultra</td>\n",
       "    </tr>\n",
       "    <tr>\n",
       "      <td>1</td>\n",
       "      <td>1001</td>\n",
       "      <td>41</td>\n",
       "      <td>NaN</td>\n",
       "      <td>Москва</td>\n",
       "      <td>Иван</td>\n",
       "      <td>Ежов</td>\n",
       "      <td>2018-11-01</td>\n",
       "      <td>smart</td>\n",
       "    </tr>\n",
       "    <tr>\n",
       "      <td>2</td>\n",
       "      <td>1002</td>\n",
       "      <td>59</td>\n",
       "      <td>NaN</td>\n",
       "      <td>Стерлитамак</td>\n",
       "      <td>Евгений</td>\n",
       "      <td>Абрамович</td>\n",
       "      <td>2018-06-17</td>\n",
       "      <td>smart</td>\n",
       "    </tr>\n",
       "    <tr>\n",
       "      <td>3</td>\n",
       "      <td>1003</td>\n",
       "      <td>23</td>\n",
       "      <td>NaN</td>\n",
       "      <td>Москва</td>\n",
       "      <td>Белла</td>\n",
       "      <td>Белякова</td>\n",
       "      <td>2018-08-17</td>\n",
       "      <td>ultra</td>\n",
       "    </tr>\n",
       "    <tr>\n",
       "      <td>4</td>\n",
       "      <td>1004</td>\n",
       "      <td>68</td>\n",
       "      <td>NaN</td>\n",
       "      <td>Новокузнецк</td>\n",
       "      <td>Татьяна</td>\n",
       "      <td>Авдеенко</td>\n",
       "      <td>2018-05-14</td>\n",
       "      <td>ultra</td>\n",
       "    </tr>\n",
       "    <tr>\n",
       "      <td>5</td>\n",
       "      <td>1005</td>\n",
       "      <td>67</td>\n",
       "      <td>NaN</td>\n",
       "      <td>Набережные Челны</td>\n",
       "      <td>Афанасий</td>\n",
       "      <td>Горлов</td>\n",
       "      <td>2018-01-25</td>\n",
       "      <td>smart</td>\n",
       "    </tr>\n",
       "    <tr>\n",
       "      <td>6</td>\n",
       "      <td>1006</td>\n",
       "      <td>21</td>\n",
       "      <td>NaN</td>\n",
       "      <td>Ульяновск</td>\n",
       "      <td>Леонид</td>\n",
       "      <td>Ермолаев</td>\n",
       "      <td>2018-02-26</td>\n",
       "      <td>smart</td>\n",
       "    </tr>\n",
       "    <tr>\n",
       "      <td>7</td>\n",
       "      <td>1007</td>\n",
       "      <td>65</td>\n",
       "      <td>NaN</td>\n",
       "      <td>Москва</td>\n",
       "      <td>Юна</td>\n",
       "      <td>Березина</td>\n",
       "      <td>2018-04-19</td>\n",
       "      <td>smart</td>\n",
       "    </tr>\n",
       "    <tr>\n",
       "      <td>8</td>\n",
       "      <td>1008</td>\n",
       "      <td>63</td>\n",
       "      <td>NaN</td>\n",
       "      <td>Челябинск</td>\n",
       "      <td>Рустэм</td>\n",
       "      <td>Пономарёв</td>\n",
       "      <td>2018-12-19</td>\n",
       "      <td>smart</td>\n",
       "    </tr>\n",
       "    <tr>\n",
       "      <td>9</td>\n",
       "      <td>1009</td>\n",
       "      <td>24</td>\n",
       "      <td>NaN</td>\n",
       "      <td>Пермь</td>\n",
       "      <td>Василиса</td>\n",
       "      <td>Блинова</td>\n",
       "      <td>2018-03-22</td>\n",
       "      <td>smart</td>\n",
       "    </tr>\n",
       "  </tbody>\n",
       "</table>\n",
       "</div>"
      ],
      "text/plain": [
       "   user_id  age churn_date              city first_name  last_name  \\\n",
       "0     1000   52        NaN         Краснодар     Рафаил  Верещагин   \n",
       "1     1001   41        NaN            Москва       Иван       Ежов   \n",
       "2     1002   59        NaN       Стерлитамак    Евгений  Абрамович   \n",
       "3     1003   23        NaN            Москва      Белла   Белякова   \n",
       "4     1004   68        NaN       Новокузнецк    Татьяна   Авдеенко   \n",
       "5     1005   67        NaN  Набережные Челны   Афанасий     Горлов   \n",
       "6     1006   21        NaN         Ульяновск     Леонид   Ермолаев   \n",
       "7     1007   65        NaN            Москва        Юна   Березина   \n",
       "8     1008   63        NaN         Челябинск     Рустэм  Пономарёв   \n",
       "9     1009   24        NaN             Пермь   Василиса    Блинова   \n",
       "\n",
       "     reg_date tariff  \n",
       "0  2018-05-25  ultra  \n",
       "1  2018-11-01  smart  \n",
       "2  2018-06-17  smart  \n",
       "3  2018-08-17  ultra  \n",
       "4  2018-05-14  ultra  \n",
       "5  2018-01-25  smart  \n",
       "6  2018-02-26  smart  \n",
       "7  2018-04-19  smart  \n",
       "8  2018-12-19  smart  \n",
       "9  2018-03-22  smart  "
      ]
     },
     "metadata": {},
     "output_type": "display_data"
    },
    {
     "data": {
      "text/html": [
       "<div>\n",
       "<style scoped>\n",
       "    .dataframe tbody tr th:only-of-type {\n",
       "        vertical-align: middle;\n",
       "    }\n",
       "\n",
       "    .dataframe tbody tr th {\n",
       "        vertical-align: top;\n",
       "    }\n",
       "\n",
       "    .dataframe thead th {\n",
       "        text-align: right;\n",
       "    }\n",
       "</style>\n",
       "<table border=\"1\" class=\"dataframe\">\n",
       "  <thead>\n",
       "    <tr style=\"text-align: right;\">\n",
       "      <th></th>\n",
       "      <th>user_id</th>\n",
       "      <th>age</th>\n",
       "      <th>churn_date</th>\n",
       "      <th>city</th>\n",
       "      <th>first_name</th>\n",
       "      <th>last_name</th>\n",
       "      <th>reg_date</th>\n",
       "      <th>tariff</th>\n",
       "    </tr>\n",
       "  </thead>\n",
       "  <tbody>\n",
       "    <tr>\n",
       "      <td>490</td>\n",
       "      <td>1490</td>\n",
       "      <td>30</td>\n",
       "      <td>NaN</td>\n",
       "      <td>Москва</td>\n",
       "      <td>Радомир</td>\n",
       "      <td>Алесин</td>\n",
       "      <td>2018-04-03</td>\n",
       "      <td>smart</td>\n",
       "    </tr>\n",
       "    <tr>\n",
       "      <td>491</td>\n",
       "      <td>1491</td>\n",
       "      <td>56</td>\n",
       "      <td>NaN</td>\n",
       "      <td>Челябинск</td>\n",
       "      <td>Радислав</td>\n",
       "      <td>Андрейкин</td>\n",
       "      <td>2018-04-25</td>\n",
       "      <td>ultra</td>\n",
       "    </tr>\n",
       "    <tr>\n",
       "      <td>492</td>\n",
       "      <td>1492</td>\n",
       "      <td>63</td>\n",
       "      <td>NaN</td>\n",
       "      <td>Санкт-Петербург</td>\n",
       "      <td>Руслана</td>\n",
       "      <td>Артёменко</td>\n",
       "      <td>2018-06-26</td>\n",
       "      <td>smart</td>\n",
       "    </tr>\n",
       "    <tr>\n",
       "      <td>493</td>\n",
       "      <td>1493</td>\n",
       "      <td>71</td>\n",
       "      <td>NaN</td>\n",
       "      <td>Красноярск</td>\n",
       "      <td>Таисия</td>\n",
       "      <td>Ахматулина</td>\n",
       "      <td>2018-11-24</td>\n",
       "      <td>ultra</td>\n",
       "    </tr>\n",
       "    <tr>\n",
       "      <td>494</td>\n",
       "      <td>1494</td>\n",
       "      <td>62</td>\n",
       "      <td>NaN</td>\n",
       "      <td>Омск</td>\n",
       "      <td>Ренат</td>\n",
       "      <td>Андропов</td>\n",
       "      <td>2018-08-17</td>\n",
       "      <td>smart</td>\n",
       "    </tr>\n",
       "    <tr>\n",
       "      <td>495</td>\n",
       "      <td>1495</td>\n",
       "      <td>65</td>\n",
       "      <td>NaN</td>\n",
       "      <td>Иркутск</td>\n",
       "      <td>Авксентий</td>\n",
       "      <td>Фокин</td>\n",
       "      <td>2018-08-28</td>\n",
       "      <td>ultra</td>\n",
       "    </tr>\n",
       "    <tr>\n",
       "      <td>496</td>\n",
       "      <td>1496</td>\n",
       "      <td>36</td>\n",
       "      <td>NaN</td>\n",
       "      <td>Вологда</td>\n",
       "      <td>Трифон</td>\n",
       "      <td>Блохин</td>\n",
       "      <td>2018-01-27</td>\n",
       "      <td>smart</td>\n",
       "    </tr>\n",
       "    <tr>\n",
       "      <td>497</td>\n",
       "      <td>1497</td>\n",
       "      <td>32</td>\n",
       "      <td>NaN</td>\n",
       "      <td>Челябинск</td>\n",
       "      <td>Каролина</td>\n",
       "      <td>Агеева</td>\n",
       "      <td>2018-10-09</td>\n",
       "      <td>smart</td>\n",
       "    </tr>\n",
       "    <tr>\n",
       "      <td>498</td>\n",
       "      <td>1498</td>\n",
       "      <td>68</td>\n",
       "      <td>2018-10-25</td>\n",
       "      <td>Владикавказ</td>\n",
       "      <td>Всеволод</td>\n",
       "      <td>Акимчин</td>\n",
       "      <td>2018-07-19</td>\n",
       "      <td>smart</td>\n",
       "    </tr>\n",
       "    <tr>\n",
       "      <td>499</td>\n",
       "      <td>1499</td>\n",
       "      <td>35</td>\n",
       "      <td>NaN</td>\n",
       "      <td>Пермь</td>\n",
       "      <td>Гектор</td>\n",
       "      <td>Корнилов</td>\n",
       "      <td>2018-09-27</td>\n",
       "      <td>smart</td>\n",
       "    </tr>\n",
       "  </tbody>\n",
       "</table>\n",
       "</div>"
      ],
      "text/plain": [
       "     user_id  age  churn_date             city first_name   last_name  \\\n",
       "490     1490   30         NaN           Москва    Радомир      Алесин   \n",
       "491     1491   56         NaN        Челябинск   Радислав   Андрейкин   \n",
       "492     1492   63         NaN  Санкт-Петербург    Руслана   Артёменко   \n",
       "493     1493   71         NaN       Красноярск     Таисия  Ахматулина   \n",
       "494     1494   62         NaN             Омск      Ренат    Андропов   \n",
       "495     1495   65         NaN          Иркутск  Авксентий       Фокин   \n",
       "496     1496   36         NaN          Вологда     Трифон      Блохин   \n",
       "497     1497   32         NaN        Челябинск   Каролина      Агеева   \n",
       "498     1498   68  2018-10-25      Владикавказ   Всеволод     Акимчин   \n",
       "499     1499   35         NaN            Пермь     Гектор    Корнилов   \n",
       "\n",
       "       reg_date tariff  \n",
       "490  2018-04-03  smart  \n",
       "491  2018-04-25  ultra  \n",
       "492  2018-06-26  smart  \n",
       "493  2018-11-24  ultra  \n",
       "494  2018-08-17  smart  \n",
       "495  2018-08-28  ultra  \n",
       "496  2018-01-27  smart  \n",
       "497  2018-10-09  smart  \n",
       "498  2018-07-19  smart  \n",
       "499  2018-09-27  smart  "
      ]
     },
     "metadata": {},
     "output_type": "display_data"
    },
    {
     "data": {
      "text/html": [
       "<div>\n",
       "<style scoped>\n",
       "    .dataframe tbody tr th:only-of-type {\n",
       "        vertical-align: middle;\n",
       "    }\n",
       "\n",
       "    .dataframe tbody tr th {\n",
       "        vertical-align: top;\n",
       "    }\n",
       "\n",
       "    .dataframe thead th {\n",
       "        text-align: right;\n",
       "    }\n",
       "</style>\n",
       "<table border=\"1\" class=\"dataframe\">\n",
       "  <thead>\n",
       "    <tr style=\"text-align: right;\">\n",
       "      <th></th>\n",
       "      <th>user_id</th>\n",
       "      <th>age</th>\n",
       "      <th>churn_date</th>\n",
       "      <th>city</th>\n",
       "      <th>first_name</th>\n",
       "      <th>last_name</th>\n",
       "      <th>reg_date</th>\n",
       "      <th>tariff</th>\n",
       "    </tr>\n",
       "  </thead>\n",
       "  <tbody>\n",
       "    <tr>\n",
       "      <td>315</td>\n",
       "      <td>1315</td>\n",
       "      <td>49</td>\n",
       "      <td>NaN</td>\n",
       "      <td>Владивосток</td>\n",
       "      <td>Инга</td>\n",
       "      <td>Агапеева</td>\n",
       "      <td>2018-07-14</td>\n",
       "      <td>smart</td>\n",
       "    </tr>\n",
       "    <tr>\n",
       "      <td>303</td>\n",
       "      <td>1303</td>\n",
       "      <td>36</td>\n",
       "      <td>NaN</td>\n",
       "      <td>Смоленск</td>\n",
       "      <td>Алевтина</td>\n",
       "      <td>Абакшина</td>\n",
       "      <td>2018-07-25</td>\n",
       "      <td>ultra</td>\n",
       "    </tr>\n",
       "    <tr>\n",
       "      <td>408</td>\n",
       "      <td>1408</td>\n",
       "      <td>53</td>\n",
       "      <td>NaN</td>\n",
       "      <td>Самара</td>\n",
       "      <td>Касьян</td>\n",
       "      <td>Кукушкин</td>\n",
       "      <td>2018-05-27</td>\n",
       "      <td>smart</td>\n",
       "    </tr>\n",
       "    <tr>\n",
       "      <td>371</td>\n",
       "      <td>1371</td>\n",
       "      <td>50</td>\n",
       "      <td>2018-12-30</td>\n",
       "      <td>Омск</td>\n",
       "      <td>Ириней</td>\n",
       "      <td>Трофимов</td>\n",
       "      <td>2018-12-25</td>\n",
       "      <td>smart</td>\n",
       "    </tr>\n",
       "    <tr>\n",
       "      <td>226</td>\n",
       "      <td>1226</td>\n",
       "      <td>19</td>\n",
       "      <td>NaN</td>\n",
       "      <td>Новосибирск</td>\n",
       "      <td>Альбин</td>\n",
       "      <td>Бобылёв</td>\n",
       "      <td>2018-06-01</td>\n",
       "      <td>ultra</td>\n",
       "    </tr>\n",
       "    <tr>\n",
       "      <td>244</td>\n",
       "      <td>1244</td>\n",
       "      <td>68</td>\n",
       "      <td>NaN</td>\n",
       "      <td>Москва</td>\n",
       "      <td>Геральд</td>\n",
       "      <td>Макеев</td>\n",
       "      <td>2018-05-09</td>\n",
       "      <td>smart</td>\n",
       "    </tr>\n",
       "    <tr>\n",
       "      <td>415</td>\n",
       "      <td>1415</td>\n",
       "      <td>41</td>\n",
       "      <td>NaN</td>\n",
       "      <td>Москва</td>\n",
       "      <td>Андрей</td>\n",
       "      <td>Лукин</td>\n",
       "      <td>2018-06-29</td>\n",
       "      <td>ultra</td>\n",
       "    </tr>\n",
       "    <tr>\n",
       "      <td>57</td>\n",
       "      <td>1057</td>\n",
       "      <td>43</td>\n",
       "      <td>NaN</td>\n",
       "      <td>Москва</td>\n",
       "      <td>Динара</td>\n",
       "      <td>Дьячкова</td>\n",
       "      <td>2018-03-12</td>\n",
       "      <td>ultra</td>\n",
       "    </tr>\n",
       "    <tr>\n",
       "      <td>75</td>\n",
       "      <td>1075</td>\n",
       "      <td>25</td>\n",
       "      <td>NaN</td>\n",
       "      <td>Екатеринбург</td>\n",
       "      <td>Рафаэль</td>\n",
       "      <td>Никулин</td>\n",
       "      <td>2018-11-02</td>\n",
       "      <td>smart</td>\n",
       "    </tr>\n",
       "    <tr>\n",
       "      <td>143</td>\n",
       "      <td>1143</td>\n",
       "      <td>64</td>\n",
       "      <td>NaN</td>\n",
       "      <td>Пермь</td>\n",
       "      <td>Арсен</td>\n",
       "      <td>Покровский</td>\n",
       "      <td>2018-04-27</td>\n",
       "      <td>ultra</td>\n",
       "    </tr>\n",
       "  </tbody>\n",
       "</table>\n",
       "</div>"
      ],
      "text/plain": [
       "     user_id  age  churn_date          city first_name   last_name  \\\n",
       "315     1315   49         NaN   Владивосток       Инга    Агапеева   \n",
       "303     1303   36         NaN      Смоленск   Алевтина    Абакшина   \n",
       "408     1408   53         NaN        Самара     Касьян    Кукушкин   \n",
       "371     1371   50  2018-12-30          Омск     Ириней    Трофимов   \n",
       "226     1226   19         NaN   Новосибирск     Альбин     Бобылёв   \n",
       "244     1244   68         NaN        Москва    Геральд      Макеев   \n",
       "415     1415   41         NaN        Москва     Андрей       Лукин   \n",
       "57      1057   43         NaN        Москва     Динара    Дьячкова   \n",
       "75      1075   25         NaN  Екатеринбург    Рафаэль     Никулин   \n",
       "143     1143   64         NaN         Пермь      Арсен  Покровский   \n",
       "\n",
       "       reg_date tariff  \n",
       "315  2018-07-14  smart  \n",
       "303  2018-07-25  ultra  \n",
       "408  2018-05-27  smart  \n",
       "371  2018-12-25  smart  \n",
       "226  2018-06-01  ultra  \n",
       "244  2018-05-09  smart  \n",
       "415  2018-06-29  ultra  \n",
       "57   2018-03-12  ultra  \n",
       "75   2018-11-02  smart  \n",
       "143  2018-04-27  ultra  "
      ]
     },
     "metadata": {},
     "output_type": "display_data"
    },
    {
     "data": {
      "text/html": [
       "<div>\n",
       "<style scoped>\n",
       "    .dataframe tbody tr th:only-of-type {\n",
       "        vertical-align: middle;\n",
       "    }\n",
       "\n",
       "    .dataframe tbody tr th {\n",
       "        vertical-align: top;\n",
       "    }\n",
       "\n",
       "    .dataframe thead th {\n",
       "        text-align: right;\n",
       "    }\n",
       "</style>\n",
       "<table border=\"1\" class=\"dataframe\">\n",
       "  <thead>\n",
       "    <tr style=\"text-align: right;\">\n",
       "      <th></th>\n",
       "      <th>user_id</th>\n",
       "      <th>age</th>\n",
       "    </tr>\n",
       "  </thead>\n",
       "  <tbody>\n",
       "    <tr>\n",
       "      <td>count</td>\n",
       "      <td>500.000000</td>\n",
       "      <td>500.00000</td>\n",
       "    </tr>\n",
       "    <tr>\n",
       "      <td>mean</td>\n",
       "      <td>1249.500000</td>\n",
       "      <td>46.58800</td>\n",
       "    </tr>\n",
       "    <tr>\n",
       "      <td>std</td>\n",
       "      <td>144.481833</td>\n",
       "      <td>16.66763</td>\n",
       "    </tr>\n",
       "    <tr>\n",
       "      <td>min</td>\n",
       "      <td>1000.000000</td>\n",
       "      <td>18.00000</td>\n",
       "    </tr>\n",
       "    <tr>\n",
       "      <td>25%</td>\n",
       "      <td>1124.750000</td>\n",
       "      <td>32.00000</td>\n",
       "    </tr>\n",
       "    <tr>\n",
       "      <td>50%</td>\n",
       "      <td>1249.500000</td>\n",
       "      <td>46.00000</td>\n",
       "    </tr>\n",
       "    <tr>\n",
       "      <td>75%</td>\n",
       "      <td>1374.250000</td>\n",
       "      <td>62.00000</td>\n",
       "    </tr>\n",
       "    <tr>\n",
       "      <td>max</td>\n",
       "      <td>1499.000000</td>\n",
       "      <td>75.00000</td>\n",
       "    </tr>\n",
       "  </tbody>\n",
       "</table>\n",
       "</div>"
      ],
      "text/plain": [
       "           user_id        age\n",
       "count   500.000000  500.00000\n",
       "mean   1249.500000   46.58800\n",
       "std     144.481833   16.66763\n",
       "min    1000.000000   18.00000\n",
       "25%    1124.750000   32.00000\n",
       "50%    1249.500000   46.00000\n",
       "75%    1374.250000   62.00000\n",
       "max    1499.000000   75.00000"
      ]
     },
     "metadata": {},
     "output_type": "display_data"
    }
   ],
   "source": [
    "display(users.info())\n",
    "display(users.head(10))\n",
    "display(users.tail(10))\n",
    "display(users.sample(10))\n",
    "display(users.describe())"
   ]
  },
  {
   "cell_type": "markdown",
   "metadata": {},
   "source": [
    "В таблице users есть пропущенные значения в столбце churn_date. Эти пропуски возникли, потому что тариф ещё действовал на момент выгрузки.\n",
    "\n",
    "Нужно изменить тип данных в столбце reg_date на datetime."
   ]
  },
  {
   "cell_type": "code",
   "execution_count": 8,
   "metadata": {},
   "outputs": [],
   "source": [
    "users['city'] = users['city'].str.lower()\n",
    "users['first_name'] = users['first_name'].str.lower()\n",
    "users['last_name'] = users['last_name'].str.lower()"
   ]
  },
  {
   "cell_type": "code",
   "execution_count": 9,
   "metadata": {},
   "outputs": [
    {
     "data": {
      "text/plain": [
       "0"
      ]
     },
     "execution_count": 9,
     "metadata": {},
     "output_type": "execute_result"
    }
   ],
   "source": [
    "calls.duplicated().sum()\n",
    "internet.duplicated().sum()\n",
    "messages.duplicated().sum()\n",
    "users.duplicated().sum()"
   ]
  },
  {
   "cell_type": "markdown",
   "metadata": {},
   "source": [
    "Дубликатов нет."
   ]
  },
  {
   "cell_type": "code",
   "execution_count": 10,
   "metadata": {},
   "outputs": [
    {
     "data": {
      "image/png": "[encoded data removed]",
      "text/plain": [
       "<Figure size 432x288 with 1 Axes>"
      ]
     },
     "metadata": {
      "needs_background": "light"
     },
     "output_type": "display_data"
    },
    {
     "data": {
      "image/png": "[encoded data removed]",
      "text/plain": [
       "<Figure size 432x288 with 1 Axes>"
      ]
     },
     "metadata": {
      "needs_background": "light"
     },
     "output_type": "display_data"
    },
    {
     "data": {
      "image/png": "[encoded data removed]",
      "text/plain": [
       "<Figure size 432x288 with 1 Axes>"
      ]
     },
     "metadata": {
      "needs_background": "light"
     },
     "output_type": "display_data"
    }
   ],
   "source": [
    "calls.hist(column='duration')\n",
    "plt.show()\n",
    "calls.boxplot(column='duration')\n",
    "plt.show()\n",
    "calls.query('duration != 0').boxplot(column='duration')\n",
    "plt.show()"
   ]
  },
  {
   "cell_type": "code",
   "execution_count": 11,
   "metadata": {},
   "outputs": [
    {
     "data": {
      "text/plain": [
       "user_id\n",
       "1377    336\n",
       "1168    308\n",
       "1453    295\n",
       "1375    290\n",
       "1196    262\n",
       "1021    254\n",
       "1363    244\n",
       "1282    240\n",
       "1057    216\n",
       "1458    214\n",
       "Name: call_date, dtype: int64"
      ]
     },
     "execution_count": 11,
     "metadata": {},
     "output_type": "execute_result"
    }
   ],
   "source": [
    "calls.query('duration == 0').groupby('user_id')['call_date'].count().sort_values(ascending=False).head(10)"
   ]
  },
  {
   "cell_type": "code",
   "execution_count": 12,
   "metadata": {},
   "outputs": [
    {
     "data": {
      "text/plain": [
       "user_id\n",
       "1204    144\n",
       "1496    141\n",
       "1429    125\n",
       "1119    124\n",
       "1227    121\n",
       "1314    117\n",
       "1219    115\n",
       "1135    115\n",
       "1045    113\n",
       "1337    112\n",
       "Name: session_date, dtype: int64"
      ]
     },
     "execution_count": 12,
     "metadata": {},
     "output_type": "execute_result"
    }
   ],
   "source": [
    "internet.query('mb_used == 0').groupby('user_id')['session_date'].count().sort_values(ascending=False).head(10)"
   ]
  },
  {
   "cell_type": "code",
   "execution_count": 13,
   "metadata": {},
   "outputs": [
    {
     "data": {
      "image/png": "[encoded data removed]",
      "text/plain": [
       "<Figure size 432x288 with 1 Axes>"
      ]
     },
     "metadata": {
      "needs_background": "light"
     },
     "output_type": "display_data"
    },
    {
     "data": {
      "image/png": "[encoded data removed]",
      "text/plain": [
       "<Figure size 432x288 with 1 Axes>"
      ]
     },
     "metadata": {
      "needs_background": "light"
     },
     "output_type": "display_data"
    },
    {
     "data": {
      "image/png": "[encoded data removed]",
      "text/plain": [
       "<Figure size 432x288 with 1 Axes>"
      ]
     },
     "metadata": {
      "needs_background": "light"
     },
     "output_type": "display_data"
    }
   ],
   "source": [
    "internet.hist(column='mb_used')\n",
    "plt.show()\n",
    "internet.boxplot(column='mb_used')\n",
    "plt.show()\n",
    "internet.query('mb_used != 0').boxplot(column='mb_used')\n",
    "plt.show()"
   ]
  },
  {
   "cell_type": "markdown",
   "metadata": {},
   "source": [
    "Звонки с нулевой продолжительностью - это пропущенные звонки, их не нужно удалять. Если убрать нулевые звонки, распредление практически не меняется. С использованием интернета то же самое."
   ]
  },
  {
   "cell_type": "markdown",
   "metadata": {},
   "source": [
    "# Шаг 2. Подготовка данных"
   ]
  },
  {
   "cell_type": "code",
   "execution_count": 14,
   "metadata": {},
   "outputs": [
    {
     "data": {
      "text/plain": [
       "0     2018-05-25\n",
       "1     2018-11-01\n",
       "2     2018-06-17\n",
       "3     2018-08-17\n",
       "4     2018-05-14\n",
       "         ...    \n",
       "495   2018-08-28\n",
       "496   2018-01-27\n",
       "497   2018-10-09\n",
       "498   2018-07-19\n",
       "499   2018-09-27\n",
       "Name: reg_date, Length: 500, dtype: datetime64[ns]"
      ]
     },
     "execution_count": 14,
     "metadata": {},
     "output_type": "execute_result"
    }
   ],
   "source": [
    "pd.to_datetime(calls['call_date'], format='%Y-%m-%d')\n",
    "pd.to_datetime(internet['session_date'], format='%Y-%m-%d')\n",
    "pd.to_datetime(messages['message_date'], format='%Y-%m-%d')\n",
    "pd.to_datetime(users['reg_date'], format='%Y-%m-%d')"
   ]
  },
  {
   "cell_type": "markdown",
   "metadata": {},
   "source": [
    "Тип данных изменён."
   ]
  },
  {
   "cell_type": "code",
   "execution_count": 15,
   "metadata": {},
   "outputs": [
    {
     "data": {
      "text/plain": [
       "0              0\n",
       "1              1\n",
       "2              2\n",
       "3              3\n",
       "4              4\n",
       "           ...  \n",
       "149391    149391\n",
       "149392    149392\n",
       "149393    149393\n",
       "149394    149394\n",
       "149395    149395\n",
       "Name: Unnamed: 0, Length: 149396, dtype: int64"
      ]
     },
     "execution_count": 15,
     "metadata": {},
     "output_type": "execute_result"
    }
   ],
   "source": [
    "internet['Unnamed: 0']"
   ]
  },
  {
   "cell_type": "code",
   "execution_count": 16,
   "metadata": {},
   "outputs": [
    {
     "data": {
      "text/html": [
       "<div>\n",
       "<style scoped>\n",
       "    .dataframe tbody tr th:only-of-type {\n",
       "        vertical-align: middle;\n",
       "    }\n",
       "\n",
       "    .dataframe tbody tr th {\n",
       "        vertical-align: top;\n",
       "    }\n",
       "\n",
       "    .dataframe thead th {\n",
       "        text-align: right;\n",
       "    }\n",
       "</style>\n",
       "<table border=\"1\" class=\"dataframe\">\n",
       "  <thead>\n",
       "    <tr style=\"text-align: right;\">\n",
       "      <th></th>\n",
       "      <th>id</th>\n",
       "      <th>mb_used</th>\n",
       "      <th>session_date</th>\n",
       "      <th>user_id</th>\n",
       "    </tr>\n",
       "  </thead>\n",
       "  <tbody>\n",
       "    <tr>\n",
       "      <td>0</td>\n",
       "      <td>1000_0</td>\n",
       "      <td>112.95</td>\n",
       "      <td>2018-11-25</td>\n",
       "      <td>1000</td>\n",
       "    </tr>\n",
       "    <tr>\n",
       "      <td>1</td>\n",
       "      <td>1000_1</td>\n",
       "      <td>1052.81</td>\n",
       "      <td>2018-09-07</td>\n",
       "      <td>1000</td>\n",
       "    </tr>\n",
       "    <tr>\n",
       "      <td>2</td>\n",
       "      <td>1000_2</td>\n",
       "      <td>1197.26</td>\n",
       "      <td>2018-06-25</td>\n",
       "      <td>1000</td>\n",
       "    </tr>\n",
       "    <tr>\n",
       "      <td>3</td>\n",
       "      <td>1000_3</td>\n",
       "      <td>550.27</td>\n",
       "      <td>2018-08-22</td>\n",
       "      <td>1000</td>\n",
       "    </tr>\n",
       "    <tr>\n",
       "      <td>4</td>\n",
       "      <td>1000_4</td>\n",
       "      <td>302.56</td>\n",
       "      <td>2018-09-24</td>\n",
       "      <td>1000</td>\n",
       "    </tr>\n",
       "    <tr>\n",
       "      <td>5</td>\n",
       "      <td>1000_5</td>\n",
       "      <td>399.97</td>\n",
       "      <td>2018-10-02</td>\n",
       "      <td>1000</td>\n",
       "    </tr>\n",
       "    <tr>\n",
       "      <td>6</td>\n",
       "      <td>1000_6</td>\n",
       "      <td>540.08</td>\n",
       "      <td>2018-09-07</td>\n",
       "      <td>1000</td>\n",
       "    </tr>\n",
       "    <tr>\n",
       "      <td>7</td>\n",
       "      <td>1000_7</td>\n",
       "      <td>415.70</td>\n",
       "      <td>2018-07-11</td>\n",
       "      <td>1000</td>\n",
       "    </tr>\n",
       "    <tr>\n",
       "      <td>8</td>\n",
       "      <td>1000_8</td>\n",
       "      <td>505.40</td>\n",
       "      <td>2018-10-08</td>\n",
       "      <td>1000</td>\n",
       "    </tr>\n",
       "    <tr>\n",
       "      <td>9</td>\n",
       "      <td>1000_9</td>\n",
       "      <td>345.54</td>\n",
       "      <td>2018-09-03</td>\n",
       "      <td>1000</td>\n",
       "    </tr>\n",
       "  </tbody>\n",
       "</table>\n",
       "</div>"
      ],
      "text/plain": [
       "       id  mb_used session_date  user_id\n",
       "0  1000_0   112.95   2018-11-25     1000\n",
       "1  1000_1  1052.81   2018-09-07     1000\n",
       "2  1000_2  1197.26   2018-06-25     1000\n",
       "3  1000_3   550.27   2018-08-22     1000\n",
       "4  1000_4   302.56   2018-09-24     1000\n",
       "5  1000_5   399.97   2018-10-02     1000\n",
       "6  1000_6   540.08   2018-09-07     1000\n",
       "7  1000_7   415.70   2018-07-11     1000\n",
       "8  1000_8   505.40   2018-10-08     1000\n",
       "9  1000_9   345.54   2018-09-03     1000"
      ]
     },
     "execution_count": 16,
     "metadata": {},
     "output_type": "execute_result"
    }
   ],
   "source": [
    "internet = internet[['id', 'mb_used', 'session_date', 'user_id']]\n",
    "internet.head(10)"
   ]
  },
  {
   "cell_type": "code",
   "execution_count": 17,
   "metadata": {},
   "outputs": [],
   "source": [
    "calls['duration'] = calls['duration'].apply(math.ceil)"
   ]
  },
  {
   "cell_type": "code",
   "execution_count": 18,
   "metadata": {},
   "outputs": [
    {
     "data": {
      "text/html": [
       "<div>\n",
       "<style scoped>\n",
       "    .dataframe tbody tr th:only-of-type {\n",
       "        vertical-align: middle;\n",
       "    }\n",
       "\n",
       "    .dataframe tbody tr th {\n",
       "        vertical-align: top;\n",
       "    }\n",
       "\n",
       "    .dataframe thead th {\n",
       "        text-align: right;\n",
       "    }\n",
       "</style>\n",
       "<table border=\"1\" class=\"dataframe\">\n",
       "  <thead>\n",
       "    <tr style=\"text-align: right;\">\n",
       "      <th></th>\n",
       "      <th></th>\n",
       "      <th>calls_duration</th>\n",
       "      <th>calls_counts</th>\n",
       "      <th>messages_counts</th>\n",
       "      <th>mb_used</th>\n",
       "      <th>tariff</th>\n",
       "      <th>city</th>\n",
       "    </tr>\n",
       "    <tr>\n",
       "      <th>user_id</th>\n",
       "      <th>month</th>\n",
       "      <th></th>\n",
       "      <th></th>\n",
       "      <th></th>\n",
       "      <th></th>\n",
       "      <th></th>\n",
       "      <th></th>\n",
       "    </tr>\n",
       "  </thead>\n",
       "  <tbody>\n",
       "    <tr>\n",
       "      <td rowspan=\"5\" valign=\"top\">1000</td>\n",
       "      <td>5</td>\n",
       "      <td>159</td>\n",
       "      <td>22</td>\n",
       "      <td>22.0</td>\n",
       "      <td>2253.49</td>\n",
       "      <td>ultra</td>\n",
       "      <td>краснодар</td>\n",
       "    </tr>\n",
       "    <tr>\n",
       "      <td>6</td>\n",
       "      <td>172</td>\n",
       "      <td>43</td>\n",
       "      <td>60.0</td>\n",
       "      <td>23233.77</td>\n",
       "      <td>ultra</td>\n",
       "      <td>краснодар</td>\n",
       "    </tr>\n",
       "    <tr>\n",
       "      <td>7</td>\n",
       "      <td>340</td>\n",
       "      <td>47</td>\n",
       "      <td>75.0</td>\n",
       "      <td>14003.64</td>\n",
       "      <td>ultra</td>\n",
       "      <td>краснодар</td>\n",
       "    </tr>\n",
       "    <tr>\n",
       "      <td>8</td>\n",
       "      <td>408</td>\n",
       "      <td>52</td>\n",
       "      <td>81.0</td>\n",
       "      <td>14055.93</td>\n",
       "      <td>ultra</td>\n",
       "      <td>краснодар</td>\n",
       "    </tr>\n",
       "    <tr>\n",
       "      <td>9</td>\n",
       "      <td>466</td>\n",
       "      <td>58</td>\n",
       "      <td>57.0</td>\n",
       "      <td>14568.91</td>\n",
       "      <td>ultra</td>\n",
       "      <td>краснодар</td>\n",
       "    </tr>\n",
       "    <tr>\n",
       "      <td>...</td>\n",
       "      <td>...</td>\n",
       "      <td>...</td>\n",
       "      <td>...</td>\n",
       "      <td>...</td>\n",
       "      <td>...</td>\n",
       "      <td>...</td>\n",
       "      <td>...</td>\n",
       "    </tr>\n",
       "    <tr>\n",
       "      <td>1498</td>\n",
       "      <td>10</td>\n",
       "      <td>247</td>\n",
       "      <td>41</td>\n",
       "      <td>42.0</td>\n",
       "      <td>20579.36</td>\n",
       "      <td>smart</td>\n",
       "      <td>владикавказ</td>\n",
       "    </tr>\n",
       "    <tr>\n",
       "      <td rowspan=\"4\" valign=\"top\">1499</td>\n",
       "      <td>9</td>\n",
       "      <td>70</td>\n",
       "      <td>9</td>\n",
       "      <td>11.0</td>\n",
       "      <td>1845.75</td>\n",
       "      <td>smart</td>\n",
       "      <td>пермь</td>\n",
       "    </tr>\n",
       "    <tr>\n",
       "      <td>10</td>\n",
       "      <td>449</td>\n",
       "      <td>68</td>\n",
       "      <td>48.0</td>\n",
       "      <td>17788.51</td>\n",
       "      <td>smart</td>\n",
       "      <td>пермь</td>\n",
       "    </tr>\n",
       "    <tr>\n",
       "      <td>11</td>\n",
       "      <td>612</td>\n",
       "      <td>74</td>\n",
       "      <td>59.0</td>\n",
       "      <td>17963.31</td>\n",
       "      <td>smart</td>\n",
       "      <td>пермь</td>\n",
       "    </tr>\n",
       "    <tr>\n",
       "      <td>12</td>\n",
       "      <td>492</td>\n",
       "      <td>69</td>\n",
       "      <td>66.0</td>\n",
       "      <td>13055.58</td>\n",
       "      <td>smart</td>\n",
       "      <td>пермь</td>\n",
       "    </tr>\n",
       "  </tbody>\n",
       "</table>\n",
       "<p>3174 rows × 6 columns</p>\n",
       "</div>"
      ],
      "text/plain": [
       "               calls_duration  calls_counts  messages_counts   mb_used tariff  \\\n",
       "user_id month                                                                   \n",
       "1000    5                 159            22             22.0   2253.49  ultra   \n",
       "        6                 172            43             60.0  23233.77  ultra   \n",
       "        7                 340            47             75.0  14003.64  ultra   \n",
       "        8                 408            52             81.0  14055.93  ultra   \n",
       "        9                 466            58             57.0  14568.91  ultra   \n",
       "...                       ...           ...              ...       ...    ...   \n",
       "1498    10                247            41             42.0  20579.36  smart   \n",
       "1499    9                  70             9             11.0   1845.75  smart   \n",
       "        10                449            68             48.0  17788.51  smart   \n",
       "        11                612            74             59.0  17963.31  smart   \n",
       "        12                492            69             66.0  13055.58  smart   \n",
       "\n",
       "                      city  \n",
       "user_id month               \n",
       "1000    5        краснодар  \n",
       "        6        краснодар  \n",
       "        7        краснодар  \n",
       "        8        краснодар  \n",
       "        9        краснодар  \n",
       "...                    ...  \n",
       "1498    10     владикавказ  \n",
       "1499    9            пермь  \n",
       "        10           пермь  \n",
       "        11           пермь  \n",
       "        12           пермь  \n",
       "\n",
       "[3174 rows x 6 columns]"
      ]
     },
     "execution_count": 18,
     "metadata": {},
     "output_type": "execute_result"
    }
   ],
   "source": [
    "calls['month'] = pd.DatetimeIndex(calls['call_date']).month\n",
    "users_tariffs = calls.merge(users, on='user_id', how='left')\n",
    "counts = calls.pivot_table(index=['user_id', 'month'], values='duration', aggfunc=['sum', 'count'])\n",
    "counts.columns = ['calls_duration', 'calls_counts']\n",
    "messages['month'] = pd.DatetimeIndex(messages['message_date']).month\n",
    "counts['messages_counts'] = messages.pivot_table(index=['user_id', 'month'], values='id', aggfunc='count')\n",
    "internet['month'] = pd.DatetimeIndex(internet['session_date']).month\n",
    "counts['mb_used'] = internet.pivot_table(index=['user_id', 'month'], values='mb_used', aggfunc='sum')\n",
    "counts['tariff'] = users_tariffs.pivot_table(index=['user_id', 'month'], values='tariff', aggfunc='first')\n",
    "counts['city'] = users_tariffs.pivot_table(index=['user_id', 'month'], values='city', aggfunc='first')\n",
    "counts"
   ]
  },
  {
   "cell_type": "code",
   "execution_count": 19,
   "metadata": {},
   "outputs": [],
   "source": [
    "counts['gb_used'] = counts['mb_used'] / 1024"
   ]
  },
  {
   "cell_type": "markdown",
   "metadata": {},
   "source": [
    "Мегабайты переведены в гигабайты. Мегабайты из таблицы с тарифами переведены в гигабайты внутри функции."
   ]
  },
  {
   "cell_type": "code",
   "execution_count": 20,
   "metadata": {},
   "outputs": [],
   "source": [
    "def proceeds(data):\n",
    "    if data['tariff'] == 'smart':\n",
    "        if data['calls_duration'] > tariffs.loc[0,'minutes_included']:\n",
    "            exclim_min = data['calls_duration'] - tariffs.loc[0, 'minutes_included']\n",
    "        else:\n",
    "            exclim_min = 0\n",
    "        if data['messages_counts'] > tariffs.loc[0,'messages_included']:\n",
    "            exclim_mes = data['messages_counts'] - tariffs.loc[0,'messages_included'] \n",
    "        else:\n",
    "            exclim_mes = 0\n",
    "        if data['mb_used'] > tariffs.loc[0,'mb_per_month_included']:\n",
    "            exclim_gb = math.ceil(data['gb_used']) - (tariffs.loc[0,'mb_per_month_included'] / 1000)\n",
    "        else:\n",
    "            exclim_gb = 0\n",
    "        proceeds = exclim_min * tariffs.loc[0,'rub_per_minute'] + exclim_mes * tariffs.loc[0,'rub_per_message'] + exclim_gb * 1000 * tariffs.loc[0,'rub_per_gb'] + tariffs.loc[0,'rub_monthly_fee']\n",
    "    else:\n",
    "        if data['calls_duration'] > tariffs.loc[1, 'minutes_included']:\n",
    "            exclim_min = data['calls_duration'] - tariffs.loc[1, 'minutes_included']\n",
    "        else:\n",
    "            exclim_min = 0\n",
    "        if data['messages_counts'] > tariffs.loc[1,'messages_included']: \n",
    "            exclim_mes = data['messages_counts'] - tariffs.loc[1,'messages_included'] \n",
    "        else:\n",
    "            exclim_mes = 0\n",
    "        if data['mb_used'] > tariffs.loc[1,'mb_per_month_included']:\n",
    "            exclim_gb = math.ceil(data['gb_used']) - (tariffs.loc[1,'mb_per_month_included'] / 1000)\n",
    "        else:\n",
    "            exclim_gb = 0\n",
    "        proceeds = exclim_min * tariffs.loc[1,'rub_per_minute'] + exclim_mes * tariffs.loc[1,'rub_per_message'] + exclim_gb * 1000 * tariffs.loc[1,'rub_per_gb'] + tariffs.loc[1,'rub_monthly_fee']\n",
    "    return proceeds"
   ]
  },
  {
   "cell_type": "code",
   "execution_count": 21,
   "metadata": {},
   "outputs": [
    {
     "data": {
      "text/html": [
       "<div>\n",
       "<style scoped>\n",
       "    .dataframe tbody tr th:only-of-type {\n",
       "        vertical-align: middle;\n",
       "    }\n",
       "\n",
       "    .dataframe tbody tr th {\n",
       "        vertical-align: top;\n",
       "    }\n",
       "\n",
       "    .dataframe thead th {\n",
       "        text-align: right;\n",
       "    }\n",
       "</style>\n",
       "<table border=\"1\" class=\"dataframe\">\n",
       "  <thead>\n",
       "    <tr style=\"text-align: right;\">\n",
       "      <th></th>\n",
       "      <th></th>\n",
       "      <th>calls_duration</th>\n",
       "      <th>calls_counts</th>\n",
       "      <th>messages_counts</th>\n",
       "      <th>mb_used</th>\n",
       "      <th>tariff</th>\n",
       "      <th>city</th>\n",
       "      <th>gb_used</th>\n",
       "      <th>proceeds</th>\n",
       "    </tr>\n",
       "    <tr>\n",
       "      <th>user_id</th>\n",
       "      <th>month</th>\n",
       "      <th></th>\n",
       "      <th></th>\n",
       "      <th></th>\n",
       "      <th></th>\n",
       "      <th></th>\n",
       "      <th></th>\n",
       "      <th></th>\n",
       "      <th></th>\n",
       "    </tr>\n",
       "  </thead>\n",
       "  <tbody>\n",
       "    <tr>\n",
       "      <td rowspan=\"5\" valign=\"top\">1000</td>\n",
       "      <td>5</td>\n",
       "      <td>159</td>\n",
       "      <td>22</td>\n",
       "      <td>22.0</td>\n",
       "      <td>2253.49</td>\n",
       "      <td>ultra</td>\n",
       "      <td>краснодар</td>\n",
       "      <td>2.25349</td>\n",
       "      <td>1950.0</td>\n",
       "    </tr>\n",
       "    <tr>\n",
       "      <td>6</td>\n",
       "      <td>172</td>\n",
       "      <td>43</td>\n",
       "      <td>60.0</td>\n",
       "      <td>23233.77</td>\n",
       "      <td>ultra</td>\n",
       "      <td>краснодар</td>\n",
       "      <td>23.23377</td>\n",
       "      <td>1950.0</td>\n",
       "    </tr>\n",
       "    <tr>\n",
       "      <td>7</td>\n",
       "      <td>340</td>\n",
       "      <td>47</td>\n",
       "      <td>75.0</td>\n",
       "      <td>14003.64</td>\n",
       "      <td>ultra</td>\n",
       "      <td>краснодар</td>\n",
       "      <td>14.00364</td>\n",
       "      <td>1950.0</td>\n",
       "    </tr>\n",
       "    <tr>\n",
       "      <td>8</td>\n",
       "      <td>408</td>\n",
       "      <td>52</td>\n",
       "      <td>81.0</td>\n",
       "      <td>14055.93</td>\n",
       "      <td>ultra</td>\n",
       "      <td>краснодар</td>\n",
       "      <td>14.05593</td>\n",
       "      <td>1950.0</td>\n",
       "    </tr>\n",
       "    <tr>\n",
       "      <td>9</td>\n",
       "      <td>466</td>\n",
       "      <td>58</td>\n",
       "      <td>57.0</td>\n",
       "      <td>14568.91</td>\n",
       "      <td>ultra</td>\n",
       "      <td>краснодар</td>\n",
       "      <td>14.56891</td>\n",
       "      <td>1950.0</td>\n",
       "    </tr>\n",
       "    <tr>\n",
       "      <td>...</td>\n",
       "      <td>...</td>\n",
       "      <td>...</td>\n",
       "      <td>...</td>\n",
       "      <td>...</td>\n",
       "      <td>...</td>\n",
       "      <td>...</td>\n",
       "      <td>...</td>\n",
       "      <td>...</td>\n",
       "      <td>...</td>\n",
       "    </tr>\n",
       "    <tr>\n",
       "      <td>1498</td>\n",
       "      <td>10</td>\n",
       "      <td>247</td>\n",
       "      <td>41</td>\n",
       "      <td>42.0</td>\n",
       "      <td>20579.36</td>\n",
       "      <td>smart</td>\n",
       "      <td>владикавказ</td>\n",
       "      <td>20.57936</td>\n",
       "      <td>1128550.0</td>\n",
       "    </tr>\n",
       "    <tr>\n",
       "      <td rowspan=\"4\" valign=\"top\">1499</td>\n",
       "      <td>9</td>\n",
       "      <td>70</td>\n",
       "      <td>9</td>\n",
       "      <td>11.0</td>\n",
       "      <td>1845.75</td>\n",
       "      <td>smart</td>\n",
       "      <td>пермь</td>\n",
       "      <td>1.84575</td>\n",
       "      <td>550.0</td>\n",
       "    </tr>\n",
       "    <tr>\n",
       "      <td>10</td>\n",
       "      <td>449</td>\n",
       "      <td>68</td>\n",
       "      <td>48.0</td>\n",
       "      <td>17788.51</td>\n",
       "      <td>smart</td>\n",
       "      <td>пермь</td>\n",
       "      <td>17.78851</td>\n",
       "      <td>528550.0</td>\n",
       "    </tr>\n",
       "    <tr>\n",
       "      <td>11</td>\n",
       "      <td>612</td>\n",
       "      <td>74</td>\n",
       "      <td>59.0</td>\n",
       "      <td>17963.31</td>\n",
       "      <td>smart</td>\n",
       "      <td>пермь</td>\n",
       "      <td>17.96331</td>\n",
       "      <td>528913.0</td>\n",
       "    </tr>\n",
       "    <tr>\n",
       "      <td>12</td>\n",
       "      <td>492</td>\n",
       "      <td>69</td>\n",
       "      <td>66.0</td>\n",
       "      <td>13055.58</td>\n",
       "      <td>smart</td>\n",
       "      <td>пермь</td>\n",
       "      <td>13.05558</td>\n",
       "      <td>598.0</td>\n",
       "    </tr>\n",
       "  </tbody>\n",
       "</table>\n",
       "<p>3174 rows × 8 columns</p>\n",
       "</div>"
      ],
      "text/plain": [
       "               calls_duration  calls_counts  messages_counts   mb_used tariff  \\\n",
       "user_id month                                                                   \n",
       "1000    5                 159            22             22.0   2253.49  ultra   \n",
       "        6                 172            43             60.0  23233.77  ultra   \n",
       "        7                 340            47             75.0  14003.64  ultra   \n",
       "        8                 408            52             81.0  14055.93  ultra   \n",
       "        9                 466            58             57.0  14568.91  ultra   \n",
       "...                       ...           ...              ...       ...    ...   \n",
       "1498    10                247            41             42.0  20579.36  smart   \n",
       "1499    9                  70             9             11.0   1845.75  smart   \n",
       "        10                449            68             48.0  17788.51  smart   \n",
       "        11                612            74             59.0  17963.31  smart   \n",
       "        12                492            69             66.0  13055.58  smart   \n",
       "\n",
       "                      city   gb_used   proceeds  \n",
       "user_id month                                    \n",
       "1000    5        краснодар   2.25349     1950.0  \n",
       "        6        краснодар  23.23377     1950.0  \n",
       "        7        краснодар  14.00364     1950.0  \n",
       "        8        краснодар  14.05593     1950.0  \n",
       "        9        краснодар  14.56891     1950.0  \n",
       "...                    ...       ...        ...  \n",
       "1498    10     владикавказ  20.57936  1128550.0  \n",
       "1499    9            пермь   1.84575      550.0  \n",
       "        10           пермь  17.78851   528550.0  \n",
       "        11           пермь  17.96331   528913.0  \n",
       "        12           пермь  13.05558      598.0  \n",
       "\n",
       "[3174 rows x 8 columns]"
      ]
     },
     "execution_count": 21,
     "metadata": {},
     "output_type": "execute_result"
    }
   ],
   "source": [
    "counts['proceeds'] = counts.apply(proceeds, axis=1)\n",
    "counts"
   ]
  },
  {
   "cell_type": "code",
   "execution_count": 22,
   "metadata": {},
   "outputs": [],
   "source": [
    "counts.reset_index(inplace=True)"
   ]
  },
  {
   "cell_type": "markdown",
   "metadata": {},
   "source": [
    "# Шаг 3. Анализ данных"
   ]
  },
  {
   "cell_type": "code",
   "execution_count": 23,
   "metadata": {},
   "outputs": [
    {
     "data": {
      "image/png": "[encoded data removed]",
      "text/plain": [
       "<Figure size 432x288 with 1 Axes>"
      ]
     },
     "metadata": {
      "needs_background": "light"
     },
     "output_type": "display_data"
    },
    {
     "data": {
      "image/png": "[encoded data removed]",
      "text/plain": [
       "<Figure size 432x288 with 1 Axes>"
      ]
     },
     "metadata": {
      "needs_background": "light"
     },
     "output_type": "display_data"
    }
   ],
   "source": [
    "calls.boxplot(column='duration')\n",
    "plt.show()\n",
    "internet.boxplot(column='mb_used')\n",
    "plt.show()"
   ]
  },
  {
   "cell_type": "markdown",
   "metadata": {},
   "source": [
    "Сильных выбросов в данных о длительности звонков и использовании интернета нет. \n",
    "\n",
    "После округления длительности звонков распеределение изменилось."
   ]
  },
  {
   "cell_type": "code",
   "execution_count": 24,
   "metadata": {},
   "outputs": [
    {
     "data": {
      "text/html": [
       "<div>\n",
       "<style scoped>\n",
       "    .dataframe tbody tr th:only-of-type {\n",
       "        vertical-align: middle;\n",
       "    }\n",
       "\n",
       "    .dataframe tbody tr th {\n",
       "        vertical-align: top;\n",
       "    }\n",
       "\n",
       "    .dataframe thead th {\n",
       "        text-align: right;\n",
       "    }\n",
       "</style>\n",
       "<table border=\"1\" class=\"dataframe\">\n",
       "  <thead>\n",
       "    <tr style=\"text-align: right;\">\n",
       "      <th></th>\n",
       "      <th></th>\n",
       "      <th>calls_counts</th>\n",
       "      <th>calls_duration</th>\n",
       "      <th>cc_var</th>\n",
       "      <th>cc_std</th>\n",
       "      <th>cd_var</th>\n",
       "      <th>cd_std</th>\n",
       "    </tr>\n",
       "    <tr>\n",
       "      <th>tariff</th>\n",
       "      <th>month</th>\n",
       "      <th></th>\n",
       "      <th></th>\n",
       "      <th></th>\n",
       "      <th></th>\n",
       "      <th></th>\n",
       "      <th></th>\n",
       "    </tr>\n",
       "  </thead>\n",
       "  <tbody>\n",
       "    <tr>\n",
       "      <td rowspan=\"12\" valign=\"top\">smart</td>\n",
       "      <td>1</td>\n",
       "      <td>27.676471</td>\n",
       "      <td>203.852941</td>\n",
       "      <td>433.134581</td>\n",
       "      <td>20.811886</td>\n",
       "      <td>23787.341355</td>\n",
       "      <td>154.231454</td>\n",
       "    </tr>\n",
       "    <tr>\n",
       "      <td>2</td>\n",
       "      <td>40.189655</td>\n",
       "      <td>298.689655</td>\n",
       "      <td>644.858137</td>\n",
       "      <td>25.394057</td>\n",
       "      <td>36412.287961</td>\n",
       "      <td>190.820041</td>\n",
       "    </tr>\n",
       "    <tr>\n",
       "      <td>3</td>\n",
       "      <td>54.324675</td>\n",
       "      <td>390.051948</td>\n",
       "      <td>652.116883</td>\n",
       "      <td>25.536579</td>\n",
       "      <td>36823.155161</td>\n",
       "      <td>191.893604</td>\n",
       "    </tr>\n",
       "    <tr>\n",
       "      <td>4</td>\n",
       "      <td>51.312500</td>\n",
       "      <td>367.133929</td>\n",
       "      <td>660.739302</td>\n",
       "      <td>25.704850</td>\n",
       "      <td>34778.207127</td>\n",
       "      <td>186.489161</td>\n",
       "    </tr>\n",
       "    <tr>\n",
       "      <td>5</td>\n",
       "      <td>55.241135</td>\n",
       "      <td>387.361702</td>\n",
       "      <td>643.984296</td>\n",
       "      <td>25.376846</td>\n",
       "      <td>34820.061094</td>\n",
       "      <td>186.601343</td>\n",
       "    </tr>\n",
       "    <tr>\n",
       "      <td>6</td>\n",
       "      <td>55.889571</td>\n",
       "      <td>398.067485</td>\n",
       "      <td>554.592668</td>\n",
       "      <td>23.549791</td>\n",
       "      <td>29960.520109</td>\n",
       "      <td>173.091075</td>\n",
       "    </tr>\n",
       "    <tr>\n",
       "      <td>7</td>\n",
       "      <td>56.726368</td>\n",
       "      <td>408.353234</td>\n",
       "      <td>606.619751</td>\n",
       "      <td>24.629652</td>\n",
       "      <td>32250.269602</td>\n",
       "      <td>179.583601</td>\n",
       "    </tr>\n",
       "    <tr>\n",
       "      <td>8</td>\n",
       "      <td>59.230769</td>\n",
       "      <td>423.269231</td>\n",
       "      <td>622.667547</td>\n",
       "      <td>24.953307</td>\n",
       "      <td>34177.270551</td>\n",
       "      <td>184.870956</td>\n",
       "    </tr>\n",
       "    <tr>\n",
       "      <td>9</td>\n",
       "      <td>59.776062</td>\n",
       "      <td>430.266409</td>\n",
       "      <td>613.515549</td>\n",
       "      <td>24.769246</td>\n",
       "      <td>32950.529526</td>\n",
       "      <td>181.522807</td>\n",
       "    </tr>\n",
       "    <tr>\n",
       "      <td>10</td>\n",
       "      <td>60.167235</td>\n",
       "      <td>427.590444</td>\n",
       "      <td>629.749334</td>\n",
       "      <td>25.094807</td>\n",
       "      <td>34889.530319</td>\n",
       "      <td>186.787393</td>\n",
       "    </tr>\n",
       "    <tr>\n",
       "      <td>11</td>\n",
       "      <td>61.698413</td>\n",
       "      <td>436.647619</td>\n",
       "      <td>604.962896</td>\n",
       "      <td>24.595993</td>\n",
       "      <td>31100.611101</td>\n",
       "      <td>176.353653</td>\n",
       "    </tr>\n",
       "    <tr>\n",
       "      <td>12</td>\n",
       "      <td>66.684524</td>\n",
       "      <td>479.985119</td>\n",
       "      <td>707.273312</td>\n",
       "      <td>26.594611</td>\n",
       "      <td>39131.447539</td>\n",
       "      <td>197.816702</td>\n",
       "    </tr>\n",
       "    <tr>\n",
       "      <td rowspan=\"12\" valign=\"top\">ultra</td>\n",
       "      <td>1</td>\n",
       "      <td>59.444444</td>\n",
       "      <td>428.111111</td>\n",
       "      <td>1733.777778</td>\n",
       "      <td>41.638657</td>\n",
       "      <td>72769.361111</td>\n",
       "      <td>269.757968</td>\n",
       "    </tr>\n",
       "    <tr>\n",
       "      <td>2</td>\n",
       "      <td>41.541667</td>\n",
       "      <td>297.125000</td>\n",
       "      <td>1678.693841</td>\n",
       "      <td>40.971866</td>\n",
       "      <td>87919.679348</td>\n",
       "      <td>296.512528</td>\n",
       "    </tr>\n",
       "    <tr>\n",
       "      <td>3</td>\n",
       "      <td>67.675676</td>\n",
       "      <td>489.648649</td>\n",
       "      <td>2010.447447</td>\n",
       "      <td>44.838013</td>\n",
       "      <td>111384.900901</td>\n",
       "      <td>333.743765</td>\n",
       "    </tr>\n",
       "    <tr>\n",
       "      <td>4</td>\n",
       "      <td>66.509434</td>\n",
       "      <td>475.301887</td>\n",
       "      <td>1202.293179</td>\n",
       "      <td>34.674100</td>\n",
       "      <td>66036.830189</td>\n",
       "      <td>256.976322</td>\n",
       "    </tr>\n",
       "    <tr>\n",
       "      <td>5</td>\n",
       "      <td>75.906250</td>\n",
       "      <td>534.250000</td>\n",
       "      <td>1505.927579</td>\n",
       "      <td>38.806283</td>\n",
       "      <td>74881.015873</td>\n",
       "      <td>273.643958</td>\n",
       "    </tr>\n",
       "    <tr>\n",
       "      <td>6</td>\n",
       "      <td>69.209877</td>\n",
       "      <td>497.469136</td>\n",
       "      <td>1470.542901</td>\n",
       "      <td>38.347658</td>\n",
       "      <td>86019.652160</td>\n",
       "      <td>293.291071</td>\n",
       "    </tr>\n",
       "    <tr>\n",
       "      <td>7</td>\n",
       "      <td>78.363636</td>\n",
       "      <td>564.397727</td>\n",
       "      <td>1698.486938</td>\n",
       "      <td>41.212704</td>\n",
       "      <td>86952.587121</td>\n",
       "      <td>294.877241</td>\n",
       "    </tr>\n",
       "    <tr>\n",
       "      <td>8</td>\n",
       "      <td>74.058252</td>\n",
       "      <td>530.611650</td>\n",
       "      <td>1762.663240</td>\n",
       "      <td>41.984083</td>\n",
       "      <td>91169.553588</td>\n",
       "      <td>301.942964</td>\n",
       "    </tr>\n",
       "    <tr>\n",
       "      <td>9</td>\n",
       "      <td>77.288288</td>\n",
       "      <td>558.882883</td>\n",
       "      <td>1831.352498</td>\n",
       "      <td>42.794305</td>\n",
       "      <td>98597.904341</td>\n",
       "      <td>314.003032</td>\n",
       "    </tr>\n",
       "    <tr>\n",
       "      <td>10</td>\n",
       "      <td>80.652542</td>\n",
       "      <td>581.728814</td>\n",
       "      <td>1896.074823</td>\n",
       "      <td>43.543941</td>\n",
       "      <td>97140.336086</td>\n",
       "      <td>311.673445</td>\n",
       "    </tr>\n",
       "    <tr>\n",
       "      <td>11</td>\n",
       "      <td>78.031008</td>\n",
       "      <td>562.364341</td>\n",
       "      <td>1655.217781</td>\n",
       "      <td>40.684368</td>\n",
       "      <td>88449.624031</td>\n",
       "      <td>297.404815</td>\n",
       "    </tr>\n",
       "    <tr>\n",
       "      <td>12</td>\n",
       "      <td>86.425373</td>\n",
       "      <td>614.925373</td>\n",
       "      <td>2141.208675</td>\n",
       "      <td>46.273196</td>\n",
       "      <td>107981.031983</td>\n",
       "      <td>328.604674</td>\n",
       "    </tr>\n",
       "  </tbody>\n",
       "</table>\n",
       "</div>"
      ],
      "text/plain": [
       "              calls_counts  calls_duration       cc_var     cc_std  \\\n",
       "tariff month                                                         \n",
       "smart  1         27.676471      203.852941   433.134581  20.811886   \n",
       "       2         40.189655      298.689655   644.858137  25.394057   \n",
       "       3         54.324675      390.051948   652.116883  25.536579   \n",
       "       4         51.312500      367.133929   660.739302  25.704850   \n",
       "       5         55.241135      387.361702   643.984296  25.376846   \n",
       "       6         55.889571      398.067485   554.592668  23.549791   \n",
       "       7         56.726368      408.353234   606.619751  24.629652   \n",
       "       8         59.230769      423.269231   622.667547  24.953307   \n",
       "       9         59.776062      430.266409   613.515549  24.769246   \n",
       "       10        60.167235      427.590444   629.749334  25.094807   \n",
       "       11        61.698413      436.647619   604.962896  24.595993   \n",
       "       12        66.684524      479.985119   707.273312  26.594611   \n",
       "ultra  1         59.444444      428.111111  1733.777778  41.638657   \n",
       "       2         41.541667      297.125000  1678.693841  40.971866   \n",
       "       3         67.675676      489.648649  2010.447447  44.838013   \n",
       "       4         66.509434      475.301887  1202.293179  34.674100   \n",
       "       5         75.906250      534.250000  1505.927579  38.806283   \n",
       "       6         69.209877      497.469136  1470.542901  38.347658   \n",
       "       7         78.363636      564.397727  1698.486938  41.212704   \n",
       "       8         74.058252      530.611650  1762.663240  41.984083   \n",
       "       9         77.288288      558.882883  1831.352498  42.794305   \n",
       "       10        80.652542      581.728814  1896.074823  43.543941   \n",
       "       11        78.031008      562.364341  1655.217781  40.684368   \n",
       "       12        86.425373      614.925373  2141.208675  46.273196   \n",
       "\n",
       "                     cd_var      cd_std  \n",
       "tariff month                             \n",
       "smart  1       23787.341355  154.231454  \n",
       "       2       36412.287961  190.820041  \n",
       "       3       36823.155161  191.893604  \n",
       "       4       34778.207127  186.489161  \n",
       "       5       34820.061094  186.601343  \n",
       "       6       29960.520109  173.091075  \n",
       "       7       32250.269602  179.583601  \n",
       "       8       34177.270551  184.870956  \n",
       "       9       32950.529526  181.522807  \n",
       "       10      34889.530319  186.787393  \n",
       "       11      31100.611101  176.353653  \n",
       "       12      39131.447539  197.816702  \n",
       "ultra  1       72769.361111  269.757968  \n",
       "       2       87919.679348  296.512528  \n",
       "       3      111384.900901  333.743765  \n",
       "       4       66036.830189  256.976322  \n",
       "       5       74881.015873  273.643958  \n",
       "       6       86019.652160  293.291071  \n",
       "       7       86952.587121  294.877241  \n",
       "       8       91169.553588  301.942964  \n",
       "       9       98597.904341  314.003032  \n",
       "       10      97140.336086  311.673445  \n",
       "       11      88449.624031  297.404815  \n",
       "       12     107981.031983  328.604674  "
      ]
     },
     "metadata": {},
     "output_type": "display_data"
    },
    {
     "data": {
      "text/html": [
       "<div>\n",
       "<style scoped>\n",
       "    .dataframe tbody tr th:only-of-type {\n",
       "        vertical-align: middle;\n",
       "    }\n",
       "\n",
       "    .dataframe tbody tr th {\n",
       "        vertical-align: top;\n",
       "    }\n",
       "\n",
       "    .dataframe thead th {\n",
       "        text-align: right;\n",
       "    }\n",
       "</style>\n",
       "<table border=\"1\" class=\"dataframe\">\n",
       "  <thead>\n",
       "    <tr style=\"text-align: right;\">\n",
       "      <th></th>\n",
       "      <th></th>\n",
       "      <th>mb_used</th>\n",
       "      <th>mb_var</th>\n",
       "      <th>mb_std</th>\n",
       "    </tr>\n",
       "    <tr>\n",
       "      <th>tariff</th>\n",
       "      <th>month</th>\n",
       "      <th></th>\n",
       "      <th></th>\n",
       "      <th></th>\n",
       "    </tr>\n",
       "  </thead>\n",
       "  <tbody>\n",
       "    <tr>\n",
       "      <td rowspan=\"12\" valign=\"top\">smart</td>\n",
       "      <td>1</td>\n",
       "      <td>8513.717647</td>\n",
       "      <td>4.153391e+07</td>\n",
       "      <td>6444.681014</td>\n",
       "    </tr>\n",
       "    <tr>\n",
       "      <td>2</td>\n",
       "      <td>11597.054310</td>\n",
       "      <td>3.902943e+07</td>\n",
       "      <td>6247.353833</td>\n",
       "    </tr>\n",
       "    <tr>\n",
       "      <td>3</td>\n",
       "      <td>15104.159091</td>\n",
       "      <td>3.396835e+07</td>\n",
       "      <td>5828.237537</td>\n",
       "    </tr>\n",
       "    <tr>\n",
       "      <td>4</td>\n",
       "      <td>13462.180625</td>\n",
       "      <td>3.247004e+07</td>\n",
       "      <td>5698.249092</td>\n",
       "    </tr>\n",
       "    <tr>\n",
       "      <td>5</td>\n",
       "      <td>15805.184326</td>\n",
       "      <td>3.573925e+07</td>\n",
       "      <td>5978.231725</td>\n",
       "    </tr>\n",
       "    <tr>\n",
       "      <td>6</td>\n",
       "      <td>15815.210982</td>\n",
       "      <td>3.367473e+07</td>\n",
       "      <td>5802.993301</td>\n",
       "    </tr>\n",
       "    <tr>\n",
       "      <td>7</td>\n",
       "      <td>15743.150348</td>\n",
       "      <td>3.477643e+07</td>\n",
       "      <td>5897.154446</td>\n",
       "    </tr>\n",
       "    <tr>\n",
       "      <td>8</td>\n",
       "      <td>16705.874077</td>\n",
       "      <td>3.022531e+07</td>\n",
       "      <td>5497.754779</td>\n",
       "    </tr>\n",
       "    <tr>\n",
       "      <td>9</td>\n",
       "      <td>16300.093398</td>\n",
       "      <td>2.710110e+07</td>\n",
       "      <td>5205.871476</td>\n",
       "    </tr>\n",
       "    <tr>\n",
       "      <td>10</td>\n",
       "      <td>16747.558669</td>\n",
       "      <td>3.442298e+07</td>\n",
       "      <td>5867.109828</td>\n",
       "    </tr>\n",
       "    <tr>\n",
       "      <td>11</td>\n",
       "      <td>16893.805016</td>\n",
       "      <td>2.860821e+07</td>\n",
       "      <td>5348.664238</td>\n",
       "    </tr>\n",
       "    <tr>\n",
       "      <td>12</td>\n",
       "      <td>18116.016667</td>\n",
       "      <td>3.115680e+07</td>\n",
       "      <td>5581.827542</td>\n",
       "    </tr>\n",
       "    <tr>\n",
       "      <td rowspan=\"12\" valign=\"top\">ultra</td>\n",
       "      <td>1</td>\n",
       "      <td>13140.681111</td>\n",
       "      <td>4.713299e+07</td>\n",
       "      <td>6865.346875</td>\n",
       "    </tr>\n",
       "    <tr>\n",
       "      <td>2</td>\n",
       "      <td>12846.477273</td>\n",
       "      <td>1.096922e+08</td>\n",
       "      <td>10473.403015</td>\n",
       "    </tr>\n",
       "    <tr>\n",
       "      <td>3</td>\n",
       "      <td>17535.550270</td>\n",
       "      <td>1.199416e+08</td>\n",
       "      <td>10951.785885</td>\n",
       "    </tr>\n",
       "    <tr>\n",
       "      <td>4</td>\n",
       "      <td>17397.983396</td>\n",
       "      <td>8.892813e+07</td>\n",
       "      <td>9430.171389</td>\n",
       "    </tr>\n",
       "    <tr>\n",
       "      <td>5</td>\n",
       "      <td>19987.237778</td>\n",
       "      <td>9.849093e+07</td>\n",
       "      <td>9924.259566</td>\n",
       "    </tr>\n",
       "    <tr>\n",
       "      <td>6</td>\n",
       "      <td>19145.200625</td>\n",
       "      <td>8.417380e+07</td>\n",
       "      <td>9174.627992</td>\n",
       "    </tr>\n",
       "    <tr>\n",
       "      <td>7</td>\n",
       "      <td>20682.044368</td>\n",
       "      <td>1.002920e+08</td>\n",
       "      <td>10014.589840</td>\n",
       "    </tr>\n",
       "    <tr>\n",
       "      <td>8</td>\n",
       "      <td>19783.962745</td>\n",
       "      <td>1.088943e+08</td>\n",
       "      <td>10435.241538</td>\n",
       "    </tr>\n",
       "    <tr>\n",
       "      <td>9</td>\n",
       "      <td>19268.012818</td>\n",
       "      <td>8.876733e+07</td>\n",
       "      <td>9421.641423</td>\n",
       "    </tr>\n",
       "    <tr>\n",
       "      <td>10</td>\n",
       "      <td>20245.913504</td>\n",
       "      <td>9.564828e+07</td>\n",
       "      <td>9779.994093</td>\n",
       "    </tr>\n",
       "    <tr>\n",
       "      <td>11</td>\n",
       "      <td>19794.127656</td>\n",
       "      <td>9.676281e+07</td>\n",
       "      <td>9836.808899</td>\n",
       "    </tr>\n",
       "    <tr>\n",
       "      <td>12</td>\n",
       "      <td>21857.015338</td>\n",
       "      <td>1.050832e+08</td>\n",
       "      <td>10251.010672</td>\n",
       "    </tr>\n",
       "  </tbody>\n",
       "</table>\n",
       "</div>"
      ],
      "text/plain": [
       "                   mb_used        mb_var        mb_std\n",
       "tariff month                                          \n",
       "smart  1       8513.717647  4.153391e+07   6444.681014\n",
       "       2      11597.054310  3.902943e+07   6247.353833\n",
       "       3      15104.159091  3.396835e+07   5828.237537\n",
       "       4      13462.180625  3.247004e+07   5698.249092\n",
       "       5      15805.184326  3.573925e+07   5978.231725\n",
       "       6      15815.210982  3.367473e+07   5802.993301\n",
       "       7      15743.150348  3.477643e+07   5897.154446\n",
       "       8      16705.874077  3.022531e+07   5497.754779\n",
       "       9      16300.093398  2.710110e+07   5205.871476\n",
       "       10     16747.558669  3.442298e+07   5867.109828\n",
       "       11     16893.805016  2.860821e+07   5348.664238\n",
       "       12     18116.016667  3.115680e+07   5581.827542\n",
       "ultra  1      13140.681111  4.713299e+07   6865.346875\n",
       "       2      12846.477273  1.096922e+08  10473.403015\n",
       "       3      17535.550270  1.199416e+08  10951.785885\n",
       "       4      17397.983396  8.892813e+07   9430.171389\n",
       "       5      19987.237778  9.849093e+07   9924.259566\n",
       "       6      19145.200625  8.417380e+07   9174.627992\n",
       "       7      20682.044368  1.002920e+08  10014.589840\n",
       "       8      19783.962745  1.088943e+08  10435.241538\n",
       "       9      19268.012818  8.876733e+07   9421.641423\n",
       "       10     20245.913504  9.564828e+07   9779.994093\n",
       "       11     19794.127656  9.676281e+07   9836.808899\n",
       "       12     21857.015338  1.050832e+08  10251.010672"
      ]
     },
     "metadata": {},
     "output_type": "display_data"
    },
    {
     "data": {
      "text/html": [
       "<div>\n",
       "<style scoped>\n",
       "    .dataframe tbody tr th:only-of-type {\n",
       "        vertical-align: middle;\n",
       "    }\n",
       "\n",
       "    .dataframe tbody tr th {\n",
       "        vertical-align: top;\n",
       "    }\n",
       "\n",
       "    .dataframe thead th {\n",
       "        text-align: right;\n",
       "    }\n",
       "</style>\n",
       "<table border=\"1\" class=\"dataframe\">\n",
       "  <thead>\n",
       "    <tr style=\"text-align: right;\">\n",
       "      <th></th>\n",
       "      <th></th>\n",
       "      <th>messages_counts</th>\n",
       "      <th>messages_var</th>\n",
       "      <th>messages_std</th>\n",
       "    </tr>\n",
       "    <tr>\n",
       "      <th>tariff</th>\n",
       "      <th>month</th>\n",
       "      <th></th>\n",
       "      <th></th>\n",
       "      <th></th>\n",
       "    </tr>\n",
       "  </thead>\n",
       "  <tbody>\n",
       "    <tr>\n",
       "      <td rowspan=\"12\" valign=\"top\">smart</td>\n",
       "      <td>1</td>\n",
       "      <td>20.000000</td>\n",
       "      <td>252.133333</td>\n",
       "      <td>15.878707</td>\n",
       "    </tr>\n",
       "    <tr>\n",
       "      <td>2</td>\n",
       "      <td>27.940000</td>\n",
       "      <td>440.465714</td>\n",
       "      <td>20.987275</td>\n",
       "    </tr>\n",
       "    <tr>\n",
       "      <td>3</td>\n",
       "      <td>35.550725</td>\n",
       "      <td>669.780477</td>\n",
       "      <td>25.880117</td>\n",
       "    </tr>\n",
       "    <tr>\n",
       "      <td>4</td>\n",
       "      <td>35.864583</td>\n",
       "      <td>517.865680</td>\n",
       "      <td>22.756662</td>\n",
       "    </tr>\n",
       "    <tr>\n",
       "      <td>5</td>\n",
       "      <td>39.032787</td>\n",
       "      <td>638.775776</td>\n",
       "      <td>25.274014</td>\n",
       "    </tr>\n",
       "    <tr>\n",
       "      <td>6</td>\n",
       "      <td>38.510638</td>\n",
       "      <td>736.223100</td>\n",
       "      <td>27.133431</td>\n",
       "    </tr>\n",
       "    <tr>\n",
       "      <td>7</td>\n",
       "      <td>38.988506</td>\n",
       "      <td>719.352468</td>\n",
       "      <td>26.820747</td>\n",
       "    </tr>\n",
       "    <tr>\n",
       "      <td>8</td>\n",
       "      <td>38.857143</td>\n",
       "      <td>768.657709</td>\n",
       "      <td>27.724677</td>\n",
       "    </tr>\n",
       "    <tr>\n",
       "      <td>9</td>\n",
       "      <td>39.252252</td>\n",
       "      <td>705.447393</td>\n",
       "      <td>26.560260</td>\n",
       "    </tr>\n",
       "    <tr>\n",
       "      <td>10</td>\n",
       "      <td>39.154150</td>\n",
       "      <td>738.122969</td>\n",
       "      <td>27.168419</td>\n",
       "    </tr>\n",
       "    <tr>\n",
       "      <td>11</td>\n",
       "      <td>39.955390</td>\n",
       "      <td>712.535316</td>\n",
       "      <td>26.693357</td>\n",
       "    </tr>\n",
       "    <tr>\n",
       "      <td>12</td>\n",
       "      <td>42.290210</td>\n",
       "      <td>835.182149</td>\n",
       "      <td>28.899518</td>\n",
       "    </tr>\n",
       "    <tr>\n",
       "      <td rowspan=\"12\" valign=\"top\">ultra</td>\n",
       "      <td>1</td>\n",
       "      <td>43.428571</td>\n",
       "      <td>765.285714</td>\n",
       "      <td>27.663798</td>\n",
       "    </tr>\n",
       "    <tr>\n",
       "      <td>2</td>\n",
       "      <td>32.937500</td>\n",
       "      <td>713.395833</td>\n",
       "      <td>26.709471</td>\n",
       "    </tr>\n",
       "    <tr>\n",
       "      <td>3</td>\n",
       "      <td>47.800000</td>\n",
       "      <td>1826.666667</td>\n",
       "      <td>42.739521</td>\n",
       "    </tr>\n",
       "    <tr>\n",
       "      <td>4</td>\n",
       "      <td>45.447368</td>\n",
       "      <td>1411.334993</td>\n",
       "      <td>37.567739</td>\n",
       "    </tr>\n",
       "    <tr>\n",
       "      <td>5</td>\n",
       "      <td>49.448980</td>\n",
       "      <td>1639.419218</td>\n",
       "      <td>40.489742</td>\n",
       "    </tr>\n",
       "    <tr>\n",
       "      <td>6</td>\n",
       "      <td>50.687500</td>\n",
       "      <td>1658.440476</td>\n",
       "      <td>40.723955</td>\n",
       "    </tr>\n",
       "    <tr>\n",
       "      <td>7</td>\n",
       "      <td>60.942857</td>\n",
       "      <td>1931.619876</td>\n",
       "      <td>43.950198</td>\n",
       "    </tr>\n",
       "    <tr>\n",
       "      <td>8</td>\n",
       "      <td>58.690476</td>\n",
       "      <td>1899.348824</td>\n",
       "      <td>43.581519</td>\n",
       "    </tr>\n",
       "    <tr>\n",
       "      <td>9</td>\n",
       "      <td>63.197802</td>\n",
       "      <td>1767.982662</td>\n",
       "      <td>42.047386</td>\n",
       "    </tr>\n",
       "    <tr>\n",
       "      <td>10</td>\n",
       "      <td>70.397959</td>\n",
       "      <td>2326.159583</td>\n",
       "      <td>48.230277</td>\n",
       "    </tr>\n",
       "    <tr>\n",
       "      <td>11</td>\n",
       "      <td>66.888889</td>\n",
       "      <td>2163.632399</td>\n",
       "      <td>46.514862</td>\n",
       "    </tr>\n",
       "    <tr>\n",
       "      <td>12</td>\n",
       "      <td>72.687500</td>\n",
       "      <td>2249.964527</td>\n",
       "      <td>47.433791</td>\n",
       "    </tr>\n",
       "  </tbody>\n",
       "</table>\n",
       "</div>"
      ],
      "text/plain": [
       "              messages_counts  messages_var  messages_std\n",
       "tariff month                                             \n",
       "smart  1            20.000000    252.133333     15.878707\n",
       "       2            27.940000    440.465714     20.987275\n",
       "       3            35.550725    669.780477     25.880117\n",
       "       4            35.864583    517.865680     22.756662\n",
       "       5            39.032787    638.775776     25.274014\n",
       "       6            38.510638    736.223100     27.133431\n",
       "       7            38.988506    719.352468     26.820747\n",
       "       8            38.857143    768.657709     27.724677\n",
       "       9            39.252252    705.447393     26.560260\n",
       "       10           39.154150    738.122969     27.168419\n",
       "       11           39.955390    712.535316     26.693357\n",
       "       12           42.290210    835.182149     28.899518\n",
       "ultra  1            43.428571    765.285714     27.663798\n",
       "       2            32.937500    713.395833     26.709471\n",
       "       3            47.800000   1826.666667     42.739521\n",
       "       4            45.447368   1411.334993     37.567739\n",
       "       5            49.448980   1639.419218     40.489742\n",
       "       6            50.687500   1658.440476     40.723955\n",
       "       7            60.942857   1931.619876     43.950198\n",
       "       8            58.690476   1899.348824     43.581519\n",
       "       9            63.197802   1767.982662     42.047386\n",
       "       10           70.397959   2326.159583     48.230277\n",
       "       11           66.888889   2163.632399     46.514862\n",
       "       12           72.687500   2249.964527     47.433791"
      ]
     },
     "metadata": {},
     "output_type": "display_data"
    }
   ],
   "source": [
    "calls_stat = counts.pivot_table(index=['tariff', 'month'], values=['calls_duration', 'calls_counts'], aggfunc='mean')\n",
    "calls_stat['cc_var'] = counts.groupby(['tariff', 'month'])['calls_counts'].var(ddof=1)\n",
    "calls_stat['cc_std'] = np.sqrt(calls_stat['cc_var'])\n",
    "calls_stat['cd_var'] = counts.groupby(['tariff', 'month'])['calls_duration'].var(ddof=1)\n",
    "calls_stat['cd_std'] = np.sqrt(calls_stat['cd_var'])\n",
    "mb_stat = counts.pivot_table(index=['tariff', 'month'], values=['mb_used'], aggfunc='mean')\n",
    "mb_stat['mb_var'] = counts.groupby(['tariff', 'month'])['mb_used'].var(ddof=1)\n",
    "mb_stat['mb_std'] = np.sqrt(mb_stat['mb_var'])\n",
    "messages_stat = counts.pivot_table(index=['tariff', 'month'], values=['messages_counts'], aggfunc='mean')\n",
    "messages_stat['messages_var'] = counts.groupby(['tariff', 'month'])['messages_counts'].var(ddof=1)\n",
    "messages_stat['messages_std'] = np.sqrt(messages_stat['messages_var'])\n",
    "display(calls_stat)\n",
    "display(mb_stat)\n",
    "display(messages_stat)"
   ]
  },
  {
   "cell_type": "code",
   "execution_count": 25,
   "metadata": {},
   "outputs": [
    {
     "data": {
      "image/png": "[encoded data removed]",
      "text/plain": [
       "<Figure size 432x288 with 1 Axes>"
      ]
     },
     "metadata": {
      "needs_background": "light"
     },
     "output_type": "display_data"
    }
   ],
   "source": [
    "fig, ax = plt.subplots()\n",
    "calls_stat.query('tariff == \"smart\"')['calls_counts'].hist(label='smart')\n",
    "calls_stat.query('tariff == \"ultra\"')['calls_counts'].hist(alpha=0.8, label='ultra')\n",
    "ax.set_title('distribution of the number of calls')\n",
    "ax.legend()\n",
    "ax.set_xlabel('calls_counts')\n",
    "ax.set_ylabel('frequency');"
   ]
  },
  {
   "cell_type": "code",
   "execution_count": 26,
   "metadata": {},
   "outputs": [
    {
     "data": {
      "image/png": "[encoded data removed]",
      "text/plain": [
       "<Figure size 432x288 with 1 Axes>"
      ]
     },
     "metadata": {
      "needs_background": "light"
     },
     "output_type": "display_data"
    }
   ],
   "source": [
    "fig, ax = plt.subplots()\n",
    "calls_stat.query('tariff == \"smart\"')['calls_duration'].hist(label='smart')\n",
    "calls_stat.query('tariff == \"ultra\"')['calls_duration'].hist(alpha=0.8, label='ultra')\n",
    "ax.set_title('distribution of the duration of calls')\n",
    "ax.legend()\n",
    "ax.set_xlabel('calls_duration')\n",
    "ax.set_ylabel('frequency');"
   ]
  },
  {
   "cell_type": "code",
   "execution_count": 27,
   "metadata": {},
   "outputs": [
    {
     "data": {
      "image/png": "[encoded data removed]",
      "text/plain": [
       "<Figure size 432x288 with 1 Axes>"
      ]
     },
     "metadata": {
      "needs_background": "light"
     },
     "output_type": "display_data"
    }
   ],
   "source": [
    "fig, ax = plt.subplots()\n",
    "calls_stat.query('tariff == \"smart\"')['cc_var'].hist(label='smart')\n",
    "calls_stat.query('tariff == \"ultra\"')['cc_var'].hist(alpha=0.8, label='ultra')\n",
    "ax.set_title('distribution of variance of the number of calls')\n",
    "ax.legend()\n",
    "ax.set_xlabel('varience of calls_counts')\n",
    "ax.set_ylabel('frequency');"
   ]
  },
  {
   "cell_type": "code",
   "execution_count": 28,
   "metadata": {},
   "outputs": [
    {
     "data": {
      "image/png": "[encoded data removed]",
      "text/plain": [
       "<Figure size 432x288 with 1 Axes>"
      ]
     },
     "metadata": {
      "needs_background": "light"
     },
     "output_type": "display_data"
    }
   ],
   "source": [
    "fig, ax = plt.subplots()\n",
    "calls_stat.query('tariff == \"smart\"')['cd_var'].hist(label='smart')\n",
    "calls_stat.query('tariff == \"ultra\"')['cd_var'].hist(alpha=0.8, label='ultra')\n",
    "ax.set_title('distribution of variance of the duration of calls')\n",
    "ax.legend()\n",
    "ax.set_xlabel('varience of calls_duration')\n",
    "ax.set_ylabel('frequency');"
   ]
  },
  {
   "cell_type": "code",
   "execution_count": 29,
   "metadata": {},
   "outputs": [
    {
     "data": {
      "image/png": "[encoded data removed]",
      "text/plain": [
       "<Figure size 432x288 with 1 Axes>"
      ]
     },
     "metadata": {
      "needs_background": "light"
     },
     "output_type": "display_data"
    }
   ],
   "source": [
    "fig, ax = plt.subplots()\n",
    "mb_stat.query('tariff == \"smart\"')['mb_used'].hist(label='smart')\n",
    "mb_stat.query('tariff == \"ultra\"')['mb_used'].hist(alpha=0.8, label='ultra')\n",
    "ax.set_title('distribution of mb_used')\n",
    "ax.legend()\n",
    "ax.set_xlabel('mb_used')\n",
    "ax.set_ylabel('frequency');"
   ]
  },
  {
   "cell_type": "code",
   "execution_count": 30,
   "metadata": {},
   "outputs": [
    {
     "data": {
      "image/png": "[encoded data removed]",
      "text/plain": [
       "<Figure size 432x288 with 1 Axes>"
      ]
     },
     "metadata": {
      "needs_background": "light"
     },
     "output_type": "display_data"
    }
   ],
   "source": [
    "fig, ax = plt.subplots()\n",
    "mb_stat.query('tariff == \"smart\"')['mb_var'].hist(label='smart')\n",
    "mb_stat.query('tariff == \"ultra\"')['mb_var'].hist(alpha=0.8, label='ultra')\n",
    "ax.set_title('distribution of variance of mb_used')\n",
    "ax.legend()\n",
    "ax.set_xlabel('varience of mb_used')\n",
    "ax.set_ylabel('frequency');"
   ]
  },
  {
   "cell_type": "code",
   "execution_count": 31,
   "metadata": {},
   "outputs": [
    {
     "data": {
      "image/png": "[encoded data removed]",
      "text/plain": [
       "<Figure size 432x288 with 1 Axes>"
      ]
     },
     "metadata": {
      "needs_background": "light"
     },
     "output_type": "display_data"
    }
   ],
   "source": [
    "fig, ax = plt.subplots()\n",
    "messages_stat.query('tariff == \"smart\"')['messages_counts'].hist(label='smart')\n",
    "messages_stat.query('tariff == \"ultra\"')['messages_counts'].hist(alpha=0.8, label='ultra')\n",
    "ax.set_title('distribution of the number of messages')\n",
    "ax.legend()\n",
    "ax.set_xlabel('messages_counts')\n",
    "ax.set_ylabel('frequency');"
   ]
  },
  {
   "cell_type": "code",
   "execution_count": 32,
   "metadata": {
    "scrolled": true
   },
   "outputs": [
    {
     "data": {
      "image/png": "[encoded data removed]",
      "text/plain": [
       "<Figure size 432x288 with 1 Axes>"
      ]
     },
     "metadata": {
      "needs_background": "light"
     },
     "output_type": "display_data"
    }
   ],
   "source": [
    "fig, ax = plt.subplots()\n",
    "messages_stat.query('tariff == \"smart\"')['messages_var'].hist(label='smart')\n",
    "messages_stat.query('tariff == \"ultra\"')['messages_var'].hist(alpha=0.8, label='ultra')\n",
    "ax.set_title('distribution of variance of the number of messages')\n",
    "ax.legend()\n",
    "ax.set_xlabel('varience of messages_counts')\n",
    "ax.set_ylabel('frequency');"
   ]
  },
  {
   "cell_type": "markdown",
   "metadata": {},
   "source": [
    "Распределения по звонкам и использованию интернету похоже у обоих тарифов, но в тарифе ultra все значения больше. Распределения дисперсии по использованию интернета различается. Распределения по сообщениям различаются."
   ]
  },
  {
   "cell_type": "code",
   "execution_count": 33,
   "metadata": {},
   "outputs": [],
   "source": [
    "calls_stat.reset_index(inplace=True)\n",
    "mb_stat.reset_index(inplace=True)\n",
    "messages_stat.reset_index(inplace=True)"
   ]
  },
  {
   "cell_type": "code",
   "execution_count": 34,
   "metadata": {},
   "outputs": [
    {
     "data": {
      "image/png": "[encoded data removed]",
      "text/plain": [
       "<Figure size 432x288 with 1 Axes>"
      ]
     },
     "metadata": {
      "needs_background": "light"
     },
     "output_type": "display_data"
    }
   ],
   "source": [
    "ax_calls = sns.barplot(x='month', y='calls_counts', hue='tariff', data=calls_stat)\n",
    "ax_calls.axes.set_title(\"Counts of calls from users of different tariffs by month\", fontsize=14);"
   ]
  },
  {
   "cell_type": "code",
   "execution_count": 35,
   "metadata": {},
   "outputs": [
    {
     "data": {
      "image/png": "[encoded data removed]",
      "text/plain": [
       "<Figure size 432x288 with 1 Axes>"
      ]
     },
     "metadata": {
      "needs_background": "light"
     },
     "output_type": "display_data"
    }
   ],
   "source": [
    "ax_mb = sns.barplot(x='month', y='mb_used', hue='tariff', data=mb_stat)\n",
    "ax_mb.axes.set_title(\"Internet use by users of different tariffs by month\", fontsize=14);"
   ]
  },
  {
   "cell_type": "code",
   "execution_count": 36,
   "metadata": {},
   "outputs": [
    {
     "data": {
      "image/png": "[encoded data removed]",
      "text/plain": [
       "<Figure size 432x288 with 1 Axes>"
      ]
     },
     "metadata": {
      "needs_background": "light"
     },
     "output_type": "display_data"
    }
   ],
   "source": [
    "ax_calls = sns.barplot(x='month', y='messages_counts', hue='tariff', data=messages_stat)\n",
    "ax_calls.axes.set_title(\"Counts of messages from users of different tariffs by month\", fontsize=14);"
   ]
  },
  {
   "cell_type": "code",
   "execution_count": 37,
   "metadata": {},
   "outputs": [
    {
     "data": {
      "image/png": "[encoded data removed]",
      "text/plain": [
       "<Figure size 1152x360 with 2 Axes>"
      ]
     },
     "metadata": {
      "needs_background": "light"
     },
     "output_type": "display_data"
    }
   ],
   "source": [
    "fig, axes = plt.subplots(1, 2, figsize=(16, 5))\n",
    "sns.distplot(calls_stat.query('tariff == \"smart\"')['calls_duration'], ax=axes[0])\n",
    "sns.distplot(calls_stat.query('tariff == \"ultra\"')['calls_duration'], ax=axes[0])\n",
    "sns.boxplot(x = calls_stat['calls_duration'], y=calls_stat['tariff'], ax=axes[1]);"
   ]
  },
  {
   "cell_type": "markdown",
   "metadata": {},
   "source": [
    "Суммарная средная продолжительность звонков пользователей тарифа ultra больше (около 600 мин), чем продолжительность звонков пользователей тарифа smart (около 400 мин). Суммарная продолжительность звонков пользвателей тарифа ultra сохранялась высокой в течении четырёх месяцев, пользователей тарифа smart - трёх месяцев.\n",
    "\n",
    "Суммарное количество звонков пользователей тарифа smart - около 60 в течении четырех месяцев, пользователей тарифа ultra - около 80 звонков в течении трёх месяцев.\n",
    "\n",
    "Пользователи тарифа ultra тратят больше mb интернета в месяц (20000), чем пользователи тарифа smart (16000).\n",
    "\n",
    "В течении 7 месяцев пользователи тарифа smart отправляли в среднем около 40 сообщений. У пользователей тарифа ultra среднее количество сообщений в месяц доходило до 70."
   ]
  },
  {
   "cell_type": "code",
   "execution_count": 38,
   "metadata": {},
   "outputs": [
    {
     "data": {
      "text/plain": [
       "tariff\n",
       "smart    349\n",
       "ultra    143\n",
       "Name: user_id, dtype: int64"
      ]
     },
     "execution_count": 38,
     "metadata": {},
     "output_type": "execute_result"
    }
   ],
   "source": [
    "counts.groupby('tariff')['user_id'].unique().apply(len)"
   ]
  },
  {
   "cell_type": "code",
   "execution_count": 39,
   "metadata": {},
   "outputs": [
    {
     "name": "stdout",
     "output_type": "stream",
     "text": [
      "Процент переплачивающих пользователей тарифа smart - 95.1%, тарифа ultra - 11.7%\n"
     ]
    }
   ],
   "source": [
    "smart_us_exclim = len(counts.query('tariff == \"smart\" and proceeds > 550')['user_id'].unique())\n",
    "ultra_us_exclim = len(counts.query('tariff == \"ultra\" and proceeds > 1950')['user_id'].unique())\n",
    "print('Процент переплачивающих пользователей тарифа smart - {:.1%},'.format(smart_us_exclim / 349), 'тарифа ultra - {:.1%}'.format(ultra_us_exclim / 349))"
   ]
  },
  {
   "cell_type": "markdown",
   "metadata": {},
   "source": [
    "# Шаг 4. Проверка гипотез"
   ]
  },
  {
   "cell_type": "code",
   "execution_count": 40,
   "metadata": {},
   "outputs": [
    {
     "name": "stdout",
     "output_type": "stream",
     "text": [
      "Отвергаем нулевую гипотезу\n"
     ]
    }
   ],
   "source": [
    "smart = counts.query('tariff == \"smart\"').groupby('month')['proceeds'].mean()\n",
    "ultra = counts.query('tariff == \"ultra\"').groupby('month')['proceeds'].mean()\n",
    "results = st.ttest_ind(smart, ultra, equal_var = False)\n",
    "alpha = 0.05\n",
    "if results.pvalue < alpha:\n",
    "    print('Отвергаем нулевую гипотезу')\n",
    "else:\n",
    "    print('Не получилось отвергнуть нулевую гипотезу')"
   ]
  },
  {
   "cell_type": "markdown",
   "metadata": {},
   "source": [
    "Нулевая гипотеза средние выборок по тарифам равны, альтернативная гипотеза - средние различаются. Т.к. нулевая гипотеза отвергнута, можно предположить, что средние выручки пользователей тарифов \"Смарт\" и \"Ультра\" различаются."
   ]
  },
  {
   "cell_type": "code",
   "execution_count": 41,
   "metadata": {},
   "outputs": [
    {
     "name": "stdout",
     "output_type": "stream",
     "text": [
      "Отвергаем нулевую гипотезу\n"
     ]
    },
    {
     "data": {
      "text/plain": [
       "2.532009859589152e-06"
      ]
     },
     "metadata": {},
     "output_type": "display_data"
    }
   ],
   "source": [
    "results = st.ttest_ind(smart, ultra, equal_var = False)\n",
    "alpha = 0.05\n",
    "if results.pvalue/2 < alpha and ultra.mean() < smart.mean():\n",
    "    print('Отвергаем нулевую гипотезу')\n",
    "else:\n",
    "    print('Не получилось отвергнуть нулевую гипотезу')\n",
    "display(results.pvalue/2)"
   ]
  },
  {
   "cell_type": "markdown",
   "metadata": {},
   "source": [
    "Выручка с тарифа \"smart\" больше, чем \"ultra\"."
   ]
  },
  {
   "cell_type": "code",
   "execution_count": 42,
   "metadata": {},
   "outputs": [
    {
     "name": "stdout",
     "output_type": "stream",
     "text": [
      "Не получилось отвергнуть нулевую гипотезу\n"
     ]
    }
   ],
   "source": [
    "moscow = counts.query('city == \"москва\"').groupby('month')['proceeds'].mean()\n",
    "not_moscow = counts.query('city != \"москва\"').groupby('month')['proceeds'].mean()\n",
    "results = st.ttest_ind(moscow, not_moscow, equal_var = True)\n",
    "alpha = 0.05\n",
    "if results.pvalue < alpha:\n",
    "    print('Отвергаем нулевую гипотезу')\n",
    "else:\n",
    "    print('Не получилось отвергнуть нулевую гипотезу')"
   ]
  },
  {
   "cell_type": "markdown",
   "metadata": {},
   "source": [
    "Нулевая гипотеза - средние выборок по пользователям из Москвы и из других регионов равны, альтернативная гипотеза - средние различаются. Т.к. гипотезу о равенстве средних отвергнуть не удалось, можно предположить, что средняя выручка пользователей из Москвы не отличается от средней выручки пользователей из других регионов."
   ]
  },
  {
   "cell_type": "code",
   "execution_count": 43,
   "metadata": {},
   "outputs": [
    {
     "data": {
      "text/plain": [
       "0.05442775905869476"
      ]
     },
     "metadata": {},
     "output_type": "display_data"
    },
    {
     "data": {
      "text/plain": [
       "0.0004956259128015971"
      ]
     },
     "metadata": {},
     "output_type": "display_data"
    }
   ],
   "source": [
    "stat, p = st.levene(smart, ultra)\n",
    "display(p)\n",
    "stat, p = st.bartlett(smart, ultra)\n",
    "display(p)"
   ]
  },
  {
   "cell_type": "markdown",
   "metadata": {},
   "source": [
    "Т.к. p-value теста Левене больше 0.05, можно заменить значение ttest_ind  на False, результат не изменится. p-value теста Бартлетта получилось очень маленьким, что подтверждает равность дисперсий. Но этот тест очень чувствителен к нормальности распределения, может, поэтому такая разница."
   ]
  },
  {
   "cell_type": "code",
   "execution_count": 44,
   "metadata": {
    "scrolled": true
   },
   "outputs": [
    {
     "data": {
      "text/plain": [
       "523345.3528752698"
      ]
     },
     "metadata": {},
     "output_type": "display_data"
    },
    {
     "data": {
      "text/plain": [
       "102024.4883639113"
      ]
     },
     "metadata": {},
     "output_type": "display_data"
    }
   ],
   "source": [
    "display(smart.mean())\n",
    "display(ultra.mean())"
   ]
  },
  {
   "cell_type": "markdown",
   "metadata": {},
   "source": [
    "# Шаг 5. Общий вывод"
   ]
  },
  {
   "cell_type": "markdown",
   "metadata": {},
   "source": [
    "Тариф smart лучше, чем тариф ultra."
   ]
  },
  {
   "cell_type": "markdown",
   "metadata": {},
   "source": [
    "В таблицах нет пропущенных значений (кроме дат окончания использования тарифа), дубликатов и выбросов.\n",
    "Много нулевых значений в данных о продолжительности звонков и использовании интернета. Пропущенные звонки обозначены нулями. Вероятно, неиспользование интернета тоже обзначено нулем.\n",
    "Распределения по звонкам и использованию интернету похоже у обоих тарифов, но в тарифе ultra все значения больше. Распределения дисперсии по использованию интернета различается. Распределения по сообщениям различаются.\n",
    "\n",
    "Суммарная средная продолжительность звонков пользователей тарифа ultra больше (около 600 мин), чем продолжительность звонков пользователей тарифа smart (около 400 мин). Суммарная продолжительность звонков пользвателей тарифа ultra сохранялась высокой в течении четырёх месяцев, пользователей тарифа smart - трёх месяцев.\n",
    "    \n",
    "Ежемесячное количество звонков пользователей тарифа smart - около 60 в течении четырех месяцев, пользователей тарифа ultra - около 80 звонков в течении трёх месяцев.\n",
    "Пользователи тарифа ultra тратят больше mb интернета в месяц (20000), чем пользователи тарифа smart (16000).\n",
    "    \n",
    "В течении 7 месяцев пользователи тарифа smart отправляли в среднем около 40 сообщений. У пользователей тарифа ultra среднее количество сообщений в месяц доходило до 70.\n",
    "\n",
    "Среднемесячная выручка с тарифа smart (523 345.35) больше, чем ultra (102 024.49).\n",
    "\n",
    "Cредняя выручка пользователей из Москвы не отличается от средней выручки пользователей из других регионов.\n",
    "    \n",
    "Пользователи тарифа ultra совершают больше звонков, используют больше интернета, отправляют больше сообщений.   \n",
    "    \n",
    "В выборке больше пользователей тарифа smart (349), чем тарифа ultra (143).\n",
    "Процент переплачивающих пользователей тарифа smart - 95.1%, тарифа ultra - 11.7%.\n",
    "    \n",
    "Для мобильного оператора тариф smart выгоднее, чем тариф ultra."
   ]
  }
 ],
 "metadata": {
  "ExecuteTimeLog": [
   {
    "duration": 801,
    "start_time": "2021-09-11T16:53:28.960Z"
   },
   {
    "duration": 555,
    "start_time": "2021-09-11T16:55:55.892Z"
   },
   {
    "duration": 532,
    "start_time": "2021-09-11T16:56:30.796Z"
   },
   {
    "duration": 431,
    "start_time": "2021-09-11T16:57:39.411Z"
   },
   {
    "duration": 63,
    "start_time": "2021-09-11T16:58:06.774Z"
   },
   {
    "duration": 376,
    "start_time": "2021-09-11T16:58:33.452Z"
   },
   {
    "duration": 94,
    "start_time": "2021-09-11T16:58:48.720Z"
   },
   {
    "duration": 389,
    "start_time": "2021-09-11T17:10:14.997Z"
   },
   {
    "duration": 513,
    "start_time": "2021-09-11T17:10:32.740Z"
   },
   {
    "duration": 105,
    "start_time": "2021-09-11T17:10:36.272Z"
   },
   {
    "duration": 63,
    "start_time": "2021-09-11T17:14:33.499Z"
   },
   {
    "duration": 1430,
    "start_time": "2021-09-11T17:17:01.136Z"
   },
   {
    "duration": 54,
    "start_time": "2021-09-11T17:17:42.287Z"
   },
   {
    "duration": 54,
    "start_time": "2021-09-11T17:17:57.615Z"
   },
   {
    "duration": 66,
    "start_time": "2021-09-11T17:18:27.301Z"
   },
   {
    "duration": 18,
    "start_time": "2021-09-11T17:18:42.533Z"
   },
   {
    "duration": 136,
    "start_time": "2021-09-11T17:25:15.669Z"
   },
   {
    "duration": 231,
    "start_time": "2021-09-11T17:25:31.885Z"
   },
   {
    "duration": 289,
    "start_time": "2021-09-11T17:25:47.465Z"
   },
   {
    "duration": 304,
    "start_time": "2021-09-11T17:26:07.513Z"
   },
   {
    "duration": 8,
    "start_time": "2021-09-11T17:27:43.570Z"
   },
   {
    "duration": 9,
    "start_time": "2021-09-11T17:28:00.705Z"
   },
   {
    "duration": 10,
    "start_time": "2021-09-11T17:28:17.573Z"
   },
   {
    "duration": 274,
    "start_time": "2021-09-11T17:28:21.731Z"
   },
   {
    "duration": 1717,
    "start_time": "2021-09-11T17:34:25.694Z"
   },
   {
    "duration": 77,
    "start_time": "2021-09-11T17:34:38.912Z"
   },
   {
    "duration": 8910,
    "start_time": "2021-09-11T17:39:45.991Z"
   },
   {
    "duration": 7,
    "start_time": "2021-09-11T17:40:23.499Z"
   },
   {
    "duration": 344,
    "start_time": "2021-09-11T17:42:07.041Z"
   },
   {
    "duration": 11,
    "start_time": "2021-09-11T17:42:25.599Z"
   },
   {
    "duration": 339,
    "start_time": "2021-09-11T17:42:36.669Z"
   },
   {
    "duration": 20,
    "start_time": "2021-09-11T17:42:41.449Z"
   },
   {
    "duration": 273,
    "start_time": "2021-09-11T18:16:30.074Z"
   },
   {
    "duration": 869,
    "start_time": "2021-09-11T18:17:53.578Z"
   },
   {
    "duration": 539,
    "start_time": "2021-09-11T18:18:04.647Z"
   },
   {
    "duration": 642,
    "start_time": "2021-09-11T18:21:03.194Z"
   },
   {
    "duration": 11,
    "start_time": "2021-09-11T18:21:57.266Z"
   },
   {
    "duration": 318,
    "start_time": "2021-09-11T18:21:59.316Z"
   },
   {
    "duration": 871,
    "start_time": "2021-09-11T18:22:07.205Z"
   },
   {
    "duration": 1013,
    "start_time": "2021-09-11T18:22:21.260Z"
   },
   {
    "duration": 389,
    "start_time": "2021-09-11T18:24:57.243Z"
   },
   {
    "duration": 219,
    "start_time": "2021-09-11T18:25:14.141Z"
   },
   {
    "duration": 151,
    "start_time": "2021-09-11T18:26:07.026Z"
   },
   {
    "duration": 21,
    "start_time": "2021-09-11T18:27:15.779Z"
   },
   {
    "duration": 19,
    "start_time": "2021-09-11T18:29:28.088Z"
   },
   {
    "duration": 35,
    "start_time": "2021-09-11T18:31:06.725Z"
   },
   {
    "duration": 43,
    "start_time": "2021-09-11T18:31:27.939Z"
   },
   {
    "duration": 36,
    "start_time": "2021-09-11T18:32:14.921Z"
   },
   {
    "duration": 2225,
    "start_time": "2021-09-11T18:32:47.305Z"
   },
   {
    "duration": 7811,
    "start_time": "2021-09-11T18:34:56.205Z"
   },
   {
    "duration": 43,
    "start_time": "2021-09-11T18:35:17.645Z"
   },
   {
    "duration": 72,
    "start_time": "2021-09-11T18:36:48.601Z"
   },
   {
    "duration": 49,
    "start_time": "2021-09-11T18:37:11.969Z"
   },
   {
    "duration": 52,
    "start_time": "2021-09-11T18:38:23.937Z"
   },
   {
    "duration": 435,
    "start_time": "2021-09-11T18:39:47.057Z"
   },
   {
    "duration": 66,
    "start_time": "2021-09-11T18:40:00.109Z"
   },
   {
    "duration": 1987,
    "start_time": "2021-09-11T18:43:25.823Z"
   },
   {
    "duration": 44,
    "start_time": "2021-09-11T18:44:33.545Z"
   },
   {
    "duration": 62,
    "start_time": "2021-09-11T18:44:40.470Z"
   },
   {
    "duration": 70,
    "start_time": "2021-09-11T18:46:07.365Z"
   },
   {
    "duration": 392,
    "start_time": "2021-09-11T18:49:02.918Z"
   },
   {
    "duration": 72,
    "start_time": "2021-09-11T18:49:13.367Z"
   },
   {
    "duration": 85,
    "start_time": "2021-09-11T18:49:26.131Z"
   },
   {
    "duration": 462,
    "start_time": "2021-09-11T18:51:39.668Z"
   },
   {
    "duration": 118,
    "start_time": "2021-09-11T18:51:56.563Z"
   },
   {
    "duration": 425,
    "start_time": "2021-09-11T18:53:56.955Z"
   },
   {
    "duration": 133,
    "start_time": "2021-09-11T18:54:58.816Z"
   },
   {
    "duration": 155,
    "start_time": "2021-09-11T18:55:05.831Z"
   },
   {
    "duration": 1524,
    "start_time": "2021-09-11T18:57:41.736Z"
   },
   {
    "duration": 239,
    "start_time": "2021-09-11T18:59:02.557Z"
   },
   {
    "duration": 98,
    "start_time": "2021-09-11T19:00:13.746Z"
   },
   {
    "duration": 469,
    "start_time": "2021-09-11T19:00:35.001Z"
   },
   {
    "duration": 227,
    "start_time": "2021-09-11T19:00:46.294Z"
   },
   {
    "duration": 8506,
    "start_time": "2021-09-11T19:02:56.914Z"
   },
   {
    "duration": 9492,
    "start_time": "2021-09-11T19:04:34.176Z"
   },
   {
    "duration": 300,
    "start_time": "2021-09-11T19:04:51.741Z"
   },
   {
    "duration": 692,
    "start_time": "2021-09-11T19:09:48.745Z"
   },
   {
    "duration": 657,
    "start_time": "2021-09-11T19:10:04.976Z"
   },
   {
    "duration": 636,
    "start_time": "2021-09-11T19:11:06.127Z"
   },
   {
    "duration": 357,
    "start_time": "2021-09-11T19:11:15.811Z"
   },
   {
    "duration": 311,
    "start_time": "2021-09-11T19:11:30.999Z"
   },
   {
    "duration": 305,
    "start_time": "2021-09-11T19:14:11.886Z"
   },
   {
    "duration": 313,
    "start_time": "2021-09-11T19:14:54.134Z"
   },
   {
    "duration": 303,
    "start_time": "2021-09-11T19:15:48.982Z"
   },
   {
    "duration": 632,
    "start_time": "2021-09-11T19:21:06.783Z"
   },
   {
    "duration": 322,
    "start_time": "2021-09-11T19:21:49.904Z"
   },
   {
    "duration": 308,
    "start_time": "2021-09-11T19:22:11.950Z"
   },
   {
    "duration": 292,
    "start_time": "2021-09-11T19:23:13.703Z"
   },
   {
    "duration": 690,
    "start_time": "2021-09-11T19:26:42.104Z"
   },
   {
    "duration": 455,
    "start_time": "2021-09-11T19:27:45.333Z"
   },
   {
    "duration": 5,
    "start_time": "2021-09-11T19:46:48.479Z"
   },
   {
    "duration": 8969,
    "start_time": "2021-09-11T19:47:31.762Z"
   },
   {
    "duration": 702,
    "start_time": "2021-09-11T19:47:54.274Z"
   },
   {
    "duration": 6,
    "start_time": "2021-09-11T19:49:19.405Z"
   },
   {
    "duration": 6,
    "start_time": "2021-09-11T19:50:33.432Z"
   },
   {
    "duration": 6,
    "start_time": "2021-09-11T19:51:31.297Z"
   },
   {
    "duration": 709,
    "start_time": "2021-09-11T19:51:32.233Z"
   },
   {
    "duration": 11,
    "start_time": "2021-09-11T20:00:07.191Z"
   },
   {
    "duration": 732,
    "start_time": "2021-09-11T20:00:07.828Z"
   },
   {
    "duration": 8,
    "start_time": "2021-09-11T20:00:33.487Z"
   },
   {
    "duration": 1017,
    "start_time": "2021-09-11T20:00:34.003Z"
   },
   {
    "duration": 7,
    "start_time": "2021-09-11T20:01:55.047Z"
   },
   {
    "duration": 854,
    "start_time": "2021-09-11T20:01:55.974Z"
   },
   {
    "duration": 3,
    "start_time": "2021-09-11T20:06:09.592Z"
   },
   {
    "duration": 8,
    "start_time": "2021-09-11T20:06:43.101Z"
   },
   {
    "duration": 673,
    "start_time": "2021-09-11T20:06:44.223Z"
   },
   {
    "duration": 7,
    "start_time": "2021-09-11T20:07:40.163Z"
   },
   {
    "duration": 1028,
    "start_time": "2021-09-11T20:07:41.279Z"
   },
   {
    "duration": 1030,
    "start_time": "2021-09-11T20:08:04.537Z"
   },
   {
    "duration": 1059,
    "start_time": "2021-09-11T20:08:12.257Z"
   },
   {
    "duration": 8,
    "start_time": "2021-09-11T20:11:44.800Z"
   },
   {
    "duration": 1011,
    "start_time": "2021-09-11T20:11:45.559Z"
   },
   {
    "duration": 5,
    "start_time": "2021-09-11T20:15:07.841Z"
   },
   {
    "duration": 9,
    "start_time": "2021-09-11T20:19:31.755Z"
   },
   {
    "duration": 8797,
    "start_time": "2021-09-11T20:19:32.568Z"
   },
   {
    "duration": 8,
    "start_time": "2021-09-11T20:20:04.467Z"
   },
   {
    "duration": 9401,
    "start_time": "2021-09-11T20:20:05.112Z"
   },
   {
    "duration": 8,
    "start_time": "2021-09-11T20:20:48.618Z"
   },
   {
    "duration": 706,
    "start_time": "2021-09-11T20:20:49.258Z"
   },
   {
    "duration": 8,
    "start_time": "2021-09-11T20:21:05.074Z"
   },
   {
    "duration": 727,
    "start_time": "2021-09-11T20:21:05.616Z"
   },
   {
    "duration": 8,
    "start_time": "2021-09-11T20:21:35.090Z"
   },
   {
    "duration": 1065,
    "start_time": "2021-09-11T20:21:35.577Z"
   },
   {
    "duration": 9,
    "start_time": "2021-09-11T20:24:28.351Z"
   },
   {
    "duration": 1114,
    "start_time": "2021-09-11T20:24:28.836Z"
   },
   {
    "duration": 136,
    "start_time": "2021-09-11T20:47:16.619Z"
   },
   {
    "duration": 1129,
    "start_time": "2021-09-11T20:47:17.370Z"
   },
   {
    "duration": 123,
    "start_time": "2021-09-11T20:48:07.807Z"
   },
   {
    "duration": 1116,
    "start_time": "2021-09-11T20:48:08.065Z"
   },
   {
    "duration": 10,
    "start_time": "2021-09-11T20:48:26.883Z"
   },
   {
    "duration": 1095,
    "start_time": "2021-09-11T20:48:27.407Z"
   },
   {
    "duration": 10,
    "start_time": "2021-09-11T20:49:06.133Z"
   },
   {
    "duration": 1359,
    "start_time": "2021-09-11T20:49:06.626Z"
   },
   {
    "duration": 3,
    "start_time": "2021-09-11T20:49:17.381Z"
   },
   {
    "duration": 11,
    "start_time": "2021-09-11T20:49:22.871Z"
   },
   {
    "duration": 735,
    "start_time": "2021-09-11T20:49:23.126Z"
   },
   {
    "duration": 10,
    "start_time": "2021-09-11T20:49:36.930Z"
   },
   {
    "duration": 1111,
    "start_time": "2021-09-11T20:49:37.331Z"
   },
   {
    "duration": 10,
    "start_time": "2021-09-11T20:50:34.854Z"
   },
   {
    "duration": 1058,
    "start_time": "2021-09-11T20:50:35.373Z"
   },
   {
    "duration": 342,
    "start_time": "2021-09-11T20:52:34.041Z"
   },
   {
    "duration": 8,
    "start_time": "2021-09-11T20:56:55.364Z"
   },
   {
    "duration": 26,
    "start_time": "2021-09-11T20:57:07.913Z"
   },
   {
    "duration": 10,
    "start_time": "2021-09-11T20:58:07.782Z"
   },
   {
    "duration": 1888,
    "start_time": "2021-09-12T17:33:07.978Z"
   },
   {
    "duration": 469,
    "start_time": "2021-09-12T17:33:09.869Z"
   },
   {
    "duration": 100,
    "start_time": "2021-09-12T17:33:10.341Z"
   },
   {
    "duration": 105,
    "start_time": "2021-09-12T17:33:10.444Z"
   },
   {
    "duration": 78,
    "start_time": "2021-09-12T17:33:10.551Z"
   },
   {
    "duration": 18,
    "start_time": "2021-09-12T17:33:10.631Z"
   },
   {
    "duration": 97,
    "start_time": "2021-09-12T17:33:10.651Z"
   },
   {
    "duration": 35,
    "start_time": "2021-09-12T17:33:10.752Z"
   },
   {
    "duration": 257,
    "start_time": "2021-09-12T17:33:10.790Z"
   },
   {
    "duration": 84,
    "start_time": "2021-09-12T17:33:11.049Z"
   },
   {
    "duration": 6,
    "start_time": "2021-09-12T17:33:11.136Z"
   },
   {
    "duration": 39,
    "start_time": "2021-09-12T17:33:11.144Z"
   },
   {
    "duration": 2324,
    "start_time": "2021-09-12T17:33:11.186Z"
   },
   {
    "duration": -56,
    "start_time": "2021-09-12T17:33:13.569Z"
   },
   {
    "duration": -61,
    "start_time": "2021-09-12T17:33:13.576Z"
   },
   {
    "duration": -66,
    "start_time": "2021-09-12T17:33:13.582Z"
   },
   {
    "duration": 417,
    "start_time": "2021-09-12T17:34:34.412Z"
   },
   {
    "duration": 9,
    "start_time": "2021-09-12T17:34:38.373Z"
   },
   {
    "duration": 991,
    "start_time": "2021-09-12T17:34:39.596Z"
   },
   {
    "duration": 21,
    "start_time": "2021-09-12T17:34:48.032Z"
   },
   {
    "duration": 17,
    "start_time": "2021-09-12T17:38:57.318Z"
   },
   {
    "duration": 32,
    "start_time": "2021-09-12T17:39:12.229Z"
   },
   {
    "duration": 4,
    "start_time": "2021-09-12T17:40:47.141Z"
   },
   {
    "duration": 349,
    "start_time": "2021-09-12T17:59:17.906Z"
   },
   {
    "duration": 320,
    "start_time": "2021-09-12T18:01:44.913Z"
   },
   {
    "duration": 392,
    "start_time": "2021-09-12T18:02:02.948Z"
   },
   {
    "duration": 18,
    "start_time": "2021-09-12T18:02:38.623Z"
   },
   {
    "duration": 358,
    "start_time": "2021-09-12T18:02:46.500Z"
   },
   {
    "duration": 28,
    "start_time": "2021-09-12T18:02:51.276Z"
   },
   {
    "duration": 6,
    "start_time": "2021-09-12T18:03:22.312Z"
   },
   {
    "duration": 620,
    "start_time": "2021-09-12T18:04:40.242Z"
   },
   {
    "duration": 3962,
    "start_time": "2021-09-12T18:05:14.936Z"
   },
   {
    "duration": 11,
    "start_time": "2021-09-12T18:05:42.790Z"
   },
   {
    "duration": 37,
    "start_time": "2021-09-12T18:06:44.243Z"
   },
   {
    "duration": 11,
    "start_time": "2021-09-12T18:07:43.372Z"
   },
   {
    "duration": 41,
    "start_time": "2021-09-12T18:08:25.070Z"
   },
   {
    "duration": 398,
    "start_time": "2021-09-12T18:10:40.457Z"
   },
   {
    "duration": 3,
    "start_time": "2021-09-12T18:11:32.902Z"
   },
   {
    "duration": 586,
    "start_time": "2021-09-12T18:12:01.470Z"
   },
   {
    "duration": 75,
    "start_time": "2021-09-12T18:18:17.214Z"
   },
   {
    "duration": 732,
    "start_time": "2021-09-12T18:19:04.370Z"
   },
   {
    "duration": 78,
    "start_time": "2021-09-12T18:21:31.873Z"
   },
   {
    "duration": 79,
    "start_time": "2021-09-12T18:21:54.170Z"
   },
   {
    "duration": 1084,
    "start_time": "2021-09-12T18:22:30.045Z"
   },
   {
    "duration": 1041,
    "start_time": "2021-09-12T18:22:43.373Z"
   },
   {
    "duration": 1093,
    "start_time": "2021-09-12T18:22:54.594Z"
   },
   {
    "duration": 140,
    "start_time": "2021-09-12T18:25:18.089Z"
   },
   {
    "duration": 1625,
    "start_time": "2021-09-12T18:26:27.611Z"
   },
   {
    "duration": 2277,
    "start_time": "2021-09-12T18:27:07.595Z"
   },
   {
    "duration": 11,
    "start_time": "2021-09-12T18:31:07.855Z"
   },
   {
    "duration": 418,
    "start_time": "2021-09-12T18:32:26.554Z"
   },
   {
    "duration": 16,
    "start_time": "2021-09-12T18:33:13.511Z"
   },
   {
    "duration": 13,
    "start_time": "2021-09-12T18:33:56.230Z"
   },
   {
    "duration": 16,
    "start_time": "2021-09-12T18:35:52.397Z"
   },
   {
    "duration": 16,
    "start_time": "2021-09-12T18:38:26.527Z"
   },
   {
    "duration": 17,
    "start_time": "2021-09-12T18:39:20.188Z"
   },
   {
    "duration": 15,
    "start_time": "2021-09-12T18:39:30.870Z"
   },
   {
    "duration": 24,
    "start_time": "2021-09-12T18:50:35.909Z"
   },
   {
    "duration": 466,
    "start_time": "2021-09-12T18:51:22.078Z"
   },
   {
    "duration": 4,
    "start_time": "2021-09-12T18:52:06.953Z"
   },
   {
    "duration": 450,
    "start_time": "2021-09-12T18:52:06.959Z"
   },
   {
    "duration": 80,
    "start_time": "2021-09-12T18:52:07.411Z"
   },
   {
    "duration": 565,
    "start_time": "2021-09-12T18:52:07.494Z"
   },
   {
    "duration": 181,
    "start_time": "2021-09-12T18:52:08.062Z"
   },
   {
    "duration": 42,
    "start_time": "2021-09-12T18:52:08.246Z"
   },
   {
    "duration": 192,
    "start_time": "2021-09-12T18:52:08.291Z"
   },
   {
    "duration": 550,
    "start_time": "2021-09-12T18:52:08.486Z"
   },
   {
    "duration": 236,
    "start_time": "2021-09-12T18:52:09.039Z"
   },
   {
    "duration": 70,
    "start_time": "2021-09-12T18:52:09.277Z"
   },
   {
    "duration": 88,
    "start_time": "2021-09-12T18:52:09.349Z"
   },
   {
    "duration": 28,
    "start_time": "2021-09-12T18:52:09.440Z"
   },
   {
    "duration": 524,
    "start_time": "2021-09-12T18:52:09.471Z"
   },
   {
    "duration": 11,
    "start_time": "2021-09-12T18:52:09.997Z"
   },
   {
    "duration": 1033,
    "start_time": "2021-09-12T18:52:10.011Z"
   },
   {
    "duration": 11,
    "start_time": "2021-09-12T18:52:11.046Z"
   },
   {
    "duration": 124,
    "start_time": "2021-09-12T18:52:11.059Z"
   },
   {
    "duration": 2258,
    "start_time": "2021-09-12T18:52:11.186Z"
   },
   {
    "duration": 33,
    "start_time": "2021-09-12T18:52:13.449Z"
   },
   {
    "duration": 8,
    "start_time": "2021-09-12T18:54:10.836Z"
   },
   {
    "duration": 17,
    "start_time": "2021-09-12T18:55:12.953Z"
   },
   {
    "duration": 895,
    "start_time": "2021-09-13T17:12:35.321Z"
   },
   {
    "duration": 1369,
    "start_time": "2021-09-13T17:12:44.849Z"
   },
   {
    "duration": 494,
    "start_time": "2021-09-13T17:12:46.221Z"
   },
   {
    "duration": 98,
    "start_time": "2021-09-13T17:12:46.717Z"
   },
   {
    "duration": 108,
    "start_time": "2021-09-13T17:12:46.818Z"
   },
   {
    "duration": 86,
    "start_time": "2021-09-13T17:12:46.929Z"
   },
   {
    "duration": 48,
    "start_time": "2021-09-13T17:12:47.017Z"
   },
   {
    "duration": 109,
    "start_time": "2021-09-13T17:12:47.067Z"
   },
   {
    "duration": 7,
    "start_time": "2021-09-13T17:12:47.181Z"
   },
   {
    "duration": 330,
    "start_time": "2021-09-13T17:12:47.191Z"
   },
   {
    "duration": 90,
    "start_time": "2021-09-13T17:12:47.523Z"
   },
   {
    "duration": 6,
    "start_time": "2021-09-13T17:12:47.615Z"
   },
   {
    "duration": 40,
    "start_time": "2021-09-13T17:12:47.624Z"
   },
   {
    "duration": 542,
    "start_time": "2021-09-13T17:12:47.666Z"
   },
   {
    "duration": 11,
    "start_time": "2021-09-13T17:12:48.211Z"
   },
   {
    "duration": 1133,
    "start_time": "2021-09-13T17:12:48.224Z"
   },
   {
    "duration": 11,
    "start_time": "2021-09-13T17:12:49.359Z"
   },
   {
    "duration": 116,
    "start_time": "2021-09-13T17:12:49.372Z"
   },
   {
    "duration": 3701,
    "start_time": "2021-09-13T17:12:49.490Z"
   },
   {
    "duration": 18,
    "start_time": "2021-09-13T17:12:53.194Z"
   },
   {
    "duration": 42,
    "start_time": "2021-09-13T17:12:53.214Z"
   },
   {
    "duration": 2233,
    "start_time": "2021-09-13T17:13:31.476Z"
   },
   {
    "duration": 351,
    "start_time": "2021-09-13T17:14:36.515Z"
   },
   {
    "duration": 345,
    "start_time": "2021-09-13T17:14:48.658Z"
   },
   {
    "duration": 1403,
    "start_time": "2021-09-13T17:33:39.686Z"
   },
   {
    "duration": 353,
    "start_time": "2021-09-13T17:34:57.443Z"
   },
   {
    "duration": 319,
    "start_time": "2021-09-13T17:35:43.864Z"
   },
   {
    "duration": 323,
    "start_time": "2021-09-13T17:35:56.835Z"
   },
   {
    "duration": 327,
    "start_time": "2021-09-13T17:36:43.624Z"
   },
   {
    "duration": 371,
    "start_time": "2021-09-13T17:37:10.409Z"
   },
   {
    "duration": 324,
    "start_time": "2021-09-13T17:38:11.379Z"
   },
   {
    "duration": 332,
    "start_time": "2021-09-13T17:39:02.632Z"
   },
   {
    "duration": 1278,
    "start_time": "2021-09-13T17:40:38.446Z"
   },
   {
    "duration": 639,
    "start_time": "2021-09-13T17:41:15.743Z"
   },
   {
    "duration": 556,
    "start_time": "2021-09-13T17:49:33.671Z"
   },
   {
    "duration": 294,
    "start_time": "2021-09-13T17:50:24.541Z"
   },
   {
    "duration": 419,
    "start_time": "2021-09-13T17:50:32.122Z"
   },
   {
    "duration": 513,
    "start_time": "2021-09-13T17:51:09.857Z"
   },
   {
    "duration": 485,
    "start_time": "2021-09-13T17:51:47.391Z"
   },
   {
    "duration": 566,
    "start_time": "2021-09-13T17:52:21.396Z"
   },
   {
    "duration": 517,
    "start_time": "2021-09-13T17:52:44.258Z"
   },
   {
    "duration": 605,
    "start_time": "2021-09-13T17:53:43.023Z"
   },
   {
    "duration": 613,
    "start_time": "2021-09-13T17:59:54.212Z"
   },
   {
    "duration": 306,
    "start_time": "2021-09-13T18:00:22.129Z"
   },
   {
    "duration": 617,
    "start_time": "2021-09-13T18:00:48.418Z"
   },
   {
    "duration": 274,
    "start_time": "2021-09-13T18:01:01.325Z"
   },
   {
    "duration": 271,
    "start_time": "2021-09-13T18:01:15.616Z"
   },
   {
    "duration": 278,
    "start_time": "2021-09-13T18:01:57.171Z"
   },
   {
    "duration": 598,
    "start_time": "2021-09-13T18:02:12.411Z"
   },
   {
    "duration": 603,
    "start_time": "2021-09-13T18:03:58.069Z"
   },
   {
    "duration": 64,
    "start_time": "2021-09-13T18:04:58.724Z"
   },
   {
    "duration": 64,
    "start_time": "2021-09-13T18:05:23.013Z"
   },
   {
    "duration": 382,
    "start_time": "2021-09-13T18:05:42.337Z"
   },
   {
    "duration": 493,
    "start_time": "2021-09-13T18:05:57.863Z"
   },
   {
    "duration": 280,
    "start_time": "2021-09-13T18:06:42.407Z"
   },
   {
    "duration": 358,
    "start_time": "2021-09-13T18:06:46.285Z"
   },
   {
    "duration": 395,
    "start_time": "2021-09-13T18:13:54.904Z"
   },
   {
    "duration": 690,
    "start_time": "2021-09-13T18:14:26.589Z"
   },
   {
    "duration": 746,
    "start_time": "2021-09-13T18:15:24.710Z"
   },
   {
    "duration": 375,
    "start_time": "2021-09-13T18:15:49.568Z"
   },
   {
    "duration": 368,
    "start_time": "2021-09-13T18:17:34.831Z"
   },
   {
    "duration": 522,
    "start_time": "2021-09-13T18:18:11.950Z"
   },
   {
    "duration": 1112,
    "start_time": "2021-09-13T18:20:10.351Z"
   },
   {
    "duration": 361,
    "start_time": "2021-09-13T18:20:23.683Z"
   },
   {
    "duration": 509,
    "start_time": "2021-09-13T18:23:23.942Z"
   },
   {
    "duration": 353,
    "start_time": "2021-09-13T18:23:43.727Z"
   },
   {
    "duration": 556,
    "start_time": "2021-09-13T18:28:21.014Z"
   },
   {
    "duration": 781,
    "start_time": "2021-09-13T18:28:29.920Z"
   },
   {
    "duration": 506,
    "start_time": "2021-09-13T18:29:02.793Z"
   },
   {
    "duration": 278,
    "start_time": "2021-09-13T18:29:23.193Z"
   },
   {
    "duration": 287,
    "start_time": "2021-09-13T18:31:12.290Z"
   },
   {
    "duration": 358,
    "start_time": "2021-09-13T18:31:56.300Z"
   },
   {
    "duration": 1141,
    "start_time": "2021-09-15T20:10:32.706Z"
   },
   {
    "duration": 406,
    "start_time": "2021-09-15T20:10:33.849Z"
   },
   {
    "duration": 76,
    "start_time": "2021-09-15T20:10:34.259Z"
   },
   {
    "duration": 86,
    "start_time": "2021-09-15T20:10:34.337Z"
   },
   {
    "duration": 64,
    "start_time": "2021-09-15T20:10:34.425Z"
   },
   {
    "duration": 12,
    "start_time": "2021-09-15T20:10:34.491Z"
   },
   {
    "duration": 76,
    "start_time": "2021-09-15T20:10:34.506Z"
   },
   {
    "duration": 5,
    "start_time": "2021-09-15T20:10:34.585Z"
   },
   {
    "duration": 222,
    "start_time": "2021-09-15T20:10:34.592Z"
   },
   {
    "duration": 67,
    "start_time": "2021-09-15T20:10:34.816Z"
   },
   {
    "duration": 7,
    "start_time": "2021-09-15T20:10:34.885Z"
   },
   {
    "duration": 19,
    "start_time": "2021-09-15T20:10:34.894Z"
   },
   {
    "duration": 391,
    "start_time": "2021-09-15T20:10:34.916Z"
   },
   {
    "duration": 8,
    "start_time": "2021-09-15T20:10:35.309Z"
   },
   {
    "duration": 619,
    "start_time": "2021-09-15T20:10:35.318Z"
   },
   {
    "duration": 8,
    "start_time": "2021-09-15T20:10:35.939Z"
   },
   {
    "duration": 302,
    "start_time": "2021-09-15T20:10:35.948Z"
   },
   {
    "duration": 76,
    "start_time": "2021-09-15T20:10:36.252Z"
   },
   {
    "duration": 257,
    "start_time": "2021-09-15T20:10:36.330Z"
   },
   {
    "duration": 274,
    "start_time": "2021-09-15T20:10:36.589Z"
   },
   {
    "duration": 276,
    "start_time": "2021-09-15T20:10:36.865Z"
   },
   {
    "duration": 332,
    "start_time": "2021-09-15T20:10:37.144Z"
   },
   {
    "duration": 276,
    "start_time": "2021-09-15T20:10:37.478Z"
   },
   {
    "duration": 256,
    "start_time": "2021-09-15T20:10:37.755Z"
   },
   {
    "duration": 257,
    "start_time": "2021-09-15T20:10:38.013Z"
   },
   {
    "duration": 7,
    "start_time": "2021-09-15T20:10:38.272Z"
   },
   {
    "duration": 295,
    "start_time": "2021-09-15T20:10:38.281Z"
   },
   {
    "duration": 301,
    "start_time": "2021-09-15T20:10:38.578Z"
   },
   {
    "duration": 302,
    "start_time": "2021-09-15T20:10:38.880Z"
   },
   {
    "duration": 13,
    "start_time": "2021-09-15T20:10:39.183Z"
   },
   {
    "duration": 6,
    "start_time": "2021-09-15T20:10:39.197Z"
   },
   {
    "duration": 12,
    "start_time": "2021-09-15T20:10:39.205Z"
   },
   {
    "duration": 10,
    "start_time": "2021-09-15T20:15:26.582Z"
   },
   {
    "duration": 240,
    "start_time": "2021-09-15T20:18:18.036Z"
   },
   {
    "duration": 261,
    "start_time": "2021-09-15T20:18:20.554Z"
   },
   {
    "duration": 295,
    "start_time": "2021-09-16T18:21:18.059Z"
   },
   {
    "duration": 1116,
    "start_time": "2021-09-16T18:21:25.603Z"
   },
   {
    "duration": 402,
    "start_time": "2021-09-16T18:21:26.721Z"
   },
   {
    "duration": 74,
    "start_time": "2021-09-16T18:21:27.126Z"
   },
   {
    "duration": 83,
    "start_time": "2021-09-16T18:21:27.202Z"
   },
   {
    "duration": 65,
    "start_time": "2021-09-16T18:21:27.286Z"
   },
   {
    "duration": 14,
    "start_time": "2021-09-16T18:21:27.353Z"
   },
   {
    "duration": 45,
    "start_time": "2021-09-16T18:21:27.369Z"
   },
   {
    "duration": 6,
    "start_time": "2021-09-16T18:21:27.450Z"
   },
   {
    "duration": 212,
    "start_time": "2021-09-16T18:21:27.459Z"
   },
   {
    "duration": 298,
    "start_time": "2021-09-16T18:21:27.673Z"
   },
   {
    "duration": 56,
    "start_time": "2021-09-16T18:21:27.973Z"
   },
   {
    "duration": 19,
    "start_time": "2021-09-16T18:21:28.031Z"
   },
   {
    "duration": 15,
    "start_time": "2021-09-16T18:21:28.053Z"
   },
   {
    "duration": 379,
    "start_time": "2021-09-16T18:21:28.070Z"
   },
   {
    "duration": 7,
    "start_time": "2021-09-16T18:21:28.450Z"
   },
   {
    "duration": 627,
    "start_time": "2021-09-16T18:21:28.458Z"
   },
   {
    "duration": 8,
    "start_time": "2021-09-16T18:21:29.087Z"
   },
   {
    "duration": 287,
    "start_time": "2021-09-16T18:21:29.097Z"
   },
   {
    "duration": 73,
    "start_time": "2021-09-16T18:21:29.386Z"
   },
   {
    "duration": 241,
    "start_time": "2021-09-16T18:21:29.461Z"
   },
   {
    "duration": 317,
    "start_time": "2021-09-16T18:21:29.704Z"
   },
   {
    "duration": 260,
    "start_time": "2021-09-16T18:21:30.023Z"
   },
   {
    "duration": 250,
    "start_time": "2021-09-16T18:21:30.287Z"
   },
   {
    "duration": 270,
    "start_time": "2021-09-16T18:21:30.539Z"
   },
   {
    "duration": 246,
    "start_time": "2021-09-16T18:21:30.811Z"
   },
   {
    "duration": 242,
    "start_time": "2021-09-16T18:21:31.059Z"
   },
   {
    "duration": 7,
    "start_time": "2021-09-16T18:21:31.303Z"
   },
   {
    "duration": 288,
    "start_time": "2021-09-16T18:21:31.312Z"
   },
   {
    "duration": 302,
    "start_time": "2021-09-16T18:21:31.602Z"
   },
   {
    "duration": 302,
    "start_time": "2021-09-16T18:21:31.906Z"
   },
   {
    "duration": 15,
    "start_time": "2021-09-16T18:21:32.210Z"
   },
   {
    "duration": 25,
    "start_time": "2021-09-16T18:21:32.227Z"
   },
   {
    "duration": 16,
    "start_time": "2021-09-16T18:21:32.254Z"
   },
   {
    "duration": 183,
    "start_time": "2021-09-16T18:22:13.903Z"
   },
   {
    "duration": 445,
    "start_time": "2021-09-16T18:27:08.587Z"
   },
   {
    "duration": 465,
    "start_time": "2021-09-16T18:27:28.117Z"
   },
   {
    "duration": 313,
    "start_time": "2021-09-16T18:27:50.647Z"
   },
   {
    "duration": 342,
    "start_time": "2021-09-16T18:28:44.601Z"
   },
   {
    "duration": 451,
    "start_time": "2021-09-16T18:29:04.195Z"
   },
   {
    "duration": 16,
    "start_time": "2021-09-16T18:31:40.850Z"
   },
   {
    "duration": 15,
    "start_time": "2021-09-16T18:32:39.217Z"
   },
   {
    "duration": 15,
    "start_time": "2021-09-16T18:33:10.280Z"
   },
   {
    "duration": 182,
    "start_time": "2021-09-16T18:33:58.150Z"
   },
   {
    "duration": 309,
    "start_time": "2021-09-16T18:34:52.553Z"
   },
   {
    "duration": 553,
    "start_time": "2021-09-16T18:36:34.462Z"
   },
   {
    "duration": 12,
    "start_time": "2021-09-16T18:40:15.978Z"
   },
   {
    "duration": 16,
    "start_time": "2021-09-16T18:40:32.718Z"
   },
   {
    "duration": 12,
    "start_time": "2021-09-16T18:40:42.794Z"
   },
   {
    "duration": 445,
    "start_time": "2021-09-17T13:57:00.863Z"
   },
   {
    "duration": 1187,
    "start_time": "2021-09-17T13:57:08.842Z"
   },
   {
    "duration": 401,
    "start_time": "2021-09-17T13:57:10.031Z"
   },
   {
    "duration": 71,
    "start_time": "2021-09-17T13:57:10.434Z"
   },
   {
    "duration": 85,
    "start_time": "2021-09-17T13:57:10.507Z"
   },
   {
    "duration": 70,
    "start_time": "2021-09-17T13:57:10.594Z"
   },
   {
    "duration": 11,
    "start_time": "2021-09-17T13:57:10.666Z"
   },
   {
    "duration": 78,
    "start_time": "2021-09-17T13:57:10.679Z"
   },
   {
    "duration": 5,
    "start_time": "2021-09-17T13:57:10.759Z"
   },
   {
    "duration": 219,
    "start_time": "2021-09-17T13:57:10.766Z"
   },
   {
    "duration": 539,
    "start_time": "2021-09-17T13:57:10.987Z"
   },
   {
    "duration": 24,
    "start_time": "2021-09-17T13:57:11.528Z"
   },
   {
    "duration": 13,
    "start_time": "2021-09-17T13:57:11.554Z"
   },
   {
    "duration": 472,
    "start_time": "2021-09-17T13:57:11.569Z"
   },
   {
    "duration": 57,
    "start_time": "2021-09-17T13:57:12.043Z"
   },
   {
    "duration": 5,
    "start_time": "2021-09-17T13:57:12.102Z"
   },
   {
    "duration": 27,
    "start_time": "2021-09-17T13:57:12.109Z"
   },
   {
    "duration": 66,
    "start_time": "2021-09-17T13:57:12.150Z"
   },
   {
    "duration": 437,
    "start_time": "2021-09-17T13:57:12.218Z"
   },
   {
    "duration": 6,
    "start_time": "2021-09-17T13:57:12.657Z"
   },
   {
    "duration": 539,
    "start_time": "2021-09-17T13:57:12.665Z"
   },
   {
    "duration": 7,
    "start_time": "2021-09-17T13:57:13.205Z"
   },
   {
    "duration": 274,
    "start_time": "2021-09-17T13:57:13.214Z"
   },
   {
    "duration": 68,
    "start_time": "2021-09-17T13:57:13.492Z"
   },
   {
    "duration": 243,
    "start_time": "2021-09-17T13:57:13.562Z"
   },
   {
    "duration": 250,
    "start_time": "2021-09-17T13:57:13.807Z"
   },
   {
    "duration": 250,
    "start_time": "2021-09-17T13:57:14.059Z"
   },
   {
    "duration": 254,
    "start_time": "2021-09-17T13:57:14.311Z"
   },
   {
    "duration": 244,
    "start_time": "2021-09-17T13:57:14.566Z"
   },
   {
    "duration": 233,
    "start_time": "2021-09-17T13:57:14.812Z"
   },
   {
    "duration": 238,
    "start_time": "2021-09-17T13:57:15.049Z"
   },
   {
    "duration": 6,
    "start_time": "2021-09-17T13:57:15.289Z"
   },
   {
    "duration": 272,
    "start_time": "2021-09-17T13:57:15.297Z"
   },
   {
    "duration": 367,
    "start_time": "2021-09-17T13:57:15.571Z"
   },
   {
    "duration": 276,
    "start_time": "2021-09-17T13:57:15.940Z"
   },
   {
    "duration": 12,
    "start_time": "2021-09-17T13:57:16.218Z"
   },
   {
    "duration": 21,
    "start_time": "2021-09-17T13:57:16.232Z"
   },
   {
    "duration": 15,
    "start_time": "2021-09-17T13:57:16.255Z"
   },
   {
    "duration": 64,
    "start_time": "2021-09-17T13:57:43.574Z"
   },
   {
    "duration": 1123,
    "start_time": "2021-09-17T14:04:02.713Z"
   },
   {
    "duration": 5,
    "start_time": "2021-09-17T14:05:34.100Z"
   },
   {
    "duration": 332,
    "start_time": "2021-09-17T14:06:24.901Z"
   },
   {
    "duration": 6,
    "start_time": "2021-09-17T14:06:35.235Z"
   },
   {
    "duration": 518,
    "start_time": "2021-09-17T14:06:36.138Z"
   },
   {
    "duration": 4,
    "start_time": "2021-09-17T14:07:40.202Z"
   },
   {
    "duration": 489,
    "start_time": "2021-09-17T14:07:45.994Z"
   },
   {
    "duration": 47,
    "start_time": "2021-09-17T14:09:22.933Z"
   },
   {
    "duration": 303,
    "start_time": "2021-09-17T14:09:24.530Z"
   },
   {
    "duration": 4,
    "start_time": "2021-09-17T14:11:51.147Z"
   },
   {
    "duration": 7,
    "start_time": "2021-09-17T14:11:51.917Z"
   },
   {
    "duration": 500,
    "start_time": "2021-09-17T14:11:53.650Z"
   },
   {
    "duration": 61,
    "start_time": "2021-09-17T14:13:43.089Z"
   },
   {
    "duration": 211,
    "start_time": "2021-09-17T14:13:45.077Z"
   },
   {
    "duration": 219,
    "start_time": "2021-09-17T14:13:50.666Z"
   },
   {
    "duration": 234,
    "start_time": "2021-09-17T14:13:52.448Z"
   },
   {
    "duration": 228,
    "start_time": "2021-09-17T14:13:57.759Z"
   },
   {
    "duration": 218,
    "start_time": "2021-09-17T14:14:22.054Z"
   },
   {
    "duration": 318,
    "start_time": "2021-09-17T14:14:29.976Z"
   },
   {
    "duration": 210,
    "start_time": "2021-09-17T14:14:37.363Z"
   },
   {
    "duration": 216,
    "start_time": "2021-09-17T14:14:42.110Z"
   },
   {
    "duration": 82,
    "start_time": "2021-09-17T14:15:05.355Z"
   },
   {
    "duration": 219,
    "start_time": "2021-09-17T14:15:16.685Z"
   },
   {
    "duration": 209,
    "start_time": "2021-09-17T14:15:22.628Z"
   },
   {
    "duration": 212,
    "start_time": "2021-09-17T14:15:29.435Z"
   },
   {
    "duration": 273,
    "start_time": "2021-09-17T14:15:38.055Z"
   },
   {
    "duration": 258,
    "start_time": "2021-09-17T14:16:09.911Z"
   },
   {
    "duration": 7,
    "start_time": "2021-09-17T14:16:16.863Z"
   },
   {
    "duration": 274,
    "start_time": "2021-09-17T14:16:17.751Z"
   },
   {
    "duration": 247,
    "start_time": "2021-09-17T14:16:24.976Z"
   },
   {
    "duration": 275,
    "start_time": "2021-09-17T14:16:31.104Z"
   },
   {
    "duration": 275,
    "start_time": "2021-09-17T14:16:39.296Z"
   },
   {
    "duration": 4,
    "start_time": "2021-09-17T14:29:01.531Z"
   },
   {
    "duration": 7,
    "start_time": "2021-09-17T14:32:01.129Z"
   },
   {
    "duration": 502,
    "start_time": "2021-09-17T14:32:02.333Z"
   },
   {
    "duration": 3,
    "start_time": "2021-09-17T14:32:30.938Z"
   },
   {
    "duration": 403,
    "start_time": "2021-09-17T14:32:30.946Z"
   },
   {
    "duration": 69,
    "start_time": "2021-09-17T14:32:31.351Z"
   },
   {
    "duration": 85,
    "start_time": "2021-09-17T14:32:31.423Z"
   },
   {
    "duration": 62,
    "start_time": "2021-09-17T14:32:31.510Z"
   },
   {
    "duration": 13,
    "start_time": "2021-09-17T14:32:31.574Z"
   },
   {
    "duration": 76,
    "start_time": "2021-09-17T14:32:31.589Z"
   },
   {
    "duration": 5,
    "start_time": "2021-09-17T14:32:31.667Z"
   },
   {
    "duration": 212,
    "start_time": "2021-09-17T14:32:31.674Z"
   },
   {
    "duration": 603,
    "start_time": "2021-09-17T14:32:31.888Z"
   },
   {
    "duration": 16,
    "start_time": "2021-09-17T14:32:32.493Z"
   },
   {
    "duration": 12,
    "start_time": "2021-09-17T14:32:32.511Z"
   },
   {
    "duration": 475,
    "start_time": "2021-09-17T14:32:32.524Z"
   },
   {
    "duration": 61,
    "start_time": "2021-09-17T14:32:33.000Z"
   },
   {
    "duration": 5,
    "start_time": "2021-09-17T14:32:33.062Z"
   },
   {
    "duration": 20,
    "start_time": "2021-09-17T14:32:33.069Z"
   },
   {
    "duration": 79,
    "start_time": "2021-09-17T14:32:33.091Z"
   },
   {
    "duration": 345,
    "start_time": "2021-09-17T14:32:33.172Z"
   },
   {
    "duration": 4,
    "start_time": "2021-09-17T14:32:33.519Z"
   },
   {
    "duration": 14,
    "start_time": "2021-09-17T14:32:33.525Z"
   },
   {
    "duration": 544,
    "start_time": "2021-09-17T14:32:33.541Z"
   },
   {
    "duration": 8,
    "start_time": "2021-09-17T14:32:34.087Z"
   },
   {
    "duration": 287,
    "start_time": "2021-09-17T14:32:34.097Z"
   },
   {
    "duration": 72,
    "start_time": "2021-09-17T14:32:34.388Z"
   },
   {
    "duration": 230,
    "start_time": "2021-09-17T14:32:34.462Z"
   },
   {
    "duration": 238,
    "start_time": "2021-09-17T14:32:34.694Z"
   },
   {
    "duration": 227,
    "start_time": "2021-09-17T14:32:34.934Z"
   },
   {
    "duration": 242,
    "start_time": "2021-09-17T14:32:35.162Z"
   },
   {
    "duration": 231,
    "start_time": "2021-09-17T14:32:35.406Z"
   },
   {
    "duration": 224,
    "start_time": "2021-09-17T14:32:35.639Z"
   },
   {
    "duration": 242,
    "start_time": "2021-09-17T14:32:35.865Z"
   },
   {
    "duration": 7,
    "start_time": "2021-09-17T14:32:36.108Z"
   },
   {
    "duration": 432,
    "start_time": "2021-09-17T14:32:36.117Z"
   },
   {
    "duration": 282,
    "start_time": "2021-09-17T14:32:36.551Z"
   },
   {
    "duration": 274,
    "start_time": "2021-09-17T14:32:36.835Z"
   },
   {
    "duration": 14,
    "start_time": "2021-09-17T14:32:37.111Z"
   },
   {
    "duration": 24,
    "start_time": "2021-09-17T14:32:37.127Z"
   },
   {
    "duration": 12,
    "start_time": "2021-09-17T14:32:37.153Z"
   },
   {
    "duration": 213,
    "start_time": "2021-09-17T14:42:21.701Z"
   },
   {
    "duration": 6,
    "start_time": "2021-09-17T14:48:17.931Z"
   },
   {
    "duration": 293,
    "start_time": "2021-09-17T14:48:18.751Z"
   },
   {
    "duration": 525,
    "start_time": "2021-09-17T15:21:31.857Z"
   },
   {
    "duration": 528,
    "start_time": "2021-09-17T15:21:46.130Z"
   },
   {
    "duration": 527,
    "start_time": "2021-09-17T15:21:59.519Z"
   },
   {
    "duration": 545,
    "start_time": "2021-09-17T15:22:29.950Z"
   },
   {
    "duration": 527,
    "start_time": "2021-09-17T15:22:45.182Z"
   },
   {
    "duration": 320,
    "start_time": "2021-09-17T15:23:05.129Z"
   },
   {
    "duration": 508,
    "start_time": "2021-09-17T15:23:25.468Z"
   },
   {
    "duration": 456,
    "start_time": "2021-09-17T15:25:37.853Z"
   },
   {
    "duration": 281,
    "start_time": "2021-09-17T15:26:37.264Z"
   },
   {
    "duration": 287,
    "start_time": "2021-09-17T15:27:01.281Z"
   },
   {
    "duration": 439,
    "start_time": "2021-09-17T15:27:29.757Z"
   },
   {
    "duration": 299,
    "start_time": "2021-09-17T15:28:09.216Z"
   },
   {
    "duration": 282,
    "start_time": "2021-09-17T15:28:31.893Z"
   },
   {
    "duration": 666,
    "start_time": "2021-09-17T15:31:29.083Z"
   },
   {
    "duration": 286,
    "start_time": "2021-09-17T15:31:50.403Z"
   },
   {
    "duration": 426,
    "start_time": "2021-09-17T15:32:46.689Z"
   },
   {
    "duration": 77,
    "start_time": "2021-09-17T15:35:04.835Z"
   },
   {
    "duration": 305,
    "start_time": "2021-09-17T15:35:12.732Z"
   },
   {
    "duration": 622,
    "start_time": "2021-09-17T16:01:45.012Z"
   },
   {
    "duration": 334,
    "start_time": "2021-09-17T16:02:00.070Z"
   },
   {
    "duration": 95,
    "start_time": "2021-09-17T16:02:55.363Z"
   },
   {
    "duration": 356,
    "start_time": "2021-09-17T16:03:02.078Z"
   },
   {
    "duration": 378,
    "start_time": "2021-09-17T16:03:26.563Z"
   },
   {
    "duration": 355,
    "start_time": "2021-09-17T16:03:53.040Z"
   },
   {
    "duration": 7,
    "start_time": "2021-09-17T16:12:38.263Z"
   },
   {
    "duration": 528,
    "start_time": "2021-09-17T16:12:40.403Z"
   },
   {
    "duration": 88,
    "start_time": "2021-09-17T16:13:39.820Z"
   },
   {
    "duration": 518,
    "start_time": "2021-09-17T16:13:40.543Z"
   },
   {
    "duration": 13,
    "start_time": "2021-09-17T16:14:20.753Z"
   },
   {
    "duration": 321,
    "start_time": "2021-09-17T16:14:21.600Z"
   },
   {
    "duration": 17,
    "start_time": "2021-09-17T16:15:07.846Z"
   },
   {
    "duration": 8,
    "start_time": "2021-09-17T16:15:10.030Z"
   },
   {
    "duration": 15,
    "start_time": "2021-09-17T16:15:32.210Z"
   },
   {
    "duration": 3,
    "start_time": "2021-09-17T16:42:33.628Z"
   },
   {
    "duration": 5,
    "start_time": "2021-09-17T16:43:51.896Z"
   },
   {
    "duration": 5,
    "start_time": "2021-09-17T16:44:12.115Z"
   },
   {
    "duration": 241,
    "start_time": "2021-09-17T16:47:09.373Z"
   },
   {
    "duration": 7,
    "start_time": "2021-09-17T16:47:46.567Z"
   },
   {
    "duration": 3,
    "start_time": "2021-09-17T16:48:02.304Z"
   },
   {
    "duration": 8,
    "start_time": "2021-09-17T16:48:10.035Z"
   },
   {
    "duration": 12,
    "start_time": "2021-09-17T16:53:22.864Z"
   },
   {
    "duration": 7,
    "start_time": "2021-09-17T16:53:32.416Z"
   },
   {
    "duration": 4,
    "start_time": "2021-09-17T17:18:58.427Z"
   },
   {
    "duration": 4,
    "start_time": "2021-09-17T17:19:14.544Z"
   },
   {
    "duration": 5,
    "start_time": "2021-09-17T17:19:29.532Z"
   },
   {
    "duration": 10,
    "start_time": "2021-09-17T17:24:46.913Z"
   },
   {
    "duration": 11,
    "start_time": "2021-09-17T17:25:27.006Z"
   },
   {
    "duration": 376,
    "start_time": "2021-09-17T17:25:48.573Z"
   },
   {
    "duration": 242,
    "start_time": "2021-09-17T17:26:11.863Z"
   },
   {
    "duration": 3,
    "start_time": "2021-09-17T17:26:41.485Z"
   },
   {
    "duration": 392,
    "start_time": "2021-09-17T17:26:41.492Z"
   },
   {
    "duration": 58,
    "start_time": "2021-09-17T17:26:41.886Z"
   },
   {
    "duration": 59,
    "start_time": "2021-09-17T17:26:41.945Z"
   },
   {
    "duration": 63,
    "start_time": "2021-09-17T17:26:42.006Z"
   },
   {
    "duration": 13,
    "start_time": "2021-09-17T17:26:42.071Z"
   },
   {
    "duration": 76,
    "start_time": "2021-09-17T17:26:42.086Z"
   },
   {
    "duration": 5,
    "start_time": "2021-09-17T17:26:42.163Z"
   },
   {
    "duration": 172,
    "start_time": "2021-09-17T17:26:42.172Z"
   },
   {
    "duration": 453,
    "start_time": "2021-09-17T17:26:42.346Z"
   },
   {
    "duration": 15,
    "start_time": "2021-09-17T17:26:42.801Z"
   },
   {
    "duration": 13,
    "start_time": "2021-09-17T17:26:42.817Z"
   },
   {
    "duration": 456,
    "start_time": "2021-09-17T17:26:42.831Z"
   },
   {
    "duration": 50,
    "start_time": "2021-09-17T17:26:43.289Z"
   },
   {
    "duration": 5,
    "start_time": "2021-09-17T17:26:43.349Z"
   },
   {
    "duration": 14,
    "start_time": "2021-09-17T17:26:43.356Z"
   },
   {
    "duration": 81,
    "start_time": "2021-09-17T17:26:43.372Z"
   },
   {
    "duration": 475,
    "start_time": "2021-09-17T17:26:43.455Z"
   },
   {
    "duration": 3,
    "start_time": "2021-09-17T17:26:43.932Z"
   },
   {
    "duration": 9,
    "start_time": "2021-09-17T17:26:43.949Z"
   },
   {
    "duration": 532,
    "start_time": "2021-09-17T17:26:43.959Z"
   },
   {
    "duration": 9,
    "start_time": "2021-09-17T17:26:44.492Z"
   },
   {
    "duration": 256,
    "start_time": "2021-09-17T17:26:44.503Z"
   },
   {
    "duration": 57,
    "start_time": "2021-09-17T17:26:44.763Z"
   },
   {
    "duration": 237,
    "start_time": "2021-09-17T17:26:44.822Z"
   },
   {
    "duration": 225,
    "start_time": "2021-09-17T17:26:45.061Z"
   },
   {
    "duration": 239,
    "start_time": "2021-09-17T17:26:45.288Z"
   },
   {
    "duration": 221,
    "start_time": "2021-09-17T17:26:45.528Z"
   },
   {
    "duration": 233,
    "start_time": "2021-09-17T17:26:45.750Z"
   },
   {
    "duration": 226,
    "start_time": "2021-09-17T17:26:45.985Z"
   },
   {
    "duration": 212,
    "start_time": "2021-09-17T17:26:46.213Z"
   },
   {
    "duration": 215,
    "start_time": "2021-09-17T17:26:46.427Z"
   },
   {
    "duration": 9,
    "start_time": "2021-09-17T17:26:46.644Z"
   },
   {
    "duration": 260,
    "start_time": "2021-09-17T17:26:46.655Z"
   },
   {
    "duration": 272,
    "start_time": "2021-09-17T17:26:46.917Z"
   },
   {
    "duration": 274,
    "start_time": "2021-09-17T17:26:47.191Z"
   },
   {
    "duration": 499,
    "start_time": "2021-09-17T17:26:47.467Z"
   },
   {
    "duration": 12,
    "start_time": "2021-09-17T17:26:47.967Z"
   },
   {
    "duration": 7,
    "start_time": "2021-09-17T17:26:47.981Z"
   },
   {
    "duration": 11,
    "start_time": "2021-09-17T17:26:47.990Z"
   },
   {
    "duration": 6,
    "start_time": "2021-09-17T17:26:48.002Z"
   },
   {
    "duration": 6,
    "start_time": "2021-09-17T17:26:48.009Z"
   },
   {
    "duration": 114,
    "start_time": "2021-09-17T17:26:48.016Z"
   },
   {
    "duration": 177,
    "start_time": "2021-09-17T17:27:53.409Z"
   },
   {
    "duration": 10,
    "start_time": "2021-09-17T17:28:02.211Z"
   },
   {
    "duration": 10,
    "start_time": "2021-09-17T17:28:23.666Z"
   },
   {
    "duration": 251,
    "start_time": "2021-09-17T17:29:19.363Z"
   },
   {
    "duration": 3,
    "start_time": "2021-09-17T17:29:23.638Z"
   },
   {
    "duration": 376,
    "start_time": "2021-09-17T17:29:23.645Z"
   },
   {
    "duration": 64,
    "start_time": "2021-09-17T17:29:24.023Z"
   },
   {
    "duration": 81,
    "start_time": "2021-09-17T17:29:24.089Z"
   },
   {
    "duration": 46,
    "start_time": "2021-09-17T17:29:24.172Z"
   },
   {
    "duration": 33,
    "start_time": "2021-09-17T17:29:24.219Z"
   },
   {
    "duration": 41,
    "start_time": "2021-09-17T17:29:24.254Z"
   },
   {
    "duration": 6,
    "start_time": "2021-09-17T17:29:24.297Z"
   },
   {
    "duration": 211,
    "start_time": "2021-09-17T17:29:24.306Z"
   },
   {
    "duration": 448,
    "start_time": "2021-09-17T17:29:24.519Z"
   },
   {
    "duration": 15,
    "start_time": "2021-09-17T17:29:24.969Z"
   },
   {
    "duration": 12,
    "start_time": "2021-09-17T17:29:24.985Z"
   },
   {
    "duration": 462,
    "start_time": "2021-09-17T17:29:24.998Z"
   },
   {
    "duration": 49,
    "start_time": "2021-09-17T17:29:25.462Z"
   },
   {
    "duration": 4,
    "start_time": "2021-09-17T17:29:25.513Z"
   },
   {
    "duration": 32,
    "start_time": "2021-09-17T17:29:25.519Z"
   },
   {
    "duration": 63,
    "start_time": "2021-09-17T17:29:25.553Z"
   },
   {
    "duration": 348,
    "start_time": "2021-09-17T17:29:25.618Z"
   },
   {
    "duration": 3,
    "start_time": "2021-09-17T17:29:25.968Z"
   },
   {
    "duration": 7,
    "start_time": "2021-09-17T17:29:25.972Z"
   },
   {
    "duration": 563,
    "start_time": "2021-09-17T17:29:25.981Z"
   },
   {
    "duration": 5,
    "start_time": "2021-09-17T17:29:26.546Z"
   },
   {
    "duration": 257,
    "start_time": "2021-09-17T17:29:26.552Z"
   },
   {
    "duration": 65,
    "start_time": "2021-09-17T17:29:26.812Z"
   },
   {
    "duration": 227,
    "start_time": "2021-09-17T17:29:26.878Z"
   },
   {
    "duration": 221,
    "start_time": "2021-09-17T17:29:27.106Z"
   },
   {
    "duration": 233,
    "start_time": "2021-09-17T17:29:27.329Z"
   },
   {
    "duration": 207,
    "start_time": "2021-09-17T17:29:27.564Z"
   },
   {
    "duration": 230,
    "start_time": "2021-09-17T17:29:27.773Z"
   },
   {
    "duration": 228,
    "start_time": "2021-09-17T17:29:28.004Z"
   },
   {
    "duration": 216,
    "start_time": "2021-09-17T17:29:28.233Z"
   },
   {
    "duration": 491,
    "start_time": "2021-09-17T17:29:28.450Z"
   },
   {
    "duration": 12,
    "start_time": "2021-09-17T17:29:28.943Z"
   },
   {
    "duration": 258,
    "start_time": "2021-09-17T17:29:28.956Z"
   },
   {
    "duration": 271,
    "start_time": "2021-09-17T17:29:29.216Z"
   },
   {
    "duration": 267,
    "start_time": "2021-09-17T17:29:29.488Z"
   },
   {
    "duration": 332,
    "start_time": "2021-09-17T17:29:29.757Z"
   },
   {
    "duration": 13,
    "start_time": "2021-09-17T17:29:30.092Z"
   },
   {
    "duration": 14,
    "start_time": "2021-09-17T17:29:30.107Z"
   },
   {
    "duration": 30,
    "start_time": "2021-09-17T17:29:30.123Z"
   },
   {
    "duration": 8,
    "start_time": "2021-09-17T17:29:30.155Z"
   },
   {
    "duration": 9,
    "start_time": "2021-09-17T17:29:30.164Z"
   },
   {
    "duration": 89,
    "start_time": "2021-09-17T17:29:30.174Z"
   },
   {
    "duration": 259,
    "start_time": "2021-09-17T17:30:50.764Z"
   },
   {
    "duration": 8,
    "start_time": "2021-09-17T17:30:59.512Z"
   },
   {
    "duration": 11,
    "start_time": "2021-09-17T17:31:10.752Z"
   },
   {
    "duration": 241,
    "start_time": "2021-09-17T17:31:23.691Z"
   },
   {
    "duration": 9,
    "start_time": "2021-09-17T17:31:32.813Z"
   },
   {
    "duration": 8,
    "start_time": "2021-09-17T17:31:58.127Z"
   },
   {
    "duration": 9,
    "start_time": "2021-09-17T17:35:53.251Z"
   },
   {
    "duration": 7,
    "start_time": "2021-09-17T17:36:16.310Z"
   },
   {
    "duration": 507,
    "start_time": "2021-09-17T17:36:47.209Z"
   },
   {
    "duration": 9,
    "start_time": "2021-09-17T17:36:54.983Z"
   },
   {
    "duration": 8,
    "start_time": "2021-09-17T17:37:27.757Z"
   },
   {
    "duration": 8,
    "start_time": "2021-09-17T17:37:45.163Z"
   },
   {
    "duration": 247,
    "start_time": "2021-09-17T17:37:59.334Z"
   },
   {
    "duration": 7,
    "start_time": "2021-09-17T17:38:12.960Z"
   },
   {
    "duration": 245,
    "start_time": "2021-09-17T17:38:18.947Z"
   },
   {
    "duration": 9,
    "start_time": "2021-09-17T17:38:37.253Z"
   },
   {
    "duration": 9,
    "start_time": "2021-09-17T17:38:54.645Z"
   },
   {
    "duration": 8,
    "start_time": "2021-09-17T17:39:08.411Z"
   },
   {
    "duration": 607,
    "start_time": "2021-09-17T17:42:21.799Z"
   },
   {
    "duration": 7,
    "start_time": "2021-09-17T17:42:35.466Z"
   },
   {
    "duration": 8,
    "start_time": "2021-09-17T17:42:50.424Z"
   },
   {
    "duration": 281,
    "start_time": "2021-09-17T17:44:09.812Z"
   },
   {
    "duration": 5349,
    "start_time": "2021-09-17T17:44:40.832Z"
   },
   {
    "duration": 8,
    "start_time": "2021-09-17T17:45:00.494Z"
   },
   {
    "duration": 237,
    "start_time": "2021-09-17T17:46:43.670Z"
   },
   {
    "duration": 7,
    "start_time": "2021-09-17T17:46:54.933Z"
   },
   {
    "duration": 9,
    "start_time": "2021-09-17T17:48:12.122Z"
   },
   {
    "duration": 9,
    "start_time": "2021-09-17T17:49:29.350Z"
   },
   {
    "duration": 12,
    "start_time": "2021-09-17T17:49:57.166Z"
   },
   {
    "duration": 12,
    "start_time": "2021-09-17T17:52:27.393Z"
   },
   {
    "duration": 76,
    "start_time": "2021-09-17T17:56:10.550Z"
   },
   {
    "duration": 99,
    "start_time": "2021-09-17T17:56:42.548Z"
   },
   {
    "duration": 12,
    "start_time": "2021-09-17T17:56:52.813Z"
   },
   {
    "duration": 12,
    "start_time": "2021-09-17T17:57:01.429Z"
   },
   {
    "duration": 12,
    "start_time": "2021-09-17T17:57:35.271Z"
   },
   {
    "duration": 3,
    "start_time": "2021-09-17T18:02:47.121Z"
   },
   {
    "duration": 413,
    "start_time": "2021-09-17T18:02:47.129Z"
   },
   {
    "duration": 65,
    "start_time": "2021-09-17T18:02:47.544Z"
   },
   {
    "duration": 74,
    "start_time": "2021-09-17T18:02:47.611Z"
   },
   {
    "duration": 62,
    "start_time": "2021-09-17T18:02:47.687Z"
   },
   {
    "duration": 13,
    "start_time": "2021-09-17T18:02:47.751Z"
   },
   {
    "duration": 41,
    "start_time": "2021-09-17T18:02:47.765Z"
   },
   {
    "duration": 5,
    "start_time": "2021-09-17T18:02:47.808Z"
   },
   {
    "duration": 194,
    "start_time": "2021-09-17T18:02:47.815Z"
   },
   {
    "duration": 452,
    "start_time": "2021-09-17T18:02:48.011Z"
   },
   {
    "duration": 14,
    "start_time": "2021-09-17T18:02:48.465Z"
   },
   {
    "duration": 15,
    "start_time": "2021-09-17T18:02:48.480Z"
   },
   {
    "duration": 446,
    "start_time": "2021-09-17T18:02:48.496Z"
   },
   {
    "duration": 58,
    "start_time": "2021-09-17T18:02:48.944Z"
   },
   {
    "duration": 5,
    "start_time": "2021-09-17T18:02:49.003Z"
   },
   {
    "duration": 19,
    "start_time": "2021-09-17T18:02:49.010Z"
   },
   {
    "duration": 78,
    "start_time": "2021-09-17T18:02:49.030Z"
   },
   {
    "duration": 366,
    "start_time": "2021-09-17T18:02:49.110Z"
   },
   {
    "duration": 3,
    "start_time": "2021-09-17T18:02:49.478Z"
   },
   {
    "duration": 8,
    "start_time": "2021-09-17T18:02:49.483Z"
   },
   {
    "duration": 545,
    "start_time": "2021-09-17T18:02:49.493Z"
   },
   {
    "duration": 11,
    "start_time": "2021-09-17T18:02:50.040Z"
   },
   {
    "duration": 261,
    "start_time": "2021-09-17T18:02:50.052Z"
   },
   {
    "duration": 61,
    "start_time": "2021-09-17T18:02:50.317Z"
   },
   {
    "duration": 229,
    "start_time": "2021-09-17T18:02:50.380Z"
   },
   {
    "duration": 392,
    "start_time": "2021-09-17T18:02:50.611Z"
   },
   {
    "duration": 235,
    "start_time": "2021-09-17T18:02:51.005Z"
   },
   {
    "duration": 224,
    "start_time": "2021-09-17T18:02:51.241Z"
   },
   {
    "duration": 225,
    "start_time": "2021-09-17T18:02:51.467Z"
   },
   {
    "duration": 216,
    "start_time": "2021-09-17T18:02:51.694Z"
   },
   {
    "duration": 227,
    "start_time": "2021-09-17T18:02:51.912Z"
   },
   {
    "duration": 233,
    "start_time": "2021-09-17T18:02:52.141Z"
   },
   {
    "duration": 7,
    "start_time": "2021-09-17T18:02:52.376Z"
   },
   {
    "duration": 255,
    "start_time": "2021-09-17T18:02:52.384Z"
   },
   {
    "duration": 253,
    "start_time": "2021-09-17T18:02:52.649Z"
   },
   {
    "duration": 261,
    "start_time": "2021-09-17T18:02:52.903Z"
   },
   {
    "duration": 321,
    "start_time": "2021-09-17T18:02:53.165Z"
   },
   {
    "duration": 8,
    "start_time": "2021-09-17T18:02:53.488Z"
   },
   {
    "duration": 9,
    "start_time": "2021-09-17T18:02:53.497Z"
   },
   {
    "duration": 10,
    "start_time": "2021-09-17T18:02:53.508Z"
   },
   {
    "duration": 31,
    "start_time": "2021-09-17T18:02:53.519Z"
   },
   {
    "duration": 11,
    "start_time": "2021-09-17T18:02:53.552Z"
   },
   {
    "duration": 12,
    "start_time": "2021-09-17T18:02:53.564Z"
   },
   {
    "duration": 9,
    "start_time": "2021-09-17T18:02:53.578Z"
   },
   {
    "duration": 1403,
    "start_time": "2021-09-17T19:25:42.872Z"
   },
   {
    "duration": 566,
    "start_time": "2021-09-17T19:25:44.278Z"
   },
   {
    "duration": 104,
    "start_time": "2021-09-17T19:25:44.847Z"
   },
   {
    "duration": 113,
    "start_time": "2021-09-17T19:25:44.953Z"
   },
   {
    "duration": 80,
    "start_time": "2021-09-17T19:25:45.069Z"
   },
   {
    "duration": 18,
    "start_time": "2021-09-17T19:25:45.151Z"
   },
   {
    "duration": 104,
    "start_time": "2021-09-17T19:25:45.172Z"
   },
   {
    "duration": 8,
    "start_time": "2021-09-17T19:25:45.280Z"
   },
   {
    "duration": 300,
    "start_time": "2021-09-17T19:25:45.317Z"
   },
   {
    "duration": 808,
    "start_time": "2021-09-17T19:25:45.620Z"
   },
   {
    "duration": 19,
    "start_time": "2021-09-17T19:25:46.431Z"
   },
   {
    "duration": 16,
    "start_time": "2021-09-17T19:25:46.453Z"
   },
   {
    "duration": 784,
    "start_time": "2021-09-17T19:25:46.472Z"
   },
   {
    "duration": 100,
    "start_time": "2021-09-17T19:25:47.258Z"
   },
   {
    "duration": 7,
    "start_time": "2021-09-17T19:25:47.360Z"
   },
   {
    "duration": 48,
    "start_time": "2021-09-17T19:25:47.370Z"
   },
   {
    "duration": 102,
    "start_time": "2021-09-17T19:25:47.420Z"
   },
   {
    "duration": 592,
    "start_time": "2021-09-17T19:25:47.525Z"
   },
   {
    "duration": 6,
    "start_time": "2021-09-17T19:25:48.120Z"
   },
   {
    "duration": 20,
    "start_time": "2021-09-17T19:25:48.129Z"
   },
   {
    "duration": 1094,
    "start_time": "2021-09-17T19:25:48.151Z"
   },
   {
    "duration": 7,
    "start_time": "2021-09-17T19:25:49.249Z"
   },
   {
    "duration": 459,
    "start_time": "2021-09-17T19:25:49.261Z"
   },
   {
    "duration": 111,
    "start_time": "2021-09-17T19:25:49.723Z"
   },
   {
    "duration": 411,
    "start_time": "2021-09-17T19:25:49.837Z"
   },
   {
    "duration": 406,
    "start_time": "2021-09-17T19:25:50.251Z"
   },
   {
    "duration": 421,
    "start_time": "2021-09-17T19:25:50.660Z"
   },
   {
    "duration": 412,
    "start_time": "2021-09-17T19:25:51.084Z"
   },
   {
    "duration": 422,
    "start_time": "2021-09-17T19:25:51.499Z"
   },
   {
    "duration": 399,
    "start_time": "2021-09-17T19:25:51.924Z"
   },
   {
    "duration": 393,
    "start_time": "2021-09-17T19:25:52.326Z"
   },
   {
    "duration": 395,
    "start_time": "2021-09-17T19:25:52.722Z"
   },
   {
    "duration": 11,
    "start_time": "2021-09-17T19:25:53.120Z"
   },
   {
    "duration": 555,
    "start_time": "2021-09-17T19:25:53.135Z"
   },
   {
    "duration": 484,
    "start_time": "2021-09-17T19:25:53.693Z"
   },
   {
    "duration": 474,
    "start_time": "2021-09-17T19:25:54.180Z"
   },
   {
    "duration": 676,
    "start_time": "2021-09-17T19:25:54.656Z"
   },
   {
    "duration": 11,
    "start_time": "2021-09-17T19:25:55.334Z"
   },
   {
    "duration": 16,
    "start_time": "2021-09-17T19:25:55.348Z"
   },
   {
    "duration": 56,
    "start_time": "2021-09-17T19:25:55.367Z"
   },
   {
    "duration": 10,
    "start_time": "2021-09-17T19:25:55.426Z"
   },
   {
    "duration": 17,
    "start_time": "2021-09-17T19:25:55.438Z"
   },
   {
    "duration": 11,
    "start_time": "2021-09-17T19:25:55.458Z"
   },
   {
    "duration": 47,
    "start_time": "2021-09-17T19:25:55.471Z"
   }
  ],
  "kernelspec": {
   "display_name": "Python 3",
   "language": "python",
   "name": "python3"
  },
  "language_info": {
   "codemirror_mode": {
    "name": "ipython",
    "version": 3
   },
   "file_extension": ".py",
   "mimetype": "text/x-python",
   "name": "python",
   "nbconvert_exporter": "python",
   "pygments_lexer": "ipython3",
   "version": "3.8.8"
  },
  "toc": {
   "base_numbering": 1,
   "nav_menu": {},
   "number_sections": true,
   "sideBar": true,
   "skip_h1_title": true,
   "title_cell": "Table of Contents",
   "title_sidebar": "Contents",
   "toc_cell": false,
   "toc_position": {},
   "toc_section_display": true,
   "toc_window_display": false
  }
 },
 "nbformat": 4,
 "nbformat_minor": 2
}
